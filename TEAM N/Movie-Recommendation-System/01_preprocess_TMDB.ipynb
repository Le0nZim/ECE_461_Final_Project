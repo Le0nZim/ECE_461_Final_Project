{
 "cells": [
  {
   "cell_type": "code",
   "execution_count": 2,
   "id": "initial_id",
   "metadata": {
    "ExecuteTime": {
     "end_time": "2023-12-20T20:11:41.759543200Z",
     "start_time": "2023-12-20T20:11:41.757030800Z"
    },
    "collapsed": true
   },
   "outputs": [],
   "source": [
    "import pandas as pd\n",
    "from ast import literal_eval\n",
    "from sklearn.feature_extraction.text import TfidfVectorizer\n",
    "from nltk.stem.porter import PorterStemmer\n",
    "from unidecode import unidecode\n",
    "import unicodedata\n",
    "import string\n",
    "import re"
   ]
  },
  {
   "cell_type": "code",
   "execution_count": 3,
   "id": "4643a69d22483207",
   "metadata": {
    "ExecuteTime": {
     "end_time": "2023-12-20T20:11:42.267549500Z",
     "start_time": "2023-12-20T20:11:41.762546800Z"
    },
    "collapsed": false
   },
   "outputs": [
    {
     "data": {
      "text/html": [
       "<div>\n",
       "<style scoped>\n",
       "    .dataframe tbody tr th:only-of-type {\n",
       "        vertical-align: middle;\n",
       "    }\n",
       "\n",
       "    .dataframe tbody tr th {\n",
       "        vertical-align: top;\n",
       "    }\n",
       "\n",
       "    .dataframe thead th {\n",
       "        text-align: right;\n",
       "    }\n",
       "</style>\n",
       "<table border=\"1\" class=\"dataframe\">\n",
       "  <thead>\n",
       "    <tr style=\"text-align: right;\">\n",
       "      <th></th>\n",
       "      <th>genres</th>\n",
       "      <th>keywords</th>\n",
       "      <th>overview</th>\n",
       "      <th>popularity</th>\n",
       "      <th>release_date</th>\n",
       "      <th>tagline</th>\n",
       "      <th>title</th>\n",
       "      <th>vote_average</th>\n",
       "      <th>vote_count</th>\n",
       "      <th>cast</th>\n",
       "      <th>crew</th>\n",
       "    </tr>\n",
       "  </thead>\n",
       "  <tbody>\n",
       "    <tr>\n",
       "      <th>0</th>\n",
       "      <td>[{\"id\": 28, \"name\": \"Action\"}, {\"id\": 12, \"nam...</td>\n",
       "      <td>[{\"id\": 1463, \"name\": \"culture clash\"}, {\"id\":...</td>\n",
       "      <td>In the 22nd century, a paraplegic Marine is di...</td>\n",
       "      <td>150.437577</td>\n",
       "      <td>10-12-2009</td>\n",
       "      <td>Enter the World of Pandora.</td>\n",
       "      <td>Avatar</td>\n",
       "      <td>7.2</td>\n",
       "      <td>11800</td>\n",
       "      <td>[{\"cast_id\": 242, \"character\": \"Jake Sully\", \"...</td>\n",
       "      <td>[{\"credit_id\": \"52fe48009251416c750aca23\", \"de...</td>\n",
       "    </tr>\n",
       "    <tr>\n",
       "      <th>1</th>\n",
       "      <td>[{\"id\": 12, \"name\": \"Adventure\"}, {\"id\": 14, \"...</td>\n",
       "      <td>[{\"id\": 270, \"name\": \"ocean\"}, {\"id\": 726, \"na...</td>\n",
       "      <td>Captain Barbossa, long believed to be dead, ha...</td>\n",
       "      <td>139.082615</td>\n",
       "      <td>19-05-2007</td>\n",
       "      <td>At the end of the world, the adventure begins.</td>\n",
       "      <td>Pirates of the Caribbean: At World's End</td>\n",
       "      <td>6.9</td>\n",
       "      <td>4500</td>\n",
       "      <td>[{\"cast_id\": 4, \"character\": \"Captain Jack Spa...</td>\n",
       "      <td>[{\"credit_id\": \"52fe4232c3a36847f800b579\", \"de...</td>\n",
       "    </tr>\n",
       "  </tbody>\n",
       "</table>\n",
       "</div>"
      ],
      "text/plain": [
       "                                              genres  \\\n",
       "0  [{\"id\": 28, \"name\": \"Action\"}, {\"id\": 12, \"nam...   \n",
       "1  [{\"id\": 12, \"name\": \"Adventure\"}, {\"id\": 14, \"...   \n",
       "\n",
       "                                            keywords  \\\n",
       "0  [{\"id\": 1463, \"name\": \"culture clash\"}, {\"id\":...   \n",
       "1  [{\"id\": 270, \"name\": \"ocean\"}, {\"id\": 726, \"na...   \n",
       "\n",
       "                                            overview  popularity release_date  \\\n",
       "0  In the 22nd century, a paraplegic Marine is di...  150.437577   10-12-2009   \n",
       "1  Captain Barbossa, long believed to be dead, ha...  139.082615   19-05-2007   \n",
       "\n",
       "                                          tagline  \\\n",
       "0                     Enter the World of Pandora.   \n",
       "1  At the end of the world, the adventure begins.   \n",
       "\n",
       "                                      title  vote_average  vote_count  \\\n",
       "0                                    Avatar           7.2       11800   \n",
       "1  Pirates of the Caribbean: At World's End           6.9        4500   \n",
       "\n",
       "                                                cast  \\\n",
       "0  [{\"cast_id\": 242, \"character\": \"Jake Sully\", \"...   \n",
       "1  [{\"cast_id\": 4, \"character\": \"Captain Jack Spa...   \n",
       "\n",
       "                                                crew  \n",
       "0  [{\"credit_id\": \"52fe48009251416c750aca23\", \"de...  \n",
       "1  [{\"credit_id\": \"52fe4232c3a36847f800b579\", \"de...  "
      ]
     },
     "execution_count": 3,
     "metadata": {},
     "output_type": "execute_result"
    }
   ],
   "source": [
    "movies = pd.read_csv(\"data/movies_merged.csv\")\n",
    "movies.head(2)"
   ]
  },
  {
   "cell_type": "code",
   "execution_count": 4,
   "id": "b15aa93912240b04",
   "metadata": {
    "ExecuteTime": {
     "end_time": "2023-12-20T20:11:42.268549900Z",
     "start_time": "2023-12-20T20:11:42.261117Z"
    },
    "collapsed": false
   },
   "outputs": [],
   "source": [
    "unique_genres = list()\n",
    "def str_to_obj(s, key, update_genres=False):\n",
    "    list_of_dictionaries = literal_eval(s)\n",
    "    \n",
    "    key_items = list()\n",
    "    for item in list_of_dictionaries:\n",
    "        key_items.append(item[key].lower())\n",
    "    \n",
    "    if update_genres:\n",
    "        unique_genres.extend(key_items)\n",
    "    return \" \".join(key_items)\n",
    "\n",
    "def get_director(s):\n",
    "    list_of_dictionaries = literal_eval(s)\n",
    "\n",
    "    for item in list_of_dictionaries:\n",
    "        if item[\"job\"] == \"Director\":\n",
    "            return item[\"name\"].replace(' ', '_').lower()\n",
    "        \n",
    "def get_cast(s):\n",
    "    list_of_dictionaries =literal_eval(s)\n",
    "    key_items = list()\n",
    "    for item in list_of_dictionaries:\n",
    "        name = item[\"name\"].lower()\n",
    "        name = name.replace(' ', '_')\n",
    "        name.strip()\n",
    "        key_items.append(name)\n",
    "    return \" \".join(key_items)\n",
    "\n",
    "def convert_to_unicode(df):\n",
    "    for col in df.columns:\n",
    "        if df[col].dtype == \"int64\" or df[col].dtype == \"float64\":\n",
    "            continue\n",
    "        df[col] = df[col].apply(lambda text: unidecode(unicodedata.normalize('NFKD', text)))\n",
    "\n",
    "def remove_punctuation(s):\n",
    "    translator = str.maketrans(string.punctuation, ' ' * len(string.punctuation))\n",
    "    processed_string = s.translate(translator)\n",
    "    return re.sub(r\"\\s+\", ' ', processed_string.lower())"
   ]
  },
  {
   "cell_type": "code",
   "execution_count": 5,
   "id": "ca7cc0eb91870a17",
   "metadata": {
    "ExecuteTime": {
     "end_time": "2023-12-20T20:11:53.285825200Z",
     "start_time": "2023-12-20T20:11:42.271551900Z"
    },
    "collapsed": false
   },
   "outputs": [],
   "source": [
    "convert_to_unicode(movies)\n",
    "\n",
    "movies.keywords = movies.keywords.apply(lambda x:str_to_obj(x, \"name\"))\n",
    "movies.genres = movies.genres.apply(lambda x:str_to_obj(x, \"name\", True))\n",
    "\n",
    "movies.crew = movies.crew.apply(get_director)\n",
    "movies.rename(columns={'crew': 'director'}, inplace=True)\n",
    "\n",
    "movies.cast = movies.cast.apply(get_cast)"
   ]
  },
  {
   "cell_type": "code",
   "execution_count": 6,
   "id": "b7233854",
   "metadata": {},
   "outputs": [
    {
     "data": {
      "text/plain": [
       "{'action',\n",
       " 'adventure',\n",
       " 'animation',\n",
       " 'comedy',\n",
       " 'crime',\n",
       " 'documentary',\n",
       " 'drama',\n",
       " 'family',\n",
       " 'fantasy',\n",
       " 'foreign',\n",
       " 'history',\n",
       " 'horror',\n",
       " 'music',\n",
       " 'mystery',\n",
       " 'romance',\n",
       " 'science fiction',\n",
       " 'thriller',\n",
       " 'tv movie',\n",
       " 'war',\n",
       " 'western'}"
      ]
     },
     "execution_count": 6,
     "metadata": {},
     "output_type": "execute_result"
    }
   ],
   "source": [
    "unique_genres = set(sorted(unique_genres))\n",
    "unique_genres"
   ]
  },
  {
   "cell_type": "code",
   "execution_count": 7,
   "id": "6a132286",
   "metadata": {},
   "outputs": [],
   "source": [
    "movies.overview = movies.overview.apply(remove_punctuation)\n",
    "movies.tagline = movies.tagline.apply(remove_punctuation)\n",
    "title_processed = movies.title.apply(remove_punctuation)\n",
    "movies.keywords = movies.keywords.apply(remove_punctuation)"
   ]
  },
  {
   "cell_type": "code",
   "execution_count": 8,
   "id": "3b41f890",
   "metadata": {},
   "outputs": [],
   "source": [
    "movies[\"all_keywords\"] = movies[\"keywords\"] + ' ' + movies[\"overview\"] + ' ' + movies[\"tagline\"] + ' ' + title_processed"
   ]
  },
  {
   "cell_type": "code",
   "execution_count": 9,
   "id": "29d0ff42",
   "metadata": {},
   "outputs": [
    {
     "name": "stdout",
     "output_type": "stream",
     "text": [
      "<class 'pandas.core.frame.DataFrame'>\n",
      "RangeIndex: 4807 entries, 0 to 4806\n",
      "Data columns (total 12 columns):\n",
      " #   Column        Non-Null Count  Dtype  \n",
      "---  ------        --------------  -----  \n",
      " 0   genres        4807 non-null   object \n",
      " 1   keywords      4807 non-null   object \n",
      " 2   overview      4807 non-null   object \n",
      " 3   popularity    4807 non-null   float64\n",
      " 4   release_date  4807 non-null   object \n",
      " 5   tagline       4807 non-null   object \n",
      " 6   title         4807 non-null   object \n",
      " 7   vote_average  4807 non-null   float64\n",
      " 8   vote_count    4807 non-null   int64  \n",
      " 9   cast          4807 non-null   object \n",
      " 10  director      4778 non-null   object \n",
      " 11  all_keywords  4807 non-null   object \n",
      "dtypes: float64(2), int64(1), object(9)\n",
      "memory usage: 450.8+ KB\n"
     ]
    }
   ],
   "source": [
    "movies.info()"
   ]
  },
  {
   "cell_type": "code",
   "execution_count": 10,
   "id": "e9c160f4",
   "metadata": {},
   "outputs": [],
   "source": [
    "ps = PorterStemmer()\n",
    "def stem(text):\n",
    "    # if not isinstance(text, str):\n",
    "    #     return str(text)\n",
    "\n",
    "    stemmed_tokens = list()\n",
    "    for word in text.split():\n",
    "        if re.match(r'^-?\\d+(?:\\.\\d+)?$', word):\n",
    "            stemmed_tokens.append(word)\n",
    "        else:\n",
    "            stemmed_tokens.append(ps.stem(word))\n",
    "    return ' '.join(stemmed_tokens)\n",
    "    \n",
    "movies[\"all_keywords\"] = movies[\"all_keywords\"].apply(stem)"
   ]
  },
  {
   "cell_type": "code",
   "execution_count": 11,
   "id": "2e2bab928b59f9ff",
   "metadata": {
    "ExecuteTime": {
     "end_time": "2023-12-20T20:11:53.412559700Z",
     "start_time": "2023-12-20T20:11:53.286826800Z"
    },
    "collapsed": false
   },
   "outputs": [],
   "source": [
    "movies.fillna(' ', inplace=True)\n",
    "movies.to_csv(\"data/movies_processed.csv\", index=False)"
   ]
  },
  {
   "cell_type": "code",
   "execution_count": 13,
   "id": "f5ee3181",
   "metadata": {},
   "outputs": [
    {
     "data": {
      "text/plain": [
       "Text(0, 0.5, 'Movie Title')"
      ]
     },
     "execution_count": 13,
     "metadata": {},
     "output_type": "execute_result"
    },
    {
     "data": {
      "image/png": "[encoded data removed]",
      "text/plain": [
       "<Figure size 1200x600 with 1 Axes>"
      ]
     },
     "metadata": {},
     "output_type": "display_data"
    }
   ],
   "source": [
    "import seaborn as sns\n",
    "import matplotlib.pyplot as plt\n",
    "top_movies = movies.sort_values(by='popularity', ascending=False).head(15)\n",
    "\n",
    "plt.figure(figsize=(12, 6))\n",
    "sns.barplot(x='popularity', y='title', data=top_movies, palette='viridis')\n",
    "plt.title('Top 10 Most Popular Movies')\n",
    "plt.xlabel('Popularity')\n",
    "plt.ylabel('Movie Title')"
   ]
  }
 ],
 "metadata": {
  "kernelspec": {
   "display_name": "Python 3",
   "language": "python",
   "name": "python3"
  },
  "language_info": {
   "codemirror_mode": {
    "name": "ipython",
    "version": 3
   },
   "file_extension": ".py",
   "mimetype": "text/x-python",
   "name": "python",
   "nbconvert_exporter": "python",
   "pygments_lexer": "ipython3",
   "version": "3.10.7"
  }
 },
 "nbformat": 4,
 "nbformat_minor": 5
}
