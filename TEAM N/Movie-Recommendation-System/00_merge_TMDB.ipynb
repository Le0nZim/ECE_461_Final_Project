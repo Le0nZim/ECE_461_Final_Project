{
 "cells": [
  {
   "cell_type": "code",
   "execution_count": 3,
   "metadata": {
    "ExecuteTime": {
     "end_time": "2023-12-20T19:57:56.755056200Z",
     "start_time": "2023-12-20T19:57:56.748988Z"
    }
   },
   "outputs": [],
   "source": [
    "import pandas as pd"
   ]
  },
  {
   "cell_type": "code",
   "execution_count": 4,
   "metadata": {
    "ExecuteTime": {
     "end_time": "2023-12-20T19:57:57.204979300Z",
     "start_time": "2023-12-20T19:57:56.753054300Z"
    }
   },
   "outputs": [],
   "source": [
    "credits_df = pd.read_csv(\"data/credits.csv\", usecols=[\"title\", \"cast\", \"crew\"])\n",
    "movies_df = pd.read_csv(\"data/movies.csv\", usecols=[\"genres\", \"keywords\", \"overview\", \"popularity\", \"release_date\", \"tagline\", \"title\", \"vote_average\", \"vote_count\"])"
   ]
  },
  {
   "cell_type": "code",
   "execution_count": 7,
   "metadata": {},
   "outputs": [
    {
     "data": {
      "text/plain": [
       "((4803, 9), (4803, 3))"
      ]
     },
     "execution_count": 7,
     "metadata": {},
     "output_type": "execute_result"
    }
   ],
   "source": [
    "movies_df.shape, credits_df.shape"
   ]
  },
  {
   "cell_type": "code",
   "execution_count": 8,
   "metadata": {},
   "outputs": [
    {
     "data": {
      "text/plain": [
       "Index(['genres', 'keywords', 'overview', 'popularity', 'release_date',\n",
       "       'tagline', 'title', 'vote_average', 'vote_count'],\n",
       "      dtype='object')"
      ]
     },
     "execution_count": 8,
     "metadata": {},
     "output_type": "execute_result"
    }
   ],
   "source": [
    "movies_df.columns"
   ]
  },
  {
   "cell_type": "code",
   "execution_count": 9,
   "metadata": {},
   "outputs": [
    {
     "data": {
      "text/plain": [
       "Index(['title', 'cast', 'crew'], dtype='object')"
      ]
     },
     "execution_count": 9,
     "metadata": {},
     "output_type": "execute_result"
    }
   ],
   "source": [
    "credits_df.columns"
   ]
  },
  {
   "cell_type": "code",
   "execution_count": 25,
   "metadata": {
    "ExecuteTime": {
     "end_time": "2023-12-20T19:57:57.266700Z",
     "start_time": "2023-12-20T19:57:57.216701600Z"
    }
   },
   "outputs": [
    {
     "name": "stdout",
     "output_type": "stream",
     "text": [
      "genres          0\n",
      "keywords        0\n",
      "overview        0\n",
      "popularity      0\n",
      "release_date    1\n",
      "tagline         0\n",
      "title           0\n",
      "vote_average    0\n",
      "vote_count      0\n",
      "cast            0\n",
      "crew            0\n",
      "dtype: int64\n"
     ]
    }
   ],
   "source": [
    "movies = movies_df.merge(credits_df, on=\"title\")\n",
    "movies[\"tagline\"].fillna(\" \", inplace=True)\n",
    "movies[\"overview\"].fillna(\" \", inplace=True)\n",
    "movies[\"genres\"].fillna(\" \", inplace=True)\n",
    "movies[\"keywords\"].fillna(\" \", inplace=True)\n",
    "movies[\"tagline\"].fillna(\" \", inplace=True)\n",
    "movies[\"cast\"].fillna(\" \", inplace=True)\n",
    "print(movies.isna().sum())\n",
    "movies.dropna(inplace=True)"
   ]
  },
  {
   "cell_type": "code",
   "execution_count": 26,
   "metadata": {
    "ExecuteTime": {
     "end_time": "2023-12-20T19:57:57.267700900Z",
     "start_time": "2023-12-20T19:57:57.233168700Z"
    },
    "collapsed": false
   },
   "outputs": [
    {
     "name": "stdout",
     "output_type": "stream",
     "text": [
      "<class 'pandas.core.frame.DataFrame'>\n",
      "Int64Index: 4807 entries, 0 to 4807\n",
      "Data columns (total 11 columns):\n",
      " #   Column        Non-Null Count  Dtype  \n",
      "---  ------        --------------  -----  \n",
      " 0   genres        4807 non-null   object \n",
      " 1   keywords      4807 non-null   object \n",
      " 2   overview      4807 non-null   object \n",
      " 3   popularity    4807 non-null   float64\n",
      " 4   release_date  4807 non-null   object \n",
      " 5   tagline       4807 non-null   object \n",
      " 6   title         4807 non-null   object \n",
      " 7   vote_average  4807 non-null   float64\n",
      " 8   vote_count    4807 non-null   int64  \n",
      " 9   cast          4807 non-null   object \n",
      " 10  crew          4807 non-null   object \n",
      "dtypes: float64(2), int64(1), object(8)\n",
      "memory usage: 450.7+ KB\n"
     ]
    }
   ],
   "source": [
    "movies.info()"
   ]
  },
  {
   "cell_type": "code",
   "execution_count": 27,
   "metadata": {
    "ExecuteTime": {
     "end_time": "2023-12-20T19:57:58.172159600Z",
     "start_time": "2023-12-20T19:57:57.257692700Z"
    },
    "collapsed": false
   },
   "outputs": [],
   "source": [
    "movies.to_csv(\"data/movies_merged.csv\", index=False)"
   ]
  }
 ],
 "metadata": {
  "kernelspec": {
   "display_name": "Python 3",
   "language": "python",
   "name": "python3"
  },
  "language_info": {
   "codemirror_mode": {
    "name": "ipython",
    "version": 3
   },
   "file_extension": ".py",
   "mimetype": "text/x-python",
   "name": "python",
   "nbconvert_exporter": "python",
   "pygments_lexer": "ipython3",
   "version": "3.10.7"
  }
 },
 "nbformat": 4,
 "nbformat_minor": 2
}
