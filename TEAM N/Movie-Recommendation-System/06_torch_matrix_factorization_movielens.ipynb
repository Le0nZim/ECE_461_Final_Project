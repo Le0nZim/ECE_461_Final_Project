{
  "cells": [
    {
      "cell_type": "markdown",
      "metadata": {
        "id": "13fLl4J4lB85"
      },
      "source": [
        "Collaborative filtering >> Content based filtering\n",
        "\n",
        "Look at relationships between customers and find the products recommended to them. Identify latent factor matrices for customers and products. Recreate rating matrix."
      ]
    },
    {
      "cell_type": "markdown",
      "metadata": {
        "id": "YA1KsDLYlB86"
      },
      "source": [
        "# Section 0: Imports and Dataframes"
      ]
    },
    {
      "cell_type": "code",
      "execution_count": 18,
      "metadata": {
        "colab": {
          "base_uri": "https://localhost:8080/"
        },
        "id": "-8NepyRJlB86",
        "outputId": "a0408e20-0fb7-4a57-bae2-31acab84c5d2"
      },
      "outputs": [
        {
          "data": {
            "text/plain": [
              "device(type='cpu')"
            ]
          },
          "execution_count": 18,
          "metadata": {},
          "output_type": "execute_result"
        }
      ],
      "source": [
        "import pandas as pd\n",
        "import numpy as np\n",
        "import torch\n",
        "from tqdm import tqdm_notebook as tqdm\n",
        "from torch.utils.data.dataset import Dataset\n",
        "from torch.utils.data import DataLoader\n",
        "import matplotlib.pyplot as plt\n",
        "import joblib\n",
        "\n",
        "from sklearn.cluster import KMeans\n",
        "\n",
        "from sklearn.preprocessing import LabelEncoder\n",
        "DEVICE = torch.device(\"cuda\" if torch.cuda.is_available() else \"cpu\")\n",
        "DEVICE"
      ]
    },
    {
      "cell_type": "code",
      "execution_count": 19,
      "metadata": {
        "colab": {
          "base_uri": "https://localhost:8080/"
        },
        "id": "XAtXupjJlB87",
        "outputId": "50e0cc23-3410-431e-9c84-9712761a38cf"
      },
      "outputs": [
        {
          "data": {
            "text/plain": [
              "((9742, 3), (100836, 3))"
            ]
          },
          "execution_count": 19,
          "metadata": {},
          "output_type": "execute_result"
        }
      ],
      "source": [
        "try:\n",
        "    from google.colab import drive\n",
        "    drive.mount('/content/drive')\n",
        "    ratings_df = pd.read_csv(\"/content/drive/MyDrive/datasets/ml_project_data/ml-latest-small/ratings.csv\", usecols=[\"userId\", \"movieId\", \"rating\"])\n",
        "    movies_df = pd.read_csv(\"/content/drive/MyDrive/datasets/ml_project_data/ml-latest-small/movies.csv\")\n",
        "\n",
        "except:\n",
        "    movies_df = pd.read_csv(\"data/ml-latest-small/movies.csv\")\n",
        "    ratings_df = pd.read_csv(\"data/ml-latest-small/ratings.csv\", usecols=[\"userId\", \"movieId\", \"rating\"])\n",
        "movies_df.shape, ratings_df.shape"
      ]
    },
    {
      "cell_type": "code",
      "execution_count": 20,
      "metadata": {
        "colab": {
          "base_uri": "https://localhost:8080/"
        },
        "id": "Cl9MOFBBlB87",
        "outputId": "55e3c0ea-4f0c-4ab9-c755-722771dd54d0"
      },
      "outputs": [
        {
          "data": {
            "text/plain": [
              "(610, 9724)"
            ]
          },
          "execution_count": 20,
          "metadata": {},
          "output_type": "execute_result"
        }
      ],
      "source": [
        "n_users = ratings_df.userId.nunique()\n",
        "n_movies = ratings_df.movieId.nunique()\n",
        "n_users, n_movies"
      ]
    },
    {
      "cell_type": "code",
      "execution_count": 21,
      "metadata": {
        "colab": {
          "base_uri": "https://localhost:8080/",
          "height": 81
        },
        "id": "xEetkO-flB87",
        "outputId": "44985a6f-b47e-4dae-8341-0fe06726530f"
      },
      "outputs": [
        {
          "data": {
            "text/html": [
              "<div>\n",
              "<style scoped>\n",
              "    .dataframe tbody tr th:only-of-type {\n",
              "        vertical-align: middle;\n",
              "    }\n",
              "\n",
              "    .dataframe tbody tr th {\n",
              "        vertical-align: top;\n",
              "    }\n",
              "\n",
              "    .dataframe thead th {\n",
              "        text-align: right;\n",
              "    }\n",
              "</style>\n",
              "<table border=\"1\" class=\"dataframe\">\n",
              "  <thead>\n",
              "    <tr style=\"text-align: right;\">\n",
              "      <th></th>\n",
              "      <th>userId</th>\n",
              "      <th>movieId</th>\n",
              "      <th>rating</th>\n",
              "    </tr>\n",
              "  </thead>\n",
              "  <tbody>\n",
              "    <tr>\n",
              "      <th>0</th>\n",
              "      <td>0</td>\n",
              "      <td>0</td>\n",
              "      <td>4.0</td>\n",
              "    </tr>\n",
              "  </tbody>\n",
              "</table>\n",
              "</div>"
            ],
            "text/plain": [
              "   userId  movieId  rating\n",
              "0       0        0     4.0"
            ]
          },
          "execution_count": 21,
          "metadata": {},
          "output_type": "execute_result"
        }
      ],
      "source": [
        "user_encoder = LabelEncoder()\n",
        "movie_encoder = LabelEncoder()\n",
        "ratings_df.userId = user_encoder.fit_transform(ratings_df.userId)\n",
        "ratings_df.movieId = movie_encoder.fit_transform(ratings_df.movieId)\n",
        "ratings_df.head(1)"
      ]
    },
    {
      "cell_type": "markdown",
      "metadata": {
        "id": "w3YhQdtxlB87"
      },
      "source": [
        "# Section 1: The `ratings_dataset` class.\n",
        "\n",
        "The `ratings_dataset` class inherits `torch.utils.data.Dataset`. It requires at least 3 methods to operate.\n",
        "\n",
        "- `__init()__`: Initializes the dataset. Any action of preprocessing the user sees fit can be done in here.\n",
        "In this case we encode the users and movies with `LabelEncoder()`, keep only the required columns and convert everything\n",
        "to a `torch.tensor`.\n",
        "- `__len__()`: Simply returns the len() of the dataset\n",
        "- `__getitem()__`: Returns an item from the dataset. This is a powerful tool since we can handle this function as we see fit and convert the data to any form we need. In this case, all data is converted to a tensor of type either `torch.long` or `torch.float32`."
      ]
    },
    {
      "cell_type": "code",
      "execution_count": 22,
      "metadata": {
        "id": "GGVUzsIxlB87"
      },
      "outputs": [],
      "source": [
        "class ratings_dataset(Dataset):\n",
        "    def __init__(self, dataframe):\n",
        "\n",
        "        self.x = dataframe.drop(columns=[\"rating\"]).values\n",
        "        self.y = dataframe.drop(columns=[\"userId\", \"movieId\"]).values\n",
        "\n",
        "        self.x = torch.tensor(self.x, dtype=torch.long, device=DEVICE)\n",
        "        self.y = torch.tensor(self.y, dtype=torch.float32, device=DEVICE)\n",
        "        self.y = self.y.flatten()\n",
        "        self.size = len(dataframe)\n",
        "\n",
        "    def __len__(self):\n",
        "        return self.size\n",
        "\n",
        "    def __getitem__(self, index):\n",
        "        return self.x[index], self.y[index]\n",
        "\n",
        "ratings = ratings_dataset(ratings_df)\n",
        "train_loader = DataLoader(dataset=ratings, batch_size=64, shuffle=False)"
      ]
    },
    {
      "cell_type": "code",
      "execution_count": 23,
      "metadata": {
        "colab": {
          "base_uri": "https://localhost:8080/"
        },
        "id": "Z97_g0-MlB87",
        "outputId": "cdcca27e-948b-4a97-934c-5e125b1456c0"
      },
      "outputs": [
        {
          "data": {
            "text/plain": [
              "(tensor([0, 0]), tensor(4.))"
            ]
          },
          "execution_count": 23,
          "metadata": {},
          "output_type": "execute_result"
        }
      ],
      "source": [
        "ratings[0]"
      ]
    },
    {
      "cell_type": "code",
      "execution_count": 24,
      "metadata": {
        "id": "6olpDaARlB88"
      },
      "outputs": [],
      "source": [
        "# for x, y in train_loader:\n",
        "#     print(x)\n",
        "#     print(y)\n",
        "#     break"
      ]
    },
    {
      "cell_type": "markdown",
      "metadata": {
        "id": "82OXL_BmlB88"
      },
      "source": [
        "# Section 2: The `matrix_factorization` class.\n",
        "\n",
        "We create two embeddings that represent the *latent_factors* of the users and movies. These represent the latent factors that make up the *user* and *item* matrices in matrix decomposition. The embedding size is a hyperparameter that can be tuned.\n",
        "\n",
        "The `forward()` method of this NN simply returns the dot product of the latent factors. This represents the rating of a user to a movie."
      ]
    },
    {
      "cell_type": "code",
      "execution_count": 25,
      "metadata": {
        "colab": {
          "base_uri": "https://localhost:8080/"
        },
        "id": "9mO7aWRXlB88",
        "outputId": "ac240105-95bf-41dc-effc-1044754278bf"
      },
      "outputs": [],
      "source": [
        "class matrix_factorization(torch.nn.Module):\n",
        "    def __init__(self, n_users, n_movies, n_factors=64):\n",
        "        super().__init__()\n",
        "        self.user_factors = torch.nn.Embedding(n_users, n_factors, device=DEVICE)\n",
        "        self.movie_factors = torch.nn.Embedding(n_movies, n_factors, device=DEVICE)\n",
        "\n",
        "        self.user_factors.weight.data.uniform_(-0.5, 0.5)\n",
        "        self.movie_factors.weight.data.uniform_(-0.5, 0.5)\n",
        "\n",
        "    def forward(self, data):\n",
        "        users, items = data[:,0], data[:,1]\n",
        "        return (self.user_factors(users) * self.movie_factors(items)).sum(1)"
      ]
    },
    {
      "cell_type": "markdown",
      "metadata": {
        "id": "6YYLcU-ZlB88"
      },
      "source": [
        "Train the model. Use the classic Adam Optimizer, the MSELoss function which is popular in regression problems and perform the standard PyTorch training loop."
      ]
    },
    {
      "cell_type": "code",
      "execution_count": 26,
      "metadata": {
        "colab": {
          "base_uri": "https://localhost:8080/"
        },
        "id": "xfRT2XZ1lB88",
        "outputId": "c512d8af-7872-435a-e2c1-cb133ff00427"
      },
      "outputs": [
        {
          "name": "stdout",
          "output_type": "stream",
          "text": [
            "Epoch: 0, MSELoss: 16.32\n"
          ]
        },
        {
          "ename": "KeyboardInterrupt",
          "evalue": "",
          "output_type": "error",
          "traceback": [
            "\u001b[1;31m---------------------------------------------------------------------------\u001b[0m",
            "\u001b[1;31mKeyboardInterrupt\u001b[0m                         Traceback (most recent call last)",
            "Cell \u001b[1;32mIn[26], line 18\u001b[0m\n\u001b[0;32m     16\u001b[0m     loss \u001b[38;5;241m=\u001b[39m loss_fn(output, target)\n\u001b[0;32m     17\u001b[0m     loss\u001b[38;5;241m.\u001b[39mbackward()\n\u001b[1;32m---> 18\u001b[0m     \u001b[43moptimizer\u001b[49m\u001b[38;5;241;43m.\u001b[39;49m\u001b[43mstep\u001b[49m\u001b[43m(\u001b[49m\u001b[43m)\u001b[49m\n\u001b[0;32m     20\u001b[0m \u001b[38;5;28;01mif\u001b[39;00m epoch \u001b[38;5;241m%\u001b[39m \u001b[38;5;241m10\u001b[39m \u001b[38;5;241m==\u001b[39m \u001b[38;5;241m0\u001b[39m:\n\u001b[0;32m     21\u001b[0m     \u001b[38;5;28mprint\u001b[39m(\u001b[38;5;124mf\u001b[39m\u001b[38;5;124m\"\u001b[39m\u001b[38;5;124mEpoch: \u001b[39m\u001b[38;5;132;01m{\u001b[39;00mepoch\u001b[38;5;132;01m}\u001b[39;00m\u001b[38;5;124m, MSELoss: \u001b[39m\u001b[38;5;132;01m{\u001b[39;00mloss\u001b[38;5;241m.\u001b[39mitem()\u001b[38;5;132;01m:\u001b[39;00m\u001b[38;5;124m.2f\u001b[39m\u001b[38;5;132;01m}\u001b[39;00m\u001b[38;5;124m\"\u001b[39m)\n",
            "File \u001b[1;32mc:\\Users\\georg\\AppData\\Local\\Programs\\Python\\Python310\\lib\\site-packages\\torch\\optim\\optimizer.py:269\u001b[0m, in \u001b[0;36mOptimizer.profile_hook_step.<locals>.wrapper\u001b[1;34m(*args, **kwargs)\u001b[0m\n\u001b[0;32m    267\u001b[0m \u001b[38;5;28mself\u001b[39m, \u001b[38;5;241m*\u001b[39m_ \u001b[38;5;241m=\u001b[39m args\n\u001b[0;32m    268\u001b[0m profile_name \u001b[38;5;241m=\u001b[39m \u001b[38;5;124m\"\u001b[39m\u001b[38;5;124mOptimizer.step#\u001b[39m\u001b[38;5;132;01m{}\u001b[39;00m\u001b[38;5;124m.step\u001b[39m\u001b[38;5;124m\"\u001b[39m\u001b[38;5;241m.\u001b[39mformat(\u001b[38;5;28mself\u001b[39m\u001b[38;5;241m.\u001b[39m\u001b[38;5;18m__class__\u001b[39m\u001b[38;5;241m.\u001b[39m\u001b[38;5;18m__name__\u001b[39m)\n\u001b[1;32m--> 269\u001b[0m \u001b[38;5;28;01mwith\u001b[39;00m torch\u001b[38;5;241m.\u001b[39mautograd\u001b[38;5;241m.\u001b[39mprofiler\u001b[38;5;241m.\u001b[39mrecord_function(profile_name):\n\u001b[0;32m    270\u001b[0m     \u001b[38;5;66;03m# call optimizer step pre hooks\u001b[39;00m\n\u001b[0;32m    271\u001b[0m     \u001b[38;5;28;01mfor\u001b[39;00m pre_hook \u001b[38;5;129;01min\u001b[39;00m chain(_global_optimizer_pre_hooks\u001b[38;5;241m.\u001b[39mvalues(), \u001b[38;5;28mself\u001b[39m\u001b[38;5;241m.\u001b[39m_optimizer_step_pre_hooks\u001b[38;5;241m.\u001b[39mvalues()):\n\u001b[0;32m    272\u001b[0m         result \u001b[38;5;241m=\u001b[39m pre_hook(\u001b[38;5;28mself\u001b[39m, args, kwargs)\n",
            "File \u001b[1;32mc:\\Users\\georg\\AppData\\Local\\Programs\\Python\\Python310\\lib\\site-packages\\torch\\autograd\\profiler.py:507\u001b[0m, in \u001b[0;36mrecord_function.__exit__\u001b[1;34m(self, exc_type, exc_value, traceback)\u001b[0m\n\u001b[0;32m    505\u001b[0m \u001b[38;5;28;01mif\u001b[39;00m \u001b[38;5;129;01mnot\u001b[39;00m torch\u001b[38;5;241m.\u001b[39mjit\u001b[38;5;241m.\u001b[39mis_scripting():\n\u001b[0;32m    506\u001b[0m     \u001b[38;5;28;01mwith\u001b[39;00m torch\u001b[38;5;241m.\u001b[39m_C\u001b[38;5;241m.\u001b[39mDisableTorchFunctionSubclass():\n\u001b[1;32m--> 507\u001b[0m         \u001b[43mtorch\u001b[49m\u001b[38;5;241;43m.\u001b[39;49m\u001b[43mops\u001b[49m\u001b[38;5;241;43m.\u001b[39;49m\u001b[43mprofiler\u001b[49m\u001b[38;5;241;43m.\u001b[39;49m\u001b[43m_record_function_exit\u001b[49m\u001b[38;5;241;43m.\u001b[39;49m\u001b[43m_RecordFunction\u001b[49m\u001b[43m(\u001b[49m\u001b[43mrecord\u001b[49m\u001b[43m)\u001b[49m\n\u001b[0;32m    508\u001b[0m \u001b[38;5;28;01melse\u001b[39;00m:\n\u001b[0;32m    509\u001b[0m     torch\u001b[38;5;241m.\u001b[39mops\u001b[38;5;241m.\u001b[39mprofiler\u001b[38;5;241m.\u001b[39m_record_function_exit(record)\n",
            "File \u001b[1;32mc:\\Users\\georg\\AppData\\Local\\Programs\\Python\\Python310\\lib\\site-packages\\torch\\_ops.py:287\u001b[0m, in \u001b[0;36mOpOverload.__call__\u001b[1;34m(self, *args, **kwargs)\u001b[0m\n\u001b[0;32m    286\u001b[0m \u001b[38;5;28;01mdef\u001b[39;00m \u001b[38;5;21m__call__\u001b[39m(\u001b[38;5;28mself\u001b[39m, \u001b[38;5;241m*\u001b[39margs, \u001b[38;5;241m*\u001b[39m\u001b[38;5;241m*\u001b[39mkwargs):\n\u001b[1;32m--> 287\u001b[0m     \u001b[38;5;28;01mreturn\u001b[39;00m \u001b[38;5;28mself\u001b[39m\u001b[38;5;241m.\u001b[39m_op(\u001b[38;5;241m*\u001b[39margs, \u001b[38;5;241m*\u001b[39m\u001b[38;5;241m*\u001b[39mkwargs \u001b[38;5;129;01mor\u001b[39;00m {})\n",
            "\u001b[1;31mKeyboardInterrupt\u001b[0m: "
          ]
        }
      ],
      "source": [
        "model = matrix_factorization(n_users, n_movies).to(DEVICE)\n",
        "model.train()\n",
        "EPOCHS = 30\n",
        "\n",
        "loss_fn = torch.nn.MSELoss()\n",
        "optimizer = torch.optim.Adam(model.parameters(), lr=0.001)\n",
        "losses = list()\n",
        "for epoch in range(EPOCHS):\n",
        "    for data, target in train_loader:\n",
        "\n",
        "        data = data.to(DEVICE)\n",
        "        target = target.to(DEVICE)\n",
        "\n",
        "        optimizer.zero_grad()\n",
        "        output = model(data)\n",
        "        loss = loss_fn(output, target)\n",
        "        loss.backward()\n",
        "        optimizer.step()\n",
        "\n",
        "    if epoch % 10 == 0:\n",
        "        print(f\"Epoch: {epoch}, MSELoss: {loss.item():.2f}\")\n",
        "        losses.append(loss.item())\n",
        "\n",
        "        # if(loss.item() < 0.05):\n",
        "        #     print(\"Early stopped training to prevent overfitting\")\n",
        "        #     break"
      ]
    },
    {
      "cell_type": "code",
      "execution_count": null,
      "metadata": {
        "colab": {
          "base_uri": "https://localhost:8080/",
          "height": 308
        },
        "id": "9hdnMJu1lB88",
        "outputId": "ec9a1d4d-96d2-4d84-9ad0-488b999a0135"
      },
      "outputs": [
        {
          "data": {
            "text/plain": [
              "[<matplotlib.lines.Line2D at 0x151fe8c6110>]"
            ]
          },
          "execution_count": 10,
          "metadata": {},
          "output_type": "execute_result"
        },
        {
          "data": {
            "image/png": "[encoded data removed]",
            "text/plain": [
              "<Figure size 300x300 with 1 Axes>"
            ]
          },
          "metadata": {},
          "output_type": "display_data"
        }
      ],
      "source": [
        "plt.figure(figsize=(3,3))\n",
        "plt.plot(losses)"
      ]
    },
    {
      "cell_type": "code",
      "execution_count": null,
      "metadata": {
        "colab": {
          "base_uri": "https://localhost:8080/",
          "height": 363
        },
        "id": "uG5dqQXOlB89",
        "outputId": "bae468e8-00d6-4067-f8a6-22ef660e21fb"
      },
      "outputs": [
        {
          "data": {
            "text/html": [
              "<div>\n",
              "<style scoped>\n",
              "    .dataframe tbody tr th:only-of-type {\n",
              "        vertical-align: middle;\n",
              "    }\n",
              "\n",
              "    .dataframe tbody tr th {\n",
              "        vertical-align: top;\n",
              "    }\n",
              "\n",
              "    .dataframe thead th {\n",
              "        text-align: right;\n",
              "    }\n",
              "</style>\n",
              "<table border=\"1\" class=\"dataframe\">\n",
              "  <thead>\n",
              "    <tr style=\"text-align: right;\">\n",
              "      <th></th>\n",
              "      <th>title</th>\n",
              "      <th>genres</th>\n",
              "    </tr>\n",
              "  </thead>\n",
              "  <tbody>\n",
              "    <tr>\n",
              "      <th>215</th>\n",
              "      <td>Hunted, The (1995)</td>\n",
              "      <td>Action</td>\n",
              "    </tr>\n",
              "    <tr>\n",
              "      <th>262</th>\n",
              "      <td>Queen Margot (Reine Margot, La) (1994)</td>\n",
              "      <td>Drama|Romance</td>\n",
              "    </tr>\n",
              "    <tr>\n",
              "      <th>323</th>\n",
              "      <td>Little Buddha (1993)</td>\n",
              "      <td>Drama</td>\n",
              "    </tr>\n",
              "    <tr>\n",
              "      <th>726</th>\n",
              "      <td>To Be or Not to Be (1942)</td>\n",
              "      <td>Comedy|Drama|War</td>\n",
              "    </tr>\n",
              "    <tr>\n",
              "      <th>744</th>\n",
              "      <td>Cat on a Hot Tin Roof (1958)</td>\n",
              "      <td>Drama</td>\n",
              "    </tr>\n",
              "    <tr>\n",
              "      <th>794</th>\n",
              "      <td>Lawnmower Man, The (1992)</td>\n",
              "      <td>Action|Horror|Sci-Fi|Thriller</td>\n",
              "    </tr>\n",
              "    <tr>\n",
              "      <th>876</th>\n",
              "      <td>Best of the Best 3: No Turning Back (1995)</td>\n",
              "      <td>Action</td>\n",
              "    </tr>\n",
              "    <tr>\n",
              "      <th>1800</th>\n",
              "      <td>Prancer (1989)</td>\n",
              "      <td>Children|Drama|Fantasy</td>\n",
              "    </tr>\n",
              "    <tr>\n",
              "      <th>1895</th>\n",
              "      <td>Night Shift (1982)</td>\n",
              "      <td>Comedy</td>\n",
              "    </tr>\n",
              "    <tr>\n",
              "      <th>5508</th>\n",
              "      <td>Hitch Hikers Guide to the Galaxy, The (1981)</td>\n",
              "      <td>Adventure|Comedy|Sci-Fi</td>\n",
              "    </tr>\n",
              "  </tbody>\n",
              "</table>\n",
              "</div>"
            ],
            "text/plain": [
              "                                             title  \\\n",
              "215                             Hunted, The (1995)   \n",
              "262         Queen Margot (Reine Margot, La) (1994)   \n",
              "323                           Little Buddha (1993)   \n",
              "726                      To Be or Not to Be (1942)   \n",
              "744                   Cat on a Hot Tin Roof (1958)   \n",
              "794                      Lawnmower Man, The (1992)   \n",
              "876     Best of the Best 3: No Turning Back (1995)   \n",
              "1800                                Prancer (1989)   \n",
              "1895                            Night Shift (1982)   \n",
              "5508  Hitch Hikers Guide to the Galaxy, The (1981)   \n",
              "\n",
              "                             genres  \n",
              "215                          Action  \n",
              "262                   Drama|Romance  \n",
              "323                           Drama  \n",
              "726                Comedy|Drama|War  \n",
              "744                           Drama  \n",
              "794   Action|Horror|Sci-Fi|Thriller  \n",
              "876                          Action  \n",
              "1800         Children|Drama|Fantasy  \n",
              "1895                         Comedy  \n",
              "5508        Adventure|Comedy|Sci-Fi  "
            ]
          },
          "execution_count": 11,
          "metadata": {},
          "output_type": "execute_result"
        }
      ],
      "source": [
        "def predict_rating(user_id:int, top_n:int):\n",
        "    user_id = user_encoder.transform([user_id])[0]\n",
        "    user_id_list = [user_id for _ in range(n_movies)]\n",
        "    movie_id_list = [item for item in ratings_df.movieId.unique()]\n",
        "\n",
        "    t = torch.tensor([user_id_list, movie_id_list], dtype=torch.long, device=DEVICE).T\n",
        "    #print(t)\n",
        "    model.eval()\n",
        "    with torch.no_grad():\n",
        "        user_predicted_ratings = model(t)\n",
        "        top_ratings = torch.topk(user_predicted_ratings, k=top_n)\n",
        "        #print(top_ratings)\n",
        "        top_ratings = top_ratings.indices.cpu().numpy()\n",
        "        top_ratings = movie_encoder.inverse_transform(top_ratings)\n",
        "\n",
        "    return movies_df[movies_df.movieId.isin(top_ratings)][[\"title\", \"genres\"]]\n",
        "\n",
        "\n",
        "predict_rating(60, 10)"
      ]
    },
    {
      "cell_type": "markdown",
      "metadata": {
        "id": "LIPnLfGZlB89"
      },
      "source": [
        "# Section 3: Cluster the movie embeddings."
      ]
    },
    {
      "cell_type": "markdown",
      "metadata": {
        "id": "n42uu83VlB89"
      },
      "source": [
        "Save the embeddings to a matrix. Showcase what the embedding of the first movie looks like. Given our model:\n",
        "```\n",
        "matrix_factorization(\n",
        "  (user_factors): Embedding(610, 64)\n",
        "  (movie_factors): Embedding(9724, 64)\n",
        ")\n",
        "```\n",
        "it is reasonable to expect each movie to have EMBEDDING_SIZE (64) embeddings per row."
      ]
    },
    {
      "cell_type": "code",
      "execution_count": null,
      "metadata": {
        "colab": {
          "base_uri": "https://localhost:8080/"
        },
        "id": "hb3Db8wnlB89",
        "outputId": "2e410416-812a-471b-ec88-339e695fd4e2"
      },
      "outputs": [
        {
          "data": {
            "text/plain": [
              "(array([[ 0.5286061 , -0.06199177,  0.35883552, -0.11988214, -0.20412496,\n",
              "         -0.24757901, -0.11256993, -0.73595935,  0.09004666, -0.4422374 ,\n",
              "          0.54935   ,  0.321797  ,  0.1921144 ,  0.02675899,  0.3607895 ,\n",
              "          0.12653929,  0.40229067, -0.36116877, -0.23179992,  0.14463869,\n",
              "         -0.08723635,  0.30041933, -0.14718015, -0.01418713, -0.5033568 ,\n",
              "          0.19663008,  0.5323825 ,  0.4586657 , -0.25711906,  0.62026757,\n",
              "         -0.6675567 , -0.43354246,  0.01046964,  0.47369248, -0.090566  ,\n",
              "         -0.45763025, -0.01674986, -0.25802723,  0.06503692, -0.10199662,\n",
              "         -0.10454887, -0.6218864 , -0.16732652,  0.47857752,  0.40437153,\n",
              "          0.22433949, -0.22396515,  0.08882612, -0.38654622, -0.18713474,\n",
              "          0.32327214,  0.25038972,  0.38356945, -0.5168702 , -0.09400435,\n",
              "         -0.48801067,  0.22002578, -0.39935398,  0.43781912,  0.37139547,\n",
              "         -0.3206398 , -0.5713507 ,  0.8583363 , -0.43904978]],\n",
              "       dtype=float32),\n",
              " (1, 64))"
            ]
          },
          "execution_count": 12,
          "metadata": {},
          "output_type": "execute_result"
        }
      ],
      "source": [
        "trained_movie_embeddings = model.movie_factors.weight.data.cpu().numpy()\n",
        "trained_movie_embeddings[:1], trained_movie_embeddings[:1].shape"
      ]
    },
    {
      "cell_type": "code",
      "execution_count": null,
      "metadata": {
        "colab": {
          "base_uri": "https://localhost:8080/"
        },
        "id": "II8Mux-BlB89",
        "outputId": "609b647c-4fef-43e6-bc0c-d3c5c2877cf4"
      },
      "outputs": [
        {
          "name": "stderr",
          "output_type": "stream",
          "text": [
            "c:\\Users\\georg\\AppData\\Local\\Programs\\Python\\Python310\\lib\\site-packages\\sklearn\\cluster\\_kmeans.py:870: FutureWarning: The default value of `n_init` will change from 10 to 'auto' in 1.4. Set the value of `n_init` explicitly to suppress the warning\n",
            "  warnings.warn(\n"
          ]
        },
        {
          "data": {
            "text/plain": [
              "['kmeans_model']"
            ]
          },
          "execution_count": 13,
          "metadata": {},
          "output_type": "execute_result"
        }
      ],
      "source": [
        "N_CLUSTERS = 25\n",
        "kmeans = KMeans(n_clusters=N_CLUSTERS).fit(trained_movie_embeddings)\n",
        "joblib.dump(kmeans, \"kmeans_model\")"
      ]
    },
    {
      "cell_type": "markdown",
      "metadata": {
        "id": "3i06eZIjlB89"
      },
      "source": [
        "Based on the embeddings, use clustering algorithms like `KMeans` to put movies into buckets (`clusters`). These clusters are formed based on the distances of the embeddings which are latent factors - relationships between movies which a human cannot interpret but a neural network can. Below we present the N_CLUSTERS (15) clusters, each containing the top 10 most popular movies."
      ]
    },
    {
      "cell_type": "code",
      "execution_count": 28,
      "metadata": {
        "colab": {
          "base_uri": "https://localhost:8080/"
        },
        "id": "L6KUO0CGlB89",
        "outputId": "f353e186-e58b-4706-88fb-edb6913bae1a"
      },
      "outputs": [
        {
          "name": "stdout",
          "output_type": "stream",
          "text": [
            "Cluster 1\n",
            "['Happy Feet (2006)']\n",
            "['Tuxedo, The (2002)']\n",
            "['102 Dalmatians (2000)']\n",
            "['Whole Ten Yards, The (2004)']\n",
            "['Jeffrey (1995)']\n",
            "['Snow Dogs (2002)']\n",
            "['Stuart Little 2 (2002)']\n",
            "['Medallion, The (2003)']\n",
            "['Garfield: The Movie (2004)']\n",
            "['Lady Vengeance (Sympathy for Lady Vengeance) (Chinjeolhan geumjassi) (2005)']\n",
            "['Dreamgirls (2006)']\n",
            "['The Lair of the White Worm (1988)']\n",
            "['House of the Dead, The (2003)']\n",
            "['Laws of Attraction (2004)']\n",
            "['Funny Games U.S. (2007)']\n",
            "['Hercules (2014)']\n",
            "['Maximum Overdrive (1986)']\n",
            "['Death Race 2000 (1975)']\n",
            "['Herbie: Fully Loaded (2005)']\n",
            "['Yours, Mine and Ours (2005)']\n",
            "\n",
            "Cluster 2\n",
            "['Chronicles of Narnia: The Lion, the Witch and the Wardrobe, The (2005)']\n",
            "['Love Actually (2003)']\n",
            "['Scary Movie (2000)']\n",
            "['Mortal Kombat (1995)']\n",
            "['Tomorrow Never Dies (1997)']\n",
            "['Batman & Robin (1997)']\n",
            "['Free Willy (1993)']\n",
            "[\"She's All That (1999)\"]\n",
            "['Deep Blue Sea (1999)']\n",
            "['How to Lose a Guy in 10 Days (2003)']\n",
            "['Richie Rich (1994)']\n",
            "[\"Lemony Snicket's A Series of Unfortunate Events (2004)\"]\n",
            "['Along Came Polly (2004)']\n",
            "['Hocus Pocus (1993)']\n",
            "['Stigmata (1999)']\n",
            "['Chronicles of Riddick, The (2004)']\n",
            "['Arlington Road (1999)']\n",
            "['The Scorpion King (2002)']\n",
            "['Man of Steel (2013)']\n",
            "['Timecop (1994)']\n",
            "\n",
            "Cluster 3\n",
            "['Lethal Weapon 2 (1989)']\n",
            "['Godfather: Part III, The (1990)']\n",
            "['Last of the Mohicans, The (1992)']\n",
            "['Looper (2012)']\n",
            "['Conan the Barbarian (1982)']\n",
            "['Spy Kids (2001)']\n",
            "[\"Charlie's Angels: Full Throttle (2003)\"]\n",
            "['Event Horizon (1997)']\n",
            "['Excalibur (1981)']\n",
            "['Rocky III (1982)']\n",
            "['Arrival, The (1996)']\n",
            "['Inspector Gadget (1999)']\n",
            "['Shallow Grave (1994)']\n",
            "['Secret Life of Walter Mitty, The (2013)']\n",
            "[\"Hard Day's Night, A (1964)\"]\n",
            "['Tron: Legacy (2010)']\n",
            "['Blade Runner 2049 (2017)']\n",
            "['Exit to Eden (1994)']\n",
            "[\"Man Who Wasn't There, The (2001)\"]\n",
            "['Lara Croft Tomb Raider: The Cradle of Life (2003)']\n",
            "\n",
            "Cluster 4\n",
            "['Sex, Lies, and Videotape (1989)']\n",
            "['Jewel of the Nile, The (1985)']\n",
            "['Predator 2 (1990)']\n",
            "['Jingle All the Way (1996)']\n",
            "['Sky Captain and the World of Tomorrow (2004)']\n",
            "['Lost Highway (1997)']\n",
            "['End of Days (1999)']\n",
            "['Texas Chainsaw Massacre, The (1974)']\n",
            "['Heaven Can Wait (1978)']\n",
            "['Hate (Haine, La) (1995)']\n",
            "['Pink Flamingos (1972)']\n",
            "['Escape to Witch Mountain (1975)']\n",
            "['Dracula (1931)']\n",
            "['Bubble Boy (2001)']\n",
            "['Twilight Saga: New Moon, The (2009)']\n",
            "['Ted 2 (2015)']\n",
            "['Only You (1994)']\n",
            "['Blame It on Rio (1984)']\n",
            "['Bamboozled (2000)']\n",
            "['Suspiria (1977)']\n",
            "\n",
            "Cluster 5\n",
            "['Haunting, The (1999)']\n",
            "['Fun with Dick and Jane (2005)']\n",
            "['Jack Frost (1998)']\n",
            "['Kicking & Screaming (2005)']\n",
            "['Sisterhood of the Traveling Pants, The (2005)']\n",
            "['Mummy: Tomb of the Dragon Emperor, The (2008)']\n",
            "['Adventures of Pinocchio, The (1996)']\n",
            "['High School High (1996)']\n",
            "['You, Me and Dupree (2006)']\n",
            "['White House Down (2013)']\n",
            "['Cat in the Hat, The (2003)']\n",
            "['Leap Year (2010)']\n",
            "['Purge: Anarchy, The (2014)']\n",
            "['Giver, The (2014)']\n",
            "['Low Down Dirty Shame, A (1994)']\n",
            "['Solo (1996)']\n",
            "['Mr. Magoo (1997)']\n",
            "['Character (Karakter) (1997)']\n",
            "['Friday the 13th Part VI: Jason Lives (1986)']\n",
            "['Saturn 3 (1980)']\n",
            "\n",
            "Cluster 6\n",
            "['Lord of the Rings: The Two Towers, The (2002)']\n",
            "['Dark Knight, The (2008)']\n",
            "['Inception (2010)']\n",
            "['Good Will Hunting (1997)']\n",
            "['Finding Nemo (2003)']\n",
            "['Monsters, Inc. (2001)']\n",
            "['Eternal Sunshine of the Spotless Mind (2004)']\n",
            "['Truman Show, The (1998)']\n",
            "['Incredibles, The (2004)']\n",
            "['Beautiful Mind, A (2001)']\n",
            "['Austin Powers: The Spy Who Shagged Me (1999)']\n",
            "[\"Amelie (Fabuleux destin d'Amélie Poulain, Le) (2001)\"]\n",
            "['Shining, The (1980)']\n",
            "['Donnie Darko (2001)']\n",
            "[\"Harry Potter and the Sorcerer's Stone (a.k.a. Harry Potter and the Philosopher's Stone) (2001)\"]\n",
            "['Up (2009)']\n",
            "['WALL·E (2008)']\n",
            "['Austin Powers: International Man of Mystery (1997)']\n",
            "['Rain Man (1988)']\n",
            "['Requiem for a Dream (2000)']\n",
            "\n",
            "Cluster 7\n",
            "['Chicken Run (2000)']\n",
            "['Blair Witch Project, The (1999)']\n",
            "['My Cousin Vinny (1992)']\n",
            "['Species (1995)']\n",
            "['Star Trek III: The Search for Spock (1984)']\n",
            "['Rush Hour (1998)']\n",
            "['Road Trip (2000)']\n",
            "['Witness (1985)']\n",
            "['Hollow Man (2000)']\n",
            "['Godzilla (1998)']\n",
            "['I Know What You Did Last Summer (1997)']\n",
            "['Gravity (2013)']\n",
            "['Wag the Dog (1997)']\n",
            "['Saint, The (1997)']\n",
            "['Courage Under Fire (1996)']\n",
            "['Prometheus (2012)']\n",
            "['In & Out (1997)']\n",
            "['13th Warrior, The (1999)']\n",
            "['28 Days (2000)']\n",
            "['Bulworth (1998)']\n",
            "\n",
            "Cluster 8\n",
            "['Phone Booth (2002)']\n",
            "['Scream 2 (1997)']\n",
            "['Coyote Ugly (2000)']\n",
            "['Scary Movie 2 (2001)']\n",
            "['Bad Santa (2003)']\n",
            "[\"Pee-wee's Big Adventure (1985)\"]\n",
            "['Faculty, The (1998)']\n",
            "['First Wives Club, The (1996)']\n",
            "['Mission to Mars (2000)']\n",
            "['Days of Thunder (1990)']\n",
            "['Speed 2: Cruise Control (1997)']\n",
            "['Shadow, The (1994)']\n",
            "['I Still Know What You Did Last Summer (1998)']\n",
            "[\"Big Momma's House (2000)\"]\n",
            "['Kindergarten Cop (1990)']\n",
            "['Superman IV: The Quest for Peace (1987)']\n",
            "['Money Train (1995)']\n",
            "['Short Cuts (1993)']\n",
            "['Amityville Horror, The (1979)']\n",
            "['Hellraiser (1987)']\n",
            "\n",
            "Cluster 9\n",
            "['Alien³ (a.k.a. Alien 3) (1992)']\n",
            "['Bio-Dome (1996)']\n",
            "['Star Trek V: The Final Frontier (1989)']\n",
            "['About Schmidt (2002)']\n",
            "['Midnight in the Garden of Good and Evil (1997)']\n",
            "['G.I. Jane (1997)']\n",
            "['Superman III (1983)']\n",
            "[\"Weekend at Bernie's (1989)\"]\n",
            "['Anastasia (1997)']\n",
            "['Juror, The (1996)']\n",
            "['Mighty Morphin Power Rangers: The Movie (1995)']\n",
            "[\"'burbs, The (1989)\"]\n",
            "['Scooby-Doo (2002)']\n",
            "['Nutty Professor II: The Klumps (2000)']\n",
            "['Volcano (1997)']\n",
            "['Muppets Take Manhattan, The (1984)']\n",
            "['Devil in a Blue Dress (1995)']\n",
            "['Last Man Standing (1996)']\n",
            "['Revenge of the Nerds (1984)']\n",
            "['Village of the Damned (1995)']\n",
            "\n",
            "Cluster 10\n",
            "['Shawshank Redemption, The (1994)']\n",
            "['Pulp Fiction (1994)']\n",
            "['Silence of the Lambs, The (1991)']\n",
            "['Star Wars: Episode IV - A New Hope (1977)']\n",
            "[\"Schindler's List (1993)\"]\n",
            "['Fight Club (1999)']\n",
            "['Star Wars: Episode V - The Empire Strikes Back (1980)']\n",
            "['Usual Suspects, The (1995)']\n",
            "['American Beauty (1999)']\n",
            "['Seven (a.k.a. Se7en) (1995)']\n",
            "['Raiders of the Lost Ark (Indiana Jones and the Raiders of the Lost Ark) (1981)']\n",
            "['Lord of the Rings: The Fellowship of the Ring, The (2001)']\n",
            "['Godfather, The (1972)']\n",
            "['Fargo (1996)']\n",
            "['Sixth Sense, The (1999)']\n",
            "['Twelve Monkeys (a.k.a. 12 Monkeys) (1995)']\n",
            "['Memento (2000)']\n",
            "['Alien (1979)']\n",
            "['Groundhog Day (1993)']\n",
            "['Princess Bride, The (1987)']\n",
            "\n",
            "Cluster 11\n",
            "['Wild Wild West (1999)']\n",
            "['Jackass: The Movie (2002)']\n",
            "['Blades of Glory (2007)']\n",
            "['Hot Tub Time Machine (2010)']\n",
            "['Pacific Heights (1990)']\n",
            "['Waiting... (2005)']\n",
            "['Dukes of Hazzard, The (2005)']\n",
            "['The Interview (2014)']\n",
            "['Jungle2Jungle (a.k.a. Jungle 2 Jungle) (1997)']\n",
            "['Edge, The (1997)']\n",
            "['Break-Up, The (2006)']\n",
            "['Green Hornet, The (2011)']\n",
            "['This Means War (2012)']\n",
            "[\"Kid in King Arthur's Court, A (1995)\"]\n",
            "['Semi-Pro (2008)']\n",
            "['House Bunny, The (2008)']\n",
            "['Internship, The (2013)']\n",
            "['How High (2001)']\n",
            "['Longest Yard, The (2005)']\n",
            "['John Tucker Must Die (2006)']\n",
            "\n",
            "Cluster 12\n",
            "['Forrest Gump (1994)']\n",
            "['Braveheart (1995)']\n",
            "['Toy Story (1995)']\n",
            "['Apollo 13 (1995)']\n",
            "['Fugitive, The (1993)']\n",
            "['Aladdin (1992)']\n",
            "['True Lies (1994)']\n",
            "['Lion King, The (1994)']\n",
            "['Speed (1994)']\n",
            "['Dances with Wolves (1990)']\n",
            "['Mission: Impossible (1996)']\n",
            "['Beauty and the Beast (1991)']\n",
            "['Mrs. Doubtfire (1993)']\n",
            "['Stargate (1994)']\n",
            "['Batman Forever (1995)']\n",
            "['Pretty Woman (1990)']\n",
            "['Babe (1995)']\n",
            "['E.T. the Extra-Terrestrial (1982)']\n",
            "['Spider-Man (2002)']\n",
            "['Rock, The (1996)']\n",
            "\n",
            "Cluster 13\n",
            "['Sweet Home Alabama (2002)']\n",
            "['RoboCop 2 (1990)']\n",
            "['Maid in Manhattan (2002)']\n",
            "[\"Look Who's Talking (1989)\"]\n",
            "['Rocky V (1990)']\n",
            "['Boomerang (1992)']\n",
            "['Friday the 13th (1980)']\n",
            "[\"Things to Do in Denver When You're Dead (1995)\"]\n",
            "['Karate Kid, Part III, The (1989)']\n",
            "['Teenage Mutant Ninja Turtles III (1993)']\n",
            "['Adventures of Baron Munchausen, The (1988)']\n",
            "['Civil Action, A (1998)']\n",
            "['Something to Talk About (1995)']\n",
            "['Supercop (Police Story 3: Supercop) (Jing cha gu shi III: Chao ji jing cha) (1992)']\n",
            "['Fly II, The (1989)']\n",
            "['Stalker (1979)']\n",
            "['Brave Little Toaster, The (1987)']\n",
            "['Cheaper by the Dozen (2003)']\n",
            "['Nightmare on Elm Street 4: The Dream Master, A (1988)']\n",
            "['Highlander II: The Quickening (1991)']\n",
            "\n",
            "Cluster 14\n",
            "['Doors, The (1991)']\n",
            "['Beach, The (2000)']\n",
            "['Alice in Wonderland (2010)']\n",
            "['Battlefield Earth (2000)']\n",
            "['Room with a View, A (1986)']\n",
            "['How to Make an American Quilt (1995)']\n",
            "['Zero Effect (1998)']\n",
            "['Fantasia 2000 (1999)']\n",
            "['Blue Lagoon, The (1980)']\n",
            "['Ice Age: Dawn of the Dinosaurs (2009)']\n",
            "['Charade (1963)']\n",
            "['Boxing Helena (1993)']\n",
            "['Monsoon Wedding (2001)']\n",
            "['Sucker Punch (2011)']\n",
            "['Canadian Bacon (1995)']\n",
            "['Harriet the Spy (1996)']\n",
            "['Big Night (1996)']\n",
            "['Addicted to Love (1997)']\n",
            "['Joy Luck Club, The (1993)']\n",
            "['Battleship Potemkin (1925)']\n",
            "\n",
            "Cluster 15\n",
            "['Showgirls (1995)']\n",
            "['Titan A.E. (2000)']\n",
            "['Forever Young (1992)']\n",
            "['Working Girl (1988)']\n",
            "['Toys (1992)']\n",
            "['Three Men and a Baby (1987)']\n",
            "['Small Soldiers (1998)']\n",
            "['Beneath the Planet of the Apes (1970)']\n",
            "['Universal Soldier (1992)']\n",
            "['Purple Rose of Cairo, The (1985)']\n",
            "['Father of the Bride (1991)']\n",
            "['Goodbye Girl, The (1977)']\n",
            "['Stepford Wives, The (1975)']\n",
            "['Mister Roberts (1955)']\n",
            "['Witches of Eastwick, The (1987)']\n",
            "['Swiss Family Robinson (1960)']\n",
            "['Body Heat (1981)']\n",
            "['Re-Animator (1985)']\n",
            "['Women on the Verge of a Nervous Breakdown (Mujeres al borde de un ataque de nervios) (1988)']\n",
            "[\"Futurama: Bender's Big Score (2007)\"]\n",
            "\n",
            "Cluster 16\n",
            "['50 First Dates (2004)']\n",
            "['Home Alone 2: Lost in New York (1992)']\n",
            "['Up Close and Personal (1996)']\n",
            "['Coco (2017)']\n",
            "['Absolute Power (1997)']\n",
            "['When a Man Loves a Woman (1994)']\n",
            "['Hotel Transylvania (2012)']\n",
            "['Throw Momma from the Train (1987)']\n",
            "[\"Smokin' Aces (2006)\"]\n",
            "['Saving Mr. Banks (2013)']\n",
            "['Home (2015)']\n",
            "['Waiting to Exhale (1995)']\n",
            "['Star Wars: The Clone Wars (2008)']\n",
            "['Burnt by the Sun (Utomlyonnye solntsem) (1994)']\n",
            "['Robin Hood (2010)']\n",
            "['Ice Age 4: Continental Drift (2012)']\n",
            "['Good Day to Die Hard, A (2013)']\n",
            "['Heat, The (2013)']\n",
            "['Monsieur Verdoux (1947)']\n",
            "['Quiet American, The (2002)']\n",
            "\n",
            "Cluster 17\n",
            "['Liar Liar (1997)']\n",
            "['Johnny Mnemonic (1995)']\n",
            "['Three Kings (1999)']\n",
            "['Escape from L.A. (1996)']\n",
            "['Striptease (1996)']\n",
            "['Enemy at the Gates (2001)']\n",
            "['Panic Room (2002)']\n",
            "['Fahrenheit 9/11 (2004)']\n",
            "['Swingers (1996)']\n",
            "['What About Bob? (1991)']\n",
            "['Hulk (2003)']\n",
            "['Daredevil (2003)']\n",
            "['Shallow Hal (2001)']\n",
            "['Babe: Pig in the City (1998)']\n",
            "['Island of Dr. Moreau, The (1996)']\n",
            "['Gosford Park (2001)']\n",
            "['Rise of the Planet of the Apes (2011)']\n",
            "[\"Jacob's Ladder (1990)\"]\n",
            "['Tarzan (1999)']\n",
            "['Family Man, The (2000)']\n",
            "\n",
            "Cluster 18\n",
            "['Borat: Cultural Learnings of America for Make Benefit Glorious Nation of Kazakhstan (2006)']\n",
            "['I Am Legend (2007)']\n",
            "['Superbad (2007)']\n",
            "['Day After Tomorrow, The (2004)']\n",
            "['Sixteen Candles (1984)']\n",
            "['Road to Perdition (2002)']\n",
            "['Lethal Weapon 3 (1992)']\n",
            "['Gran Torino (2008)']\n",
            "['Terminator 3: Rise of the Machines (2003)']\n",
            "['Old School (2003)']\n",
            "['Karate Kid, The (1984)']\n",
            "['Master and Commander: The Far Side of the World (2003)']\n",
            "['Lord of War (2005)']\n",
            "['Harold and Kumar Go to White Castle (2004)']\n",
            "['Quick and the Dead, The (1995)']\n",
            "['Iron Man 3 (2013)']\n",
            "['Insider, The (1999)']\n",
            "['Sweeney Todd: The Demon Barber of Fleet Street (2007)']\n",
            "['Rocky IV (1985)']\n",
            "['Talladega Nights: The Ballad of Ricky Bobby (2006)']\n",
            "\n",
            "Cluster 19\n",
            "[\"Pete's Dragon (1977)\"]\n",
            "[\"Don't Tell Mom the Babysitter's Dead (1991)\"]\n",
            "['Around the World in 80 Days (1956)']\n",
            "['Young Guns II (1990)']\n",
            "[\"Porky's (1982)\"]\n",
            "['Autumn in New York (2000)']\n",
            "['American Tail: Fievel Goes West, An (1991)']\n",
            "['Skulls, The (2000)']\n",
            "['Cannonball Run, The (1981)']\n",
            "[\"It's a Mad, Mad, Mad, Mad World (1963)\"]\n",
            "['Rent (2005)']\n",
            "['Twilight Saga: Eclipse, The (2010)']\n",
            "['Trainwreck (2015)']\n",
            "['Lawnmower Man 2: Beyond Cyberspace (1996)']\n",
            "['Fletch Lives (1989)']\n",
            "['Towering Inferno, The (1974)']\n",
            "['Supergirl (1984)']\n",
            "['Smokey and the Bandit (1977)']\n",
            "['Bad Girls (1994)']\n",
            "['Honeymoon in Vegas (1992)']\n",
            "\n",
            "Cluster 20\n",
            "['Free Willy 2: The Adventure Home (1995)']\n",
            "['Friday the 13th Part 3: 3D (1982)']\n",
            "['Police Academy 4: Citizens on Patrol (1987)']\n",
            "['Jade (1995)']\n",
            "['Mixed Nuts (1994)']\n",
            "['Hellraiser: Bloodline (1996)']\n",
            "['Blob, The (1958)']\n",
            "['Allan Quatermain and the Lost City of Gold (1987)']\n",
            "['Fantastic Voyage (1966)']\n",
            "['Ghost Rider: Spirit of Vengeance (2012)']\n",
            "['Hideaway (1995)']\n",
            "['Puppet Masters, The (1994)']\n",
            "['Alphaville (Alphaville, une étrange aventure de Lemmy Caution) (1965)']\n",
            "['Amityville II: The Possession (1982)']\n",
            "['Leave It to Beaver (1997)']\n",
            "['Exorcist II: The Heretic (1977)']\n",
            "['Haunted Honeymoon (1986)']\n",
            "['Supernova (2000)']\n",
            "['House Party 2 (1991)']\n",
            "['Creature from the Black Lagoon, The (1954)']\n",
            "\n",
            "Cluster 21\n",
            "['Finding Neverland (2004)']\n",
            "['13 Going on 30 (2004)']\n",
            "[\"World's End, The (2013)\"]\n",
            "['How to Train Your Dragon 2 (2014)']\n",
            "['Get Out (2017)']\n",
            "['Stepford Wives, The (2004)']\n",
            "['Hostel (2005)']\n",
            "['Fast and the Furious: Tokyo Drift, The (Fast and the Furious 3, The) (2006)']\n",
            "['Sex and the City (2008)']\n",
            "['Milk (2008)']\n",
            "['Hard Target (1993)']\n",
            "['Heartbreakers (2001)']\n",
            "['Land Before Time, The (1988)']\n",
            "['Bad News Bears, The (1976)']\n",
            "['Under the Tuscan Sun (2003)']\n",
            "['Night on Earth (1991)']\n",
            "['Windtalkers (2002)']\n",
            "['This Is England (2006)']\n",
            "['Changeling (2008)']\n",
            "['Crank: High Voltage (2009)']\n",
            "\n",
            "Cluster 22\n",
            "['Titanic (1997)']\n",
            "['Legally Blonde (2001)']\n",
            "['Charlie and the Chocolate Factory (2005)']\n",
            "['Troy (2004)']\n",
            "['Hitch (2005)']\n",
            "['Bend It Like Beckham (2002)']\n",
            "['Bowfinger (1999)']\n",
            "['Aviator, The (2004)']\n",
            "['Pretty in Pink (1986)']\n",
            "['Blind Side, The  (2009)']\n",
            "['Scream 3 (2000)']\n",
            "['True Grit (2010)']\n",
            "['¡Three Amigos! (1986)']\n",
            "['Village, The (2004)']\n",
            "[\"Logan's Run (1976)\"]\n",
            "['xXx (2002)']\n",
            "['Freaky Friday (2003)']\n",
            "['Bound (1996)']\n",
            "['Elizabeth (1998)']\n",
            "['Capote (2005)']\n",
            "\n",
            "Cluster 23\n",
            "['Runaway Bride (1999)']\n",
            "['Bridges of Madison County, The (1995)']\n",
            "['Déjà Vu (Deja Vu) (2006)']\n",
            "['Mr. Mom (1983)']\n",
            "['Good Girl, The (2002)']\n",
            "['Avengers, The (1998)']\n",
            "['UHF (1989)']\n",
            "['Plan 9 from Outer Space (1959)']\n",
            "['Next Stop Wonderland (1998)']\n",
            "['Gorillas in the Mist (1988)']\n",
            "['Bamba, La (1987)']\n",
            "['Party, The (1968)']\n",
            "['Teen Wolf (1985)']\n",
            "['Last Starfighter, The (1984)']\n",
            "['Twilight Saga: Breaking Dawn - Part 1, The (2011)']\n",
            "['Lone Ranger, The (2013)']\n",
            "['Scarlet Letter, The (1995)']\n",
            "['Gigi (1958)']\n",
            "['Enchanted April (1992)']\n",
            "['Jaws 3-D (1983)']\n",
            "\n",
            "Cluster 24\n",
            "['Matrix, The (1999)']\n",
            "['Jurassic Park (1993)']\n",
            "['Terminator 2: Judgment Day (1991)']\n",
            "['Independence Day (a.k.a. ID4) (1996)']\n",
            "['Star Wars: Episode VI - Return of the Jedi (1983)']\n",
            "['Batman (1989)']\n",
            "['Saving Private Ryan (1998)']\n",
            "['Lord of the Rings: The Return of the King, The (2003)']\n",
            "['Back to the Future (1985)']\n",
            "['Gladiator (2000)']\n",
            "['Shrek (2001)']\n",
            "['Men in Black (a.k.a. MIB) (1997)']\n",
            "['Ace Ventura: Pet Detective (1994)']\n",
            "['Mask, The (1994)']\n",
            "['Pirates of the Caribbean: The Curse of the Black Pearl (2003)']\n",
            "['Die Hard (1988)']\n",
            "['Die Hard: With a Vengeance (1995)']\n",
            "['Indiana Jones and the Last Crusade (1989)']\n",
            "['Star Wars: Episode I - The Phantom Menace (1999)']\n",
            "['Dumb & Dumber (Dumb and Dumber) (1994)']\n",
            "\n",
            "Cluster 25\n",
            "['Scream (1996)']\n",
            "['Beverly Hills Cop III (1994)']\n",
            "['Mystery Men (1999)']\n",
            "['Anaconda (1997)']\n",
            "['Welcome to the Dollhouse (1995)']\n",
            "['Twilight (2008)']\n",
            "['Adjustment Bureau, The (2011)']\n",
            "[\"Dead Men Don't Wear Plaid (1982)\"]\n",
            "['It Could Happen to You (1994)']\n",
            "['Little Rascals, The (1994)']\n",
            "[\"Can't Hardly Wait (1998)\"]\n",
            "['All Dogs Go to Heaven (1989)']\n",
            "['Eat Drink Man Woman (Yin shi nan nu) (1994)']\n",
            "['Just Cause (1995)']\n",
            "['Nacho Libre (2006)']\n",
            "['Scary Movie 4 (2006)']\n",
            "['Eragon (2006)']\n",
            "['Where the Wild Things Are (2009)']\n",
            "['Grown Ups (2010)']\n",
            "['Cops and Robbersons (1994)']\n",
            "\n"
          ]
        }
      ],
      "source": [
        "import joblib\n",
        "kmeans = joblib.load(\"kmeans_model\")\n",
        "\n",
        "for cluster_id in range(N_CLUSTERS):\n",
        "    print(f\"Cluster {cluster_id + 1}\")\n",
        "    movie_ids = list()\n",
        "    for movie_id in np.where(kmeans.labels_ == cluster_id)[0]:\n",
        "        movid = movie_encoder.inverse_transform([movie_id])[0]\n",
        "        n_appearances = ratings_df.loc[ratings_df['movieId'] == movie_id].count()[0]\n",
        "        movie_ids.append((movid, n_appearances))\n",
        "    for mov in sorted(movie_ids, key=lambda x: x[1], reverse=True)[:20]:\n",
        "        print(movies_df[movies_df[\"movieId\"] == mov[0]][\"title\"].values)\n",
        "    print()"
      ]
    },
    {
      "cell_type": "markdown",
      "metadata": {},
      "source": [
        "## Interpreting some of the clusters\n",
        "\n",
        "### Cluster 1\n",
        "Contains a lot of movies for kids such as the 102 Dalmatians, Happy Feet, Snow Dogs, Stuart Little. One of the possible latent factors this cluster cas captured is `Movies for Kids`.\n",
        "\n",
        "### Cluster 3\n",
        "Lethal Weapon 2, Godfather, Last of the Mohicans, Conan the Barbarian, Excalibur, Rocky III, Secret Life of Walter Mitty, Lara Croft Tomb Raider: The Cradle of Life are some of the movies in this cluster. Perhaps this cluster has captured a latent factor revolving around `Action Movies with fights/suspense`.\n",
        "\n",
        "### Cluster 4\n",
        "Contains movies with romance such as Twilight, Jewel of the Nile, Heaven can Wait or movies with the supernatural element like Dracula, Escape to Witch Mountain, Texas Chainsaw Massacre. A latent factor here could be `Romance / Supernatural`.\n",
        "\n",
        "### Cluster 10\n",
        "Contains 90s popular action movies like Shawshank Redemption, Pulp Fiction, Silence of the Lambs, Seven, Godfather. This latent factor could be revolving around `Retro / Action`"
      ]
    },
    {
      "cell_type": "markdown",
      "metadata": {},
      "source": [
        "# Section 4\n",
        "Check our inertia to determine the quality of clusters."
      ]
    },
    {
      "cell_type": "code",
      "execution_count": 15,
      "metadata": {
        "id": "7pxOgqjHlB8-"
      },
      "outputs": [],
      "source": [
        "wss = list() \n",
        "for i in range(1, 50):\n",
        "    f = KMeans(n_clusters=i, init=\"random\", random_state=100, n_init=\"auto\").fit(trained_movie_embeddings)\n",
        "    wss.append(f.inertia_)"
      ]
    },
    {
      "cell_type": "code",
      "execution_count": 17,
      "metadata": {},
      "outputs": [
        {
          "data": {
            "image/png": "[encoded data removed]",
            "text/plain": [
              "<Figure size 640x480 with 1 Axes>"
            ]
          },
          "metadata": {},
          "output_type": "display_data"
        }
      ],
      "source": [
        "plt.grid(True)\n",
        "plt.plot(range(1,50), wss, 'ro-')\n",
        "plt.xlabel('Number of clusters k')\n",
        "plt.ylabel('Inertia')\n",
        "plt.title('The Elbow Method showing the optimal k')\n",
        "plt.show()"
      ]
    }
  ],
  "metadata": {
    "accelerator": "GPU",
    "colab": {
      "gpuType": "T4",
      "provenance": []
    },
    "kernelspec": {
      "display_name": "Python 3",
      "name": "python3"
    },
    "language_info": {
      "codemirror_mode": {
        "name": "ipython",
        "version": 3
      },
      "file_extension": ".py",
      "mimetype": "text/x-python",
      "name": "python",
      "nbconvert_exporter": "python",
      "pygments_lexer": "ipython3",
      "version": "3.10.5"
    }
  },
  "nbformat": 4,
  "nbformat_minor": 0
}
