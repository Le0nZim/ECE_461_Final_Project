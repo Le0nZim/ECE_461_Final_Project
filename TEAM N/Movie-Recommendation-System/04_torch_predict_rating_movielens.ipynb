{
 "cells": [
  {
   "cell_type": "markdown",
   "metadata": {},
   "source": [
    "# Section 0: Imports and Dataframes"
   ]
  },
  {
   "cell_type": "code",
   "execution_count": 1,
   "metadata": {},
   "outputs": [],
   "source": [
    "import pandas as pd\n",
    "\n",
    "from sklearn.preprocessing import LabelEncoder\n",
    "from sklearn.metrics import mean_squared_error\n",
    "from sklearn.model_selection import train_test_split\n",
    "import matplotlib.pyplot as plt\n",
    "import os\n",
    "\n",
    "import torch\n",
    "import torch.nn as nn\n",
    "from torchviz import make_dot\n",
    "from torchsummary import summary\n",
    "from torch.utils.data import Dataset, DataLoader\n",
    "\n",
    "DEVICE = \"cpu\" #We don't need GPU on this one"
   ]
  },
  {
   "cell_type": "code",
   "execution_count": 2,
   "metadata": {},
   "outputs": [
    {
     "data": {
      "text/html": [
       "<div>\n",
       "<style scoped>\n",
       "    .dataframe tbody tr th:only-of-type {\n",
       "        vertical-align: middle;\n",
       "    }\n",
       "\n",
       "    .dataframe tbody tr th {\n",
       "        vertical-align: top;\n",
       "    }\n",
       "\n",
       "    .dataframe thead th {\n",
       "        text-align: right;\n",
       "    }\n",
       "</style>\n",
       "<table border=\"1\" class=\"dataframe\">\n",
       "  <thead>\n",
       "    <tr style=\"text-align: right;\">\n",
       "      <th></th>\n",
       "      <th>userId</th>\n",
       "      <th>movieId</th>\n",
       "      <th>rating</th>\n",
       "    </tr>\n",
       "  </thead>\n",
       "  <tbody>\n",
       "    <tr>\n",
       "      <th>100833</th>\n",
       "      <td>610</td>\n",
       "      <td>168250</td>\n",
       "      <td>5.0</td>\n",
       "    </tr>\n",
       "    <tr>\n",
       "      <th>100834</th>\n",
       "      <td>610</td>\n",
       "      <td>168252</td>\n",
       "      <td>5.0</td>\n",
       "    </tr>\n",
       "    <tr>\n",
       "      <th>100835</th>\n",
       "      <td>610</td>\n",
       "      <td>170875</td>\n",
       "      <td>3.0</td>\n",
       "    </tr>\n",
       "  </tbody>\n",
       "</table>\n",
       "</div>"
      ],
      "text/plain": [
       "        userId  movieId  rating\n",
       "100833     610   168250     5.0\n",
       "100834     610   168252     5.0\n",
       "100835     610   170875     3.0"
      ]
     },
     "metadata": {},
     "output_type": "display_data"
    },
    {
     "name": "stdout",
     "output_type": "stream",
     "text": [
      "========================================\n",
      "<class 'pandas.core.frame.DataFrame'>\n",
      "RangeIndex: 100836 entries, 0 to 100835\n",
      "Data columns (total 3 columns):\n",
      " #   Column   Non-Null Count   Dtype  \n",
      "---  ------   --------------   -----  \n",
      " 0   userId   100836 non-null  int64  \n",
      " 1   movieId  100836 non-null  int64  \n",
      " 2   rating   100836 non-null  float64\n",
      "dtypes: float64(1), int64(2)\n",
      "memory usage: 2.3 MB\n",
      "None\n",
      "========================================\n",
      "Unique Users: 610 \n",
      "Unique Movies: 9724\n"
     ]
    }
   ],
   "source": [
    "ratings_df = pd.read_csv(\"data/ml-latest-small/ratings.csv\", usecols=[\"userId\", \"movieId\", \"rating\"])\n",
    "display(ratings_df.tail(3))\n",
    "print(\"========================================\",)\n",
    "print(ratings_df.info(), end=\"\\n========================================\\n\")\n",
    "n_users = ratings_df.userId.nunique()\n",
    "n_movies = ratings_df.movieId.nunique()\n",
    "print(\"Unique Users:\", n_users, \"\\nUnique Movies:\", n_movies)"
   ]
  },
  {
   "cell_type": "markdown",
   "metadata": {},
   "source": [
    "# Section 1: The `ratings_dataset` class.\n",
    "\n",
    "The `ratings_dataset` class inherits `torch.utils.data.Dataset`. It requires at least 3 methods to operate.\n",
    "\n",
    "- `__init()__`: Initializes the dataset. Any action of preprocessing the user sees fit can be done in here.\n",
    "- `__len__()`: Simply returns the len() of the dataset\n",
    "- `__getitem()__`: Returns an item from the dataset. This is a powerful tool since we can handle this function as we see fit and convert the data to any form we need. In this case, all data is converted to a tensor of type either `torch.long` or `torch.float32`.\n",
    "\n",
    "Additionally we have implemented the methods `decode_movie()` and `decode_user()` which use `inverse_transform` from `LabelEncoder()` to convert the encoded items back to their original value."
   ]
  },
  {
   "cell_type": "code",
   "execution_count": 3,
   "metadata": {},
   "outputs": [],
   "source": [
    "class ratings_dataset(Dataset):\n",
    "    def __init__(self, dataframe):\n",
    "        self.user_encoder = LabelEncoder()\n",
    "        self.movie_encoder = LabelEncoder()\n",
    "\n",
    "        self.users =  self.user_encoder. fit_transform(dataframe.userId.values)\n",
    "        self.movies = self.movie_encoder.fit_transform(dataframe.movieId.values)\n",
    "        self.ratings = dataframe.rating\n",
    "\n",
    "        self.len = len(self.users)\n",
    "\n",
    "    def __len__(self):\n",
    "        return self.len\n",
    "    \n",
    "    def decode_movie(self, encoded_movie:int):\n",
    "        return self.movie_encoder.inverse_transform([encoded_movie])\n",
    "        \n",
    "    def decode_user(self, encoded_user:int):\n",
    "        return self.user_encoder.inverse_transform([encoded_user])\n",
    "\n",
    "    def __getitem__(self, index):\n",
    "        u = self.users[index]\n",
    "        m = self.movies[index]\n",
    "        r = self.ratings[index]\n",
    "\n",
    "        u = torch.tensor(u, device=DEVICE, dtype=torch.long)\n",
    "        m = torch.tensor(m, device=DEVICE, dtype=torch.long)\n",
    "        r = torch.tensor(r, device=DEVICE, dtype=torch.float32)\n",
    "        \n",
    "        return (u, m, r)"
   ]
  },
  {
   "cell_type": "markdown",
   "metadata": {},
   "source": [
    "Prepare the `train` and `test` data. First use the classic `sklearn` function `train_test_split()`. Afterwards we should always use `reset_index()` in the split data, otherwise the `DataLoader` will certainly produce an `IndexError`."
   ]
  },
  {
   "cell_type": "code",
   "execution_count": 4,
   "metadata": {},
   "outputs": [],
   "source": [
    "train, test = train_test_split(ratings_df, train_size=0.8, shuffle=True, random_state=42)\n",
    "train.reset_index(inplace=True)\n",
    "test.reset_index(inplace=True)\n",
    "train = ratings_dataset(train)\n",
    "test = ratings_dataset(test)\n",
    "\n",
    "BATCH_SIZE = 256\n",
    "\n",
    "ratings_train_loader = DataLoader(dataset=train, shuffle=True, batch_size=BATCH_SIZE)\n",
    "ratings_test_loader = DataLoader(dataset=test, shuffle=True, batch_size=BATCH_SIZE)"
   ]
  },
  {
   "cell_type": "markdown",
   "metadata": {},
   "source": [
    "# Section 2: The `rating_prediction_nn` class.\n",
    "\n",
    "The neural network class inherits the `nn.Module` as per `PyTorch` documentation. Here we create two different embeddings, one for users `user_embedding` and one for movies `movie_embedding`, aiming to capture the latent factors. Finally we feed the stacked output of the embeddings into the linear layer `l1` and get the final prediction for the rating."
   ]
  },
  {
   "cell_type": "code",
   "execution_count": 5,
   "metadata": {},
   "outputs": [],
   "source": [
    "class rating_prediction_nn(nn.Module):\n",
    "    def __init__(self, n_users, n_movies, embedding_size):\n",
    "        super().__init__()\n",
    "        self.user_embedding = nn.Embedding(n_users, embedding_size)\n",
    "        self.movie_embedding = nn.Embedding(n_movies, embedding_size)\n",
    "        self.l1 = nn.Linear(embedding_size * 2, 64)\n",
    "        self.l2 = nn.Linear(64, 1)\n",
    "        self.dropout = nn.Dropout(0.2)\n",
    "        self.sigmoid = nn.Sigmoid()\n",
    "\n",
    "        self.user_embedding.weight.data.uniform_(-0.5, 0.5)\n",
    "        self.movie_embedding.weight.data.uniform_(-0.5, 0.5)\n",
    "        self.l1.weight.data.uniform_(-0.5, 0.5)\n",
    "        self.l2.weight.data.uniform_(-0.5, 0.5)\n",
    "\n",
    "    def forward(self, user_vec, movie_vec):\n",
    "        user_embeds = self.user_embedding(user_vec)\n",
    "        movie_embeds = self.movie_embedding(movie_vec)\n",
    "\n",
    "        output = torch.cat([user_embeds, movie_embeds], dim=1)\n",
    "\n",
    "        output = self.dropout(self.l1(output))\n",
    "        output = self.sigmoid(output)\n",
    "        output = self.l2(output)\n",
    "\n",
    "        return output\n",
    "\n",
    "EMBEDDING_SIZE = 32\n",
    "model = rating_prediction_nn(n_users, n_movies, EMBEDDING_SIZE).to(DEVICE)\n"
   ]
  },
  {
   "cell_type": "markdown",
   "metadata": {},
   "source": [
    "### Make a small visualization. This requires graphviz to be installed and in PATH."
   ]
  },
  {
   "cell_type": "code",
   "execution_count": 6,
   "metadata": {},
   "outputs": [],
   "source": [
    "# user_vec = torch.randint(0, n_users, (1,))\n",
    "# movie_vec = torch.randint(0, n_movies, (1,))\n",
    "# output = model(user_vec, movie_vec)\n",
    "# dot = make_dot(output, params=dict(model.named_parameters()))\n",
    "\n",
    "# # Save the dot object as a png image\n",
    "# dot.format = 'png'\n",
    "# dot.render('torch_model')"
   ]
  },
  {
   "cell_type": "markdown",
   "metadata": {},
   "source": [
    "### Train the model. 2-5 epochs are sufficient."
   ]
  },
  {
   "cell_type": "code",
   "execution_count": 7,
   "metadata": {},
   "outputs": [
    {
     "name": "stdout",
     "output_type": "stream",
     "text": [
      "Epoch 1 of 5 | Batch   0 of 316 | MSELoss: 33.878684997558594\n",
      "Epoch 1 of 5 | Batch 100 of 316 | MSELoss: 5.519100189208984\n",
      "Epoch 1 of 5 | Batch 200 of 316 | MSELoss: 1.3896796703338623\n",
      "Epoch 1 of 5 | Batch 300 of 316 | MSELoss: 1.0672070980072021\n",
      "Epoch 2 of 5 | Batch   0 of 316 | MSELoss: 1.2552586793899536\n",
      "Epoch 2 of 5 | Batch 100 of 316 | MSELoss: 0.8806842565536499\n",
      "Epoch 2 of 5 | Batch 200 of 316 | MSELoss: 0.9622584581375122\n",
      "Epoch 2 of 5 | Batch 300 of 316 | MSELoss: 0.9001598358154297\n",
      "Epoch 3 of 5 | Batch   0 of 316 | MSELoss: 0.8053303956985474\n",
      "Epoch 3 of 5 | Batch 100 of 316 | MSELoss: 0.9282444715499878\n",
      "Epoch 3 of 5 | Batch 200 of 316 | MSELoss: 0.8976771831512451\n",
      "Epoch 3 of 5 | Batch 300 of 316 | MSELoss: 0.7487978935241699\n",
      "Epoch 4 of 5 | Batch   0 of 316 | MSELoss: 0.8923165798187256\n",
      "Epoch 4 of 5 | Batch 100 of 316 | MSELoss: 0.7980830073356628\n",
      "Epoch 4 of 5 | Batch 200 of 316 | MSELoss: 0.8526021242141724\n",
      "Epoch 4 of 5 | Batch 300 of 316 | MSELoss: 0.7464991807937622\n",
      "Epoch 5 of 5 | Batch   0 of 316 | MSELoss: 0.8004679679870605\n",
      "Epoch 5 of 5 | Batch 100 of 316 | MSELoss: 0.7923394441604614\n",
      "Epoch 5 of 5 | Batch 200 of 316 | MSELoss: 0.8882243037223816\n",
      "Epoch 5 of 5 | Batch 300 of 316 | MSELoss: 0.6614543199539185\n"
     ]
    }
   ],
   "source": [
    "optimizer = torch.optim.Adam(model.parameters(), lr=0.001)\n",
    "# optimizer = torch.optim.Adagrad(model.parameters(), lr=0.001)\n",
    "# optimizer = torch.optim.RMSprop(model.parameters(), lr=0.001)\n",
    "# optimizer = torch.optim.AdamW(model.parameters(), lr=0.001)\n",
    "loss_func = nn.MSELoss()\n",
    "\n",
    "EPOCHS = 5\n",
    "N_BATCHES = len(ratings_train_loader)\n",
    "losses = list()\n",
    "\n",
    "'''\n",
    "model(...) returns a `train_data` tuple.\n",
    "train_data[0]: Movie tensor\n",
    "train_data[1]: User tensor\n",
    "train_data[2]: Rating tensor\n",
    "'''\n",
    "for epoch in range(EPOCHS):\n",
    "    for batch, train_data in enumerate(ratings_train_loader):\n",
    "        output = model(train_data[0], train_data[1])\n",
    "        \n",
    "        loss = loss_func(output, train_data[2].view(-1, 1))\n",
    "        losses.append(loss.item())\n",
    "        \n",
    "        optimizer.zero_grad()\n",
    "        loss.backward()\n",
    "        optimizer.step()\n",
    "\n",
    "        if batch % 100 == 0:\n",
    "            print(f\"Epoch {epoch+1} of {EPOCHS} | Batch {batch:>3} of {N_BATCHES} | MSELoss: {loss}\")\n",
    "\n",
    "\n",
    "#Save model\n",
    "model_info = {\n",
    "    \"emb_size\": EMBEDDING_SIZE,\n",
    "    \"model_state_dict\": model.state_dict(),\n",
    "    \"description\": \"Trained on 2 embeddings with 2 linear layers.\"\n",
    "}\n",
    "torch.save(model_info, \"rating_prediction_torch.nn\")"
   ]
  },
  {
   "cell_type": "code",
   "execution_count": 8,
   "metadata": {},
   "outputs": [
    {
     "data": {
      "text/plain": [
       "[<matplotlib.lines.Line2D at 0x20e52664610>]"
      ]
     },
     "execution_count": 8,
     "metadata": {},
     "output_type": "execute_result"
    },
    {
     "data": {
      "image/png": "[encoded data removed]",
      "text/plain": [
       "<Figure size 400x400 with 1 Axes>"
      ]
     },
     "metadata": {},
     "output_type": "display_data"
    }
   ],
   "source": [
    "plt.figure(figsize=(4,4))\n",
    "plt.xlabel(\"Epoch\")\n",
    "plt.ylabel(\"MSELoss\")\n",
    "plt.plot(losses)"
   ]
  },
  {
   "cell_type": "markdown",
   "metadata": {},
   "source": [
    "# Section 3: RMSE Evaluation"
   ]
  },
  {
   "cell_type": "code",
   "execution_count": 9,
   "metadata": {},
   "outputs": [
    {
     "name": "stdout",
     "output_type": "stream",
     "text": [
      "RMSE: 0.13046248836844704\n",
      "MSE: 0.017020460871287175\n",
      "MAE: 0.11215089665183538\n"
     ]
    }
   ],
   "source": [
    "import torch\n",
    "from sklearn.metrics import mean_squared_error, mean_absolute_error\n",
    "\n",
    "y_pred = list()\n",
    "y_true = list()\n",
    "\n",
    "model.eval()\n",
    "with torch.no_grad():\n",
    "    for i, test_data in enumerate(ratings_test_loader): \n",
    "        model_output = model(test_data[0], test_data[1])\n",
    "        y_pred.append(model_output.sum().item() / len(test_data[0]))\n",
    "\n",
    "        target_rating = test_data[2]\n",
    "        y_true.append(target_rating.sum().item() / len(test_data[0]))\n",
    "\n",
    "rmse = mean_squared_error(y_true, y_pred, squared=False)\n",
    "mse = mean_squared_error(y_true, y_pred, squared=True)\n",
    "mae = mean_absolute_error(y_true, y_pred)\n",
    "\n",
    "print(f\"RMSE: {rmse}\")\n",
    "print(f\"MSE: {mse}\")\n",
    "print(f\"MAE: {mae}\")\n"
   ]
  },
  {
   "cell_type": "markdown",
   "metadata": {},
   "source": [
    "# Section 4: Make new dataset with predicted values."
   ]
  },
  {
   "cell_type": "markdown",
   "metadata": {},
   "source": [
    "In this cell we have defined two function that predict the rating of a user-movie pair. First we use the `decode_user()` and `decode_movie()` functions to convert the encoded user and movie values to their original ones. Then extract the value from the rating tensor. Finally predict from the model without backpropagation.\n",
    "\n",
    "The only reason there are two functions is because there are two versions of `decode_user()` and `decode_movie()` pairs, once pair present in the training dataset and the other in the testing dataset. This is done for simplicity."
   ]
  },
  {
   "cell_type": "code",
   "execution_count": 10,
   "metadata": {},
   "outputs": [],
   "source": [
    "def predict_rating_train(item:tuple[torch.tensor], verbose=False):\n",
    "\n",
    "    '''\n",
    "    item[0]: Movie tensor\n",
    "    item[1]: User tensor\n",
    "    item[2]: Rating tensor\n",
    "    '''\n",
    "\n",
    "    decoded_user = train.decode_user(item[0])\n",
    "    decoded_movie = train.decode_movie(item[1])\n",
    "    \n",
    "    item[0].unsqueeze_(dim=0)\n",
    "    item[1].unsqueeze_(dim=0)\n",
    "    rating = item[2].item()\n",
    "\n",
    "    y_pred = model(item[0], item[1])\n",
    "    \n",
    "    if verbose:\n",
    "        print(f\"Predicted rating of user {decoded_user} on movie {decoded_movie}: {y_pred.item():.2f}\")\n",
    "        print(f\"Actual value: {rating}\")\n",
    "\n",
    "    return y_pred.item()\n",
    "\n",
    "def predict_rating_test(item:dict[torch.tensor], verbose=False):\n",
    "\n",
    "    decoded_user = test.decode_user(item[0])\n",
    "    decoded_movie = test.decode_movie(item[1])\n",
    "    \n",
    "    item[0].unsqueeze_(dim=0)\n",
    "    item[1].unsqueeze_(dim=0)\n",
    "    rating = item[2].item()\n",
    "\n",
    "    y_pred = model(item[0], item[1])\n",
    "    \n",
    "    if verbose:\n",
    "        print(f\"Predicted rating of user {decoded_user} on movie {decoded_movie}: {y_pred.item():.2f}\")\n",
    "        print(f\"Actual value: {rating}\")\n",
    "\n",
    "    return y_pred.item()"
   ]
  },
  {
   "cell_type": "markdown",
   "metadata": {},
   "source": [
    "Append the predicted ratings on new dataframes and save the dataframes on a new finalized dataframe that contains predictions."
   ]
  },
  {
   "cell_type": "code",
   "execution_count": 11,
   "metadata": {},
   "outputs": [],
   "source": [
    "# This should take 1 minute\n",
    "\n",
    "ratings_train_df_new, ratings_test_df_new = train_test_split(ratings_df, train_size=0.8, shuffle=True, random_state=42)\n",
    "\n",
    "train_predicted = list()\n",
    "test_predicted = list()\n",
    "model.eval()\n",
    "with torch.no_grad():\n",
    "    for i in range(len(ratings_train_df_new)):\n",
    "        train_predicted.append(predict_rating_train(train[i]))\n",
    "    for i in range(len(ratings_test_df_new)):\n",
    "        test_predicted.append(predict_rating_test(test[i]))"
   ]
  },
  {
   "cell_type": "code",
   "execution_count": 12,
   "metadata": {},
   "outputs": [],
   "source": [
    "ratings_train_df_new[\"predicted\"] = train_predicted"
   ]
  },
  {
   "cell_type": "code",
   "execution_count": 13,
   "metadata": {},
   "outputs": [],
   "source": [
    "ratings_test_df_new[\"predicted\"] = test_predicted"
   ]
  },
  {
   "cell_type": "code",
   "execution_count": 14,
   "metadata": {},
   "outputs": [],
   "source": [
    "pd.concat([ratings_train_df_new, ratings_test_df_new]).to_csv(\"data/ml-latest-small/new_ratings_df.csv\", index=False)"
   ]
  },
  {
   "cell_type": "markdown",
   "metadata": {},
   "source": [
    "# Section 5: Recommend"
   ]
  },
  {
   "cell_type": "markdown",
   "metadata": {},
   "source": [
    "### Load dataframes"
   ]
  },
  {
   "cell_type": "code",
   "execution_count": 15,
   "metadata": {},
   "outputs": [
    {
     "data": {
      "text/html": [
       "<div>\n",
       "<style scoped>\n",
       "    .dataframe tbody tr th:only-of-type {\n",
       "        vertical-align: middle;\n",
       "    }\n",
       "\n",
       "    .dataframe tbody tr th {\n",
       "        vertical-align: top;\n",
       "    }\n",
       "\n",
       "    .dataframe thead th {\n",
       "        text-align: right;\n",
       "    }\n",
       "</style>\n",
       "<table border=\"1\" class=\"dataframe\">\n",
       "  <thead>\n",
       "    <tr style=\"text-align: right;\">\n",
       "      <th></th>\n",
       "      <th>userId</th>\n",
       "      <th>movieId</th>\n",
       "      <th>rating</th>\n",
       "      <th>predicted</th>\n",
       "    </tr>\n",
       "  </thead>\n",
       "  <tbody>\n",
       "    <tr>\n",
       "      <th>0</th>\n",
       "      <td>509</td>\n",
       "      <td>7347</td>\n",
       "      <td>3.0</td>\n",
       "      <td>3.155457</td>\n",
       "    </tr>\n",
       "  </tbody>\n",
       "</table>\n",
       "</div>"
      ],
      "text/plain": [
       "   userId  movieId  rating  predicted\n",
       "0     509     7347     3.0   3.155457"
      ]
     },
     "execution_count": 15,
     "metadata": {},
     "output_type": "execute_result"
    }
   ],
   "source": [
    "movies_df = pd.read_csv(\"data/ml-latest-small/movies.csv\")\n",
    "final_ratings_df = pd.read_csv(\"data/ml-latest-small/new_ratings_df.csv\")\n",
    "final_ratings_df.head(1)"
   ]
  },
  {
   "cell_type": "code",
   "execution_count": 16,
   "metadata": {},
   "outputs": [
    {
     "data": {
      "text/html": [
       "<div>\n",
       "<style scoped>\n",
       "    .dataframe tbody tr th:only-of-type {\n",
       "        vertical-align: middle;\n",
       "    }\n",
       "\n",
       "    .dataframe tbody tr th {\n",
       "        vertical-align: top;\n",
       "    }\n",
       "\n",
       "    .dataframe thead th {\n",
       "        text-align: right;\n",
       "    }\n",
       "</style>\n",
       "<table border=\"1\" class=\"dataframe\">\n",
       "  <thead>\n",
       "    <tr style=\"text-align: right;\">\n",
       "      <th></th>\n",
       "      <th>movieId</th>\n",
       "      <th>title</th>\n",
       "      <th>genres</th>\n",
       "    </tr>\n",
       "  </thead>\n",
       "  <tbody>\n",
       "    <tr>\n",
       "      <th>0</th>\n",
       "      <td>1</td>\n",
       "      <td>Toy Story (1995)</td>\n",
       "      <td>Adventure|Animation|Children|Comedy|Fantasy</td>\n",
       "    </tr>\n",
       "  </tbody>\n",
       "</table>\n",
       "</div>"
      ],
      "text/plain": [
       "   movieId             title                                       genres\n",
       "0        1  Toy Story (1995)  Adventure|Animation|Children|Comedy|Fantasy"
      ]
     },
     "execution_count": 16,
     "metadata": {},
     "output_type": "execute_result"
    }
   ],
   "source": [
    "movies_df.head(1)"
   ]
  },
  {
   "cell_type": "markdown",
   "metadata": {},
   "source": [
    "### `recommend_movies`\n",
    "Make predictions for user `userId` on the new dataframe. First keep the `movieId` from the `new_ratings_df` sorted by `predicted`. Then find the movie titles that are in the `top_n_movies`."
   ]
  },
  {
   "cell_type": "code",
   "execution_count": 17,
   "metadata": {},
   "outputs": [],
   "source": [
    "def recommend_movies(df, userId, n_values=5):\n",
    "    top_n_movies = df[df.userId == userId].sort_values(by=\"predicted\", ascending=False).head(n_values)[[\"movieId\"]]\n",
    "    top_n_movies = movies_df[movies_df[\"movieId\"].isin(top_n_movies[\"movieId\"])]\n",
    "    return top_n_movies[[\"title\", \"genres\"]]"
   ]
  },
  {
   "cell_type": "markdown",
   "metadata": {},
   "source": [
    "### Make predictions for user 2.\n",
    "\n",
    "These recommendations look pretty reasonable. We can observe both here and in the clusters that the top recommended movies have\n",
    "mostly the same genres. This model is more powerful compared to `02` in the sense that we not only get movies that contain the title, but movies that are *close* to the user's preferences since we exploit the latent factors. "
   ]
  },
  {
   "cell_type": "code",
   "execution_count": 18,
   "metadata": {},
   "outputs": [
    {
     "data": {
      "text/html": [
       "<div>\n",
       "<style scoped>\n",
       "    .dataframe tbody tr th:only-of-type {\n",
       "        vertical-align: middle;\n",
       "    }\n",
       "\n",
       "    .dataframe tbody tr th {\n",
       "        vertical-align: top;\n",
       "    }\n",
       "\n",
       "    .dataframe thead th {\n",
       "        text-align: right;\n",
       "    }\n",
       "</style>\n",
       "<table border=\"1\" class=\"dataframe\">\n",
       "  <thead>\n",
       "    <tr style=\"text-align: right;\">\n",
       "      <th></th>\n",
       "      <th>title</th>\n",
       "      <th>genres</th>\n",
       "    </tr>\n",
       "  </thead>\n",
       "  <tbody>\n",
       "    <tr>\n",
       "      <th>46</th>\n",
       "      <td>Usual Suspects, The (1995)</td>\n",
       "      <td>Crime|Mystery|Thriller</td>\n",
       "    </tr>\n",
       "    <tr>\n",
       "      <th>224</th>\n",
       "      <td>Star Wars: Episode IV - A New Hope (1977)</td>\n",
       "      <td>Action|Adventure|Sci-Fi</td>\n",
       "    </tr>\n",
       "    <tr>\n",
       "      <th>257</th>\n",
       "      <td>Pulp Fiction (1994)</td>\n",
       "      <td>Comedy|Crime|Drama|Thriller</td>\n",
       "    </tr>\n",
       "    <tr>\n",
       "      <th>828</th>\n",
       "      <td>Reservoir Dogs (1992)</td>\n",
       "      <td>Crime|Mystery|Thriller</td>\n",
       "    </tr>\n",
       "    <tr>\n",
       "      <th>863</th>\n",
       "      <td>Monty Python and the Holy Grail (1975)</td>\n",
       "      <td>Adventure|Comedy|Fantasy</td>\n",
       "    </tr>\n",
       "    <tr>\n",
       "      <th>898</th>\n",
       "      <td>Star Wars: Episode V - The Empire Strikes Back...</td>\n",
       "      <td>Action|Adventure|Sci-Fi</td>\n",
       "    </tr>\n",
       "    <tr>\n",
       "      <th>899</th>\n",
       "      <td>Princess Bride, The (1987)</td>\n",
       "      <td>Action|Adventure|Comedy|Fantasy|Romance</td>\n",
       "    </tr>\n",
       "    <tr>\n",
       "      <th>909</th>\n",
       "      <td>Apocalypse Now (1979)</td>\n",
       "      <td>Action|Drama|War</td>\n",
       "    </tr>\n",
       "    <tr>\n",
       "      <th>914</th>\n",
       "      <td>Goodfellas (1990)</td>\n",
       "      <td>Crime|Drama</td>\n",
       "    </tr>\n",
       "    <tr>\n",
       "      <th>2226</th>\n",
       "      <td>Fight Club (1999)</td>\n",
       "      <td>Action|Crime|Drama|Thriller</td>\n",
       "    </tr>\n",
       "  </tbody>\n",
       "</table>\n",
       "</div>"
      ],
      "text/plain": [
       "                                                  title  \\\n",
       "46                           Usual Suspects, The (1995)   \n",
       "224           Star Wars: Episode IV - A New Hope (1977)   \n",
       "257                                 Pulp Fiction (1994)   \n",
       "828                               Reservoir Dogs (1992)   \n",
       "863              Monty Python and the Holy Grail (1975)   \n",
       "898   Star Wars: Episode V - The Empire Strikes Back...   \n",
       "899                          Princess Bride, The (1987)   \n",
       "909                               Apocalypse Now (1979)   \n",
       "914                                   Goodfellas (1990)   \n",
       "2226                                  Fight Club (1999)   \n",
       "\n",
       "                                       genres  \n",
       "46                     Crime|Mystery|Thriller  \n",
       "224                   Action|Adventure|Sci-Fi  \n",
       "257               Comedy|Crime|Drama|Thriller  \n",
       "828                    Crime|Mystery|Thriller  \n",
       "863                  Adventure|Comedy|Fantasy  \n",
       "898                   Action|Adventure|Sci-Fi  \n",
       "899   Action|Adventure|Comedy|Fantasy|Romance  \n",
       "909                          Action|Drama|War  \n",
       "914                               Crime|Drama  \n",
       "2226              Action|Crime|Drama|Thriller  "
      ]
     },
     "execution_count": 18,
     "metadata": {},
     "output_type": "execute_result"
    }
   ],
   "source": [
    "recommend_movies(final_ratings_df, 1, 10)"
   ]
  },
  {
   "cell_type": "markdown",
   "metadata": {},
   "source": [
    "### Make predictions for user 600"
   ]
  },
  {
   "cell_type": "code",
   "execution_count": 19,
   "metadata": {},
   "outputs": [
    {
     "data": {
      "text/html": [
       "<div>\n",
       "<style scoped>\n",
       "    .dataframe tbody tr th:only-of-type {\n",
       "        vertical-align: middle;\n",
       "    }\n",
       "\n",
       "    .dataframe tbody tr th {\n",
       "        vertical-align: top;\n",
       "    }\n",
       "\n",
       "    .dataframe thead th {\n",
       "        text-align: right;\n",
       "    }\n",
       "</style>\n",
       "<table border=\"1\" class=\"dataframe\">\n",
       "  <thead>\n",
       "    <tr style=\"text-align: right;\">\n",
       "      <th></th>\n",
       "      <th>title</th>\n",
       "      <th>genres</th>\n",
       "    </tr>\n",
       "  </thead>\n",
       "  <tbody>\n",
       "    <tr>\n",
       "      <th>659</th>\n",
       "      <td>Godfather, The (1972)</td>\n",
       "      <td>Crime|Drama</td>\n",
       "    </tr>\n",
       "    <tr>\n",
       "      <th>694</th>\n",
       "      <td>Casablanca (1942)</td>\n",
       "      <td>Drama|Romance</td>\n",
       "    </tr>\n",
       "    <tr>\n",
       "      <th>889</th>\n",
       "      <td>Sex, Lies, and Videotape (1989)</td>\n",
       "      <td>Drama</td>\n",
       "    </tr>\n",
       "    <tr>\n",
       "      <th>901</th>\n",
       "      <td>Brazil (1985)</td>\n",
       "      <td>Fantasy|Sci-Fi</td>\n",
       "    </tr>\n",
       "    <tr>\n",
       "      <th>914</th>\n",
       "      <td>Goodfellas (1990)</td>\n",
       "      <td>Crime|Drama</td>\n",
       "    </tr>\n",
       "    <tr>\n",
       "      <th>1231</th>\n",
       "      <td>Chasing Amy (1997)</td>\n",
       "      <td>Comedy|Drama|Romance</td>\n",
       "    </tr>\n",
       "    <tr>\n",
       "      <th>1711</th>\n",
       "      <td>Producers, The (1968)</td>\n",
       "      <td>Comedy</td>\n",
       "    </tr>\n",
       "    <tr>\n",
       "      <th>2226</th>\n",
       "      <td>Fight Club (1999)</td>\n",
       "      <td>Action|Crime|Drama|Thriller</td>\n",
       "    </tr>\n",
       "    <tr>\n",
       "      <th>3197</th>\n",
       "      <td>Pearl Harbor (2001)</td>\n",
       "      <td>Action|Drama|Romance|War</td>\n",
       "    </tr>\n",
       "    <tr>\n",
       "      <th>4909</th>\n",
       "      <td>Eternal Sunshine of the Spotless Mind (2004)</td>\n",
       "      <td>Drama|Romance|Sci-Fi</td>\n",
       "    </tr>\n",
       "  </tbody>\n",
       "</table>\n",
       "</div>"
      ],
      "text/plain": [
       "                                             title  \\\n",
       "659                          Godfather, The (1972)   \n",
       "694                              Casablanca (1942)   \n",
       "889                Sex, Lies, and Videotape (1989)   \n",
       "901                                  Brazil (1985)   \n",
       "914                              Goodfellas (1990)   \n",
       "1231                            Chasing Amy (1997)   \n",
       "1711                         Producers, The (1968)   \n",
       "2226                             Fight Club (1999)   \n",
       "3197                           Pearl Harbor (2001)   \n",
       "4909  Eternal Sunshine of the Spotless Mind (2004)   \n",
       "\n",
       "                           genres  \n",
       "659                   Crime|Drama  \n",
       "694                 Drama|Romance  \n",
       "889                         Drama  \n",
       "901                Fantasy|Sci-Fi  \n",
       "914                   Crime|Drama  \n",
       "1231         Comedy|Drama|Romance  \n",
       "1711                       Comedy  \n",
       "2226  Action|Crime|Drama|Thriller  \n",
       "3197     Action|Drama|Romance|War  \n",
       "4909         Drama|Romance|Sci-Fi  "
      ]
     },
     "execution_count": 19,
     "metadata": {},
     "output_type": "execute_result"
    }
   ],
   "source": [
    "recommend_movies(final_ratings_df, 600, 10)"
   ]
  }
 ],
 "metadata": {
  "kernelspec": {
   "display_name": "Python 3",
   "language": "python",
   "name": "python3"
  },
  "language_info": {
   "codemirror_mode": {
    "name": "ipython",
    "version": 3
   },
   "file_extension": ".py",
   "mimetype": "text/x-python",
   "name": "python",
   "nbconvert_exporter": "python",
   "pygments_lexer": "ipython3",
   "version": "3.10.5"
  }
 },
 "nbformat": 4,
 "nbformat_minor": 2
}
