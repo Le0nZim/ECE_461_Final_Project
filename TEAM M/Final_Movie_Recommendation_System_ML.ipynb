{
  "cells": [
    {
      "cell_type": "code",
      "execution_count": null,
      "id": "9f8b09e5",
      "metadata": {
        "id": "9f8b09e5"
      },
      "outputs": [],
      "source": [
        "# %pip install tensorflow"
      ]
    },
    {
      "cell_type": "code",
      "execution_count": 1,
      "id": "97011f64",
      "metadata": {
        "id": "97011f64"
      },
      "outputs": [],
      "source": [
        "import pandas as pd\n",
        "import numpy as np\n",
        "from sklearn.preprocessing import MinMaxScaler\n",
        "# import warnings; warnings.simplefilter('ignore')"
      ]
    },
    {
      "cell_type": "markdown",
      "id": "7WEAPCoGtCBt",
      "metadata": {
        "id": "7WEAPCoGtCBt"
      },
      "source": [
        "## Dataset\n",
        "\n",
        "- Movies (Title, Genre, Date of release)\n",
        "- users (Ratings given to movies, Date)\n",
        "\n",
        "For the analysis we only kept movies- user's ratings.\n",
        "We didn't explicitely use the genre of the movie and the dates, although we acknowledge/assume that\n",
        "- (genre) is captured to a degree also in the data of the analysis.\n",
        "- (dates) opinions change with time. Movies become classic others forgotten etc."
      ]
    },
    {
      "cell_type": "code",
      "execution_count": 2,
      "id": "d60cd199",
      "metadata": {
        "colab": {
          "base_uri": "https://localhost:8080/",
          "height": 158
        },
        "id": "d60cd199",
        "outputId": "c5eb23be-d918-4a2f-ad4a-0e5a60f82ab0"
      },
      "outputs": [],
      "source": [
        "# ratings_df = pd.read_table('C:/Users/User/Documents/#M.L/2023/Final Project ML 2023 Recommender Systems/Datasets/ml-1m/ratings.dat', delimiter=\"::\", engine='python', header=None, names=['userId','movieId','rating','timestamp'])\n",
        "# movies_df  = pd.read_table('C:/Users/User/Documents/#M.L/2023/Final Project ML 2023 Recommender Systems/Datasets/ml-1m/movies.dat' , encoding='latin-1', delimiter=\"::\", engine='python', header=None, names=['movieId','title','genres'])\n",
        "\n",
        "# ratings_df = pd.read_csv('C:/Users/User/Documents/#M.L/2023/Final Project ML 2023 Recommender Systems/Datasets/ml-10m/ratings.dat',\n",
        "#                          delimiter=\"::\",engine='python', header=None, names=['userId', 'movieId', 'rating', 'timestamp'])\n",
        "\n",
        "# movies_df  = pd.read_csv('C:/Users/User/Documents/#M.L/2023/Final Project ML 2023 Recommender Systems/Datasets/ml-10m/movies.dat',\n",
        "#                          delimiter=\"::\",engine='python', header=None, names=['movieId', 'title', 'genres'])\n",
        "\n",
        "ratings_df = pd.read_csv('C:/Users/User/Documents/#M.L/2023/Final Project ML 2023 Recommender Systems/Datasets/ml-latest-small/ratings.csv')\n",
        "movies_df  = pd.read_csv('C:/Users/User/Documents/#M.L/2023/Final Project ML 2023 Recommender Systems/Datasets/ml-latest-small/movies.csv')"
      ]
    },
    {
      "cell_type": "markdown",
      "id": "e333b28b",
      "metadata": {},
      "source": [
        "Here we are scaling the dataset to be in $[0,1]$ range "
      ]
    },
    {
      "cell_type": "code",
      "execution_count": 3,
      "id": "371c164b",
      "metadata": {
        "id": "371c164b"
      },
      "outputs": [],
      "source": [
        "ratings_df.drop(columns=[\"timestamp\"], inplace=True)\n",
        "matrix_df = ratings_df.pivot(index='userId', columns='movieId', values='rating')\n",
        "\n",
        "ratings_to_scale = matrix_df.iloc[:, 0:]\n",
        "\n",
        "matrix_df.iloc[:, 0:] = ratings_to_scale/5\n",
        "\n",
        "n_users = len(ratings_df.userId.unique())\n",
        "n_movies = len(ratings_df.movieId.unique())\n",
        "movie_titles = movies_df['title'].values.tolist()\n",
        "\n",
        "#deliting unnessesary data (for memory reservation reasons)\n",
        "del ratings_df\n",
        "del movies_df"
      ]
    },
    {
      "cell_type": "markdown",
      "id": "dyN2W7PMzANN",
      "metadata": {
        "id": "dyN2W7PMzANN"
      },
      "source": [
        "Filling the NaN values with $0.5$"
      ]
    },
    {
      "cell_type": "code",
      "execution_count": 4,
      "id": "9af6cd47",
      "metadata": {
        "id": "9af6cd47"
      },
      "outputs": [],
      "source": [
        "null_filler = 0.5\n",
        "\n",
        "full_index_values = matrix_df.index\n",
        "\n",
        "full_mask = ~np.isnan(matrix_df)\n",
        "\n",
        "full = matrix_df.fillna(null_filler)\n",
        "\n",
        "full_np = full.to_numpy()\n",
        "\n",
        "#deliting unnecessary data\n",
        "del matrix_df\n",
        "del full"
      ]
    },
    {
      "cell_type": "markdown",
      "id": "RKdsiRQF0ZNI",
      "metadata": {
        "id": "RKdsiRQF0ZNI"
      },
      "source": [
        "---\n",
        "---\n",
        "$\\DeclareMathOperator{\\EX}{\\mathbb{E}}$\n",
        " $\\EX\\limits_{_\\text{over masked values} } [\\big(y_{\\text{true}}-y_{\\text{pred}}\\big)^2]$\n"
      ]
    },
    {
      "cell_type": "code",
      "execution_count": 5,
      "id": "cddef64c",
      "metadata": {
        "id": "cddef64c"
      },
      "outputs": [
        {
          "name": "stdout",
          "output_type": "stream",
          "text": [
            "WARNING:tensorflow:From C:\\Users\\User\\AppData\\Roaming\\Python\\Python311\\site-packages\\keras\\src\\losses.py:2976: The name tf.losses.sparse_softmax_cross_entropy is deprecated. Please use tf.compat.v1.losses.sparse_softmax_cross_entropy instead.\n",
            "\n"
          ]
        }
      ],
      "source": [
        "from keras.losses import mean_squared_error\n",
        "from keras import backend\n",
        "\n",
        "def masked_mse(y_true, y_pred):\n",
        "    mask = backend.cast(backend.not_equal(y_true, null_filler), backend.floatx())\n",
        "    return mean_squared_error(y_true * mask, y_pred * mask)"
      ]
    },
    {
      "cell_type": "markdown",
      "id": "VZrips-46wwX",
      "metadata": {
        "id": "VZrips-46wwX"
      },
      "source": [
        "## Define the model\n",
        "Encoder: in[n_movies,?]-256ReLu-128ReLu-64linear_out  \n",
        "Decoder: in[64,?]-128ReLu-256ReLu-(n_movies)linear_out"
      ]
    },
    {
      "cell_type": "code",
      "execution_count": 6,
      "id": "db99f305",
      "metadata": {
        "id": "db99f305"
      },
      "outputs": [
        {
          "name": "stdout",
          "output_type": "stream",
          "text": [
            "WARNING:tensorflow:From C:\\Users\\User\\AppData\\Roaming\\Python\\Python311\\site-packages\\keras\\src\\backend.py:1398: The name tf.executing_eagerly_outside_functions is deprecated. Please use tf.compat.v1.executing_eagerly_outside_functions instead.\n",
            "\n",
            "WARNING:tensorflow:From C:\\Users\\User\\AppData\\Roaming\\Python\\Python311\\site-packages\\keras\\src\\optimizers\\__init__.py:309: The name tf.train.Optimizer is deprecated. Please use tf.compat.v1.train.Optimizer instead.\n",
            "\n"
          ]
        }
      ],
      "source": [
        "from keras.models import Model\n",
        "from keras.layers import Input, Dense\n",
        "\n",
        "# Create the autoencoder\n",
        "# create the encoder\n",
        "encoder_in = Input(shape=(full_np.shape[1],))\n",
        "encoder1 = Dense(256, activation='relu')(encoder_in)\n",
        "encoder2 = Dense(128, activation='relu')(encoder1)\n",
        "encoder_out = Dense(64, activation='linear')(encoder2)\n",
        "encoderM = Model(inputs=encoder_in, outputs=encoder_out)\n",
        "encoderM.compile(optimizer='adam', loss=masked_mse)\n",
        "\n",
        "\n",
        "# create the decoder\n",
        "decoder_in = Input(shape=(64,))\n",
        "decoder1 = Dense(128, activation='relu')(decoder_in)\n",
        "decoder2 = Dense(256, activation='relu')(decoder1)\n",
        "decoder_out = Dense(n_movies, activation='linear')(decoder2)\n",
        "decoderM = Model(inputs=decoder_in, outputs=decoder_out)\n",
        "decoderM.compile(optimizer='adam', loss=masked_mse)\n",
        "\n",
        "#coompile\n",
        "autoencoder = Model(inputs=encoder_in, outputs=decoderM(encoderM(encoder_in)))\n",
        "autoencoder.compile(optimizer='adam', loss=masked_mse)\n"
      ]
    },
    {
      "cell_type": "markdown",
      "id": "8B2KQo-1Ds4K",
      "metadata": {
        "id": "8B2KQo-1Ds4K"
      },
      "source": [
        "### 👀visual"
      ]
    },
    {
      "cell_type": "code",
      "execution_count": 7,
      "id": "JFh6pu03CHHk",
      "metadata": {
        "id": "JFh6pu03CHHk"
      },
      "outputs": [
        {
          "data": {
            "image/png": "[encoded data removed]",
            "text/plain": [
              "<IPython.core.display.Image object>"
            ]
          },
          "execution_count": 7,
          "metadata": {},
          "output_type": "execute_result"
        }
      ],
      "source": [
        "from keras.models import Sequential\n",
        "from keras.layers import Dense\n",
        "from keras.utils import plot_model\n",
        "\n",
        "plot_model(autoencoder, to_file='autoencoder_plot.png', show_shapes=True, show_layer_names=True)"
      ]
    },
    {
      "cell_type": "markdown",
      "id": "OEzLsgcBEO9X",
      "metadata": {
        "id": "OEzLsgcBEO9X"
      },
      "source": [
        "## 🎓$\\ $ Train the model  $\\ $💪\n"
      ]
    },
    {
      "cell_type": "code",
      "execution_count": 8,
      "id": "073902c0",
      "metadata": {
        "id": "073902c0",
        "outputId": "fc135c42-0870-42e3-a42c-5e3d2ef37188"
      },
      "outputs": [
        {
          "name": "stdout",
          "output_type": "stream",
          "text": [
            "Epoch 1/20\n",
            "WARNING:tensorflow:From C:\\Users\\User\\AppData\\Roaming\\Python\\Python311\\site-packages\\keras\\src\\utils\\tf_utils.py:492: The name tf.ragged.RaggedTensorValue is deprecated. Please use tf.compat.v1.ragged.RaggedTensorValue instead.\n",
            "\n",
            "20/20 [==============================] - 5s 97ms/step - loss: 0.0032\n",
            "Epoch 2/20\n",
            "20/20 [==============================] - 2s 95ms/step - loss: 0.0010\n",
            "Epoch 3/20\n",
            "20/20 [==============================] - 2s 117ms/step - loss: 6.1769e-04\n",
            "Epoch 4/20\n",
            "20/20 [==============================] - 3s 135ms/step - loss: 5.7086e-04\n",
            "Epoch 5/20\n",
            "20/20 [==============================] - 2s 98ms/step - loss: 5.5662e-04\n",
            "Epoch 6/20\n",
            "20/20 [==============================] - 2s 91ms/step - loss: 5.6192e-04\n",
            "Epoch 7/20\n",
            "20/20 [==============================] - 2s 96ms/step - loss: 6.1046e-04\n",
            "Epoch 8/20\n",
            "20/20 [==============================] - 2s 107ms/step - loss: 6.2457e-04\n",
            "Epoch 9/20\n",
            "20/20 [==============================] - 2s 89ms/step - loss: 7.3347e-04\n",
            "Epoch 10/20\n",
            "20/20 [==============================] - 2s 98ms/step - loss: 5.9093e-04\n",
            "Epoch 11/20\n",
            "20/20 [==============================] - 2s 94ms/step - loss: 6.0860e-04\n",
            "Epoch 12/20\n",
            "20/20 [==============================] - 2s 100ms/step - loss: 5.9687e-04\n",
            "Epoch 13/20\n",
            "20/20 [==============================] - 2s 91ms/step - loss: 5.5408e-04\n",
            "Epoch 14/20\n",
            "20/20 [==============================] - 2s 92ms/step - loss: 5.9477e-04\n",
            "Epoch 15/20\n",
            "20/20 [==============================] - 2s 105ms/step - loss: 5.8496e-04\n",
            "Epoch 16/20\n",
            "20/20 [==============================] - 2s 97ms/step - loss: 5.6172e-04\n",
            "Epoch 17/20\n",
            "20/20 [==============================] - 2s 92ms/step - loss: 6.8552e-04\n",
            "Epoch 18/20\n",
            "20/20 [==============================] - 2s 89ms/step - loss: 5.5077e-04\n",
            "Epoch 19/20\n",
            "20/20 [==============================] - 2s 107ms/step - loss: 5.3722e-04\n",
            "Epoch 20/20\n",
            "20/20 [==============================] - 2s 117ms/step - loss: 5.7209e-04\n"
          ]
        },
        {
          "data": {
            "text/plain": [
              "<keras.src.callbacks.History at 0x1d7eee928d0>"
            ]
          },
          "execution_count": 8,
          "metadata": {},
          "output_type": "execute_result"
        }
      ],
      "source": [
        "autoencoder.fit(full_np, full_np, epochs=20, batch_size=32, shuffle=True)"
      ]
    },
    {
      "cell_type": "code",
      "execution_count": null,
      "id": "f81537ae",
      "metadata": {
        "id": "f81537ae",
        "outputId": "ad0cb223-44ff-427e-ec0d-3195eb6778c4"
      },
      "outputs": [
        {
          "name": "stderr",
          "output_type": "stream",
          "text": [
            "C:\\Users\\User\\AppData\\Roaming\\Python\\Python311\\site-packages\\keras\\src\\engine\\training.py:3103: UserWarning: You are saving your model as an HDF5 file via `model.save()`. This file format is considered legacy. We recommend using instead the native Keras format, e.g. `model.save('my_model.keras')`.\n",
            "  saving_api.save_model(\n"
          ]
        }
      ],
      "source": [
        "# autoencoder.save('autoencoder_10m_model.h5')"
      ]
    },
    {
      "cell_type": "markdown",
      "id": "Als9IsvrFuuq",
      "metadata": {
        "id": "Als9IsvrFuuq"
      },
      "source": [
        "\n",
        "This function will be used in the case that we wont to use a model trained on a larger dataset. Meaning more movies this making the input the wrong size to be used. \n",
        "\n"
      ]
    },
    {
      "cell_type": "code",
      "execution_count": null,
      "id": "e9963aac",
      "metadata": {
        "id": "e9963aac"
      },
      "outputs": [],
      "source": [
        "def fill_missing_columns(data, expected_shape):\n",
        "    current_shape = data.shape[1]\n",
        "\n",
        "    if current_shape < expected_shape:\n",
        "        # Calculate the number of missing columns\n",
        "        missing_columns = expected_shape - current_shape\n",
        "\n",
        "        # Create a matrix of zeros with the missing columns filled with 0.5\n",
        "        filler_columns = np.full((data.shape[0], missing_columns), 0.5)\n",
        "\n",
        "        # Concatenate the original data with the filler columns\n",
        "        filled_data = np.concatenate((data, filler_columns), axis=1)\n",
        "\n",
        "        return filled_data\n",
        "    else:\n",
        "        return data"
      ]
    },
    {
      "cell_type": "code",
      "execution_count": null,
      "id": "048b2343",
      "metadata": {
        "id": "048b2343",
        "outputId": "46e26dd1-1bf2-4fda-ce01-a004ca042e2e"
      },
      "outputs": [],
      "source": [
        "from keras.models import load_model\n",
        "\n",
        "loaded_model = load_model('autoencoder_10m_3+3layers_model.h5', custom_objects={'masked_mse': masked_mse})\n",
        "\n",
        "# in case of a diference in  data shape\n",
        "# expected_shape = 10677\n",
        "# filled_data = fill_missing_columns(full_np, expected_shape)\n",
        "# predictions = loaded_model.predict(filled_data)\n",
        "\n",
        "#  else we use the data directly\n",
        "predictions = loaded_model.predict(full_np)"
      ]
    },
    {
      "cell_type": "markdown",
      "id": "5XPFTlGhGay0",
      "metadata": {
        "id": "5XPFTlGhGay0"
      },
      "source": [
        "## Predictions\n",
        "\n",
        "the moment of truth (?) ,or hopefully,\n",
        "\n",
        "**good** **reccomendations**"
      ]
    },
    {
      "cell_type": "code",
      "execution_count": 11,
      "id": "300f0983",
      "metadata": {
        "id": "300f0983",
        "outputId": "5ae726c3-ebc0-4453-ab12-462f99b1116c"
      },
      "outputs": [
        {
          "name": "stdout",
          "output_type": "stream",
          "text": [
            "20/20 [==============================] - 1s 19ms/step\n"
          ]
        }
      ],
      "source": [
        "predictions = autoencoder.predict(full_np)"
      ]
    },
    {
      "cell_type": "markdown",
      "id": "3c074eb8",
      "metadata": {},
      "source": [
        "Here we are transforming the dataset to have the names of the movies as the **Index**"
      ]
    },
    {
      "cell_type": "code",
      "execution_count": 12,
      "id": "9eeac02c",
      "metadata": {
        "id": "9eeac02c"
      },
      "outputs": [],
      "source": [
        "predictions[full_mask] = np.nan # Make already wached movies prediction Nan\n",
        "column_names = movie_titles[:(predictions.shape[1])]\n",
        "newMovie_predictions_df = pd.DataFrame(data=predictions, columns=column_names)\n",
        "newMovie_predictions_df.set_index(pd.Index(full_index_values), inplace=True)"
      ]
    },
    {
      "cell_type": "markdown",
      "id": "cvetdVHlIM7c",
      "metadata": {
        "id": "cvetdVHlIM7c"
      },
      "source": [
        "## UI :\n",
        "Enter the identifier of the user that you whant to get recomendations "
      ]
    },
    {
      "cell_type": "code",
      "execution_count": 13,
      "id": "741d5bca",
      "metadata": {
        "id": "741d5bca",
        "outputId": "e50efac3-375f-48a6-dcf0-e9bb41775be6"
      },
      "outputs": [
        {
          "name": "stdout",
          "output_type": "stream",
          "text": [
            "You entered: 100\n",
            "UserID is in the list.\n"
          ]
        }
      ],
      "source": [
        "while True:\n",
        "    try:\n",
        "        userID = int(input(\"Enter userID: \"))\n",
        "        print(\"You entered:\", userID)\n",
        "\n",
        "        # Check if userID is in the list\n",
        "        if userID in full_index_values:\n",
        "            print(\"UserID is in the list.\")\n",
        "            break  # Break the loop if a valid ID is entered\n",
        "        else:\n",
        "            print(\"UserID is not in the list. Please try again.\")\n",
        "\n",
        "    except ValueError:\n",
        "        print(\"Invalid input. Please enter a valid integer.\")"
      ]
    },
    {
      "cell_type": "code",
      "execution_count": 15,
      "id": "a11cde7a",
      "metadata": {
        "id": "a11cde7a",
        "outputId": "e4712b50-95c2-4a87-b8a7-27f7af2966d6"
      },
      "outputs": [
        {
          "data": {
            "text/html": [
              "<div>\n",
              "<style scoped>\n",
              "    .dataframe tbody tr th:only-of-type {\n",
              "        vertical-align: middle;\n",
              "    }\n",
              "\n",
              "    .dataframe tbody tr th {\n",
              "        vertical-align: top;\n",
              "    }\n",
              "\n",
              "    .dataframe thead th {\n",
              "        text-align: right;\n",
              "    }\n",
              "</style>\n",
              "<table border=\"1\" class=\"dataframe\">\n",
              "  <thead>\n",
              "    <tr style=\"text-align: right;\">\n",
              "      <th>userId</th>\n",
              "      <th>100</th>\n",
              "    </tr>\n",
              "  </thead>\n",
              "  <tbody>\n",
              "    <tr>\n",
              "      <th>The Cloverfield Paradox (2018)</th>\n",
              "      <td>7.107881</td>\n",
              "    </tr>\n",
              "    <tr>\n",
              "      <th>King Solomon's Mines (1950)</th>\n",
              "      <td>7.059848</td>\n",
              "    </tr>\n",
              "    <tr>\n",
              "      <th>Ringu 0: Bâsudei (2000)</th>\n",
              "      <td>7.043908</td>\n",
              "    </tr>\n",
              "    <tr>\n",
              "      <th>Taps (1981)</th>\n",
              "      <td>6.913538</td>\n",
              "    </tr>\n",
              "    <tr>\n",
              "      <th>10th Kingdom, The (2000)</th>\n",
              "      <td>6.887712</td>\n",
              "    </tr>\n",
              "    <tr>\n",
              "      <th>Porco Rosso (Crimson Pig) (Kurenai no buta) (1992)</th>\n",
              "      <td>6.813084</td>\n",
              "    </tr>\n",
              "    <tr>\n",
              "      <th>Oh, God! You Devil (1984)</th>\n",
              "      <td>6.806645</td>\n",
              "    </tr>\n",
              "    <tr>\n",
              "      <th>Snipes (2001)</th>\n",
              "      <td>6.764593</td>\n",
              "    </tr>\n",
              "    <tr>\n",
              "      <th>Love Me If You Dare (Jeux d'enfants) (2003)</th>\n",
              "      <td>6.710279</td>\n",
              "    </tr>\n",
              "    <tr>\n",
              "      <th>Breakin' (1984)</th>\n",
              "      <td>6.683726</td>\n",
              "    </tr>\n",
              "  </tbody>\n",
              "</table>\n",
              "</div>"
            ],
            "text/plain": [
              "userId                                                   100\n",
              "The Cloverfield Paradox (2018)                      7.107881\n",
              "King Solomon's Mines (1950)                         7.059848\n",
              "Ringu 0: Bâsudei (2000)                             7.043908\n",
              "Taps (1981)                                         6.913538\n",
              "10th Kingdom, The (2000)                            6.887712\n",
              "Porco Rosso (Crimson Pig) (Kurenai no buta) (1992)  6.813084\n",
              "Oh, God! You Devil (1984)                           6.806645\n",
              "Snipes (2001)                                       6.764593\n",
              "Love Me If You Dare (Jeux d'enfants) (2003)         6.710279\n",
              "Breakin' (1984)                                     6.683726"
            ]
          },
          "execution_count": 15,
          "metadata": {},
          "output_type": "execute_result"
        }
      ],
      "source": [
        "top_n = 10  # Number of top recommendations\n",
        "\n",
        "user_rest = newMovie_predictions_df.index.difference([userID])\n",
        "newMovie_predictions_user = newMovie_predictions_df.drop(user_rest, axis=0, inplace=False).T\n",
        "newMovie_predictions_user = newMovie_predictions_user.dropna()\n",
        "\n",
        "newMovie_predictions_user.sort_values(by=userID, ascending=False)[:top_n]*5"
      ]
    },
    {
      "cell_type": "code",
      "execution_count": null,
      "id": "8ba71fd1",
      "metadata": {},
      "outputs": [],
      "source": []
    },
    {
      "cell_type": "code",
      "execution_count": null,
      "id": "5bf12628",
      "metadata": {},
      "outputs": [],
      "source": []
    }
  ],
  "metadata": {
    "colab": {
      "provenance": []
    },
    "kernelspec": {
      "display_name": "Python 3 (ipykernel)",
      "language": "python",
      "name": "python3"
    },
    "language_info": {
      "codemirror_mode": {
        "name": "ipython",
        "version": 3
      },
      "file_extension": ".py",
      "mimetype": "text/x-python",
      "name": "python",
      "nbconvert_exporter": "python",
      "pygments_lexer": "ipython3",
      "version": "3.11.5"
    },
    "latex_envs": {
      "LaTeX_envs_menu_present": true,
      "autoclose": false,
      "autocomplete": true,
      "bibliofile": "biblio.bib",
      "cite_by": "apalike",
      "current_citInitial": 1,
      "eqLabelWithNumbers": true,
      "eqNumInitial": 1,
      "hotkeys": {
        "equation": "Ctrl-E",
        "itemize": "Ctrl-I"
      },
      "labels_anchors": false,
      "latex_user_defs": false,
      "report_style_numbering": false,
      "user_envs_cfg": false
    },
    "varInspector": {
      "cols": {
        "lenName": 16,
        "lenType": 16,
        "lenVar": 40
      },
      "kernels_config": {
        "python": {
          "delete_cmd_postfix": "",
          "delete_cmd_prefix": "del ",
          "library": "var_list.py",
          "varRefreshCmd": "print(var_dic_list())"
        },
        "r": {
          "delete_cmd_postfix": ") ",
          "delete_cmd_prefix": "rm(",
          "library": "var_list.r",
          "varRefreshCmd": "cat(var_dic_list()) "
        }
      },
      "types_to_exclude": [
        "module",
        "function",
        "builtin_function_or_method",
        "instance",
        "_Feature"
      ],
      "window_display": false
    }
  },
  "nbformat": 4,
  "nbformat_minor": 5
}
