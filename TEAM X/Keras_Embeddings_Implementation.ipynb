{
 "cells": [
  {
   "cell_type": "markdown",
   "metadata": {
    "id": "jNZVztrh8WW_"
   },
   "source": [
    "# [TEAM-X] Anime Recommender Engine - Keras Embeddings Implementation\n",
    "#### NIKOLOPOULOS THOMAS 03085 - TSELOS ORFEAS-DIMITRIOS 02963\n",
    "---"
   ]
  },
  {
   "cell_type": "markdown",
   "metadata": {
    "id": "Km3WUlQF-B69"
   },
   "source": [
    "In this notebook (run in Google Collab) we will create a recommender system using the Embeddings technique available in the keras package."
   ]
  },
  {
   "cell_type": "markdown",
   "metadata": {
    "id": "avVvAwaz_FXp"
   },
   "source": [
    "\n",
    "An embedding refers to the conversion of a discrete, categorical variable into a continuous number vector. Within neural networks, embeddings are learned as low-dimensional, continuous vector representations of discrete variables. These neural network embeddings prove valuable by reducing the dimensionality of categorical variables and effectively representing categories in the transformed space."
   ]
  },
  {
   "cell_type": "markdown",
   "metadata": {
    "id": "w6nzRu7K_VgX"
   },
   "source": [
    "In essence, embeddings empower machine learning models to identify comparable objects. When provided with a photo or document, a machine learning model using embeddings can locate a similar photo or document."
   ]
  },
  {
   "cell_type": "markdown",
   "metadata": {
    "id": "xlcLcDDY4rZb"
   },
   "source": [
    "❗ **WARNING: DO NOT RUN BECAUSE OF EXTENDED TIME TO TRAIN THE MODEL. IT HAS ALREADY BEEN RUN.** ❗"
   ]
  },
  {
   "cell_type": "markdown",
   "metadata": {
    "id": "JK8S_JBr_zNK"
   },
   "source": [
    "## Feature Cleaning\n",
    "---"
   ]
  },
  {
   "cell_type": "markdown",
   "metadata": {
    "id": "CWtYZx8pADIE"
   },
   "source": [
    "Before we implement the recommender system, we will search for missing or duplicate values in the two datasets and remove them."
   ]
  },
  {
   "cell_type": "code",
   "execution_count": 3,
   "metadata": {
    "id": "8P9EXFlsAmU6"
   },
   "outputs": [],
   "source": [
    "# Importing packages used in this notebook\n",
    "import os\n",
    "import numpy as np\n",
    "import pandas as pd\n",
    "import matplotlib.pyplot as plt\n",
    "from sklearn.model_selection import train_test_split\n",
    "from keras.layers import Input, Embedding, Flatten, Dot, Dense, concatenate\n",
    "from keras.models import Model\n",
    "from sklearn.metrics import mean_squared_error\n",
    "from math import sqrt\n",
    "import multiprocessing"
   ]
  },
  {
   "cell_type": "code",
   "execution_count": 4,
   "metadata": {
    "id": "il2oYEyeA3wZ"
   },
   "outputs": [],
   "source": [
    "# Loading the datasets\n",
    "ratings = pd.read_csv('rating.csv')\n",
    "anime = pd.read_csv('anime.csv')"
   ]
  },
  {
   "cell_type": "markdown",
   "metadata": {
    "id": "Y8eFn0YaBorR"
   },
   "source": [
    "### Missing Values"
   ]
  },
  {
   "cell_type": "code",
   "execution_count": 5,
   "metadata": {
    "colab": {
     "base_uri": "https://localhost:8080/",
     "height": 0
    },
    "id": "VYwHTsgKBaYL",
    "outputId": "3bc38528-eaaf-4825-c6bf-1ed2dda118c0"
   },
   "outputs": [
    {
     "data": {
      "text/plain": [
       "anime_id      0\n",
       "name          0\n",
       "genre        62\n",
       "type         25\n",
       "episodes      0\n",
       "rating      230\n",
       "members       0\n",
       "dtype: int64"
      ]
     },
     "execution_count": 5,
     "metadata": {},
     "output_type": "execute_result"
    }
   ],
   "source": [
    "anime.isnull().sum()"
   ]
  },
  {
   "cell_type": "markdown",
   "metadata": {
    "id": "3CWn68mJB0-M"
   },
   "source": [
    "We decide to drop the missing values, because their number is too small compared to the total number of entries."
   ]
  },
  {
   "cell_type": "code",
   "execution_count": 6,
   "metadata": {
    "colab": {
     "base_uri": "https://localhost:8080/",
     "height": 0
    },
    "id": "LOzRFNO_B3CQ",
    "outputId": "6b500ec2-5229-40ac-e2eb-d50ac520e603"
   },
   "outputs": [
    {
     "data": {
      "text/plain": [
       "anime_id    0\n",
       "name        0\n",
       "genre       0\n",
       "type        0\n",
       "episodes    0\n",
       "rating      0\n",
       "members     0\n",
       "dtype: int64"
      ]
     },
     "execution_count": 6,
     "metadata": {},
     "output_type": "execute_result"
    }
   ],
   "source": [
    "anime = anime.dropna()\n",
    "anime.isnull().sum()"
   ]
  },
  {
   "cell_type": "code",
   "execution_count": 7,
   "metadata": {
    "colab": {
     "base_uri": "https://localhost:8080/",
     "height": 0
    },
    "id": "vxy0yH52CAFX",
    "outputId": "7cb904b8-59b9-4c43-b081-25f978f73d21"
   },
   "outputs": [
    {
     "data": {
      "text/plain": [
       "user_id     0\n",
       "anime_id    0\n",
       "rating      0\n",
       "dtype: int64"
      ]
     },
     "execution_count": 7,
     "metadata": {},
     "output_type": "execute_result"
    }
   ],
   "source": [
    "ratings.isnull().sum()"
   ]
  },
  {
   "cell_type": "markdown",
   "metadata": {
    "id": "4sljQsObCArc"
   },
   "source": [
    "There are no missing values."
   ]
  },
  {
   "cell_type": "markdown",
   "metadata": {
    "id": "jJpTEEyRCJZw"
   },
   "source": [
    "### Duplicate Values"
   ]
  },
  {
   "cell_type": "code",
   "execution_count": 8,
   "metadata": {
    "colab": {
     "base_uri": "https://localhost:8080/",
     "height": 0
    },
    "id": "x1S8syHVCQQo",
    "outputId": "cab87e6f-9a38-432e-8af9-c3583ac3545a"
   },
   "outputs": [
    {
     "data": {
      "text/plain": [
       "0"
      ]
     },
     "execution_count": 8,
     "metadata": {},
     "output_type": "execute_result"
    }
   ],
   "source": [
    "anime.duplicated().sum()"
   ]
  },
  {
   "cell_type": "markdown",
   "metadata": {
    "id": "Rp05f4HpCQ6w"
   },
   "source": [
    "We see that there are no duplicate values."
   ]
  },
  {
   "cell_type": "code",
   "execution_count": 9,
   "metadata": {
    "colab": {
     "base_uri": "https://localhost:8080/",
     "height": 0
    },
    "id": "I_riMX9QCT9r",
    "outputId": "59e001af-6263-406e-ce75-824149f1f06d"
   },
   "outputs": [
    {
     "data": {
      "text/plain": [
       "1"
      ]
     },
     "execution_count": 9,
     "metadata": {},
     "output_type": "execute_result"
    }
   ],
   "source": [
    "ratings.duplicated().sum()"
   ]
  },
  {
   "cell_type": "markdown",
   "metadata": {
    "id": "9sFhlIxsCh7Z"
   },
   "source": [
    "We see that there is 1 duplicate value."
   ]
  },
  {
   "cell_type": "code",
   "execution_count": 10,
   "metadata": {
    "colab": {
     "base_uri": "https://localhost:8080/",
     "height": 0
    },
    "id": "cVw99Y_JCjSE",
    "outputId": "66c3d1c3-57f5-46ff-d65b-dfa5b1f1c104"
   },
   "outputs": [
    {
     "data": {
      "text/plain": [
       "0"
      ]
     },
     "execution_count": 10,
     "metadata": {},
     "output_type": "execute_result"
    }
   ],
   "source": [
    "ratings = ratings.drop_duplicates()\n",
    "ratings.duplicated().sum()"
   ]
  },
  {
   "cell_type": "markdown",
   "metadata": {
    "id": "GEcKVTxSCpfc"
   },
   "source": [
    "Duplicate has been removed."
   ]
  },
  {
   "cell_type": "markdown",
   "metadata": {
    "id": "mIjnU_mIDLx2"
   },
   "source": [
    "## Multiprocessing\n",
    "---"
   ]
  },
  {
   "cell_type": "markdown",
   "metadata": {
    "id": "ZbzwGsHHDY8G"
   },
   "source": [
    "As the training of the `rating.csv` dataset using Embeddings is time-consuming, we will take advantage of the multiprocessing module in Python to determine the number of available CPU cores."
   ]
  },
  {
   "cell_type": "code",
   "execution_count": 11,
   "metadata": {
    "colab": {
     "base_uri": "https://localhost:8080/",
     "height": 0
    },
    "id": "1kq3TfSa2RQt",
    "outputId": "e3343ffa-0a46-40e5-e743-1966163b5217"
   },
   "outputs": [
    {
     "name": "stdout",
     "output_type": "stream",
     "text": [
      "Number of CPU cores: 2\n"
     ]
    }
   ],
   "source": [
    "num_cores = multiprocessing.cpu_count()\n",
    "print(f\"Number of CPU cores: {num_cores}\")"
   ]
  },
  {
   "cell_type": "markdown",
   "metadata": {
    "id": "yW0oQt73EVFn"
   },
   "source": [
    "## Creating the Recommender System\n",
    "---"
   ]
  },
  {
   "cell_type": "markdown",
   "metadata": {
    "id": "EpLiOqpVEilC"
   },
   "source": [
    "We will implement the recommender system in stages to make the code understandable and easier to modify if needed."
   ]
  },
  {
   "cell_type": "markdown",
   "metadata": {
    "id": "RnlxLs4KEz3b"
   },
   "source": [
    "### Preprocessing and Initialisations"
   ]
  },
  {
   "cell_type": "code",
   "execution_count": 12,
   "metadata": {
    "id": "zJjdKEyjE7JD"
   },
   "outputs": [],
   "source": [
    "# Preprocess data\n",
    "n_users = ratings['user_id'].nunique()\n",
    "n_animes = ratings['anime_id'].nunique()\n",
    "\n",
    "# Ensure that the embedding size is smaller than the number of unique users and animes\n",
    "embedding_size = min(50, n_users, n_animes)"
   ]
  },
  {
   "cell_type": "markdown",
   "metadata": {
    "id": "yEM82QppFy0F"
   },
   "source": [
    "### Mapping indices"
   ]
  },
  {
   "cell_type": "code",
   "execution_count": 13,
   "metadata": {
    "id": "NuWJnPU0GBRY"
   },
   "outputs": [],
   "source": [
    "# Map user and anime indices to a range starting from 0\n",
    "user_mapping = {user_id: i for i, user_id in enumerate(ratings['user_id'].unique())}\n",
    "anime_mapping = {anime_id: i for i, anime_id in enumerate(ratings['anime_id'].unique())}\n",
    "\n",
    "ratings['user_index'] = ratings['user_id'].map(user_mapping)\n",
    "ratings['anime_index'] = ratings['anime_id'].map(anime_mapping)"
   ]
  },
  {
   "cell_type": "markdown",
   "metadata": {
    "id": "w84bsMPPGcxU"
   },
   "source": [
    "### Input, Embedding and Flatten Layers"
   ]
  },
  {
   "cell_type": "code",
   "execution_count": 14,
   "metadata": {
    "id": "yr2ExzM8GkDJ"
   },
   "outputs": [],
   "source": [
    "# Create user and anime input layers\n",
    "user_input = Input(shape=(1,), name='user_input')\n",
    "anime_input = Input(shape=(1,), name='anime_input')\n",
    "\n",
    "# User and anime embeddings\n",
    "user_embedding = Embedding(n_users, embedding_size, input_length=1, name='user_embedding')(user_input)\n",
    "anime_embedding = Embedding(n_animes, embedding_size, input_length=1, name='anime_embedding')(anime_input)\n",
    "\n",
    "# Flatten the embeddings\n",
    "user_flat = Flatten()(user_embedding)\n",
    "anime_flat = Flatten()(anime_embedding)"
   ]
  },
  {
   "cell_type": "markdown",
   "metadata": {
    "id": "p0LT9wyzGrcS"
   },
   "source": [
    "### Dot product and merge\n",
    "\n",
    "---\n",
    "\n"
   ]
  },
  {
   "cell_type": "code",
   "execution_count": 15,
   "metadata": {
    "id": "_uQYyk_eG6H9"
   },
   "outputs": [],
   "source": [
    "# Dot product of user and anime embeddings\n",
    "dot_product = Dot(axes=1, name='dot_product')([user_flat, anime_flat])\n",
    "\n",
    "# Combine user and anime embeddings\n",
    "merged = concatenate([user_flat, anime_flat])"
   ]
  },
  {
   "cell_type": "markdown",
   "metadata": {
    "id": "lZqMoQTrG-3V"
   },
   "source": [
    "### Model Creation"
   ]
  },
  {
   "cell_type": "code",
   "execution_count": 16,
   "metadata": {
    "id": "tNZwF8lxHMHR"
   },
   "outputs": [],
   "source": [
    "# Model creation\n",
    "model = Model(inputs=[user_input, anime_input], outputs=dot_product)\n",
    "model.compile(optimizer='adam', loss='mean_squared_error')"
   ]
  },
  {
   "cell_type": "markdown",
   "metadata": {
    "id": "xq5e1UI9HOYH"
   },
   "source": [
    "### Training and Test Split"
   ]
  },
  {
   "cell_type": "code",
   "execution_count": 17,
   "metadata": {
    "id": "WEoKzcBlHcs4"
   },
   "outputs": [],
   "source": [
    "# Split the data into training and testing sets\n",
    "train, test = train_test_split(ratings, test_size=0.8, random_state=42)"
   ]
  },
  {
   "cell_type": "markdown",
   "metadata": {
    "id": "6ecVr-FGHdom"
   },
   "source": [
    "### Model training and evaluation"
   ]
  },
  {
   "cell_type": "markdown",
   "metadata": {
    "id": "_MBgPrx0Rvcc"
   },
   "source": [
    "Model training for the `rating.csv` dataset is very time-consuming (ETA: 1 hour, 50 minutes). The results can be seen below so rerunning is not necessary."
   ]
  },
  {
   "cell_type": "code",
   "execution_count": 18,
   "metadata": {
    "colab": {
     "base_uri": "https://localhost:8080/",
     "height": 0
    },
    "id": "xJ7oFnumHkr-",
    "outputId": "1a27819f-ea38-4899-c47b-71fd846feca3"
   },
   "outputs": [
    {
     "name": "stdout",
     "output_type": "stream",
     "text": [
      "Epoch 1/5\n",
      "19535/19535 [==============================] - 1427s 73ms/step - loss: 23.9440 - val_loss: 8.1237\n",
      "Epoch 2/5\n",
      "19535/19535 [==============================] - 1299s 67ms/step - loss: 6.4610 - val_loss: 6.4695\n",
      "Epoch 3/5\n",
      "19535/19535 [==============================] - 1298s 66ms/step - loss: 5.4019 - val_loss: 6.0104\n",
      "Epoch 4/5\n",
      "19535/19535 [==============================] - 1280s 66ms/step - loss: 4.7661 - val_loss: 5.7783\n",
      "Epoch 5/5\n",
      "19535/19535 [==============================] - 1260s 65ms/step - loss: 4.1360 - val_loss: 5.6640\n",
      "195344/195344 [==============================] - 262s 1ms/step\n",
      "Root Mean Squared Error on Test Set: 2.375569190887663\n"
     ]
    }
   ],
   "source": [
    "# Model training\n",
    "history = model.fit([train['user_index'], train['anime_index']], train['rating'], epochs=5, batch_size=64, validation_split=0.2, workers=num_cores)\n",
    "\n",
    "# Model evaluation on the test set\n",
    "predictions = model.predict([test['user_index'], test['anime_index']])\n",
    "rmse = sqrt(mean_squared_error(test['rating'], predictions))\n",
    "print(f'Root Mean Squared Error on Test Set: {rmse}')"
   ]
  },
  {
   "cell_type": "markdown",
   "metadata": {
    "id": "g9jMkproHt4n"
   },
   "source": [
    "### Saving the model and plotting the Errors-Epoch"
   ]
  },
  {
   "cell_type": "code",
   "execution_count": 20,
   "metadata": {
    "colab": {
     "base_uri": "https://localhost:8080/",
     "height": 544
    },
    "id": "HtVJ1eNs0Sly",
    "outputId": "f85f9a98-606c-4d53-c93c-78c34cce2d5c"
   },
   "outputs": [
    {
     "name": "stderr",
     "output_type": "stream",
     "text": [
      "/usr/local/lib/python3.10/dist-packages/keras/src/engine/training.py:3103: UserWarning: You are saving your model as an HDF5 file via `model.save()`. This file format is considered legacy. We recommend using instead the native Keras format, e.g. `model.save('my_model.keras')`.\n",
      "  saving_api.save_model(\n"
     ]
    },
    {
     "data": {
      "text/plain": [
       "Text(0.5, 1.0, 'Errors per Epoch')"
      ]
     },
     "execution_count": 20,
     "metadata": {},
     "output_type": "execute_result"
    },
    {
     "data": {
      "image/png": "[encoded data removed]",
      "text/plain": [
       "<Figure size 640x480 with 1 Axes>"
      ]
     },
     "metadata": {},
     "output_type": "display_data"
    }
   ],
   "source": [
    "model.save('recommender_model.h5')\n",
    "plt.plot(history.history['loss'])\n",
    "plt.xlabel(\"Epochs\")\n",
    "plt.ylabel(\"Training Error\")\n",
    "plt.title(\"Errors per Epoch\")"
   ]
  },
  {
   "cell_type": "markdown",
   "metadata": {
    "id": "FCfpSpMfIXJ1"
   },
   "source": [
    "### Recommender Function"
   ]
  },
  {
   "cell_type": "code",
   "execution_count": 21,
   "metadata": {
    "id": "abFfudAUF7in"
   },
   "outputs": [],
   "source": [
    "def recommender(user_id, model, anime_mapping, anime, n):\n",
    "    # Get the index of the user\n",
    "    user = user_mapping[user_id]\n",
    "\n",
    "    # Get anime indices\n",
    "    anime_indices = np.array(list(anime_mapping.values()))\n",
    "\n",
    "    # Repeat the user index for all anime\n",
    "    user_indices = np.full_like(anime_indices, user)\n",
    "\n",
    "    # Predict ratings for all anime for the given user\n",
    "    predictions = model.predict([user_indices, anime_indices])\n",
    "\n",
    "    # Get the original anime IDs\n",
    "    anime_ids = [anime_id for anime_id, idx in anime_mapping.items()]\n",
    "\n",
    "    # Create a dataFrame with anime IDs, predicted ratings, and other anime information from anime.csv\n",
    "    recommendations = pd.DataFrame({\n",
    "        'anime_id': anime_ids,\n",
    "        'predicted_rating': predictions.flatten()\n",
    "    })\n",
    "\n",
    "    # Merge with anime to get additional information\n",
    "    recommendations = pd.merge(recommendations, anime, on='anime_id')\n",
    "\n",
    "    # Sort the DataFrame by predicted ratings in descending order\n",
    "    recommendations = recommendations.sort_values(by='predicted_rating', ascending=False)\n",
    "\n",
    "    # Get the top N recommendations\n",
    "    top_recommendations = recommendations.head(n)\n",
    "\n",
    "    return top_recommendations\n"
   ]
  },
  {
   "cell_type": "markdown",
   "metadata": {
    "id": "gkKjDYEeK5Q1"
   },
   "source": [
    "### Calling the recommender for a specific `user_id`"
   ]
  },
  {
   "cell_type": "code",
   "execution_count": 22,
   "metadata": {
    "colab": {
     "base_uri": "https://localhost:8080/",
     "height": 0
    },
    "id": "58wZA2QjGW1d",
    "outputId": "02e2a3d1-58e8-4e8f-df3f-e1fe3f0b5ac5"
   },
   "outputs": [
    {
     "name": "stdout",
     "output_type": "stream",
     "text": [
      "350/350 [==============================] - 1s 1ms/step\n",
      "Top 10 recommended anime for user 123:\n",
      "      anime_id  predicted_rating                           name  \\\n",
      "2704       820         11.286757           Ginga Eiyuu Densetsu   \n",
      "429       9253         10.916918                    Steins;Gate   \n",
      "494      14719         10.789021  JoJo no Kimyou na Bouken (TV)   \n",
      "443      10162         10.759461                     Usagi Drop   \n",
      "1536     21939         10.648460             Mushishi Zoku Shou   \n",
      "565      22789         10.626290                      Barakamon   \n",
      "882         19         10.609235                        Monster   \n",
      "436       9969         10.544785                  Gintama&#039;   \n",
      "227      30276         10.498508                  One Punch Man   \n",
      "328        918         10.465157                        Gintama   \n",
      "\n",
      "                                                  genre type episodes  rating  \\\n",
      "2704                     Drama, Military, Sci-Fi, Space  OVA      110    9.11   \n",
      "429                                    Sci-Fi, Thriller   TV       24    9.17   \n",
      "494   Action, Adventure, Shounen, Supernatural, Vampire   TV       26    8.51   \n",
      "443                                Josei, Slice of Life   TV       11    8.56   \n",
      "1536  Adventure, Fantasy, Historical, Mystery, Seine...   TV       10    8.80   \n",
      "565                               Comedy, Slice of Life   TV       12    8.50   \n",
      "882   Drama, Horror, Mystery, Police, Psychological,...   TV       74    8.72   \n",
      "436   Action, Comedy, Historical, Parody, Samurai, S...   TV       51    9.16   \n",
      "227   Action, Comedy, Parody, Sci-Fi, Seinen, Super ...   TV       12    8.82   \n",
      "328   Action, Comedy, Historical, Parody, Samurai, S...   TV      201    9.04   \n",
      "\n",
      "      members  \n",
      "2704    80679  \n",
      "429    673572  \n",
      "494    190197  \n",
      "443    194855  \n",
      "1536   101351  \n",
      "565    225927  \n",
      "882    247562  \n",
      "436    151266  \n",
      "227    552458  \n",
      "328    336376  \n"
     ]
    }
   ],
   "source": [
    "user_id = 123  # Replace with the desired user ID\n",
    "n = 10 # Replace with the desired number of recommended anime\n",
    "top_recommendations = recommender(user_id, model, anime_mapping, anime, n)\n",
    "\n",
    "print(f\"Top {n} recommended anime for user {user_id}:\")\n",
    "print(top_recommendations)"
   ]
  },
  {
   "cell_type": "markdown",
   "metadata": {
    "id": "opFEyGp5MJsK"
   },
   "source": [
    "## Conclusion\n",
    "\n",
    "This notebook has guided us to the recommendation of a number of anime for a specific user. With the help of Embeddings, we have sucessfully created a Recommender System in Python."
   ]
  }
 ],
 "metadata": {
  "colab": {
   "gpuType": "T4",
   "provenance": []
  },
  "kernelspec": {
   "display_name": "Python 3 (ipykernel)",
   "language": "python",
   "name": "python3"
  },
  "language_info": {
   "codemirror_mode": {
    "name": "ipython",
    "version": 3
   },
   "file_extension": ".py",
   "mimetype": "text/x-python",
   "name": "python",
   "nbconvert_exporter": "python",
   "pygments_lexer": "ipython3",
   "version": "3.9.13"
  },
  "latex_envs": {
   "LaTeX_envs_menu_present": true,
   "autoclose": false,
   "autocomplete": true,
   "bibliofile": "biblio.bib",
   "cite_by": "apalike",
   "current_citInitial": 1,
   "eqLabelWithNumbers": true,
   "eqNumInitial": 1,
   "hotkeys": {
    "equation": "Ctrl-E",
    "itemize": "Ctrl-I"
   },
   "labels_anchors": false,
   "latex_user_defs": false,
   "report_style_numbering": false,
   "user_envs_cfg": false
  },
  "varInspector": {
   "cols": {
    "lenName": 16,
    "lenType": 16,
    "lenVar": 40
   },
   "kernels_config": {
    "python": {
     "delete_cmd_postfix": "",
     "delete_cmd_prefix": "del ",
     "library": "var_list.py",
     "varRefreshCmd": "print(var_dic_list())"
    },
    "r": {
     "delete_cmd_postfix": ") ",
     "delete_cmd_prefix": "rm(",
     "library": "var_list.r",
     "varRefreshCmd": "cat(var_dic_list()) "
    }
   },
   "types_to_exclude": [
    "module",
    "function",
    "builtin_function_or_method",
    "instance",
    "_Feature"
   ],
   "window_display": false
  }
 },
 "nbformat": 4,
 "nbformat_minor": 1
}
