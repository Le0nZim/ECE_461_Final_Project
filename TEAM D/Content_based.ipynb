{
  "cells": [
    {
      "cell_type": "code",
      "execution_count": null,
      "metadata": {
        "id": "vJvx28YY_Bzx"
      },
      "outputs": [],
      "source": [
        "import pandas as pd\n",
        "from sklearn.feature_extraction.text import TfidfVectorizer\n",
        "from sklearn.metrics.pairwise import cosine_similarity"
      ]
    },
    {
      "cell_type": "code",
      "execution_count": null,
      "metadata": {
        "id": "AzFy2dTuAnXm"
      },
      "outputs": [],
      "source": [
        "movies = pd.read_csv(\"movies.csv\")\n",
        "movies.drop_duplicates(subset =\"title\",keep='first',inplace=True,ignore_index=True)"
      ]
    },
    {
      "cell_type": "code",
      "execution_count": null,
      "metadata": {
        "colab": {
          "base_uri": "https://localhost:8080/"
        },
        "id": "1HWlG_oZAreE",
        "outputId": "0b9e47e1-0de6-48e1-8292-4f1ce2df4d8b"
      },
      "outputs": [
        {
          "output_type": "stream",
          "name": "stdout",
          "text": [
            "movieId    0\n",
            "title      0\n",
            "genres     0\n",
            "dtype: int64\n"
          ]
        }
      ],
      "source": [
        "print(movies.isnull().sum())"
      ]
    },
    {
      "cell_type": "code",
      "execution_count": null,
      "metadata": {
        "colab": {
          "base_uri": "https://localhost:8080/"
        },
        "id": "J2ZijJ36At8U",
        "outputId": "3aa7ab8d-463c-4136-ca34-68af64d94f01"
      },
      "outputs": [
        {
          "output_type": "stream",
          "name": "stdout",
          "text": [
            "Empty DataFrame\n",
            "Columns: [movieId, title, genres]\n",
            "Index: []\n"
          ]
        }
      ],
      "source": [
        "duplicates = movies[movies.duplicated()]\n",
        "print(duplicates)"
      ]
    },
    {
      "cell_type": "code",
      "execution_count": null,
      "metadata": {
        "colab": {
          "base_uri": "https://localhost:8080/"
        },
        "id": "lgWJqBj0_LgW",
        "outputId": "7eb1fcb1-3a9d-4660-983f-fe54bb82f827"
      },
      "outputs": [
        {
          "output_type": "stream",
          "name": "stderr",
          "text": [
            "<ipython-input-17-e63e1ac30a67>:4: FutureWarning: The default value of regex will change from True to False in a future version.\n",
            "  movies['title'] = movies['title'].str.replace('(\\(\\d{4}\\))', '').str.strip()\n"
          ]
        }
      ],
      "source": [
        "# Prepare the data\n",
        "movies['genres'] = movies['genres'].str.split('|')\n",
        "movies['year'] = movies['title'].str.extract('\\((\\d{4})\\)')\n",
        "movies['title'] = movies['title'].str.replace('(\\(\\d{4}\\))', '').str.strip()"
      ]
    },
    {
      "cell_type": "code",
      "execution_count": null,
      "metadata": {
        "id": "LSEk3Q_ZDVYY"
      },
      "outputs": [],
      "source": [
        "# Create a feature vector for each movie\n",
        "tfidf = TfidfVectorizer(stop_words='english')\n",
        "movies['plot'] = movies['title'] + ' ' + movies['genres'].apply(lambda x: ' '.join(x))\n",
        "tfidf_matrix = tfidf.fit_transform(movies['plot'])\n",
        "\n",
        "# similarities between movies\n",
        "cosine_sim = cosine_similarity(tfidf_matrix, tfidf_matrix)\n",
        "\n",
        "# Recommend\n",
        "def get_recommendations(title, cosine_sim=cosine_sim):\n",
        "    idx = movies[movies['title'] == title].index[0]\n",
        "    sim_scores = list(enumerate(cosine_sim[idx]))\n",
        "    sim_scores = sorted(sim_scores, key=lambda x: x[1], reverse=True)\n",
        "    sim_scores = sim_scores[1:11]\n",
        "    movie_indices = [i[0] for i in sim_scores]\n",
        "    similarity_scores = [i[1] for i in sim_scores]\n",
        "    recommended_movies = movies['title'].iloc[movie_indices]\n",
        "\n",
        "    for i, (movie, score) in enumerate(zip(recommended_movies, similarity_scores), 1):\n",
        "      print(f\"{i}. {movie} - Similarity Score: {score}\")\n"
      ]
    },
    {
      "cell_type": "code",
      "execution_count": null,
      "metadata": {
        "colab": {
          "base_uri": "https://localhost:8080/"
        },
        "id": "mbROlAth_VUy",
        "outputId": "f9de3348-1348-4b8a-bdf8-090307445720"
      },
      "outputs": [
        {
          "output_type": "stream",
          "name": "stdout",
          "text": [
            "1. Toy Story 2 - Similarity Score: 1.0000000000000002\n",
            "2. Toy Story 3 - Similarity Score: 0.9257843096519454\n",
            "3. Toy, The - Similarity Score: 0.6878953284363422\n",
            "4. We're Back! A Dinosaur's Story - Similarity Score: 0.5215787140340161\n",
            "5. Story of Us, The - Similarity Score: 0.46783588558980754\n",
            "6. Toy Soldiers - Similarity Score: 0.4645431133821312\n",
            "7. Up - Similarity Score: 0.4636231223205045\n",
            "8. NeverEnding Story, The - Similarity Score: 0.45255255094980057\n",
            "9. L.A. Story - Similarity Score: 0.44322257439767243\n",
            "10. Wild, The - Similarity Score: 0.42772117992407177\n"
          ]
        }
      ],
      "source": [
        "get_recommendations('Toy Story')"
      ]
    },
    {
      "cell_type": "code",
      "execution_count": null,
      "metadata": {
        "colab": {
          "base_uri": "https://localhost:8080/"
        },
        "id": "2VgIpl4vGK-q",
        "outputId": "751b0e57-864f-4f33-d597-d4dc9a6d0f28"
      },
      "outputs": [
        {
          "output_type": "stream",
          "name": "stdout",
          "text": [
            "1. Dinosaur - Similarity Score: 0.8443716254779753\n",
            "2. The Good Dinosaur - Similarity Score: 0.7531563059227538\n",
            "3. Toy Story - Similarity Score: 0.5215787140340161\n",
            "4. Toy Story 2 - Similarity Score: 0.5215787140340161\n",
            "5. Toy Story 3 - Similarity Score: 0.48286938970113097\n",
            "6. Up - Similarity Score: 0.45902798800282885\n",
            "7. NeverEnding Story, The - Similarity Score: 0.44806714101810274\n",
            "8. Story of Us, The - Similarity Score: 0.4158861823561897\n",
            "9. NeverEnding Story III, The - Similarity Score: 0.39680926108802594\n",
            "10. L.A. Story - Similarity Score: 0.39400599671387443\n"
          ]
        }
      ],
      "source": [
        "get_recommendations(\"We're Back! A Dinosaur's Story\")"
      ]
    },
    {
      "cell_type": "code",
      "execution_count": null,
      "metadata": {
        "colab": {
          "base_uri": "https://localhost:8080/"
        },
        "id": "MGj2jNGGad7Y",
        "outputId": "f2d9bffe-2bc0-4b5c-93d9-3e8ca5a86d2b"
      },
      "outputs": [
        {
          "output_type": "stream",
          "name": "stdout",
          "text": [
            "1. Jumanji: Welcome to the Jungle - Similarity Score: 0.6397980067921399\n",
            "2. Up - Similarity Score: 0.32865673001937645\n",
            "3. Wild, The - Similarity Score: 0.3261995718086005\n",
            "4. Pan - Similarity Score: 0.3179415839897905\n",
            "5. G-Force - Similarity Score: 0.31581550971274724\n",
            "6. D.A.R.Y.L. - Similarity Score: 0.31228070345575076\n",
            "7. Monsters, Inc. - Similarity Score: 0.30431360066367635\n",
            "8. Now and Then - Similarity Score: 0.3014817101012759\n",
            "9. Yours, Mine and Ours - Similarity Score: 0.29649666784503564\n",
            "10. Are We There Yet? - Similarity Score: 0.29649666784503564\n"
          ]
        }
      ],
      "source": [
        "get_recommendations('Jumanji')"
      ]
    },
    {
      "cell_type": "code",
      "execution_count": null,
      "metadata": {
        "id": "sacIHLxqbB5H",
        "colab": {
          "base_uri": "https://localhost:8080/"
        },
        "outputId": "8b170e11-fde6-420a-dd6b-344ccdbf926f"
      },
      "outputs": [
        {
          "output_type": "stream",
          "name": "stdout",
          "text": [
            "1. San Francisco - Similarity Score: 0.5487160258836883\n",
            "2. Homeward Bound: The Incredible Journey - Similarity Score: 0.5228354414648512\n",
            "3. Bound - Similarity Score: 0.37628112972115657\n",
            "4. All Is Lost - Similarity Score: 0.32961219747195314\n",
            "5. Lost & Found - Similarity Score: 0.29053112225129263\n",
            "6. San Andreas - Similarity Score: 0.24290276515785228\n",
            "7. Wizards of the Lost Kingdom II - Similarity Score: 0.24150787999930767\n",
            "8. Lost in Space - Similarity Score: 0.22592062354406844\n",
            "9. Land of the Lost - Similarity Score: 0.22213329275361268\n",
            "10. Lost in America - Similarity Score: 0.2208821770526824\n"
          ]
        }
      ],
      "source": [
        "get_recommendations('Homeward Bound II: Lost in San Francisco')"
      ]
    },
    {
      "cell_type": "code",
      "source": [],
      "metadata": {
        "id": "0FJxLhKa6FyY"
      },
      "execution_count": null,
      "outputs": []
    }
  ],
  "metadata": {
    "colab": {
      "provenance": []
    },
    "kernelspec": {
      "display_name": "Python 3 (ipykernel)",
      "language": "python",
      "name": "python3"
    },
    "language_info": {
      "codemirror_mode": {
        "name": "ipython",
        "version": 3
      },
      "file_extension": ".py",
      "mimetype": "text/x-python",
      "name": "python",
      "nbconvert_exporter": "python",
      "pygments_lexer": "ipython3",
      "version": "3.11.5"
    },
    "latex_envs": {
      "LaTeX_envs_menu_present": true,
      "autoclose": false,
      "autocomplete": true,
      "bibliofile": "biblio.bib",
      "cite_by": "apalike",
      "current_citInitial": 1,
      "eqLabelWithNumbers": true,
      "eqNumInitial": 1,
      "hotkeys": {
        "equation": "Ctrl-E",
        "itemize": "Ctrl-I"
      },
      "labels_anchors": false,
      "latex_user_defs": false,
      "report_style_numbering": false,
      "user_envs_cfg": false
    }
  },
  "nbformat": 4,
  "nbformat_minor": 0
}