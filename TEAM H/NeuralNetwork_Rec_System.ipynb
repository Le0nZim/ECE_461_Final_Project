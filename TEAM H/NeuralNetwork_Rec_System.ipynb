{
 "cells": [
  {
   "cell_type": "code",
   "execution_count": 1,
   "id": "17c526be",
   "metadata": {},
   "outputs": [
    {
     "name": "stdout",
     "output_type": "stream",
     "text": [
      "        userId  movieId  rating\n",
      "0            1        1     4.0\n",
      "1            1        3     4.0\n",
      "2            1        6     4.0\n",
      "3            1       47     5.0\n",
      "4            1       50     5.0\n",
      "...        ...      ...     ...\n",
      "100831     610   166534     4.0\n",
      "100832     610   168248     5.0\n",
      "100833     610   168250     5.0\n",
      "100834     610   168252     5.0\n",
      "100835     610   170875     3.0\n",
      "\n",
      "[100836 rows x 3 columns]\n"
     ]
    }
   ],
   "source": [
    "import pandas as pd\n",
    "import numpy as np\n",
    "import matplotlib.pyplot as plt\n",
    "import seaborn as sns\n",
    "from scipy import stats\n",
    "from ast import literal_eval\n",
    "from sklearn.feature_extraction.text import TfidfVectorizer, CountVectorizer\n",
    "from sklearn.metrics.pairwise import linear_kernel, cosine_similarity\n",
    "from nltk.stem.snowball import SnowballStemmer\n",
    "from nltk.stem.wordnet import WordNetLemmatizer\n",
    "from tensorflow.keras.models import Model\n",
    "from tensorflow.keras.layers import Input, Embedding, Flatten, Dot, Dense\n",
    "from tensorflow.keras.optimizers import Adam\n",
    "from sklearn.model_selection import train_test_split\n",
    "import numpy as np\n",
    "import pandas as pd\n",
    "\n",
    "\n",
    "ratings_df = pd.read_csv(\"ratings.csv\")\n",
    "\n",
    "ratings_df = ratings_df.drop(\"timestamp\", axis= 1)\n",
    "ratings_df = pd.DataFrame(ratings_df)\n",
    "print(ratings_df)\n",
    "train,test = train_test_split(ratings_df, test_size=0.2, random_state=0)\n"
   ]
  },
  {
   "cell_type": "code",
   "execution_count": 5,
   "id": "97dfb82a",
   "metadata": {},
   "outputs": [
    {
     "name": "stdout",
     "output_type": "stream",
     "text": [
      "Max User ID in Training Data: 610\n",
      "Unique users:  610  Unique movies:  8975\n",
      "Epoch 1/7\n",
      "\u001b[1m2017/2017\u001b[0m \u001b[32m━━━━━━━━━━━━━━━━━━━━\u001b[0m\u001b[37m\u001b[0m \u001b[1m5s\u001b[0m 2ms/step - loss: 2.8378 - val_loss: 1.1052\n",
      "Epoch 2/7\n",
      "\u001b[1m2017/2017\u001b[0m \u001b[32m━━━━━━━━━━━━━━━━━━━━\u001b[0m\u001b[37m\u001b[0m \u001b[1m4s\u001b[0m 2ms/step - loss: 1.0694 - val_loss: 1.1078\n",
      "Epoch 3/7\n",
      "\u001b[1m2017/2017\u001b[0m \u001b[32m━━━━━━━━━━━━━━━━━━━━\u001b[0m\u001b[37m\u001b[0m \u001b[1m4s\u001b[0m 2ms/step - loss: 1.0246 - val_loss: 1.1061\n",
      "Epoch 4/7\n",
      "\u001b[1m2017/2017\u001b[0m \u001b[32m━━━━━━━━━━━━━━━━━━━━\u001b[0m\u001b[37m\u001b[0m \u001b[1m5s\u001b[0m 2ms/step - loss: 1.0059 - val_loss: 1.1071\n",
      "Epoch 5/7\n",
      "\u001b[1m2017/2017\u001b[0m \u001b[32m━━━━━━━━━━━━━━━━━━━━\u001b[0m\u001b[37m\u001b[0m \u001b[1m5s\u001b[0m 2ms/step - loss: 0.9773 - val_loss: 1.0716\n",
      "Epoch 6/7\n",
      "\u001b[1m2017/2017\u001b[0m \u001b[32m━━━━━━━━━━━━━━━━━━━━\u001b[0m\u001b[37m\u001b[0m \u001b[1m5s\u001b[0m 2ms/step - loss: 0.9657 - val_loss: 1.0722\n",
      "Epoch 7/7\n",
      "\u001b[1m2017/2017\u001b[0m \u001b[32m━━━━━━━━━━━━━━━━━━━━\u001b[0m\u001b[37m\u001b[0m \u001b[1m5s\u001b[0m 2ms/step - loss: 0.9733 - val_loss: 1.0832\n"
     ]
    },
    {
     "name": "stderr",
     "output_type": "stream",
     "text": [
      "WARNING:absl:You are saving your model as an HDF5 file via `model.save()` or `keras.saving.save_model(model)`. This file format is considered legacy. We recommend using instead the native Keras format, e.g. `model.save('my_model.keras')` or `keras.saving.save_model(model, 'my_model.keras')`. \n"
     ]
    },
    {
     "data": {
      "text/plain": [
       "Text(0, 0.5, 'Training Error')"
      ]
     },
     "execution_count": 5,
     "metadata": {},
     "output_type": "execute_result"
    },
    {
     "data": {
      "image/png": "[encoded data removed]",
      "text/plain": [
       "<Figure size 640x480 with 1 Axes>"
      ]
     },
     "metadata": {},
     "output_type": "display_data"
    }
   ],
   "source": [
    "import os\n",
    "import numpy as np\n",
    "import pandas as pd\n",
    "import matplotlib.pyplot as plt\n",
    "from sklearn.model_selection import train_test_split\n",
    "from keras.layers import Input, Embedding, Flatten, Dot, Dense\n",
    "from keras.models import Model\n",
    "from sklearn.decomposition import PCA\n",
    "import seaborn as sns\n",
    "from sklearn.manifold import TSNE\n",
    "from sklearn.metrics import mean_squared_error\n",
    "from math import sqrt\n",
    "from keras.models import load_model\n",
    "n_users = len(train.userId.unique())\n",
    "n_movies = len(train.movieId.unique())\n",
    "#n_factors are the embedding layers \n",
    "n_factors=30\n",
    "\n",
    "max_user_id = train.userId.max()\n",
    "\n",
    "print(\"Max User ID in Training Data:\", max_user_id)\n",
    "\n",
    "print(\"Unique users: \",n_users, \" Unique movies: \", n_movies)\n",
    "#ININT our nn\n",
    "movies_input = Input(shape=[1], name=\"movies-Input\")\n",
    "movies_embedding = Embedding(output_dim=n_factors, input_dim=n_movies, name='movie_embedding')(movies_input)\n",
    "movies_vec = Flatten(name=\"Flatten-movies\")(movies_embedding)\n",
    "\n",
    "user_input = Input(shape=[1], name=\"User-Input\")\n",
    "user_embedding = Embedding(output_dim=n_factors, input_dim=n_users, name='user_embedding')(user_input)\n",
    "user_vec = Flatten(name='flatten_users')(user_embedding)\n",
    "\n",
    "y = Dot(axes=1, name='dot_product')([user_vec, movies_vec])\n",
    "model = Model(inputs=[user_input, movies_input], outputs=y)\n",
    "#he model is compiled using the Adam optimizer with a learning rate of 0.01\n",
    "#and mean squared error as the loss function\n",
    "model.compile(optimizer=Adam(0.01), loss='mean_squared_error')\n",
    "\n",
    "#TRAIN\n",
    "history = model.fit([train.movieId,train.userId], train.rating, epochs=7, validation_split=0.2)\n",
    "model.save('regression_model.h5')\n",
    "plt.plot(history.history['loss'])\n",
    "plt.xlabel(\"Epochs\")\n",
    "plt.ylabel(\"Training Error\")\n"
   ]
  },
  {
   "cell_type": "code",
   "execution_count": 9,
   "id": "93633e24",
   "metadata": {},
   "outputs": [
    {
     "name": "stdout",
     "output_type": "stream",
     "text": [
      "\u001b[1m304/304\u001b[0m \u001b[32m━━━━━━━━━━━━━━━━━━━━\u001b[0m\u001b[37m\u001b[0m \u001b[1m0s\u001b[0m 993us/step\n",
      "[143 103 542 476 351 167 223 380 440 253]\n"
     ]
    },
    {
     "data": {
      "text/html": [
       "<div>\n",
       "<style scoped>\n",
       "    .dataframe tbody tr th:only-of-type {\n",
       "        vertical-align: middle;\n",
       "    }\n",
       "\n",
       "    .dataframe tbody tr th {\n",
       "        vertical-align: top;\n",
       "    }\n",
       "\n",
       "    .dataframe thead th {\n",
       "        text-align: right;\n",
       "    }\n",
       "</style>\n",
       "<table border=\"1\" class=\"dataframe\">\n",
       "  <thead>\n",
       "    <tr style=\"text-align: right;\">\n",
       "      <th></th>\n",
       "      <th>movieId</th>\n",
       "      <th>title</th>\n",
       "      <th>genres</th>\n",
       "    </tr>\n",
       "  </thead>\n",
       "  <tbody>\n",
       "    <tr>\n",
       "      <th>91</th>\n",
       "      <td>103</td>\n",
       "      <td>Unforgettable (1996)</td>\n",
       "      <td>Mystery|Sci-Fi|Thriller</td>\n",
       "    </tr>\n",
       "    <tr>\n",
       "      <th>190</th>\n",
       "      <td>223</td>\n",
       "      <td>Clerks (1994)</td>\n",
       "      <td>Comedy</td>\n",
       "    </tr>\n",
       "    <tr>\n",
       "      <th>309</th>\n",
       "      <td>351</td>\n",
       "      <td>Corrina, Corrina (1994)</td>\n",
       "      <td>Comedy|Drama|Romance</td>\n",
       "    </tr>\n",
       "    <tr>\n",
       "      <th>414</th>\n",
       "      <td>476</td>\n",
       "      <td>Inkwell, The (1994)</td>\n",
       "      <td>Comedy|Drama</td>\n",
       "    </tr>\n",
       "    <tr>\n",
       "      <th>475</th>\n",
       "      <td>542</td>\n",
       "      <td>Son in Law (1993)</td>\n",
       "      <td>Comedy|Drama|Romance</td>\n",
       "    </tr>\n",
       "  </tbody>\n",
       "</table>\n",
       "</div>"
      ],
      "text/plain": [
       "     movieId                    title                   genres\n",
       "91       103     Unforgettable (1996)  Mystery|Sci-Fi|Thriller\n",
       "190      223            Clerks (1994)                   Comedy\n",
       "309      351  Corrina, Corrina (1994)     Comedy|Drama|Romance\n",
       "414      476      Inkwell, The (1994)             Comedy|Drama\n",
       "475      542        Son in Law (1993)     Comedy|Drama|Romance"
      ]
     },
     "execution_count": 9,
     "metadata": {},
     "output_type": "execute_result"
    }
   ],
   "source": [
    "#a simple function that returns true if the movie is in the dataset or false if there isn't\n",
    "\n",
    "def is_movie_id_in_dataset(id, dataset):\n",
    "    \"\"\"\n",
    "    Check if a movie ID is present in the dataset.\n",
    "    Returns,True if the user ID is in the dataset, False otherwise.\n",
    "    \"\"\"\n",
    "    return id in dataset['movieId'].unique()\n",
    "\n",
    "movies_data = np.array(list(set(ratings_df.movieId)))\n",
    "user = np.array([295 for i in range(len(movies_data))])\n",
    "\n",
    "predictions = model.predict([user, movies_data])\n",
    "predictions = np.array([a[0] for a in predictions])\n",
    "recommended_movies_ids = (-predictions).argsort()[:10]\n",
    "print(recommended_movies_ids)\n",
    "movie_d = pd.read_csv('movies.csv')\n",
    "movie_d.head()\n",
    "#some times we get Movies Id that are not in the database, because the data base has empty cells\n",
    "five_moves_fill = 0\n",
    "movies_R = []\n",
    "\n",
    "for j in range(7):\n",
    "    if(is_movie_id_in_dataset(recommended_movies_ids[j], movie_d)):\n",
    "        movies_R.append(recommended_movies_ids[j])\n",
    "        five_moves_fill += 1\n",
    "        if(five_moves_fill == 5):\n",
    "            break\n",
    "\n",
    "movie_d[movie_d['movieId'].isin(movies_R)]    \n",
    "\n"
   ]
  },
  {
   "cell_type": "code",
   "execution_count": null,
   "id": "57a86a32",
   "metadata": {},
   "outputs": [],
   "source": []
  }
 ],
 "metadata": {
  "kernelspec": {
   "display_name": "Python 3 (ipykernel)",
   "language": "python",
   "name": "python3"
  },
  "language_info": {
   "codemirror_mode": {
    "name": "ipython",
    "version": 3
   },
   "file_extension": ".py",
   "mimetype": "text/x-python",
   "name": "python",
   "nbconvert_exporter": "python",
   "pygments_lexer": "ipython3",
   "version": "3.11.5"
  },
  "varInspector": {
   "cols": {
    "lenName": 16,
    "lenType": 16,
    "lenVar": 40
   },
   "kernels_config": {
    "python": {
     "delete_cmd_postfix": "",
     "delete_cmd_prefix": "del ",
     "library": "var_list.py",
     "varRefreshCmd": "print(var_dic_list())"
    },
    "r": {
     "delete_cmd_postfix": ") ",
     "delete_cmd_prefix": "rm(",
     "library": "var_list.r",
     "varRefreshCmd": "cat(var_dic_list()) "
    }
   },
   "types_to_exclude": [
    "module",
    "function",
    "builtin_function_or_method",
    "instance",
    "_Feature"
   ],
   "window_display": false
  }
 },
 "nbformat": 4,
 "nbformat_minor": 5
}
