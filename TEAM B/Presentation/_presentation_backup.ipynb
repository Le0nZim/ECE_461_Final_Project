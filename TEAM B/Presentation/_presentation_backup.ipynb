{
 "cells": [
  {
   "cell_type": "markdown",
   "id": "28a0f0d3",
   "metadata": {
    "slideshow": {
     "slide_type": "slide"
    }
   },
   "source": [
    "<div align='center'>\n",
    "<img src=\"Logo.png\" width=\"400px\">\n",
    "<div align = \"center\"><br>\n",
    "    <i>Karagiannis Christos<br>Nanousis Panagiotis<br>Tsigkas Aggelos<br></i>\n",
    "</div>\n",
    "</div>"
   ]
  },
  {
   "cell_type": "markdown",
   "id": "61d60d87",
   "metadata": {
    "slideshow": {
     "slide_type": "slide"
    }
   },
   "source": [
    "<div align = \"center\">\n",
    "    <h2 style=\" color: #00BBFF;\">Introduction</h2>\n",
    "</div>\n",
    "<table style=\"width: 100%; background-color: white;\">\n",
    "    <tr>\n",
    "        <td style=\"background-color: white; text-align: left;\">\n",
    "            <h3 align=\"center\">Problems</h3>\n",
    "            <ul>\n",
    "                <li> Countless supply of new games.</li>\n",
    "                <li> Impossible to play all of them.</li>\n",
    "                <li> Not all gamers like the same games.</li>\n",
    "            </ul>\n",
    "        </td>\n",
    "        <td style=\"background-color: white; text-align: left;\">\n",
    "            <h3 align=\"center\">Solution</h3>\n",
    "            <ul>\n",
    "                <li> A recommendation engine will be used to search through the variant games.</li>\n",
    "                <li> Recommend the user games that they like based on other users.</li>\n",
    "                <li>Personalized game suggestions will provide \n",
    "                   <br>a means to find a game tailored to the player.</li>\n",
    "            </ul>\n",
    "        </td>\n",
    "    </tr>\n",
    "</table>"
   ]
  },
  {
   "cell_type": "markdown",
   "id": "18de3c9e",
   "metadata": {
    "slideshow": {
     "slide_type": "slide"
    }
   },
   "source": [
    "<div align = \"center\">\n",
    "    <h2 style=\" color: #00BBFF;\">Dataset Overview</h2>\n",
    "</div>\n",
    "<table style=\"width: 100%; background-color: white;\" align='center'>\n",
    "    <tr>\n",
    "        <td style=\"background-color: white;\">\n",
    "            <div align='center'>\n",
    "                <img src=\"steam.png\" width=300px align = 'center'>\n",
    "            </div>\n",
    "        </td>\n",
    "        <td style=\"background-color: white; text-align: center;\" align=\"center\">\n",
    "            <div align='center'>\n",
    "                <div align = \"center\" style=\"width: 300px; font-size:20px;\">Steam is a digital distribution platform for video games,<br> offering multiplayer gaming, video streaming, and social networking services.\n",
    "                </div>\n",
    "            </div>\n",
    "        </td>\n",
    "    </tr>\n",
    "</table>"
   ]
  },
  {
   "cell_type": "markdown",
   "id": "6b14cc04",
   "metadata": {
    "slideshow": {
     "slide_type": "slide"
    }
   },
   "source": [
    "<div align='center'>\n",
    "    <h2><a style=\" color: #00BBFF;\" href=\"https://www.kaggle.com/datasets/tamber/steam-video-games/data\">Kaggle</a></h2><br>\n",
    "    <img src=\"1.png\" width=\"600px\">\n",
    "    Dataset fields.\n",
    "</div>"
   ]
  },
  {
   "cell_type": "markdown",
   "id": "e1dba458",
   "metadata": {
    "slideshow": {
     "slide_type": "slide"
    }
   },
   "source": [
    "<div align = \"center\">\n",
    "    <h2 style=\" color: #00BBFF;\">Methodology</h2>\n",
    "    <br>\n",
    "    <div style=\"width:50%; text-align: left;\">\n",
    "        <ul>\n",
    "            <li> Data Prepatation</li>\n",
    "            <li> Data Cleaning</li>\n",
    "            <li> Content Based Recommendation</li>\n",
    "            <li> Collaborative Filtering.</li>\n",
    "            <li> Hybrid Methods.</li>\n",
    "            <li> Scoring and Reranking</li>\n",
    "            <li> Neural Network Based Recommendation</li>\n",
    "        </ul>\n",
    "    </div>\n",
    "</div>"
   ]
  },
  {
   "cell_type": "markdown",
   "id": "6bdff096",
   "metadata": {
    "slideshow": {
     "slide_type": "slide"
    }
   },
   "source": [
    "<div align = \"center\">\n",
    "    <h2 style=\" color: #00BBFF;\">Expected Outcome</h2>\n",
    "    <br>\n",
    "    <div style=\"width:70%; text-align: left;\">\n",
    "        <img src=\"recommend.png\">\n",
    "    </div>\n",
    "</div>"
   ]
  },
  {
   "cell_type": "markdown",
   "id": "a2931f3b",
   "metadata": {
    "slideshow": {
     "slide_type": "slide"
    }
   },
   "source": [
    "<div align = \"center\">\n",
    "    <h2 style=\" color: #00BBFF;\">Our Data</h2>\n",
    "    <br>\n",
    "    <div style=\"width:70%; text-align: left;\">\n",
    "        <img src=\"ourData.png\">\n",
    "    </div>\n",
    "</div>"
   ]
  },
  {
   "cell_type": "markdown",
   "id": "403dcd59",
   "metadata": {
    "slideshow": {
     "slide_type": "slide"
    }
   },
   "source": [
    "<div align = \"center\">\n",
    "    <h2 style=\" color: #00BBFF;\">Data Preparation</h2>\n",
    "    <br>\n",
    "    <div style=\"width:70%; text-align: left;\">\n",
    "        <img src=\"dataprep.png\">\n",
    "    </div>\n",
    "</div>"
   ]
  },
  {
   "cell_type": "markdown",
   "id": "88956930",
   "metadata": {
    "slideshow": {
     "slide_type": "slide"
    }
   },
   "source": [
    "<div align = \"center\">\n",
    "    <h2 style=\" color: #00BBFF;\">Content Based and Colaborative Filtering</h2>\n",
    "    <br>\n",
    "    <div style=\"width:50%; text-align: left;\">\n",
    "        <img src=\"contcolab.png\">\n",
    "    </div>\n",
    "    <p>We are using two datasets. One for Content based to get similar games and one for Collaborative to get similar users<p>\n",
    "</div>"
   ]
  },
  {
   "cell_type": "markdown",
   "id": "f527c833",
   "metadata": {
    "slideshow": {
     "slide_type": "slide"
    }
   },
   "source": [
    "<div align = \"center\">\n",
    "    <h2 style=\" color: #00BBFF;\">Content Based and Colaborative Filtering</h2>\n",
    "    <br>\n",
    "    <div style=\"width:50%; text-align: left;\">\n",
    "        <img src=\"hybrid.png\">\n",
    "    </div>\n",
    "    <p>To increase the accuracy of the previous recommendations we are using a hybrid approach along with scoring the dataset to make it smaller and more on point to the user's preferences.<p>\n",
    "</div>"
   ]
  },
  {
   "cell_type": "markdown",
   "id": "070cec00",
   "metadata": {
    "slideshow": {
     "slide_type": "slide"
    }
   },
   "source": [
    "<div align = \"center\">\n",
    "    <h2 style=\" color: #00BBFF;\">Neural Network</h2>\n",
    "    <br>\n",
    "    <div style=\"width:70%; text-align: left;\">\n",
    "        <img src=\"neural.jpg\">\n",
    "    </div>\n",
    "    <p><p>\n",
    "</div>"
   ]
  },
  {
   "cell_type": "markdown",
   "id": "e6002319",
   "metadata": {
    "slideshow": {
     "slide_type": "slide"
    }
   },
   "source": [
    "<div align = \"center\">\n",
    "    <h2 style=\" color: #00BBFF;\">Neural network optimization</h2>\n",
    "    <br>\n",
    "    <div style=\"width:70%; text-align: left;\">\n",
    "        <img src=\"nnoptim.png\">\n",
    "    </div>\n",
    "    <p><p>\n",
    "</div>"
   ]
  },
  {
   "cell_type": "markdown",
   "id": "2f4d0b60",
   "metadata": {
    "slideshow": {
     "slide_type": "slide"
    }
   },
   "source": [
    "<div align = \"center\">\n",
    "    <h2 style=\" color: #00BBFF;\">Neural network evolution</h2>\n",
    "    <br>\n",
    "    <div style=\"width:70%; text-align: left;\">\n",
    "        <img src=\"evol.png\">\n",
    "    </div>\n",
    "    <p><p>\n",
    "</div>"
   ]
  },
  {
   "cell_type": "markdown",
   "id": "2dd2abf3",
   "metadata": {
    "slideshow": {
     "slide_type": "slide"
    }
   },
   "source": [
    "<div align = \"center\">\n",
    "    <h2 style=\" color: #00BBFF;\">Epilogue</h2>\n",
    "    <div style=\"width:50%; text-align: left;\">\n",
    "        <h3>We learned</h3>\n",
    "        <ul>\n",
    "            <li> How to make a GoodGame recommendation System</li>\n",
    "            <li> The importance of tuning our algorithm</li>\n",
    "            <li> The advantages and disadvantages of each type of recommendation</li>\n",
    "        </ul>\n",
    "    </div>\n",
    "</div>"
   ]
  }
 ],
 "metadata": {
  "celltoolbar": "Slideshow",
  "kernelspec": {
   "display_name": "Python 3 (ipykernel)",
   "language": "python",
   "name": "python3"
  },
  "language_info": {
   "codemirror_mode": {
    "name": "ipython",
    "version": 3
   },
   "file_extension": ".py",
   "mimetype": "text/x-python",
   "name": "python",
   "nbconvert_exporter": "python",
   "pygments_lexer": "ipython3",
   "version": "3.11.5"
  },
  "latex_envs": {
   "LaTeX_envs_menu_present": true,
   "autoclose": false,
   "autocomplete": true,
   "bibliofile": "biblio.bib",
   "cite_by": "apalike",
   "current_citInitial": 1,
   "eqLabelWithNumbers": true,
   "eqNumInitial": 1,
   "hotkeys": {
    "equation": "Ctrl-E",
    "itemize": "Ctrl-I"
   },
   "labels_anchors": false,
   "latex_user_defs": false,
   "report_style_numbering": false,
   "user_envs_cfg": false
  },
  "varInspector": {
   "cols": {
    "lenName": 16,
    "lenType": 16,
    "lenVar": 40
   },
   "kernels_config": {
    "python": {
     "delete_cmd_postfix": "",
     "delete_cmd_prefix": "del ",
     "library": "var_list.py",
     "varRefreshCmd": "print(var_dic_list())"
    },
    "r": {
     "delete_cmd_postfix": ") ",
     "delete_cmd_prefix": "rm(",
     "library": "var_list.r",
     "varRefreshCmd": "cat(var_dic_list()) "
    }
   },
   "types_to_exclude": [
    "module",
    "function",
    "builtin_function_or_method",
    "instance",
    "_Feature"
   ],
   "window_display": false
  }
 },
 "nbformat": 4,
 "nbformat_minor": 5
}
