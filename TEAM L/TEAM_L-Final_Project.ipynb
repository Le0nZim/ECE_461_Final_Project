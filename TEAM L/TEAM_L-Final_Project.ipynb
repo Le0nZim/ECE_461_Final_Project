{
  "cells": [
    {
      "cell_type": "markdown",
      "id": "160d588a",
      "metadata": {
        "id": "160d588a"
      },
      "source": [
        "# **Movie Recommendation System  -  `Team L`**\n",
        "\n",
        "Falaras Apostolis  /  2981  /  afalaras@uth.gr\n",
        "\n",
        "Maipas Kosmas  /  2567  /  kmaipas@uth.gr\n",
        "\n",
        "Sialtsis Alexandros  /  3083  /  asialtsis@uth.gr"
      ]
    },
    {
      "cell_type": "markdown",
      "id": "b53f67e4",
      "metadata": {
        "id": "b53f67e4"
      },
      "source": [
        "## 1. Introduction\n",
        "\n",
        "**Recommendation systems**, also commonly referred to as  recommender systems, are software applications that use a subset of machine learning methods and algorithms. Their goal is to analyze user preferences about content and products, in order to make personalized recommendations to the users about content and products they haven't interacted with and might find interesting. There are various types of recommendation systems, including collaborative filtering, content-based filtering, and hybrid methods. Each type consists of it's distinct methods and algorithms.\n",
        "\n",
        "**Recommendation systems** play a crucial role in today's digital world, as they can be found across various diverse applications. They are responsible for helping users navigate and find what they are looking for amid the overwhelming amount of information on the internet.  Additionally, they can adapt to the users' evolving preferences, ensuring that users stay engaged to the application as their interests change over time. This not only leads to a more pleasant and time-efficient user experience but also it increases business profit as businesses can retain more customers.  "
      ]
    },
    {
      "cell_type": "markdown",
      "id": "56e3afd3",
      "metadata": {
        "id": "56e3afd3"
      },
      "source": [
        "## 2. Dataset"
      ]
    },
    {
      "cell_type": "markdown",
      "id": "f9fab12a",
      "metadata": {
        "id": "f9fab12a"
      },
      "source": [
        "We have decided to build a movie recommendation system, using the [netflix-prize-data](https://www.kaggle.com/datasets/netflix-inc/netflix-prize-data/) movie ratings dataset from kaggle. The dataset contains four text files (combined_data_1.txt, combined_data_2.txt, combined_data_3.txt and combined_data_4.txt) and a csv file (movie_titles.csv).\n",
        "\n",
        "Each one of the text files contains the ratings for the movies in the following format:\n",
        "```python\n",
        "MovieId:\n",
        "CustomerID_1,Rating_1,Date_1\n",
        "CustomerID_2,Rating_2,Date_2\n",
        "```\n",
        "\n",
        "For example:\n",
        "```python\n",
        "1:\n",
        "1488844,3,2005-09-06\n",
        "822109,5,2005-05-13\n",
        "2:\n",
        "2059652,4,2005-09-05\n",
        "1666394,3,2005-04-19\n",
        "```\n",
        "The movie_titles.csv file contains the title and release year for each movie.\n",
        "\n",
        "---------------------\n",
        "**IN ORDER FOR THIS NOTEBOOK TO WORK**, you need to\n",
        "**download** this dataset and store it in a directory with the name **\"dataset\"**\n"
      ]
    },
    {
      "cell_type": "markdown",
      "id": "103e6276",
      "metadata": {
        "id": "103e6276"
      },
      "source": [
        "## 3. Importing libraries"
      ]
    },
    {
      "cell_type": "code",
      "execution_count": null,
      "id": "8a6e5fd5",
      "metadata": {
        "id": "8a6e5fd5"
      },
      "outputs": [],
      "source": [
        "import numpy as np\n",
        "import pandas as pd\n",
        "import matplotlib.pyplot as plt\n",
        "import seaborn as sns\n",
        "import os\n",
        "import time\n",
        "from datetime import datetime\n",
        "from scipy import sparse\n",
        "from scipy.sparse.linalg import svds\n",
        "from sklearn.metrics import mean_squared_error\n",
        "from sklearn.model_selection import train_test_split\n",
        "from sklearn.metrics.pairwise import cosine_similarity\n",
        "import xgboost as xgb\n",
        "\n",
        "import warnings\n",
        "warnings.simplefilter(action='ignore', category=FutureWarning)"
      ]
    },
    {
      "cell_type": "markdown",
      "id": "af44d1bb",
      "metadata": {
        "id": "af44d1bb"
      },
      "source": [
        "## 4. Exploratory Data Analysis (EDA)\n",
        "\n",
        "If you want to run this notebook on Google Colab, switch the `is_colab` flag to `True`."
      ]
    },
    {
      "cell_type": "code",
      "execution_count": null,
      "id": "Iqq2-GOjzDBe",
      "metadata": {
        "id": "Iqq2-GOjzDBe",
        "colab": {
          "base_uri": "https://localhost:8080/"
        },
        "outputId": "bbb45858-4dce-4a0b-fe39-32528b047cac"
      },
      "outputs": [
        {
          "output_type": "stream",
          "name": "stdout",
          "text": [
            "Mounted at /content/drive\n"
          ]
        }
      ],
      "source": [
        "is_colab = False\n",
        "\n",
        "if is_colab:\n",
        "    from google.colab import drive\n",
        "    drive.mount('/content/drive')\n",
        "    os.listdir('drive/MyDrive/machine_learning/Final_Project')\n",
        "    path = 'drive/MyDrive/machine_learning/Final_Project'"
      ]
    },
    {
      "cell_type": "markdown",
      "id": "d1ec6e09",
      "metadata": {
        "id": "d1ec6e09"
      },
      "source": [
        "### 4.1 Creating .csv file from text files"
      ]
    },
    {
      "cell_type": "code",
      "execution_count": null,
      "id": "d98cb4ae",
      "metadata": {
        "id": "d98cb4ae"
      },
      "outputs": [],
      "source": [
        "# The first step is to create the .csv file that will contain the user-movie ratings matrix.\n",
        "# If the the ratings.csv doesn't exist in the current folder, we create it there.\n",
        "\n",
        "if not os.path.isfile(\"dataset/ratings_1.csv\"):\n",
        "    ratings_1 = open(\"dataset/ratings_1.csv\", mode=\"w\")\n",
        "    ratings_2 = open(\"dataset/ratings_2.csv\", mode=\"w\")\n",
        "    ratings_3 = open(\"dataset/ratings_3.csv\", mode=\"w\")\n",
        "    ratings_4 = open(\"dataset/ratings_4.csv\", mode=\"w\")\n",
        "\n",
        "\n",
        "    ratings_files = [\"dataset/combined_data_1.txt\", \"dataset/combined_data_2.txt\", \"dataset/combined_data_3.txt\", \"dataset/combined_data_4.txt\"]\n",
        "    ratings_csvs = [ratings_1, ratings_2, ratings_3, ratings_4]\n",
        "\n",
        "    for file, ratings in zip(ratings_files,ratings_csvs):\n",
        "        movie_id = 0\n",
        "        with open(file) as f:\n",
        "            for line in f:\n",
        "                line = line.strip()\n",
        "                line = line.split(\",\")\n",
        "\n",
        "\n",
        "                if line[0].endswith(\":\"):\n",
        "                    movie_id = line[0].replace(\":\",\"\")\n",
        "                else:\n",
        "                    line.insert(0,str(movie_id))\n",
        "                    ratings.write(str(\",\".join(line)))\n",
        "                    ratings.write(\"\\n\")\n",
        "\n",
        "    ratings_1.close()\n",
        "    ratings_2.close()\n",
        "    ratings_3.close()\n",
        "    ratings_4.close()"
      ]
    },
    {
      "cell_type": "markdown",
      "id": "b28337e2",
      "metadata": {
        "id": "b28337e2"
      },
      "source": [
        "### 4.2 DataFrame overview"
      ]
    },
    {
      "cell_type": "code",
      "execution_count": null,
      "id": "625db3f6",
      "metadata": {
        "colab": {
          "base_uri": "https://localhost:8080/",
          "height": 206
        },
        "id": "625db3f6",
        "outputId": "1106f2f0-50f5-4bf0-b1b1-a88a9f8b918f"
      },
      "outputs": [
        {
          "output_type": "execute_result",
          "data": {
            "text/plain": [
              "   Unnamed: 0  Movie_ID  User_ID  Rating        Date Day_of_Week\n",
              "0    49422235      8903    28966       1  1999-12-30    Thursday\n",
              "1    62828404     11405    28966       4  1999-12-30    Thursday\n",
              "2    87462364     15532    28966       1  1999-12-30    Thursday\n",
              "3    87033901     15455     1086       1  1999-12-31      Friday\n",
              "4    28357719      5237     1086       5  1999-12-31      Friday"
            ],
            "text/html": [
              "\n",
              "  <div id=\"df-71abe39d-460c-4345-b978-a63c1cc5b1ef\" class=\"colab-df-container\">\n",
              "    <div>\n",
              "<style scoped>\n",
              "    .dataframe tbody tr th:only-of-type {\n",
              "        vertical-align: middle;\n",
              "    }\n",
              "\n",
              "    .dataframe tbody tr th {\n",
              "        vertical-align: top;\n",
              "    }\n",
              "\n",
              "    .dataframe thead th {\n",
              "        text-align: right;\n",
              "    }\n",
              "</style>\n",
              "<table border=\"1\" class=\"dataframe\">\n",
              "  <thead>\n",
              "    <tr style=\"text-align: right;\">\n",
              "      <th></th>\n",
              "      <th>Unnamed: 0</th>\n",
              "      <th>Movie_ID</th>\n",
              "      <th>User_ID</th>\n",
              "      <th>Rating</th>\n",
              "      <th>Date</th>\n",
              "      <th>Day_of_Week</th>\n",
              "    </tr>\n",
              "  </thead>\n",
              "  <tbody>\n",
              "    <tr>\n",
              "      <th>0</th>\n",
              "      <td>49422235</td>\n",
              "      <td>8903</td>\n",
              "      <td>28966</td>\n",
              "      <td>1</td>\n",
              "      <td>1999-12-30</td>\n",
              "      <td>Thursday</td>\n",
              "    </tr>\n",
              "    <tr>\n",
              "      <th>1</th>\n",
              "      <td>62828404</td>\n",
              "      <td>11405</td>\n",
              "      <td>28966</td>\n",
              "      <td>4</td>\n",
              "      <td>1999-12-30</td>\n",
              "      <td>Thursday</td>\n",
              "    </tr>\n",
              "    <tr>\n",
              "      <th>2</th>\n",
              "      <td>87462364</td>\n",
              "      <td>15532</td>\n",
              "      <td>28966</td>\n",
              "      <td>1</td>\n",
              "      <td>1999-12-30</td>\n",
              "      <td>Thursday</td>\n",
              "    </tr>\n",
              "    <tr>\n",
              "      <th>3</th>\n",
              "      <td>87033901</td>\n",
              "      <td>15455</td>\n",
              "      <td>1086</td>\n",
              "      <td>1</td>\n",
              "      <td>1999-12-31</td>\n",
              "      <td>Friday</td>\n",
              "    </tr>\n",
              "    <tr>\n",
              "      <th>4</th>\n",
              "      <td>28357719</td>\n",
              "      <td>5237</td>\n",
              "      <td>1086</td>\n",
              "      <td>5</td>\n",
              "      <td>1999-12-31</td>\n",
              "      <td>Friday</td>\n",
              "    </tr>\n",
              "  </tbody>\n",
              "</table>\n",
              "</div>\n",
              "    <div class=\"colab-df-buttons\">\n",
              "\n",
              "  <div class=\"colab-df-container\">\n",
              "    <button class=\"colab-df-convert\" onclick=\"convertToInteractive('df-71abe39d-460c-4345-b978-a63c1cc5b1ef')\"\n",
              "            title=\"Convert this dataframe to an interactive table.\"\n",
              "            style=\"display:none;\">\n",
              "\n",
              "  <svg xmlns=\"http://www.w3.org/2000/svg\" height=\"24px\" viewBox=\"0 -960 960 960\">\n",
              "    <path d=\"M120-120v-720h720v720H120Zm60-500h600v-160H180v160Zm220 220h160v-160H400v160Zm0 220h160v-160H400v160ZM180-400h160v-160H180v160Zm440 0h160v-160H620v160ZM180-180h160v-160H180v160Zm440 0h160v-160H620v160Z\"/>\n",
              "  </svg>\n",
              "    </button>\n",
              "\n",
              "  <style>\n",
              "    .colab-df-container {\n",
              "      display:flex;\n",
              "      gap: 12px;\n",
              "    }\n",
              "\n",
              "    .colab-df-convert {\n",
              "      background-color: #E8F0FE;\n",
              "      border: none;\n",
              "      border-radius: 50%;\n",
              "      cursor: pointer;\n",
              "      display: none;\n",
              "      fill: #1967D2;\n",
              "      height: 32px;\n",
              "      padding: 0 0 0 0;\n",
              "      width: 32px;\n",
              "    }\n",
              "\n",
              "    .colab-df-convert:hover {\n",
              "      background-color: #E2EBFA;\n",
              "      box-shadow: 0px 1px 2px rgba(60, 64, 67, 0.3), 0px 1px 3px 1px rgba(60, 64, 67, 0.15);\n",
              "      fill: #174EA6;\n",
              "    }\n",
              "\n",
              "    .colab-df-buttons div {\n",
              "      margin-bottom: 4px;\n",
              "    }\n",
              "\n",
              "    [theme=dark] .colab-df-convert {\n",
              "      background-color: #3B4455;\n",
              "      fill: #D2E3FC;\n",
              "    }\n",
              "\n",
              "    [theme=dark] .colab-df-convert:hover {\n",
              "      background-color: #434B5C;\n",
              "      box-shadow: 0px 1px 3px 1px rgba(0, 0, 0, 0.15);\n",
              "      filter: drop-shadow(0px 1px 2px rgba(0, 0, 0, 0.3));\n",
              "      fill: #FFFFFF;\n",
              "    }\n",
              "  </style>\n",
              "\n",
              "    <script>\n",
              "      const buttonEl =\n",
              "        document.querySelector('#df-71abe39d-460c-4345-b978-a63c1cc5b1ef button.colab-df-convert');\n",
              "      buttonEl.style.display =\n",
              "        google.colab.kernel.accessAllowed ? 'block' : 'none';\n",
              "\n",
              "      async function convertToInteractive(key) {\n",
              "        const element = document.querySelector('#df-71abe39d-460c-4345-b978-a63c1cc5b1ef');\n",
              "        const dataTable =\n",
              "          await google.colab.kernel.invokeFunction('convertToInteractive',\n",
              "                                                    [key], {});\n",
              "        if (!dataTable) return;\n",
              "\n",
              "        const docLinkHtml = 'Like what you see? Visit the ' +\n",
              "          '<a target=\"_blank\" href=https://colab.research.google.com/notebooks/data_table.ipynb>data table notebook</a>'\n",
              "          + ' to learn more about interactive tables.';\n",
              "        element.innerHTML = '';\n",
              "        dataTable['output_type'] = 'display_data';\n",
              "        await google.colab.output.renderOutput(dataTable, element);\n",
              "        const docLink = document.createElement('div');\n",
              "        docLink.innerHTML = docLinkHtml;\n",
              "        element.appendChild(docLink);\n",
              "      }\n",
              "    </script>\n",
              "  </div>\n",
              "\n",
              "\n",
              "<div id=\"df-8cddcb97-2555-42dc-822c-148438e54cdc\">\n",
              "  <button class=\"colab-df-quickchart\" onclick=\"quickchart('df-8cddcb97-2555-42dc-822c-148438e54cdc')\"\n",
              "            title=\"Suggest charts\"\n",
              "            style=\"display:none;\">\n",
              "\n",
              "<svg xmlns=\"http://www.w3.org/2000/svg\" height=\"24px\"viewBox=\"0 0 24 24\"\n",
              "     width=\"24px\">\n",
              "    <g>\n",
              "        <path d=\"M19 3H5c-1.1 0-2 .9-2 2v14c0 1.1.9 2 2 2h14c1.1 0 2-.9 2-2V5c0-1.1-.9-2-2-2zM9 17H7v-7h2v7zm4 0h-2V7h2v10zm4 0h-2v-4h2v4z\"/>\n",
              "    </g>\n",
              "</svg>\n",
              "  </button>\n",
              "\n",
              "<style>\n",
              "  .colab-df-quickchart {\n",
              "      --bg-color: #E8F0FE;\n",
              "      --fill-color: #1967D2;\n",
              "      --hover-bg-color: #E2EBFA;\n",
              "      --hover-fill-color: #174EA6;\n",
              "      --disabled-fill-color: #AAA;\n",
              "      --disabled-bg-color: #DDD;\n",
              "  }\n",
              "\n",
              "  [theme=dark] .colab-df-quickchart {\n",
              "      --bg-color: #3B4455;\n",
              "      --fill-color: #D2E3FC;\n",
              "      --hover-bg-color: #434B5C;\n",
              "      --hover-fill-color: #FFFFFF;\n",
              "      --disabled-bg-color: #3B4455;\n",
              "      --disabled-fill-color: #666;\n",
              "  }\n",
              "\n",
              "  .colab-df-quickchart {\n",
              "    background-color: var(--bg-color);\n",
              "    border: none;\n",
              "    border-radius: 50%;\n",
              "    cursor: pointer;\n",
              "    display: none;\n",
              "    fill: var(--fill-color);\n",
              "    height: 32px;\n",
              "    padding: 0;\n",
              "    width: 32px;\n",
              "  }\n",
              "\n",
              "  .colab-df-quickchart:hover {\n",
              "    background-color: var(--hover-bg-color);\n",
              "    box-shadow: 0 1px 2px rgba(60, 64, 67, 0.3), 0 1px 3px 1px rgba(60, 64, 67, 0.15);\n",
              "    fill: var(--button-hover-fill-color);\n",
              "  }\n",
              "\n",
              "  .colab-df-quickchart-complete:disabled,\n",
              "  .colab-df-quickchart-complete:disabled:hover {\n",
              "    background-color: var(--disabled-bg-color);\n",
              "    fill: var(--disabled-fill-color);\n",
              "    box-shadow: none;\n",
              "  }\n",
              "\n",
              "  .colab-df-spinner {\n",
              "    border: 2px solid var(--fill-color);\n",
              "    border-color: transparent;\n",
              "    border-bottom-color: var(--fill-color);\n",
              "    animation:\n",
              "      spin 1s steps(1) infinite;\n",
              "  }\n",
              "\n",
              "  @keyframes spin {\n",
              "    0% {\n",
              "      border-color: transparent;\n",
              "      border-bottom-color: var(--fill-color);\n",
              "      border-left-color: var(--fill-color);\n",
              "    }\n",
              "    20% {\n",
              "      border-color: transparent;\n",
              "      border-left-color: var(--fill-color);\n",
              "      border-top-color: var(--fill-color);\n",
              "    }\n",
              "    30% {\n",
              "      border-color: transparent;\n",
              "      border-left-color: var(--fill-color);\n",
              "      border-top-color: var(--fill-color);\n",
              "      border-right-color: var(--fill-color);\n",
              "    }\n",
              "    40% {\n",
              "      border-color: transparent;\n",
              "      border-right-color: var(--fill-color);\n",
              "      border-top-color: var(--fill-color);\n",
              "    }\n",
              "    60% {\n",
              "      border-color: transparent;\n",
              "      border-right-color: var(--fill-color);\n",
              "    }\n",
              "    80% {\n",
              "      border-color: transparent;\n",
              "      border-right-color: var(--fill-color);\n",
              "      border-bottom-color: var(--fill-color);\n",
              "    }\n",
              "    90% {\n",
              "      border-color: transparent;\n",
              "      border-bottom-color: var(--fill-color);\n",
              "    }\n",
              "  }\n",
              "</style>\n",
              "\n",
              "  <script>\n",
              "    async function quickchart(key) {\n",
              "      const quickchartButtonEl =\n",
              "        document.querySelector('#' + key + ' button');\n",
              "      quickchartButtonEl.disabled = true;  // To prevent multiple clicks.\n",
              "      quickchartButtonEl.classList.add('colab-df-spinner');\n",
              "      try {\n",
              "        const charts = await google.colab.kernel.invokeFunction(\n",
              "            'suggestCharts', [key], {});\n",
              "      } catch (error) {\n",
              "        console.error('Error during call to suggestCharts:', error);\n",
              "      }\n",
              "      quickchartButtonEl.classList.remove('colab-df-spinner');\n",
              "      quickchartButtonEl.classList.add('colab-df-quickchart-complete');\n",
              "    }\n",
              "    (() => {\n",
              "      let quickchartButtonEl =\n",
              "        document.querySelector('#df-8cddcb97-2555-42dc-822c-148438e54cdc button');\n",
              "      quickchartButtonEl.style.display =\n",
              "        google.colab.kernel.accessAllowed ? 'block' : 'none';\n",
              "    })();\n",
              "  </script>\n",
              "</div>\n",
              "    </div>\n",
              "  </div>\n"
            ]
          },
          "metadata": {},
          "execution_count": 10
        }
      ],
      "source": [
        "df_1 = pd.read_csv(\"dataset/ratings_1.csv\",header=None,sep=\",\",names=[\"Movie_ID\",\"User_ID\",\"Rating\",\"Date\"])\n",
        "df_2 = pd.read_csv(\"dataset/ratings_2.csv\",header=None,sep=\",\",names=[\"Movie_ID\",\"User_ID\",\"Rating\",\"Date\"])\n",
        "df_3 = pd.read_csv(\"dataset/ratings_3.csv\",header=None,sep=\",\",names=[\"Movie_ID\",\"User_ID\",\"Rating\",\"Date\"])\n",
        "df_4 = pd.read_csv(\"dataset/ratings_4.csv\",header=None,sep=\",\",names=[\"Movie_ID\",\"User_ID\",\"Rating\",\"Date\"])\n",
        "df = pd.concat([df_1,df_2,df_3,df_4], axis=0, ignore_index=True)\n",
        "\n",
        "df.head()"
      ]
    },
    {
      "cell_type": "markdown",
      "id": "7d2924e0",
      "metadata": {
        "id": "7d2924e0"
      },
      "source": [
        "**Note:** We chose to keep the the first 10000 users in terms of their ID, because, even for 50000 users the required space for the matrix of the predicted ratings of the SVD algorithm was 1.15 GB, as reported by the $\\texttt{MemoryError}$ message. We use '55395' in the condition below, because not all possible integer User_ID values are included in the dataset and 55395 was the appropriate number to use to narrow down to 10000 users."
      ]
    },
    {
      "cell_type": "code",
      "execution_count": null,
      "id": "6e55f9ab",
      "metadata": {
        "id": "6e55f9ab"
      },
      "outputs": [],
      "source": [
        "df = df[df[\"User_ID\"] <= 55395]\n",
        "print(\"Dataset dimensions: \", df.shape)"
      ]
    },
    {
      "cell_type": "code",
      "execution_count": null,
      "id": "4fc375ea",
      "metadata": {
        "colab": {
          "base_uri": "https://localhost:8080/"
        },
        "id": "4fc375ea",
        "outputId": "d7b2211f-8993-413f-a5ae-97f86653fc14"
      },
      "outputs": [
        {
          "output_type": "stream",
          "name": "stdout",
          "text": [
            "Total number of ratings: 2097444\n",
            "Total number of users: 10000\n",
            "Total number of movies: 17300\n"
          ]
        }
      ],
      "source": [
        "print(\"Total number of ratings:\", df.shape[0])\n",
        "print(\"Total number of users:\", len(np.unique(df[\"User_ID\"])))\n",
        "print(\"Total number of movies:\", len(np.unique(df[\"Movie_ID\"])))"
      ]
    },
    {
      "cell_type": "code",
      "execution_count": null,
      "id": "4e4f4dd0",
      "metadata": {
        "id": "4e4f4dd0"
      },
      "outputs": [],
      "source": [
        "num_users = len(np.unique(df[\"User_ID\"]))\n",
        "num_movies = len(np.unique(df[\"Movie_ID\"]))"
      ]
    },
    {
      "cell_type": "markdown",
      "source": [
        "**Note:** Variables 'num_movies' and 'num_movies' were used later in the notebook.  "
      ],
      "metadata": {
        "id": "5P8_R-ntCaxZ"
      },
      "id": "5P8_R-ntCaxZ"
    },
    {
      "cell_type": "markdown",
      "id": "5c4b9e12",
      "metadata": {
        "id": "5c4b9e12"
      },
      "source": [
        "### 4.3 Checking for NaN and duplicate values"
      ]
    },
    {
      "cell_type": "code",
      "execution_count": null,
      "id": "15b1318c",
      "metadata": {
        "colab": {
          "base_uri": "https://localhost:8080/"
        },
        "id": "15b1318c",
        "outputId": "64b3e36a-b619-4b6a-d4e3-bab1828021e9"
      },
      "outputs": [
        {
          "output_type": "stream",
          "name": "stdout",
          "text": [
            "Number of NaN values:\n",
            "Unnamed: 0     0\n",
            "Movie_ID       0\n",
            "User_ID        0\n",
            "Rating         0\n",
            "Date           0\n",
            "Day_of_Week    0\n",
            "dtype: int64\n",
            "\n",
            "Number of duplicate values: 0\n"
          ]
        }
      ],
      "source": [
        "print(\"Number of NaN values:\\n\" + str(df.isnull().sum()))\n",
        "\n",
        "duplicates = sum(df.duplicated([\"Movie_ID\",\"User_ID\",\"Rating\"]))\n",
        "print(\"\\nNumber of duplicate values:\", duplicates)"
      ]
    },
    {
      "cell_type": "markdown",
      "id": "5a7c7cbc",
      "metadata": {
        "id": "5a7c7cbc"
      },
      "source": [
        "### 4.4 Checking basic statistics and distribution of ratings"
      ]
    },
    {
      "cell_type": "code",
      "execution_count": null,
      "id": "477ab57f",
      "metadata": {
        "colab": {
          "base_uri": "https://localhost:8080/"
        },
        "id": "477ab57f",
        "outputId": "960aedd7-1d40-4e3e-9f70-2df1ec18bc1e"
      },
      "outputs": [
        {
          "data": {
            "text/plain": [
              "count    2.097444e+06\n",
              "mean     3.616566e+00\n",
              "std      1.082779e+00\n",
              "min      1.000000e+00\n",
              "25%      3.000000e+00\n",
              "50%      4.000000e+00\n",
              "75%      4.000000e+00\n",
              "max      5.000000e+00\n",
              "Name: Rating, dtype: float64"
            ]
          },
          "execution_count": 13,
          "metadata": {},
          "output_type": "execute_result"
        }
      ],
      "source": [
        "df.describe()[\"Rating\"]"
      ]
    },
    {
      "cell_type": "code",
      "execution_count": null,
      "id": "eee15f32",
      "metadata": {
        "colab": {
          "base_uri": "https://localhost:8080/",
          "height": 410
        },
        "id": "eee15f32",
        "outputId": "1fb9c701-32a0-4815-a773-a83496ee5f85"
      },
      "outputs": [
        {
          "data": {
            "image/png": "[encoded data removed]",
            "text/plain": [
              "<Figure size 500x400 with 1 Axes>"
            ]
          },
          "metadata": {},
          "output_type": "display_data"
        }
      ],
      "source": [
        "plt.figure(figsize=(5,4))\n",
        "plt.title(\"Distribution of ratings\")\n",
        "sns.countplot(x=\"Rating\",data=df)\n",
        "plt.show()"
      ]
    },
    {
      "cell_type": "markdown",
      "id": "ee817703",
      "metadata": {
        "id": "ee817703"
      },
      "source": [
        "**Conclusion:** We observe that the majority of users are more likely to give higher ratings to the movies."
      ]
    },
    {
      "cell_type": "markdown",
      "id": "17ec4cde",
      "metadata": {
        "id": "17ec4cde"
      },
      "source": [
        "### 4.5 Analysis of per-user ratings\n",
        "\n",
        "Performing Exploratory Data Analysis on the per-user ratings can help us understand how users engage with the system and gain insights on user behaviour and preferences in the recommendation system. We can identify the most active users by calculating the number of ratings per user. Moreover, we can examine the average rating of users, in order to determine whether or not a user has been satisfied with the recommendation system."
      ]
    },
    {
      "cell_type": "markdown",
      "id": "a7dcb1bd",
      "metadata": {
        "id": "a7dcb1bd"
      },
      "source": [
        "### 4.5.1 Number of ratings per user"
      ]
    },
    {
      "cell_type": "code",
      "execution_count": null,
      "id": "9763e757",
      "metadata": {
        "colab": {
          "base_uri": "https://localhost:8080/"
        },
        "id": "9763e757",
        "outputId": "d47684be-a93d-4465-8670-fa3f2fdb4e48"
      },
      "outputs": [
        {
          "name": "stdout",
          "output_type": "stream",
          "text": [
            "User_ID\n",
            "16272    5900\n",
            "3321     4395\n",
            "49890    3295\n",
            "1333     2982\n",
            "11043    2911\n",
            "Name: Rating, dtype: int64\n"
          ]
        }
      ],
      "source": [
        "ratings_per_user = df.groupby(by=\"User_ID\")[\"Rating\"].count().sort_values(ascending=False)\n",
        "print(ratings_per_user.head())"
      ]
    },
    {
      "cell_type": "code",
      "execution_count": null,
      "id": "bdddca10",
      "metadata": {
        "colab": {
          "base_uri": "https://localhost:8080/"
        },
        "id": "bdddca10",
        "outputId": "654c1537-9529-47cd-d4c7-f085aaafa07d"
      },
      "outputs": [
        {
          "name": "stdout",
          "output_type": "stream",
          "text": [
            "count    10000.000000\n",
            "mean       209.744400\n",
            "std        295.282103\n",
            "min          1.000000\n",
            "25%         38.000000\n",
            "50%         99.000000\n",
            "75%        263.000000\n",
            "max       5900.000000\n",
            "Name: Rating, dtype: float64\n"
          ]
        }
      ],
      "source": [
        "# descriptive statistics for per-user ratings\n",
        "print(ratings_per_user.describe())"
      ]
    },
    {
      "cell_type": "code",
      "execution_count": null,
      "id": "4d8a5023",
      "metadata": {
        "colab": {
          "base_uri": "https://localhost:8080/",
          "height": 507
        },
        "id": "4d8a5023",
        "outputId": "f4ca0c7a-998e-4aea-fa4e-8792a3bc1e2e"
      },
      "outputs": [
        {
          "data": {
            "image/png": "[encoded data removed]",
            "text/plain": [
              "<Figure size 1500x500 with 2 Axes>"
            ]
          },
          "metadata": {},
          "output_type": "display_data"
        }
      ],
      "source": [
        "# Probability Density Function and Cumulative Distribution Function of per-user ratings\n",
        "\n",
        "fig, ax = plt.subplots(nrows=1, ncols=2, figsize=(15,5))\n",
        "\n",
        "sns.kdeplot(ax=ax[0], data=ratings_per_user, fill=True)\n",
        "ax[0].set_title(\"Probability Density Function (PDF)\")\n",
        "ax[0].set_xlabel(\"Ratings per User\")\n",
        "ax[0].set_ylabel(\"Probability Density\")\n",
        "\n",
        "sns.kdeplot(ax=ax[1], data=ratings_per_user, cumulative=True, fill=True)\n",
        "ax[1].set_title(\"Cumulative Distribution Function (CDF)\")\n",
        "ax[1].set_xlabel(\"Ratings per User\")\n",
        "ax[1].set_ylabel(\"Cumulative Distribution\")\n",
        "\n",
        "plt.tight_layout()\n",
        "plt.show()"
      ]
    },
    {
      "cell_type": "markdown",
      "id": "1116b533",
      "metadata": {
        "id": "1116b533"
      },
      "source": [
        "**Conclusion**: From the above PDF and CDF we conclude that the vast majority of users have either very few or zero number of ratings. This is expected, because many users probably interact with a small fraction of the total movies in the recommendation system."
      ]
    },
    {
      "cell_type": "markdown",
      "id": "eb5a5252",
      "metadata": {
        "id": "eb5a5252"
      },
      "source": [
        "### 4.5.2 Average rating per user"
      ]
    },
    {
      "cell_type": "code",
      "execution_count": null,
      "id": "79687ed2",
      "metadata": {
        "colab": {
          "base_uri": "https://localhost:8080/"
        },
        "id": "79687ed2",
        "outputId": "4a8dda88-e27d-4a76-c74c-4e3e4199fd56"
      },
      "outputs": [
        {
          "name": "stdout",
          "output_type": "stream",
          "text": [
            "User_ID\n",
            "10023    5.0\n",
            "33959    5.0\n",
            "1365     5.0\n",
            "45569    5.0\n",
            "15007    5.0\n",
            "Name: Rating, dtype: float64\n"
          ]
        }
      ],
      "source": [
        "df.loc[:,\"Rating\"] = pd.to_numeric(df[\"Rating\"])\n",
        "average_ratings = df.groupby(\"User_ID\")[\"Rating\"].mean().sort_values(ascending=False)\n",
        "print(average_ratings.head())"
      ]
    },
    {
      "cell_type": "code",
      "execution_count": null,
      "id": "1d3cb7d2",
      "metadata": {
        "colab": {
          "base_uri": "https://localhost:8080/"
        },
        "id": "1d3cb7d2",
        "outputId": "86412618-ab5a-4cfc-c1eb-ec9a5e25bbf4"
      },
      "outputs": [
        {
          "name": "stdout",
          "output_type": "stream",
          "text": [
            "count    10000.000000\n",
            "mean         3.676128\n",
            "std          0.472650\n",
            "min          1.000000\n",
            "25%          3.388568\n",
            "50%          3.677251\n",
            "75%          3.981711\n",
            "max          5.000000\n",
            "Name: Rating, dtype: float64\n"
          ]
        }
      ],
      "source": [
        "# descriptive statistics for average ratings per user\n",
        "print(average_ratings.describe())"
      ]
    },
    {
      "cell_type": "code",
      "execution_count": null,
      "id": "2164a73d",
      "metadata": {
        "colab": {
          "base_uri": "https://localhost:8080/",
          "height": 487
        },
        "id": "2164a73d",
        "outputId": "9dee598f-3f65-4dcc-ffb0-ce18651b355c"
      },
      "outputs": [
        {
          "data": {
            "image/png": "[encoded data removed]",
            "text/plain": [
              "<Figure size 1000x500 with 1 Axes>"
            ]
          },
          "metadata": {},
          "output_type": "display_data"
        }
      ],
      "source": [
        "# Histogram of average ratings per user\n",
        "\n",
        "plt.figure(figsize=(10,5))\n",
        "plt.hist(average_ratings, bins=25, edgecolor=\"black\")\n",
        "plt.title(\"Average Rating per User\")\n",
        "plt.xlabel(\"Average Rating\")\n",
        "plt.ylabel(\"Number of Users\")\n",
        "plt.show()"
      ]
    },
    {
      "cell_type": "markdown",
      "id": "8e561c37",
      "metadata": {
        "id": "8e561c37"
      },
      "source": [
        "### 4.6 Analysis of per-movie ratings\n",
        "\n",
        "Performing Exploratory Data Analysis on the per-movie ratings is an important task that can help us obtain useful information about user preferences as well as movie characteristics. Also, by calculating the number of ratings and the average rating, we can not only identify blockbuster movies, but also discover \"hidden-gems\" (movies with very high average rating and low popularity). Additionally, we can implement temporal analysis of movie ratings, in order to observe how they change over time."
      ]
    },
    {
      "cell_type": "markdown",
      "id": "694a7a35",
      "metadata": {
        "id": "694a7a35"
      },
      "source": [
        "### 4.6.1 Number of ratings per movie"
      ]
    },
    {
      "cell_type": "code",
      "execution_count": null,
      "id": "2e248a33",
      "metadata": {
        "colab": {
          "base_uri": "https://localhost:8080/"
        },
        "id": "2e248a33",
        "outputId": "5030a38b-e00d-477a-a039-e5a85805cc15"
      },
      "outputs": [
        {
          "name": "stdout",
          "output_type": "stream",
          "text": [
            "Movie_ID\n",
            "5317     4907\n",
            "15124    4576\n",
            "14313    4198\n",
            "1905     4068\n",
            "15205    4036\n",
            "Name: Rating, dtype: int64\n"
          ]
        }
      ],
      "source": [
        "ratings_per_movie = df.groupby(by=\"Movie_ID\")[\"Rating\"].count().sort_values(ascending=False)\n",
        "print(ratings_per_movie.head())"
      ]
    },
    {
      "cell_type": "code",
      "execution_count": null,
      "id": "906b7b96",
      "metadata": {
        "colab": {
          "base_uri": "https://localhost:8080/"
        },
        "id": "906b7b96",
        "outputId": "020da9e0-0ed3-4c0a-ace6-e724f1896944"
      },
      "outputs": [
        {
          "name": "stdout",
          "output_type": "stream",
          "text": [
            "count    17300.000000\n",
            "mean       121.239538\n",
            "std        359.222825\n",
            "min          1.000000\n",
            "25%          4.000000\n",
            "50%         12.000000\n",
            "75%         59.000000\n",
            "max       4907.000000\n",
            "Name: Rating, dtype: float64\n"
          ]
        }
      ],
      "source": [
        "# descriptive statistics for per-movie ratings\n",
        "print(ratings_per_movie.describe())"
      ]
    },
    {
      "cell_type": "code",
      "execution_count": null,
      "id": "c8e57260",
      "metadata": {
        "colab": {
          "base_uri": "https://localhost:8080/",
          "height": 507
        },
        "id": "c8e57260",
        "outputId": "47afe740-82a7-4795-ea2d-9d503bf3abb4"
      },
      "outputs": [
        {
          "data": {
            "image/png": "[encoded data removed]",
            "text/plain": [
              "<Figure size 1500x500 with 2 Axes>"
            ]
          },
          "metadata": {},
          "output_type": "display_data"
        }
      ],
      "source": [
        "# Probability Density Function and Cumulative Distribution Function of per-movie ratings\n",
        "\n",
        "fig, ax = plt.subplots(nrows=1, ncols=2, figsize=(15,5))\n",
        "\n",
        "sns.kdeplot(ax=ax[0], data=ratings_per_movie, fill=True)\n",
        "ax[0].set_title(\"Probability Density Function (PDF)\")\n",
        "ax[0].set_xlabel(\"Ratings per Movie\")\n",
        "ax[0].set_ylabel(\"Probability Density\")\n",
        "\n",
        "sns.kdeplot(ax=ax[1], data=ratings_per_movie, cumulative=True, fill=True)\n",
        "ax[1].set_title(\"Cumulative Density Function (CDF)\")\n",
        "ax[1].set_xlabel(\"Ratings per Movie\")\n",
        "ax[1].set_ylabel(\"Cumulative Density\")\n",
        "\n",
        "plt.tight_layout()\n",
        "plt.show()"
      ]
    },
    {
      "cell_type": "markdown",
      "id": "58e0d579",
      "metadata": {
        "id": "58e0d579"
      },
      "source": [
        "**Conclusion**: From the above PDF and CDF we conclude that the vast majority of movies have either very few or zero number of ratings. This is expected, because not all movies are popular among the vast majority users so that they can be rated."
      ]
    },
    {
      "cell_type": "markdown",
      "id": "4d68fd97",
      "metadata": {
        "id": "4d68fd97"
      },
      "source": [
        "### 4.6.2 Average rating per movie"
      ]
    },
    {
      "cell_type": "code",
      "execution_count": null,
      "id": "98481384",
      "metadata": {
        "colab": {
          "base_uri": "https://localhost:8080/"
        },
        "id": "98481384",
        "outputId": "8ba609e9-24fb-45a3-dd19-e8344ebee95b"
      },
      "outputs": [
        {
          "name": "stdout",
          "output_type": "stream",
          "text": [
            "Movie_ID\n",
            "16354    5.0\n",
            "13118    5.0\n",
            "8443     5.0\n",
            "365      5.0\n",
            "13399    5.0\n",
            "Name: Rating, dtype: float64\n"
          ]
        }
      ],
      "source": [
        "df.loc[:,\"Rating\"] = pd.to_numeric(df[\"Rating\"])\n",
        "average_ratings = df.groupby(\"Movie_ID\")[\"Rating\"].mean().sort_values(ascending=False)\n",
        "print(average_ratings.head())"
      ]
    },
    {
      "cell_type": "code",
      "execution_count": null,
      "id": "SWS5w3Yty2H-",
      "metadata": {
        "colab": {
          "base_uri": "https://localhost:8080/"
        },
        "id": "SWS5w3Yty2H-",
        "outputId": "ff6abfd5-037b-4821-aad9-c8b53320e897"
      },
      "outputs": [
        {
          "name": "stdout",
          "output_type": "stream",
          "text": [
            "count    17300.000000\n",
            "mean         3.276097\n",
            "std          0.709097\n",
            "min          1.000000\n",
            "25%          2.925779\n",
            "50%          3.340909\n",
            "75%          3.750000\n",
            "max          5.000000\n",
            "Name: Rating, dtype: float64\n"
          ]
        }
      ],
      "source": [
        "# descriptive statistics for average ratings per movie\n",
        "print(average_ratings.describe())"
      ]
    },
    {
      "cell_type": "code",
      "execution_count": null,
      "id": "r7oOyfEyy2H-",
      "metadata": {
        "colab": {
          "base_uri": "https://localhost:8080/",
          "height": 487
        },
        "id": "r7oOyfEyy2H-",
        "outputId": "2d9ccf49-9c53-40c8-a90a-adefb2e9ee3a"
      },
      "outputs": [
        {
          "data": {
            "image/png": "[encoded data removed]",
            "text/plain": [
              "<Figure size 1000x500 with 1 Axes>"
            ]
          },
          "metadata": {},
          "output_type": "display_data"
        }
      ],
      "source": [
        "# Histogram of average rating per movie\n",
        "\n",
        "plt.figure(figsize=(10,5))\n",
        "plt.hist(average_ratings, bins=25, edgecolor=\"black\")\n",
        "plt.title(\"Average Rating per Movie\")\n",
        "plt.xlabel(\"Average Rating\")\n",
        "plt.ylabel(\"Number of Movies\")\n",
        "plt.show()"
      ]
    },
    {
      "cell_type": "markdown",
      "id": "1f0de54e",
      "metadata": {
        "id": "1f0de54e"
      },
      "source": [
        "## 4.7 Temporal Analysis of ratings"
      ]
    },
    {
      "cell_type": "markdown",
      "id": "63aa2f1c",
      "metadata": {
        "id": "63aa2f1c"
      },
      "source": [
        "### 4.7.1 Montly analysis of ratings"
      ]
    },
    {
      "cell_type": "markdown",
      "id": "1d282a6a",
      "metadata": {
        "id": "1d282a6a"
      },
      "source": [
        "The first step of the montly analysis of ratings is to sort the dataframe in an ascending order of dates."
      ]
    },
    {
      "cell_type": "code",
      "execution_count": null,
      "id": "1b1cffc9",
      "metadata": {
        "colab": {
          "base_uri": "https://localhost:8080/",
          "height": 206
        },
        "id": "1b1cffc9",
        "outputId": "67a78278-217b-4c7f-f717-97ac20c71c1f"
      },
      "outputs": [
        {
          "data": {
            "text/html": [
              "\n",
              "  <div id=\"df-153ef81f-5f08-46e9-aa8e-edc01b609929\" class=\"colab-df-container\">\n",
              "    <div>\n",
              "<style scoped>\n",
              "    .dataframe tbody tr th:only-of-type {\n",
              "        vertical-align: middle;\n",
              "    }\n",
              "\n",
              "    .dataframe tbody tr th {\n",
              "        vertical-align: top;\n",
              "    }\n",
              "\n",
              "    .dataframe thead th {\n",
              "        text-align: right;\n",
              "    }\n",
              "</style>\n",
              "<table border=\"1\" class=\"dataframe\">\n",
              "  <thead>\n",
              "    <tr style=\"text-align: right;\">\n",
              "      <th></th>\n",
              "      <th>Unnamed: 0</th>\n",
              "      <th>Movie_ID</th>\n",
              "      <th>User_ID</th>\n",
              "      <th>Rating</th>\n",
              "      <th>Date</th>\n",
              "      <th>Day_of_Week</th>\n",
              "    </tr>\n",
              "  </thead>\n",
              "  <tbody>\n",
              "    <tr>\n",
              "      <th>0</th>\n",
              "      <td>49422235</td>\n",
              "      <td>8903</td>\n",
              "      <td>28966</td>\n",
              "      <td>1</td>\n",
              "      <td>1999-12-30</td>\n",
              "      <td>Thursday</td>\n",
              "    </tr>\n",
              "    <tr>\n",
              "      <th>1</th>\n",
              "      <td>62828404</td>\n",
              "      <td>11405</td>\n",
              "      <td>28966</td>\n",
              "      <td>4</td>\n",
              "      <td>1999-12-30</td>\n",
              "      <td>Thursday</td>\n",
              "    </tr>\n",
              "    <tr>\n",
              "      <th>2</th>\n",
              "      <td>87462364</td>\n",
              "      <td>15532</td>\n",
              "      <td>28966</td>\n",
              "      <td>1</td>\n",
              "      <td>1999-12-30</td>\n",
              "      <td>Thursday</td>\n",
              "    </tr>\n",
              "    <tr>\n",
              "      <th>24</th>\n",
              "      <td>65590856</td>\n",
              "      <td>12034</td>\n",
              "      <td>1086</td>\n",
              "      <td>5</td>\n",
              "      <td>1999-12-31</td>\n",
              "      <td>Friday</td>\n",
              "    </tr>\n",
              "    <tr>\n",
              "      <th>23</th>\n",
              "      <td>1349997</td>\n",
              "      <td>295</td>\n",
              "      <td>1086</td>\n",
              "      <td>4</td>\n",
              "      <td>1999-12-31</td>\n",
              "      <td>Friday</td>\n",
              "    </tr>\n",
              "  </tbody>\n",
              "</table>\n",
              "</div>\n",
              "    <div class=\"colab-df-buttons\">\n",
              "\n",
              "  <div class=\"colab-df-container\">\n",
              "    <button class=\"colab-df-convert\" onclick=\"convertToInteractive('df-153ef81f-5f08-46e9-aa8e-edc01b609929')\"\n",
              "            title=\"Convert this dataframe to an interactive table.\"\n",
              "            style=\"display:none;\">\n",
              "\n",
              "  <svg xmlns=\"http://www.w3.org/2000/svg\" height=\"24px\" viewBox=\"0 -960 960 960\">\n",
              "    <path d=\"M120-120v-720h720v720H120Zm60-500h600v-160H180v160Zm220 220h160v-160H400v160Zm0 220h160v-160H400v160ZM180-400h160v-160H180v160Zm440 0h160v-160H620v160ZM180-180h160v-160H180v160Zm440 0h160v-160H620v160Z\"/>\n",
              "  </svg>\n",
              "    </button>\n",
              "\n",
              "  <style>\n",
              "    .colab-df-container {\n",
              "      display:flex;\n",
              "      gap: 12px;\n",
              "    }\n",
              "\n",
              "    .colab-df-convert {\n",
              "      background-color: #E8F0FE;\n",
              "      border: none;\n",
              "      border-radius: 50%;\n",
              "      cursor: pointer;\n",
              "      display: none;\n",
              "      fill: #1967D2;\n",
              "      height: 32px;\n",
              "      padding: 0 0 0 0;\n",
              "      width: 32px;\n",
              "    }\n",
              "\n",
              "    .colab-df-convert:hover {\n",
              "      background-color: #E2EBFA;\n",
              "      box-shadow: 0px 1px 2px rgba(60, 64, 67, 0.3), 0px 1px 3px 1px rgba(60, 64, 67, 0.15);\n",
              "      fill: #174EA6;\n",
              "    }\n",
              "\n",
              "    .colab-df-buttons div {\n",
              "      margin-bottom: 4px;\n",
              "    }\n",
              "\n",
              "    [theme=dark] .colab-df-convert {\n",
              "      background-color: #3B4455;\n",
              "      fill: #D2E3FC;\n",
              "    }\n",
              "\n",
              "    [theme=dark] .colab-df-convert:hover {\n",
              "      background-color: #434B5C;\n",
              "      box-shadow: 0px 1px 3px 1px rgba(0, 0, 0, 0.15);\n",
              "      filter: drop-shadow(0px 1px 2px rgba(0, 0, 0, 0.3));\n",
              "      fill: #FFFFFF;\n",
              "    }\n",
              "  </style>\n",
              "\n",
              "    <script>\n",
              "      const buttonEl =\n",
              "        document.querySelector('#df-153ef81f-5f08-46e9-aa8e-edc01b609929 button.colab-df-convert');\n",
              "      buttonEl.style.display =\n",
              "        google.colab.kernel.accessAllowed ? 'block' : 'none';\n",
              "\n",
              "      async function convertToInteractive(key) {\n",
              "        const element = document.querySelector('#df-153ef81f-5f08-46e9-aa8e-edc01b609929');\n",
              "        const dataTable =\n",
              "          await google.colab.kernel.invokeFunction('convertToInteractive',\n",
              "                                                    [key], {});\n",
              "        if (!dataTable) return;\n",
              "\n",
              "        const docLinkHtml = 'Like what you see? Visit the ' +\n",
              "          '<a target=\"_blank\" href=https://colab.research.google.com/notebooks/data_table.ipynb>data table notebook</a>'\n",
              "          + ' to learn more about interactive tables.';\n",
              "        element.innerHTML = '';\n",
              "        dataTable['output_type'] = 'display_data';\n",
              "        await google.colab.output.renderOutput(dataTable, element);\n",
              "        const docLink = document.createElement('div');\n",
              "        docLink.innerHTML = docLinkHtml;\n",
              "        element.appendChild(docLink);\n",
              "      }\n",
              "    </script>\n",
              "  </div>\n",
              "\n",
              "\n",
              "<div id=\"df-f3b48d9f-77ae-4d7c-8677-d0a433fcc4d9\">\n",
              "  <button class=\"colab-df-quickchart\" onclick=\"quickchart('df-f3b48d9f-77ae-4d7c-8677-d0a433fcc4d9')\"\n",
              "            title=\"Suggest charts\"\n",
              "            style=\"display:none;\">\n",
              "\n",
              "<svg xmlns=\"http://www.w3.org/2000/svg\" height=\"24px\"viewBox=\"0 0 24 24\"\n",
              "     width=\"24px\">\n",
              "    <g>\n",
              "        <path d=\"M19 3H5c-1.1 0-2 .9-2 2v14c0 1.1.9 2 2 2h14c1.1 0 2-.9 2-2V5c0-1.1-.9-2-2-2zM9 17H7v-7h2v7zm4 0h-2V7h2v10zm4 0h-2v-4h2v4z\"/>\n",
              "    </g>\n",
              "</svg>\n",
              "  </button>\n",
              "\n",
              "<style>\n",
              "  .colab-df-quickchart {\n",
              "      --bg-color: #E8F0FE;\n",
              "      --fill-color: #1967D2;\n",
              "      --hover-bg-color: #E2EBFA;\n",
              "      --hover-fill-color: #174EA6;\n",
              "      --disabled-fill-color: #AAA;\n",
              "      --disabled-bg-color: #DDD;\n",
              "  }\n",
              "\n",
              "  [theme=dark] .colab-df-quickchart {\n",
              "      --bg-color: #3B4455;\n",
              "      --fill-color: #D2E3FC;\n",
              "      --hover-bg-color: #434B5C;\n",
              "      --hover-fill-color: #FFFFFF;\n",
              "      --disabled-bg-color: #3B4455;\n",
              "      --disabled-fill-color: #666;\n",
              "  }\n",
              "\n",
              "  .colab-df-quickchart {\n",
              "    background-color: var(--bg-color);\n",
              "    border: none;\n",
              "    border-radius: 50%;\n",
              "    cursor: pointer;\n",
              "    display: none;\n",
              "    fill: var(--fill-color);\n",
              "    height: 32px;\n",
              "    padding: 0;\n",
              "    width: 32px;\n",
              "  }\n",
              "\n",
              "  .colab-df-quickchart:hover {\n",
              "    background-color: var(--hover-bg-color);\n",
              "    box-shadow: 0 1px 2px rgba(60, 64, 67, 0.3), 0 1px 3px 1px rgba(60, 64, 67, 0.15);\n",
              "    fill: var(--button-hover-fill-color);\n",
              "  }\n",
              "\n",
              "  .colab-df-quickchart-complete:disabled,\n",
              "  .colab-df-quickchart-complete:disabled:hover {\n",
              "    background-color: var(--disabled-bg-color);\n",
              "    fill: var(--disabled-fill-color);\n",
              "    box-shadow: none;\n",
              "  }\n",
              "\n",
              "  .colab-df-spinner {\n",
              "    border: 2px solid var(--fill-color);\n",
              "    border-color: transparent;\n",
              "    border-bottom-color: var(--fill-color);\n",
              "    animation:\n",
              "      spin 1s steps(1) infinite;\n",
              "  }\n",
              "\n",
              "  @keyframes spin {\n",
              "    0% {\n",
              "      border-color: transparent;\n",
              "      border-bottom-color: var(--fill-color);\n",
              "      border-left-color: var(--fill-color);\n",
              "    }\n",
              "    20% {\n",
              "      border-color: transparent;\n",
              "      border-left-color: var(--fill-color);\n",
              "      border-top-color: var(--fill-color);\n",
              "    }\n",
              "    30% {\n",
              "      border-color: transparent;\n",
              "      border-left-color: var(--fill-color);\n",
              "      border-top-color: var(--fill-color);\n",
              "      border-right-color: var(--fill-color);\n",
              "    }\n",
              "    40% {\n",
              "      border-color: transparent;\n",
              "      border-right-color: var(--fill-color);\n",
              "      border-top-color: var(--fill-color);\n",
              "    }\n",
              "    60% {\n",
              "      border-color: transparent;\n",
              "      border-right-color: var(--fill-color);\n",
              "    }\n",
              "    80% {\n",
              "      border-color: transparent;\n",
              "      border-right-color: var(--fill-color);\n",
              "      border-bottom-color: var(--fill-color);\n",
              "    }\n",
              "    90% {\n",
              "      border-color: transparent;\n",
              "      border-bottom-color: var(--fill-color);\n",
              "    }\n",
              "  }\n",
              "</style>\n",
              "\n",
              "  <script>\n",
              "    async function quickchart(key) {\n",
              "      const quickchartButtonEl =\n",
              "        document.querySelector('#' + key + ' button');\n",
              "      quickchartButtonEl.disabled = true;  // To prevent multiple clicks.\n",
              "      quickchartButtonEl.classList.add('colab-df-spinner');\n",
              "      try {\n",
              "        const charts = await google.colab.kernel.invokeFunction(\n",
              "            'suggestCharts', [key], {});\n",
              "      } catch (error) {\n",
              "        console.error('Error during call to suggestCharts:', error);\n",
              "      }\n",
              "      quickchartButtonEl.classList.remove('colab-df-spinner');\n",
              "      quickchartButtonEl.classList.add('colab-df-quickchart-complete');\n",
              "    }\n",
              "    (() => {\n",
              "      let quickchartButtonEl =\n",
              "        document.querySelector('#df-f3b48d9f-77ae-4d7c-8677-d0a433fcc4d9 button');\n",
              "      quickchartButtonEl.style.display =\n",
              "        google.colab.kernel.accessAllowed ? 'block' : 'none';\n",
              "    })();\n",
              "  </script>\n",
              "</div>\n",
              "    </div>\n",
              "  </div>\n"
            ],
            "text/plain": [
              "    Unnamed: 0  Movie_ID  User_ID  Rating       Date Day_of_Week\n",
              "0     49422235      8903    28966       1 1999-12-30    Thursday\n",
              "1     62828404     11405    28966       4 1999-12-30    Thursday\n",
              "2     87462364     15532    28966       1 1999-12-30    Thursday\n",
              "24    65590856     12034     1086       5 1999-12-31      Friday\n",
              "23     1349997       295     1086       4 1999-12-31      Friday"
            ]
          },
          "execution_count": 27,
          "metadata": {},
          "output_type": "execute_result"
        }
      ],
      "source": [
        "df['Date'] = pd.to_datetime(df['Date'])\n",
        "df.sort_values(by='Date', inplace=True)\n",
        "df.head()"
      ]
    },
    {
      "cell_type": "code",
      "execution_count": null,
      "id": "0bd3c0ae",
      "metadata": {
        "colab": {
          "base_uri": "https://localhost:8080/",
          "height": 504
        },
        "id": "0bd3c0ae",
        "outputId": "7f8760cf-ed4a-4d40-936e-c888c2f508a5"
      },
      "outputs": [
        {
          "data": {
            "text/plain": [
              "Text(0.5, 1.0, 'Number of ratings per month')"
            ]
          },
          "execution_count": 28,
          "metadata": {},
          "output_type": "execute_result"
        },
        {
          "data": {
            "image/png": "[encoded data removed]",
            "text/plain": [
              "<Figure size 1000x500 with 1 Axes>"
            ]
          },
          "metadata": {},
          "output_type": "display_data"
        }
      ],
      "source": [
        "montly_ratings = df.resample('M', on='Date')['Rating'].count()\n",
        "\n",
        "plt.figure(figsize=(10,5))\n",
        "plt.plot(montly_ratings)\n",
        "plt.xlabel('Months')\n",
        "plt.ylabel('Ratings')\n",
        "plt.title('Number of ratings per month')"
      ]
    },
    {
      "cell_type": "markdown",
      "id": "dfe761e1",
      "metadata": {
        "id": "dfe761e1"
      },
      "source": [
        "**Conclusion:** The graph of monthly ratings over time, gives us valuable information about user engagement. During high user activity we can assume that some popular highly-anticipated movies have just been introduced to the system. During low user activity we may need to perform better recommendations to users, in order to increase the ratings totals."
      ]
    },
    {
      "cell_type": "markdown",
      "id": "79b35454",
      "metadata": {
        "id": "79b35454"
      },
      "source": [
        "### 4.7.2 Daily analysis of ratings"
      ]
    },
    {
      "cell_type": "markdown",
      "id": "a2dbddfb",
      "metadata": {
        "id": "a2dbddfb"
      },
      "source": [
        "The first step of the daily analysis of ratings is to add a new column in the dataframe, the day the users rated each movies."
      ]
    },
    {
      "cell_type": "code",
      "execution_count": null,
      "id": "f0e0b065",
      "metadata": {
        "colab": {
          "base_uri": "https://localhost:8080/",
          "height": 206
        },
        "id": "f0e0b065",
        "outputId": "f750ee8c-99db-4984-996a-e22f3d779d0e"
      },
      "outputs": [
        {
          "data": {
            "text/html": [
              "\n",
              "  <div id=\"df-b831c4a1-fd8a-4846-9e52-78bf57231015\" class=\"colab-df-container\">\n",
              "    <div>\n",
              "<style scoped>\n",
              "    .dataframe tbody tr th:only-of-type {\n",
              "        vertical-align: middle;\n",
              "    }\n",
              "\n",
              "    .dataframe tbody tr th {\n",
              "        vertical-align: top;\n",
              "    }\n",
              "\n",
              "    .dataframe thead th {\n",
              "        text-align: right;\n",
              "    }\n",
              "</style>\n",
              "<table border=\"1\" class=\"dataframe\">\n",
              "  <thead>\n",
              "    <tr style=\"text-align: right;\">\n",
              "      <th></th>\n",
              "      <th>Unnamed: 0</th>\n",
              "      <th>Movie_ID</th>\n",
              "      <th>User_ID</th>\n",
              "      <th>Rating</th>\n",
              "      <th>Date</th>\n",
              "      <th>Day_of_Week</th>\n",
              "    </tr>\n",
              "  </thead>\n",
              "  <tbody>\n",
              "    <tr>\n",
              "      <th>0</th>\n",
              "      <td>49422235</td>\n",
              "      <td>8903</td>\n",
              "      <td>28966</td>\n",
              "      <td>1</td>\n",
              "      <td>1999-12-30</td>\n",
              "      <td>Thursday</td>\n",
              "    </tr>\n",
              "    <tr>\n",
              "      <th>1</th>\n",
              "      <td>62828404</td>\n",
              "      <td>11405</td>\n",
              "      <td>28966</td>\n",
              "      <td>4</td>\n",
              "      <td>1999-12-30</td>\n",
              "      <td>Thursday</td>\n",
              "    </tr>\n",
              "    <tr>\n",
              "      <th>2</th>\n",
              "      <td>87462364</td>\n",
              "      <td>15532</td>\n",
              "      <td>28966</td>\n",
              "      <td>1</td>\n",
              "      <td>1999-12-30</td>\n",
              "      <td>Thursday</td>\n",
              "    </tr>\n",
              "    <tr>\n",
              "      <th>24</th>\n",
              "      <td>65590856</td>\n",
              "      <td>12034</td>\n",
              "      <td>1086</td>\n",
              "      <td>5</td>\n",
              "      <td>1999-12-31</td>\n",
              "      <td>Friday</td>\n",
              "    </tr>\n",
              "    <tr>\n",
              "      <th>23</th>\n",
              "      <td>1349997</td>\n",
              "      <td>295</td>\n",
              "      <td>1086</td>\n",
              "      <td>4</td>\n",
              "      <td>1999-12-31</td>\n",
              "      <td>Friday</td>\n",
              "    </tr>\n",
              "  </tbody>\n",
              "</table>\n",
              "</div>\n",
              "    <div class=\"colab-df-buttons\">\n",
              "\n",
              "  <div class=\"colab-df-container\">\n",
              "    <button class=\"colab-df-convert\" onclick=\"convertToInteractive('df-b831c4a1-fd8a-4846-9e52-78bf57231015')\"\n",
              "            title=\"Convert this dataframe to an interactive table.\"\n",
              "            style=\"display:none;\">\n",
              "\n",
              "  <svg xmlns=\"http://www.w3.org/2000/svg\" height=\"24px\" viewBox=\"0 -960 960 960\">\n",
              "    <path d=\"M120-120v-720h720v720H120Zm60-500h600v-160H180v160Zm220 220h160v-160H400v160Zm0 220h160v-160H400v160ZM180-400h160v-160H180v160Zm440 0h160v-160H620v160ZM180-180h160v-160H180v160Zm440 0h160v-160H620v160Z\"/>\n",
              "  </svg>\n",
              "    </button>\n",
              "\n",
              "  <style>\n",
              "    .colab-df-container {\n",
              "      display:flex;\n",
              "      gap: 12px;\n",
              "    }\n",
              "\n",
              "    .colab-df-convert {\n",
              "      background-color: #E8F0FE;\n",
              "      border: none;\n",
              "      border-radius: 50%;\n",
              "      cursor: pointer;\n",
              "      display: none;\n",
              "      fill: #1967D2;\n",
              "      height: 32px;\n",
              "      padding: 0 0 0 0;\n",
              "      width: 32px;\n",
              "    }\n",
              "\n",
              "    .colab-df-convert:hover {\n",
              "      background-color: #E2EBFA;\n",
              "      box-shadow: 0px 1px 2px rgba(60, 64, 67, 0.3), 0px 1px 3px 1px rgba(60, 64, 67, 0.15);\n",
              "      fill: #174EA6;\n",
              "    }\n",
              "\n",
              "    .colab-df-buttons div {\n",
              "      margin-bottom: 4px;\n",
              "    }\n",
              "\n",
              "    [theme=dark] .colab-df-convert {\n",
              "      background-color: #3B4455;\n",
              "      fill: #D2E3FC;\n",
              "    }\n",
              "\n",
              "    [theme=dark] .colab-df-convert:hover {\n",
              "      background-color: #434B5C;\n",
              "      box-shadow: 0px 1px 3px 1px rgba(0, 0, 0, 0.15);\n",
              "      filter: drop-shadow(0px 1px 2px rgba(0, 0, 0, 0.3));\n",
              "      fill: #FFFFFF;\n",
              "    }\n",
              "  </style>\n",
              "\n",
              "    <script>\n",
              "      const buttonEl =\n",
              "        document.querySelector('#df-b831c4a1-fd8a-4846-9e52-78bf57231015 button.colab-df-convert');\n",
              "      buttonEl.style.display =\n",
              "        google.colab.kernel.accessAllowed ? 'block' : 'none';\n",
              "\n",
              "      async function convertToInteractive(key) {\n",
              "        const element = document.querySelector('#df-b831c4a1-fd8a-4846-9e52-78bf57231015');\n",
              "        const dataTable =\n",
              "          await google.colab.kernel.invokeFunction('convertToInteractive',\n",
              "                                                    [key], {});\n",
              "        if (!dataTable) return;\n",
              "\n",
              "        const docLinkHtml = 'Like what you see? Visit the ' +\n",
              "          '<a target=\"_blank\" href=https://colab.research.google.com/notebooks/data_table.ipynb>data table notebook</a>'\n",
              "          + ' to learn more about interactive tables.';\n",
              "        element.innerHTML = '';\n",
              "        dataTable['output_type'] = 'display_data';\n",
              "        await google.colab.output.renderOutput(dataTable, element);\n",
              "        const docLink = document.createElement('div');\n",
              "        docLink.innerHTML = docLinkHtml;\n",
              "        element.appendChild(docLink);\n",
              "      }\n",
              "    </script>\n",
              "  </div>\n",
              "\n",
              "\n",
              "<div id=\"df-d466a01b-aa79-483a-957d-d627196d1bb1\">\n",
              "  <button class=\"colab-df-quickchart\" onclick=\"quickchart('df-d466a01b-aa79-483a-957d-d627196d1bb1')\"\n",
              "            title=\"Suggest charts\"\n",
              "            style=\"display:none;\">\n",
              "\n",
              "<svg xmlns=\"http://www.w3.org/2000/svg\" height=\"24px\"viewBox=\"0 0 24 24\"\n",
              "     width=\"24px\">\n",
              "    <g>\n",
              "        <path d=\"M19 3H5c-1.1 0-2 .9-2 2v14c0 1.1.9 2 2 2h14c1.1 0 2-.9 2-2V5c0-1.1-.9-2-2-2zM9 17H7v-7h2v7zm4 0h-2V7h2v10zm4 0h-2v-4h2v4z\"/>\n",
              "    </g>\n",
              "</svg>\n",
              "  </button>\n",
              "\n",
              "<style>\n",
              "  .colab-df-quickchart {\n",
              "      --bg-color: #E8F0FE;\n",
              "      --fill-color: #1967D2;\n",
              "      --hover-bg-color: #E2EBFA;\n",
              "      --hover-fill-color: #174EA6;\n",
              "      --disabled-fill-color: #AAA;\n",
              "      --disabled-bg-color: #DDD;\n",
              "  }\n",
              "\n",
              "  [theme=dark] .colab-df-quickchart {\n",
              "      --bg-color: #3B4455;\n",
              "      --fill-color: #D2E3FC;\n",
              "      --hover-bg-color: #434B5C;\n",
              "      --hover-fill-color: #FFFFFF;\n",
              "      --disabled-bg-color: #3B4455;\n",
              "      --disabled-fill-color: #666;\n",
              "  }\n",
              "\n",
              "  .colab-df-quickchart {\n",
              "    background-color: var(--bg-color);\n",
              "    border: none;\n",
              "    border-radius: 50%;\n",
              "    cursor: pointer;\n",
              "    display: none;\n",
              "    fill: var(--fill-color);\n",
              "    height: 32px;\n",
              "    padding: 0;\n",
              "    width: 32px;\n",
              "  }\n",
              "\n",
              "  .colab-df-quickchart:hover {\n",
              "    background-color: var(--hover-bg-color);\n",
              "    box-shadow: 0 1px 2px rgba(60, 64, 67, 0.3), 0 1px 3px 1px rgba(60, 64, 67, 0.15);\n",
              "    fill: var(--button-hover-fill-color);\n",
              "  }\n",
              "\n",
              "  .colab-df-quickchart-complete:disabled,\n",
              "  .colab-df-quickchart-complete:disabled:hover {\n",
              "    background-color: var(--disabled-bg-color);\n",
              "    fill: var(--disabled-fill-color);\n",
              "    box-shadow: none;\n",
              "  }\n",
              "\n",
              "  .colab-df-spinner {\n",
              "    border: 2px solid var(--fill-color);\n",
              "    border-color: transparent;\n",
              "    border-bottom-color: var(--fill-color);\n",
              "    animation:\n",
              "      spin 1s steps(1) infinite;\n",
              "  }\n",
              "\n",
              "  @keyframes spin {\n",
              "    0% {\n",
              "      border-color: transparent;\n",
              "      border-bottom-color: var(--fill-color);\n",
              "      border-left-color: var(--fill-color);\n",
              "    }\n",
              "    20% {\n",
              "      border-color: transparent;\n",
              "      border-left-color: var(--fill-color);\n",
              "      border-top-color: var(--fill-color);\n",
              "    }\n",
              "    30% {\n",
              "      border-color: transparent;\n",
              "      border-left-color: var(--fill-color);\n",
              "      border-top-color: var(--fill-color);\n",
              "      border-right-color: var(--fill-color);\n",
              "    }\n",
              "    40% {\n",
              "      border-color: transparent;\n",
              "      border-right-color: var(--fill-color);\n",
              "      border-top-color: var(--fill-color);\n",
              "    }\n",
              "    60% {\n",
              "      border-color: transparent;\n",
              "      border-right-color: var(--fill-color);\n",
              "    }\n",
              "    80% {\n",
              "      border-color: transparent;\n",
              "      border-right-color: var(--fill-color);\n",
              "      border-bottom-color: var(--fill-color);\n",
              "    }\n",
              "    90% {\n",
              "      border-color: transparent;\n",
              "      border-bottom-color: var(--fill-color);\n",
              "    }\n",
              "  }\n",
              "</style>\n",
              "\n",
              "  <script>\n",
              "    async function quickchart(key) {\n",
              "      const quickchartButtonEl =\n",
              "        document.querySelector('#' + key + ' button');\n",
              "      quickchartButtonEl.disabled = true;  // To prevent multiple clicks.\n",
              "      quickchartButtonEl.classList.add('colab-df-spinner');\n",
              "      try {\n",
              "        const charts = await google.colab.kernel.invokeFunction(\n",
              "            'suggestCharts', [key], {});\n",
              "      } catch (error) {\n",
              "        console.error('Error during call to suggestCharts:', error);\n",
              "      }\n",
              "      quickchartButtonEl.classList.remove('colab-df-spinner');\n",
              "      quickchartButtonEl.classList.add('colab-df-quickchart-complete');\n",
              "    }\n",
              "    (() => {\n",
              "      let quickchartButtonEl =\n",
              "        document.querySelector('#df-d466a01b-aa79-483a-957d-d627196d1bb1 button');\n",
              "      quickchartButtonEl.style.display =\n",
              "        google.colab.kernel.accessAllowed ? 'block' : 'none';\n",
              "    })();\n",
              "  </script>\n",
              "</div>\n",
              "    </div>\n",
              "  </div>\n"
            ],
            "text/plain": [
              "    Unnamed: 0  Movie_ID  User_ID  Rating       Date Day_of_Week\n",
              "0     49422235      8903    28966       1 1999-12-30    Thursday\n",
              "1     62828404     11405    28966       4 1999-12-30    Thursday\n",
              "2     87462364     15532    28966       1 1999-12-30    Thursday\n",
              "24    65590856     12034     1086       5 1999-12-31      Friday\n",
              "23     1349997       295     1086       4 1999-12-31      Friday"
            ]
          },
          "execution_count": 29,
          "metadata": {},
          "output_type": "execute_result"
        }
      ],
      "source": [
        "df['Day_of_Week'] = df['Date'].dt.day_name()\n",
        "df.head()"
      ]
    },
    {
      "cell_type": "code",
      "execution_count": null,
      "id": "349deae0",
      "metadata": {
        "colab": {
          "base_uri": "https://localhost:8080/",
          "height": 410
        },
        "id": "349deae0",
        "outputId": "ae984c1b-d6be-4a20-a56f-db1b38187c11"
      },
      "outputs": [
        {
          "data": {
            "image/png": "[encoded data removed]",
            "text/plain": [
              "<Figure size 800x400 with 1 Axes>"
            ]
          },
          "metadata": {},
          "output_type": "display_data"
        }
      ],
      "source": [
        "plt.figure(figsize=(8,4))\n",
        "sns.countplot(x='Day_of_Week',data=df)\n",
        "plt.xlabel('Day')\n",
        "plt.ylabel('Total Ratings')\n",
        "plt.title('Number of ratings for each day of the week')\n",
        "plt.show()"
      ]
    },
    {
      "cell_type": "markdown",
      "id": "ef16e867",
      "metadata": {
        "id": "ef16e867"
      },
      "source": [
        "**Conclusion:** From the countplot above, we can observe that Monday, Tuesday and Wednesday are the days with the most active users, with over 350000 ratings each day. The rest of the days showcase lower number of ratings. The distribution of the number of ratings per day is influenced by the users' routines and daily activities."
      ]
    },
    {
      "cell_type": "markdown",
      "id": "725ddbd5",
      "metadata": {
        "id": "725ddbd5"
      },
      "source": [
        "It's also worth checking the average rating per day."
      ]
    },
    {
      "cell_type": "code",
      "execution_count": null,
      "id": "7c3467c2",
      "metadata": {
        "colab": {
          "base_uri": "https://localhost:8080/"
        },
        "id": "7c3467c2",
        "outputId": "088bc463-94b7-41c4-bc8f-8589eaa94d13"
      },
      "outputs": [
        {
          "name": "stdout",
          "output_type": "stream",
          "text": [
            "Average Daily Ratings:\n",
            "Day_of_Week\n",
            "Friday       3.615100\n",
            "Monday       3.594371\n",
            "Saturday     3.648928\n",
            "Sunday       3.607942\n",
            "Thursday     3.629727\n",
            "Tuesday      3.608991\n",
            "Wednesday    3.623424\n",
            "Name: Rating, dtype: float64\n"
          ]
        }
      ],
      "source": [
        "average_daily_ratings = df.groupby(by=['Day_of_Week'])['Rating'].mean()\n",
        "print(\"Average Daily Ratings:\")\n",
        "print(average_daily_ratings)"
      ]
    },
    {
      "cell_type": "markdown",
      "id": "93c4733a",
      "metadata": {
        "id": "93c4733a"
      },
      "source": [
        "**Conclusion:** The daily average ratings are almost the same, so there is no correlation between the total number of ratings per day of the week and the daily average rating."
      ]
    },
    {
      "cell_type": "markdown",
      "id": "66342238",
      "metadata": {
        "id": "66342238"
      },
      "source": [
        "## 5. Splitting the Dataset to Training and Test Set"
      ]
    },
    {
      "cell_type": "code",
      "execution_count": null,
      "id": "0af10853",
      "metadata": {
        "colab": {
          "base_uri": "https://localhost:8080/",
          "height": 395
        },
        "id": "0af10853",
        "outputId": "776bc572-cf0f-4b2b-eb7a-750c1e75b744"
      },
      "outputs": [
        {
          "data": {
            "text/html": [
              "\n",
              "  <div id=\"df-c13b8bb1-e4d5-494e-9a71-76215a4e7b3f\" class=\"colab-df-container\">\n",
              "    <div>\n",
              "<style scoped>\n",
              "    .dataframe tbody tr th:only-of-type {\n",
              "        vertical-align: middle;\n",
              "    }\n",
              "\n",
              "    .dataframe tbody tr th {\n",
              "        vertical-align: top;\n",
              "    }\n",
              "\n",
              "    .dataframe thead th {\n",
              "        text-align: right;\n",
              "    }\n",
              "</style>\n",
              "<table border=\"1\" class=\"dataframe\">\n",
              "  <thead>\n",
              "    <tr style=\"text-align: right;\">\n",
              "      <th></th>\n",
              "      <th>Unnamed: 0</th>\n",
              "      <th>Movie_ID</th>\n",
              "      <th>User_ID</th>\n",
              "      <th>Rating</th>\n",
              "      <th>Date</th>\n",
              "      <th>Day_of_Week</th>\n",
              "    </tr>\n",
              "  </thead>\n",
              "  <tbody>\n",
              "    <tr>\n",
              "      <th>559140</th>\n",
              "      <td>25815715</td>\n",
              "      <td>4801</td>\n",
              "      <td>8055</td>\n",
              "      <td>3</td>\n",
              "      <td>2004-05-17</td>\n",
              "      <td>Monday</td>\n",
              "    </tr>\n",
              "    <tr>\n",
              "      <th>1014218</th>\n",
              "      <td>78403547</td>\n",
              "      <td>14240</td>\n",
              "      <td>43185</td>\n",
              "      <td>4</td>\n",
              "      <td>2005-01-06</td>\n",
              "      <td>Thursday</td>\n",
              "    </tr>\n",
              "    <tr>\n",
              "      <th>1204689</th>\n",
              "      <td>46789536</td>\n",
              "      <td>8387</td>\n",
              "      <td>43489</td>\n",
              "      <td>5</td>\n",
              "      <td>2005-03-08</td>\n",
              "      <td>Tuesday</td>\n",
              "    </tr>\n",
              "    <tr>\n",
              "      <th>1121051</th>\n",
              "      <td>62303503</td>\n",
              "      <td>11314</td>\n",
              "      <td>40031</td>\n",
              "      <td>3</td>\n",
              "      <td>2005-02-09</td>\n",
              "      <td>Wednesday</td>\n",
              "    </tr>\n",
              "    <tr>\n",
              "      <th>842579</th>\n",
              "      <td>22647238</td>\n",
              "      <td>4290</td>\n",
              "      <td>54870</td>\n",
              "      <td>1</td>\n",
              "      <td>2004-10-26</td>\n",
              "      <td>Tuesday</td>\n",
              "    </tr>\n",
              "  </tbody>\n",
              "</table>\n",
              "</div>\n",
              "    <div class=\"colab-df-buttons\">\n",
              "\n",
              "  <div class=\"colab-df-container\">\n",
              "    <button class=\"colab-df-convert\" onclick=\"convertToInteractive('df-c13b8bb1-e4d5-494e-9a71-76215a4e7b3f')\"\n",
              "            title=\"Convert this dataframe to an interactive table.\"\n",
              "            style=\"display:none;\">\n",
              "\n",
              "  <svg xmlns=\"http://www.w3.org/2000/svg\" height=\"24px\" viewBox=\"0 -960 960 960\">\n",
              "    <path d=\"M120-120v-720h720v720H120Zm60-500h600v-160H180v160Zm220 220h160v-160H400v160Zm0 220h160v-160H400v160ZM180-400h160v-160H180v160Zm440 0h160v-160H620v160ZM180-180h160v-160H180v160Zm440 0h160v-160H620v160Z\"/>\n",
              "  </svg>\n",
              "    </button>\n",
              "\n",
              "  <style>\n",
              "    .colab-df-container {\n",
              "      display:flex;\n",
              "      gap: 12px;\n",
              "    }\n",
              "\n",
              "    .colab-df-convert {\n",
              "      background-color: #E8F0FE;\n",
              "      border: none;\n",
              "      border-radius: 50%;\n",
              "      cursor: pointer;\n",
              "      display: none;\n",
              "      fill: #1967D2;\n",
              "      height: 32px;\n",
              "      padding: 0 0 0 0;\n",
              "      width: 32px;\n",
              "    }\n",
              "\n",
              "    .colab-df-convert:hover {\n",
              "      background-color: #E2EBFA;\n",
              "      box-shadow: 0px 1px 2px rgba(60, 64, 67, 0.3), 0px 1px 3px 1px rgba(60, 64, 67, 0.15);\n",
              "      fill: #174EA6;\n",
              "    }\n",
              "\n",
              "    .colab-df-buttons div {\n",
              "      margin-bottom: 4px;\n",
              "    }\n",
              "\n",
              "    [theme=dark] .colab-df-convert {\n",
              "      background-color: #3B4455;\n",
              "      fill: #D2E3FC;\n",
              "    }\n",
              "\n",
              "    [theme=dark] .colab-df-convert:hover {\n",
              "      background-color: #434B5C;\n",
              "      box-shadow: 0px 1px 3px 1px rgba(0, 0, 0, 0.15);\n",
              "      filter: drop-shadow(0px 1px 2px rgba(0, 0, 0, 0.3));\n",
              "      fill: #FFFFFF;\n",
              "    }\n",
              "  </style>\n",
              "\n",
              "    <script>\n",
              "      const buttonEl =\n",
              "        document.querySelector('#df-c13b8bb1-e4d5-494e-9a71-76215a4e7b3f button.colab-df-convert');\n",
              "      buttonEl.style.display =\n",
              "        google.colab.kernel.accessAllowed ? 'block' : 'none';\n",
              "\n",
              "      async function convertToInteractive(key) {\n",
              "        const element = document.querySelector('#df-c13b8bb1-e4d5-494e-9a71-76215a4e7b3f');\n",
              "        const dataTable =\n",
              "          await google.colab.kernel.invokeFunction('convertToInteractive',\n",
              "                                                    [key], {});\n",
              "        if (!dataTable) return;\n",
              "\n",
              "        const docLinkHtml = 'Like what you see? Visit the ' +\n",
              "          '<a target=\"_blank\" href=https://colab.research.google.com/notebooks/data_table.ipynb>data table notebook</a>'\n",
              "          + ' to learn more about interactive tables.';\n",
              "        element.innerHTML = '';\n",
              "        dataTable['output_type'] = 'display_data';\n",
              "        await google.colab.output.renderOutput(dataTable, element);\n",
              "        const docLink = document.createElement('div');\n",
              "        docLink.innerHTML = docLinkHtml;\n",
              "        element.appendChild(docLink);\n",
              "      }\n",
              "    </script>\n",
              "  </div>\n",
              "\n",
              "\n",
              "<div id=\"df-f3be6c3f-bc87-4d4a-be4a-684a31d3bce7\">\n",
              "  <button class=\"colab-df-quickchart\" onclick=\"quickchart('df-f3be6c3f-bc87-4d4a-be4a-684a31d3bce7')\"\n",
              "            title=\"Suggest charts\"\n",
              "            style=\"display:none;\">\n",
              "\n",
              "<svg xmlns=\"http://www.w3.org/2000/svg\" height=\"24px\"viewBox=\"0 0 24 24\"\n",
              "     width=\"24px\">\n",
              "    <g>\n",
              "        <path d=\"M19 3H5c-1.1 0-2 .9-2 2v14c0 1.1.9 2 2 2h14c1.1 0 2-.9 2-2V5c0-1.1-.9-2-2-2zM9 17H7v-7h2v7zm4 0h-2V7h2v10zm4 0h-2v-4h2v4z\"/>\n",
              "    </g>\n",
              "</svg>\n",
              "  </button>\n",
              "\n",
              "<style>\n",
              "  .colab-df-quickchart {\n",
              "      --bg-color: #E8F0FE;\n",
              "      --fill-color: #1967D2;\n",
              "      --hover-bg-color: #E2EBFA;\n",
              "      --hover-fill-color: #174EA6;\n",
              "      --disabled-fill-color: #AAA;\n",
              "      --disabled-bg-color: #DDD;\n",
              "  }\n",
              "\n",
              "  [theme=dark] .colab-df-quickchart {\n",
              "      --bg-color: #3B4455;\n",
              "      --fill-color: #D2E3FC;\n",
              "      --hover-bg-color: #434B5C;\n",
              "      --hover-fill-color: #FFFFFF;\n",
              "      --disabled-bg-color: #3B4455;\n",
              "      --disabled-fill-color: #666;\n",
              "  }\n",
              "\n",
              "  .colab-df-quickchart {\n",
              "    background-color: var(--bg-color);\n",
              "    border: none;\n",
              "    border-radius: 50%;\n",
              "    cursor: pointer;\n",
              "    display: none;\n",
              "    fill: var(--fill-color);\n",
              "    height: 32px;\n",
              "    padding: 0;\n",
              "    width: 32px;\n",
              "  }\n",
              "\n",
              "  .colab-df-quickchart:hover {\n",
              "    background-color: var(--hover-bg-color);\n",
              "    box-shadow: 0 1px 2px rgba(60, 64, 67, 0.3), 0 1px 3px 1px rgba(60, 64, 67, 0.15);\n",
              "    fill: var(--button-hover-fill-color);\n",
              "  }\n",
              "\n",
              "  .colab-df-quickchart-complete:disabled,\n",
              "  .colab-df-quickchart-complete:disabled:hover {\n",
              "    background-color: var(--disabled-bg-color);\n",
              "    fill: var(--disabled-fill-color);\n",
              "    box-shadow: none;\n",
              "  }\n",
              "\n",
              "  .colab-df-spinner {\n",
              "    border: 2px solid var(--fill-color);\n",
              "    border-color: transparent;\n",
              "    border-bottom-color: var(--fill-color);\n",
              "    animation:\n",
              "      spin 1s steps(1) infinite;\n",
              "  }\n",
              "\n",
              "  @keyframes spin {\n",
              "    0% {\n",
              "      border-color: transparent;\n",
              "      border-bottom-color: var(--fill-color);\n",
              "      border-left-color: var(--fill-color);\n",
              "    }\n",
              "    20% {\n",
              "      border-color: transparent;\n",
              "      border-left-color: var(--fill-color);\n",
              "      border-top-color: var(--fill-color);\n",
              "    }\n",
              "    30% {\n",
              "      border-color: transparent;\n",
              "      border-left-color: var(--fill-color);\n",
              "      border-top-color: var(--fill-color);\n",
              "      border-right-color: var(--fill-color);\n",
              "    }\n",
              "    40% {\n",
              "      border-color: transparent;\n",
              "      border-right-color: var(--fill-color);\n",
              "      border-top-color: var(--fill-color);\n",
              "    }\n",
              "    60% {\n",
              "      border-color: transparent;\n",
              "      border-right-color: var(--fill-color);\n",
              "    }\n",
              "    80% {\n",
              "      border-color: transparent;\n",
              "      border-right-color: var(--fill-color);\n",
              "      border-bottom-color: var(--fill-color);\n",
              "    }\n",
              "    90% {\n",
              "      border-color: transparent;\n",
              "      border-bottom-color: var(--fill-color);\n",
              "    }\n",
              "  }\n",
              "</style>\n",
              "\n",
              "  <script>\n",
              "    async function quickchart(key) {\n",
              "      const quickchartButtonEl =\n",
              "        document.querySelector('#' + key + ' button');\n",
              "      quickchartButtonEl.disabled = true;  // To prevent multiple clicks.\n",
              "      quickchartButtonEl.classList.add('colab-df-spinner');\n",
              "      try {\n",
              "        const charts = await google.colab.kernel.invokeFunction(\n",
              "            'suggestCharts', [key], {});\n",
              "      } catch (error) {\n",
              "        console.error('Error during call to suggestCharts:', error);\n",
              "      }\n",
              "      quickchartButtonEl.classList.remove('colab-df-spinner');\n",
              "      quickchartButtonEl.classList.add('colab-df-quickchart-complete');\n",
              "    }\n",
              "    (() => {\n",
              "      let quickchartButtonEl =\n",
              "        document.querySelector('#df-f3be6c3f-bc87-4d4a-be4a-684a31d3bce7 button');\n",
              "      quickchartButtonEl.style.display =\n",
              "        google.colab.kernel.accessAllowed ? 'block' : 'none';\n",
              "    })();\n",
              "  </script>\n",
              "</div>\n",
              "    </div>\n",
              "  </div>\n"
            ],
            "text/plain": [
              "         Unnamed: 0  Movie_ID  User_ID  Rating        Date Day_of_Week\n",
              "559140     25815715      4801     8055       3  2004-05-17      Monday\n",
              "1014218    78403547     14240    43185       4  2005-01-06    Thursday\n",
              "1204689    46789536      8387    43489       5  2005-03-08     Tuesday\n",
              "1121051    62303503     11314    40031       3  2005-02-09   Wednesday\n",
              "842579     22647238      4290    54870       1  2004-10-26     Tuesday"
            ]
          },
          "metadata": {},
          "output_type": "display_data"
        },
        {
          "data": {
            "text/html": [
              "\n",
              "  <div id=\"df-03d3a0ed-e819-4d86-aaad-875d2cef8d63\" class=\"colab-df-container\">\n",
              "    <div>\n",
              "<style scoped>\n",
              "    .dataframe tbody tr th:only-of-type {\n",
              "        vertical-align: middle;\n",
              "    }\n",
              "\n",
              "    .dataframe tbody tr th {\n",
              "        vertical-align: top;\n",
              "    }\n",
              "\n",
              "    .dataframe thead th {\n",
              "        text-align: right;\n",
              "    }\n",
              "</style>\n",
              "<table border=\"1\" class=\"dataframe\">\n",
              "  <thead>\n",
              "    <tr style=\"text-align: right;\">\n",
              "      <th></th>\n",
              "      <th>Unnamed: 0</th>\n",
              "      <th>Movie_ID</th>\n",
              "      <th>User_ID</th>\n",
              "      <th>Rating</th>\n",
              "      <th>Date</th>\n",
              "      <th>Day_of_Week</th>\n",
              "    </tr>\n",
              "  </thead>\n",
              "  <tbody>\n",
              "    <tr>\n",
              "      <th>1105764</th>\n",
              "      <td>84941554</td>\n",
              "      <td>15110</td>\n",
              "      <td>5308</td>\n",
              "      <td>4</td>\n",
              "      <td>2005-02-03</td>\n",
              "      <td>Thursday</td>\n",
              "    </tr>\n",
              "    <tr>\n",
              "      <th>1327990</th>\n",
              "      <td>4284286</td>\n",
              "      <td>819</td>\n",
              "      <td>13197</td>\n",
              "      <td>3</td>\n",
              "      <td>2005-04-19</td>\n",
              "      <td>Tuesday</td>\n",
              "    </tr>\n",
              "    <tr>\n",
              "      <th>321927</th>\n",
              "      <td>63299672</td>\n",
              "      <td>11521</td>\n",
              "      <td>42870</td>\n",
              "      <td>5</td>\n",
              "      <td>2003-11-23</td>\n",
              "      <td>Sunday</td>\n",
              "    </tr>\n",
              "    <tr>\n",
              "      <th>1001556</th>\n",
              "      <td>87450237</td>\n",
              "      <td>15532</td>\n",
              "      <td>4171</td>\n",
              "      <td>4</td>\n",
              "      <td>2005-01-02</td>\n",
              "      <td>Sunday</td>\n",
              "    </tr>\n",
              "    <tr>\n",
              "      <th>381509</th>\n",
              "      <td>24964285</td>\n",
              "      <td>4660</td>\n",
              "      <td>11393</td>\n",
              "      <td>2</td>\n",
              "      <td>2004-01-20</td>\n",
              "      <td>Tuesday</td>\n",
              "    </tr>\n",
              "  </tbody>\n",
              "</table>\n",
              "</div>\n",
              "    <div class=\"colab-df-buttons\">\n",
              "\n",
              "  <div class=\"colab-df-container\">\n",
              "    <button class=\"colab-df-convert\" onclick=\"convertToInteractive('df-03d3a0ed-e819-4d86-aaad-875d2cef8d63')\"\n",
              "            title=\"Convert this dataframe to an interactive table.\"\n",
              "            style=\"display:none;\">\n",
              "\n",
              "  <svg xmlns=\"http://www.w3.org/2000/svg\" height=\"24px\" viewBox=\"0 -960 960 960\">\n",
              "    <path d=\"M120-120v-720h720v720H120Zm60-500h600v-160H180v160Zm220 220h160v-160H400v160Zm0 220h160v-160H400v160ZM180-400h160v-160H180v160Zm440 0h160v-160H620v160ZM180-180h160v-160H180v160Zm440 0h160v-160H620v160Z\"/>\n",
              "  </svg>\n",
              "    </button>\n",
              "\n",
              "  <style>\n",
              "    .colab-df-container {\n",
              "      display:flex;\n",
              "      gap: 12px;\n",
              "    }\n",
              "\n",
              "    .colab-df-convert {\n",
              "      background-color: #E8F0FE;\n",
              "      border: none;\n",
              "      border-radius: 50%;\n",
              "      cursor: pointer;\n",
              "      display: none;\n",
              "      fill: #1967D2;\n",
              "      height: 32px;\n",
              "      padding: 0 0 0 0;\n",
              "      width: 32px;\n",
              "    }\n",
              "\n",
              "    .colab-df-convert:hover {\n",
              "      background-color: #E2EBFA;\n",
              "      box-shadow: 0px 1px 2px rgba(60, 64, 67, 0.3), 0px 1px 3px 1px rgba(60, 64, 67, 0.15);\n",
              "      fill: #174EA6;\n",
              "    }\n",
              "\n",
              "    .colab-df-buttons div {\n",
              "      margin-bottom: 4px;\n",
              "    }\n",
              "\n",
              "    [theme=dark] .colab-df-convert {\n",
              "      background-color: #3B4455;\n",
              "      fill: #D2E3FC;\n",
              "    }\n",
              "\n",
              "    [theme=dark] .colab-df-convert:hover {\n",
              "      background-color: #434B5C;\n",
              "      box-shadow: 0px 1px 3px 1px rgba(0, 0, 0, 0.15);\n",
              "      filter: drop-shadow(0px 1px 2px rgba(0, 0, 0, 0.3));\n",
              "      fill: #FFFFFF;\n",
              "    }\n",
              "  </style>\n",
              "\n",
              "    <script>\n",
              "      const buttonEl =\n",
              "        document.querySelector('#df-03d3a0ed-e819-4d86-aaad-875d2cef8d63 button.colab-df-convert');\n",
              "      buttonEl.style.display =\n",
              "        google.colab.kernel.accessAllowed ? 'block' : 'none';\n",
              "\n",
              "      async function convertToInteractive(key) {\n",
              "        const element = document.querySelector('#df-03d3a0ed-e819-4d86-aaad-875d2cef8d63');\n",
              "        const dataTable =\n",
              "          await google.colab.kernel.invokeFunction('convertToInteractive',\n",
              "                                                    [key], {});\n",
              "        if (!dataTable) return;\n",
              "\n",
              "        const docLinkHtml = 'Like what you see? Visit the ' +\n",
              "          '<a target=\"_blank\" href=https://colab.research.google.com/notebooks/data_table.ipynb>data table notebook</a>'\n",
              "          + ' to learn more about interactive tables.';\n",
              "        element.innerHTML = '';\n",
              "        dataTable['output_type'] = 'display_data';\n",
              "        await google.colab.output.renderOutput(dataTable, element);\n",
              "        const docLink = document.createElement('div');\n",
              "        docLink.innerHTML = docLinkHtml;\n",
              "        element.appendChild(docLink);\n",
              "      }\n",
              "    </script>\n",
              "  </div>\n",
              "\n",
              "\n",
              "<div id=\"df-59b6067c-645f-4c48-9edd-5a9b34c0d1bb\">\n",
              "  <button class=\"colab-df-quickchart\" onclick=\"quickchart('df-59b6067c-645f-4c48-9edd-5a9b34c0d1bb')\"\n",
              "            title=\"Suggest charts\"\n",
              "            style=\"display:none;\">\n",
              "\n",
              "<svg xmlns=\"http://www.w3.org/2000/svg\" height=\"24px\"viewBox=\"0 0 24 24\"\n",
              "     width=\"24px\">\n",
              "    <g>\n",
              "        <path d=\"M19 3H5c-1.1 0-2 .9-2 2v14c0 1.1.9 2 2 2h14c1.1 0 2-.9 2-2V5c0-1.1-.9-2-2-2zM9 17H7v-7h2v7zm4 0h-2V7h2v10zm4 0h-2v-4h2v4z\"/>\n",
              "    </g>\n",
              "</svg>\n",
              "  </button>\n",
              "\n",
              "<style>\n",
              "  .colab-df-quickchart {\n",
              "      --bg-color: #E8F0FE;\n",
              "      --fill-color: #1967D2;\n",
              "      --hover-bg-color: #E2EBFA;\n",
              "      --hover-fill-color: #174EA6;\n",
              "      --disabled-fill-color: #AAA;\n",
              "      --disabled-bg-color: #DDD;\n",
              "  }\n",
              "\n",
              "  [theme=dark] .colab-df-quickchart {\n",
              "      --bg-color: #3B4455;\n",
              "      --fill-color: #D2E3FC;\n",
              "      --hover-bg-color: #434B5C;\n",
              "      --hover-fill-color: #FFFFFF;\n",
              "      --disabled-bg-color: #3B4455;\n",
              "      --disabled-fill-color: #666;\n",
              "  }\n",
              "\n",
              "  .colab-df-quickchart {\n",
              "    background-color: var(--bg-color);\n",
              "    border: none;\n",
              "    border-radius: 50%;\n",
              "    cursor: pointer;\n",
              "    display: none;\n",
              "    fill: var(--fill-color);\n",
              "    height: 32px;\n",
              "    padding: 0;\n",
              "    width: 32px;\n",
              "  }\n",
              "\n",
              "  .colab-df-quickchart:hover {\n",
              "    background-color: var(--hover-bg-color);\n",
              "    box-shadow: 0 1px 2px rgba(60, 64, 67, 0.3), 0 1px 3px 1px rgba(60, 64, 67, 0.15);\n",
              "    fill: var(--button-hover-fill-color);\n",
              "  }\n",
              "\n",
              "  .colab-df-quickchart-complete:disabled,\n",
              "  .colab-df-quickchart-complete:disabled:hover {\n",
              "    background-color: var(--disabled-bg-color);\n",
              "    fill: var(--disabled-fill-color);\n",
              "    box-shadow: none;\n",
              "  }\n",
              "\n",
              "  .colab-df-spinner {\n",
              "    border: 2px solid var(--fill-color);\n",
              "    border-color: transparent;\n",
              "    border-bottom-color: var(--fill-color);\n",
              "    animation:\n",
              "      spin 1s steps(1) infinite;\n",
              "  }\n",
              "\n",
              "  @keyframes spin {\n",
              "    0% {\n",
              "      border-color: transparent;\n",
              "      border-bottom-color: var(--fill-color);\n",
              "      border-left-color: var(--fill-color);\n",
              "    }\n",
              "    20% {\n",
              "      border-color: transparent;\n",
              "      border-left-color: var(--fill-color);\n",
              "      border-top-color: var(--fill-color);\n",
              "    }\n",
              "    30% {\n",
              "      border-color: transparent;\n",
              "      border-left-color: var(--fill-color);\n",
              "      border-top-color: var(--fill-color);\n",
              "      border-right-color: var(--fill-color);\n",
              "    }\n",
              "    40% {\n",
              "      border-color: transparent;\n",
              "      border-right-color: var(--fill-color);\n",
              "      border-top-color: var(--fill-color);\n",
              "    }\n",
              "    60% {\n",
              "      border-color: transparent;\n",
              "      border-right-color: var(--fill-color);\n",
              "    }\n",
              "    80% {\n",
              "      border-color: transparent;\n",
              "      border-right-color: var(--fill-color);\n",
              "      border-bottom-color: var(--fill-color);\n",
              "    }\n",
              "    90% {\n",
              "      border-color: transparent;\n",
              "      border-bottom-color: var(--fill-color);\n",
              "    }\n",
              "  }\n",
              "</style>\n",
              "\n",
              "  <script>\n",
              "    async function quickchart(key) {\n",
              "      const quickchartButtonEl =\n",
              "        document.querySelector('#' + key + ' button');\n",
              "      quickchartButtonEl.disabled = true;  // To prevent multiple clicks.\n",
              "      quickchartButtonEl.classList.add('colab-df-spinner');\n",
              "      try {\n",
              "        const charts = await google.colab.kernel.invokeFunction(\n",
              "            'suggestCharts', [key], {});\n",
              "      } catch (error) {\n",
              "        console.error('Error during call to suggestCharts:', error);\n",
              "      }\n",
              "      quickchartButtonEl.classList.remove('colab-df-spinner');\n",
              "      quickchartButtonEl.classList.add('colab-df-quickchart-complete');\n",
              "    }\n",
              "    (() => {\n",
              "      let quickchartButtonEl =\n",
              "        document.querySelector('#df-59b6067c-645f-4c48-9edd-5a9b34c0d1bb button');\n",
              "      quickchartButtonEl.style.display =\n",
              "        google.colab.kernel.accessAllowed ? 'block' : 'none';\n",
              "    })();\n",
              "  </script>\n",
              "</div>\n",
              "    </div>\n",
              "  </div>\n"
            ],
            "text/plain": [
              "         Unnamed: 0  Movie_ID  User_ID  Rating        Date Day_of_Week\n",
              "1105764    84941554     15110     5308       4  2005-02-03    Thursday\n",
              "1327990     4284286       819    13197       3  2005-04-19     Tuesday\n",
              "321927     63299672     11521    42870       5  2003-11-23      Sunday\n",
              "1001556    87450237     15532     4171       4  2005-01-02      Sunday\n",
              "381509     24964285      4660    11393       2  2004-01-20     Tuesday"
            ]
          },
          "metadata": {},
          "output_type": "display_data"
        }
      ],
      "source": [
        "train_data, test_data = train_test_split(df, test_size=0.2, random_state=42)\n",
        "\n",
        "display(train_data.head())\n",
        "display(test_data.head())"
      ]
    },
    {
      "cell_type": "markdown",
      "id": "b53abc6e",
      "metadata": {
        "id": "b53abc6e"
      },
      "source": [
        "## 6. Creating User-Item Ratings Matrix"
      ]
    },
    {
      "cell_type": "code",
      "execution_count": null,
      "id": "2308f2ae",
      "metadata": {
        "id": "2308f2ae"
      },
      "outputs": [],
      "source": [
        "user_to_index = {user_id: index for index, user_id in enumerate(np.unique(df['User_ID']))}\n",
        "movie_to_index = {item_id: index for index, item_id in enumerate(np.unique(df['Movie_ID']))}\n",
        "\n",
        "user_indices = np.vectorize(user_to_index.get)(df['User_ID'])\n",
        "movie_indices = np.vectorize(movie_to_index.get)(df['Movie_ID'])\n",
        "\n",
        "sparse_matrix = sparse.coo_matrix((df['Rating'], (user_indices, movie_indices)))\n",
        "\n",
        "sparse_matrix_csr = sparse_matrix.tocsr()"
      ]
    },
    {
      "cell_type": "markdown",
      "id": "fe588300",
      "metadata": {
        "id": "fe588300"
      },
      "source": [
        "### Creating Sparse Matrices for Train set and Test set"
      ]
    },
    {
      "cell_type": "code",
      "execution_count": null,
      "id": "106c2128",
      "metadata": {
        "colab": {
          "base_uri": "https://localhost:8080/"
        },
        "id": "106c2128",
        "outputId": "9184b1a0-6d7a-4aaf-bf27-6b722559ac5f"
      },
      "outputs": [
        {
          "name": "stdout",
          "output_type": "stream",
          "text": [
            "Sparsity Of Train matrix : 99.82954965837428 % \n",
            "Sparsity Of Test matrix : 99.95738738919802 % \n"
          ]
        }
      ],
      "source": [
        "train_sparse_matrix = sparse.csr_matrix((train_data.Rating.values, (train_data.User_ID.values, train_data.Movie_ID.values)),)\n",
        "test_sparse_matrix = sparse.csr_matrix((test_data.Rating.values, (test_data.User_ID.values, test_data.Movie_ID.values)),)\n",
        "\n",
        "us,mv = train_sparse_matrix.shape\n",
        "elem = train_sparse_matrix.count_nonzero()\n",
        "print(\"Sparsity Of Train matrix : {} % \".format(  (1-(elem/(us*mv))) * 100) )\n",
        "\n",
        "us,mv = test_sparse_matrix.shape\n",
        "elem = test_sparse_matrix.count_nonzero()\n",
        "print(\"Sparsity Of Test matrix : {} % \".format(  (1-(elem/(us*mv))) * 100) )"
      ]
    },
    {
      "cell_type": "markdown",
      "id": "2a29f881",
      "metadata": {
        "id": "2a29f881"
      },
      "source": [
        "# 7. Singular Value Decomposition (SVD)"
      ]
    },
    {
      "cell_type": "markdown",
      "id": "yNWTLGML_Ep4",
      "metadata": {
        "id": "yNWTLGML_Ep4"
      },
      "source": [
        "Singular Value Decomposition (SVD) is a matrix factorization technique used in collaborative filtering, that discovers the latent factors by identifying patters in the user-item interactions. It decomposes the original user-item ratings matrix into three matrices: $A = UΣV^T$\n",
        "\n",
        "$A_{mxn}:$ The original user-item ratings matrix.<br>\n",
        "$U_{mxk}:$ The left singular vectors matrix. $U$ represents latent factors for user, which capture underlying characteristics or preferences of users. Each row of $U$ corresponds to a user, and the values in that row indicate how much the user aligns with each latent factor.<br>\n",
        "$Σ_{kxk}:$ The diagonal matrix containing the singular values, which represent the importance of each latent factor.<br>\n",
        "$V_{nxk}:$ The right singular vectors matrix. The columns of $V^T$ represent latent factors for the items. Each row of $V^T$ corresponds to an item and the values in that row indicate how much the item exhibits each latent factor.\n",
        "\n",
        "We used SVD from the surprise library, because it provides tools for hyperparameter tuning. Specifically, we tuned four hyperparameters, one at a time, in order to observe the effect of each hyperparameter in the Mean Squared Error. The hyperparameters we tuned are:\n",
        "\n",
        "**n_factors:** The number of latent factors. Increasing the number of latent factors allows the model to capture more complex patters in the data, at the expense of computational cost.<br>\n",
        "**n_epochs:** The number of iterations the SVD algorithm will perform on the training dataset.<br>\n",
        "**lr_all:** The learning rate of all parameters in the model. It determines how much the parameters of the model are updated in each iteration.<br>\n",
        "**reg_all:** The regularization term for all parameters in the model. Regularization is a technique used to prevent overfitting by penalizing large values of the model's parameters."
      ]
    },
    {
      "cell_type": "code",
      "execution_count": null,
      "id": "GT_OJvI-4hiU",
      "metadata": {
        "colab": {
          "base_uri": "https://localhost:8080/"
        },
        "id": "GT_OJvI-4hiU",
        "outputId": "cc33e818-3725-47e1-d983-cda9e8f9186c"
      },
      "outputs": [
        {
          "name": "stdout",
          "output_type": "stream",
          "text": [
            "Collecting surprise\n",
            "  Downloading surprise-0.1-py2.py3-none-any.whl (1.8 kB)\n",
            "Collecting scikit-surprise (from surprise)\n",
            "  Downloading scikit-surprise-1.1.3.tar.gz (771 kB)\n",
            "\u001b[2K     \u001b[90m━━━━━━━━━━━━━━━━━━━━━━━━━━━━━━━━━━━━━━━━\u001b[0m \u001b[32m772.0/772.0 kB\u001b[0m \u001b[31m7.3 MB/s\u001b[0m eta \u001b[36m0:00:00\u001b[0m\n",
            "\u001b[?25h  Preparing metadata (setup.py) ... \u001b[?25l\u001b[?25hdone\n",
            "Requirement already satisfied: joblib>=1.0.0 in /usr/local/lib/python3.10/dist-packages (from scikit-surprise->surprise) (1.3.2)\n",
            "Requirement already satisfied: numpy>=1.17.3 in /usr/local/lib/python3.10/dist-packages (from scikit-surprise->surprise) (1.23.5)\n",
            "Requirement already satisfied: scipy>=1.3.2 in /usr/local/lib/python3.10/dist-packages (from scikit-surprise->surprise) (1.11.4)\n",
            "Building wheels for collected packages: scikit-surprise\n",
            "  Building wheel for scikit-surprise (setup.py) ... \u001b[?25l\u001b[?25hdone\n",
            "  Created wheel for scikit-surprise: filename=scikit_surprise-1.1.3-cp310-cp310-linux_x86_64.whl size=3162672 sha256=c2b9b75127a6b09fa47d8ae18d0b21d81beffa4cfd9d383fad918837f33e1c08\n",
            "  Stored in directory: /root/.cache/pip/wheels/a5/ca/a8/4e28def53797fdc4363ca4af740db15a9c2f1595ebc51fb445\n",
            "Successfully built scikit-surprise\n",
            "Installing collected packages: scikit-surprise, surprise\n",
            "Successfully installed scikit-surprise-1.1.3 surprise-0.1\n"
          ]
        }
      ],
      "source": [
        "!pip install surprise"
      ]
    },
    {
      "cell_type": "code",
      "execution_count": null,
      "id": "94923dda",
      "metadata": {
        "colab": {
          "base_uri": "https://localhost:8080/"
        },
        "id": "94923dda",
        "outputId": "9c434fe5-ec34-4e0c-e366-ee3da7b13038"
      },
      "outputs": [
        {
          "name": "stdout",
          "output_type": "stream",
          "text": [
            "Total Execution Time of SVD: 17.040 minutes\n"
          ]
        }
      ],
      "source": [
        "from surprise import Reader, Dataset, SVD, accuracy\n",
        "from surprise.model_selection import train_test_split\n",
        "from contextlib import redirect_stdout\n",
        "\n",
        "updated_df = df.drop(columns=['Date','Day_of_Week','Unnamed: 0'], axis=1)\n",
        "updated_df = updated_df[['User_ID', 'Movie_ID', 'Rating']]\n",
        "\n",
        "reader = Reader(rating_scale=(1,5))\n",
        "data = Dataset.load_from_df(updated_df, reader)\n",
        "training_set, test_set = train_test_split(data, test_size=0.2)\n",
        "\n",
        "svd_param_names = ['n_factors','n_epochs','lr_all','reg_all']\n",
        "\n",
        "svd_param_values = [[5, 10, 15, 20, 25], # number of factors\n",
        "          [10, 20, 30, 40, 50], # number of epochs\n",
        "          [0.001, 0.002, 0.005, 0.01, 0.02], # learning rate\n",
        "          [0.01, 0.02, 0.05, 0.1, 0.2]] # regularization parameter\n",
        "\n",
        "svd_train_mse_results = {'n_factors': [], 'n_epochs': [], 'lr_all': [], 'reg_all': []}\n",
        "svd_test_mse_results = {'n_factors': [], 'n_epochs': [], 'lr_all': [], 'reg_all': []}\n",
        "\n",
        "start_time = time.time()\n",
        "for name, params in zip(svd_param_names, svd_param_values):\n",
        "    for param in params:\n",
        "        svd_model = SVD(**{name:param})\n",
        "        svd_model.fit(training_set)\n",
        "\n",
        "        # Using redirect_stdout because accuracy.mse() prints out the MSE\n",
        "        with redirect_stdout(None):\n",
        "            # Training MSE\n",
        "            predictions = svd_model.test(training_set.build_testset())\n",
        "            mse = accuracy.mse(predictions)\n",
        "            svd_train_mse_results[name].append(mse)\n",
        "            # Test MSE\n",
        "            predictions = svd_model.test(test_set)\n",
        "            mse = accuracy.mse(predictions)  # Calculate Mean Squared Error\n",
        "            svd_test_mse_results[name].append(mse)\n",
        "\n",
        "end_time = time.time()\n",
        "elapsed_time = end_time - start_time\n",
        "print(\"Total Execution Time of SVD: {:.3f} minutes\".format(elapsed_time/60))"
      ]
    },
    {
      "cell_type": "code",
      "execution_count": null,
      "id": "f1ab09a0",
      "metadata": {
        "colab": {
          "base_uri": "https://localhost:8080/",
          "height": 911
        },
        "id": "f1ab09a0",
        "outputId": "853cc4cf-c9ef-40b7-9f12-c89cc0f6bb01"
      },
      "outputs": [
        {
          "data": {
            "image/png": "[encoded data removed]",
            "text/plain": [
              "<Figure size 1000x1050 with 4 Axes>"
            ]
          },
          "metadata": {},
          "output_type": "display_data"
        }
      ],
      "source": [
        "fig1, ax1 = plt.subplots(2,2,figsize=(10,10.5))\n",
        "\n",
        "for i in range(2):\n",
        "    for j in range(2):\n",
        "        ax1[i,j].plot(svd_param_values[i*2+j],svd_train_mse_results[svd_param_names[i*2+j]],color='b',marker='s')\n",
        "        ax1[i,j].plot(svd_param_values[i*2+j],svd_test_mse_results[svd_param_names[i*2+j]],color='r',marker='s')\n",
        "        ax1[i,j].set_xlabel(svd_param_names[i*2+j])\n",
        "        ax1[i,j].set_ylabel('MSE')\n",
        "        ax1[i,j].set_title(f'MSE vs {svd_param_names[i*2+j]}')\n",
        "\n",
        "        for x, y in zip(svd_param_values[i * 2 + j], svd_train_mse_results[svd_param_names[i * 2 + j]]):\n",
        "            ax1[i,j].annotate(f'{y:.2f}', (x, y), textcoords=\"offset points\", xytext=(0, 5), ha='center', fontsize=8,\n",
        "                               color='b')\n",
        "\n",
        "        for x, y in zip(svd_param_values[i * 2 + j], svd_test_mse_results[svd_param_names[i * 2 + j]]):\n",
        "            ax1[i,j].annotate(f'{y:.2f}', (x, y), textcoords=\"offset points\", xytext=(0, -15), ha='center', fontsize=8,\n",
        "                               color='r')"
      ]
    },
    {
      "cell_type": "markdown",
      "id": "QQLeYgCg_Lj4",
      "metadata": {
        "id": "QQLeYgCg_Lj4"
      },
      "source": [
        "**Note:** We observe that the training MSE declines for every hyperparameter except for the regularization hyperparameter, for which it increases. The test MSE reaches the best value at 0.76 . So now, we will combine the hyperparameter values that result in the best test MSE, and train a new SVD model, to check if we can reduce the test MSE."
      ]
    },
    {
      "cell_type": "code",
      "execution_count": null,
      "id": "xT-CBlcp_Nkl",
      "metadata": {
        "colab": {
          "base_uri": "https://localhost:8080/"
        },
        "id": "xT-CBlcp_Nkl",
        "outputId": "a77c87af-2480-4096-80e7-ea0a7f0c8c22"
      },
      "outputs": [
        {
          "name": "stdout",
          "output_type": "stream",
          "text": [
            "MSE: 0.7558\n"
          ]
        }
      ],
      "source": [
        "svd_model_1 = SVD(n_factors=25,n_epochs=20,lr_all=0.005,reg_all=0.02)\n",
        "svd_model_1.fit(training_set)\n",
        "predictions = svd_model_1.test(test_set)\n",
        "mse = accuracy.mse(predictions)"
      ]
    },
    {
      "cell_type": "markdown",
      "id": "jrSvxTXM_P88",
      "metadata": {
        "id": "jrSvxTXM_P88"
      },
      "source": [
        "**Conclusion:** The test MSE improved to a new best value at 0.7558."
      ]
    },
    {
      "cell_type": "markdown",
      "id": "b03a8d61",
      "metadata": {
        "id": "b03a8d61"
      },
      "source": [
        "# 8. Non-Negative Matrix Factorization (NMF)"
      ]
    },
    {
      "cell_type": "markdown",
      "id": "ie03eZwT_w-O",
      "metadata": {
        "id": "ie03eZwT_w-O"
      },
      "source": [
        "Non-Negative Matrix Factorization (NMF) is a group of algorithms in multivariate analysis and linear algebra where a matrix V is decomposed into two matrices: $V = W \\cdot H$\n",
        "\n",
        "$V_{mxn}:$ The original user-item ratings matrix.<br>\n",
        "$W_{mxk}:$ Non-negative matrix representing the user profiles in terms of the latent factors. Users with similar interaction patters have similar values in certain columns.<br>\n",
        "$H_{kxn}:$ Non-negative matrix representing the item profiles in terms of the latent factors. Items that are associated with similar latent factors will have similar values in certain columns in H.\n",
        "\n",
        "We used NMF from the surprise library, because it provides tools for hyperparameter tuning. We tuned four hyperparameters, one at a time, in order to observe the effect of each hyperparameter in the Mean Squared Error. The hyperparamater we tuned are:\n",
        "\n",
        "**n_factors:** The number of latent factors. Increasing the number of latent factors allows the model to capture more complex patterns in the data, at the expense of computational cost.<br>\n",
        "**n_epochs:** The number of iterations the NMF algorithm will perform on the training dataset.<br>\n",
        "**reg_pu:** Parameter that controls the regularization strength applied to the user factors.<br>\n",
        "**reg_qi:** Parameter that controls the regularization strength applied to the item factors.<br>"
      ]
    },
    {
      "cell_type": "code",
      "execution_count": null,
      "id": "aa969bb9",
      "metadata": {
        "colab": {
          "base_uri": "https://localhost:8080/"
        },
        "id": "aa969bb9",
        "outputId": "7b7bada4-dc6c-42f4-e762-7312a38afb59"
      },
      "outputs": [
        {
          "name": "stdout",
          "output_type": "stream",
          "text": [
            "Total Execution Time of NMF: 20.349 minutes\n"
          ]
        }
      ],
      "source": [
        "from surprise import Reader, Dataset, NMF, accuracy\n",
        "from surprise.model_selection import train_test_split\n",
        "from contextlib import redirect_stdout\n",
        "\n",
        "updated_df = df.drop(columns=['Date','Day_of_Week'], axis=1)\n",
        "updated_df = updated_df[['User_ID', 'Movie_ID', 'Rating']]\n",
        "\n",
        "reader = Reader(rating_scale=(1,5))\n",
        "data = Dataset.load_from_df(updated_df, reader)\n",
        "training_set, test_set = train_test_split(data, test_size=0.2)\n",
        "\n",
        "nmf_param_names = ['n_factors','n_epochs','reg_pu','reg_qi']\n",
        "\n",
        "nmf_param_values = [[5, 10, 15, 20, 25], # number of factors\n",
        "          [10, 20, 30, 40, 50], # number of epochs\n",
        "          [0.001, 0.002, 0.005, 0.01, 0.02], # regularization term for user factors\n",
        "          [0.001, 0.002, 0.005, 0.01, 0.02]] # regularization term for item factors\n",
        "\n",
        "nmf_train_mse_results = {'n_factors': [], 'n_epochs': [], 'reg_pu': [], 'reg_qi': []}\n",
        "nmf_test_mse_results = {'n_factors': [], 'n_epochs': [], 'reg_pu': [], 'reg_qi': []}\n",
        "\n",
        "start_time = time.time()\n",
        "for name, params in zip(nmf_param_names, nmf_param_values):\n",
        "    for param in params:\n",
        "        nmf_model = NMF(**{name:param})\n",
        "        nmf_model.fit(training_set)\n",
        "        with redirect_stdout(None):\n",
        "            # Training MSE\n",
        "            predictions = nmf_model.test(training_set.build_testset())\n",
        "            mse = accuracy.mse(predictions)\n",
        "            nmf_train_mse_results[name].append(mse)\n",
        "            # Test MSE\n",
        "            predictions = nmf_model.test(test_set)\n",
        "            mse = accuracy.mse(predictions)  # Calculate Mean Squared Error\n",
        "            nmf_test_mse_results[name].append(mse)\n",
        "\n",
        "end_time = time.time()\n",
        "elapsed_time = end_time - start_time\n",
        "print(\"Total Execution Time of NMF: {:.3f} minutes\".format(elapsed_time/60))"
      ]
    },
    {
      "cell_type": "code",
      "execution_count": null,
      "id": "4f8af173",
      "metadata": {
        "colab": {
          "base_uri": "https://localhost:8080/",
          "height": 911
        },
        "id": "4f8af173",
        "outputId": "9cb559f7-d356-46e4-a44a-1dead03b09e6"
      },
      "outputs": [
        {
          "data": {
            "image/png": "[encoded data removed]",
            "text/plain": [
              "<Figure size 1000x1050 with 4 Axes>"
            ]
          },
          "metadata": {},
          "output_type": "display_data"
        }
      ],
      "source": [
        "fig2, ax2 = plt.subplots(2,2,figsize=(10,10.5))\n",
        "\n",
        "for i in range(2):\n",
        "    for j in range(2):\n",
        "        ax2[i,j].plot(nmf_param_values[i*2+j],nmf_train_mse_results[nmf_param_names[i*2+j]],color='b',marker='s')\n",
        "        ax2[i,j].plot(nmf_param_values[i*2+j],nmf_test_mse_results[nmf_param_names[i*2+j]],color='r',marker='s')\n",
        "        ax2[i,j].set_xlabel(nmf_param_names[i*2+j])\n",
        "        ax2[i,j].set_ylabel('MSE')\n",
        "        ax2[i,j].set_title(f'MSE vs {nmf_param_names[i*2+j]}')\n",
        "\n",
        "        for x, y in zip(nmf_param_values[i * 2 + j], nmf_train_mse_results[nmf_param_names[i * 2 + j]]):\n",
        "            ax2[i,j].annotate(f'{y:.2f}', (x, y), textcoords=\"offset points\", xytext=(0, 5), ha='center', fontsize=8,\n",
        "                               color='b')\n",
        "\n",
        "        for x, y in zip(nmf_param_values[i * 2 + j], nmf_test_mse_results[nmf_param_names[i * 2 + j]]):\n",
        "            ax2[i,j].annotate(f'{y:.2f}', (x, y), textcoords=\"offset points\", xytext=(0, -15), ha='center', fontsize=8,\n",
        "                               color='r')"
      ]
    },
    {
      "cell_type": "markdown",
      "id": "tFooycoL_34-",
      "metadata": {
        "id": "tFooycoL_34-"
      },
      "source": [
        "**Note:** We observe that the training MSE declines for every hyperparameter. The test MSE reaches the best value at 0.87 . So now, we will combine the hyperparameter values that result in the best test MSE, and train a new NMF model, to check if we can reduce the test MSE."
      ]
    },
    {
      "cell_type": "code",
      "execution_count": null,
      "id": "Waqw6Iit_7TR",
      "metadata": {
        "colab": {
          "base_uri": "https://localhost:8080/"
        },
        "id": "Waqw6Iit_7TR",
        "outputId": "4112da1d-3b8f-41dd-9846-210a52567956"
      },
      "outputs": [
        {
          "name": "stdout",
          "output_type": "stream",
          "text": [
            "MSE: 0.9190\n"
          ]
        }
      ],
      "source": [
        "nmf_model_1 = NMF(n_factors=15,n_epochs=50,reg_pu=0.02,reg_qi=0.02)\n",
        "nmf_model_1.fit(training_set)\n",
        "predictions = nmf_model_1.test(test_set)\n",
        "mse = accuracy.mse(predictions)"
      ]
    },
    {
      "cell_type": "markdown",
      "id": "ZcPoS652_-a8",
      "metadata": {
        "id": "ZcPoS652_-a8"
      },
      "source": [
        "**Conclusion:** Combining the best hyperparameter values in a new NMF model, didn't result in the MSE's reduction."
      ]
    },
    {
      "cell_type": "markdown",
      "id": "246e4616",
      "metadata": {
        "id": "246e4616"
      },
      "source": [
        "# 9. Stochastic Gradient Descent (SGD)\n",
        "\n",
        "We initializes random latent factor matrices for users (U) and items (V) and we perform SGD updates for the specified number of iterations. Then we evaluate using mean squared error.\n",
        "\n",
        "This is the general implementation:"
      ]
    },
    {
      "cell_type": "code",
      "execution_count": null,
      "id": "8fdf71ef",
      "metadata": {
        "id": "8fdf71ef",
        "outputId": "d10d30da-e5ba-4e19-a48d-4fa5164946ce"
      },
      "outputs": [
        {
          "name": "stdout",
          "output_type": "stream",
          "text": [
            "SGD Mean Squared Error: 1.6802482575424218\n"
          ]
        }
      ],
      "source": [
        "import numpy as np\n",
        "from sklearn.metrics import mean_squared_error\n",
        "\n",
        "# Parameters/Hyperparameters\n",
        "num_users = len(user_to_index)\n",
        "num_items = len(movie_to_index)\n",
        "num_latent_factors = 10\n",
        "learning_rate = 0.1\n",
        "lambda_reg = 0.01\n",
        "num_iterations = 200\n",
        "\n",
        "sparse_matrix_csr_float = sparse.csr_matrix(sparse_matrix_csr, dtype=np.float64)\n",
        "\n",
        "# Random initialization of latent factor matrices\n",
        "U = np.random.rand(num_users, num_latent_factors)\n",
        "V = np.random.rand(num_items, num_latent_factors)\n",
        "\n",
        "# Stochastic Gradient Descent algorithm\n",
        "for iteration in range(num_iterations):\n",
        "    # We can shuffle the data indices for each iteration if we want\n",
        "    shuffled_indices = np.random.permutation(len(user_indices))\n",
        "\n",
        "    # Random selection of data points\n",
        "    for idx in shuffled_indices[:num_iterations]:\n",
        "        user_idx = user_indices[idx]\n",
        "        item_idx = movie_indices[idx]\n",
        "        rating = df['Rating'].iloc[idx]\n",
        "\n",
        "        # Calculate error and update latent factors\n",
        "        error = rating - np.dot(U[user_idx], V[item_idx])\n",
        "        U[user_idx] += learning_rate * (error * V[item_idx] - lambda_reg * U[user_idx])\n",
        "        V[item_idx] += learning_rate * (error * U[user_idx] - lambda_reg * V[item_idx])\n",
        "\n",
        "# Making the prediction\n",
        "predicted_matrix_sgd = np.dot(U, V.T)\n",
        "\n",
        "# Evaluating performance using MSE\n",
        "non_zero_indexes = sparse_matrix_csr_float.nonzero()\n",
        "actual_ratings_sgd = sparse_matrix_csr_float[non_zero_indexes].A.flatten()\n",
        "predicted_ratings_sgd = predicted_matrix_sgd[non_zero_indexes].flatten()\n",
        "\n",
        "mse_sgd = mean_squared_error(actual_ratings_sgd, predicted_ratings_sgd)\n",
        "print(f\"SGD Mean Squared Error: {mse_sgd}\")"
      ]
    },
    {
      "cell_type": "markdown",
      "id": "9c503833",
      "metadata": {
        "id": "9c503833"
      },
      "source": [
        "#### Hyperparameter tuning\n",
        "\n",
        "There are several hyperparameters that we use for our algorithm. We run several tests with different combinations of values for these hyperparameters. The following are some indicative results that show the effect that each hyperparameter has on the accuracy of the algorithm:\n",
        "\n",
        "-\n",
        "\n",
        "The **learning rate** determines the step size during parameter updates. Too high of a learning rate can cause the algorithm to converge slowly or even diverge, while too low of a learning rate may result in slow convergence or getting stuck in local minima.\n",
        "\n",
        "| Learning Rate | Mean Squared Error |\n",
        "|:---------|:--------:|\n",
        "|  0.001   |  2.874075394668591   |\n",
        "|  0.01   |  2.7674699165899135  |\n",
        "|  0.1   |  2.1502139073505755   |\n",
        "|  0.2   |  2.655999321942788   |\n",
        "\n",
        "Looking at the table above, we see that a learning rate of 0.1 yields the best results, therefore we choose that.\n",
        "\n",
        "-\n",
        "\n",
        "**Regularization** helps prevent overfitting by penalizing large values in the latent factor matrices. Too much regularization may lead to underfitting, while too little may result in overfitting.\n",
        "\n",
        "| Lambda Regulation | Mean Squared Error |\n",
        "|:---------|:--------:|\n",
        "|  0.01   |  2.129491380447938  |\n",
        "|  0.1   |  2.164994362365267   |\n",
        "|  1.0   |  2.588200920133118   |\n",
        "\n",
        "Here, a lambda_reg value of 0.01 gives us the better result, although the difference between that and the results for the value 0.1 are realtively close.\n",
        "\n",
        "-\n",
        "\n",
        "The number of **latent factors** represents the dimensionality of the feature space for the users and the items. Too few latent factors may lead to underfitting, whereas too many may result in overfitting.\n",
        "\n",
        "| # of Latent Factors | Mean Squared Error |\n",
        "|:---------|:--------:|\n",
        "|  5   |  4.625558863806613  |\n",
        "|  10   |  2.1407417015407475   |\n",
        "|  20   |  2.679450799139848   |\n",
        "\n",
        "We choose to use 10 latent factors as it seems to be the best/most balanced choice.\n",
        "\n",
        "-\n",
        "\n",
        "The number of **iterations** determines how many times the algorithm will loop to try and minimize the error. Too few iterations may result in underfitting and inaccurate results, while too many may lead to overfitting or slow convergence, and of course an increased execution time.\n",
        "\n",
        "| # of Iterations | Mean Squared Error |\n",
        "|:---------|:--------:|\n",
        "|  50   |  2.15074861540788970  |\n",
        "|  100   |  1.7765457910687599   |\n",
        "|  200   |  1.7162475745958714   |\n",
        "\n",
        "Finally, 200 iterations seemed like a good enough number. The rate that the performance increases after ~100 iterations drops pretty rapidly, so going that mark is not very efficient. Still, at 200, we have an acceptable execution time and decent performance.\n",
        "\n"
      ]
    },
    {
      "cell_type": "markdown",
      "id": "b2c29aee",
      "metadata": {
        "id": "b2c29aee"
      },
      "source": [
        "# 10. K Nearest Neighbors (KNN)\n",
        "\n",
        "We train the model using our training set, and then for each user-item pair in the test set we find the average rating of it's nearest neighbors, which in the end is our prediction. This is very computationally expensive. That is why we choose to use the \"kd_tree\" algorithm. KD-trees are more efficient than brute-force search algorithms, especially for large datasets."
      ]
    },
    {
      "cell_type": "code",
      "execution_count": null,
      "id": "3d8e9e6b",
      "metadata": {
        "id": "3d8e9e6b",
        "outputId": "20969d07-0479-4471-f7d9-963c99d8ffc4"
      },
      "outputs": [
        {
          "name": "stdout",
          "output_type": "stream",
          "text": [
            "KNN Mean Squared Error: 1.1706721087375886\n"
          ]
        }
      ],
      "source": [
        "from sklearn.neighbors import NearestNeighbors\n",
        "from sklearn.neighbors import KDTree\n",
        "from sklearn.model_selection import train_test_split\n",
        "\n",
        "train_df, test_df = train_test_split(df, test_size=0.2)\n",
        "\n",
        "\n",
        "# Training the KNN model using KDTree\n",
        "knn = NearestNeighbors(n_neighbors=30, algorithm='kd_tree')\n",
        "knn.fit(train_df[['User_ID', 'Movie_ID']].values)\n",
        "\n",
        "# Making predictions on the test set\n",
        "test_user_ids = test_df['User_ID'].values\n",
        "test_movie_ids = test_df['Movie_ID'].values\n",
        "\n",
        "predicted_ratings = []\n",
        "\n",
        "for user_id, movie_id in zip(test_user_ids, test_movie_ids):\n",
        "    neighbors = knn.kneighbors([(user_id, movie_id)])\n",
        "    neighbor_ratings = train_df['Rating'].iloc[neighbors[1][0]]\n",
        "\n",
        "    predicted_rating = np.mean(neighbor_ratings)\n",
        "    predicted_ratings.append(predicted_rating)\n",
        "\n",
        "# Evaluating performance using MSE\n",
        "actual_ratings = test_df['Rating'].values\n",
        "mse_knn = mean_squared_error(actual_ratings, predicted_ratings)\n",
        "print(f\"KNN Mean Squared Error: {mse_knn}\")"
      ]
    },
    {
      "cell_type": "markdown",
      "id": "6a99a2c2",
      "metadata": {
        "id": "6a99a2c2"
      },
      "source": [
        "#### Hyperparameter tuning\n",
        "\n",
        "We can change the number for neighbors (k) that we are looking for, to see which value gives us the best results. Small values may be more sensitive to noise and outliers which may lead to overfitting, while larger values\n",
        "should make more smooth/general predictions but might miss local patterns. Very large k values will also make a noticeable difference in the execution time.\n",
        "\n",
        "| # of neighbors | Mean Squared Error |\n",
        "|:---------|:--------:|\n",
        "|  5   |  1.3051213261849535  |\n",
        "|  10   |  1.2166817723468317   |\n",
        "|  20   |  1.1811520802690894   |\n",
        "|  40   |  1.165747865259876   |\n",
        "|  60   |  1.1632004150022737   |\n",
        "\n",
        "\n",
        "Looking at the table above we can see that the benefit of increasing the number of neighbors starts to fall off rapidly at higher values.\n",
        "\n"
      ]
    },
    {
      "cell_type": "markdown",
      "id": "2f278a4a",
      "metadata": {
        "id": "2f278a4a"
      },
      "source": [
        "# 11. Featurizing Data\n",
        "\n",
        "Featurization is the process of transforming raw data into a format that is suitable for machine learning models. The goal is to create a set of new meaningful features that capture relevant information from the original data. This is necessary in order to make use of Regression ML models on our Recommendation System Project.\n",
        "\n",
        "First, we need to build sample train data from the train data."
      ]
    },
    {
      "cell_type": "code",
      "execution_count": null,
      "id": "9dc53d77",
      "metadata": {
        "id": "9dc53d77"
      },
      "outputs": [],
      "source": [
        "def get_sample_sparse_matrix(sparse_matrix, no_users, no_movies):\n",
        "\n",
        "    # get (row, col) and (rating) tuple from sparse_matrix...\n",
        "    row_ind, col_ind, ratings = sparse.find(sparse_matrix)\n",
        "    users = np.unique(row_ind)\n",
        "    movies = np.unique(col_ind)\n",
        "\n",
        "    print(\"Original Matrix : (users, movies) -- ({} {})\".format(len(users), len(movies)))\n",
        "    print(\"Original Matrix : Ratings -- {}\\n\".format(len(ratings)))\n",
        "\n",
        "    np.random.seed(42)\n",
        "    sample_users = np.random.choice(users, no_users, replace=False)\n",
        "    sample_movies = np.random.choice(movies, no_movies, replace=False)\n",
        "\n",
        "    mask = np.logical_and( np.isin(row_ind, sample_users),\n",
        "                      np.isin(col_ind, sample_movies) )\n",
        "\n",
        "    sample_sparse_matrix = sparse.csr_matrix((ratings[mask], (row_ind[mask], col_ind[mask])),\n",
        "                                             shape=(max(sample_users)+1, max(sample_movies)+1))\n",
        "\n",
        "    print(\"Sampled Matrix : (users, movies) -- ({} {})\".format(len(sample_users), len(sample_movies)))\n",
        "    print(\"Sampled Matrix : Ratings --\", format(ratings[mask].shape[0]))\n",
        "\n",
        "    print('Done')\n",
        "\n",
        "    return sample_sparse_matrix"
      ]
    },
    {
      "cell_type": "code",
      "execution_count": null,
      "id": "134a90fa",
      "metadata": {
        "id": "134a90fa"
      },
      "outputs": [],
      "source": [
        "num_train_users = len(np.unique(train_data[\"User_ID\"]))\n",
        "num_train_movies = len(np.unique(train_data[\"Movie_ID\"]))\n",
        "num_test_users = len(np.unique(test_data[\"User_ID\"]))\n",
        "num_test_movies = len(np.unique(test_data[\"Movie_ID\"]))"
      ]
    },
    {
      "cell_type": "code",
      "execution_count": null,
      "id": "bd6e6590",
      "metadata": {
        "colab": {
          "base_uri": "https://localhost:8080/"
        },
        "id": "bd6e6590",
        "outputId": "0f82a319-60ee-49b0-b837-c229fbceccce"
      },
      "outputs": [
        {
          "name": "stdout",
          "output_type": "stream",
          "text": [
            "Original Matrix : (users, movies) -- (9989 17015)\n",
            "Original Matrix : Ratings -- 1677955\n",
            "\n",
            "Sampled Matrix : (users, movies) -- (500 1000)\n",
            "Sampled Matrix : Ratings -- 6236\n",
            "Done\n",
            "Original Matrix : (users, movies) -- (9833 13586)\n",
            "Original Matrix : Ratings -- 419489\n",
            "\n",
            "Sampled Matrix : (users, movies) -- (500 2000)\n",
            "Sampled Matrix : Ratings -- 3463\n",
            "Done\n"
          ]
        }
      ],
      "source": [
        "sample_train_sparse_matrix = get_sample_sparse_matrix(train_sparse_matrix, no_users=500, no_movies=1000)\n",
        "sample_test_sparse_matrix = get_sample_sparse_matrix(test_sparse_matrix, no_users=500, no_movies=2000)"
      ]
    },
    {
      "cell_type": "markdown",
      "id": "381c5e76",
      "metadata": {
        "id": "381c5e76"
      },
      "source": [
        "Now, we got to find the Global Averages from Sampled Train"
      ]
    },
    {
      "cell_type": "code",
      "execution_count": null,
      "id": "efb78bb3",
      "metadata": {
        "id": "efb78bb3"
      },
      "outputs": [],
      "source": [
        "def get_average_ratings(sparse_matrix, of_users):\n",
        "    ax = 1 if of_users else 0\n",
        "\n",
        "    sum_of_ratings = sparse_matrix.sum(axis=ax).A1\n",
        "    is_rated = sparse_matrix != 0\n",
        "    no_of_ratings = is_rated.sum(axis=ax).A1\n",
        "\n",
        "    u,m = sparse_matrix.shape\n",
        "    average_ratings = { i : sum_of_ratings[i]/no_of_ratings[i]\n",
        "                                 for i in range(u if of_users else m)\n",
        "                                    if no_of_ratings[i] !=0}\n",
        "    return average_ratings"
      ]
    },
    {
      "cell_type": "code",
      "execution_count": null,
      "id": "72d606d0",
      "metadata": {
        "colab": {
          "base_uri": "https://localhost:8080/"
        },
        "id": "72d606d0",
        "outputId": "e4079128-d595-4fb9-8235-da6923fa258e"
      },
      "outputs": [
        {
          "name": "stdout",
          "output_type": "stream",
          "text": [
            "Global Average:  {'global': 3.632937780628608}\n"
          ]
        }
      ],
      "source": [
        "sample_train_averages = dict()\n",
        "\n",
        "global_average = sample_train_sparse_matrix.sum()/sample_train_sparse_matrix.count_nonzero()\n",
        "sample_train_averages['global'] = global_average\n",
        "print('Global Average: ',sample_train_averages)\n",
        "\n",
        "sample_train_averages['User_ID'] = get_average_ratings(sample_train_sparse_matrix, of_users=True)\n",
        "# print('Average rating of User_ID 527 :',sample_train_averages['User_ID'][527])\n",
        "\n",
        "sample_train_averages['Movie_ID'] =  get_average_ratings(sample_train_sparse_matrix, of_users=False)\n",
        "# print('Average rating of Movie_ID 15875 :',sample_train_averages['Movie_ID'][15875])"
      ]
    },
    {
      "cell_type": "code",
      "execution_count": null,
      "id": "9e3763a9",
      "metadata": {
        "colab": {
          "base_uri": "https://localhost:8080/"
        },
        "id": "9e3763a9",
        "outputId": "8e323197-13ef-456e-b8c8-2af1c4a11816"
      },
      "outputs": [
        {
          "name": "stdout",
          "output_type": "stream",
          "text": [
            "Global Average:  {'global': 3.5890846087207624}\n"
          ]
        }
      ],
      "source": [
        "sample_test_averages = dict()\n",
        "\n",
        "global_average = sample_test_sparse_matrix.sum()/sample_test_sparse_matrix.count_nonzero()\n",
        "sample_test_averages['global'] = global_average\n",
        "print('Global Average: ',sample_test_averages)\n",
        "\n",
        "sample_test_averages['User_ID'] = get_average_ratings(sample_test_sparse_matrix, of_users=True)\n",
        "# print('Average rating of User_ID 44317 :',sample_test_averages['User_ID'][44317])\n",
        "\n",
        "sample_test_averages['Movie_ID'] =  get_average_ratings(sample_test_sparse_matrix, of_users=False)\n",
        "# print('Average rating of Movie_ID 16731 :',sample_test_averages['Movie_ID'][16731])"
      ]
    },
    {
      "cell_type": "code",
      "execution_count": null,
      "id": "39468b05",
      "metadata": {
        "colab": {
          "base_uri": "https://localhost:8080/"
        },
        "id": "39468b05",
        "outputId": "9fe87db1-c480-416c-c249-88ae781ecde3"
      },
      "outputs": [
        {
          "name": "stdout",
          "output_type": "stream",
          "text": [
            "No of ratings in Our Sampled train matrix is : 6236\n",
            "No of ratings in Our Sampled test  matrix is : 3463\n"
          ]
        }
      ],
      "source": [
        "print('No of ratings in Our Sampled train matrix is : {}'.format(sample_train_sparse_matrix.count_nonzero()))\n",
        "print('No of ratings in Our Sampled test  matrix is : {}'.format(sample_test_sparse_matrix.count_nonzero()))"
      ]
    },
    {
      "cell_type": "code",
      "execution_count": null,
      "id": "3bdb5eea",
      "metadata": {
        "id": "3bdb5eea"
      },
      "outputs": [],
      "source": [
        "# get users, movies and ratings from our samples train sparse matrix\n",
        "sample_train_users, sample_train_movies, sample_train_ratings = sparse.find(sample_train_sparse_matrix)"
      ]
    },
    {
      "cell_type": "markdown",
      "id": "41571893",
      "metadata": {
        "id": "41571893"
      },
      "source": [
        "Preparing new features for Train Set"
      ]
    },
    {
      "cell_type": "code",
      "execution_count": null,
      "id": "a3358e63",
      "metadata": {
        "colab": {
          "base_uri": "https://localhost:8080/"
        },
        "id": "a3358e63",
        "outputId": "9fced41e-c7e2-4193-96d9-b9f39538acd7"
      },
      "outputs": [
        {
          "name": "stdout",
          "output_type": "stream",
          "text": [
            "preparing 6236 tuples for the dataset..\n",
            "duration:  0:00:58.994415\n"
          ]
        }
      ],
      "source": [
        "start = datetime.now()\n",
        "\n",
        "reg_train = []\n",
        "count = 0\n",
        "\n",
        "print('preparing {} tuples for the dataset..'.format(len(sample_train_ratings)))\n",
        "\n",
        "for (user, movie, rating) in zip(sample_train_users, sample_train_movies, sample_train_ratings):\n",
        "    st = datetime.now()\n",
        "\n",
        "    # Similar Users\n",
        "    user_sim = cosine_similarity(sample_train_sparse_matrix[user], sample_train_sparse_matrix).ravel()\n",
        "    top_sim_users = user_sim.argsort()[::-1][1:]\n",
        "    top_ratings = sample_train_sparse_matrix[top_sim_users, movie].toarray().ravel()\n",
        "    top_sim_users_ratings = list(top_ratings[top_ratings != 0][:5])\n",
        "    top_sim_users_ratings.extend([sample_train_averages['Movie_ID'][movie]] * (5 - len(top_sim_users_ratings)))\n",
        "\n",
        "    # Similar Movies\n",
        "    movie_sim = cosine_similarity(sample_train_sparse_matrix[:, movie].T, sample_train_sparse_matrix.T).ravel()\n",
        "    top_sim_movies = movie_sim.argsort()[::-1][1:]\n",
        "    top_ratings = sample_train_sparse_matrix[user, top_sim_movies].toarray().ravel()\n",
        "    top_sim_movies_ratings = list(top_ratings[top_ratings != 0][:5])\n",
        "    top_sim_movies_ratings.extend([sample_train_averages['User_ID'][user]] * (5 - len(top_sim_movies_ratings)))\n",
        "\n",
        "    # Prepare the row\n",
        "    row = [user, movie, sample_train_averages['global']] + top_sim_users_ratings + top_sim_movies_ratings + \\\n",
        "            [sample_train_averages['User_ID'][user], sample_train_averages['Movie_ID'][movie], rating]\n",
        "\n",
        "    # Append the row to the list\n",
        "    reg_train.append(row)\n",
        "    count += 1\n",
        "\n",
        "print('duration: ', datetime.now() - start)\n"
      ]
    },
    {
      "cell_type": "code",
      "execution_count": null,
      "id": "0670904b",
      "metadata": {
        "colab": {
          "base_uri": "https://localhost:8080/",
          "height": 206
        },
        "id": "0670904b",
        "outputId": "dfd0c09f-8712-4206-b4a7-cb42d7dd3b78"
      },
      "outputs": [
        {
          "data": {
            "text/html": [
              "\n",
              "  <div id=\"df-cf2fd227-c618-4742-ba19-b8cfd2812c6d\" class=\"colab-df-container\">\n",
              "    <div>\n",
              "<style scoped>\n",
              "    .dataframe tbody tr th:only-of-type {\n",
              "        vertical-align: middle;\n",
              "    }\n",
              "\n",
              "    .dataframe tbody tr th {\n",
              "        vertical-align: top;\n",
              "    }\n",
              "\n",
              "    .dataframe thead th {\n",
              "        text-align: right;\n",
              "    }\n",
              "</style>\n",
              "<table border=\"1\" class=\"dataframe\">\n",
              "  <thead>\n",
              "    <tr style=\"text-align: right;\">\n",
              "      <th></th>\n",
              "      <th>User_ID</th>\n",
              "      <th>Movie_ID</th>\n",
              "      <th>GAvg</th>\n",
              "      <th>sur1</th>\n",
              "      <th>sur2</th>\n",
              "      <th>sur3</th>\n",
              "      <th>sur4</th>\n",
              "      <th>sur5</th>\n",
              "      <th>smr1</th>\n",
              "      <th>smr2</th>\n",
              "      <th>smr3</th>\n",
              "      <th>smr4</th>\n",
              "      <th>smr5</th>\n",
              "      <th>UAvg</th>\n",
              "      <th>MAvg</th>\n",
              "      <th>Rating</th>\n",
              "    </tr>\n",
              "  </thead>\n",
              "  <tbody>\n",
              "    <tr>\n",
              "      <th>0</th>\n",
              "      <td>10</td>\n",
              "      <td>299</td>\n",
              "      <td>3.632938</td>\n",
              "      <td>3.0</td>\n",
              "      <td>5.0</td>\n",
              "      <td>4.0</td>\n",
              "      <td>3.0</td>\n",
              "      <td>2.0</td>\n",
              "      <td>5.0</td>\n",
              "      <td>3.0</td>\n",
              "      <td>4.0</td>\n",
              "      <td>3.0</td>\n",
              "      <td>4.0</td>\n",
              "      <td>3.75</td>\n",
              "      <td>3.828571</td>\n",
              "      <td>2</td>\n",
              "    </tr>\n",
              "    <tr>\n",
              "      <th>1</th>\n",
              "      <td>10</td>\n",
              "      <td>3254</td>\n",
              "      <td>3.632938</td>\n",
              "      <td>3.0</td>\n",
              "      <td>4.0</td>\n",
              "      <td>2.0</td>\n",
              "      <td>4.0</td>\n",
              "      <td>3.0</td>\n",
              "      <td>4.0</td>\n",
              "      <td>3.0</td>\n",
              "      <td>4.0</td>\n",
              "      <td>4.0</td>\n",
              "      <td>5.0</td>\n",
              "      <td>3.75</td>\n",
              "      <td>3.150685</td>\n",
              "      <td>4</td>\n",
              "    </tr>\n",
              "    <tr>\n",
              "      <th>2</th>\n",
              "      <td>10</td>\n",
              "      <td>4661</td>\n",
              "      <td>3.632938</td>\n",
              "      <td>3.0</td>\n",
              "      <td>4.0</td>\n",
              "      <td>4.0</td>\n",
              "      <td>3.0</td>\n",
              "      <td>2.0</td>\n",
              "      <td>3.0</td>\n",
              "      <td>4.0</td>\n",
              "      <td>4.0</td>\n",
              "      <td>4.0</td>\n",
              "      <td>5.0</td>\n",
              "      <td>3.75</td>\n",
              "      <td>3.375000</td>\n",
              "      <td>4</td>\n",
              "    </tr>\n",
              "    <tr>\n",
              "      <th>3</th>\n",
              "      <td>10</td>\n",
              "      <td>5181</td>\n",
              "      <td>3.632938</td>\n",
              "      <td>4.0</td>\n",
              "      <td>4.0</td>\n",
              "      <td>1.0</td>\n",
              "      <td>4.0</td>\n",
              "      <td>3.0</td>\n",
              "      <td>2.0</td>\n",
              "      <td>4.0</td>\n",
              "      <td>3.0</td>\n",
              "      <td>5.0</td>\n",
              "      <td>5.0</td>\n",
              "      <td>3.75</td>\n",
              "      <td>3.440000</td>\n",
              "      <td>5</td>\n",
              "    </tr>\n",
              "    <tr>\n",
              "      <th>4</th>\n",
              "      <td>10</td>\n",
              "      <td>5199</td>\n",
              "      <td>3.632938</td>\n",
              "      <td>4.0</td>\n",
              "      <td>2.0</td>\n",
              "      <td>3.0</td>\n",
              "      <td>3.0</td>\n",
              "      <td>3.0</td>\n",
              "      <td>4.0</td>\n",
              "      <td>2.0</td>\n",
              "      <td>4.0</td>\n",
              "      <td>4.0</td>\n",
              "      <td>2.0</td>\n",
              "      <td>3.75</td>\n",
              "      <td>3.000000</td>\n",
              "      <td>3</td>\n",
              "    </tr>\n",
              "  </tbody>\n",
              "</table>\n",
              "</div>\n",
              "    <div class=\"colab-df-buttons\">\n",
              "\n",
              "  <div class=\"colab-df-container\">\n",
              "    <button class=\"colab-df-convert\" onclick=\"convertToInteractive('df-cf2fd227-c618-4742-ba19-b8cfd2812c6d')\"\n",
              "            title=\"Convert this dataframe to an interactive table.\"\n",
              "            style=\"display:none;\">\n",
              "\n",
              "  <svg xmlns=\"http://www.w3.org/2000/svg\" height=\"24px\" viewBox=\"0 -960 960 960\">\n",
              "    <path d=\"M120-120v-720h720v720H120Zm60-500h600v-160H180v160Zm220 220h160v-160H400v160Zm0 220h160v-160H400v160ZM180-400h160v-160H180v160Zm440 0h160v-160H620v160ZM180-180h160v-160H180v160Zm440 0h160v-160H620v160Z\"/>\n",
              "  </svg>\n",
              "    </button>\n",
              "\n",
              "  <style>\n",
              "    .colab-df-container {\n",
              "      display:flex;\n",
              "      gap: 12px;\n",
              "    }\n",
              "\n",
              "    .colab-df-convert {\n",
              "      background-color: #E8F0FE;\n",
              "      border: none;\n",
              "      border-radius: 50%;\n",
              "      cursor: pointer;\n",
              "      display: none;\n",
              "      fill: #1967D2;\n",
              "      height: 32px;\n",
              "      padding: 0 0 0 0;\n",
              "      width: 32px;\n",
              "    }\n",
              "\n",
              "    .colab-df-convert:hover {\n",
              "      background-color: #E2EBFA;\n",
              "      box-shadow: 0px 1px 2px rgba(60, 64, 67, 0.3), 0px 1px 3px 1px rgba(60, 64, 67, 0.15);\n",
              "      fill: #174EA6;\n",
              "    }\n",
              "\n",
              "    .colab-df-buttons div {\n",
              "      margin-bottom: 4px;\n",
              "    }\n",
              "\n",
              "    [theme=dark] .colab-df-convert {\n",
              "      background-color: #3B4455;\n",
              "      fill: #D2E3FC;\n",
              "    }\n",
              "\n",
              "    [theme=dark] .colab-df-convert:hover {\n",
              "      background-color: #434B5C;\n",
              "      box-shadow: 0px 1px 3px 1px rgba(0, 0, 0, 0.15);\n",
              "      filter: drop-shadow(0px 1px 2px rgba(0, 0, 0, 0.3));\n",
              "      fill: #FFFFFF;\n",
              "    }\n",
              "  </style>\n",
              "\n",
              "    <script>\n",
              "      const buttonEl =\n",
              "        document.querySelector('#df-cf2fd227-c618-4742-ba19-b8cfd2812c6d button.colab-df-convert');\n",
              "      buttonEl.style.display =\n",
              "        google.colab.kernel.accessAllowed ? 'block' : 'none';\n",
              "\n",
              "      async function convertToInteractive(key) {\n",
              "        const element = document.querySelector('#df-cf2fd227-c618-4742-ba19-b8cfd2812c6d');\n",
              "        const dataTable =\n",
              "          await google.colab.kernel.invokeFunction('convertToInteractive',\n",
              "                                                    [key], {});\n",
              "        if (!dataTable) return;\n",
              "\n",
              "        const docLinkHtml = 'Like what you see? Visit the ' +\n",
              "          '<a target=\"_blank\" href=https://colab.research.google.com/notebooks/data_table.ipynb>data table notebook</a>'\n",
              "          + ' to learn more about interactive tables.';\n",
              "        element.innerHTML = '';\n",
              "        dataTable['output_type'] = 'display_data';\n",
              "        await google.colab.output.renderOutput(dataTable, element);\n",
              "        const docLink = document.createElement('div');\n",
              "        docLink.innerHTML = docLinkHtml;\n",
              "        element.appendChild(docLink);\n",
              "      }\n",
              "    </script>\n",
              "  </div>\n",
              "\n",
              "\n",
              "<div id=\"df-360dbe0f-bdc4-4dd5-8bd2-41ba0acdb89c\">\n",
              "  <button class=\"colab-df-quickchart\" onclick=\"quickchart('df-360dbe0f-bdc4-4dd5-8bd2-41ba0acdb89c')\"\n",
              "            title=\"Suggest charts\"\n",
              "            style=\"display:none;\">\n",
              "\n",
              "<svg xmlns=\"http://www.w3.org/2000/svg\" height=\"24px\"viewBox=\"0 0 24 24\"\n",
              "     width=\"24px\">\n",
              "    <g>\n",
              "        <path d=\"M19 3H5c-1.1 0-2 .9-2 2v14c0 1.1.9 2 2 2h14c1.1 0 2-.9 2-2V5c0-1.1-.9-2-2-2zM9 17H7v-7h2v7zm4 0h-2V7h2v10zm4 0h-2v-4h2v4z\"/>\n",
              "    </g>\n",
              "</svg>\n",
              "  </button>\n",
              "\n",
              "<style>\n",
              "  .colab-df-quickchart {\n",
              "      --bg-color: #E8F0FE;\n",
              "      --fill-color: #1967D2;\n",
              "      --hover-bg-color: #E2EBFA;\n",
              "      --hover-fill-color: #174EA6;\n",
              "      --disabled-fill-color: #AAA;\n",
              "      --disabled-bg-color: #DDD;\n",
              "  }\n",
              "\n",
              "  [theme=dark] .colab-df-quickchart {\n",
              "      --bg-color: #3B4455;\n",
              "      --fill-color: #D2E3FC;\n",
              "      --hover-bg-color: #434B5C;\n",
              "      --hover-fill-color: #FFFFFF;\n",
              "      --disabled-bg-color: #3B4455;\n",
              "      --disabled-fill-color: #666;\n",
              "  }\n",
              "\n",
              "  .colab-df-quickchart {\n",
              "    background-color: var(--bg-color);\n",
              "    border: none;\n",
              "    border-radius: 50%;\n",
              "    cursor: pointer;\n",
              "    display: none;\n",
              "    fill: var(--fill-color);\n",
              "    height: 32px;\n",
              "    padding: 0;\n",
              "    width: 32px;\n",
              "  }\n",
              "\n",
              "  .colab-df-quickchart:hover {\n",
              "    background-color: var(--hover-bg-color);\n",
              "    box-shadow: 0 1px 2px rgba(60, 64, 67, 0.3), 0 1px 3px 1px rgba(60, 64, 67, 0.15);\n",
              "    fill: var(--button-hover-fill-color);\n",
              "  }\n",
              "\n",
              "  .colab-df-quickchart-complete:disabled,\n",
              "  .colab-df-quickchart-complete:disabled:hover {\n",
              "    background-color: var(--disabled-bg-color);\n",
              "    fill: var(--disabled-fill-color);\n",
              "    box-shadow: none;\n",
              "  }\n",
              "\n",
              "  .colab-df-spinner {\n",
              "    border: 2px solid var(--fill-color);\n",
              "    border-color: transparent;\n",
              "    border-bottom-color: var(--fill-color);\n",
              "    animation:\n",
              "      spin 1s steps(1) infinite;\n",
              "  }\n",
              "\n",
              "  @keyframes spin {\n",
              "    0% {\n",
              "      border-color: transparent;\n",
              "      border-bottom-color: var(--fill-color);\n",
              "      border-left-color: var(--fill-color);\n",
              "    }\n",
              "    20% {\n",
              "      border-color: transparent;\n",
              "      border-left-color: var(--fill-color);\n",
              "      border-top-color: var(--fill-color);\n",
              "    }\n",
              "    30% {\n",
              "      border-color: transparent;\n",
              "      border-left-color: var(--fill-color);\n",
              "      border-top-color: var(--fill-color);\n",
              "      border-right-color: var(--fill-color);\n",
              "    }\n",
              "    40% {\n",
              "      border-color: transparent;\n",
              "      border-right-color: var(--fill-color);\n",
              "      border-top-color: var(--fill-color);\n",
              "    }\n",
              "    60% {\n",
              "      border-color: transparent;\n",
              "      border-right-color: var(--fill-color);\n",
              "    }\n",
              "    80% {\n",
              "      border-color: transparent;\n",
              "      border-right-color: var(--fill-color);\n",
              "      border-bottom-color: var(--fill-color);\n",
              "    }\n",
              "    90% {\n",
              "      border-color: transparent;\n",
              "      border-bottom-color: var(--fill-color);\n",
              "    }\n",
              "  }\n",
              "</style>\n",
              "\n",
              "  <script>\n",
              "    async function quickchart(key) {\n",
              "      const quickchartButtonEl =\n",
              "        document.querySelector('#' + key + ' button');\n",
              "      quickchartButtonEl.disabled = true;  // To prevent multiple clicks.\n",
              "      quickchartButtonEl.classList.add('colab-df-spinner');\n",
              "      try {\n",
              "        const charts = await google.colab.kernel.invokeFunction(\n",
              "            'suggestCharts', [key], {});\n",
              "      } catch (error) {\n",
              "        console.error('Error during call to suggestCharts:', error);\n",
              "      }\n",
              "      quickchartButtonEl.classList.remove('colab-df-spinner');\n",
              "      quickchartButtonEl.classList.add('colab-df-quickchart-complete');\n",
              "    }\n",
              "    (() => {\n",
              "      let quickchartButtonEl =\n",
              "        document.querySelector('#df-360dbe0f-bdc4-4dd5-8bd2-41ba0acdb89c button');\n",
              "      quickchartButtonEl.style.display =\n",
              "        google.colab.kernel.accessAllowed ? 'block' : 'none';\n",
              "    })();\n",
              "  </script>\n",
              "</div>\n",
              "    </div>\n",
              "  </div>\n"
            ],
            "text/plain": [
              "   User_ID  Movie_ID      GAvg  sur1  sur2  sur3  sur4  sur5  smr1  smr2  \\\n",
              "0       10       299  3.632938   3.0   5.0   4.0   3.0   2.0   5.0   3.0   \n",
              "1       10      3254  3.632938   3.0   4.0   2.0   4.0   3.0   4.0   3.0   \n",
              "2       10      4661  3.632938   3.0   4.0   4.0   3.0   2.0   3.0   4.0   \n",
              "3       10      5181  3.632938   4.0   4.0   1.0   4.0   3.0   2.0   4.0   \n",
              "4       10      5199  3.632938   4.0   2.0   3.0   3.0   3.0   4.0   2.0   \n",
              "\n",
              "   smr3  smr4  smr5  UAvg      MAvg  Rating  \n",
              "0   4.0   3.0   4.0  3.75  3.828571       2  \n",
              "1   4.0   4.0   5.0  3.75  3.150685       4  \n",
              "2   4.0   4.0   5.0  3.75  3.375000       4  \n",
              "3   3.0   5.0   5.0  3.75  3.440000       5  \n",
              "4   4.0   4.0   2.0  3.75  3.000000       3  "
            ]
          },
          "execution_count": 21,
          "metadata": {},
          "output_type": "execute_result"
        }
      ],
      "source": [
        "reg_train_df = pd.DataFrame(reg_train, columns=['User_ID', 'Movie_ID', 'GAvg', 'sur1', 'sur2', 'sur3', 'sur4', 'sur5','smr1', 'smr2', 'smr3', 'smr4', 'smr5', 'UAvg', 'MAvg', 'Rating'])\n",
        "reg_train_df.head()"
      ]
    },
    {
      "cell_type": "markdown",
      "id": "45592041",
      "metadata": {
        "id": "45592041"
      },
      "source": [
        "So, we have created these features for our ratings:\n",
        "\n",
        "- `GAvg` : Average rating of all the ratings\n",
        "\n",
        "- `sur1`, `sur2`, `sur3`, `sur4`, `sur5`: Top 5 similar users who rated that movie\n",
        "\n",
        "- `smr1`, `smr2`, `smr3`, `smr4`, `smr5`: Top 5 similar movies rated by this movie\n",
        "\n",
        "- `UAvg` : User's Average rating\n",
        "\n",
        "- `MAvg` : Average rating of this movie\n",
        "\n",
        "- `Rating` : Rating of this movie by this user.\n",
        "\n"
      ]
    },
    {
      "cell_type": "markdown",
      "id": "9a1bfde2",
      "metadata": {
        "id": "9a1bfde2"
      },
      "source": [
        "Now, we are going to do the same for our Test Sample sparse matrix"
      ]
    },
    {
      "cell_type": "code",
      "execution_count": null,
      "id": "5e49ca51",
      "metadata": {
        "id": "5e49ca51"
      },
      "outputs": [],
      "source": [
        "# get users, movies and ratings from the Sampled Test\n",
        "sample_test_users, sample_test_movies, sample_test_ratings = sparse.find(sample_test_sparse_matrix)"
      ]
    },
    {
      "cell_type": "code",
      "execution_count": null,
      "id": "1c987507",
      "metadata": {
        "colab": {
          "base_uri": "https://localhost:8080/"
        },
        "id": "1c987507",
        "outputId": "9b528425-1a11-440d-8cc3-b7f15b3950ed"
      },
      "outputs": [
        {
          "name": "stdout",
          "output_type": "stream",
          "text": [
            "preparing 3463 tuples for the dataset..\n",
            "duration:  0:00:31.028833\n"
          ]
        }
      ],
      "source": [
        "start = datetime.now()\n",
        "\n",
        "reg_test = []\n",
        "count = 0\n",
        "\n",
        "print('preparing {} tuples for the dataset..'.format(len(sample_test_ratings)))\n",
        "\n",
        "for (user, movie, rating) in zip(sample_test_users, sample_test_movies, sample_test_ratings):\n",
        "    st = datetime.now()\n",
        "\n",
        "    # Similar Users\n",
        "    user_sim = cosine_similarity(sample_test_sparse_matrix[user], sample_test_sparse_matrix).ravel()\n",
        "    top_sim_users = user_sim.argsort()[::-1][1:]\n",
        "    top_ratings = sample_test_sparse_matrix[top_sim_users, movie].toarray().ravel()\n",
        "    top_sim_users_ratings = list(top_ratings[top_ratings != 0][:5])\n",
        "    top_sim_users_ratings.extend([sample_test_averages['Movie_ID'][movie]] * (5 - len(top_sim_users_ratings)))\n",
        "\n",
        "    # Similar Movies\n",
        "    movie_sim = cosine_similarity(sample_test_sparse_matrix[:, movie].T, sample_test_sparse_matrix.T).ravel()\n",
        "    top_sim_movies = movie_sim.argsort()[::-1][1:]\n",
        "    top_ratings = sample_test_sparse_matrix[user, top_sim_movies].toarray().ravel()\n",
        "    top_sim_movies_ratings = list(top_ratings[top_ratings != 0][:5])\n",
        "    top_sim_movies_ratings.extend([sample_test_averages['User_ID'][user]] * (5 - len(top_sim_movies_ratings)))\n",
        "\n",
        "    # Prepare the row\n",
        "    row = [user, movie, sample_test_averages['global']] + top_sim_users_ratings + top_sim_movies_ratings + \\\n",
        "            [sample_test_averages['User_ID'][user], sample_test_averages['Movie_ID'][movie], rating]\n",
        "\n",
        "    # Append the row to the list\n",
        "    reg_test.append(row)\n",
        "    count += 1\n",
        "\n",
        "print('duration: ', datetime.now() - start)\n"
      ]
    },
    {
      "cell_type": "code",
      "execution_count": null,
      "id": "90acddc4",
      "metadata": {
        "colab": {
          "base_uri": "https://localhost:8080/",
          "height": 206
        },
        "id": "90acddc4",
        "outputId": "5d7b7fb2-718f-4437-a6de-7e9f99f9427d"
      },
      "outputs": [
        {
          "data": {
            "text/html": [
              "\n",
              "  <div id=\"df-881f0582-547f-4b40-a53d-d0c155cae47f\" class=\"colab-df-container\">\n",
              "    <div>\n",
              "<style scoped>\n",
              "    .dataframe tbody tr th:only-of-type {\n",
              "        vertical-align: middle;\n",
              "    }\n",
              "\n",
              "    .dataframe tbody tr th {\n",
              "        vertical-align: top;\n",
              "    }\n",
              "\n",
              "    .dataframe thead th {\n",
              "        text-align: right;\n",
              "    }\n",
              "</style>\n",
              "<table border=\"1\" class=\"dataframe\">\n",
              "  <thead>\n",
              "    <tr style=\"text-align: right;\">\n",
              "      <th></th>\n",
              "      <th>User_ID</th>\n",
              "      <th>Movie_ID</th>\n",
              "      <th>GAvg</th>\n",
              "      <th>sur1</th>\n",
              "      <th>sur2</th>\n",
              "      <th>sur3</th>\n",
              "      <th>sur4</th>\n",
              "      <th>sur5</th>\n",
              "      <th>smr1</th>\n",
              "      <th>smr2</th>\n",
              "      <th>smr3</th>\n",
              "      <th>smr4</th>\n",
              "      <th>smr5</th>\n",
              "      <th>UAvg</th>\n",
              "      <th>MAvg</th>\n",
              "      <th>Rating</th>\n",
              "    </tr>\n",
              "  </thead>\n",
              "  <tbody>\n",
              "    <tr>\n",
              "      <th>0</th>\n",
              "      <td>6</td>\n",
              "      <td>329</td>\n",
              "      <td>3.589085</td>\n",
              "      <td>3.0</td>\n",
              "      <td>3.0</td>\n",
              "      <td>3.0</td>\n",
              "      <td>5.0</td>\n",
              "      <td>2.0</td>\n",
              "      <td>4.0</td>\n",
              "      <td>3.0</td>\n",
              "      <td>4.0</td>\n",
              "      <td>4.0</td>\n",
              "      <td>4.0</td>\n",
              "      <td>3.684211</td>\n",
              "      <td>3.076923</td>\n",
              "      <td>4</td>\n",
              "    </tr>\n",
              "    <tr>\n",
              "      <th>1</th>\n",
              "      <td>6</td>\n",
              "      <td>1267</td>\n",
              "      <td>3.589085</td>\n",
              "      <td>3.0</td>\n",
              "      <td>3.0</td>\n",
              "      <td>4.0</td>\n",
              "      <td>3.0</td>\n",
              "      <td>2.0</td>\n",
              "      <td>4.0</td>\n",
              "      <td>3.0</td>\n",
              "      <td>4.0</td>\n",
              "      <td>4.0</td>\n",
              "      <td>4.0</td>\n",
              "      <td>3.684211</td>\n",
              "      <td>3.066667</td>\n",
              "      <td>3</td>\n",
              "    </tr>\n",
              "    <tr>\n",
              "      <th>2</th>\n",
              "      <td>6</td>\n",
              "      <td>2857</td>\n",
              "      <td>3.589085</td>\n",
              "      <td>4.0</td>\n",
              "      <td>4.0</td>\n",
              "      <td>4.0</td>\n",
              "      <td>4.0</td>\n",
              "      <td>4.0</td>\n",
              "      <td>4.0</td>\n",
              "      <td>4.0</td>\n",
              "      <td>3.0</td>\n",
              "      <td>4.0</td>\n",
              "      <td>4.0</td>\n",
              "      <td>3.684211</td>\n",
              "      <td>4.000000</td>\n",
              "      <td>4</td>\n",
              "    </tr>\n",
              "    <tr>\n",
              "      <th>3</th>\n",
              "      <td>6</td>\n",
              "      <td>3427</td>\n",
              "      <td>3.589085</td>\n",
              "      <td>4.0</td>\n",
              "      <td>3.0</td>\n",
              "      <td>4.0</td>\n",
              "      <td>4.0</td>\n",
              "      <td>4.0</td>\n",
              "      <td>4.0</td>\n",
              "      <td>3.0</td>\n",
              "      <td>4.0</td>\n",
              "      <td>4.0</td>\n",
              "      <td>4.0</td>\n",
              "      <td>3.684211</td>\n",
              "      <td>3.384615</td>\n",
              "      <td>4</td>\n",
              "    </tr>\n",
              "    <tr>\n",
              "      <th>4</th>\n",
              "      <td>6</td>\n",
              "      <td>3638</td>\n",
              "      <td>3.589085</td>\n",
              "      <td>5.0</td>\n",
              "      <td>4.0</td>\n",
              "      <td>1.0</td>\n",
              "      <td>4.0</td>\n",
              "      <td>4.0</td>\n",
              "      <td>3.0</td>\n",
              "      <td>4.0</td>\n",
              "      <td>4.0</td>\n",
              "      <td>4.0</td>\n",
              "      <td>4.0</td>\n",
              "      <td>3.684211</td>\n",
              "      <td>3.285714</td>\n",
              "      <td>4</td>\n",
              "    </tr>\n",
              "  </tbody>\n",
              "</table>\n",
              "</div>\n",
              "    <div class=\"colab-df-buttons\">\n",
              "\n",
              "  <div class=\"colab-df-container\">\n",
              "    <button class=\"colab-df-convert\" onclick=\"convertToInteractive('df-881f0582-547f-4b40-a53d-d0c155cae47f')\"\n",
              "            title=\"Convert this dataframe to an interactive table.\"\n",
              "            style=\"display:none;\">\n",
              "\n",
              "  <svg xmlns=\"http://www.w3.org/2000/svg\" height=\"24px\" viewBox=\"0 -960 960 960\">\n",
              "    <path d=\"M120-120v-720h720v720H120Zm60-500h600v-160H180v160Zm220 220h160v-160H400v160Zm0 220h160v-160H400v160ZM180-400h160v-160H180v160Zm440 0h160v-160H620v160ZM180-180h160v-160H180v160Zm440 0h160v-160H620v160Z\"/>\n",
              "  </svg>\n",
              "    </button>\n",
              "\n",
              "  <style>\n",
              "    .colab-df-container {\n",
              "      display:flex;\n",
              "      gap: 12px;\n",
              "    }\n",
              "\n",
              "    .colab-df-convert {\n",
              "      background-color: #E8F0FE;\n",
              "      border: none;\n",
              "      border-radius: 50%;\n",
              "      cursor: pointer;\n",
              "      display: none;\n",
              "      fill: #1967D2;\n",
              "      height: 32px;\n",
              "      padding: 0 0 0 0;\n",
              "      width: 32px;\n",
              "    }\n",
              "\n",
              "    .colab-df-convert:hover {\n",
              "      background-color: #E2EBFA;\n",
              "      box-shadow: 0px 1px 2px rgba(60, 64, 67, 0.3), 0px 1px 3px 1px rgba(60, 64, 67, 0.15);\n",
              "      fill: #174EA6;\n",
              "    }\n",
              "\n",
              "    .colab-df-buttons div {\n",
              "      margin-bottom: 4px;\n",
              "    }\n",
              "\n",
              "    [theme=dark] .colab-df-convert {\n",
              "      background-color: #3B4455;\n",
              "      fill: #D2E3FC;\n",
              "    }\n",
              "\n",
              "    [theme=dark] .colab-df-convert:hover {\n",
              "      background-color: #434B5C;\n",
              "      box-shadow: 0px 1px 3px 1px rgba(0, 0, 0, 0.15);\n",
              "      filter: drop-shadow(0px 1px 2px rgba(0, 0, 0, 0.3));\n",
              "      fill: #FFFFFF;\n",
              "    }\n",
              "  </style>\n",
              "\n",
              "    <script>\n",
              "      const buttonEl =\n",
              "        document.querySelector('#df-881f0582-547f-4b40-a53d-d0c155cae47f button.colab-df-convert');\n",
              "      buttonEl.style.display =\n",
              "        google.colab.kernel.accessAllowed ? 'block' : 'none';\n",
              "\n",
              "      async function convertToInteractive(key) {\n",
              "        const element = document.querySelector('#df-881f0582-547f-4b40-a53d-d0c155cae47f');\n",
              "        const dataTable =\n",
              "          await google.colab.kernel.invokeFunction('convertToInteractive',\n",
              "                                                    [key], {});\n",
              "        if (!dataTable) return;\n",
              "\n",
              "        const docLinkHtml = 'Like what you see? Visit the ' +\n",
              "          '<a target=\"_blank\" href=https://colab.research.google.com/notebooks/data_table.ipynb>data table notebook</a>'\n",
              "          + ' to learn more about interactive tables.';\n",
              "        element.innerHTML = '';\n",
              "        dataTable['output_type'] = 'display_data';\n",
              "        await google.colab.output.renderOutput(dataTable, element);\n",
              "        const docLink = document.createElement('div');\n",
              "        docLink.innerHTML = docLinkHtml;\n",
              "        element.appendChild(docLink);\n",
              "      }\n",
              "    </script>\n",
              "  </div>\n",
              "\n",
              "\n",
              "<div id=\"df-d4b50809-4ce0-4ea3-ba2a-90c526f1b6aa\">\n",
              "  <button class=\"colab-df-quickchart\" onclick=\"quickchart('df-d4b50809-4ce0-4ea3-ba2a-90c526f1b6aa')\"\n",
              "            title=\"Suggest charts\"\n",
              "            style=\"display:none;\">\n",
              "\n",
              "<svg xmlns=\"http://www.w3.org/2000/svg\" height=\"24px\"viewBox=\"0 0 24 24\"\n",
              "     width=\"24px\">\n",
              "    <g>\n",
              "        <path d=\"M19 3H5c-1.1 0-2 .9-2 2v14c0 1.1.9 2 2 2h14c1.1 0 2-.9 2-2V5c0-1.1-.9-2-2-2zM9 17H7v-7h2v7zm4 0h-2V7h2v10zm4 0h-2v-4h2v4z\"/>\n",
              "    </g>\n",
              "</svg>\n",
              "  </button>\n",
              "\n",
              "<style>\n",
              "  .colab-df-quickchart {\n",
              "      --bg-color: #E8F0FE;\n",
              "      --fill-color: #1967D2;\n",
              "      --hover-bg-color: #E2EBFA;\n",
              "      --hover-fill-color: #174EA6;\n",
              "      --disabled-fill-color: #AAA;\n",
              "      --disabled-bg-color: #DDD;\n",
              "  }\n",
              "\n",
              "  [theme=dark] .colab-df-quickchart {\n",
              "      --bg-color: #3B4455;\n",
              "      --fill-color: #D2E3FC;\n",
              "      --hover-bg-color: #434B5C;\n",
              "      --hover-fill-color: #FFFFFF;\n",
              "      --disabled-bg-color: #3B4455;\n",
              "      --disabled-fill-color: #666;\n",
              "  }\n",
              "\n",
              "  .colab-df-quickchart {\n",
              "    background-color: var(--bg-color);\n",
              "    border: none;\n",
              "    border-radius: 50%;\n",
              "    cursor: pointer;\n",
              "    display: none;\n",
              "    fill: var(--fill-color);\n",
              "    height: 32px;\n",
              "    padding: 0;\n",
              "    width: 32px;\n",
              "  }\n",
              "\n",
              "  .colab-df-quickchart:hover {\n",
              "    background-color: var(--hover-bg-color);\n",
              "    box-shadow: 0 1px 2px rgba(60, 64, 67, 0.3), 0 1px 3px 1px rgba(60, 64, 67, 0.15);\n",
              "    fill: var(--button-hover-fill-color);\n",
              "  }\n",
              "\n",
              "  .colab-df-quickchart-complete:disabled,\n",
              "  .colab-df-quickchart-complete:disabled:hover {\n",
              "    background-color: var(--disabled-bg-color);\n",
              "    fill: var(--disabled-fill-color);\n",
              "    box-shadow: none;\n",
              "  }\n",
              "\n",
              "  .colab-df-spinner {\n",
              "    border: 2px solid var(--fill-color);\n",
              "    border-color: transparent;\n",
              "    border-bottom-color: var(--fill-color);\n",
              "    animation:\n",
              "      spin 1s steps(1) infinite;\n",
              "  }\n",
              "\n",
              "  @keyframes spin {\n",
              "    0% {\n",
              "      border-color: transparent;\n",
              "      border-bottom-color: var(--fill-color);\n",
              "      border-left-color: var(--fill-color);\n",
              "    }\n",
              "    20% {\n",
              "      border-color: transparent;\n",
              "      border-left-color: var(--fill-color);\n",
              "      border-top-color: var(--fill-color);\n",
              "    }\n",
              "    30% {\n",
              "      border-color: transparent;\n",
              "      border-left-color: var(--fill-color);\n",
              "      border-top-color: var(--fill-color);\n",
              "      border-right-color: var(--fill-color);\n",
              "    }\n",
              "    40% {\n",
              "      border-color: transparent;\n",
              "      border-right-color: var(--fill-color);\n",
              "      border-top-color: var(--fill-color);\n",
              "    }\n",
              "    60% {\n",
              "      border-color: transparent;\n",
              "      border-right-color: var(--fill-color);\n",
              "    }\n",
              "    80% {\n",
              "      border-color: transparent;\n",
              "      border-right-color: var(--fill-color);\n",
              "      border-bottom-color: var(--fill-color);\n",
              "    }\n",
              "    90% {\n",
              "      border-color: transparent;\n",
              "      border-bottom-color: var(--fill-color);\n",
              "    }\n",
              "  }\n",
              "</style>\n",
              "\n",
              "  <script>\n",
              "    async function quickchart(key) {\n",
              "      const quickchartButtonEl =\n",
              "        document.querySelector('#' + key + ' button');\n",
              "      quickchartButtonEl.disabled = true;  // To prevent multiple clicks.\n",
              "      quickchartButtonEl.classList.add('colab-df-spinner');\n",
              "      try {\n",
              "        const charts = await google.colab.kernel.invokeFunction(\n",
              "            'suggestCharts', [key], {});\n",
              "      } catch (error) {\n",
              "        console.error('Error during call to suggestCharts:', error);\n",
              "      }\n",
              "      quickchartButtonEl.classList.remove('colab-df-spinner');\n",
              "      quickchartButtonEl.classList.add('colab-df-quickchart-complete');\n",
              "    }\n",
              "    (() => {\n",
              "      let quickchartButtonEl =\n",
              "        document.querySelector('#df-d4b50809-4ce0-4ea3-ba2a-90c526f1b6aa button');\n",
              "      quickchartButtonEl.style.display =\n",
              "        google.colab.kernel.accessAllowed ? 'block' : 'none';\n",
              "    })();\n",
              "  </script>\n",
              "</div>\n",
              "    </div>\n",
              "  </div>\n"
            ],
            "text/plain": [
              "   User_ID  Movie_ID      GAvg  sur1  sur2  sur3  sur4  sur5  smr1  smr2  \\\n",
              "0        6       329  3.589085   3.0   3.0   3.0   5.0   2.0   4.0   3.0   \n",
              "1        6      1267  3.589085   3.0   3.0   4.0   3.0   2.0   4.0   3.0   \n",
              "2        6      2857  3.589085   4.0   4.0   4.0   4.0   4.0   4.0   4.0   \n",
              "3        6      3427  3.589085   4.0   3.0   4.0   4.0   4.0   4.0   3.0   \n",
              "4        6      3638  3.589085   5.0   4.0   1.0   4.0   4.0   3.0   4.0   \n",
              "\n",
              "   smr3  smr4  smr5      UAvg      MAvg  Rating  \n",
              "0   4.0   4.0   4.0  3.684211  3.076923       4  \n",
              "1   4.0   4.0   4.0  3.684211  3.066667       3  \n",
              "2   3.0   4.0   4.0  3.684211  4.000000       4  \n",
              "3   4.0   4.0   4.0  3.684211  3.384615       4  \n",
              "4   4.0   4.0   4.0  3.684211  3.285714       4  "
            ]
          },
          "execution_count": 27,
          "metadata": {},
          "output_type": "execute_result"
        }
      ],
      "source": [
        "reg_test_df = pd.DataFrame(reg_test, columns=['User_ID', 'Movie_ID', 'GAvg', 'sur1', 'sur2', 'sur3', 'sur4', 'sur5','smr1', 'smr2', 'smr3', 'smr4', 'smr5', 'UAvg', 'MAvg', 'Rating'])\n",
        "reg_test_df.head()"
      ]
    },
    {
      "cell_type": "markdown",
      "id": "9487e527",
      "metadata": {
        "id": "9487e527"
      },
      "source": [
        "# 12. XGBoost\n",
        "\n",
        "XGBoost, which stands for eXtreme Gradient BOOSTing, is a scalable, distributed gradient-boosted decision tree (GBDT) machine learning library. It provides parallel tree boosting and is the leading machine learning library for regression, classification, and ranking problems."
      ]
    },
    {
      "cell_type": "code",
      "execution_count": null,
      "id": "5d62ad48",
      "metadata": {
        "id": "5d62ad48"
      },
      "outputs": [],
      "source": [
        "# to get rmse and mape given actual and predicted ratings..\n",
        "def get_error_metrics(y_true, y_pred):\n",
        "    mse = np.mean([ (y_true[i] - y_pred[i])**2 for i in range(len(y_pred)) ])\n",
        "    rmse = np.sqrt(np.mean([ (y_true[i] - y_pred[i])**2 for i in range(len(y_pred)) ]))\n",
        "    mape = np.mean(np.abs( (y_true - y_pred)/y_true )) * 100\n",
        "    return mse, rmse, mape\n",
        "\n",
        "\n",
        "def run_xgboost(algo, x_train, y_train, x_test, y_test):\n",
        "    train_results = dict()\n",
        "    test_results = dict()\n",
        "\n",
        "    print('Training the model..')\n",
        "    start = datetime.now()\n",
        "    algo.fit(x_train, y_train, eval_metric = 'rmse')\n",
        "    print('Done. Time taken : {}\\n'.format(datetime.now()-start))\n",
        "    print('Done \\n')\n",
        "\n",
        "    print('Evaluating the model with TRAIN data...')\n",
        "    start =datetime.now()\n",
        "    y_train_pred = algo.predict(x_train)\n",
        "\n",
        "    mse_train, rmse_train, mape_train = get_error_metrics(y_train.values, y_train_pred)\n",
        "\n",
        "    train_results = {'mse' : mse_train,\n",
        "                    'rmse': rmse_train,\n",
        "                    'mape' : mape_train,\n",
        "                    'predictions' : y_train_pred}\n",
        "\n",
        "    print('Evaluating Test data')\n",
        "    y_test_pred = algo.predict(x_test)\n",
        "    mse_test, rmse_test, mape_test = get_error_metrics(y_true=y_test.values, y_pred=y_test_pred)\n",
        "\n",
        "    test_results = {'mse' : mse_test,\n",
        "                    'rmse': rmse_test,\n",
        "                    'mape' : mape_test,\n",
        "                    'predictions':y_test_pred}\n",
        "    print('\\nTEST DATA')\n",
        "    print('-'*30)\n",
        "    print('MSE  : ', mse_test)\n",
        "    print('RMSE : ', rmse_test)\n",
        "    print('MAPE : ', mape_test)\n",
        "\n",
        "    return train_results, test_results"
      ]
    },
    {
      "cell_type": "code",
      "execution_count": null,
      "id": "fb0cf0a0",
      "metadata": {
        "colab": {
          "base_uri": "https://localhost:8080/",
          "height": 822
        },
        "id": "fb0cf0a0",
        "outputId": "c2ac0638-456b-430e-ae2c-9b58b6003083"
      },
      "outputs": [
        {
          "name": "stdout",
          "output_type": "stream",
          "text": [
            "Training the model..\n"
          ]
        },
        {
          "name": "stderr",
          "output_type": "stream",
          "text": [
            "/usr/local/lib/python3.10/dist-packages/xgboost/sklearn.py:889: UserWarning: `eval_metric` in `fit` method is deprecated for better compatibility with scikit-learn, use `eval_metric` in constructor or`set_params` instead.\n",
            "  warnings.warn(\n",
            "/usr/local/lib/python3.10/dist-packages/xgboost/core.py:160: UserWarning: [00:53:28] WARNING: /workspace/src/learner.cc:742: \n",
            "Parameters: { \"silent\" } are not used.\n",
            "\n",
            "  warnings.warn(smsg, UserWarning)\n"
          ]
        },
        {
          "name": "stdout",
          "output_type": "stream",
          "text": [
            "Done. Time taken : 0:00:00.487682\n",
            "\n",
            "Done \n",
            "\n",
            "Evaluating the model with TRAIN data...\n",
            "Evaluating Test data\n",
            "\n",
            "TEST DATA\n",
            "------------------------------\n",
            "MSE  :  0.6150710577891204\n",
            "RMSE :  0.784264660550965\n",
            "MAPE :  22.005606738776788\n"
          ]
        },
        {
          "data": {
            "image/png": "[encoded data removed]",
            "text/plain": [
              "<Figure size 640x480 with 1 Axes>"
            ]
          },
          "metadata": {},
          "output_type": "display_data"
        }
      ],
      "source": [
        "# prepare Train data\n",
        "X_train = reg_train_df.drop(['User_ID','Movie_ID','Rating'], axis=1)\n",
        "y_train = reg_train_df['Rating']\n",
        "\n",
        "# Prepare Test data\n",
        "X_test = reg_test_df.drop(['User_ID','Movie_ID','Rating'], axis=1)\n",
        "y_test = reg_test_df['Rating']\n",
        "\n",
        "# initialize Our first XGBoost model...\n",
        "first_xgb = xgb.XGBRegressor(silent=False, n_jobs=13, random_state=42, n_estimators=100, learning_rate=0.1, max_depth=3)\n",
        "train_results, test_results = run_xgboost(first_xgb, X_train, y_train, X_test, y_test)\n",
        "\n",
        "xgb.plot_importance(first_xgb)\n",
        "plt.show()"
      ]
    },
    {
      "cell_type": "markdown",
      "id": "4WfB3lbVzlwA",
      "metadata": {
        "id": "4WfB3lbVzlwA"
      },
      "source": [
        "#### Hyperparameter tuning\n",
        "\n",
        "There are several hyperparameters that we use for our algorithm. We run several tests with different combinations of values for these hyperparameters. The following are some indicative results that show the effect that each hyperparameter has on the accuracy of the algorithm:\n",
        "\n",
        "-\n",
        "\n",
        "The **Estimators** parameter specifies the number of boosting rounds or trees to build in the model. Each boosting round contributes an additional weak learner (tree) to the overall model. Increasing this value of generally improves the performance of the model on the training data, but it may also increase the risk of overfitting.\n",
        "\n",
        "| Estimators | Mean Squared Error |\n",
        "|:---------|:--------:|\n",
        "|  100   |  0.659999   |\n",
        "|  500   |  0.678063  |\n",
        "|  1000   |  0.705987   |\n",
        "|  2000   |  0.736391   |\n",
        "\n",
        "Looking at the table above, we see that 100 estimators yields the best results, therefore we choose that.\n",
        "\n",
        "-\n",
        "\n",
        "The **Learning Rate** determines the step size during parameter updates. Too high of a learning rate can cause the algorithm to converge slowly or even diverge, while too low of a learning rate may result in slow convergence or getting stuck in local minima.\n",
        "\n",
        "| Learning Rate | Mean Squared Error |\n",
        "|:---------|:--------:|\n",
        "|  0.005   |  0.917871  |\n",
        "|  0.05   |  0.662977  |\n",
        "|  0.1   |  0.659993   |\n",
        "|  0.2   |  0.673448   |\n",
        "|  0.5   |  0.715653   |\n",
        "\n",
        "Looking at the table above, we see that a learning rate of 0.1 yields the best results, therefore we choose that.\n",
        "\n",
        "-\n",
        "\n",
        "**Max Depth** helps prevent overfitting by penalizing large values in the latent factor matrices. Too much regularization may lead to underfitting, while too little may result in overfitting.\n",
        "\n",
        "| Max Depth | Mean Squared Error |\n",
        "|:---------|:--------:|\n",
        "|  1   |  0.675069  |\n",
        "|  2   |  0.667959   |\n",
        "|  3   |  0.659999   |\n",
        "|  4   |  0.662196   |\n",
        "|  5   |  0.672184   |\n",
        "\n",
        "Here, a max_depth of 3, gives us the best smallest error on our model.\n",
        "\n",
        "-\n",
        "\n",
        "So, we can see that the best combination of hyperparameters is:\n",
        "\n",
        "- `n_estimators` = 100\n",
        "- `learning_rate` = 0.1\n",
        "- `max_depth` = 3\n",
        "\n",
        "After running the model with these hyperparameters, we find a Mean Squared Error of `0.615071`."
      ]
    },
    {
      "cell_type": "markdown",
      "id": "47b880f3",
      "metadata": {
        "id": "47b880f3"
      },
      "source": [
        "# 13. Surprise Baseline Model\n",
        "\n",
        "Baseline models play a crucial role in recommendation systems as they provide a simple yet effective way to establish a baseline performance. These models are typically straightforward and serve as a starting point for more sophisticated recommendation algorithms. In this project, we are going to create a BaselineOnly model that is going to be a baseline for the XGBoost algorithm.\n",
        "\n",
        "The BaseOnly algorithm uses this formula to predict the rating:\n",
        "\n",
        "$$\n",
        "r_{ui} = \\mu + b_u + b_i\n",
        "$$\n",
        "\n",
        "where,\n",
        "- $r_{ui}$ : Prediction of user $u$ for item $i$  \n",
        "- $\\mu$ : Average of all trainings in training data\n",
        "- $b_u$ : User bias\n",
        "- $b_i$ : Item bias\n",
        "\n",
        "We are going to use the `surprise` library."
      ]
    },
    {
      "cell_type": "code",
      "execution_count": null,
      "id": "ebddfdbc",
      "metadata": {
        "id": "ebddfdbc"
      },
      "outputs": [],
      "source": [
        "from surprise import BaselineOnly, Reader, Dataset"
      ]
    },
    {
      "cell_type": "code",
      "execution_count": null,
      "id": "c3781106",
      "metadata": {
        "id": "c3781106"
      },
      "outputs": [],
      "source": [
        "def get_ratings(predictions):\n",
        "    actual = np.array([pred.r_ui for pred in predictions])\n",
        "    pred = np.array([pred.est for pred in predictions])\n",
        "\n",
        "    return actual, pred\n",
        "\n",
        "def get_errors(predictions, print_them=False):\n",
        "\n",
        "    actual, pred = get_ratings(predictions)\n",
        "    mse = np.mean((pred - actual)**2)\n",
        "    rmse = np.sqrt(np.mean((pred - actual)**2))\n",
        "    mape = np.mean(np.abs(pred - actual)/actual)\n",
        "\n",
        "    return mse, rmse, mape*100\n",
        "\n",
        "# It returns two dictionaries, one for train and the other is for test\n",
        "# Each of them have 3 key-value pairs, which specify ''rmse'', ''mape'', and ''predicted ratings''\n",
        "def run_surprise(algo, trainset, testset, verbose=True):\n",
        "    start = datetime.now()\n",
        "\n",
        "    train = dict()\n",
        "    test = dict()\n",
        "\n",
        "    st = datetime.now()\n",
        "    print('Training the model...')\n",
        "    algo.fit(trainset)\n",
        "    print('Done. time taken : {} \\n'.format(datetime.now()-st))\n",
        "\n",
        "\n",
        "    st = datetime.now()\n",
        "    print('Evaluating the model with train data..')\n",
        "    train_preds = algo.test(trainset.build_testset())\n",
        "    train_actual_ratings, train_pred_ratings = get_ratings(train_preds)\n",
        "    train_mse, train_rmse, train_mape = get_errors(train_preds)\n",
        "    print('time taken : {}'.format(datetime.now()-st))\n",
        "\n",
        "    if verbose:\n",
        "        print('-'*15)\n",
        "        print('Train Data')\n",
        "        print('-'*15)\n",
        "        print(\"MSE: {}\\n\\nRMSE : {}\\n\\nMAPE : {}\\n\".format(train_mse, train_rmse, train_mape))\n",
        "\n",
        "    if verbose:\n",
        "        print('adding train results in the dictionary..')\n",
        "    train['mse'] = train_mse\n",
        "    train['rmse'] = train_rmse\n",
        "    train['mape'] = train_mape\n",
        "    train['predictions'] = train_pred_ratings\n",
        "\n",
        "\n",
        "    st = datetime.now()\n",
        "    print('\\nEvaluating for test data...')\n",
        "    test_preds = algo.test(testset)\n",
        "    test_actual_ratings, test_pred_ratings = get_ratings(test_preds)\n",
        "    test_mse, test_rmse, test_mape = get_errors(test_preds)\n",
        "    print('time taken : {}'.format(datetime.now()-st))\n",
        "\n",
        "    if verbose:\n",
        "        print('-'*15)\n",
        "        print('Test Data')\n",
        "        print('-'*15)\n",
        "        print(\"MSE: {}\\n\\nRMSE : {}\\n\\nMAPE : {}\\n\".format(test_mse, test_rmse, test_mape))\n",
        "\n",
        "    if verbose:\n",
        "        print('storing the test results in test dictionary...')\n",
        "    test['mse'] = test_mse\n",
        "    test['rmse'] = test_rmse\n",
        "    test['mape'] = test_mape\n",
        "    test['predictions'] = test_pred_ratings\n",
        "\n",
        "    print('\\n'+'-'*45)\n",
        "    print('Total time taken to run this algorithm :', datetime.now() - start)\n",
        "\n",
        "    return train, test"
      ]
    },
    {
      "cell_type": "code",
      "execution_count": null,
      "id": "daed58bb",
      "metadata": {
        "id": "daed58bb"
      },
      "outputs": [],
      "source": [
        "# It is to specify how to read the dataframe.\n",
        "# for our dataframe, we don't have to specify anything extra..\n",
        "reader = Reader(rating_scale=(1,5))\n",
        "\n",
        "# create the traindata from the dataframe...\n",
        "train_data = Dataset.load_from_df(reg_train_df[['User_ID', 'Movie_ID', 'Rating']], reader)\n",
        "\n",
        "# build the trainset from traindata.., It is of dataset format from surprise library..\n",
        "trainset = train_data.build_full_trainset()"
      ]
    },
    {
      "cell_type": "code",
      "execution_count": null,
      "id": "8fe4b8fd",
      "metadata": {
        "colab": {
          "base_uri": "https://localhost:8080/"
        },
        "id": "8fe4b8fd",
        "outputId": "e0072425-8cfd-4a1d-ea82-b3ffcc9901e9"
      },
      "outputs": [
        {
          "data": {
            "text/plain": [
              "[(10, 2578, 3), (10, 2782, 4), (10, 4345, 4)]"
            ]
          },
          "execution_count": 47,
          "metadata": {},
          "output_type": "execute_result"
        }
      ],
      "source": [
        "testset = list(zip(reg_test_df.User_ID.values, reg_test_df.Movie_ID.values, reg_test_df.Rating.values))\n",
        "testset[:3]"
      ]
    },
    {
      "cell_type": "code",
      "execution_count": null,
      "id": "1a7dd687",
      "metadata": {
        "colab": {
          "base_uri": "https://localhost:8080/"
        },
        "id": "1a7dd687",
        "outputId": "c87fe6c3-9865-4b5d-8de7-cb34e6648b50"
      },
      "outputs": [
        {
          "name": "stdout",
          "output_type": "stream",
          "text": [
            "Training the model...\n",
            "Estimating biases using sgd...\n",
            "Done. time taken : 0:00:00.052675 \n",
            "\n",
            "Evaluating the model with train data..\n",
            "time taken : 0:00:00.036758\n",
            "---------------\n",
            "Train Data\n",
            "---------------\n",
            "MSE: 0.7460461341858894\n",
            "\n",
            "RMSE : 0.863739621752927\n",
            "\n",
            "MAPE : 25.59809607448116\n",
            "\n",
            "adding train results in the dictionary..\n",
            "\n",
            "Evaluating for test data...\n",
            "time taken : 0:00:00.036783\n",
            "---------------\n",
            "Test Data\n",
            "---------------\n",
            "MSE: 1.1788517784116161\n",
            "\n",
            "RMSE : 1.0857494086627983\n",
            "\n",
            "MAPE : 35.59194232990917\n",
            "\n",
            "storing the test results in test dictionary...\n",
            "\n",
            "---------------------------------------------\n",
            "Total time taken to run this algorithm : 0:00:00.130422\n"
          ]
        }
      ],
      "source": [
        "bsl_options = {'method': 'sgd',\n",
        "               'learning_rate': 0.01,\n",
        "               }\n",
        "bsl_algo = BaselineOnly(bsl_options=bsl_options)\n",
        "bsl_train_results, bsl_test_results = run_surprise(bsl_algo, trainset, testset, verbose=True)"
      ]
    },
    {
      "cell_type": "markdown",
      "id": "ob9caods_2Mn",
      "metadata": {
        "id": "ob9caods_2Mn"
      },
      "source": [
        "#### Hyperparameter tuning\n",
        "\n",
        "We can call the BaselineOnly model for different Learning Rates. After experimenting with it, the following errors could be found:\n",
        "\n",
        "| Learning Rate | Mean Squared Error |\n",
        "|:---------|:--------:|\n",
        "|  0.001   |  1.184479  |\n",
        "|  0.01   |  1.178852   |\n",
        "|  0.1   |  1.180751   |\n",
        "|  0.5   |  1.219276   |\n",
        "\n",
        "\n",
        "We can see that for learning rate of 0.01 we get the best perfomace of the model. So wee keep that hyperparameter.\n",
        "\n"
      ]
    },
    {
      "cell_type": "markdown",
      "id": "6e335e33",
      "metadata": {
        "id": "6e335e33"
      },
      "source": [
        "# 14. XGBoost with initial 13 features + Surprise Baseline predictor\n",
        "\n",
        "After running the baseline model, now we are going to use its predictions as a feature/input for the XGBoost model."
      ]
    },
    {
      "cell_type": "code",
      "execution_count": null,
      "id": "b64f0157",
      "metadata": {
        "colab": {
          "base_uri": "https://localhost:8080/",
          "height": 207
        },
        "id": "b64f0157",
        "outputId": "c1fdeacf-277c-4958-e840-bfc401505930"
      },
      "outputs": [
        {
          "data": {
            "text/html": [
              "\n",
              "  <div id=\"df-fb0171d6-2399-418a-a1f6-281b7f67d966\" class=\"colab-df-container\">\n",
              "    <div>\n",
              "<style scoped>\n",
              "    .dataframe tbody tr th:only-of-type {\n",
              "        vertical-align: middle;\n",
              "    }\n",
              "\n",
              "    .dataframe tbody tr th {\n",
              "        vertical-align: top;\n",
              "    }\n",
              "\n",
              "    .dataframe thead th {\n",
              "        text-align: right;\n",
              "    }\n",
              "</style>\n",
              "<table border=\"1\" class=\"dataframe\">\n",
              "  <thead>\n",
              "    <tr style=\"text-align: right;\">\n",
              "      <th></th>\n",
              "      <th>User_ID</th>\n",
              "      <th>Movie_ID</th>\n",
              "      <th>GAvg</th>\n",
              "      <th>sur1</th>\n",
              "      <th>sur2</th>\n",
              "      <th>sur3</th>\n",
              "      <th>sur4</th>\n",
              "      <th>sur5</th>\n",
              "      <th>smr1</th>\n",
              "      <th>smr2</th>\n",
              "      <th>smr3</th>\n",
              "      <th>smr4</th>\n",
              "      <th>smr5</th>\n",
              "      <th>UAvg</th>\n",
              "      <th>MAvg</th>\n",
              "      <th>Rating</th>\n",
              "      <th>bslpr</th>\n",
              "    </tr>\n",
              "  </thead>\n",
              "  <tbody>\n",
              "    <tr>\n",
              "      <th>0</th>\n",
              "      <td>10</td>\n",
              "      <td>571</td>\n",
              "      <td>3.714603</td>\n",
              "      <td>3.0</td>\n",
              "      <td>5.0</td>\n",
              "      <td>5.0</td>\n",
              "      <td>5.0</td>\n",
              "      <td>3.0</td>\n",
              "      <td>4.0</td>\n",
              "      <td>4.0</td>\n",
              "      <td>3.0</td>\n",
              "      <td>5.0</td>\n",
              "      <td>4.0</td>\n",
              "      <td>3.615385</td>\n",
              "      <td>3.95122</td>\n",
              "      <td>4</td>\n",
              "      <td>3.836182</td>\n",
              "    </tr>\n",
              "    <tr>\n",
              "      <th>1</th>\n",
              "      <td>10</td>\n",
              "      <td>1744</td>\n",
              "      <td>3.714603</td>\n",
              "      <td>5.0</td>\n",
              "      <td>4.0</td>\n",
              "      <td>4.0</td>\n",
              "      <td>3.0</td>\n",
              "      <td>3.0</td>\n",
              "      <td>4.0</td>\n",
              "      <td>5.0</td>\n",
              "      <td>4.0</td>\n",
              "      <td>4.0</td>\n",
              "      <td>4.0</td>\n",
              "      <td>3.615385</td>\n",
              "      <td>3.96875</td>\n",
              "      <td>3</td>\n",
              "      <td>3.700792</td>\n",
              "    </tr>\n",
              "  </tbody>\n",
              "</table>\n",
              "</div>\n",
              "    <div class=\"colab-df-buttons\">\n",
              "\n",
              "  <div class=\"colab-df-container\">\n",
              "    <button class=\"colab-df-convert\" onclick=\"convertToInteractive('df-fb0171d6-2399-418a-a1f6-281b7f67d966')\"\n",
              "            title=\"Convert this dataframe to an interactive table.\"\n",
              "            style=\"display:none;\">\n",
              "\n",
              "  <svg xmlns=\"http://www.w3.org/2000/svg\" height=\"24px\" viewBox=\"0 -960 960 960\">\n",
              "    <path d=\"M120-120v-720h720v720H120Zm60-500h600v-160H180v160Zm220 220h160v-160H400v160Zm0 220h160v-160H400v160ZM180-400h160v-160H180v160Zm440 0h160v-160H620v160ZM180-180h160v-160H180v160Zm440 0h160v-160H620v160Z\"/>\n",
              "  </svg>\n",
              "    </button>\n",
              "\n",
              "  <style>\n",
              "    .colab-df-container {\n",
              "      display:flex;\n",
              "      gap: 12px;\n",
              "    }\n",
              "\n",
              "    .colab-df-convert {\n",
              "      background-color: #E8F0FE;\n",
              "      border: none;\n",
              "      border-radius: 50%;\n",
              "      cursor: pointer;\n",
              "      display: none;\n",
              "      fill: #1967D2;\n",
              "      height: 32px;\n",
              "      padding: 0 0 0 0;\n",
              "      width: 32px;\n",
              "    }\n",
              "\n",
              "    .colab-df-convert:hover {\n",
              "      background-color: #E2EBFA;\n",
              "      box-shadow: 0px 1px 2px rgba(60, 64, 67, 0.3), 0px 1px 3px 1px rgba(60, 64, 67, 0.15);\n",
              "      fill: #174EA6;\n",
              "    }\n",
              "\n",
              "    .colab-df-buttons div {\n",
              "      margin-bottom: 4px;\n",
              "    }\n",
              "\n",
              "    [theme=dark] .colab-df-convert {\n",
              "      background-color: #3B4455;\n",
              "      fill: #D2E3FC;\n",
              "    }\n",
              "\n",
              "    [theme=dark] .colab-df-convert:hover {\n",
              "      background-color: #434B5C;\n",
              "      box-shadow: 0px 1px 3px 1px rgba(0, 0, 0, 0.15);\n",
              "      filter: drop-shadow(0px 1px 2px rgba(0, 0, 0, 0.3));\n",
              "      fill: #FFFFFF;\n",
              "    }\n",
              "  </style>\n",
              "\n",
              "    <script>\n",
              "      const buttonEl =\n",
              "        document.querySelector('#df-fb0171d6-2399-418a-a1f6-281b7f67d966 button.colab-df-convert');\n",
              "      buttonEl.style.display =\n",
              "        google.colab.kernel.accessAllowed ? 'block' : 'none';\n",
              "\n",
              "      async function convertToInteractive(key) {\n",
              "        const element = document.querySelector('#df-fb0171d6-2399-418a-a1f6-281b7f67d966');\n",
              "        const dataTable =\n",
              "          await google.colab.kernel.invokeFunction('convertToInteractive',\n",
              "                                                    [key], {});\n",
              "        if (!dataTable) return;\n",
              "\n",
              "        const docLinkHtml = 'Like what you see? Visit the ' +\n",
              "          '<a target=\"_blank\" href=https://colab.research.google.com/notebooks/data_table.ipynb>data table notebook</a>'\n",
              "          + ' to learn more about interactive tables.';\n",
              "        element.innerHTML = '';\n",
              "        dataTable['output_type'] = 'display_data';\n",
              "        await google.colab.output.renderOutput(dataTable, element);\n",
              "        const docLink = document.createElement('div');\n",
              "        docLink.innerHTML = docLinkHtml;\n",
              "        element.appendChild(docLink);\n",
              "      }\n",
              "    </script>\n",
              "  </div>\n",
              "\n",
              "\n",
              "<div id=\"df-21c160e5-6d1f-4fc4-a7c7-61b70967543c\">\n",
              "  <button class=\"colab-df-quickchart\" onclick=\"quickchart('df-21c160e5-6d1f-4fc4-a7c7-61b70967543c')\"\n",
              "            title=\"Suggest charts\"\n",
              "            style=\"display:none;\">\n",
              "\n",
              "<svg xmlns=\"http://www.w3.org/2000/svg\" height=\"24px\"viewBox=\"0 0 24 24\"\n",
              "     width=\"24px\">\n",
              "    <g>\n",
              "        <path d=\"M19 3H5c-1.1 0-2 .9-2 2v14c0 1.1.9 2 2 2h14c1.1 0 2-.9 2-2V5c0-1.1-.9-2-2-2zM9 17H7v-7h2v7zm4 0h-2V7h2v10zm4 0h-2v-4h2v4z\"/>\n",
              "    </g>\n",
              "</svg>\n",
              "  </button>\n",
              "\n",
              "<style>\n",
              "  .colab-df-quickchart {\n",
              "      --bg-color: #E8F0FE;\n",
              "      --fill-color: #1967D2;\n",
              "      --hover-bg-color: #E2EBFA;\n",
              "      --hover-fill-color: #174EA6;\n",
              "      --disabled-fill-color: #AAA;\n",
              "      --disabled-bg-color: #DDD;\n",
              "  }\n",
              "\n",
              "  [theme=dark] .colab-df-quickchart {\n",
              "      --bg-color: #3B4455;\n",
              "      --fill-color: #D2E3FC;\n",
              "      --hover-bg-color: #434B5C;\n",
              "      --hover-fill-color: #FFFFFF;\n",
              "      --disabled-bg-color: #3B4455;\n",
              "      --disabled-fill-color: #666;\n",
              "  }\n",
              "\n",
              "  .colab-df-quickchart {\n",
              "    background-color: var(--bg-color);\n",
              "    border: none;\n",
              "    border-radius: 50%;\n",
              "    cursor: pointer;\n",
              "    display: none;\n",
              "    fill: var(--fill-color);\n",
              "    height: 32px;\n",
              "    padding: 0;\n",
              "    width: 32px;\n",
              "  }\n",
              "\n",
              "  .colab-df-quickchart:hover {\n",
              "    background-color: var(--hover-bg-color);\n",
              "    box-shadow: 0 1px 2px rgba(60, 64, 67, 0.3), 0 1px 3px 1px rgba(60, 64, 67, 0.15);\n",
              "    fill: var(--button-hover-fill-color);\n",
              "  }\n",
              "\n",
              "  .colab-df-quickchart-complete:disabled,\n",
              "  .colab-df-quickchart-complete:disabled:hover {\n",
              "    background-color: var(--disabled-bg-color);\n",
              "    fill: var(--disabled-fill-color);\n",
              "    box-shadow: none;\n",
              "  }\n",
              "\n",
              "  .colab-df-spinner {\n",
              "    border: 2px solid var(--fill-color);\n",
              "    border-color: transparent;\n",
              "    border-bottom-color: var(--fill-color);\n",
              "    animation:\n",
              "      spin 1s steps(1) infinite;\n",
              "  }\n",
              "\n",
              "  @keyframes spin {\n",
              "    0% {\n",
              "      border-color: transparent;\n",
              "      border-bottom-color: var(--fill-color);\n",
              "      border-left-color: var(--fill-color);\n",
              "    }\n",
              "    20% {\n",
              "      border-color: transparent;\n",
              "      border-left-color: var(--fill-color);\n",
              "      border-top-color: var(--fill-color);\n",
              "    }\n",
              "    30% {\n",
              "      border-color: transparent;\n",
              "      border-left-color: var(--fill-color);\n",
              "      border-top-color: var(--fill-color);\n",
              "      border-right-color: var(--fill-color);\n",
              "    }\n",
              "    40% {\n",
              "      border-color: transparent;\n",
              "      border-right-color: var(--fill-color);\n",
              "      border-top-color: var(--fill-color);\n",
              "    }\n",
              "    60% {\n",
              "      border-color: transparent;\n",
              "      border-right-color: var(--fill-color);\n",
              "    }\n",
              "    80% {\n",
              "      border-color: transparent;\n",
              "      border-right-color: var(--fill-color);\n",
              "      border-bottom-color: var(--fill-color);\n",
              "    }\n",
              "    90% {\n",
              "      border-color: transparent;\n",
              "      border-bottom-color: var(--fill-color);\n",
              "    }\n",
              "  }\n",
              "</style>\n",
              "\n",
              "  <script>\n",
              "    async function quickchart(key) {\n",
              "      const quickchartButtonEl =\n",
              "        document.querySelector('#' + key + ' button');\n",
              "      quickchartButtonEl.disabled = true;  // To prevent multiple clicks.\n",
              "      quickchartButtonEl.classList.add('colab-df-spinner');\n",
              "      try {\n",
              "        const charts = await google.colab.kernel.invokeFunction(\n",
              "            'suggestCharts', [key], {});\n",
              "      } catch (error) {\n",
              "        console.error('Error during call to suggestCharts:', error);\n",
              "      }\n",
              "      quickchartButtonEl.classList.remove('colab-df-spinner');\n",
              "      quickchartButtonEl.classList.add('colab-df-quickchart-complete');\n",
              "    }\n",
              "    (() => {\n",
              "      let quickchartButtonEl =\n",
              "        document.querySelector('#df-21c160e5-6d1f-4fc4-a7c7-61b70967543c button');\n",
              "      quickchartButtonEl.style.display =\n",
              "        google.colab.kernel.accessAllowed ? 'block' : 'none';\n",
              "    })();\n",
              "  </script>\n",
              "</div>\n",
              "    </div>\n",
              "  </div>\n"
            ],
            "text/plain": [
              "   User_ID  Movie_ID      GAvg  sur1  sur2  sur3  sur4  sur5  smr1  smr2  \\\n",
              "0       10       571  3.714603   3.0   5.0   5.0   5.0   3.0   4.0   4.0   \n",
              "1       10      1744  3.714603   5.0   4.0   4.0   3.0   3.0   4.0   5.0   \n",
              "\n",
              "   smr3  smr4  smr5      UAvg     MAvg  Rating     bslpr  \n",
              "0   3.0   5.0   4.0  3.615385  3.95122       4  3.836182  \n",
              "1   4.0   4.0   4.0  3.615385  3.96875       3  3.700792  "
            ]
          },
          "metadata": {},
          "output_type": "display_data"
        },
        {
          "data": {
            "text/html": [
              "\n",
              "  <div id=\"df-5c227538-9329-494d-ad5a-0798261c31f8\" class=\"colab-df-container\">\n",
              "    <div>\n",
              "<style scoped>\n",
              "    .dataframe tbody tr th:only-of-type {\n",
              "        vertical-align: middle;\n",
              "    }\n",
              "\n",
              "    .dataframe tbody tr th {\n",
              "        vertical-align: top;\n",
              "    }\n",
              "\n",
              "    .dataframe thead th {\n",
              "        text-align: right;\n",
              "    }\n",
              "</style>\n",
              "<table border=\"1\" class=\"dataframe\">\n",
              "  <thead>\n",
              "    <tr style=\"text-align: right;\">\n",
              "      <th></th>\n",
              "      <th>User_ID</th>\n",
              "      <th>Movie_ID</th>\n",
              "      <th>GAvg</th>\n",
              "      <th>sur1</th>\n",
              "      <th>sur2</th>\n",
              "      <th>sur3</th>\n",
              "      <th>sur4</th>\n",
              "      <th>sur5</th>\n",
              "      <th>smr1</th>\n",
              "      <th>smr2</th>\n",
              "      <th>smr3</th>\n",
              "      <th>smr4</th>\n",
              "      <th>smr5</th>\n",
              "      <th>UAvg</th>\n",
              "      <th>MAvg</th>\n",
              "      <th>Rating</th>\n",
              "      <th>bslpr</th>\n",
              "    </tr>\n",
              "  </thead>\n",
              "  <tbody>\n",
              "    <tr>\n",
              "      <th>0</th>\n",
              "      <td>10</td>\n",
              "      <td>2578</td>\n",
              "      <td>3.615986</td>\n",
              "      <td>3.0</td>\n",
              "      <td>5.0</td>\n",
              "      <td>4.0</td>\n",
              "      <td>3.0</td>\n",
              "      <td>5.0</td>\n",
              "      <td>1.0</td>\n",
              "      <td>3.0</td>\n",
              "      <td>4.0</td>\n",
              "      <td>5.0</td>\n",
              "      <td>3.0</td>\n",
              "      <td>3.285714</td>\n",
              "      <td>3.714286</td>\n",
              "      <td>3</td>\n",
              "      <td>3.498141</td>\n",
              "    </tr>\n",
              "    <tr>\n",
              "      <th>1</th>\n",
              "      <td>10</td>\n",
              "      <td>2782</td>\n",
              "      <td>3.615986</td>\n",
              "      <td>4.0</td>\n",
              "      <td>5.0</td>\n",
              "      <td>5.0</td>\n",
              "      <td>5.0</td>\n",
              "      <td>5.0</td>\n",
              "      <td>5.0</td>\n",
              "      <td>4.0</td>\n",
              "      <td>1.0</td>\n",
              "      <td>3.0</td>\n",
              "      <td>3.0</td>\n",
              "      <td>3.285714</td>\n",
              "      <td>4.714286</td>\n",
              "      <td>4</td>\n",
              "      <td>3.498141</td>\n",
              "    </tr>\n",
              "  </tbody>\n",
              "</table>\n",
              "</div>\n",
              "    <div class=\"colab-df-buttons\">\n",
              "\n",
              "  <div class=\"colab-df-container\">\n",
              "    <button class=\"colab-df-convert\" onclick=\"convertToInteractive('df-5c227538-9329-494d-ad5a-0798261c31f8')\"\n",
              "            title=\"Convert this dataframe to an interactive table.\"\n",
              "            style=\"display:none;\">\n",
              "\n",
              "  <svg xmlns=\"http://www.w3.org/2000/svg\" height=\"24px\" viewBox=\"0 -960 960 960\">\n",
              "    <path d=\"M120-120v-720h720v720H120Zm60-500h600v-160H180v160Zm220 220h160v-160H400v160Zm0 220h160v-160H400v160ZM180-400h160v-160H180v160Zm440 0h160v-160H620v160ZM180-180h160v-160H180v160Zm440 0h160v-160H620v160Z\"/>\n",
              "  </svg>\n",
              "    </button>\n",
              "\n",
              "  <style>\n",
              "    .colab-df-container {\n",
              "      display:flex;\n",
              "      gap: 12px;\n",
              "    }\n",
              "\n",
              "    .colab-df-convert {\n",
              "      background-color: #E8F0FE;\n",
              "      border: none;\n",
              "      border-radius: 50%;\n",
              "      cursor: pointer;\n",
              "      display: none;\n",
              "      fill: #1967D2;\n",
              "      height: 32px;\n",
              "      padding: 0 0 0 0;\n",
              "      width: 32px;\n",
              "    }\n",
              "\n",
              "    .colab-df-convert:hover {\n",
              "      background-color: #E2EBFA;\n",
              "      box-shadow: 0px 1px 2px rgba(60, 64, 67, 0.3), 0px 1px 3px 1px rgba(60, 64, 67, 0.15);\n",
              "      fill: #174EA6;\n",
              "    }\n",
              "\n",
              "    .colab-df-buttons div {\n",
              "      margin-bottom: 4px;\n",
              "    }\n",
              "\n",
              "    [theme=dark] .colab-df-convert {\n",
              "      background-color: #3B4455;\n",
              "      fill: #D2E3FC;\n",
              "    }\n",
              "\n",
              "    [theme=dark] .colab-df-convert:hover {\n",
              "      background-color: #434B5C;\n",
              "      box-shadow: 0px 1px 3px 1px rgba(0, 0, 0, 0.15);\n",
              "      filter: drop-shadow(0px 1px 2px rgba(0, 0, 0, 0.3));\n",
              "      fill: #FFFFFF;\n",
              "    }\n",
              "  </style>\n",
              "\n",
              "    <script>\n",
              "      const buttonEl =\n",
              "        document.querySelector('#df-5c227538-9329-494d-ad5a-0798261c31f8 button.colab-df-convert');\n",
              "      buttonEl.style.display =\n",
              "        google.colab.kernel.accessAllowed ? 'block' : 'none';\n",
              "\n",
              "      async function convertToInteractive(key) {\n",
              "        const element = document.querySelector('#df-5c227538-9329-494d-ad5a-0798261c31f8');\n",
              "        const dataTable =\n",
              "          await google.colab.kernel.invokeFunction('convertToInteractive',\n",
              "                                                    [key], {});\n",
              "        if (!dataTable) return;\n",
              "\n",
              "        const docLinkHtml = 'Like what you see? Visit the ' +\n",
              "          '<a target=\"_blank\" href=https://colab.research.google.com/notebooks/data_table.ipynb>data table notebook</a>'\n",
              "          + ' to learn more about interactive tables.';\n",
              "        element.innerHTML = '';\n",
              "        dataTable['output_type'] = 'display_data';\n",
              "        await google.colab.output.renderOutput(dataTable, element);\n",
              "        const docLink = document.createElement('div');\n",
              "        docLink.innerHTML = docLinkHtml;\n",
              "        element.appendChild(docLink);\n",
              "      }\n",
              "    </script>\n",
              "  </div>\n",
              "\n",
              "\n",
              "<div id=\"df-0a98d3d3-99c7-46ca-8ae9-973fb38ceadc\">\n",
              "  <button class=\"colab-df-quickchart\" onclick=\"quickchart('df-0a98d3d3-99c7-46ca-8ae9-973fb38ceadc')\"\n",
              "            title=\"Suggest charts\"\n",
              "            style=\"display:none;\">\n",
              "\n",
              "<svg xmlns=\"http://www.w3.org/2000/svg\" height=\"24px\"viewBox=\"0 0 24 24\"\n",
              "     width=\"24px\">\n",
              "    <g>\n",
              "        <path d=\"M19 3H5c-1.1 0-2 .9-2 2v14c0 1.1.9 2 2 2h14c1.1 0 2-.9 2-2V5c0-1.1-.9-2-2-2zM9 17H7v-7h2v7zm4 0h-2V7h2v10zm4 0h-2v-4h2v4z\"/>\n",
              "    </g>\n",
              "</svg>\n",
              "  </button>\n",
              "\n",
              "<style>\n",
              "  .colab-df-quickchart {\n",
              "      --bg-color: #E8F0FE;\n",
              "      --fill-color: #1967D2;\n",
              "      --hover-bg-color: #E2EBFA;\n",
              "      --hover-fill-color: #174EA6;\n",
              "      --disabled-fill-color: #AAA;\n",
              "      --disabled-bg-color: #DDD;\n",
              "  }\n",
              "\n",
              "  [theme=dark] .colab-df-quickchart {\n",
              "      --bg-color: #3B4455;\n",
              "      --fill-color: #D2E3FC;\n",
              "      --hover-bg-color: #434B5C;\n",
              "      --hover-fill-color: #FFFFFF;\n",
              "      --disabled-bg-color: #3B4455;\n",
              "      --disabled-fill-color: #666;\n",
              "  }\n",
              "\n",
              "  .colab-df-quickchart {\n",
              "    background-color: var(--bg-color);\n",
              "    border: none;\n",
              "    border-radius: 50%;\n",
              "    cursor: pointer;\n",
              "    display: none;\n",
              "    fill: var(--fill-color);\n",
              "    height: 32px;\n",
              "    padding: 0;\n",
              "    width: 32px;\n",
              "  }\n",
              "\n",
              "  .colab-df-quickchart:hover {\n",
              "    background-color: var(--hover-bg-color);\n",
              "    box-shadow: 0 1px 2px rgba(60, 64, 67, 0.3), 0 1px 3px 1px rgba(60, 64, 67, 0.15);\n",
              "    fill: var(--button-hover-fill-color);\n",
              "  }\n",
              "\n",
              "  .colab-df-quickchart-complete:disabled,\n",
              "  .colab-df-quickchart-complete:disabled:hover {\n",
              "    background-color: var(--disabled-bg-color);\n",
              "    fill: var(--disabled-fill-color);\n",
              "    box-shadow: none;\n",
              "  }\n",
              "\n",
              "  .colab-df-spinner {\n",
              "    border: 2px solid var(--fill-color);\n",
              "    border-color: transparent;\n",
              "    border-bottom-color: var(--fill-color);\n",
              "    animation:\n",
              "      spin 1s steps(1) infinite;\n",
              "  }\n",
              "\n",
              "  @keyframes spin {\n",
              "    0% {\n",
              "      border-color: transparent;\n",
              "      border-bottom-color: var(--fill-color);\n",
              "      border-left-color: var(--fill-color);\n",
              "    }\n",
              "    20% {\n",
              "      border-color: transparent;\n",
              "      border-left-color: var(--fill-color);\n",
              "      border-top-color: var(--fill-color);\n",
              "    }\n",
              "    30% {\n",
              "      border-color: transparent;\n",
              "      border-left-color: var(--fill-color);\n",
              "      border-top-color: var(--fill-color);\n",
              "      border-right-color: var(--fill-color);\n",
              "    }\n",
              "    40% {\n",
              "      border-color: transparent;\n",
              "      border-right-color: var(--fill-color);\n",
              "      border-top-color: var(--fill-color);\n",
              "    }\n",
              "    60% {\n",
              "      border-color: transparent;\n",
              "      border-right-color: var(--fill-color);\n",
              "    }\n",
              "    80% {\n",
              "      border-color: transparent;\n",
              "      border-right-color: var(--fill-color);\n",
              "      border-bottom-color: var(--fill-color);\n",
              "    }\n",
              "    90% {\n",
              "      border-color: transparent;\n",
              "      border-bottom-color: var(--fill-color);\n",
              "    }\n",
              "  }\n",
              "</style>\n",
              "\n",
              "  <script>\n",
              "    async function quickchart(key) {\n",
              "      const quickchartButtonEl =\n",
              "        document.querySelector('#' + key + ' button');\n",
              "      quickchartButtonEl.disabled = true;  // To prevent multiple clicks.\n",
              "      quickchartButtonEl.classList.add('colab-df-spinner');\n",
              "      try {\n",
              "        const charts = await google.colab.kernel.invokeFunction(\n",
              "            'suggestCharts', [key], {});\n",
              "      } catch (error) {\n",
              "        console.error('Error during call to suggestCharts:', error);\n",
              "      }\n",
              "      quickchartButtonEl.classList.remove('colab-df-spinner');\n",
              "      quickchartButtonEl.classList.add('colab-df-quickchart-complete');\n",
              "    }\n",
              "    (() => {\n",
              "      let quickchartButtonEl =\n",
              "        document.querySelector('#df-0a98d3d3-99c7-46ca-8ae9-973fb38ceadc button');\n",
              "      quickchartButtonEl.style.display =\n",
              "        google.colab.kernel.accessAllowed ? 'block' : 'none';\n",
              "    })();\n",
              "  </script>\n",
              "</div>\n",
              "    </div>\n",
              "  </div>\n"
            ],
            "text/plain": [
              "   User_ID  Movie_ID      GAvg  sur1  sur2  sur3  sur4  sur5  smr1  smr2  \\\n",
              "0       10      2578  3.615986   3.0   5.0   4.0   3.0   5.0   1.0   3.0   \n",
              "1       10      2782  3.615986   4.0   5.0   5.0   5.0   5.0   5.0   4.0   \n",
              "\n",
              "   smr3  smr4  smr5      UAvg      MAvg  Rating     bslpr  \n",
              "0   4.0   5.0   3.0  3.285714  3.714286       3  3.498141  \n",
              "1   1.0   3.0   3.0  3.285714  4.714286       4  3.498141  "
            ]
          },
          "execution_count": 57,
          "metadata": {},
          "output_type": "execute_result"
        }
      ],
      "source": [
        "# add our baseline_predicted value as our feature\n",
        "reg_train_df['bslpr'] = bsl_train_results['predictions']\n",
        "display(reg_train_df.head(2))\n",
        "\n",
        "reg_test_df['bslpr']  = bsl_test_results['predictions']\n",
        "reg_test_df.head(2)"
      ]
    },
    {
      "cell_type": "code",
      "execution_count": null,
      "id": "2edc4594",
      "metadata": {
        "colab": {
          "base_uri": "https://localhost:8080/",
          "height": 822
        },
        "id": "2edc4594",
        "outputId": "abd7a0c5-d657-4f2e-9193-e2186218f723"
      },
      "outputs": [
        {
          "name": "stdout",
          "output_type": "stream",
          "text": [
            "Training the model..\n"
          ]
        },
        {
          "name": "stderr",
          "output_type": "stream",
          "text": [
            "/usr/local/lib/python3.10/dist-packages/xgboost/sklearn.py:889: UserWarning: `eval_metric` in `fit` method is deprecated for better compatibility with scikit-learn, use `eval_metric` in constructor or`set_params` instead.\n",
            "  warnings.warn(\n",
            "/usr/local/lib/python3.10/dist-packages/xgboost/core.py:160: UserWarning: [13:57:50] WARNING: /workspace/src/learner.cc:742: \n",
            "Parameters: { \"silent\" } are not used.\n",
            "\n",
            "  warnings.warn(smsg, UserWarning)\n"
          ]
        },
        {
          "name": "stdout",
          "output_type": "stream",
          "text": [
            "Done. Time taken : 0:00:01.094316\n",
            "\n",
            "Done \n",
            "\n",
            "Evaluating the model with TRAIN data...\n",
            "Evaluating Test data\n",
            "\n",
            "TEST DATA\n",
            "------------------------------\n",
            "MSE  :  0.9319350072906942\n",
            "RMSE :  0.9653678093300472\n",
            "MAPE :  29.08238336187101\n"
          ]
        },
        {
          "data": {
            "image/png": "[encoded data removed]",
            "text/plain": [
              "<Figure size 640x480 with 1 Axes>"
            ]
          },
          "metadata": {},
          "output_type": "display_data"
        }
      ],
      "source": [
        "# prepare train data\n",
        "X_train = reg_train_df.drop(['User_ID', 'Movie_ID','Rating'], axis=1)\n",
        "y_train = reg_train_df['Rating']\n",
        "\n",
        "# Prepare Test data\n",
        "X_test = reg_test_df.drop(['User_ID','Movie_ID','Rating'], axis=1)\n",
        "y_test = reg_test_df['Rating']\n",
        "\n",
        "# initialize Our first XGBoost model...\n",
        "xgb_bsl = xgb.XGBRegressor(silent=False, n_jobs=13, random_state=142, n_estimators=100)\n",
        "train_results, test_results = run_xgboost(xgb_bsl, X_train, y_train, X_test, y_test)\n",
        "\n",
        "xgb.plot_importance(xgb_bsl)\n",
        "plt.show()"
      ]
    },
    {
      "cell_type": "markdown",
      "source": [
        "Now, we have to compare this model's performance with XGBoost:\n",
        "\n",
        "| Model           |   Mean Squared Error   |\n",
        "|-----------------|------------------------|\n",
        "| XGBoost                 |        0.615071        |\n",
        "| XGBoost + Baseline      |        0.931935        |\n",
        "\n",
        "In our evaluation of the two models, we initially anticipated that the XGBoost + Baseline model would perform better than the XGBoost model, because of the extra information it was given. However, the XGBoost + Baseline's MSE is `worse` than the XBoost's."
      ],
      "metadata": {
        "id": "qtZgXRqnhzta"
      },
      "id": "qtZgXRqnhzta"
    },
    {
      "cell_type": "markdown",
      "id": "154c6556",
      "metadata": {
        "id": "154c6556"
      },
      "source": [
        "# 15. Neural Collaborative Filtering (NCF)\n",
        "\n",
        "In this segment, we are going to use a neural network in order to model the user-movie interactions. This type of recommendation system is called Neural Collaborative Filtering (NCF).\n",
        "\n",
        "NCF was introduced to address some of the limitations of traditional collaborative filtering methods, such as matrix factorization, by incorporating non-linearities and capturing complex patterns in user-item relationships.\n",
        "\n",
        "The layers of the neural network we are going to use, that we can also see in the plots below, are:\n",
        "\n",
        "---------------------------------------------------------------------------\n",
        "### User Layers\n",
        "- `User Input Layer`: a one-dimensional input layer that takes in the User_ID\n",
        "- `User Embedding Layer`: an embedding layer that converts the User_ID into a dense vector representation of size 10 (Latent Features)\n",
        "- `User Flattening Layer`: a flattening layer that flattens the output of the user embedding layer into a one-dimensional vector\n",
        "\n",
        "---------------------------------------------------------------------------\n",
        "### Movie Layers\n",
        "- `Movie Input Layer`: a one-dimensional input layer that takes in the Movie_ID\n",
        "- `Movie Embedding Layer`: an embedding layer that converts the Movie_ID into a dense vector representation of size 10 (Latent Features)\n",
        "- `Movie Flattening Layer`: a flattening layer that flattens the output of the user embedding layer into a one-dimensional vector\n",
        "\n",
        "---------------------------------------------------------------------------\n",
        "### Dot-Product Layers\n",
        "- `Dot-Product Layer (Concat)`: takes the flattened movie and user vectors and computes their dot product. This produces a single value that represents the similarity between the movie and user\n",
        "---------------------------------------------------------------------------\n",
        "### Dropout Layers\n",
        "- `Concut Dropout Layer`: introduces some randomness into the model by randomly setting some of the values in the output of the concat layer to zero. This helps to prevent overfitting\n",
        "- `FC Dropout Layers (3 layers)`: these layers are similar to concat dropout layer, but they are applied to the outputs of the Dense layers\n",
        "---------------------------------------------------------------------------\n",
        "### Dense Layers\n",
        "- `FC 1`: applies a fully connected layer with 100 units and a ReLU activation function to the output of the concat dropout layer\n",
        "- `FC 2`: another fully connected layer with 50 units and a ReLU activation function\n",
        "- `FC 3`: the final fully connected layer with 1 unit and a sigmoid activation function. This layer outputs the predicted rating for the movie and user\n"
      ]
    },
    {
      "cell_type": "code",
      "execution_count": null,
      "id": "8c87b9de",
      "metadata": {
        "id": "8c87b9de"
      },
      "outputs": [],
      "source": [
        "import keras\n",
        "import tensorflow as tf\n",
        "from keras.models import Model, Sequential\n",
        "from keras.layers import Embedding, Flatten, Input, Dropout, Dense, Dot\n",
        "from keras.optimizers import Adam\n",
        "from keras.utils import model_to_dot\n",
        "from keras.utils import plot_model\n",
        "from IPython.display import SVG"
      ]
    },
    {
      "cell_type": "code",
      "execution_count": null,
      "id": "fqk8hFhPJmNk",
      "metadata": {
        "colab": {
          "base_uri": "https://localhost:8080/",
          "height": 206
        },
        "id": "fqk8hFhPJmNk",
        "outputId": "b90fa618-3086-4252-cfcd-c2fa558c276d"
      },
      "outputs": [
        {
          "output_type": "execute_result",
          "data": {
            "text/plain": [
              "         User_ID  Movie_ID  Rating\n",
              "559140      8055      4801       3\n",
              "1014218    43185     14240       4\n",
              "1204689    43489      8387       5\n",
              "1121051    40031     11314       3\n",
              "842579     54870      4290       1"
            ],
            "text/html": [
              "\n",
              "  <div id=\"df-8aa0ee24-d377-4fe9-bf7d-89f5a25d6198\" class=\"colab-df-container\">\n",
              "    <div>\n",
              "<style scoped>\n",
              "    .dataframe tbody tr th:only-of-type {\n",
              "        vertical-align: middle;\n",
              "    }\n",
              "\n",
              "    .dataframe tbody tr th {\n",
              "        vertical-align: top;\n",
              "    }\n",
              "\n",
              "    .dataframe thead th {\n",
              "        text-align: right;\n",
              "    }\n",
              "</style>\n",
              "<table border=\"1\" class=\"dataframe\">\n",
              "  <thead>\n",
              "    <tr style=\"text-align: right;\">\n",
              "      <th></th>\n",
              "      <th>User_ID</th>\n",
              "      <th>Movie_ID</th>\n",
              "      <th>Rating</th>\n",
              "    </tr>\n",
              "  </thead>\n",
              "  <tbody>\n",
              "    <tr>\n",
              "      <th>559140</th>\n",
              "      <td>8055</td>\n",
              "      <td>4801</td>\n",
              "      <td>3</td>\n",
              "    </tr>\n",
              "    <tr>\n",
              "      <th>1014218</th>\n",
              "      <td>43185</td>\n",
              "      <td>14240</td>\n",
              "      <td>4</td>\n",
              "    </tr>\n",
              "    <tr>\n",
              "      <th>1204689</th>\n",
              "      <td>43489</td>\n",
              "      <td>8387</td>\n",
              "      <td>5</td>\n",
              "    </tr>\n",
              "    <tr>\n",
              "      <th>1121051</th>\n",
              "      <td>40031</td>\n",
              "      <td>11314</td>\n",
              "      <td>3</td>\n",
              "    </tr>\n",
              "    <tr>\n",
              "      <th>842579</th>\n",
              "      <td>54870</td>\n",
              "      <td>4290</td>\n",
              "      <td>1</td>\n",
              "    </tr>\n",
              "  </tbody>\n",
              "</table>\n",
              "</div>\n",
              "    <div class=\"colab-df-buttons\">\n",
              "\n",
              "  <div class=\"colab-df-container\">\n",
              "    <button class=\"colab-df-convert\" onclick=\"convertToInteractive('df-8aa0ee24-d377-4fe9-bf7d-89f5a25d6198')\"\n",
              "            title=\"Convert this dataframe to an interactive table.\"\n",
              "            style=\"display:none;\">\n",
              "\n",
              "  <svg xmlns=\"http://www.w3.org/2000/svg\" height=\"24px\" viewBox=\"0 -960 960 960\">\n",
              "    <path d=\"M120-120v-720h720v720H120Zm60-500h600v-160H180v160Zm220 220h160v-160H400v160Zm0 220h160v-160H400v160ZM180-400h160v-160H180v160Zm440 0h160v-160H620v160ZM180-180h160v-160H180v160Zm440 0h160v-160H620v160Z\"/>\n",
              "  </svg>\n",
              "    </button>\n",
              "\n",
              "  <style>\n",
              "    .colab-df-container {\n",
              "      display:flex;\n",
              "      gap: 12px;\n",
              "    }\n",
              "\n",
              "    .colab-df-convert {\n",
              "      background-color: #E8F0FE;\n",
              "      border: none;\n",
              "      border-radius: 50%;\n",
              "      cursor: pointer;\n",
              "      display: none;\n",
              "      fill: #1967D2;\n",
              "      height: 32px;\n",
              "      padding: 0 0 0 0;\n",
              "      width: 32px;\n",
              "    }\n",
              "\n",
              "    .colab-df-convert:hover {\n",
              "      background-color: #E2EBFA;\n",
              "      box-shadow: 0px 1px 2px rgba(60, 64, 67, 0.3), 0px 1px 3px 1px rgba(60, 64, 67, 0.15);\n",
              "      fill: #174EA6;\n",
              "    }\n",
              "\n",
              "    .colab-df-buttons div {\n",
              "      margin-bottom: 4px;\n",
              "    }\n",
              "\n",
              "    [theme=dark] .colab-df-convert {\n",
              "      background-color: #3B4455;\n",
              "      fill: #D2E3FC;\n",
              "    }\n",
              "\n",
              "    [theme=dark] .colab-df-convert:hover {\n",
              "      background-color: #434B5C;\n",
              "      box-shadow: 0px 1px 3px 1px rgba(0, 0, 0, 0.15);\n",
              "      filter: drop-shadow(0px 1px 2px rgba(0, 0, 0, 0.3));\n",
              "      fill: #FFFFFF;\n",
              "    }\n",
              "  </style>\n",
              "\n",
              "    <script>\n",
              "      const buttonEl =\n",
              "        document.querySelector('#df-8aa0ee24-d377-4fe9-bf7d-89f5a25d6198 button.colab-df-convert');\n",
              "      buttonEl.style.display =\n",
              "        google.colab.kernel.accessAllowed ? 'block' : 'none';\n",
              "\n",
              "      async function convertToInteractive(key) {\n",
              "        const element = document.querySelector('#df-8aa0ee24-d377-4fe9-bf7d-89f5a25d6198');\n",
              "        const dataTable =\n",
              "          await google.colab.kernel.invokeFunction('convertToInteractive',\n",
              "                                                    [key], {});\n",
              "        if (!dataTable) return;\n",
              "\n",
              "        const docLinkHtml = 'Like what you see? Visit the ' +\n",
              "          '<a target=\"_blank\" href=https://colab.research.google.com/notebooks/data_table.ipynb>data table notebook</a>'\n",
              "          + ' to learn more about interactive tables.';\n",
              "        element.innerHTML = '';\n",
              "        dataTable['output_type'] = 'display_data';\n",
              "        await google.colab.output.renderOutput(dataTable, element);\n",
              "        const docLink = document.createElement('div');\n",
              "        docLink.innerHTML = docLinkHtml;\n",
              "        element.appendChild(docLink);\n",
              "      }\n",
              "    </script>\n",
              "  </div>\n",
              "\n",
              "\n",
              "<div id=\"df-e9f8b052-510a-48f4-867a-f374f853c03a\">\n",
              "  <button class=\"colab-df-quickchart\" onclick=\"quickchart('df-e9f8b052-510a-48f4-867a-f374f853c03a')\"\n",
              "            title=\"Suggest charts\"\n",
              "            style=\"display:none;\">\n",
              "\n",
              "<svg xmlns=\"http://www.w3.org/2000/svg\" height=\"24px\"viewBox=\"0 0 24 24\"\n",
              "     width=\"24px\">\n",
              "    <g>\n",
              "        <path d=\"M19 3H5c-1.1 0-2 .9-2 2v14c0 1.1.9 2 2 2h14c1.1 0 2-.9 2-2V5c0-1.1-.9-2-2-2zM9 17H7v-7h2v7zm4 0h-2V7h2v10zm4 0h-2v-4h2v4z\"/>\n",
              "    </g>\n",
              "</svg>\n",
              "  </button>\n",
              "\n",
              "<style>\n",
              "  .colab-df-quickchart {\n",
              "      --bg-color: #E8F0FE;\n",
              "      --fill-color: #1967D2;\n",
              "      --hover-bg-color: #E2EBFA;\n",
              "      --hover-fill-color: #174EA6;\n",
              "      --disabled-fill-color: #AAA;\n",
              "      --disabled-bg-color: #DDD;\n",
              "  }\n",
              "\n",
              "  [theme=dark] .colab-df-quickchart {\n",
              "      --bg-color: #3B4455;\n",
              "      --fill-color: #D2E3FC;\n",
              "      --hover-bg-color: #434B5C;\n",
              "      --hover-fill-color: #FFFFFF;\n",
              "      --disabled-bg-color: #3B4455;\n",
              "      --disabled-fill-color: #666;\n",
              "  }\n",
              "\n",
              "  .colab-df-quickchart {\n",
              "    background-color: var(--bg-color);\n",
              "    border: none;\n",
              "    border-radius: 50%;\n",
              "    cursor: pointer;\n",
              "    display: none;\n",
              "    fill: var(--fill-color);\n",
              "    height: 32px;\n",
              "    padding: 0;\n",
              "    width: 32px;\n",
              "  }\n",
              "\n",
              "  .colab-df-quickchart:hover {\n",
              "    background-color: var(--hover-bg-color);\n",
              "    box-shadow: 0 1px 2px rgba(60, 64, 67, 0.3), 0 1px 3px 1px rgba(60, 64, 67, 0.15);\n",
              "    fill: var(--button-hover-fill-color);\n",
              "  }\n",
              "\n",
              "  .colab-df-quickchart-complete:disabled,\n",
              "  .colab-df-quickchart-complete:disabled:hover {\n",
              "    background-color: var(--disabled-bg-color);\n",
              "    fill: var(--disabled-fill-color);\n",
              "    box-shadow: none;\n",
              "  }\n",
              "\n",
              "  .colab-df-spinner {\n",
              "    border: 2px solid var(--fill-color);\n",
              "    border-color: transparent;\n",
              "    border-bottom-color: var(--fill-color);\n",
              "    animation:\n",
              "      spin 1s steps(1) infinite;\n",
              "  }\n",
              "\n",
              "  @keyframes spin {\n",
              "    0% {\n",
              "      border-color: transparent;\n",
              "      border-bottom-color: var(--fill-color);\n",
              "      border-left-color: var(--fill-color);\n",
              "    }\n",
              "    20% {\n",
              "      border-color: transparent;\n",
              "      border-left-color: var(--fill-color);\n",
              "      border-top-color: var(--fill-color);\n",
              "    }\n",
              "    30% {\n",
              "      border-color: transparent;\n",
              "      border-left-color: var(--fill-color);\n",
              "      border-top-color: var(--fill-color);\n",
              "      border-right-color: var(--fill-color);\n",
              "    }\n",
              "    40% {\n",
              "      border-color: transparent;\n",
              "      border-right-color: var(--fill-color);\n",
              "      border-top-color: var(--fill-color);\n",
              "    }\n",
              "    60% {\n",
              "      border-color: transparent;\n",
              "      border-right-color: var(--fill-color);\n",
              "    }\n",
              "    80% {\n",
              "      border-color: transparent;\n",
              "      border-right-color: var(--fill-color);\n",
              "      border-bottom-color: var(--fill-color);\n",
              "    }\n",
              "    90% {\n",
              "      border-color: transparent;\n",
              "      border-bottom-color: var(--fill-color);\n",
              "    }\n",
              "  }\n",
              "</style>\n",
              "\n",
              "  <script>\n",
              "    async function quickchart(key) {\n",
              "      const quickchartButtonEl =\n",
              "        document.querySelector('#' + key + ' button');\n",
              "      quickchartButtonEl.disabled = true;  // To prevent multiple clicks.\n",
              "      quickchartButtonEl.classList.add('colab-df-spinner');\n",
              "      try {\n",
              "        const charts = await google.colab.kernel.invokeFunction(\n",
              "            'suggestCharts', [key], {});\n",
              "      } catch (error) {\n",
              "        console.error('Error during call to suggestCharts:', error);\n",
              "      }\n",
              "      quickchartButtonEl.classList.remove('colab-df-spinner');\n",
              "      quickchartButtonEl.classList.add('colab-df-quickchart-complete');\n",
              "    }\n",
              "    (() => {\n",
              "      let quickchartButtonEl =\n",
              "        document.querySelector('#df-e9f8b052-510a-48f4-867a-f374f853c03a button');\n",
              "      quickchartButtonEl.style.display =\n",
              "        google.colab.kernel.accessAllowed ? 'block' : 'none';\n",
              "    })();\n",
              "  </script>\n",
              "</div>\n",
              "    </div>\n",
              "  </div>\n"
            ]
          },
          "metadata": {},
          "execution_count": 17
        }
      ],
      "source": [
        "train_data, test_data = train_test_split(df[['User_ID', 'Movie_ID', 'Rating']], test_size=0.2, random_state=42)\n",
        "train_data.head()"
      ]
    },
    {
      "cell_type": "code",
      "execution_count": null,
      "id": "01564570",
      "metadata": {
        "id": "01564570"
      },
      "outputs": [],
      "source": [
        "@tf.function\n",
        "def custom_loss(y_true, y_pred):\n",
        "    return tf.keras.losses.mean_squared_error(y_true, y_pred)"
      ]
    },
    {
      "cell_type": "code",
      "execution_count": null,
      "id": "4201e2c4",
      "metadata": {
        "id": "4201e2c4"
      },
      "outputs": [],
      "source": [
        "latent_dim = 50\n",
        "\n",
        "movie_input = Input(shape=[1],name='movie-input')\n",
        "movie_embedding = Embedding(num_movies + 1, latent_dim, name='movie-embedding')(movie_input)\n",
        "movie_vec = Flatten(name='movie-flatten')(movie_embedding)\n",
        "\n",
        "user_input = Input(shape=[1],name='user-input')\n",
        "user_embedding = Embedding(num_users + 1, latent_dim, name='user-embedding')(user_input)\n",
        "user_vec = Flatten(name='user-flatten')(user_embedding)\n",
        "\n",
        "concat = Dot(axes=1, normalize=True, name='movie-user-dot')([movie_vec, user_vec])\n",
        "concat_dropout = Dropout(0.2)(concat)\n",
        "fc_1 = Dense(100, name='fc-1', activation='relu')(concat)\n",
        "fc_1_dropout = Dropout(0.2, name='fc-1-dropout')(fc_1)\n",
        "fc_2 = Dense(50, name='fc-2', activation='relu')(fc_1_dropout)\n",
        "fc_2_dropout = Dropout(0.2, name='fc-2-dropout')(fc_2)\n",
        "fc_3 = Dense(1, name='fc-3', activation='relu')(fc_2_dropout)\n",
        "\n",
        "\n",
        "model = Model([user_input, movie_input], fc_3)\n",
        "model.compile(\n",
        "    loss=custom_loss,\n",
        "    optimizer=keras.optimizers.Adam(learning_rate=0.01),\n",
        ")"
      ]
    },
    {
      "cell_type": "code",
      "execution_count": null,
      "id": "ac720691",
      "metadata": {
        "colab": {
          "base_uri": "https://localhost:8080/"
        },
        "id": "ac720691",
        "outputId": "05020118-87be-4cf8-c532-615642c7d902"
      },
      "outputs": [
        {
          "output_type": "stream",
          "name": "stdout",
          "text": [
            "Model: \"model\"\n",
            "__________________________________________________________________________________________________\n",
            " Layer (type)                Output Shape                 Param #   Connected to                  \n",
            "==================================================================================================\n",
            " movie-input (InputLayer)    [(None, 1)]                  0         []                            \n",
            "                                                                                                  \n",
            " user-input (InputLayer)     [(None, 1)]                  0         []                            \n",
            "                                                                                                  \n",
            " movie-embedding (Embedding  (None, 1, 50)                865050    ['movie-input[0][0]']         \n",
            " )                                                                                                \n",
            "                                                                                                  \n",
            " user-embedding (Embedding)  (None, 1, 50)                500050    ['user-input[0][0]']          \n",
            "                                                                                                  \n",
            " movie-flatten (Flatten)     (None, 50)                   0         ['movie-embedding[0][0]']     \n",
            "                                                                                                  \n",
            " user-flatten (Flatten)      (None, 50)                   0         ['user-embedding[0][0]']      \n",
            "                                                                                                  \n",
            " movie-user-dot (Dot)        (None, 1)                    0         ['movie-flatten[0][0]',       \n",
            "                                                                     'user-flatten[0][0]']        \n",
            "                                                                                                  \n",
            " fc-1 (Dense)                (None, 100)                  200       ['movie-user-dot[0][0]']      \n",
            "                                                                                                  \n",
            " fc-1-dropout (Dropout)      (None, 100)                  0         ['fc-1[0][0]']                \n",
            "                                                                                                  \n",
            " fc-2 (Dense)                (None, 50)                   5050      ['fc-1-dropout[0][0]']        \n",
            "                                                                                                  \n",
            " fc-2-dropout (Dropout)      (None, 50)                   0         ['fc-2[0][0]']                \n",
            "                                                                                                  \n",
            " fc-3 (Dense)                (None, 1)                    51        ['fc-2-dropout[0][0]']        \n",
            "                                                                                                  \n",
            "==================================================================================================\n",
            "Total params: 1370401 (5.23 MB)\n",
            "Trainable params: 1370401 (5.23 MB)\n",
            "Non-trainable params: 0 (0.00 Byte)\n",
            "__________________________________________________________________________________________________\n"
          ]
        }
      ],
      "source": [
        "model.summary()"
      ]
    },
    {
      "cell_type": "code",
      "execution_count": null,
      "id": "0d9e9d2c",
      "metadata": {
        "colab": {
          "base_uri": "https://localhost:8080/",
          "height": 976
        },
        "id": "0d9e9d2c",
        "outputId": "d7792c6c-99bc-4b6d-d83b-46a514d464b3"
      },
      "outputs": [
        {
          "data": {
            "image/png": "[encoded data removed]",
            "text/plain": [
              "<IPython.core.display.Image object>"
            ]
          },
          "execution_count": 15,
          "metadata": {},
          "output_type": "execute_result"
        }
      ],
      "source": [
        "plot_model(model, show_shapes=True, show_layer_names=True)"
      ]
    },
    {
      "cell_type": "code",
      "execution_count": null,
      "id": "krFj678yL0Qy",
      "metadata": {
        "colab": {
          "base_uri": "https://localhost:8080/"
        },
        "id": "krFj678yL0Qy",
        "outputId": "01c58aa2-2878-476b-dad6-7705b62a912e"
      },
      "outputs": [
        {
          "output_type": "stream",
          "name": "stdout",
          "text": [
            "GPU Available: [PhysicalDevice(name='/physical_device:GPU:0', device_type='GPU')]\n"
          ]
        }
      ],
      "source": [
        "print(\"GPU Available:\", tf.config.list_physical_devices('GPU'))"
      ]
    },
    {
      "cell_type": "code",
      "execution_count": null,
      "id": "31858e33",
      "metadata": {
        "colab": {
          "base_uri": "https://localhost:8080/"
        },
        "id": "31858e33",
        "outputId": "3d80dc22-c495-411d-d2ab-ff0ad124dd75"
      },
      "outputs": [
        {
          "output_type": "stream",
          "name": "stdout",
          "text": [
            "Epoch 1/5\n",
            "20975/20975 [==============================] - 125s 6ms/step - loss: 1.1884 - val_loss: 1.1710\n",
            "Epoch 2/5\n",
            "20975/20975 [==============================] - 116s 6ms/step - loss: 1.1727 - val_loss: 1.1715\n",
            "Epoch 3/5\n",
            "20975/20975 [==============================] - 110s 5ms/step - loss: 1.1689 - val_loss: 1.1679\n",
            "Epoch 4/5\n",
            "20975/20975 [==============================] - 113s 5ms/step - loss: 1.1640 - val_loss: 1.1654\n",
            "Epoch 5/5\n",
            "20975/20975 [==============================] - 115s 6ms/step - loss: 1.1589 - val_loss: 1.1633\n",
            "training duration: 0:09:39.916138\n"
          ]
        }
      ],
      "source": [
        "start = datetime.now()\n",
        "history = model.fit(\n",
        "    [train_data.User_ID, train_data.Movie_ID],\n",
        "    train_data.Rating,\n",
        "    batch_size=64,\n",
        "    epochs=5,\n",
        "    verbose=1,\n",
        "    validation_split=0.2,\n",
        ")\n",
        "print('training duration: {}'.format(datetime.now() - start))"
      ]
    },
    {
      "cell_type": "code",
      "execution_count": null,
      "id": "c6134efa",
      "metadata": {
        "colab": {
          "base_uri": "https://localhost:8080/"
        },
        "id": "c6134efa",
        "outputId": "28078f5b-10b8-4c08-bdae-f6a4534d4b89"
      },
      "outputs": [
        {
          "output_type": "stream",
          "name": "stdout",
          "text": [
            "13110/13110 [==============================] - 31s 2ms/step - loss: 1.1665\n",
            "Mean Squared Error on Test Set: 1.1665444374084473\n"
          ]
        }
      ],
      "source": [
        "mse = model.evaluate([test_data.User_ID, test_data.Movie_ID], test_data.Rating)\n",
        "print(f'Mean Squared Error on Test Set: {mse}')"
      ]
    },
    {
      "cell_type": "code",
      "execution_count": null,
      "id": "3976b463",
      "metadata": {
        "colab": {
          "base_uri": "https://localhost:8080/",
          "height": 472
        },
        "id": "3976b463",
        "outputId": "825843bb-3e6a-48dd-9683-ef9808243db1"
      },
      "outputs": [
        {
          "output_type": "display_data",
          "data": {
            "text/plain": [
              "<Figure size 640x480 with 1 Axes>"
            ],
            "image/png": "[encoded data removed]"
          },
          "metadata": {}
        }
      ],
      "source": [
        "plt.plot(history.history[\"loss\"])\n",
        "plt.plot(history.history[\"val_loss\"])\n",
        "plt.title(\"model loss\")\n",
        "plt.ylabel(\"loss\")\n",
        "plt.xlabel(\"epoch\")\n",
        "plt.legend([\"train\", \"test\"], loc=\"upper left\")\n",
        "plt.show()"
      ]
    },
    {
      "cell_type": "markdown",
      "id": "wv6lrsLEfK2g",
      "metadata": {
        "id": "wv6lrsLEfK2g"
      },
      "source": [
        "#### Hyperparameter tuning\n",
        "-\n",
        "\n",
        "The **Latent Dimensions** parameter specifies the number of of the latent features of the embedding space of both users and movies. The more latent features we have, the more parameters can be trained, hence better performance.\n",
        "\n",
        "| Dimensions | Trainable Parameters | Training Time | Mean Squared Error |\n",
        "|:---------|:---------|:---------|:--------:|\n",
        "|  10   |   278,321   |   0:08:42   |  1.173863   |\n",
        "|  20   |   551,341   |   0:09:22   |  1.173746   |\n",
        "|  50   |  1,370,401  |   0:08:26   |  1.171590   |\n",
        "|  100  |  2,735,501  |   0:09:06   |  1.174202   |\n",
        "\n",
        "Looking at the table above, we can conclude to the following: the training time doesn't change much when increasing the dimensions, the trainable parameters are proportional το the dimensions. Also and most important, the MSE stays around the same, something that we didn't expect. However, when the latent dimension are 50, we get a slightly better MSE (**1.171590**).\n",
        "\n",
        "-\n",
        "\n",
        "**Epochs** define the number of times the entire training dataset is passed forward and backward through the neural network during training. We'll see the model responds to running different epoch numbers.\n",
        "\n",
        "|  Epochs  | Training Time | Mean Squared Error |\n",
        "|:---------|:---------|:--------:|\n",
        "|   5   |  0:08:26  |  1.171590  |\n",
        "|  10   |  0:17:19  |  1.173537  |\n",
        "|  20   |  0:35:07  |  1.148805  |\n",
        "\n",
        "Looking at the table above, we see that a learning rate of 0.1 yields the best results, therefore we choose that.\n",
        "\n",
        "-\n",
        "\n",
        "So, we can see that the best combination of hyperparameters is:\n",
        "\n",
        "- `n_estimators` = 100\n",
        "- `learning_rate` = 0.1\n",
        "- `max_depth` = 3\n",
        "\n",
        "After running the model with these hyperparameters, we find a Mean Squared Error of `1.166544`."
      ]
    }
  ],
  "metadata": {
    "accelerator": "GPU",
    "colab": {
      "gpuType": "T4",
      "provenance": []
    },
    "kernelspec": {
      "display_name": "Python 3",
      "name": "python3"
    },
    "language_info": {
      "codemirror_mode": {
        "name": "ipython",
        "version": 3
      },
      "file_extension": ".py",
      "mimetype": "text/x-python",
      "name": "python",
      "nbconvert_exporter": "python",
      "pygments_lexer": "ipython3",
      "version": "3.9.18"
    },
    "latex_envs": {
      "LaTeX_envs_menu_present": true,
      "autoclose": false,
      "autocomplete": true,
      "bibliofile": "biblio.bib",
      "cite_by": "apalike",
      "current_citInitial": 1,
      "eqLabelWithNumbers": true,
      "eqNumInitial": 1,
      "hotkeys": {
        "equation": "Ctrl-E",
        "itemize": "Ctrl-I"
      },
      "labels_anchors": false,
      "latex_user_defs": false,
      "report_style_numbering": false,
      "user_envs_cfg": false
    },
    "varInspector": {
      "cols": {
        "lenName": 16,
        "lenType": 16,
        "lenVar": 40
      },
      "kernels_config": {
        "python": {
          "delete_cmd_postfix": "",
          "delete_cmd_prefix": "del ",
          "library": "var_list.py",
          "varRefreshCmd": "print(var_dic_list())"
        },
        "r": {
          "delete_cmd_postfix": ") ",
          "delete_cmd_prefix": "rm(",
          "library": "var_list.r",
          "varRefreshCmd": "cat(var_dic_list()) "
        }
      },
      "types_to_exclude": [
        "module",
        "function",
        "builtin_function_or_method",
        "instance",
        "_Feature"
      ],
      "window_display": false
    }
  },
  "nbformat": 4,
  "nbformat_minor": 5
}