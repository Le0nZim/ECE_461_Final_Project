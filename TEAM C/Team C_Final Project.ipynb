{
 "cells": [
  {
   "cell_type": "markdown",
   "metadata": {},
   "source": [
    "<center><h1>Final Project: Steam Games Recommender System</h1></center>"
   ]
  },
  {
   "cell_type": "markdown",
   "metadata": {},
   "source": [
    "<center><b><h3>Team C: Thomas Katraouras, Vasileios Giosis, Konstantinos Kokkalis</h3></b></center>\n"
   ]
  },
  {
   "cell_type": "markdown",
   "metadata": {},
   "source": [
    "<br>\n",
    "<br>\n",
    "<br>"
   ]
  },
  {
   "cell_type": "markdown",
   "metadata": {},
   "source": [
    "Our recommender system recommends Steam games to a user in 3 different ways:<br><br>\n",
    "1. It takes the user's top X favorite games according to playtime (our users dataset does not have rating data, only playtime), and recommends Y similar games according to the similarity of various tags (like genre, multiplayer or not, etc).<br>\n",
    "2. It takes the user's top X favorite games according to playtime and recommends Y games from the publisher of each game.<br>\n",
    "3. It recommends X games based on what other users are playing the most.<br><br>\n",
    "\n",
    "Methods 1 and 2 also put a weight on higher overall rated games, to prevent the users from getting recommended bad games, even if they are similar."
   ]
  },
  {
   "cell_type": "markdown",
   "metadata": {},
   "source": [
    "<br>\n",
    "<b>There is an interactive GUI in the end of this notebook which demonstrates the full functionality of our recommender. You can try it, but make sure to run the whole notebook first.</b><br>"
   ]
  },
  {
   "cell_type": "markdown",
   "metadata": {},
   "source": [
    "<b>Below the GUI is a simple attempt we made to create the recommender system using Neural Networks, which was asked after we had planned and made the system we decribe in this notebook</b>"
   ]
  },
  {
   "cell_type": "markdown",
   "metadata": {},
   "source": [
    "<br>"
   ]
  },
  {
   "cell_type": "markdown",
   "metadata": {},
   "source": [
    "We utilized two datasets.<br><br> \n",
    "The [steam_200k](https://www.kaggle.com/datasets/tamber/steam-video-games) dataset, which has data from around 200k users. More specifically, it has data about the games owned by them and the play time on each game. We got it from Kaggle.<br><br>\n",
    "The [steam_games](https://www.kaggle.com/datasets/nikdavis/steam-store-games?select=steam.csv) dataset, which has data for a plethora of games on the platform. The dataset was pulled from Kaggle and is already clean (no duplicate or empty entries), which is very convenient for us. More specifically, it has data about the game's name, developer, publisher, various tags, genre info and steamspy tags (steamspy is a popular website for steam games categorisation and research). It also has data about positive and negative reviews, and more.<br>"
   ]
  },
  {
   "cell_type": "markdown",
   "metadata": {},
   "source": [
    "<br>"
   ]
  },
  {
   "cell_type": "markdown",
   "metadata": {},
   "source": [
    "# STEAM USERS DATASET"
   ]
  },
  {
   "cell_type": "markdown",
   "metadata": {},
   "source": [
    "### Dataset Preprocessing"
   ]
  },
  {
   "cell_type": "markdown",
   "metadata": {},
   "source": [
    "We start by processing the steam_200k dataset, which will be used for collaborative filtering, more specifically for method 3 (recommend a game based on what other users are playing), but will also be used to pick games for methods 1 and 2."
   ]
  },
  {
   "cell_type": "markdown",
   "metadata": {},
   "source": [
    "The dataset was a bit weird, it had no column names by default so we had to add our own. By default, the first row had become column names so we handled this as well. Finally, there was a useless column filled all with zeros, which we removed."
   ]
  },
  {
   "cell_type": "code",
   "execution_count": 81,
   "metadata": {},
   "outputs": [],
   "source": [
    "import numpy as np\n",
    "import pandas as pd\n",
    "\n",
    "data_users = pd.read_csv('./steam_200k.csv')\n",
    "\n",
    "# Save the current column names (data in the first row)\n",
    "current_column_names = data_users.columns.tolist()\n",
    "\n",
    "# Define the new column names\n",
    "new_column_names = ['user_id', 'game', 'behavior', 'playtime', 'zero']\n",
    "\n",
    "# Assign new column names\n",
    "data_users.columns = new_column_names\n",
    "\n",
    "# Append the data from current_column_names as a new row at the beginning of the DataFrame\n",
    "data_users.loc[-1] = current_column_names\n",
    "data_users = data_users.reset_index(drop=True)\n",
    "\n",
    "# Drop this useless column\n",
    "data_users = data_users.drop('zero', axis = 1)"
   ]
  },
  {
   "cell_type": "code",
   "execution_count": 82,
   "metadata": {},
   "outputs": [
    {
     "data": {
      "text/html": [
       "<div>\n",
       "<style scoped>\n",
       "    .dataframe tbody tr th:only-of-type {\n",
       "        vertical-align: middle;\n",
       "    }\n",
       "\n",
       "    .dataframe tbody tr th {\n",
       "        vertical-align: top;\n",
       "    }\n",
       "\n",
       "    .dataframe thead th {\n",
       "        text-align: right;\n",
       "    }\n",
       "</style>\n",
       "<table border=\"1\" class=\"dataframe\">\n",
       "  <thead>\n",
       "    <tr style=\"text-align: right;\">\n",
       "      <th></th>\n",
       "      <th>user_id</th>\n",
       "      <th>game</th>\n",
       "      <th>behavior</th>\n",
       "      <th>playtime</th>\n",
       "    </tr>\n",
       "  </thead>\n",
       "  <tbody>\n",
       "    <tr>\n",
       "      <th>0</th>\n",
       "      <td>151603712</td>\n",
       "      <td>The Elder Scrolls V Skyrim</td>\n",
       "      <td>play</td>\n",
       "      <td>273.0</td>\n",
       "    </tr>\n",
       "    <tr>\n",
       "      <th>1</th>\n",
       "      <td>151603712</td>\n",
       "      <td>Fallout 4</td>\n",
       "      <td>purchase</td>\n",
       "      <td>1.0</td>\n",
       "    </tr>\n",
       "    <tr>\n",
       "      <th>2</th>\n",
       "      <td>151603712</td>\n",
       "      <td>Fallout 4</td>\n",
       "      <td>play</td>\n",
       "      <td>87.0</td>\n",
       "    </tr>\n",
       "    <tr>\n",
       "      <th>3</th>\n",
       "      <td>151603712</td>\n",
       "      <td>Spore</td>\n",
       "      <td>purchase</td>\n",
       "      <td>1.0</td>\n",
       "    </tr>\n",
       "    <tr>\n",
       "      <th>4</th>\n",
       "      <td>151603712</td>\n",
       "      <td>Spore</td>\n",
       "      <td>play</td>\n",
       "      <td>14.9</td>\n",
       "    </tr>\n",
       "  </tbody>\n",
       "</table>\n",
       "</div>"
      ],
      "text/plain": [
       "     user_id                        game  behavior playtime\n",
       "0  151603712  The Elder Scrolls V Skyrim      play    273.0\n",
       "1  151603712                   Fallout 4  purchase      1.0\n",
       "2  151603712                   Fallout 4      play     87.0\n",
       "3  151603712                       Spore  purchase      1.0\n",
       "4  151603712                       Spore      play     14.9"
      ]
     },
     "execution_count": 82,
     "metadata": {},
     "output_type": "execute_result"
    }
   ],
   "source": [
    "data_users.head()"
   ]
  },
  {
   "cell_type": "markdown",
   "metadata": {},
   "source": [
    "We proceed by creating steam_data_purchase, which only holds info about purchased games for each user (not played / play time). We then create steam_data_purchase_gr, which groups by user_id, to have all purchased games for each user. Will be used later in the implementation."
   ]
  },
  {
   "cell_type": "code",
   "execution_count": 83,
   "metadata": {},
   "outputs": [],
   "source": [
    "steam_data_purchase = data_users.loc[data_users.behavior=='purchase']\n",
    "steam_data_purchase_gr = steam_data_purchase.groupby('user_id')"
   ]
  },
  {
   "cell_type": "markdown",
   "metadata": {},
   "source": [
    "Now remove all 'purchase' behaviors and keep only play time in our data (we have kept the list of purchases above so we do not need it in the main df anymore)."
   ]
  },
  {
   "cell_type": "code",
   "execution_count": 84,
   "metadata": {
    "scrolled": true
   },
   "outputs": [
    {
     "data": {
      "text/html": [
       "<div>\n",
       "<style scoped>\n",
       "    .dataframe tbody tr th:only-of-type {\n",
       "        vertical-align: middle;\n",
       "    }\n",
       "\n",
       "    .dataframe tbody tr th {\n",
       "        vertical-align: top;\n",
       "    }\n",
       "\n",
       "    .dataframe thead th {\n",
       "        text-align: right;\n",
       "    }\n",
       "</style>\n",
       "<table border=\"1\" class=\"dataframe\">\n",
       "  <thead>\n",
       "    <tr style=\"text-align: right;\">\n",
       "      <th></th>\n",
       "      <th>user_id</th>\n",
       "      <th>game</th>\n",
       "      <th>behavior</th>\n",
       "      <th>playtime</th>\n",
       "    </tr>\n",
       "  </thead>\n",
       "  <tbody>\n",
       "    <tr>\n",
       "      <th>0</th>\n",
       "      <td>151603712</td>\n",
       "      <td>The Elder Scrolls V Skyrim</td>\n",
       "      <td>play</td>\n",
       "      <td>273.0</td>\n",
       "    </tr>\n",
       "    <tr>\n",
       "      <th>2</th>\n",
       "      <td>151603712</td>\n",
       "      <td>Fallout 4</td>\n",
       "      <td>play</td>\n",
       "      <td>87.0</td>\n",
       "    </tr>\n",
       "    <tr>\n",
       "      <th>4</th>\n",
       "      <td>151603712</td>\n",
       "      <td>Spore</td>\n",
       "      <td>play</td>\n",
       "      <td>14.9</td>\n",
       "    </tr>\n",
       "    <tr>\n",
       "      <th>6</th>\n",
       "      <td>151603712</td>\n",
       "      <td>Fallout New Vegas</td>\n",
       "      <td>play</td>\n",
       "      <td>12.1</td>\n",
       "    </tr>\n",
       "    <tr>\n",
       "      <th>8</th>\n",
       "      <td>151603712</td>\n",
       "      <td>Left 4 Dead 2</td>\n",
       "      <td>play</td>\n",
       "      <td>8.9</td>\n",
       "    </tr>\n",
       "  </tbody>\n",
       "</table>\n",
       "</div>"
      ],
      "text/plain": [
       "     user_id                        game behavior playtime\n",
       "0  151603712  The Elder Scrolls V Skyrim     play    273.0\n",
       "2  151603712                   Fallout 4     play     87.0\n",
       "4  151603712                       Spore     play     14.9\n",
       "6  151603712           Fallout New Vegas     play     12.1\n",
       "8  151603712               Left 4 Dead 2     play      8.9"
      ]
     },
     "execution_count": 84,
     "metadata": {},
     "output_type": "execute_result"
    }
   ],
   "source": [
    "data_users = data_users[data_users['behavior'] == 'play'].copy()\n",
    "\n",
    "data_users.head()"
   ]
  },
  {
   "cell_type": "markdown",
   "metadata": {},
   "source": [
    "Since we do not know if this dataset is clean, we need to do some processing."
   ]
  },
  {
   "cell_type": "markdown",
   "metadata": {},
   "source": [
    "First of all, we check if there is missing data."
   ]
  },
  {
   "cell_type": "code",
   "execution_count": 85,
   "metadata": {},
   "outputs": [
    {
     "data": {
      "text/plain": [
       "user_id     False\n",
       "game        False\n",
       "behavior    False\n",
       "playtime    False\n",
       "dtype: bool"
      ]
     },
     "execution_count": 85,
     "metadata": {},
     "output_type": "execute_result"
    }
   ],
   "source": [
    "data_users.isnull().all()"
   ]
  },
  {
   "cell_type": "markdown",
   "metadata": {},
   "source": [
    "There is no missing data. Let's check for outliers."
   ]
  },
  {
   "cell_type": "code",
   "execution_count": 86,
   "metadata": {
    "scrolled": false
   },
   "outputs": [
    {
     "data": {
      "image/png": "[encoded data removed]",
      "text/plain": [
       "<Figure size 640x480 with 1 Axes>"
      ]
     },
     "metadata": {},
     "output_type": "display_data"
    }
   ],
   "source": [
    "import matplotlib.pyplot as plt\n",
    "\n",
    "plt.plot(data_users['playtime'])\n",
    "plt.xlabel('user_id')\n",
    "plt.ylabel('Time played by player')\n",
    "plt.show()"
   ]
  },
  {
   "cell_type": "markdown",
   "metadata": {},
   "source": [
    "As we can see, some players have an insane amount of hours played on some games. We would like to remove these outliers for smoother data. We will create another df for the clean and normalized values, since we want to keep all the original data intact for each user, to later find their favorite / most played games."
   ]
  },
  {
   "cell_type": "code",
   "execution_count": 87,
   "metadata": {},
   "outputs": [],
   "source": [
    "# Remove outliers\n",
    "from scipy.stats import iqr\n",
    "\n",
    "iqr = iqr(data_users['playtime'])\n",
    "q1 = np.percentile(data_users['playtime'], 25)\n",
    "q3 = np.percentile(data_users['playtime'], 75)\n",
    "\n",
    "# Using the most common threshold\n",
    "threshold = 1.5\n",
    "lower_bound = q1 - threshold * iqr\n",
    "upper_bound = q3 + threshold * iqr\n",
    "\n",
    "outliers = (data_users['playtime'] < lower_bound) | (data_users['playtime'] > upper_bound)\n",
    "\n",
    "data_users_norm = data_users[~outliers].copy()"
   ]
  },
  {
   "cell_type": "markdown",
   "metadata": {},
   "source": [
    "Let's check again."
   ]
  },
  {
   "cell_type": "code",
   "execution_count": 88,
   "metadata": {},
   "outputs": [
    {
     "data": {
      "image/png": "[encoded data removed]",
      "text/plain": [
       "<Figure size 640x480 with 1 Axes>"
      ]
     },
     "metadata": {},
     "output_type": "display_data"
    }
   ],
   "source": [
    "plt.plot(data_users_norm['playtime'])\n",
    "plt.xlabel('user_id')\n",
    "plt.ylabel('Time played by player')\n",
    "plt.show()"
   ]
  },
  {
   "cell_type": "markdown",
   "metadata": {},
   "source": [
    "Our data is now free of outliers. Next, we want to normalize our data before applying SVD."
   ]
  },
  {
   "cell_type": "code",
   "execution_count": 89,
   "metadata": {},
   "outputs": [
    {
     "data": {
      "text/html": [
       "<div>\n",
       "<style scoped>\n",
       "    .dataframe tbody tr th:only-of-type {\n",
       "        vertical-align: middle;\n",
       "    }\n",
       "\n",
       "    .dataframe tbody tr th {\n",
       "        vertical-align: top;\n",
       "    }\n",
       "\n",
       "    .dataframe thead th {\n",
       "        text-align: right;\n",
       "    }\n",
       "</style>\n",
       "<table border=\"1\" class=\"dataframe\">\n",
       "  <thead>\n",
       "    <tr style=\"text-align: right;\">\n",
       "      <th></th>\n",
       "      <th>user_id</th>\n",
       "      <th>game</th>\n",
       "      <th>behavior</th>\n",
       "      <th>playtime</th>\n",
       "    </tr>\n",
       "  </thead>\n",
       "  <tbody>\n",
       "    <tr>\n",
       "      <th>4</th>\n",
       "      <td>151603712</td>\n",
       "      <td>Spore</td>\n",
       "      <td>play</td>\n",
       "      <td>0.322440</td>\n",
       "    </tr>\n",
       "    <tr>\n",
       "      <th>6</th>\n",
       "      <td>151603712</td>\n",
       "      <td>Fallout New Vegas</td>\n",
       "      <td>play</td>\n",
       "      <td>0.261438</td>\n",
       "    </tr>\n",
       "    <tr>\n",
       "      <th>8</th>\n",
       "      <td>151603712</td>\n",
       "      <td>Left 4 Dead 2</td>\n",
       "      <td>play</td>\n",
       "      <td>0.191721</td>\n",
       "    </tr>\n",
       "    <tr>\n",
       "      <th>10</th>\n",
       "      <td>151603712</td>\n",
       "      <td>HuniePop</td>\n",
       "      <td>play</td>\n",
       "      <td>0.183007</td>\n",
       "    </tr>\n",
       "    <tr>\n",
       "      <th>12</th>\n",
       "      <td>151603712</td>\n",
       "      <td>Path of Exile</td>\n",
       "      <td>play</td>\n",
       "      <td>0.174292</td>\n",
       "    </tr>\n",
       "  </tbody>\n",
       "</table>\n",
       "</div>"
      ],
      "text/plain": [
       "      user_id               game behavior  playtime\n",
       "4   151603712              Spore     play  0.322440\n",
       "6   151603712  Fallout New Vegas     play  0.261438\n",
       "8   151603712      Left 4 Dead 2     play  0.191721\n",
       "10  151603712           HuniePop     play  0.183007\n",
       "12  151603712      Path of Exile     play  0.174292"
      ]
     },
     "execution_count": 89,
     "metadata": {},
     "output_type": "execute_result"
    }
   ],
   "source": [
    "# Normalization\n",
    "from sklearn.preprocessing import MinMaxScaler\n",
    "\n",
    "playtime_column = data_users_norm['playtime'].values.reshape(-1, 1)  # Reshape to a 2D array\n",
    "\n",
    "# Initialize the MinMaxScaler\n",
    "scaler = MinMaxScaler()\n",
    "\n",
    "# Fit and transform the data\n",
    "normalized_playtime = scaler.fit_transform(playtime_column)\n",
    "\n",
    "# Update the 'playtime' column in the original DataFrame with the normalized values\n",
    "data_users_norm['playtime'] = normalized_playtime.flatten()\n",
    "\n",
    "data_users_norm.head()"
   ]
  },
  {
   "cell_type": "markdown",
   "metadata": {},
   "source": [
    "## Recommend games based on what other users have played the most"
   ]
  },
  {
   "cell_type": "markdown",
   "metadata": {},
   "source": [
    "In this case, we chose to create a user-item matrix and use Singular Value Decomposition (SVD) for Matrix Factorization, in order to give recommendations. SVD helps discover user-item interactions and recommend most relevant games."
   ]
  },
  {
   "cell_type": "markdown",
   "metadata": {},
   "source": [
    "We decided not to split into training and testing datasets, since we are applying SVD directly to our data for matrix factorization, without training a model on it. In other words, SVD is not part of a broader machine learning model in our case, which requires evaluation."
   ]
  },
  {
   "cell_type": "markdown",
   "metadata": {},
   "source": [
    "We create a playtime matrix, which is a user-item matrix, holding numerical values. For every user and every game, how many hours the user has played, NaN if they haven't played."
   ]
  },
  {
   "cell_type": "code",
   "execution_count": 90,
   "metadata": {},
   "outputs": [
    {
     "data": {
      "text/html": [
       "<div>\n",
       "<style scoped>\n",
       "    .dataframe tbody tr th:only-of-type {\n",
       "        vertical-align: middle;\n",
       "    }\n",
       "\n",
       "    .dataframe tbody tr th {\n",
       "        vertical-align: top;\n",
       "    }\n",
       "\n",
       "    .dataframe thead th {\n",
       "        text-align: right;\n",
       "    }\n",
       "</style>\n",
       "<table border=\"1\" class=\"dataframe\">\n",
       "  <thead>\n",
       "    <tr style=\"text-align: right;\">\n",
       "      <th></th>\n",
       "      <th>Spore</th>\n",
       "      <th>Fallout New Vegas</th>\n",
       "      <th>Left 4 Dead 2</th>\n",
       "      <th>HuniePop</th>\n",
       "      <th>Path of Exile</th>\n",
       "      <th>Poly Bridge</th>\n",
       "      <th>Left 4 Dead</th>\n",
       "      <th>Team Fortress 2</th>\n",
       "      <th>Tomb Raider</th>\n",
       "      <th>The Banner Saga</th>\n",
       "      <th>...</th>\n",
       "      <th>Adventure Time  Explore the Dungeon Because I DONT KNOW!</th>\n",
       "      <th>Ride! Carnival Tycoon</th>\n",
       "      <th>SAMURAI WARRIORS 4-II</th>\n",
       "      <th>The Bug Butcher</th>\n",
       "      <th>Romance of the Three Kingdoms Maker</th>\n",
       "      <th>Space Colony</th>\n",
       "      <th>Life is Hard</th>\n",
       "      <th>Executive Assault</th>\n",
       "      <th>O.R.B.</th>\n",
       "      <th>MirrorMoon EP</th>\n",
       "    </tr>\n",
       "  </thead>\n",
       "  <tbody>\n",
       "    <tr>\n",
       "      <th>151603712</th>\n",
       "      <td>NaN</td>\n",
       "      <td>NaN</td>\n",
       "      <td>NaN</td>\n",
       "      <td>NaN</td>\n",
       "      <td>NaN</td>\n",
       "      <td>NaN</td>\n",
       "      <td>NaN</td>\n",
       "      <td>NaN</td>\n",
       "      <td>NaN</td>\n",
       "      <td>NaN</td>\n",
       "      <td>...</td>\n",
       "      <td>NaN</td>\n",
       "      <td>NaN</td>\n",
       "      <td>NaN</td>\n",
       "      <td>NaN</td>\n",
       "      <td>NaN</td>\n",
       "      <td>NaN</td>\n",
       "      <td>NaN</td>\n",
       "      <td>NaN</td>\n",
       "      <td>NaN</td>\n",
       "      <td>NaN</td>\n",
       "    </tr>\n",
       "    <tr>\n",
       "      <th>187131847</th>\n",
       "      <td>NaN</td>\n",
       "      <td>NaN</td>\n",
       "      <td>NaN</td>\n",
       "      <td>NaN</td>\n",
       "      <td>NaN</td>\n",
       "      <td>NaN</td>\n",
       "      <td>NaN</td>\n",
       "      <td>NaN</td>\n",
       "      <td>NaN</td>\n",
       "      <td>NaN</td>\n",
       "      <td>...</td>\n",
       "      <td>NaN</td>\n",
       "      <td>NaN</td>\n",
       "      <td>NaN</td>\n",
       "      <td>NaN</td>\n",
       "      <td>NaN</td>\n",
       "      <td>NaN</td>\n",
       "      <td>NaN</td>\n",
       "      <td>NaN</td>\n",
       "      <td>NaN</td>\n",
       "      <td>NaN</td>\n",
       "    </tr>\n",
       "    <tr>\n",
       "      <th>59945701</th>\n",
       "      <td>NaN</td>\n",
       "      <td>NaN</td>\n",
       "      <td>NaN</td>\n",
       "      <td>NaN</td>\n",
       "      <td>NaN</td>\n",
       "      <td>NaN</td>\n",
       "      <td>NaN</td>\n",
       "      <td>NaN</td>\n",
       "      <td>NaN</td>\n",
       "      <td>NaN</td>\n",
       "      <td>...</td>\n",
       "      <td>NaN</td>\n",
       "      <td>NaN</td>\n",
       "      <td>NaN</td>\n",
       "      <td>NaN</td>\n",
       "      <td>NaN</td>\n",
       "      <td>NaN</td>\n",
       "      <td>NaN</td>\n",
       "      <td>NaN</td>\n",
       "      <td>NaN</td>\n",
       "      <td>NaN</td>\n",
       "    </tr>\n",
       "    <tr>\n",
       "      <th>53875128</th>\n",
       "      <td>NaN</td>\n",
       "      <td>NaN</td>\n",
       "      <td>NaN</td>\n",
       "      <td>NaN</td>\n",
       "      <td>NaN</td>\n",
       "      <td>NaN</td>\n",
       "      <td>NaN</td>\n",
       "      <td>NaN</td>\n",
       "      <td>NaN</td>\n",
       "      <td>NaN</td>\n",
       "      <td>...</td>\n",
       "      <td>NaN</td>\n",
       "      <td>NaN</td>\n",
       "      <td>NaN</td>\n",
       "      <td>NaN</td>\n",
       "      <td>NaN</td>\n",
       "      <td>NaN</td>\n",
       "      <td>NaN</td>\n",
       "      <td>NaN</td>\n",
       "      <td>NaN</td>\n",
       "      <td>NaN</td>\n",
       "    </tr>\n",
       "    <tr>\n",
       "      <th>140954425</th>\n",
       "      <td>NaN</td>\n",
       "      <td>NaN</td>\n",
       "      <td>NaN</td>\n",
       "      <td>NaN</td>\n",
       "      <td>NaN</td>\n",
       "      <td>NaN</td>\n",
       "      <td>NaN</td>\n",
       "      <td>NaN</td>\n",
       "      <td>NaN</td>\n",
       "      <td>NaN</td>\n",
       "      <td>...</td>\n",
       "      <td>NaN</td>\n",
       "      <td>NaN</td>\n",
       "      <td>NaN</td>\n",
       "      <td>NaN</td>\n",
       "      <td>NaN</td>\n",
       "      <td>NaN</td>\n",
       "      <td>NaN</td>\n",
       "      <td>NaN</td>\n",
       "      <td>NaN</td>\n",
       "      <td>NaN</td>\n",
       "    </tr>\n",
       "  </tbody>\n",
       "</table>\n",
       "<p>5 rows × 3553 columns</p>\n",
       "</div>"
      ],
      "text/plain": [
       "          Spore Fallout New Vegas Left 4 Dead 2 HuniePop Path of Exile  \\\n",
       "151603712   NaN               NaN           NaN      NaN           NaN   \n",
       "187131847   NaN               NaN           NaN      NaN           NaN   \n",
       "59945701    NaN               NaN           NaN      NaN           NaN   \n",
       "53875128    NaN               NaN           NaN      NaN           NaN   \n",
       "140954425   NaN               NaN           NaN      NaN           NaN   \n",
       "\n",
       "          Poly Bridge Left 4 Dead Team Fortress 2 Tomb Raider The Banner Saga  \\\n",
       "151603712         NaN         NaN             NaN         NaN             NaN   \n",
       "187131847         NaN         NaN             NaN         NaN             NaN   \n",
       "59945701          NaN         NaN             NaN         NaN             NaN   \n",
       "53875128          NaN         NaN             NaN         NaN             NaN   \n",
       "140954425         NaN         NaN             NaN         NaN             NaN   \n",
       "\n",
       "           ... Adventure Time  Explore the Dungeon Because I DONT KNOW!  \\\n",
       "151603712  ...                                                NaN         \n",
       "187131847  ...                                                NaN         \n",
       "59945701   ...                                                NaN         \n",
       "53875128   ...                                                NaN         \n",
       "140954425  ...                                                NaN         \n",
       "\n",
       "          Ride! Carnival Tycoon SAMURAI WARRIORS 4-II The Bug Butcher  \\\n",
       "151603712                   NaN                   NaN             NaN   \n",
       "187131847                   NaN                   NaN             NaN   \n",
       "59945701                    NaN                   NaN             NaN   \n",
       "53875128                    NaN                   NaN             NaN   \n",
       "140954425                   NaN                   NaN             NaN   \n",
       "\n",
       "          Romance of the Three Kingdoms Maker Space Colony Life is Hard  \\\n",
       "151603712                                 NaN          NaN          NaN   \n",
       "187131847                                 NaN          NaN          NaN   \n",
       "59945701                                  NaN          NaN          NaN   \n",
       "53875128                                  NaN          NaN          NaN   \n",
       "140954425                                 NaN          NaN          NaN   \n",
       "\n",
       "          Executive Assault O.R.B. MirrorMoon EP  \n",
       "151603712               NaN    NaN           NaN  \n",
       "187131847               NaN    NaN           NaN  \n",
       "59945701                NaN    NaN           NaN  \n",
       "53875128                NaN    NaN           NaN  \n",
       "140954425               NaN    NaN           NaN  \n",
       "\n",
       "[5 rows x 3553 columns]"
      ]
     },
     "execution_count": 90,
     "metadata": {},
     "output_type": "execute_result"
    }
   ],
   "source": [
    "# The matrix is obviously empty in the beginning\n",
    "\n",
    "playtime_matrix = pd.DataFrame(index=data_users_norm['user_id'].unique(), columns=data_users_norm['game'].unique())\n",
    "playtime_matrix.head()"
   ]
  },
  {
   "cell_type": "code",
   "execution_count": 91,
   "metadata": {},
   "outputs": [
    {
     "data": {
      "text/html": [
       "<div>\n",
       "<style scoped>\n",
       "    .dataframe tbody tr th:only-of-type {\n",
       "        vertical-align: middle;\n",
       "    }\n",
       "\n",
       "    .dataframe tbody tr th {\n",
       "        vertical-align: top;\n",
       "    }\n",
       "\n",
       "    .dataframe thead th {\n",
       "        text-align: right;\n",
       "    }\n",
       "</style>\n",
       "<table border=\"1\" class=\"dataframe\">\n",
       "  <thead>\n",
       "    <tr style=\"text-align: right;\">\n",
       "      <th></th>\n",
       "      <th>Spore</th>\n",
       "      <th>Fallout New Vegas</th>\n",
       "      <th>Left 4 Dead 2</th>\n",
       "      <th>HuniePop</th>\n",
       "      <th>Path of Exile</th>\n",
       "      <th>Poly Bridge</th>\n",
       "      <th>Left 4 Dead</th>\n",
       "      <th>Team Fortress 2</th>\n",
       "      <th>Tomb Raider</th>\n",
       "      <th>The Banner Saga</th>\n",
       "      <th>...</th>\n",
       "      <th>Adventure Time  Explore the Dungeon Because I DONT KNOW!</th>\n",
       "      <th>Ride! Carnival Tycoon</th>\n",
       "      <th>SAMURAI WARRIORS 4-II</th>\n",
       "      <th>The Bug Butcher</th>\n",
       "      <th>Romance of the Three Kingdoms Maker</th>\n",
       "      <th>Space Colony</th>\n",
       "      <th>Life is Hard</th>\n",
       "      <th>Executive Assault</th>\n",
       "      <th>O.R.B.</th>\n",
       "      <th>MirrorMoon EP</th>\n",
       "    </tr>\n",
       "  </thead>\n",
       "  <tbody>\n",
       "    <tr>\n",
       "      <th>151603712</th>\n",
       "      <td>0.32244</td>\n",
       "      <td>0.261438</td>\n",
       "      <td>0.191721</td>\n",
       "      <td>0.183007</td>\n",
       "      <td>0.174292</td>\n",
       "      <td>0.16122</td>\n",
       "      <td>0.069717</td>\n",
       "      <td>0.058824</td>\n",
       "      <td>0.052288</td>\n",
       "      <td>0.041394</td>\n",
       "      <td>...</td>\n",
       "      <td>NaN</td>\n",
       "      <td>NaN</td>\n",
       "      <td>NaN</td>\n",
       "      <td>NaN</td>\n",
       "      <td>NaN</td>\n",
       "      <td>NaN</td>\n",
       "      <td>NaN</td>\n",
       "      <td>NaN</td>\n",
       "      <td>NaN</td>\n",
       "      <td>NaN</td>\n",
       "    </tr>\n",
       "    <tr>\n",
       "      <th>187131847</th>\n",
       "      <td>NaN</td>\n",
       "      <td>NaN</td>\n",
       "      <td>NaN</td>\n",
       "      <td>NaN</td>\n",
       "      <td>NaN</td>\n",
       "      <td>NaN</td>\n",
       "      <td>NaN</td>\n",
       "      <td>NaN</td>\n",
       "      <td>NaN</td>\n",
       "      <td>NaN</td>\n",
       "      <td>...</td>\n",
       "      <td>NaN</td>\n",
       "      <td>NaN</td>\n",
       "      <td>NaN</td>\n",
       "      <td>NaN</td>\n",
       "      <td>NaN</td>\n",
       "      <td>NaN</td>\n",
       "      <td>NaN</td>\n",
       "      <td>NaN</td>\n",
       "      <td>NaN</td>\n",
       "      <td>NaN</td>\n",
       "    </tr>\n",
       "    <tr>\n",
       "      <th>59945701</th>\n",
       "      <td>NaN</td>\n",
       "      <td>NaN</td>\n",
       "      <td>NaN</td>\n",
       "      <td>NaN</td>\n",
       "      <td>NaN</td>\n",
       "      <td>NaN</td>\n",
       "      <td>NaN</td>\n",
       "      <td>0.0</td>\n",
       "      <td>NaN</td>\n",
       "      <td>NaN</td>\n",
       "      <td>...</td>\n",
       "      <td>NaN</td>\n",
       "      <td>NaN</td>\n",
       "      <td>NaN</td>\n",
       "      <td>NaN</td>\n",
       "      <td>NaN</td>\n",
       "      <td>NaN</td>\n",
       "      <td>NaN</td>\n",
       "      <td>NaN</td>\n",
       "      <td>NaN</td>\n",
       "      <td>NaN</td>\n",
       "    </tr>\n",
       "    <tr>\n",
       "      <th>53875128</th>\n",
       "      <td>0.008715</td>\n",
       "      <td>0.16122</td>\n",
       "      <td>NaN</td>\n",
       "      <td>NaN</td>\n",
       "      <td>NaN</td>\n",
       "      <td>NaN</td>\n",
       "      <td>0.034858</td>\n",
       "      <td>NaN</td>\n",
       "      <td>NaN</td>\n",
       "      <td>NaN</td>\n",
       "      <td>...</td>\n",
       "      <td>NaN</td>\n",
       "      <td>NaN</td>\n",
       "      <td>NaN</td>\n",
       "      <td>NaN</td>\n",
       "      <td>NaN</td>\n",
       "      <td>NaN</td>\n",
       "      <td>NaN</td>\n",
       "      <td>NaN</td>\n",
       "      <td>NaN</td>\n",
       "      <td>NaN</td>\n",
       "    </tr>\n",
       "    <tr>\n",
       "      <th>140954425</th>\n",
       "      <td>NaN</td>\n",
       "      <td>NaN</td>\n",
       "      <td>NaN</td>\n",
       "      <td>NaN</td>\n",
       "      <td>NaN</td>\n",
       "      <td>NaN</td>\n",
       "      <td>NaN</td>\n",
       "      <td>0.281046</td>\n",
       "      <td>NaN</td>\n",
       "      <td>NaN</td>\n",
       "      <td>...</td>\n",
       "      <td>NaN</td>\n",
       "      <td>NaN</td>\n",
       "      <td>NaN</td>\n",
       "      <td>NaN</td>\n",
       "      <td>NaN</td>\n",
       "      <td>NaN</td>\n",
       "      <td>NaN</td>\n",
       "      <td>NaN</td>\n",
       "      <td>NaN</td>\n",
       "      <td>NaN</td>\n",
       "    </tr>\n",
       "  </tbody>\n",
       "</table>\n",
       "<p>5 rows × 3553 columns</p>\n",
       "</div>"
      ],
      "text/plain": [
       "              Spore Fallout New Vegas Left 4 Dead 2  HuniePop Path of Exile  \\\n",
       "151603712   0.32244          0.261438      0.191721  0.183007      0.174292   \n",
       "187131847       NaN               NaN           NaN       NaN           NaN   \n",
       "59945701        NaN               NaN           NaN       NaN           NaN   \n",
       "53875128   0.008715           0.16122           NaN       NaN           NaN   \n",
       "140954425       NaN               NaN           NaN       NaN           NaN   \n",
       "\n",
       "          Poly Bridge Left 4 Dead Team Fortress 2 Tomb Raider The Banner Saga  \\\n",
       "151603712     0.16122    0.069717        0.058824    0.052288        0.041394   \n",
       "187131847         NaN         NaN             NaN         NaN             NaN   \n",
       "59945701          NaN         NaN             0.0         NaN             NaN   \n",
       "53875128          NaN    0.034858             NaN         NaN             NaN   \n",
       "140954425         NaN         NaN        0.281046         NaN             NaN   \n",
       "\n",
       "           ... Adventure Time  Explore the Dungeon Because I DONT KNOW!  \\\n",
       "151603712  ...                                                NaN         \n",
       "187131847  ...                                                NaN         \n",
       "59945701   ...                                                NaN         \n",
       "53875128   ...                                                NaN         \n",
       "140954425  ...                                                NaN         \n",
       "\n",
       "          Ride! Carnival Tycoon SAMURAI WARRIORS 4-II The Bug Butcher  \\\n",
       "151603712                   NaN                   NaN             NaN   \n",
       "187131847                   NaN                   NaN             NaN   \n",
       "59945701                    NaN                   NaN             NaN   \n",
       "53875128                    NaN                   NaN             NaN   \n",
       "140954425                   NaN                   NaN             NaN   \n",
       "\n",
       "          Romance of the Three Kingdoms Maker Space Colony Life is Hard  \\\n",
       "151603712                                 NaN          NaN          NaN   \n",
       "187131847                                 NaN          NaN          NaN   \n",
       "59945701                                  NaN          NaN          NaN   \n",
       "53875128                                  NaN          NaN          NaN   \n",
       "140954425                                 NaN          NaN          NaN   \n",
       "\n",
       "          Executive Assault O.R.B. MirrorMoon EP  \n",
       "151603712               NaN    NaN           NaN  \n",
       "187131847               NaN    NaN           NaN  \n",
       "59945701                NaN    NaN           NaN  \n",
       "53875128                NaN    NaN           NaN  \n",
       "140954425               NaN    NaN           NaN  \n",
       "\n",
       "[5 rows x 3553 columns]"
      ]
     },
     "execution_count": 91,
     "metadata": {},
     "output_type": "execute_result"
    }
   ],
   "source": [
    "# Fill with data\n",
    "\n",
    "for i in range(len(data_users_norm)):\n",
    "    user = data_users_norm.iloc[i]['user_id']\n",
    "    game = data_users_norm.iloc[i]['game']\n",
    "    playtime_matrix.loc[user,game] = data_users_norm.iloc[i]['playtime']\n",
    "    \n",
    "playtime_matrix.head()"
   ]
  },
  {
   "cell_type": "markdown",
   "metadata": {},
   "source": [
    "Obviously, there are many NaN entries, which means the user does not own the game or owns it but has never played (rare case). In this scenario, we fill the NaN cells with 0, which is the most rational, since the user has practically played 0 hours."
   ]
  },
  {
   "cell_type": "code",
   "execution_count": 92,
   "metadata": {
    "scrolled": true
   },
   "outputs": [
    {
     "data": {
      "text/html": [
       "<div>\n",
       "<style scoped>\n",
       "    .dataframe tbody tr th:only-of-type {\n",
       "        vertical-align: middle;\n",
       "    }\n",
       "\n",
       "    .dataframe tbody tr th {\n",
       "        vertical-align: top;\n",
       "    }\n",
       "\n",
       "    .dataframe thead th {\n",
       "        text-align: right;\n",
       "    }\n",
       "</style>\n",
       "<table border=\"1\" class=\"dataframe\">\n",
       "  <thead>\n",
       "    <tr style=\"text-align: right;\">\n",
       "      <th></th>\n",
       "      <th>Spore</th>\n",
       "      <th>Fallout New Vegas</th>\n",
       "      <th>Left 4 Dead 2</th>\n",
       "      <th>HuniePop</th>\n",
       "      <th>Path of Exile</th>\n",
       "      <th>Poly Bridge</th>\n",
       "      <th>Left 4 Dead</th>\n",
       "      <th>Team Fortress 2</th>\n",
       "      <th>Tomb Raider</th>\n",
       "      <th>The Banner Saga</th>\n",
       "      <th>...</th>\n",
       "      <th>Adventure Time  Explore the Dungeon Because I DONT KNOW!</th>\n",
       "      <th>Ride! Carnival Tycoon</th>\n",
       "      <th>SAMURAI WARRIORS 4-II</th>\n",
       "      <th>The Bug Butcher</th>\n",
       "      <th>Romance of the Three Kingdoms Maker</th>\n",
       "      <th>Space Colony</th>\n",
       "      <th>Life is Hard</th>\n",
       "      <th>Executive Assault</th>\n",
       "      <th>O.R.B.</th>\n",
       "      <th>MirrorMoon EP</th>\n",
       "    </tr>\n",
       "  </thead>\n",
       "  <tbody>\n",
       "    <tr>\n",
       "      <th>151603712</th>\n",
       "      <td>0.322440</td>\n",
       "      <td>0.261438</td>\n",
       "      <td>0.191721</td>\n",
       "      <td>0.183007</td>\n",
       "      <td>0.174292</td>\n",
       "      <td>0.16122</td>\n",
       "      <td>0.069717</td>\n",
       "      <td>0.058824</td>\n",
       "      <td>0.052288</td>\n",
       "      <td>0.041394</td>\n",
       "      <td>...</td>\n",
       "      <td>0.0</td>\n",
       "      <td>0.0</td>\n",
       "      <td>0.0</td>\n",
       "      <td>0.0</td>\n",
       "      <td>0.0</td>\n",
       "      <td>0.0</td>\n",
       "      <td>0.0</td>\n",
       "      <td>0.0</td>\n",
       "      <td>0.0</td>\n",
       "      <td>0.0</td>\n",
       "    </tr>\n",
       "    <tr>\n",
       "      <th>187131847</th>\n",
       "      <td>0.000000</td>\n",
       "      <td>0.000000</td>\n",
       "      <td>0.000000</td>\n",
       "      <td>0.000000</td>\n",
       "      <td>0.000000</td>\n",
       "      <td>0.00000</td>\n",
       "      <td>0.000000</td>\n",
       "      <td>0.000000</td>\n",
       "      <td>0.000000</td>\n",
       "      <td>0.000000</td>\n",
       "      <td>...</td>\n",
       "      <td>0.0</td>\n",
       "      <td>0.0</td>\n",
       "      <td>0.0</td>\n",
       "      <td>0.0</td>\n",
       "      <td>0.0</td>\n",
       "      <td>0.0</td>\n",
       "      <td>0.0</td>\n",
       "      <td>0.0</td>\n",
       "      <td>0.0</td>\n",
       "      <td>0.0</td>\n",
       "    </tr>\n",
       "    <tr>\n",
       "      <th>59945701</th>\n",
       "      <td>0.000000</td>\n",
       "      <td>0.000000</td>\n",
       "      <td>0.000000</td>\n",
       "      <td>0.000000</td>\n",
       "      <td>0.000000</td>\n",
       "      <td>0.00000</td>\n",
       "      <td>0.000000</td>\n",
       "      <td>0.000000</td>\n",
       "      <td>0.000000</td>\n",
       "      <td>0.000000</td>\n",
       "      <td>...</td>\n",
       "      <td>0.0</td>\n",
       "      <td>0.0</td>\n",
       "      <td>0.0</td>\n",
       "      <td>0.0</td>\n",
       "      <td>0.0</td>\n",
       "      <td>0.0</td>\n",
       "      <td>0.0</td>\n",
       "      <td>0.0</td>\n",
       "      <td>0.0</td>\n",
       "      <td>0.0</td>\n",
       "    </tr>\n",
       "    <tr>\n",
       "      <th>53875128</th>\n",
       "      <td>0.008715</td>\n",
       "      <td>0.161220</td>\n",
       "      <td>0.000000</td>\n",
       "      <td>0.000000</td>\n",
       "      <td>0.000000</td>\n",
       "      <td>0.00000</td>\n",
       "      <td>0.034858</td>\n",
       "      <td>0.000000</td>\n",
       "      <td>0.000000</td>\n",
       "      <td>0.000000</td>\n",
       "      <td>...</td>\n",
       "      <td>0.0</td>\n",
       "      <td>0.0</td>\n",
       "      <td>0.0</td>\n",
       "      <td>0.0</td>\n",
       "      <td>0.0</td>\n",
       "      <td>0.0</td>\n",
       "      <td>0.0</td>\n",
       "      <td>0.0</td>\n",
       "      <td>0.0</td>\n",
       "      <td>0.0</td>\n",
       "    </tr>\n",
       "    <tr>\n",
       "      <th>140954425</th>\n",
       "      <td>0.000000</td>\n",
       "      <td>0.000000</td>\n",
       "      <td>0.000000</td>\n",
       "      <td>0.000000</td>\n",
       "      <td>0.000000</td>\n",
       "      <td>0.00000</td>\n",
       "      <td>0.000000</td>\n",
       "      <td>0.281046</td>\n",
       "      <td>0.000000</td>\n",
       "      <td>0.000000</td>\n",
       "      <td>...</td>\n",
       "      <td>0.0</td>\n",
       "      <td>0.0</td>\n",
       "      <td>0.0</td>\n",
       "      <td>0.0</td>\n",
       "      <td>0.0</td>\n",
       "      <td>0.0</td>\n",
       "      <td>0.0</td>\n",
       "      <td>0.0</td>\n",
       "      <td>0.0</td>\n",
       "      <td>0.0</td>\n",
       "    </tr>\n",
       "  </tbody>\n",
       "</table>\n",
       "<p>5 rows × 3553 columns</p>\n",
       "</div>"
      ],
      "text/plain": [
       "              Spore  Fallout New Vegas  Left 4 Dead 2  HuniePop  \\\n",
       "151603712  0.322440           0.261438       0.191721  0.183007   \n",
       "187131847  0.000000           0.000000       0.000000  0.000000   \n",
       "59945701   0.000000           0.000000       0.000000  0.000000   \n",
       "53875128   0.008715           0.161220       0.000000  0.000000   \n",
       "140954425  0.000000           0.000000       0.000000  0.000000   \n",
       "\n",
       "           Path of Exile  Poly Bridge  Left 4 Dead  Team Fortress 2  \\\n",
       "151603712       0.174292      0.16122     0.069717         0.058824   \n",
       "187131847       0.000000      0.00000     0.000000         0.000000   \n",
       "59945701        0.000000      0.00000     0.000000         0.000000   \n",
       "53875128        0.000000      0.00000     0.034858         0.000000   \n",
       "140954425       0.000000      0.00000     0.000000         0.281046   \n",
       "\n",
       "           Tomb Raider  The Banner Saga  ...  \\\n",
       "151603712     0.052288         0.041394  ...   \n",
       "187131847     0.000000         0.000000  ...   \n",
       "59945701      0.000000         0.000000  ...   \n",
       "53875128      0.000000         0.000000  ...   \n",
       "140954425     0.000000         0.000000  ...   \n",
       "\n",
       "           Adventure Time  Explore the Dungeon Because I DONT KNOW!  \\\n",
       "151603712                                                0.0          \n",
       "187131847                                                0.0          \n",
       "59945701                                                 0.0          \n",
       "53875128                                                 0.0          \n",
       "140954425                                                0.0          \n",
       "\n",
       "           Ride! Carnival Tycoon  SAMURAI WARRIORS 4-II  The Bug Butcher  \\\n",
       "151603712                    0.0                    0.0              0.0   \n",
       "187131847                    0.0                    0.0              0.0   \n",
       "59945701                     0.0                    0.0              0.0   \n",
       "53875128                     0.0                    0.0              0.0   \n",
       "140954425                    0.0                    0.0              0.0   \n",
       "\n",
       "           Romance of the Three Kingdoms Maker  Space Colony  Life is Hard  \\\n",
       "151603712                                  0.0           0.0           0.0   \n",
       "187131847                                  0.0           0.0           0.0   \n",
       "59945701                                   0.0           0.0           0.0   \n",
       "53875128                                   0.0           0.0           0.0   \n",
       "140954425                                  0.0           0.0           0.0   \n",
       "\n",
       "           Executive Assault  O.R.B.  MirrorMoon EP  \n",
       "151603712                0.0     0.0            0.0  \n",
       "187131847                0.0     0.0            0.0  \n",
       "59945701                 0.0     0.0            0.0  \n",
       "53875128                 0.0     0.0            0.0  \n",
       "140954425                0.0     0.0            0.0  \n",
       "\n",
       "[5 rows x 3553 columns]"
      ]
     },
     "execution_count": 92,
     "metadata": {},
     "output_type": "execute_result"
    }
   ],
   "source": [
    "# Replace NaN values with 0\n",
    "\n",
    "playtime_matrix.fillna(0, inplace=True)\n",
    "playtime_matrix.head()"
   ]
  },
  {
   "cell_type": "markdown",
   "metadata": {},
   "source": [
    "Apply SVD on the playtime matrix."
   ]
  },
  {
   "cell_type": "code",
   "execution_count": 93,
   "metadata": {
    "scrolled": true
   },
   "outputs": [
    {
     "data": {
      "text/html": [
       "<div>\n",
       "<style scoped>\n",
       "    .dataframe tbody tr th:only-of-type {\n",
       "        vertical-align: middle;\n",
       "    }\n",
       "\n",
       "    .dataframe tbody tr th {\n",
       "        vertical-align: top;\n",
       "    }\n",
       "\n",
       "    .dataframe thead th {\n",
       "        text-align: right;\n",
       "    }\n",
       "</style>\n",
       "<table border=\"1\" class=\"dataframe\">\n",
       "  <thead>\n",
       "    <tr style=\"text-align: right;\">\n",
       "      <th></th>\n",
       "      <th>Spore</th>\n",
       "      <th>Fallout New Vegas</th>\n",
       "      <th>Left 4 Dead 2</th>\n",
       "      <th>HuniePop</th>\n",
       "      <th>Path of Exile</th>\n",
       "      <th>Poly Bridge</th>\n",
       "      <th>Left 4 Dead</th>\n",
       "      <th>Team Fortress 2</th>\n",
       "      <th>Tomb Raider</th>\n",
       "      <th>The Banner Saga</th>\n",
       "      <th>...</th>\n",
       "      <th>Adventure Time  Explore the Dungeon Because I DONT KNOW!</th>\n",
       "      <th>Ride! Carnival Tycoon</th>\n",
       "      <th>SAMURAI WARRIORS 4-II</th>\n",
       "      <th>The Bug Butcher</th>\n",
       "      <th>Romance of the Three Kingdoms Maker</th>\n",
       "      <th>Space Colony</th>\n",
       "      <th>Life is Hard</th>\n",
       "      <th>Executive Assault</th>\n",
       "      <th>O.R.B.</th>\n",
       "      <th>MirrorMoon EP</th>\n",
       "    </tr>\n",
       "  </thead>\n",
       "  <tbody>\n",
       "    <tr>\n",
       "      <th>151603712</th>\n",
       "      <td>0.001735</td>\n",
       "      <td>0.012915</td>\n",
       "      <td>0.035655</td>\n",
       "      <td>0.001195</td>\n",
       "      <td>0.004688</td>\n",
       "      <td>0.000116</td>\n",
       "      <td>0.008286</td>\n",
       "      <td>0.048516</td>\n",
       "      <td>0.012772</td>\n",
       "      <td>0.001796</td>\n",
       "      <td>...</td>\n",
       "      <td>2.439705e-07</td>\n",
       "      <td>-3.487759e-19</td>\n",
       "      <td>0.000013</td>\n",
       "      <td>1.231629e-06</td>\n",
       "      <td>4.069447e-07</td>\n",
       "      <td>0.000097</td>\n",
       "      <td>0.000024</td>\n",
       "      <td>0.000021</td>\n",
       "      <td>4.868223e-06</td>\n",
       "      <td>4.056852e-06</td>\n",
       "    </tr>\n",
       "    <tr>\n",
       "      <th>187131847</th>\n",
       "      <td>0.000016</td>\n",
       "      <td>-0.000142</td>\n",
       "      <td>0.000125</td>\n",
       "      <td>0.000044</td>\n",
       "      <td>0.000564</td>\n",
       "      <td>0.000004</td>\n",
       "      <td>-0.000075</td>\n",
       "      <td>0.000741</td>\n",
       "      <td>-0.000215</td>\n",
       "      <td>-0.000058</td>\n",
       "      <td>...</td>\n",
       "      <td>-3.934782e-09</td>\n",
       "      <td>2.248890e-20</td>\n",
       "      <td>0.000007</td>\n",
       "      <td>6.367542e-07</td>\n",
       "      <td>-1.378308e-08</td>\n",
       "      <td>-0.000005</td>\n",
       "      <td>-0.000001</td>\n",
       "      <td>-0.000001</td>\n",
       "      <td>-2.770545e-07</td>\n",
       "      <td>-2.308787e-07</td>\n",
       "    </tr>\n",
       "    <tr>\n",
       "      <th>59945701</th>\n",
       "      <td>0.001690</td>\n",
       "      <td>0.012632</td>\n",
       "      <td>0.034763</td>\n",
       "      <td>0.001156</td>\n",
       "      <td>0.004454</td>\n",
       "      <td>0.000112</td>\n",
       "      <td>0.008101</td>\n",
       "      <td>0.047181</td>\n",
       "      <td>0.012509</td>\n",
       "      <td>0.001765</td>\n",
       "      <td>...</td>\n",
       "      <td>2.388940e-07</td>\n",
       "      <td>-3.451217e-19</td>\n",
       "      <td>0.000011</td>\n",
       "      <td>1.065714e-06</td>\n",
       "      <td>4.000197e-07</td>\n",
       "      <td>0.000095</td>\n",
       "      <td>0.000024</td>\n",
       "      <td>0.000021</td>\n",
       "      <td>4.809345e-06</td>\n",
       "      <td>4.007787e-06</td>\n",
       "    </tr>\n",
       "    <tr>\n",
       "      <th>53875128</th>\n",
       "      <td>0.012330</td>\n",
       "      <td>0.092380</td>\n",
       "      <td>0.253853</td>\n",
       "      <td>0.008415</td>\n",
       "      <td>0.032115</td>\n",
       "      <td>0.000816</td>\n",
       "      <td>0.059235</td>\n",
       "      <td>0.344107</td>\n",
       "      <td>0.091536</td>\n",
       "      <td>0.012935</td>\n",
       "      <td>...</td>\n",
       "      <td>1.748053e-06</td>\n",
       "      <td>-2.537838e-18</td>\n",
       "      <td>0.000077</td>\n",
       "      <td>7.311875e-06</td>\n",
       "      <td>2.932400e-06</td>\n",
       "      <td>0.000701</td>\n",
       "      <td>0.000177</td>\n",
       "      <td>0.000153</td>\n",
       "      <td>3.533832e-05</td>\n",
       "      <td>2.944860e-05</td>\n",
       "    </tr>\n",
       "    <tr>\n",
       "      <th>140954425</th>\n",
       "      <td>0.001396</td>\n",
       "      <td>0.010419</td>\n",
       "      <td>0.028714</td>\n",
       "      <td>0.000958</td>\n",
       "      <td>0.003722</td>\n",
       "      <td>0.000093</td>\n",
       "      <td>0.006683</td>\n",
       "      <td>0.039016</td>\n",
       "      <td>0.010311</td>\n",
       "      <td>0.001453</td>\n",
       "      <td>...</td>\n",
       "      <td>1.969464e-07</td>\n",
       "      <td>-2.831984e-19</td>\n",
       "      <td>0.000010</td>\n",
       "      <td>9.301009e-07</td>\n",
       "      <td>3.292135e-07</td>\n",
       "      <td>0.000078</td>\n",
       "      <td>0.000020</td>\n",
       "      <td>0.000017</td>\n",
       "      <td>3.949291e-06</td>\n",
       "      <td>3.291076e-06</td>\n",
       "    </tr>\n",
       "  </tbody>\n",
       "</table>\n",
       "<p>5 rows × 3553 columns</p>\n",
       "</div>"
      ],
      "text/plain": [
       "              Spore  Fallout New Vegas  Left 4 Dead 2  HuniePop  \\\n",
       "151603712  0.001735           0.012915       0.035655  0.001195   \n",
       "187131847  0.000016          -0.000142       0.000125  0.000044   \n",
       "59945701   0.001690           0.012632       0.034763  0.001156   \n",
       "53875128   0.012330           0.092380       0.253853  0.008415   \n",
       "140954425  0.001396           0.010419       0.028714  0.000958   \n",
       "\n",
       "           Path of Exile  Poly Bridge  Left 4 Dead  Team Fortress 2  \\\n",
       "151603712       0.004688     0.000116     0.008286         0.048516   \n",
       "187131847       0.000564     0.000004    -0.000075         0.000741   \n",
       "59945701        0.004454     0.000112     0.008101         0.047181   \n",
       "53875128        0.032115     0.000816     0.059235         0.344107   \n",
       "140954425       0.003722     0.000093     0.006683         0.039016   \n",
       "\n",
       "           Tomb Raider  The Banner Saga  ...  \\\n",
       "151603712     0.012772         0.001796  ...   \n",
       "187131847    -0.000215        -0.000058  ...   \n",
       "59945701      0.012509         0.001765  ...   \n",
       "53875128      0.091536         0.012935  ...   \n",
       "140954425     0.010311         0.001453  ...   \n",
       "\n",
       "           Adventure Time  Explore the Dungeon Because I DONT KNOW!  \\\n",
       "151603712                                       2.439705e-07          \n",
       "187131847                                      -3.934782e-09          \n",
       "59945701                                        2.388940e-07          \n",
       "53875128                                        1.748053e-06          \n",
       "140954425                                       1.969464e-07          \n",
       "\n",
       "           Ride! Carnival Tycoon  SAMURAI WARRIORS 4-II  The Bug Butcher  \\\n",
       "151603712          -3.487759e-19               0.000013     1.231629e-06   \n",
       "187131847           2.248890e-20               0.000007     6.367542e-07   \n",
       "59945701           -3.451217e-19               0.000011     1.065714e-06   \n",
       "53875128           -2.537838e-18               0.000077     7.311875e-06   \n",
       "140954425          -2.831984e-19               0.000010     9.301009e-07   \n",
       "\n",
       "           Romance of the Three Kingdoms Maker  Space Colony  Life is Hard  \\\n",
       "151603712                         4.069447e-07      0.000097      0.000024   \n",
       "187131847                        -1.378308e-08     -0.000005     -0.000001   \n",
       "59945701                          4.000197e-07      0.000095      0.000024   \n",
       "53875128                          2.932400e-06      0.000701      0.000177   \n",
       "140954425                         3.292135e-07      0.000078      0.000020   \n",
       "\n",
       "           Executive Assault        O.R.B.  MirrorMoon EP  \n",
       "151603712           0.000021  4.868223e-06   4.056852e-06  \n",
       "187131847          -0.000001 -2.770545e-07  -2.308787e-07  \n",
       "59945701            0.000021  4.809345e-06   4.007787e-06  \n",
       "53875128            0.000153  3.533832e-05   2.944860e-05  \n",
       "140954425           0.000017  3.949291e-06   3.291076e-06  \n",
       "\n",
       "[5 rows x 3553 columns]"
      ]
     },
     "execution_count": 93,
     "metadata": {},
     "output_type": "execute_result"
    }
   ],
   "source": [
    "from scipy.sparse.linalg import svds\n",
    "\n",
    "playtime_matrix_filled = playtime_matrix.to_numpy()\n",
    "\n",
    "# Apply SVD\n",
    "U_svd, sigma_svd, Vt_svd = svds(playtime_matrix_filled.astype(float), k=2)\n",
    "\n",
    "# Construct diagonal array in SVD\n",
    "sigma_svd = np.diag(sigma_svd)\n",
    "\n",
    "# Reconstruct the matrix\n",
    "approximated_playtime = np.dot(np.dot(U_svd, sigma_svd), Vt_svd)\n",
    "\n",
    "# Convert back to DataFrame for easier interpretation\n",
    "approximated_playtime_df = pd.DataFrame(approximated_playtime, columns=playtime_matrix.columns, index=playtime_matrix.index)\n",
    "approximated_playtime_df.head()"
   ]
  },
  {
   "cell_type": "markdown",
   "metadata": {},
   "source": [
    "The function below recommends num_recommendations games, for user user_id, based on the predictions made above. Therefore, these recommendations are purely based on what other users have played (and not the game type in this case)."
   ]
  },
  {
   "cell_type": "code",
   "execution_count": 94,
   "metadata": {},
   "outputs": [],
   "source": [
    "def recommend_games_based_on_other_users(user_id, num_recommendations, predictions, user_id_groups):\n",
    "    # Get and sort the user's predictions\n",
    "    sorted_user_predictions = predictions.loc[user_id].sort_values(ascending=False)\n",
    "    \n",
    "    # Get list of purchased games\n",
    "    purchased_games = user_id_groups.get_group(user_id)['game'].unique().tolist()\n",
    "    \n",
    "    # Recommend the highest predicted rating games that the user hasn't played yet.\n",
    "    count_games = 0 \n",
    "    recommendations = []\n",
    "    for i in range(0,sorted_user_predictions.shape[0],1):\n",
    "        predicted_game_score = sorted_user_predictions[i]\n",
    "        predicted_game_name = sorted_user_predictions.index[i]\n",
    "        if predicted_game_name not in purchased_games:\n",
    "            count_games+=1\n",
    "            recommendations.append(predicted_game_name)\n",
    "        if count_games >= num_recommendations:\n",
    "            break\n",
    "\n",
    "    return recommendations"
   ]
  },
  {
   "cell_type": "markdown",
   "metadata": {},
   "source": [
    "Let's try it for user 236188947. First check what they have purchased, then recommend 5 games for them."
   ]
  },
  {
   "cell_type": "code",
   "execution_count": 95,
   "metadata": {},
   "outputs": [
    {
     "data": {
      "text/plain": [
       "['Grand Theft Auto V',\n",
       " 'Soccer Manager 2015',\n",
       " 'METAL SLUG DEFENSE',\n",
       " 'Dirty Bomb']"
      ]
     },
     "execution_count": 95,
     "metadata": {},
     "output_type": "execute_result"
    }
   ],
   "source": [
    "steam_data_purchase_gr.get_group(236188947)['game'].unique().tolist()"
   ]
  },
  {
   "cell_type": "code",
   "execution_count": 96,
   "metadata": {},
   "outputs": [
    {
     "name": "stdout",
     "output_type": "stream",
     "text": [
      "Top 5 Recommendations for user '236188947' based on what other users play:\n",
      "1. Team Fortress 2\n",
      "2. Left 4 Dead 2\n",
      "3. Portal 2\n",
      "4. Counter-Strike Global Offensive\n",
      "5. Garry's Mod\n"
     ]
    }
   ],
   "source": [
    "target_user = 236188947\n",
    "\n",
    "recommendations = recommend_games_based_on_other_users(target_user, 5, approximated_playtime_df, steam_data_purchase_gr)\n",
    "\n",
    "print(f\"Top 5 Recommendations for user '{target_user}' based on what other users play:\")\n",
    "for i, game in enumerate(recommendations):\n",
    "    print(f\"{i + 1}. {game}\")"
   ]
  },
  {
   "cell_type": "markdown",
   "metadata": {},
   "source": [
    "<br>"
   ]
  },
  {
   "cell_type": "markdown",
   "metadata": {},
   "source": [
    "# STEAM GAMES DATASET"
   ]
  },
  {
   "cell_type": "markdown",
   "metadata": {},
   "source": [
    "### Dataset Preprocessing"
   ]
  },
  {
   "cell_type": "markdown",
   "metadata": {},
   "source": [
    "Now, we process the steam_games dataset, which will be used for methods 1 and 2 (recommend a game based on tags or based on publisher, weighted by the overall reviews)."
   ]
  },
  {
   "cell_type": "code",
   "execution_count": 97,
   "metadata": {},
   "outputs": [],
   "source": [
    "import numpy as np\n",
    "import pandas as pd\n",
    "\n",
    "data = pd.read_csv('./steam_games.csv')"
   ]
  },
  {
   "cell_type": "code",
   "execution_count": 98,
   "metadata": {},
   "outputs": [
    {
     "data": {
      "text/html": [
       "<div>\n",
       "<style scoped>\n",
       "    .dataframe tbody tr th:only-of-type {\n",
       "        vertical-align: middle;\n",
       "    }\n",
       "\n",
       "    .dataframe tbody tr th {\n",
       "        vertical-align: top;\n",
       "    }\n",
       "\n",
       "    .dataframe thead th {\n",
       "        text-align: right;\n",
       "    }\n",
       "</style>\n",
       "<table border=\"1\" class=\"dataframe\">\n",
       "  <thead>\n",
       "    <tr style=\"text-align: right;\">\n",
       "      <th></th>\n",
       "      <th>appid</th>\n",
       "      <th>name</th>\n",
       "      <th>release_date</th>\n",
       "      <th>english</th>\n",
       "      <th>developer</th>\n",
       "      <th>publisher</th>\n",
       "      <th>platforms</th>\n",
       "      <th>required_age</th>\n",
       "      <th>categories</th>\n",
       "      <th>genres</th>\n",
       "      <th>steamspy_tags</th>\n",
       "      <th>achievements</th>\n",
       "      <th>positive_ratings</th>\n",
       "      <th>negative_ratings</th>\n",
       "      <th>average_playtime</th>\n",
       "      <th>median_playtime</th>\n",
       "      <th>owners</th>\n",
       "      <th>price</th>\n",
       "    </tr>\n",
       "  </thead>\n",
       "  <tbody>\n",
       "    <tr>\n",
       "      <th>0</th>\n",
       "      <td>10</td>\n",
       "      <td>Counter-Strike</td>\n",
       "      <td>2000-11-01</td>\n",
       "      <td>1</td>\n",
       "      <td>Valve</td>\n",
       "      <td>Valve</td>\n",
       "      <td>windows;mac;linux</td>\n",
       "      <td>0</td>\n",
       "      <td>Multi-player;Online Multi-Player;Local Multi-P...</td>\n",
       "      <td>Action</td>\n",
       "      <td>Action;FPS;Multiplayer</td>\n",
       "      <td>0</td>\n",
       "      <td>124534</td>\n",
       "      <td>3339</td>\n",
       "      <td>17612</td>\n",
       "      <td>317</td>\n",
       "      <td>10000000-20000000</td>\n",
       "      <td>7.19</td>\n",
       "    </tr>\n",
       "    <tr>\n",
       "      <th>1</th>\n",
       "      <td>20</td>\n",
       "      <td>Team Fortress Classic</td>\n",
       "      <td>1999-04-01</td>\n",
       "      <td>1</td>\n",
       "      <td>Valve</td>\n",
       "      <td>Valve</td>\n",
       "      <td>windows;mac;linux</td>\n",
       "      <td>0</td>\n",
       "      <td>Multi-player;Online Multi-Player;Local Multi-P...</td>\n",
       "      <td>Action</td>\n",
       "      <td>Action;FPS;Multiplayer</td>\n",
       "      <td>0</td>\n",
       "      <td>3318</td>\n",
       "      <td>633</td>\n",
       "      <td>277</td>\n",
       "      <td>62</td>\n",
       "      <td>5000000-10000000</td>\n",
       "      <td>3.99</td>\n",
       "    </tr>\n",
       "    <tr>\n",
       "      <th>2</th>\n",
       "      <td>30</td>\n",
       "      <td>Day of Defeat</td>\n",
       "      <td>2003-05-01</td>\n",
       "      <td>1</td>\n",
       "      <td>Valve</td>\n",
       "      <td>Valve</td>\n",
       "      <td>windows;mac;linux</td>\n",
       "      <td>0</td>\n",
       "      <td>Multi-player;Valve Anti-Cheat enabled</td>\n",
       "      <td>Action</td>\n",
       "      <td>FPS;World War II;Multiplayer</td>\n",
       "      <td>0</td>\n",
       "      <td>3416</td>\n",
       "      <td>398</td>\n",
       "      <td>187</td>\n",
       "      <td>34</td>\n",
       "      <td>5000000-10000000</td>\n",
       "      <td>3.99</td>\n",
       "    </tr>\n",
       "    <tr>\n",
       "      <th>3</th>\n",
       "      <td>40</td>\n",
       "      <td>Deathmatch Classic</td>\n",
       "      <td>2001-06-01</td>\n",
       "      <td>1</td>\n",
       "      <td>Valve</td>\n",
       "      <td>Valve</td>\n",
       "      <td>windows;mac;linux</td>\n",
       "      <td>0</td>\n",
       "      <td>Multi-player;Online Multi-Player;Local Multi-P...</td>\n",
       "      <td>Action</td>\n",
       "      <td>Action;FPS;Multiplayer</td>\n",
       "      <td>0</td>\n",
       "      <td>1273</td>\n",
       "      <td>267</td>\n",
       "      <td>258</td>\n",
       "      <td>184</td>\n",
       "      <td>5000000-10000000</td>\n",
       "      <td>3.99</td>\n",
       "    </tr>\n",
       "    <tr>\n",
       "      <th>4</th>\n",
       "      <td>50</td>\n",
       "      <td>Half-Life: Opposing Force</td>\n",
       "      <td>1999-11-01</td>\n",
       "      <td>1</td>\n",
       "      <td>Gearbox Software</td>\n",
       "      <td>Valve</td>\n",
       "      <td>windows;mac;linux</td>\n",
       "      <td>0</td>\n",
       "      <td>Single-player;Multi-player;Valve Anti-Cheat en...</td>\n",
       "      <td>Action</td>\n",
       "      <td>FPS;Action;Sci-fi</td>\n",
       "      <td>0</td>\n",
       "      <td>5250</td>\n",
       "      <td>288</td>\n",
       "      <td>624</td>\n",
       "      <td>415</td>\n",
       "      <td>5000000-10000000</td>\n",
       "      <td>3.99</td>\n",
       "    </tr>\n",
       "  </tbody>\n",
       "</table>\n",
       "</div>"
      ],
      "text/plain": [
       "   appid                       name release_date  english         developer  \\\n",
       "0     10             Counter-Strike   2000-11-01        1             Valve   \n",
       "1     20      Team Fortress Classic   1999-04-01        1             Valve   \n",
       "2     30              Day of Defeat   2003-05-01        1             Valve   \n",
       "3     40         Deathmatch Classic   2001-06-01        1             Valve   \n",
       "4     50  Half-Life: Opposing Force   1999-11-01        1  Gearbox Software   \n",
       "\n",
       "  publisher          platforms  required_age  \\\n",
       "0     Valve  windows;mac;linux             0   \n",
       "1     Valve  windows;mac;linux             0   \n",
       "2     Valve  windows;mac;linux             0   \n",
       "3     Valve  windows;mac;linux             0   \n",
       "4     Valve  windows;mac;linux             0   \n",
       "\n",
       "                                          categories  genres  \\\n",
       "0  Multi-player;Online Multi-Player;Local Multi-P...  Action   \n",
       "1  Multi-player;Online Multi-Player;Local Multi-P...  Action   \n",
       "2              Multi-player;Valve Anti-Cheat enabled  Action   \n",
       "3  Multi-player;Online Multi-Player;Local Multi-P...  Action   \n",
       "4  Single-player;Multi-player;Valve Anti-Cheat en...  Action   \n",
       "\n",
       "                  steamspy_tags  achievements  positive_ratings  \\\n",
       "0        Action;FPS;Multiplayer             0            124534   \n",
       "1        Action;FPS;Multiplayer             0              3318   \n",
       "2  FPS;World War II;Multiplayer             0              3416   \n",
       "3        Action;FPS;Multiplayer             0              1273   \n",
       "4             FPS;Action;Sci-fi             0              5250   \n",
       "\n",
       "   negative_ratings  average_playtime  median_playtime             owners  \\\n",
       "0              3339             17612              317  10000000-20000000   \n",
       "1               633               277               62   5000000-10000000   \n",
       "2               398               187               34   5000000-10000000   \n",
       "3               267               258              184   5000000-10000000   \n",
       "4               288               624              415   5000000-10000000   \n",
       "\n",
       "   price  \n",
       "0   7.19  \n",
       "1   3.99  \n",
       "2   3.99  \n",
       "3   3.99  \n",
       "4   3.99  "
      ]
     },
     "execution_count": 98,
     "metadata": {},
     "output_type": "execute_result"
    }
   ],
   "source": [
    "data.head()"
   ]
  },
  {
   "cell_type": "markdown",
   "metadata": {},
   "source": [
    "Drop the columns we do not need for our implementation."
   ]
  },
  {
   "cell_type": "code",
   "execution_count": 99,
   "metadata": {},
   "outputs": [],
   "source": [
    "data = data.drop('owners', axis = 1)\n",
    "data = data.drop('release_date', axis = 1)\n",
    "data = data.drop('english', axis = 1)\n",
    "data = data.drop('platforms', axis = 1)\n",
    "data = data.drop('required_age', axis = 1)\n",
    "data = data.drop('achievements', axis = 1)\n",
    "\n",
    "# SteamSpy tags are more than enough, only keep those\n",
    "# and remove categories and genres columns\n",
    "data = data.drop('categories', axis = 1)\n",
    "data = data.drop('genres', axis = 1)\n",
    "\n",
    "data = data.drop('appid', axis = 1)\n",
    "data = data.drop('developer', axis = 1)\n",
    "data = data.drop('average_playtime', axis = 1)\n",
    "data = data.drop('median_playtime', axis = 1)\n",
    "data = data.drop('price', axis = 1)"
   ]
  },
  {
   "cell_type": "code",
   "execution_count": 100,
   "metadata": {},
   "outputs": [
    {
     "data": {
      "text/html": [
       "<div>\n",
       "<style scoped>\n",
       "    .dataframe tbody tr th:only-of-type {\n",
       "        vertical-align: middle;\n",
       "    }\n",
       "\n",
       "    .dataframe tbody tr th {\n",
       "        vertical-align: top;\n",
       "    }\n",
       "\n",
       "    .dataframe thead th {\n",
       "        text-align: right;\n",
       "    }\n",
       "</style>\n",
       "<table border=\"1\" class=\"dataframe\">\n",
       "  <thead>\n",
       "    <tr style=\"text-align: right;\">\n",
       "      <th></th>\n",
       "      <th>name</th>\n",
       "      <th>publisher</th>\n",
       "      <th>steamspy_tags</th>\n",
       "      <th>positive_ratings</th>\n",
       "      <th>negative_ratings</th>\n",
       "    </tr>\n",
       "  </thead>\n",
       "  <tbody>\n",
       "    <tr>\n",
       "      <th>0</th>\n",
       "      <td>Counter-Strike</td>\n",
       "      <td>Valve</td>\n",
       "      <td>Action;FPS;Multiplayer</td>\n",
       "      <td>124534</td>\n",
       "      <td>3339</td>\n",
       "    </tr>\n",
       "    <tr>\n",
       "      <th>1</th>\n",
       "      <td>Team Fortress Classic</td>\n",
       "      <td>Valve</td>\n",
       "      <td>Action;FPS;Multiplayer</td>\n",
       "      <td>3318</td>\n",
       "      <td>633</td>\n",
       "    </tr>\n",
       "    <tr>\n",
       "      <th>2</th>\n",
       "      <td>Day of Defeat</td>\n",
       "      <td>Valve</td>\n",
       "      <td>FPS;World War II;Multiplayer</td>\n",
       "      <td>3416</td>\n",
       "      <td>398</td>\n",
       "    </tr>\n",
       "    <tr>\n",
       "      <th>3</th>\n",
       "      <td>Deathmatch Classic</td>\n",
       "      <td>Valve</td>\n",
       "      <td>Action;FPS;Multiplayer</td>\n",
       "      <td>1273</td>\n",
       "      <td>267</td>\n",
       "    </tr>\n",
       "    <tr>\n",
       "      <th>4</th>\n",
       "      <td>Half-Life: Opposing Force</td>\n",
       "      <td>Valve</td>\n",
       "      <td>FPS;Action;Sci-fi</td>\n",
       "      <td>5250</td>\n",
       "      <td>288</td>\n",
       "    </tr>\n",
       "  </tbody>\n",
       "</table>\n",
       "</div>"
      ],
      "text/plain": [
       "                        name publisher                 steamspy_tags  \\\n",
       "0             Counter-Strike     Valve        Action;FPS;Multiplayer   \n",
       "1      Team Fortress Classic     Valve        Action;FPS;Multiplayer   \n",
       "2              Day of Defeat     Valve  FPS;World War II;Multiplayer   \n",
       "3         Deathmatch Classic     Valve        Action;FPS;Multiplayer   \n",
       "4  Half-Life: Opposing Force     Valve             FPS;Action;Sci-fi   \n",
       "\n",
       "   positive_ratings  negative_ratings  \n",
       "0            124534              3339  \n",
       "1              3318               633  \n",
       "2              3416               398  \n",
       "3              1273               267  \n",
       "4              5250               288  "
      ]
     },
     "execution_count": 100,
     "metadata": {},
     "output_type": "execute_result"
    }
   ],
   "source": [
    "data.head()"
   ]
  },
  {
   "cell_type": "markdown",
   "metadata": {},
   "source": [
    "For the tags text feature, we chose to go with TF-IDF Vectorization, which is suitable when we have natural language content, like descriptions or - in our case - tags. We start by tokenizing the column, since the tags are seperated by ; . We then convert them to a text format and store them in a temporary column, to apply TF-IDF Vectorization, which will generate our tags_tfidf_matrix."
   ]
  },
  {
   "cell_type": "code",
   "execution_count": 101,
   "metadata": {},
   "outputs": [
    {
     "data": {
      "text/html": [
       "<div>\n",
       "<style scoped>\n",
       "    .dataframe tbody tr th:only-of-type {\n",
       "        vertical-align: middle;\n",
       "    }\n",
       "\n",
       "    .dataframe tbody tr th {\n",
       "        vertical-align: top;\n",
       "    }\n",
       "\n",
       "    .dataframe thead th {\n",
       "        text-align: right;\n",
       "    }\n",
       "</style>\n",
       "<table border=\"1\" class=\"dataframe\">\n",
       "  <thead>\n",
       "    <tr style=\"text-align: right;\">\n",
       "      <th></th>\n",
       "      <th>name</th>\n",
       "      <th>publisher</th>\n",
       "      <th>steamspy_tags</th>\n",
       "      <th>positive_ratings</th>\n",
       "      <th>negative_ratings</th>\n",
       "    </tr>\n",
       "  </thead>\n",
       "  <tbody>\n",
       "    <tr>\n",
       "      <th>0</th>\n",
       "      <td>Counter-Strike</td>\n",
       "      <td>Valve</td>\n",
       "      <td>[Action, FPS, Multiplayer]</td>\n",
       "      <td>124534</td>\n",
       "      <td>3339</td>\n",
       "    </tr>\n",
       "    <tr>\n",
       "      <th>1</th>\n",
       "      <td>Team Fortress Classic</td>\n",
       "      <td>Valve</td>\n",
       "      <td>[Action, FPS, Multiplayer]</td>\n",
       "      <td>3318</td>\n",
       "      <td>633</td>\n",
       "    </tr>\n",
       "    <tr>\n",
       "      <th>2</th>\n",
       "      <td>Day of Defeat</td>\n",
       "      <td>Valve</td>\n",
       "      <td>[FPS, World War II, Multiplayer]</td>\n",
       "      <td>3416</td>\n",
       "      <td>398</td>\n",
       "    </tr>\n",
       "    <tr>\n",
       "      <th>3</th>\n",
       "      <td>Deathmatch Classic</td>\n",
       "      <td>Valve</td>\n",
       "      <td>[Action, FPS, Multiplayer]</td>\n",
       "      <td>1273</td>\n",
       "      <td>267</td>\n",
       "    </tr>\n",
       "    <tr>\n",
       "      <th>4</th>\n",
       "      <td>Half-Life: Opposing Force</td>\n",
       "      <td>Valve</td>\n",
       "      <td>[FPS, Action, Sci-fi]</td>\n",
       "      <td>5250</td>\n",
       "      <td>288</td>\n",
       "    </tr>\n",
       "  </tbody>\n",
       "</table>\n",
       "</div>"
      ],
      "text/plain": [
       "                        name publisher                     steamspy_tags  \\\n",
       "0             Counter-Strike     Valve        [Action, FPS, Multiplayer]   \n",
       "1      Team Fortress Classic     Valve        [Action, FPS, Multiplayer]   \n",
       "2              Day of Defeat     Valve  [FPS, World War II, Multiplayer]   \n",
       "3         Deathmatch Classic     Valve        [Action, FPS, Multiplayer]   \n",
       "4  Half-Life: Opposing Force     Valve             [FPS, Action, Sci-fi]   \n",
       "\n",
       "   positive_ratings  negative_ratings  \n",
       "0            124534              3339  \n",
       "1              3318               633  \n",
       "2              3416               398  \n",
       "3              1273               267  \n",
       "4              5250               288  "
      ]
     },
     "execution_count": 101,
     "metadata": {},
     "output_type": "execute_result"
    }
   ],
   "source": [
    "# Tokenize steamspy_tags\n",
    "\n",
    "data['steamspy_tags'] = data['steamspy_tags'].apply(lambda tags: tags.split(';'))\n",
    "data.head()"
   ]
  },
  {
   "cell_type": "code",
   "execution_count": 102,
   "metadata": {},
   "outputs": [
    {
     "data": {
      "text/html": [
       "<div>\n",
       "<style scoped>\n",
       "    .dataframe tbody tr th:only-of-type {\n",
       "        vertical-align: middle;\n",
       "    }\n",
       "\n",
       "    .dataframe tbody tr th {\n",
       "        vertical-align: top;\n",
       "    }\n",
       "\n",
       "    .dataframe thead th {\n",
       "        text-align: right;\n",
       "    }\n",
       "</style>\n",
       "<table border=\"1\" class=\"dataframe\">\n",
       "  <thead>\n",
       "    <tr style=\"text-align: right;\">\n",
       "      <th></th>\n",
       "      <th>name</th>\n",
       "      <th>publisher</th>\n",
       "      <th>steamspy_tags</th>\n",
       "      <th>positive_ratings</th>\n",
       "      <th>negative_ratings</th>\n",
       "      <th>tags_text</th>\n",
       "    </tr>\n",
       "  </thead>\n",
       "  <tbody>\n",
       "    <tr>\n",
       "      <th>0</th>\n",
       "      <td>Counter-Strike</td>\n",
       "      <td>Valve</td>\n",
       "      <td>[Action, FPS, Multiplayer]</td>\n",
       "      <td>124534</td>\n",
       "      <td>3339</td>\n",
       "      <td>Action FPS Multiplayer</td>\n",
       "    </tr>\n",
       "    <tr>\n",
       "      <th>1</th>\n",
       "      <td>Team Fortress Classic</td>\n",
       "      <td>Valve</td>\n",
       "      <td>[Action, FPS, Multiplayer]</td>\n",
       "      <td>3318</td>\n",
       "      <td>633</td>\n",
       "      <td>Action FPS Multiplayer</td>\n",
       "    </tr>\n",
       "    <tr>\n",
       "      <th>2</th>\n",
       "      <td>Day of Defeat</td>\n",
       "      <td>Valve</td>\n",
       "      <td>[FPS, World War II, Multiplayer]</td>\n",
       "      <td>3416</td>\n",
       "      <td>398</td>\n",
       "      <td>FPS World War II Multiplayer</td>\n",
       "    </tr>\n",
       "    <tr>\n",
       "      <th>3</th>\n",
       "      <td>Deathmatch Classic</td>\n",
       "      <td>Valve</td>\n",
       "      <td>[Action, FPS, Multiplayer]</td>\n",
       "      <td>1273</td>\n",
       "      <td>267</td>\n",
       "      <td>Action FPS Multiplayer</td>\n",
       "    </tr>\n",
       "    <tr>\n",
       "      <th>4</th>\n",
       "      <td>Half-Life: Opposing Force</td>\n",
       "      <td>Valve</td>\n",
       "      <td>[FPS, Action, Sci-fi]</td>\n",
       "      <td>5250</td>\n",
       "      <td>288</td>\n",
       "      <td>FPS Action Sci-fi</td>\n",
       "    </tr>\n",
       "  </tbody>\n",
       "</table>\n",
       "</div>"
      ],
      "text/plain": [
       "                        name publisher                     steamspy_tags  \\\n",
       "0             Counter-Strike     Valve        [Action, FPS, Multiplayer]   \n",
       "1      Team Fortress Classic     Valve        [Action, FPS, Multiplayer]   \n",
       "2              Day of Defeat     Valve  [FPS, World War II, Multiplayer]   \n",
       "3         Deathmatch Classic     Valve        [Action, FPS, Multiplayer]   \n",
       "4  Half-Life: Opposing Force     Valve             [FPS, Action, Sci-fi]   \n",
       "\n",
       "   positive_ratings  negative_ratings                     tags_text  \n",
       "0            124534              3339        Action FPS Multiplayer  \n",
       "1              3318               633        Action FPS Multiplayer  \n",
       "2              3416               398  FPS World War II Multiplayer  \n",
       "3              1273               267        Action FPS Multiplayer  \n",
       "4              5250               288             FPS Action Sci-fi  "
      ]
     },
     "execution_count": 102,
     "metadata": {},
     "output_type": "execute_result"
    }
   ],
   "source": [
    "# Convert the tags into a text format\n",
    "data['tags_text'] = data['steamspy_tags'].apply(lambda tags: ' '.join(tags))\n",
    "\n",
    "data.head()"
   ]
  },
  {
   "cell_type": "code",
   "execution_count": 103,
   "metadata": {},
   "outputs": [],
   "source": [
    "from sklearn.feature_extraction.text import TfidfVectorizer\n",
    "\n",
    "# TF-IDF Vectorization\n",
    "tfidf_vectorizer = TfidfVectorizer()\n",
    "tags_tfidf_matrix = tfidf_vectorizer.fit_transform(data['tags_text'])"
   ]
  },
  {
   "cell_type": "markdown",
   "metadata": {},
   "source": [
    "Remove the temporary text column and the tags column, since we have generated our tags_tfidf_matrix"
   ]
  },
  {
   "cell_type": "code",
   "execution_count": 104,
   "metadata": {},
   "outputs": [],
   "source": [
    "data = data.drop('tags_text', axis = 1)\n",
    "data = data.drop('steamspy_tags', axis = 1)"
   ]
  },
  {
   "cell_type": "markdown",
   "metadata": {},
   "source": [
    "Set the row indexes as the game name, easier to find data for each game in our implementation. The reason we do not remove the publisher column, although we apply TF-IDF to it too below, is because we need this info later when trying to find the publisher name for each game."
   ]
  },
  {
   "cell_type": "code",
   "execution_count": 105,
   "metadata": {
    "scrolled": true
   },
   "outputs": [
    {
     "data": {
      "text/html": [
       "<div>\n",
       "<style scoped>\n",
       "    .dataframe tbody tr th:only-of-type {\n",
       "        vertical-align: middle;\n",
       "    }\n",
       "\n",
       "    .dataframe tbody tr th {\n",
       "        vertical-align: top;\n",
       "    }\n",
       "\n",
       "    .dataframe thead th {\n",
       "        text-align: right;\n",
       "    }\n",
       "</style>\n",
       "<table border=\"1\" class=\"dataframe\">\n",
       "  <thead>\n",
       "    <tr style=\"text-align: right;\">\n",
       "      <th></th>\n",
       "      <th>publisher</th>\n",
       "      <th>positive_ratings</th>\n",
       "      <th>negative_ratings</th>\n",
       "    </tr>\n",
       "    <tr>\n",
       "      <th>name</th>\n",
       "      <th></th>\n",
       "      <th></th>\n",
       "      <th></th>\n",
       "    </tr>\n",
       "  </thead>\n",
       "  <tbody>\n",
       "    <tr>\n",
       "      <th>Counter-Strike</th>\n",
       "      <td>Valve</td>\n",
       "      <td>124534</td>\n",
       "      <td>3339</td>\n",
       "    </tr>\n",
       "    <tr>\n",
       "      <th>Team Fortress Classic</th>\n",
       "      <td>Valve</td>\n",
       "      <td>3318</td>\n",
       "      <td>633</td>\n",
       "    </tr>\n",
       "    <tr>\n",
       "      <th>Day of Defeat</th>\n",
       "      <td>Valve</td>\n",
       "      <td>3416</td>\n",
       "      <td>398</td>\n",
       "    </tr>\n",
       "    <tr>\n",
       "      <th>Deathmatch Classic</th>\n",
       "      <td>Valve</td>\n",
       "      <td>1273</td>\n",
       "      <td>267</td>\n",
       "    </tr>\n",
       "    <tr>\n",
       "      <th>Half-Life: Opposing Force</th>\n",
       "      <td>Valve</td>\n",
       "      <td>5250</td>\n",
       "      <td>288</td>\n",
       "    </tr>\n",
       "  </tbody>\n",
       "</table>\n",
       "</div>"
      ],
      "text/plain": [
       "                          publisher  positive_ratings  negative_ratings\n",
       "name                                                                   \n",
       "Counter-Strike                Valve            124534              3339\n",
       "Team Fortress Classic         Valve              3318               633\n",
       "Day of Defeat                 Valve              3416               398\n",
       "Deathmatch Classic            Valve              1273               267\n",
       "Half-Life: Opposing Force     Valve              5250               288"
      ]
     },
     "execution_count": 105,
     "metadata": {},
     "output_type": "execute_result"
    }
   ],
   "source": [
    "data.set_index('name', inplace=True)\n",
    "data.head()"
   ]
  },
  {
   "cell_type": "markdown",
   "metadata": {},
   "source": [
    "For example, to get info about Grand Theft Auto V"
   ]
  },
  {
   "cell_type": "code",
   "execution_count": 106,
   "metadata": {},
   "outputs": [
    {
     "data": {
      "text/plain": [
       "publisher           Rockstar Games\n",
       "positive_ratings            329061\n",
       "negative_ratings            139308\n",
       "Name: Grand Theft Auto V, dtype: object"
      ]
     },
     "execution_count": 106,
     "metadata": {},
     "output_type": "execute_result"
    }
   ],
   "source": [
    "data.loc['Grand Theft Auto V']"
   ]
  },
  {
   "cell_type": "markdown",
   "metadata": {},
   "source": [
    "We did not check for missing / duplicate values since we know the dataset is clean. We do not have any numerical data to check for outliers or normalize (positive / negative ratings are numerical but are used as a weight, per game so there is no point in normalizing). Also, in cosine similarity, data normalization is generally not required."
   ]
  },
  {
   "cell_type": "markdown",
   "metadata": {},
   "source": [
    "## Recommend games based on similarity"
   ]
  },
  {
   "cell_type": "markdown",
   "metadata": {},
   "source": [
    "For this part of the recommender system, we chose to go with cosine similarity. This is because this part does item-based filtering (will be used for our content-based filtering later too, where it chooses games based on the games the user has played the most). Therefore, cosine similarity is a good way to figure out which games have similar features (aka tags in this case)."
   ]
  },
  {
   "cell_type": "markdown",
   "metadata": {},
   "source": [
    "Once again, we do not split training and testing sets, as cosine similarity itself is a similarity measure and not a model that requires training. This part is mainly item-based and content-based, which relies on the features of items and does not involve explicit training phases."
   ]
  },
  {
   "cell_type": "markdown",
   "metadata": {},
   "source": [
    "Furthermore, we calculate the ratio of positive to negative reviews. If the game's reviews are bad according to the threshold specified (we chose 1.5, which means we consider a game to have bad rating if more than 40% of reviews are negative), the game is downweighted by a weight factor. Therefore the user will get higher rated games of close similarity first."
   ]
  },
  {
   "cell_type": "code",
   "execution_count": 107,
   "metadata": {},
   "outputs": [],
   "source": [
    "from sklearn.metrics.pairwise import cosine_similarity\n",
    "from sklearn.metrics.pairwise import linear_kernel\n",
    "\n",
    "cosine_sim_tags = linear_kernel(tags_tfidf_matrix, tags_tfidf_matrix)\n",
    "\n",
    "# Calculate positive-to-negative ratings ratio\n",
    "positive_ratings = data['positive_ratings'].values\n",
    "negative_ratings = data['negative_ratings'].values\n",
    "ratio_threshold = 1.5  # Adjust the threshold as needed\n",
    "\n",
    "# Avoid division by zero by adding a small constant\n",
    "ratio = np.divide(positive_ratings, negative_ratings + 1e-5)\n",
    "\n",
    "# Weight factor for ratings based on the ratio\n",
    "ratings_weight = 0.7\n",
    "\n",
    "# Apply a mask to downweight games with a low positive-to-negative ratings ratio\n",
    "mask = ratio < ratio_threshold\n",
    "downweighted_cosine_sim = cosine_sim_tags.copy()\n",
    "downweighted_cosine_sim[:, mask] *= (1 - ratings_weight)"
   ]
  },
  {
   "cell_type": "markdown",
   "metadata": {},
   "source": [
    "The function below returns n game recommendations, and always checks that the target game is not in the list, and also makes sure to not recommend games the user already owns. However, since we can just provide a game name to get recommendations without having any user, we can set user_id < 0 to ignore the user purchase list checks. We also set a try except statement, in case the game does not exist in the dataset."
   ]
  },
  {
   "cell_type": "code",
   "execution_count": 108,
   "metadata": {},
   "outputs": [],
   "source": [
    "# Function to get top N recommendations for a given game\n",
    "def get_top_n_recommendations(game_name, cosine_sim_matrix, user_id_groups, user_id, n=5):\n",
    "    try:\n",
    "        game_index = data.index.get_loc(game_name)\n",
    "    except:\n",
    "        return []\n",
    "    similarities = cosine_sim_matrix[game_index]\n",
    "    similar_games_indices = similarities.argsort()[::-1][1:]\n",
    "    \n",
    "    # Get list of purchased games\n",
    "    purchased_games = []\n",
    "    if(user_id >= 0):\n",
    "        purchased_games = user_id_groups.get_group(user_id)['game'].unique().astype(str).tolist()\n",
    "\n",
    "    # Filter out the target game from the recommendations\n",
    "    target_game_index = data.index.get_loc(game_name)\n",
    "    similar_games_indices = [idx for idx in similar_games_indices if idx != target_game_index]\n",
    "\n",
    "    # Ensure that at least N recommendations are returned\n",
    "    recommendations = []\n",
    "    for idx in similar_games_indices:\n",
    "        if len(recommendations) >= n:\n",
    "            break\n",
    "        recommended_game = data.index[idx]\n",
    "        # Check if the recommended game is not already purchased\n",
    "        if recommended_game not in purchased_games:\n",
    "            recommendations.append(recommended_game)\n",
    "\n",
    "    return recommendations"
   ]
  },
  {
   "cell_type": "markdown",
   "metadata": {},
   "source": [
    "Now let's try it. We will run it below for the game Dota 2. Then we will run it for the same game but we will generate the cosine_sim_tags without weighting it based on reviews."
   ]
  },
  {
   "cell_type": "code",
   "execution_count": 109,
   "metadata": {},
   "outputs": [
    {
     "name": "stdout",
     "output_type": "stream",
     "text": [
      "Top 5 Recommendations for 'Dota 2':\n",
      "1. Bloodline Champions\n",
      "2. Strife®\n",
      "3. SMITE®\n",
      "4. Iron League\n",
      "5. Vainglory\n"
     ]
    }
   ],
   "source": [
    "target_game = 'Dota 2'\n",
    "recommendations = get_top_n_recommendations(target_game, downweighted_cosine_sim, steam_data_purchase_gr, -1, n=5)\n",
    "\n",
    "# Print the recommendations\n",
    "print(f\"Top 5 Recommendations for '{target_game}':\")\n",
    "\n",
    "# Handle game not found case\n",
    "if(recommendations == []):\n",
    "    print(\"Sorry, we cannot get any recommendations for this game.\")\n",
    "    \n",
    "for i, game in enumerate(recommendations):\n",
    "    print(f\"{i + 1}. {game}\")"
   ]
  },
  {
   "cell_type": "code",
   "execution_count": 110,
   "metadata": {},
   "outputs": [
    {
     "name": "stdout",
     "output_type": "stream",
     "text": [
      "Top 5 Recommendations for 'Dota 2':\n",
      "1. Games of Glory\n",
      "2. Heroes of SoulCraft - Arcade MOBA\n",
      "3. Bloodline Champions\n",
      "4. Strife®\n",
      "5. SMITE®\n"
     ]
    }
   ],
   "source": [
    "# Example without weight based on positive / negative ratings\n",
    "from sklearn.metrics.pairwise import cosine_similarity\n",
    "from sklearn.metrics.pairwise import linear_kernel\n",
    "\n",
    "cosine_sim_tags_no_weight = linear_kernel(tags_tfidf_matrix, tags_tfidf_matrix)\n",
    "\n",
    "target_game = 'Dota 2'\n",
    "recommendations = get_top_n_recommendations(target_game, cosine_sim_tags_no_weight, steam_data_purchase_gr, -1, n=5)\n",
    "\n",
    "# Print the recommendations\n",
    "print(f\"Top 5 Recommendations for '{target_game}':\")\n",
    "\n",
    "# Handle game not found case\n",
    "if(recommendations == []):\n",
    "    print(\"Sorry, we cannot get any recommendations for this game.\")\n",
    "    \n",
    "for i, game in enumerate(recommendations):\n",
    "    print(f\"{i + 1}. {game}\")"
   ]
  },
  {
   "cell_type": "markdown",
   "metadata": {},
   "source": [
    "What do we notice? In the no-weight recommendation, the user got recommended the game 'Games of Glory'. Looking it up on Steam, it indeed matches similarity to 'Dota 2' (it is free to play, MOBA, etc), but the reviews are bad. Over 45% of the reviews are negative. Same goes with 'Heroes of SoulCraft - Arcade MOBA'. It matches in similarity but 60% of its reviews are negative.<br><br>\n",
    "As we can see, our weighted implementation recommended 'Bloodline Champions' as number one, which is a MOBA game with very high positive ratings (over 85%). It also brought 'Strife®' and 'SMITE®' higher on the list, both of which are well-respected games in the Steam community. Finally, it recommended two more similar games with good ratings.<br><br>\n",
    "Therefore, we can verify our weighted-by-reviews implementation does what it is supposed to do.<br>"
   ]
  },
  {
   "cell_type": "markdown",
   "metadata": {},
   "source": [
    "### Recommend games from the same publisher"
   ]
  },
  {
   "cell_type": "markdown",
   "metadata": {},
   "source": [
    "Another common practice on the Steam platform, is recommending games of the same publishers / developers as the games the user already owns. We chose to do it just for publishers, but it is exactly the same for developers."
   ]
  },
  {
   "cell_type": "markdown",
   "metadata": {},
   "source": [
    "Like with tags previously, we will use TF-IDF Vectorization for publishers."
   ]
  },
  {
   "cell_type": "code",
   "execution_count": 111,
   "metadata": {},
   "outputs": [],
   "source": [
    "# TF-IDF Vectorization of publishers\n",
    "\n",
    "tfidf_vectorizer_pub = TfidfVectorizer()\n",
    "pub_tfidf_matrix = tfidf_vectorizer_pub.fit_transform(data['publisher'].astype(str))"
   ]
  },
  {
   "cell_type": "markdown",
   "metadata": {},
   "source": [
    "Also, we will use weighted cosine similarity again."
   ]
  },
  {
   "cell_type": "code",
   "execution_count": 112,
   "metadata": {},
   "outputs": [],
   "source": [
    "# Calculate cosine similarity between games based on publishers\n",
    "cosine_sim_pub = linear_kernel(pub_tfidf_matrix, pub_tfidf_matrix)\n",
    "\n",
    "# Apply the positive-to-negative reviews ratio weighting method like above\n",
    "positive_ratings = data['positive_ratings'].values\n",
    "negative_ratings = data['negative_ratings'].values\n",
    "ratio = np.divide(positive_ratings, negative_ratings + 1e-5)\n",
    "ratio_threshold = 1.2  # Adjust the threshold as needed\n",
    "\n",
    "# Weight factor for ratings based on the ratio\n",
    "ratings_weight = 0.7\n",
    "\n",
    "# Apply a mask to downweight games with a low positive-to-negative ratings ratio\n",
    "mask = ratio < ratio_threshold\n",
    "downweighted_cosine_sim_pub = cosine_sim_pub.copy()\n",
    "downweighted_cosine_sim_pub[:, mask] *= (1 - ratings_weight)"
   ]
  },
  {
   "cell_type": "markdown",
   "metadata": {},
   "source": [
    "Let's try for the game 'Tom Clancy's Rainbow Six® Siege' with our implementation, and without the weight."
   ]
  },
  {
   "cell_type": "code",
   "execution_count": 113,
   "metadata": {},
   "outputs": [
    {
     "name": "stdout",
     "output_type": "stream",
     "text": [
      "Top 5 Recommendations for 'Tom Clancy's Rainbow Six® Siege' based on Publisher:\n",
      "1. Beyond Good and Evil™\n",
      "2. Assassin's Creed® Odyssey\n",
      "3. Brothers in Arms: Earned in Blood™\n",
      "4. Tom Clancy's Rainbow Six® Vegas 2\n",
      "5. Far Cry® 2: Fortune's Edition\n"
     ]
    }
   ],
   "source": [
    "target_game = 'Tom Clancy\\'s Rainbow Six® Siege'\n",
    "publisher_recommendations = get_top_n_recommendations(target_game, downweighted_cosine_sim_pub, steam_data_purchase_gr, -1, n=5)\n",
    "\n",
    "# Print the recommendations\n",
    "print(f\"Top 5 Recommendations for '{target_game}' based on Publisher:\")\n",
    "\n",
    "# Handle game not found case\n",
    "if(recommendations == []):\n",
    "    print(\"Sorry, we cannot get any recommendations for this game.\")\n",
    "    \n",
    "for i, game in enumerate(publisher_recommendations):\n",
    "    print(f\"{i + 1}. {game}\")"
   ]
  },
  {
   "cell_type": "code",
   "execution_count": 114,
   "metadata": {
    "scrolled": true
   },
   "outputs": [
    {
     "name": "stdout",
     "output_type": "stream",
     "text": [
      "Top 5 Recommendations for 'Tom Clancy's Rainbow Six® Siege' based on Publisher:\n",
      "1. Trials® Rising\n",
      "2. Assassin's Creed™: Director's Cut Edition\n",
      "3. Assassin's Creed® Odyssey\n",
      "4. Brothers in Arms: Earned in Blood™\n",
      "5. Tom Clancy's Rainbow Six® Vegas 2\n"
     ]
    }
   ],
   "source": [
    "# Calculate cosine similarity between games based on publishers without weight\n",
    "cosine_sim_pub_no_weight = linear_kernel(pub_tfidf_matrix, pub_tfidf_matrix)\n",
    "\n",
    "target_game = 'Tom Clancy\\'s Rainbow Six® Siege'\n",
    "publisher_recommendations = get_top_n_recommendations(target_game, cosine_sim_pub_no_weight, steam_data_purchase_gr, -1, n=5)\n",
    "\n",
    "# Print the recommendations\n",
    "print(f\"Top 5 Recommendations for '{target_game}' based on Publisher:\")\n",
    "\n",
    "# Handle game not found case\n",
    "if(recommendations == []):\n",
    "    print(\"Sorry, we cannot get any recommendations for this game.\")\n",
    "    \n",
    "for i, game in enumerate(publisher_recommendations):\n",
    "    print(f\"{i + 1}. {game}\")"
   ]
  },
  {
   "cell_type": "markdown",
   "metadata": {},
   "source": [
    "As we can notice, the recommender system recommends games from the same publisher (in this case Ubisoft), but there are some differences because of ratings. The most important one here is that the non-weighted system recommends 'Trials® Rising', which is a Ubisoft game, but with mediocre rating. Our weighted system does not even recommend it, and puts 'Beyond Good and Evil™' in its place, which is exceptional according to users' ratings."
   ]
  },
  {
   "cell_type": "markdown",
   "metadata": {},
   "source": [
    "<br>"
   ]
  },
  {
   "cell_type": "markdown",
   "metadata": {},
   "source": [
    "# User-Specific Recommendations"
   ]
  },
  {
   "cell_type": "markdown",
   "metadata": {},
   "source": [
    "Now let's combine the two datasets for collaborative filtering. We will ask for the User ID, then find out the user's top games by play time and recommend games using methods 2 and 3 (similarity and publisher). We will also recommend games using method 1 (based on what other users are playing)."
   ]
  },
  {
   "cell_type": "code",
   "execution_count": 115,
   "metadata": {},
   "outputs": [],
   "source": [
    "# This function returns the top X favorite games for a given user based on playtime.\n",
    "def user_favorite_games(user_id, X):\n",
    "    user_data = data_users[data_users['user_id'] == user_id]  # Filter data for the specified user\n",
    "    user_data_sorted = user_data.sort_values(by='playtime', ascending=False)  # Sort by playtime\n",
    "    fav_games = user_data_sorted.head(X)  # Select the favorite X games\n",
    "    fav_games_list = fav_games[['game', 'playtime']].values.tolist()\n",
    "    \n",
    "    return fav_games_list"
   ]
  },
  {
   "cell_type": "code",
   "execution_count": 116,
   "metadata": {},
   "outputs": [
    {
     "name": "stdout",
     "output_type": "stream",
     "text": [
      "[['Dota 2', 1704.0], ['Warframe', 186.0], ['Far Cry 3', 80.0], ['Grand Theft Auto V', 68.0], ['DayZ', 59.0]]\n"
     ]
    }
   ],
   "source": [
    "print(user_favorite_games(99096740, 5))"
   ]
  },
  {
   "cell_type": "markdown",
   "metadata": {},
   "source": [
    "The function below recommends games to user based on their favorite games X is the number of game to recommend for each category (similarity, publisher, other users) Y is the number of the user's top games to base the recommendation on. For example for X = 5 and Y = 2, we will find their top 2 games and recommend 5 games based on similarity, 5 games based on publisher and 5 games based on other users, for each of their 2 favorite games."
   ]
  },
  {
   "cell_type": "markdown",
   "metadata": {},
   "source": [
    "We check if the user ID exists, if it does not, an error is printed and the function does not proceed."
   ]
  },
  {
   "cell_type": "code",
   "execution_count": 117,
   "metadata": {},
   "outputs": [],
   "source": [
    "def recommend_games(user_id, X, Y):\n",
    "    if(user_id not in data_users['user_id'].values):\n",
    "        print(\"User does not exist.\")\n",
    "        return\n",
    "\n",
    "    fav_games = user_favorite_games(user_id, Y)\n",
    "    \n",
    "    print(f\"~~~~~~~~~~~RECOMMENDATIONS FOR USER {user_id}~~~~~~~~~~~\\n\\n\")\n",
    "    \n",
    "    # Print the recommendations\n",
    "    for i, game in enumerate(fav_games):\n",
    "        print(f\"You really like {game[0]}, you have played for {int(game[1])} hours.\\n\\nGames similar to {game[0]} you might like:\")\n",
    "        \n",
    "        recommendations = get_top_n_recommendations(game[0], downweighted_cosine_sim, steam_data_purchase_gr, user_id, X)\n",
    "        \n",
    "        # Handle the case where the user has a game not in the games dataset\n",
    "        if(recommendations == []):\n",
    "            print(\"Sorry, we cannot get any recommendations for this game.\")\n",
    "            print(\"\\n\\n~~~~~~~~~~~~~~~~~~~~~~~~~~~~~~~~~~~~~~~~~~~~~~~~~~~\\n\\n\")\n",
    "            continue\n",
    "        for j, gamerec in enumerate(recommendations):\n",
    "            print(f\"{j + 1}. {gamerec}\")\n",
    "            \n",
    "        print(f\"\\nOther games from the publisher of {game[0]}, {data.loc[game[0]]['publisher']}:\")\n",
    "        publisher_recommendations = get_top_n_recommendations(game[0], downweighted_cosine_sim_pub, steam_data_purchase_gr, user_id, X)\n",
    "        for j, gamerec in enumerate(publisher_recommendations):\n",
    "            print(f\"{j + 1}. {gamerec}\")\n",
    "        \n",
    "        print(\"\\n\\n~~~~~~~~~~~~~~~~~~~~~~~~~~~~~~~~~~~~~~~~~~~~~~~~~~~\\n\\n\")\n",
    "    \n",
    "    print(\"\\nFinally, here are some recommendations based on what other users are playing:\")\n",
    "    users_recommendations = recommend_games_based_on_other_users(user_id, X, approximated_playtime_df, steam_data_purchase_gr)\n",
    "    for j, gamerec in enumerate(users_recommendations):\n",
    "        print(f\"{j + 1}. {gamerec}\")"
   ]
  },
  {
   "cell_type": "markdown",
   "metadata": {},
   "source": [
    "Let's try the final result for user 135400225, X = 5 and Y = 3, and get some recommendations."
   ]
  },
  {
   "cell_type": "code",
   "execution_count": 118,
   "metadata": {},
   "outputs": [
    {
     "name": "stdout",
     "output_type": "stream",
     "text": [
      "~~~~~~~~~~~RECOMMENDATIONS FOR USER 135400225~~~~~~~~~~~\n",
      "\n",
      "\n",
      "You really like Starbound, you have played for 217 hours.\n",
      "\n",
      "Games similar to Starbound you might like:\n",
      "1. Xsyon - Prelude\n",
      "2. Signs of Life\n",
      "3. Junk Jack\n",
      "4. SquareWorld Unpixeled\n",
      "5. Disney Infinity 3.0: Gold Edition\n",
      "\n",
      "Other games from the publisher of Starbound, Chucklefish:\n",
      "1. Wargroove\n",
      "2. Wanderlust Adventures\n",
      "3. Timespinner\n",
      "4. Treasure Adventure World\n",
      "5. Pathway\n",
      "\n",
      "\n",
      "~~~~~~~~~~~~~~~~~~~~~~~~~~~~~~~~~~~~~~~~~~~~~~~~~~~\n",
      "\n",
      "\n",
      "You really like Kerbal Space Program, you have played for 140 hours.\n",
      "\n",
      "Games similar to Kerbal Space Program you might like:\n",
      "1. Avorion\n",
      "2. Universe Sandbox ²\n",
      "3. StarMade\n",
      "4. Brick Inventions\n",
      "5. Stunt Corgi VR\n",
      "\n",
      "Other games from the publisher of Kerbal Space Program, Private Division :\n",
      "1. quadrantica\n",
      "2. Turnover\n",
      "3. Till the dawn, waiting\n",
      "4. Fury Strike\n",
      "5. Rune Lord\n",
      "\n",
      "\n",
      "~~~~~~~~~~~~~~~~~~~~~~~~~~~~~~~~~~~~~~~~~~~~~~~~~~~\n",
      "\n",
      "\n",
      "You really like Terraria, you have played for 105 hours.\n",
      "\n",
      "Games similar to Terraria you might like:\n",
      "1. Xsyon - Prelude\n",
      "2. Signs of Life\n",
      "3. Junk Jack\n",
      "4. SquareWorld Unpixeled\n",
      "5. Disney Infinity 3.0: Gold Edition\n",
      "\n",
      "Other games from the publisher of Terraria, Re-Logic:\n",
      "1. The Path To Die\n",
      "2. Match More\n",
      "3. Pirate Island Rescue\n",
      "4. Steampunk Graveyard\n",
      "5. Shutter\n",
      "\n",
      "\n",
      "~~~~~~~~~~~~~~~~~~~~~~~~~~~~~~~~~~~~~~~~~~~~~~~~~~~\n",
      "\n",
      "\n",
      "\n",
      "Finally, here are some recommendations based on what other users are playing:\n",
      "1. Team Fortress 2\n",
      "2. Portal 2\n",
      "3. Counter-Strike Global Offensive\n",
      "4. The Elder Scrolls V Skyrim\n",
      "5. Saints Row The Third\n"
     ]
    }
   ],
   "source": [
    "recommend_games(135400225, 5, 3)"
   ]
  },
  {
   "cell_type": "markdown",
   "metadata": {},
   "source": [
    "Note: The recommender system would recommend Terraria as similar to Starbound and Starbound as similar to Terraria, since the games are almost the same. However, as we can see, it filtered those recommendations out in both cases since the user owns the games and recommended other games the user has not bought yet."
   ]
  },
  {
   "cell_type": "markdown",
   "metadata": {},
   "source": [
    "Let's see how the system handles games not in the steam_games dataset. We know user 131377772 owns some games not in it."
   ]
  },
  {
   "cell_type": "code",
   "execution_count": 119,
   "metadata": {},
   "outputs": [
    {
     "name": "stdout",
     "output_type": "stream",
     "text": [
      "~~~~~~~~~~~RECOMMENDATIONS FOR USER 131377772~~~~~~~~~~~\n",
      "\n",
      "\n",
      "You really like Call of Duty Black Ops II - Multiplayer, you have played for 63 hours.\n",
      "\n",
      "Games similar to Call of Duty Black Ops II - Multiplayer you might like:\n",
      "Sorry, we cannot get any recommendations for this game.\n",
      "\n",
      "\n",
      "~~~~~~~~~~~~~~~~~~~~~~~~~~~~~~~~~~~~~~~~~~~~~~~~~~~\n",
      "\n",
      "\n",
      "You really like Call of Duty Black Ops II, you have played for 2 hours.\n",
      "\n",
      "Games similar to Call of Duty Black Ops II you might like:\n",
      "Sorry, we cannot get any recommendations for this game.\n",
      "\n",
      "\n",
      "~~~~~~~~~~~~~~~~~~~~~~~~~~~~~~~~~~~~~~~~~~~~~~~~~~~\n",
      "\n",
      "\n",
      "You really like Call of Duty Black Ops II - Zombies, you have played for 1 hours.\n",
      "\n",
      "Games similar to Call of Duty Black Ops II - Zombies you might like:\n",
      "Sorry, we cannot get any recommendations for this game.\n",
      "\n",
      "\n",
      "~~~~~~~~~~~~~~~~~~~~~~~~~~~~~~~~~~~~~~~~~~~~~~~~~~~\n",
      "\n",
      "\n",
      "\n",
      "Finally, here are some recommendations based on what other users are playing:\n",
      "1. Left 4 Dead 2\n",
      "2. Portal 2\n",
      "3. Counter-Strike Global Offensive\n",
      "4. Garry's Mod\n",
      "5. Sid Meier's Civilization V\n"
     ]
    }
   ],
   "source": [
    "recommend_games(131377772, 5, 3)"
   ]
  },
  {
   "cell_type": "markdown",
   "metadata": {},
   "source": [
    "<br><br>"
   ]
  },
  {
   "cell_type": "markdown",
   "metadata": {},
   "source": [
    "# Interactive User-Friendly GUI"
   ]
  },
  {
   "cell_type": "markdown",
   "metadata": {},
   "source": [
    "As the final step, we decided to implement a simple GUI for the end user using ipywidgets.<br><br>\n",
    "Specifically, there are 4 inputs. You can either choose to get recommendations based on user ID or game name. <br>\n",
    "If you choose user ID, you have to input the user ID in the box, then, using the sliders, select the number of games you want recommended for each category (similarity, publisher, other users), and the number of the user's favorite games to take into consideration.<br>\n",
    "If you choose game name, the user ID field and second slider will be disabled. You can input a game name in the text box and select how many games you want recommended using the first slider. The system will recommend games similar to the one you typed and other good games from its publisher.<br>\n",
    "Finally, to run the recommender just click the \"Run Recommender\" Button."
   ]
  },
  {
   "cell_type": "markdown",
   "metadata": {},
   "source": [
    "<br>\n",
    "<br>"
   ]
  },
  {
   "cell_type": "code",
   "execution_count": 120,
   "metadata": {
    "scrolled": false
   },
   "outputs": [
    {
     "data": {
      "application/vnd.jupyter.widget-view+json": {
       "model_id": "a2954cca9826450298a22b79ad572545",
       "version_major": 2,
       "version_minor": 0
      },
      "text/plain": [
       "BoundedIntText(value=0, description='Type User ID:', max=10000000000)"
      ]
     },
     "metadata": {},
     "output_type": "display_data"
    },
    {
     "data": {
      "application/vnd.jupyter.widget-view+json": {
       "model_id": "a4f816635478474c82efc9fe46f1a10b",
       "version_major": 2,
       "version_minor": 0
      },
      "text/plain": [
       "HBox(children=(Label(value='Type Game Name:'), Text(value='')))"
      ]
     },
     "metadata": {},
     "output_type": "display_data"
    },
    {
     "data": {
      "application/vnd.jupyter.widget-view+json": {
       "model_id": "1a65388829bd4b408b05add225df06fd",
       "version_major": 2,
       "version_minor": 0
      },
      "text/plain": [
       "HBox(children=(Label(value='How many games do you want recommended for each category?'), IntSlider(value=1, ma…"
      ]
     },
     "metadata": {},
     "output_type": "display_data"
    },
    {
     "data": {
      "application/vnd.jupyter.widget-view+json": {
       "model_id": "ff46d6e549cf42e0a13c84f42af83942",
       "version_major": 2,
       "version_minor": 0
      },
      "text/plain": [
       "HBox(children=(Label(value=\"How many of the user's favorite games should be taken into consideration?\"), IntSl…"
      ]
     },
     "metadata": {},
     "output_type": "display_data"
    },
    {
     "data": {
      "application/vnd.jupyter.widget-view+json": {
       "model_id": "6ac8619df8a648c181835a4b8847a6fe",
       "version_major": 2,
       "version_minor": 0
      },
      "text/plain": [
       "Button(description='Run Recommender', style=ButtonStyle(), tooltip='Run Recommender')"
      ]
     },
     "metadata": {},
     "output_type": "display_data"
    },
    {
     "data": {
      "application/vnd.jupyter.widget-view+json": {
       "model_id": "e2ce2696547c4d399d6acc03508484ce",
       "version_major": 2,
       "version_minor": 0
      },
      "text/plain": [
       "Output()"
      ]
     },
     "metadata": {},
     "output_type": "display_data"
    }
   ],
   "source": [
    "import ipywidgets as widgets\n",
    "from ipywidgets import HBox, Label, Output\n",
    "from IPython.display import display, clear_output\n",
    "\n",
    "w1 = HBox([Label('How many games do you want recommended for each category?'),widgets.IntSlider(min=1, max=15)])\n",
    "w2 = HBox([Label('How many of the user\\'s favorite games should be taken into consideration?'),widgets.IntSlider(min=1, max=10)])\n",
    "\n",
    "w3 = widgets.BoundedIntText(\n",
    "    min=0,\n",
    "    max=10000000000,\n",
    "    step=1,\n",
    "    description='Type User ID:',\n",
    "    disabled=False\n",
    ")\n",
    "\n",
    "w4 = HBox([Label('Type Game Name:'),widgets.Text(\n",
    "    disabled=False   \n",
    ")])\n",
    "\n",
    "w5 = button = widgets.Button(\n",
    "    description='Run Recommender',\n",
    "    disabled=False,\n",
    "    button_style='',\n",
    "    tooltip='Run Recommender',\n",
    "    icon=''\n",
    ")\n",
    "\n",
    "w5.on_click(lambda b: callback_function(b, w3.value, w4.children[1].value, w1.children[1].value, w2.children[1].value))\n",
    "\n",
    "# Create an Output widget for displaying stdout\n",
    "out = Output()\n",
    "\n",
    "# Callback function for button\n",
    "def callback_function(b, user_id, game_name, X, Y):\n",
    "    # Clear the output container\n",
    "    out.clear_output(wait=True)\n",
    "    \n",
    "    # Call the function with parameters\n",
    "    with out:\n",
    "        # Check if user ID has been provided or game name and act accordingly\n",
    "        # Game name is not empty so user searched by game name\n",
    "        if(game_name != \"\"):\n",
    "            recommendations = get_top_n_recommendations(game_name, downweighted_cosine_sim, steam_data_purchase_gr, -1, X)\n",
    "        \n",
    "            # Handle the case where the game provided does not exist in the data\n",
    "            if(recommendations == []):\n",
    "                print(\"Sorry, we cannot get any recommendations for this game.\")\n",
    "                return\n",
    "            \n",
    "            print(f\"Recommended games, similar to {game_name}:\")\n",
    "            for j, gamerec in enumerate(recommendations):\n",
    "                print(f\"{j + 1}. {gamerec}\")\n",
    "\n",
    "            print(f\"\\nOther games from the publisher of {game_name}, {data.loc[game_name]['publisher']}:\")\n",
    "            publisher_recommendations = get_top_n_recommendations(game_name, downweighted_cosine_sim_pub, steam_data_purchase_gr, -1, X)\n",
    "            for j, gamerec in enumerate(publisher_recommendations):\n",
    "                print(f\"{j + 1}. {gamerec}\")\n",
    "                \n",
    "        # Game name empty so user searched by user ID\n",
    "        else:\n",
    "            recommend_games(user_id, X, Y)\n",
    "        \n",
    "# Function to be called when game name text box changes\n",
    "def on_text_box1_change(change):\n",
    "    # Disable User ID text box if game name text box has input\n",
    "    w3.disabled = bool(w4.children[1].value)\n",
    "    if w3.disabled:\n",
    "        w3.value = 0\n",
    "    \n",
    "    # Disable the second slider since it is not needed when recommending\n",
    "    # based on game name\n",
    "    w2.children[1].disabled = bool(w4.children[1].value)\n",
    "    if w2.children[1].disabled:\n",
    "        w2.children[1].value = 1\n",
    "\n",
    "# Attach the function to the on_change event of game name text box\n",
    "w4.children[1].observe(on_text_box1_change, names='value')\n",
    "    \n",
    "display(w3)\n",
    "display(w4)\n",
    "display(w1)\n",
    "display(w2)\n",
    "display(w5)\n",
    "display(out)"
   ]
  },
  {
   "cell_type": "markdown",
   "metadata": {},
   "source": [
    "<br>\n",
    "<br>\n",
    "<br>\n",
    "<br>\n",
    "<br>"
   ]
  },
  {
   "cell_type": "markdown",
   "metadata": {},
   "source": [
    "# Deep Neural Networks Implementation"
   ]
  },
  {
   "cell_type": "markdown",
   "metadata": {},
   "source": [
    "We made an attempt to implement our simpler method (the one based on what other users play, using the dataset steam_200k) using Neural Networks, specifically Keras Embeddings."
   ]
  },
  {
   "cell_type": "code",
   "execution_count": 39,
   "metadata": {
    "scrolled": true
   },
   "outputs": [
    {
     "name": "stdout",
     "output_type": "stream",
     "text": [
      "Epoch 1/80\n",
      "793/793 [==============================] - 5s 6ms/step - loss: 3.8356e-04 - val_loss: 4.6964e-04\n",
      "Epoch 2/80\n",
      "793/793 [==============================] - 5s 6ms/step - loss: 3.1946e-04 - val_loss: 4.5331e-04\n",
      "Epoch 3/80\n",
      "793/793 [==============================] - 5s 6ms/step - loss: 2.6563e-04 - val_loss: 4.6807e-04\n",
      "Epoch 4/80\n",
      "793/793 [==============================] - 5s 6ms/step - loss: 2.1178e-04 - val_loss: 4.7547e-04\n",
      "Epoch 5/80\n",
      "793/793 [==============================] - 5s 6ms/step - loss: 1.7576e-04 - val_loss: 4.9289e-04\n",
      "Epoch 6/80\n",
      "793/793 [==============================] - 4s 6ms/step - loss: 1.4777e-04 - val_loss: 4.8133e-04\n",
      "Epoch 7/80\n",
      "793/793 [==============================] - 5s 6ms/step - loss: 1.3048e-04 - val_loss: 4.9450e-04\n",
      "Epoch 8/80\n",
      "793/793 [==============================] - 5s 6ms/step - loss: 1.1758e-04 - val_loss: 4.7730e-04\n",
      "Epoch 9/80\n",
      "793/793 [==============================] - 5s 6ms/step - loss: 1.0913e-04 - val_loss: 4.7773e-04\n",
      "Epoch 10/80\n",
      "793/793 [==============================] - 4s 6ms/step - loss: 9.7191e-05 - val_loss: 4.7739e-04\n",
      "Epoch 11/80\n",
      "793/793 [==============================] - 5s 6ms/step - loss: 9.5369e-05 - val_loss: 4.8263e-04\n",
      "Epoch 12/80\n",
      "793/793 [==============================] - 4s 6ms/step - loss: 9.4185e-05 - val_loss: 4.8114e-04\n",
      "Epoch 13/80\n",
      "793/793 [==============================] - 4s 6ms/step - loss: 8.7228e-05 - val_loss: 4.7225e-04\n",
      "Epoch 14/80\n",
      "793/793 [==============================] - 4s 5ms/step - loss: 8.4653e-05 - val_loss: 4.7058e-04\n",
      "Epoch 15/80\n",
      "793/793 [==============================] - 4s 5ms/step - loss: 7.9143e-05 - val_loss: 4.7974e-04\n",
      "Epoch 16/80\n",
      "793/793 [==============================] - 5s 6ms/step - loss: 7.5620e-05 - val_loss: 4.7485e-04\n",
      "Epoch 17/80\n",
      "793/793 [==============================] - 4s 6ms/step - loss: 7.6318e-05 - val_loss: 4.8718e-04\n",
      "Epoch 18/80\n",
      "793/793 [==============================] - 5s 6ms/step - loss: 7.4097e-05 - val_loss: 4.8719e-04\n",
      "Epoch 19/80\n",
      "793/793 [==============================] - 5s 6ms/step - loss: 7.1979e-05 - val_loss: 4.7789e-04\n",
      "Epoch 20/80\n",
      "793/793 [==============================] - 5s 6ms/step - loss: 6.2822e-05 - val_loss: 4.7913e-04\n",
      "Epoch 21/80\n",
      "793/793 [==============================] - 5s 6ms/step - loss: 5.9165e-05 - val_loss: 4.7808e-04\n",
      "Epoch 22/80\n",
      "793/793 [==============================] - 4s 6ms/step - loss: 6.2638e-05 - val_loss: 4.8386e-04\n",
      "Epoch 23/80\n",
      "793/793 [==============================] - 5s 6ms/step - loss: 5.9826e-05 - val_loss: 4.8029e-04\n",
      "Epoch 24/80\n",
      "793/793 [==============================] - 4s 6ms/step - loss: 5.7613e-05 - val_loss: 4.7460e-04\n",
      "Epoch 25/80\n",
      "793/793 [==============================] - 5s 6ms/step - loss: 5.8062e-05 - val_loss: 4.8158e-04\n",
      "Epoch 26/80\n",
      "793/793 [==============================] - 4s 6ms/step - loss: 5.4159e-05 - val_loss: 4.8766e-04\n",
      "Epoch 27/80\n",
      "793/793 [==============================] - 5s 6ms/step - loss: 5.3867e-05 - val_loss: 4.7544e-04\n",
      "Epoch 28/80\n",
      "793/793 [==============================] - 4s 6ms/step - loss: 5.7585e-05 - val_loss: 4.8455e-04\n",
      "Epoch 29/80\n",
      "793/793 [==============================] - 5s 6ms/step - loss: 4.8754e-05 - val_loss: 4.7890e-04\n",
      "Epoch 30/80\n",
      "793/793 [==============================] - 5s 6ms/step - loss: 5.3072e-05 - val_loss: 4.7978e-04\n",
      "Epoch 31/80\n",
      "793/793 [==============================] - 5s 6ms/step - loss: 4.8303e-05 - val_loss: 4.7750e-04\n",
      "Epoch 32/80\n",
      "793/793 [==============================] - 5s 6ms/step - loss: 4.9405e-05 - val_loss: 4.8600e-04\n",
      "Epoch 33/80\n",
      "793/793 [==============================] - 4s 6ms/step - loss: 5.1839e-05 - val_loss: 4.8730e-04\n",
      "Epoch 34/80\n",
      "793/793 [==============================] - 5s 6ms/step - loss: 4.7365e-05 - val_loss: 4.9237e-04\n",
      "Epoch 35/80\n",
      "793/793 [==============================] - 5s 6ms/step - loss: 5.0814e-05 - val_loss: 4.8154e-04\n",
      "Epoch 36/80\n",
      "793/793 [==============================] - 5s 6ms/step - loss: 4.5067e-05 - val_loss: 4.8173e-04\n",
      "Epoch 37/80\n",
      "793/793 [==============================] - 5s 6ms/step - loss: 4.5844e-05 - val_loss: 4.8318e-04\n",
      "Epoch 38/80\n",
      "793/793 [==============================] - 5s 6ms/step - loss: 4.5114e-05 - val_loss: 5.0022e-04\n",
      "Epoch 39/80\n",
      "793/793 [==============================] - 5s 6ms/step - loss: 4.6991e-05 - val_loss: 4.8180e-04\n",
      "Epoch 40/80\n",
      "793/793 [==============================] - 5s 6ms/step - loss: 4.5269e-05 - val_loss: 4.8664e-04\n",
      "Epoch 41/80\n",
      "793/793 [==============================] - 4s 6ms/step - loss: 4.0929e-05 - val_loss: 4.8945e-04\n",
      "Epoch 42/80\n",
      "793/793 [==============================] - 5s 6ms/step - loss: 5.1299e-05 - val_loss: 4.9827e-04\n",
      "Epoch 43/80\n",
      "793/793 [==============================] - 5s 6ms/step - loss: 4.3480e-05 - val_loss: 4.9147e-04\n",
      "Epoch 44/80\n",
      "793/793 [==============================] - 5s 6ms/step - loss: 4.1770e-05 - val_loss: 4.8466e-04\n",
      "Epoch 45/80\n",
      "793/793 [==============================] - 5s 6ms/step - loss: 3.6512e-05 - val_loss: 4.9492e-04\n",
      "Epoch 46/80\n",
      "793/793 [==============================] - 5s 6ms/step - loss: 3.8348e-05 - val_loss: 4.8633e-04\n",
      "Epoch 47/80\n",
      "793/793 [==============================] - 5s 6ms/step - loss: 4.5992e-05 - val_loss: 4.9224e-04\n",
      "Epoch 48/80\n",
      "793/793 [==============================] - 5s 6ms/step - loss: 4.6687e-05 - val_loss: 4.8521e-04\n",
      "Epoch 49/80\n",
      "793/793 [==============================] - 4s 6ms/step - loss: 4.4097e-05 - val_loss: 4.9057e-04\n",
      "Epoch 50/80\n",
      "793/793 [==============================] - 5s 6ms/step - loss: 4.2598e-05 - val_loss: 4.8809e-04\n",
      "Epoch 51/80\n",
      "793/793 [==============================] - 4s 6ms/step - loss: 4.0436e-05 - val_loss: 4.9107e-04\n",
      "Epoch 52/80\n",
      "793/793 [==============================] - 5s 6ms/step - loss: 3.6511e-05 - val_loss: 4.8403e-04\n",
      "Epoch 53/80\n",
      "793/793 [==============================] - 4s 6ms/step - loss: 3.7530e-05 - val_loss: 4.8399e-04\n",
      "Epoch 54/80\n",
      "793/793 [==============================] - 5s 6ms/step - loss: 4.6604e-05 - val_loss: 4.8473e-04\n",
      "Epoch 55/80\n",
      "793/793 [==============================] - 5s 6ms/step - loss: 3.9983e-05 - val_loss: 4.8540e-04\n",
      "Epoch 56/80\n",
      "793/793 [==============================] - 5s 6ms/step - loss: 3.8796e-05 - val_loss: 4.8503e-04\n",
      "Epoch 57/80\n",
      "793/793 [==============================] - 5s 6ms/step - loss: 3.8073e-05 - val_loss: 4.9774e-04\n",
      "Epoch 58/80\n",
      "793/793 [==============================] - 4s 6ms/step - loss: 4.0169e-05 - val_loss: 4.7889e-04\n",
      "Epoch 59/80\n",
      "793/793 [==============================] - 5s 6ms/step - loss: 3.8078e-05 - val_loss: 4.8100e-04\n",
      "Epoch 60/80\n",
      "793/793 [==============================] - 4s 5ms/step - loss: 4.3472e-05 - val_loss: 4.8240e-04\n",
      "Epoch 61/80\n",
      "793/793 [==============================] - 5s 6ms/step - loss: 3.5863e-05 - val_loss: 4.8381e-04\n",
      "Epoch 62/80\n",
      "793/793 [==============================] - 4s 5ms/step - loss: 3.5790e-05 - val_loss: 4.8414e-04\n",
      "Epoch 63/80\n",
      "793/793 [==============================] - 5s 6ms/step - loss: 3.9098e-05 - val_loss: 4.8126e-04\n",
      "Epoch 64/80\n",
      "793/793 [==============================] - 5s 6ms/step - loss: 3.5891e-05 - val_loss: 4.7938e-04\n",
      "Epoch 65/80\n",
      "793/793 [==============================] - 4s 6ms/step - loss: 3.8613e-05 - val_loss: 4.8201e-04\n",
      "Epoch 66/80\n",
      "793/793 [==============================] - 5s 6ms/step - loss: 3.8086e-05 - val_loss: 4.8717e-04\n",
      "Epoch 67/80\n",
      "793/793 [==============================] - 5s 6ms/step - loss: 3.9258e-05 - val_loss: 4.8065e-04\n",
      "Epoch 68/80\n",
      "793/793 [==============================] - 4s 6ms/step - loss: 3.4253e-05 - val_loss: 4.8764e-04\n",
      "Epoch 69/80\n",
      "793/793 [==============================] - 4s 6ms/step - loss: 3.3684e-05 - val_loss: 4.8205e-04\n",
      "Epoch 70/80\n",
      "793/793 [==============================] - 4s 5ms/step - loss: 3.5731e-05 - val_loss: 4.7886e-04\n",
      "Epoch 71/80\n",
      "793/793 [==============================] - 4s 5ms/step - loss: 3.6617e-05 - val_loss: 4.8416e-04\n",
      "Epoch 72/80\n",
      "793/793 [==============================] - 4s 5ms/step - loss: 3.4024e-05 - val_loss: 4.8119e-04\n",
      "Epoch 73/80\n",
      "793/793 [==============================] - 5s 6ms/step - loss: 3.4071e-05 - val_loss: 4.7776e-04\n",
      "Epoch 74/80\n",
      "793/793 [==============================] - 4s 6ms/step - loss: 4.1241e-05 - val_loss: 4.8413e-04\n",
      "Epoch 75/80\n",
      "793/793 [==============================] - 4s 5ms/step - loss: 3.5492e-05 - val_loss: 4.8391e-04\n",
      "Epoch 76/80\n"
     ]
    },
    {
     "name": "stdout",
     "output_type": "stream",
     "text": [
      "793/793 [==============================] - 4s 5ms/step - loss: 3.3749e-05 - val_loss: 4.8052e-04\n",
      "Epoch 77/80\n",
      "793/793 [==============================] - 4s 5ms/step - loss: 3.8287e-05 - val_loss: 4.8166e-04\n",
      "Epoch 78/80\n",
      "793/793 [==============================] - 5s 6ms/step - loss: 3.8728e-05 - val_loss: 4.7897e-04\n",
      "Epoch 79/80\n",
      "793/793 [==============================] - 4s 5ms/step - loss: 3.5253e-05 - val_loss: 4.8553e-04\n",
      "Epoch 80/80\n",
      "793/793 [==============================] - 4s 5ms/step - loss: 4.4474e-05 - val_loss: 4.7836e-04\n"
     ]
    },
    {
     "data": {
      "image/png": "[encoded data removed]",
      "text/plain": [
       "<Figure size 640x480 with 1 Axes>"
      ]
     },
     "metadata": {},
     "output_type": "display_data"
    },
    {
     "name": "stdout",
     "output_type": "stream",
     "text": [
      "441/441 [==============================] - 0s 630us/step\n",
      "Root Mean Squared Error (RMSE): 0.020603885186442916\n",
      "Test Mean Squared Error (MSE): 0.00042452008477612184\n",
      "R-squared (R2): 0.027282086438214725\n"
     ]
    }
   ],
   "source": [
    "import numpy as np\n",
    "import pandas as pd\n",
    "from sklearn.model_selection import train_test_split\n",
    "from tensorflow.keras.models import Model\n",
    "from tensorflow.keras.layers import Input, Embedding, Flatten, Concatenate, Dense, Dropout\n",
    "from tensorflow.keras.optimizers import Adam\n",
    "import matplotlib.pyplot as plt\n",
    "from sklearn.preprocessing import MinMaxScaler\n",
    "from sklearn.metrics import mean_squared_error, r2_score\n",
    "\n",
    "\n",
    "steam_df = pd.read_csv('steam_200k.csv')\n",
    "new_column_names = ['user_id', 'game', 'behavior', 'playtime', 'zero']\n",
    "steam_df.columns = new_column_names\n",
    "steam_df = steam_df.drop('zero', axis=1)\n",
    "\n",
    "# Filter out rows where 'behavior' is not 'play'\n",
    "steam_df = steam_df[steam_df['behavior'] == 'play']\n",
    "\n",
    "steam_df = steam_df.drop('behavior', axis=1)\n",
    "\n",
    "# Normalize 'playtime'\n",
    "scaler = MinMaxScaler()\n",
    "steam_df['playtime'] = scaler.fit_transform(steam_df[['playtime']])\n",
    "\n",
    "# Convert 'user_id' and 'game' to categorical codes\n",
    "steam_df['user_id'] = steam_df['user_id'].astype('category').cat.codes\n",
    "steam_df['game'] = steam_df['game'].astype('category').cat.codes\n",
    "\n",
    "# Split the dataset\n",
    "X = steam_df[['user_id', 'game']].values\n",
    "y = steam_df['playtime'].values\n",
    "X_train, X_test, y_train, y_test = train_test_split(X, y, test_size=0.2, random_state=0)\n",
    "\n",
    "n_users = steam_df['user_id'].nunique()\n",
    "n_games = steam_df['game'].nunique()\n",
    "n_factors = 100\n",
    "n_neurons = 128\n",
    "\n",
    "# Build the model\n",
    "user_input = Input(shape=(1,), name='user_input')\n",
    "game_input = Input(shape=(1,), name='game_input')\n",
    "\n",
    "user_embedding = Embedding(output_dim=n_factors, input_dim=n_users, input_length=1, name='user_embedding')(user_input)\n",
    "game_embedding = Embedding(output_dim=n_factors, input_dim=n_games, input_length=1, name='game_embedding')(game_input)\n",
    "\n",
    "user_vector = Flatten(name='flatten_users')(user_embedding)\n",
    "game_vector = Flatten(name='flatten_games')(game_embedding)\n",
    "\n",
    "concat = Concatenate()([user_vector, game_vector])\n",
    "\n",
    "dense = Dense(n_neurons, activation='relu')(concat)\n",
    "dropout = Dropout(0.5)(dense)\n",
    "dense_2 = Dense(n_neurons // 2, activation='relu')(dropout)\n",
    "\n",
    "output = Dense(1)(dense_2)\n",
    "\n",
    "model = Model(inputs=[user_input, game_input], outputs=output)\n",
    "model.compile(optimizer=Adam(0.001), loss='mean_squared_error')\n",
    "\n",
    "# Train the model\n",
    "history = model.fit([X_train[:, 0], X_train[:, 1]], y_train, epochs=80, batch_size=64, validation_split=0.1)\n",
    "\n",
    "# Plot training and validation loss\n",
    "plt.plot(history.history['loss'], label='Training Loss')\n",
    "plt.plot(history.history['val_loss'], label='Validation Loss')\n",
    "plt.xlabel('Epoch')\n",
    "plt.ylabel('Mean Squared Error Loss')\n",
    "plt.legend()\n",
    "plt.show()\n",
    "\n",
    "# Predict on test data\n",
    "y_pred = model.predict([X_test[:, 0], X_test[:, 1]])\n",
    "\n",
    "# Calculate RMSE, Test MSE, and R-squared\n",
    "rmse = np.sqrt(mean_squared_error(y_test, y_pred))\n",
    "test_mse = mean_squared_error(y_test, y_pred)\n",
    "r2 = r2_score(y_test, y_pred)\n",
    "\n",
    "print(f'Root Mean Squared Error (RMSE): {rmse}')\n",
    "print(f'Test Mean Squared Error (MSE): {test_mse}')\n",
    "print(f'R-squared (R2): {r2}')"
   ]
  },
  {
   "cell_type": "code",
   "execution_count": 12,
   "metadata": {},
   "outputs": [
    {
     "data": {
      "image/png": "[encoded data removed]",
      "text/plain": [
       "<Figure size 1200x600 with 2 Axes>"
      ]
     },
     "metadata": {},
     "output_type": "display_data"
    },
    {
     "name": "stdout",
     "output_type": "stream",
     "text": [
      "[t-SNE] Computing 121 nearest neighbors...\n",
      "[t-SNE] Indexed 11350 samples in 0.000s...\n",
      "[t-SNE] Computed neighbors for 11350 samples in 0.192s...\n",
      "[t-SNE] Computed conditional probabilities for sample 1000 / 11350\n",
      "[t-SNE] Computed conditional probabilities for sample 2000 / 11350\n",
      "[t-SNE] Computed conditional probabilities for sample 3000 / 11350\n",
      "[t-SNE] Computed conditional probabilities for sample 4000 / 11350\n",
      "[t-SNE] Computed conditional probabilities for sample 5000 / 11350\n",
      "[t-SNE] Computed conditional probabilities for sample 6000 / 11350\n",
      "[t-SNE] Computed conditional probabilities for sample 7000 / 11350\n",
      "[t-SNE] Computed conditional probabilities for sample 8000 / 11350\n",
      "[t-SNE] Computed conditional probabilities for sample 9000 / 11350\n",
      "[t-SNE] Computed conditional probabilities for sample 10000 / 11350\n",
      "[t-SNE] Computed conditional probabilities for sample 11000 / 11350\n",
      "[t-SNE] Computed conditional probabilities for sample 11350 / 11350\n",
      "[t-SNE] Mean sigma: 0.084464\n",
      "[t-SNE] KL divergence after 250 iterations with early exaggeration: 85.922699\n",
      "[t-SNE] KL divergence after 300 iterations: 3.226946\n",
      "[t-SNE] Computing 121 nearest neighbors...\n",
      "[t-SNE] Indexed 3600 samples in 0.000s...\n",
      "[t-SNE] Computed neighbors for 3600 samples in 0.105s...\n",
      "[t-SNE] Computed conditional probabilities for sample 1000 / 3600\n",
      "[t-SNE] Computed conditional probabilities for sample 2000 / 3600\n",
      "[t-SNE] Computed conditional probabilities for sample 3000 / 3600\n",
      "[t-SNE] Computed conditional probabilities for sample 3600 / 3600\n",
      "[t-SNE] Mean sigma: 0.090525\n",
      "[t-SNE] KL divergence after 250 iterations with early exaggeration: 77.239960\n",
      "[t-SNE] KL divergence after 300 iterations: 2.731071\n"
     ]
    },
    {
     "data": {
      "image/png": "[encoded data removed]",
      "text/plain": [
       "<Figure size 1200x600 with 2 Axes>"
      ]
     },
     "metadata": {},
     "output_type": "display_data"
    }
   ],
   "source": [
    "from sklearn.decomposition import PCA\n",
    "from sklearn.manifold import TSNE\n",
    "import seaborn as sns\n",
    "\n",
    "# Visualize embeddings using PCA\n",
    "user_em_weights = model.get_layer('user_embedding').get_weights()[0]\n",
    "game_em_weights = model.get_layer('game_embedding').get_weights()[0]\n",
    "\n",
    "pca = PCA(n_components=2)\n",
    "pca_result_user = pca.fit_transform(user_em_weights)\n",
    "pca_result_game = pca.fit_transform(game_em_weights)\n",
    "\n",
    "plt.figure(figsize=(12, 6))\n",
    "\n",
    "plt.subplot(1, 2, 1)\n",
    "sns.scatterplot(x=pca_result_user[:, 0], y=pca_result_user[:, 1])\n",
    "plt.title('User Embeddings - PCA')\n",
    "\n",
    "plt.subplot(1, 2, 2)\n",
    "sns.scatterplot(x=pca_result_game[:, 0], y=pca_result_game[:, 1])\n",
    "plt.title('Game Embeddings - PCA')\n",
    "\n",
    "plt.show()\n",
    "\n",
    "# Visualize embeddings using t-SNE\n",
    "tsne = TSNE(n_components=2, verbose=1, perplexity=40, n_iter=300)\n",
    "\n",
    "tnse_results_user = tsne.fit_transform(user_em_weights)\n",
    "tnse_results_game = tsne.fit_transform(game_em_weights)\n",
    "\n",
    "plt.figure(figsize=(12, 6))\n",
    "\n",
    "plt.subplot(1, 2, 1)\n",
    "sns.scatterplot(x=tnse_results_user[:, 0], y=tnse_results_user[:, 1])\n",
    "plt.title('User Embeddings - t-SNE')\n",
    "\n",
    "plt.subplot(1, 2, 2)\n",
    "sns.scatterplot(x=tnse_results_game[:, 0], y=tnse_results_game[:, 1])\n",
    "plt.title('Game Embeddings - t-SNE')\n",
    "\n",
    "plt.show()"
   ]
  },
  {
   "cell_type": "code",
   "execution_count": 13,
   "metadata": {},
   "outputs": [
    {
     "name": "stdout",
     "output_type": "stream",
     "text": [
      "113/113 [==============================] - 0s 590us/step\n",
      "Recommended Game IDs: [1129 1968 1232  922 2146]\n",
      "Predicted Playtime for Recommended Games: [0.15786058 0.09515826 0.05366415 0.05149601 0.04472588]\n"
     ]
    }
   ],
   "source": [
    "# Generate data for all unique games for a user (user_id=1)\n",
    "game_data = np.array(list(set(steam_df['game'].cat.codes.values)))\n",
    "user = np.array([1 for _ in range(len(game_data))])\n",
    "\n",
    "# Make predictions\n",
    "predictions = model.predict([user, game_data])\n",
    "\n",
    "# Flatten the predictions array\n",
    "predictions = np.array([a[0] for a in predictions])\n",
    "\n",
    "# Get the indices of the top 5 recommended games\n",
    "recommended_game_ids = (-predictions).argsort()[:5]\n",
    "\n",
    "# Print recommended game IDs and their predicted playtime\n",
    "print(\"Recommended Game IDs:\", recommended_game_ids)\n",
    "print(\"Predicted Playtime for Recommended Games:\", predictions[recommended_game_ids])"
   ]
  }
 ],
 "metadata": {
  "colab": {
   "authorship_tag": "ABX9TyOhiSw9qaAocnW7ydMjMYWx",
   "mount_file_id": "1KOZQuwRs4mEC8Apg-G9awDo0qukVtWvZ",
   "provenance": []
  },
  "kernelspec": {
   "display_name": "Python 3 (ipykernel)",
   "language": "python",
   "name": "python3"
  },
  "language_info": {
   "codemirror_mode": {
    "name": "ipython",
    "version": 3
   },
   "file_extension": ".py",
   "mimetype": "text/x-python",
   "name": "python",
   "nbconvert_exporter": "python",
   "pygments_lexer": "ipython3",
   "version": "3.11.5"
  },
  "latex_envs": {
   "LaTeX_envs_menu_present": true,
   "autoclose": false,
   "autocomplete": true,
   "bibliofile": "biblio.bib",
   "cite_by": "apalike",
   "current_citInitial": 1,
   "eqLabelWithNumbers": true,
   "eqNumInitial": 1,
   "hotkeys": {
    "equation": "Ctrl-E",
    "itemize": "Ctrl-I"
   },
   "labels_anchors": false,
   "latex_user_defs": false,
   "report_style_numbering": false,
   "user_envs_cfg": false
  },
  "varInspector": {
   "cols": {
    "lenName": 16,
    "lenType": 16,
    "lenVar": 40
   },
   "kernels_config": {
    "python": {
     "delete_cmd_postfix": "",
     "delete_cmd_prefix": "del ",
     "library": "var_list.py",
     "varRefreshCmd": "print(var_dic_list())"
    },
    "r": {
     "delete_cmd_postfix": ") ",
     "delete_cmd_prefix": "rm(",
     "library": "var_list.r",
     "varRefreshCmd": "cat(var_dic_list()) "
    }
   },
   "types_to_exclude": [
    "module",
    "function",
    "builtin_function_or_method",
    "instance",
    "_Feature"
   ],
   "window_display": false
  }
 },
 "nbformat": 4,
 "nbformat_minor": 1
}
