{
 "cells": [
  {
   "cell_type": "code",
   "execution_count": 1,
   "id": "5b562fdd",
   "metadata": {},
   "outputs": [],
   "source": [
    "import numpy as np\n",
    "import pandas as pd"
   ]
  },
  {
   "cell_type": "code",
   "execution_count": 2,
   "id": "b81cd1a4",
   "metadata": {},
   "outputs": [
    {
     "data": {
      "text/html": [
       "<div>\n",
       "<style scoped>\n",
       "    .dataframe tbody tr th:only-of-type {\n",
       "        vertical-align: middle;\n",
       "    }\n",
       "\n",
       "    .dataframe tbody tr th {\n",
       "        vertical-align: top;\n",
       "    }\n",
       "\n",
       "    .dataframe thead th {\n",
       "        text-align: right;\n",
       "    }\n",
       "</style>\n",
       "<table border=\"1\" class=\"dataframe\">\n",
       "  <thead>\n",
       "    <tr style=\"text-align: right;\">\n",
       "      <th></th>\n",
       "      <th>Course Name</th>\n",
       "      <th>University</th>\n",
       "      <th>Difficulty Level</th>\n",
       "      <th>Course Rating</th>\n",
       "      <th>Course URL</th>\n",
       "      <th>Course Description</th>\n",
       "      <th>Skills</th>\n",
       "    </tr>\n",
       "  </thead>\n",
       "  <tbody>\n",
       "    <tr>\n",
       "      <th>0</th>\n",
       "      <td>Write A Feature Length Screenplay For Film Or ...</td>\n",
       "      <td>Michigan State University</td>\n",
       "      <td>Beginner</td>\n",
       "      <td>4.8</td>\n",
       "      <td>https://www.coursera.org/learn/write-a-feature...</td>\n",
       "      <td>Write a Full Length Feature Film Script  In th...</td>\n",
       "      <td>Drama  Comedy  peering  screenwriting  film  D...</td>\n",
       "    </tr>\n",
       "    <tr>\n",
       "      <th>1</th>\n",
       "      <td>Business Strategy: Business Model Canvas Analy...</td>\n",
       "      <td>Coursera Project Network</td>\n",
       "      <td>Beginner</td>\n",
       "      <td>4.8</td>\n",
       "      <td>https://www.coursera.org/learn/canvas-analysis...</td>\n",
       "      <td>By the end of this guided project, you will be...</td>\n",
       "      <td>Finance  business plan  persona (user experien...</td>\n",
       "    </tr>\n",
       "    <tr>\n",
       "      <th>2</th>\n",
       "      <td>Silicon Thin Film Solar Cells</td>\n",
       "      <td>Ecole Polytechnique</td>\n",
       "      <td>Advanced</td>\n",
       "      <td>4.1</td>\n",
       "      <td>https://www.coursera.org/learn/silicon-thin-fi...</td>\n",
       "      <td>This course consists of a general presentation...</td>\n",
       "      <td>chemistry  physics  Solar Energy  film  lambda...</td>\n",
       "    </tr>\n",
       "    <tr>\n",
       "      <th>3</th>\n",
       "      <td>Finance for Managers</td>\n",
       "      <td>IESE Business School</td>\n",
       "      <td>Intermediate</td>\n",
       "      <td>4.8</td>\n",
       "      <td>https://www.coursera.org/learn/operational-fin...</td>\n",
       "      <td>When it comes to numbers, there is always more...</td>\n",
       "      <td>accounts receivable  dupont analysis  analysis...</td>\n",
       "    </tr>\n",
       "    <tr>\n",
       "      <th>4</th>\n",
       "      <td>Retrieve Data using Single-Table SQL Queries</td>\n",
       "      <td>Coursera Project Network</td>\n",
       "      <td>Beginner</td>\n",
       "      <td>4.6</td>\n",
       "      <td>https://www.coursera.org/learn/single-table-sq...</td>\n",
       "      <td>In this course you will learn how to effective...</td>\n",
       "      <td>Data Analysis  select (sql)  database manageme...</td>\n",
       "    </tr>\n",
       "    <tr>\n",
       "      <th>...</th>\n",
       "      <td>...</td>\n",
       "      <td>...</td>\n",
       "      <td>...</td>\n",
       "      <td>...</td>\n",
       "      <td>...</td>\n",
       "      <td>...</td>\n",
       "      <td>...</td>\n",
       "    </tr>\n",
       "    <tr>\n",
       "      <th>3517</th>\n",
       "      <td>Capstone: Retrieving, Processing, and Visualiz...</td>\n",
       "      <td>University of Michigan</td>\n",
       "      <td>Beginner</td>\n",
       "      <td>4.6</td>\n",
       "      <td>https://www.coursera.org/learn/python-data-vis...</td>\n",
       "      <td>In the capstone, students will build a series ...</td>\n",
       "      <td>Databases  syntax  analysis  web  Data Visuali...</td>\n",
       "    </tr>\n",
       "    <tr>\n",
       "      <th>3518</th>\n",
       "      <td>Patrick Henry: Forgotten Founder</td>\n",
       "      <td>University of Virginia</td>\n",
       "      <td>Intermediate</td>\n",
       "      <td>4.9</td>\n",
       "      <td>https://www.coursera.org/learn/henry</td>\n",
       "      <td>Give me liberty, or give me death: Remembering...</td>\n",
       "      <td>retirement  Causality  career  history of the ...</td>\n",
       "    </tr>\n",
       "    <tr>\n",
       "      <th>3519</th>\n",
       "      <td>Business intelligence and data analytics: Gene...</td>\n",
       "      <td>Macquarie University</td>\n",
       "      <td>Advanced</td>\n",
       "      <td>4.6</td>\n",
       "      <td>https://www.coursera.org/learn/business-intell...</td>\n",
       "      <td>Megatrends heavily influence today's organisat...</td>\n",
       "      <td>analytics  tableau software  Business Intellig...</td>\n",
       "    </tr>\n",
       "    <tr>\n",
       "      <th>3520</th>\n",
       "      <td>Rigid Body Dynamics</td>\n",
       "      <td>Korea Advanced Institute of Science and Techno...</td>\n",
       "      <td>Beginner</td>\n",
       "      <td>4.6</td>\n",
       "      <td>https://www.coursera.org/learn/rigid-body-dyna...</td>\n",
       "      <td>This course teaches dynamics, one of the basic...</td>\n",
       "      <td>Angular  Mechanical Design  fluid mechanics  F...</td>\n",
       "    </tr>\n",
       "    <tr>\n",
       "      <th>3521</th>\n",
       "      <td>Architecting with Google Kubernetes Engine: Pr...</td>\n",
       "      <td>Google Cloud</td>\n",
       "      <td>Intermediate</td>\n",
       "      <td>4.7</td>\n",
       "      <td>https://www.coursera.org/learn/deploying-secur...</td>\n",
       "      <td>In this course, \"Architecting with Google Kube...</td>\n",
       "      <td>bigtable  bigquery  SQL  Google Cloud Platform...</td>\n",
       "    </tr>\n",
       "  </tbody>\n",
       "</table>\n",
       "<p>3522 rows × 7 columns</p>\n",
       "</div>"
      ],
      "text/plain": [
       "                                            Course Name  \\\n",
       "0     Write A Feature Length Screenplay For Film Or ...   \n",
       "1     Business Strategy: Business Model Canvas Analy...   \n",
       "2                         Silicon Thin Film Solar Cells   \n",
       "3                                  Finance for Managers   \n",
       "4          Retrieve Data using Single-Table SQL Queries   \n",
       "...                                                 ...   \n",
       "3517  Capstone: Retrieving, Processing, and Visualiz...   \n",
       "3518                   Patrick Henry: Forgotten Founder   \n",
       "3519  Business intelligence and data analytics: Gene...   \n",
       "3520                                Rigid Body Dynamics   \n",
       "3521  Architecting with Google Kubernetes Engine: Pr...   \n",
       "\n",
       "                                             University Difficulty Level  \\\n",
       "0                             Michigan State University         Beginner   \n",
       "1                              Coursera Project Network         Beginner   \n",
       "2                                   Ecole Polytechnique         Advanced   \n",
       "3                                  IESE Business School     Intermediate   \n",
       "4                              Coursera Project Network         Beginner   \n",
       "...                                                 ...              ...   \n",
       "3517                             University of Michigan         Beginner   \n",
       "3518                             University of Virginia     Intermediate   \n",
       "3519                               Macquarie University         Advanced   \n",
       "3520  Korea Advanced Institute of Science and Techno...         Beginner   \n",
       "3521                                       Google Cloud     Intermediate   \n",
       "\n",
       "     Course Rating                                         Course URL  \\\n",
       "0              4.8  https://www.coursera.org/learn/write-a-feature...   \n",
       "1              4.8  https://www.coursera.org/learn/canvas-analysis...   \n",
       "2              4.1  https://www.coursera.org/learn/silicon-thin-fi...   \n",
       "3              4.8  https://www.coursera.org/learn/operational-fin...   \n",
       "4              4.6  https://www.coursera.org/learn/single-table-sq...   \n",
       "...            ...                                                ...   \n",
       "3517           4.6  https://www.coursera.org/learn/python-data-vis...   \n",
       "3518           4.9               https://www.coursera.org/learn/henry   \n",
       "3519           4.6  https://www.coursera.org/learn/business-intell...   \n",
       "3520           4.6  https://www.coursera.org/learn/rigid-body-dyna...   \n",
       "3521           4.7  https://www.coursera.org/learn/deploying-secur...   \n",
       "\n",
       "                                     Course Description  \\\n",
       "0     Write a Full Length Feature Film Script  In th...   \n",
       "1     By the end of this guided project, you will be...   \n",
       "2     This course consists of a general presentation...   \n",
       "3     When it comes to numbers, there is always more...   \n",
       "4     In this course you will learn how to effective...   \n",
       "...                                                 ...   \n",
       "3517  In the capstone, students will build a series ...   \n",
       "3518  Give me liberty, or give me death: Remembering...   \n",
       "3519  Megatrends heavily influence today's organisat...   \n",
       "3520  This course teaches dynamics, one of the basic...   \n",
       "3521  In this course, \"Architecting with Google Kube...   \n",
       "\n",
       "                                                 Skills  \n",
       "0     Drama  Comedy  peering  screenwriting  film  D...  \n",
       "1     Finance  business plan  persona (user experien...  \n",
       "2     chemistry  physics  Solar Energy  film  lambda...  \n",
       "3     accounts receivable  dupont analysis  analysis...  \n",
       "4     Data Analysis  select (sql)  database manageme...  \n",
       "...                                                 ...  \n",
       "3517  Databases  syntax  analysis  web  Data Visuali...  \n",
       "3518  retirement  Causality  career  history of the ...  \n",
       "3519  analytics  tableau software  Business Intellig...  \n",
       "3520  Angular  Mechanical Design  fluid mechanics  F...  \n",
       "3521  bigtable  bigquery  SQL  Google Cloud Platform...  \n",
       "\n",
       "[3522 rows x 7 columns]"
      ]
     },
     "execution_count": 2,
     "metadata": {},
     "output_type": "execute_result"
    }
   ],
   "source": [
    "data = pd.read_csv('Coursera.csv')\n",
    "data"
   ]
  },
  {
   "cell_type": "code",
   "execution_count": 3,
   "id": "597b9521",
   "metadata": {},
   "outputs": [
    {
     "data": {
      "image/png": "[encoded data removed]",
      "text/plain": [
       "<Figure size 640x480 with 1 Axes>"
      ]
     },
     "metadata": {},
     "output_type": "display_data"
    }
   ],
   "source": [
    "import matplotlib.pyplot as plt\n",
    "import pandas as pd\n",
    "\n",
    "course_descriptions = data['Course Description'].values\n",
    "\n",
    "description_lengths = [len(description.split()) for description in course_descriptions]\n",
    "\n",
    "plt.hist(description_lengths, bins=50, color='blue', edgecolor='black')\n",
    "plt.title('Distribution of Course Description Lengths')\n",
    "plt.xlabel('Length of Course Description (Number of Words)')\n",
    "plt.ylabel('Frequency')\n",
    "plt.show()"
   ]
  },
  {
   "cell_type": "markdown",
   "id": "b05b82f9",
   "metadata": {},
   "source": [
    "# Below is the architecture of our neural net."
   ]
  },
  {
   "cell_type": "markdown",
   "id": "f6717e18",
   "metadata": {},
   "source": [
    "Autoencoder neural networks require embeddings extracting. Therefore, our neural network initializes a new sequential model and incorporates the first three layers of the trained model. These layers are then used to predict embeddings for the entire dataset tfidf-matrix after normalizing it. The result holds the lower-dimensional representations of the new data, encapsulating meaningful patterns learned by the initial model. This process is valuable for feature learning, where the extracted embeddings capture essential information about the input data's structure."
   ]
  },
  {
   "attachments": {
    "autoencoder.jpeg": {
     "image/jpeg": "[encoded data removed]"
    }
   },
   "cell_type": "markdown",
   "id": "11c0d9f9",
   "metadata": {},
   "source": [
    "![autoencoder.jpeg](attachment:autoencoder.jpeg)"
   ]
  },
  {
   "cell_type": "code",
   "execution_count": 11,
   "id": "572dbf6e",
   "metadata": {},
   "outputs": [
    {
     "name": "stdout",
     "output_type": "stream",
     "text": [
      "Epoch 1/5\n",
      "23/23 [==============================] - 1s 21ms/step - loss: 4.6931e-05 - val_loss: 4.6374e-05\n",
      "Epoch 2/5\n",
      "23/23 [==============================] - 0s 16ms/step - loss: 4.6318e-05 - val_loss: 4.6276e-05\n",
      "Epoch 3/5\n",
      "23/23 [==============================] - 0s 16ms/step - loss: 4.6291e-05 - val_loss: 4.6279e-05\n",
      "Epoch 4/5\n",
      "23/23 [==============================] - 0s 16ms/step - loss: 4.6301e-05 - val_loss: 4.6295e-05\n",
      "Epoch 5/5\n",
      "23/23 [==============================] - 0s 16ms/step - loss: 4.6303e-05 - val_loss: 4.6286e-05\n",
      "111/111 [==============================] - 0s 1ms/step\n",
      "['Capstone Value Creation through Innovation', 'Introduction to OpenCL on FPGAs', 'Managing Employee Compensation', 'Customer Segmentation and Prospecting', 'Global Disease Masterclass: Communicable Diseases Epidemiology, Intervention and Prevention']\n"
     ]
    }
   ],
   "source": [
    "import pandas as pd\n",
    "from sklearn.feature_extraction.text import TfidfVectorizer\n",
    "from sklearn.preprocessing import normalize\n",
    "from sklearn.model_selection import train_test_split\n",
    "import numpy as np\n",
    "from tensorflow.keras.models import Sequential\n",
    "from tensorflow.keras.layers import Dense, Dropout\n",
    "from sklearn.metrics.pairwise import cosine_similarity\n",
    "\n",
    "courses_data = pd.read_csv('Coursera.csv')\n",
    "\n",
    "courses_data['combined_features'] = courses_data['Course Description'] + \" \" + courses_data['Skills']\n",
    "\n",
    "tfidf_vectorizer = TfidfVectorizer(stop_words='english')\n",
    "tfidf_matrix = tfidf_vectorizer.fit_transform(courses_data['combined_features'])\n",
    "\n",
    "X_train, X_test = train_test_split(tfidf_matrix, test_size=0.2, random_state=42)\n",
    "\n",
    "model = Sequential()\n",
    "model.add(Dense(128, activation='relu', input_shape=(X_train.shape[1],)))\n",
    "model.add(Dropout(0.2))\n",
    "model.add(Dense(64, activation='relu'))\n",
    "model.add(Dropout(0.2))\n",
    "model.add(Dense(32, activation='relu'))\n",
    "model.add(Dense(X_train.shape[1], activation='linear'))\n",
    "model.compile(optimizer='adam', loss='mean_squared_error')\n",
    "\n",
    "model.fit(X_train.toarray(), X_train.toarray(), epochs=5, batch_size=128, validation_data=(X_test.toarray(), X_test.toarray()))\n",
    "\n",
    "get_embeddings = Sequential()\n",
    "get_embeddings.add(model.layers[0])\n",
    "get_embeddings.add(model.layers[1])\n",
    "get_embeddings.add(model.layers[2])\n",
    "course_embeddings = get_embeddings.predict(normalize(tfidf_matrix.toarray()))\n",
    "\n",
    "def recommend_course_by_index(index, courses_data, embeddings, top_n=5):\n",
    "    if index < 0 or index >= len(courses_data):\n",
    "        return \"Invalid index.\"\n",
    "\n",
    "    course_embedding = embeddings[index]\n",
    "    similarities = cosine_similarity([course_embedding], embeddings)[0]\n",
    "    similar_indices = np.argsort(similarities)[::-1][1:top_n+1]\n",
    "    \n",
    "    return courses_data['Course Name'].iloc[similar_indices].tolist()\n",
    "\n",
    "index = 3  # index of course\n",
    "recommended_courses = recommend_course_by_index(index, courses_data, course_embeddings)\n",
    "print(recommended_courses)"
   ]
  },
  {
   "cell_type": "code",
   "execution_count": 20,
   "id": "fcd06ed3",
   "metadata": {},
   "outputs": [
    {
     "data": {
      "text/html": [
       "<div>\n",
       "<style scoped>\n",
       "    .dataframe tbody tr th:only-of-type {\n",
       "        vertical-align: middle;\n",
       "    }\n",
       "\n",
       "    .dataframe tbody tr th {\n",
       "        vertical-align: top;\n",
       "    }\n",
       "\n",
       "    .dataframe thead th {\n",
       "        text-align: right;\n",
       "    }\n",
       "</style>\n",
       "<table border=\"1\" class=\"dataframe\">\n",
       "  <thead>\n",
       "    <tr style=\"text-align: right;\">\n",
       "      <th></th>\n",
       "      <th>Course Name</th>\n",
       "      <th>University</th>\n",
       "      <th>Difficulty Level</th>\n",
       "      <th>Course Rating</th>\n",
       "      <th>Course URL</th>\n",
       "      <th>Course Description</th>\n",
       "      <th>Skills</th>\n",
       "      <th>combined_features</th>\n",
       "    </tr>\n",
       "  </thead>\n",
       "  <tbody>\n",
       "    <tr>\n",
       "      <th>3</th>\n",
       "      <td>Finance for Managers</td>\n",
       "      <td>IESE Business School</td>\n",
       "      <td>Intermediate</td>\n",
       "      <td>4.8</td>\n",
       "      <td>https://www.coursera.org/learn/operational-fin...</td>\n",
       "      <td>When it comes to numbers, there is always more...</td>\n",
       "      <td>accounts receivable  dupont analysis  analysis...</td>\n",
       "      <td>When it comes to numbers, there is always more...</td>\n",
       "    </tr>\n",
       "  </tbody>\n",
       "</table>\n",
       "</div>"
      ],
      "text/plain": [
       "            Course Name            University Difficulty Level Course Rating  \\\n",
       "3  Finance for Managers  IESE Business School     Intermediate           4.8   \n",
       "\n",
       "                                          Course URL  \\\n",
       "3  https://www.coursera.org/learn/operational-fin...   \n",
       "\n",
       "                                  Course Description  \\\n",
       "3  When it comes to numbers, there is always more...   \n",
       "\n",
       "                                              Skills  \\\n",
       "3  accounts receivable  dupont analysis  analysis...   \n",
       "\n",
       "                                   combined_features  \n",
       "3  When it comes to numbers, there is always more...  "
      ]
     },
     "execution_count": 20,
     "metadata": {},
     "output_type": "execute_result"
    }
   ],
   "source": [
    "entry_at_index = courses_data.iloc[[3]]\n",
    "entry_at_index"
   ]
  },
  {
   "cell_type": "code",
   "execution_count": 13,
   "id": "883ec85f",
   "metadata": {},
   "outputs": [
    {
     "data": {
      "text/plain": [
       "(3522, 8)"
      ]
     },
     "execution_count": 13,
     "metadata": {},
     "output_type": "execute_result"
    }
   ],
   "source": [
    "courses_data.shape"
   ]
  },
  {
   "cell_type": "code",
   "execution_count": 12,
   "id": "50d6bc5c",
   "metadata": {},
   "outputs": [
    {
     "data": {
      "text/plain": [
       "(3522, 20999)"
      ]
     },
     "execution_count": 12,
     "metadata": {},
     "output_type": "execute_result"
    }
   ],
   "source": [
    "tfidf_matrix.shape"
   ]
  },
  {
   "cell_type": "code",
   "execution_count": 19,
   "id": "f08db503",
   "metadata": {},
   "outputs": [
    {
     "data": {
      "text/plain": [
       "<1x20999 sparse matrix of type '<class 'numpy.float64'>'\n",
       "\twith 71 stored elements in Compressed Sparse Row format>"
      ]
     },
     "execution_count": 19,
     "metadata": {},
     "output_type": "execute_result"
    }
   ],
   "source": [
    "X_train"
   ]
  }
 ],
 "metadata": {
  "kernelspec": {
   "display_name": "Python 3 (ipykernel)",
   "language": "python",
   "name": "python3"
  },
  "language_info": {
   "codemirror_mode": {
    "name": "ipython",
    "version": 3
   },
   "file_extension": ".py",
   "mimetype": "text/x-python",
   "name": "python",
   "nbconvert_exporter": "python",
   "pygments_lexer": "ipython3",
   "version": "3.11.7"
  },
  "varInspector": {
   "cols": {
    "lenName": 16,
    "lenType": 16,
    "lenVar": 40
   },
   "kernels_config": {
    "python": {
     "delete_cmd_postfix": "",
     "delete_cmd_prefix": "del ",
     "library": "var_list.py",
     "varRefreshCmd": "print(var_dic_list())"
    },
    "r": {
     "delete_cmd_postfix": ") ",
     "delete_cmd_prefix": "rm(",
     "library": "var_list.r",
     "varRefreshCmd": "cat(var_dic_list()) "
    }
   },
   "types_to_exclude": [
    "module",
    "function",
    "builtin_function_or_method",
    "instance",
    "_Feature"
   ],
   "window_display": false
  }
 },
 "nbformat": 4,
 "nbformat_minor": 5
}
