{
 "cells": [
  {
   "cell_type": "markdown",
   "id": "a3c1de73-e92d-4386-890c-c2404ddac22e",
   "metadata": {},
   "source": [
    "# Matrix Factorization"
   ]
  },
  {
   "cell_type": "code",
   "execution_count": 34,
   "id": "0435efbf-08f5-475f-ae8d-f584b8a0f06b",
   "metadata": {
    "tags": []
   },
   "outputs": [],
   "source": [
    "import pandas as pd\n",
    "import numpy as np\n",
    "from scipy.sparse import csr_matrix\n",
    "from scipy.sparse.linalg import svds\n",
    "\n",
    "df_courses = pd.read_csv(\"Coursera.csv\")"
   ]
  },
  {
   "cell_type": "code",
   "execution_count": 36,
   "id": "6e48be54-25c1-494f-971c-58229ca59f55",
   "metadata": {
    "tags": []
   },
   "outputs": [
    {
     "data": {
      "text/html": [
       "<div>\n",
       "<style scoped>\n",
       "    .dataframe tbody tr th:only-of-type {\n",
       "        vertical-align: middle;\n",
       "    }\n",
       "\n",
       "    .dataframe tbody tr th {\n",
       "        vertical-align: top;\n",
       "    }\n",
       "\n",
       "    .dataframe thead th {\n",
       "        text-align: right;\n",
       "    }\n",
       "</style>\n",
       "<table border=\"1\" class=\"dataframe\">\n",
       "  <thead>\n",
       "    <tr style=\"text-align: right;\">\n",
       "      <th></th>\n",
       "      <th>userID</th>\n",
       "      <th>number_course_ID</th>\n",
       "      <th>course_id</th>\n",
       "      <th>rating</th>\n",
       "    </tr>\n",
       "  </thead>\n",
       "  <tbody>\n",
       "    <tr>\n",
       "      <th>0</th>\n",
       "      <td>200023</td>\n",
       "      <td>250</td>\n",
       "      <td>google-cbrs-cpi-training</td>\n",
       "      <td>4</td>\n",
       "    </tr>\n",
       "    <tr>\n",
       "      <th>1</th>\n",
       "      <td>79956</td>\n",
       "      <td>250</td>\n",
       "      <td>google-cbrs-cpi-training</td>\n",
       "      <td>4</td>\n",
       "    </tr>\n",
       "    <tr>\n",
       "      <th>2</th>\n",
       "      <td>101446</td>\n",
       "      <td>250</td>\n",
       "      <td>google-cbrs-cpi-training</td>\n",
       "      <td>4</td>\n",
       "    </tr>\n",
       "    <tr>\n",
       "      <th>3</th>\n",
       "      <td>53579</td>\n",
       "      <td>250</td>\n",
       "      <td>google-cbrs-cpi-training</td>\n",
       "      <td>4</td>\n",
       "    </tr>\n",
       "    <tr>\n",
       "      <th>4</th>\n",
       "      <td>215308</td>\n",
       "      <td>250</td>\n",
       "      <td>google-cbrs-cpi-training</td>\n",
       "      <td>4</td>\n",
       "    </tr>\n",
       "    <tr>\n",
       "      <th>...</th>\n",
       "      <td>...</td>\n",
       "      <td>...</td>\n",
       "      <td>...</td>\n",
       "      <td>...</td>\n",
       "    </tr>\n",
       "    <tr>\n",
       "      <th>1454706</th>\n",
       "      <td>39261</td>\n",
       "      <td>84</td>\n",
       "      <td>computer-networking</td>\n",
       "      <td>5</td>\n",
       "    </tr>\n",
       "    <tr>\n",
       "      <th>1454707</th>\n",
       "      <td>244382</td>\n",
       "      <td>84</td>\n",
       "      <td>computer-networking</td>\n",
       "      <td>5</td>\n",
       "    </tr>\n",
       "    <tr>\n",
       "      <th>1454708</th>\n",
       "      <td>64042</td>\n",
       "      <td>84</td>\n",
       "      <td>computer-networking</td>\n",
       "      <td>5</td>\n",
       "    </tr>\n",
       "    <tr>\n",
       "      <th>1454709</th>\n",
       "      <td>73108</td>\n",
       "      <td>84</td>\n",
       "      <td>computer-networking</td>\n",
       "      <td>5</td>\n",
       "    </tr>\n",
       "    <tr>\n",
       "      <th>1454710</th>\n",
       "      <td>197951</td>\n",
       "      <td>84</td>\n",
       "      <td>computer-networking</td>\n",
       "      <td>5</td>\n",
       "    </tr>\n",
       "  </tbody>\n",
       "</table>\n",
       "<p>1454711 rows × 4 columns</p>\n",
       "</div>"
      ],
      "text/plain": [
       "         userID  number_course_ID                 course_id  rating\n",
       "0        200023               250  google-cbrs-cpi-training       4\n",
       "1         79956               250  google-cbrs-cpi-training       4\n",
       "2        101446               250  google-cbrs-cpi-training       4\n",
       "3         53579               250  google-cbrs-cpi-training       4\n",
       "4        215308               250  google-cbrs-cpi-training       4\n",
       "...         ...               ...                       ...     ...\n",
       "1454706   39261                84       computer-networking       5\n",
       "1454707  244382                84       computer-networking       5\n",
       "1454708   64042                84       computer-networking       5\n",
       "1454709   73108                84       computer-networking       5\n",
       "1454710  197951                84       computer-networking       5\n",
       "\n",
       "[1454711 rows x 4 columns]"
      ]
     },
     "execution_count": 36,
     "metadata": {},
     "output_type": "execute_result"
    }
   ],
   "source": [
    "column_names = ['UserID', 'CourseID', 'Rating', 'Timestamp']\n",
    "df_ratings = pd.read_csv(\"rating_coursera_final.csv\")\n",
    "df_ratings"
   ]
  },
  {
   "cell_type": "code",
   "execution_count": 37,
   "id": "2a2650b0-9121-4d12-9f2c-dd899598c96b",
   "metadata": {
    "tags": []
   },
   "outputs": [
    {
     "data": {
      "text/html": [
       "<div>\n",
       "<style scoped>\n",
       "    .dataframe tbody tr th:only-of-type {\n",
       "        vertical-align: middle;\n",
       "    }\n",
       "\n",
       "    .dataframe tbody tr th {\n",
       "        vertical-align: top;\n",
       "    }\n",
       "\n",
       "    .dataframe thead th {\n",
       "        text-align: right;\n",
       "    }\n",
       "</style>\n",
       "<table border=\"1\" class=\"dataframe\">\n",
       "  <thead>\n",
       "    <tr style=\"text-align: right;\">\n",
       "      <th></th>\n",
       "      <th>userID</th>\n",
       "      <th>number_course_ID</th>\n",
       "      <th>course_id</th>\n",
       "      <th>rating</th>\n",
       "    </tr>\n",
       "  </thead>\n",
       "  <tbody>\n",
       "    <tr>\n",
       "      <th>1096441</th>\n",
       "      <td>88280</td>\n",
       "      <td>603</td>\n",
       "      <td>writing-for-business</td>\n",
       "      <td>5</td>\n",
       "    </tr>\n",
       "    <tr>\n",
       "      <th>1095384</th>\n",
       "      <td>169886</td>\n",
       "      <td>603</td>\n",
       "      <td>writing-for-business</td>\n",
       "      <td>5</td>\n",
       "    </tr>\n",
       "    <tr>\n",
       "      <th>1095368</th>\n",
       "      <td>162028</td>\n",
       "      <td>603</td>\n",
       "      <td>writing-for-business</td>\n",
       "      <td>5</td>\n",
       "    </tr>\n",
       "    <tr>\n",
       "      <th>1095369</th>\n",
       "      <td>196237</td>\n",
       "      <td>603</td>\n",
       "      <td>writing-for-business</td>\n",
       "      <td>5</td>\n",
       "    </tr>\n",
       "    <tr>\n",
       "      <th>1095370</th>\n",
       "      <td>29233</td>\n",
       "      <td>603</td>\n",
       "      <td>writing-for-business</td>\n",
       "      <td>5</td>\n",
       "    </tr>\n",
       "    <tr>\n",
       "      <th>...</th>\n",
       "      <td>...</td>\n",
       "      <td>...</td>\n",
       "      <td>...</td>\n",
       "      <td>...</td>\n",
       "    </tr>\n",
       "    <tr>\n",
       "      <th>1095277</th>\n",
       "      <td>19812</td>\n",
       "      <td>603</td>\n",
       "      <td>writing-for-business</td>\n",
       "      <td>5</td>\n",
       "    </tr>\n",
       "    <tr>\n",
       "      <th>1095278</th>\n",
       "      <td>81820</td>\n",
       "      <td>603</td>\n",
       "      <td>writing-for-business</td>\n",
       "      <td>5</td>\n",
       "    </tr>\n",
       "    <tr>\n",
       "      <th>1095279</th>\n",
       "      <td>132169</td>\n",
       "      <td>603</td>\n",
       "      <td>writing-for-business</td>\n",
       "      <td>5</td>\n",
       "    </tr>\n",
       "    <tr>\n",
       "      <th>1095280</th>\n",
       "      <td>182766</td>\n",
       "      <td>603</td>\n",
       "      <td>writing-for-business</td>\n",
       "      <td>5</td>\n",
       "    </tr>\n",
       "    <tr>\n",
       "      <th>1095281</th>\n",
       "      <td>47736</td>\n",
       "      <td>603</td>\n",
       "      <td>writing-for-business</td>\n",
       "      <td>5</td>\n",
       "    </tr>\n",
       "  </tbody>\n",
       "</table>\n",
       "<p>100 rows × 4 columns</p>\n",
       "</div>"
      ],
      "text/plain": [
       "         userID  number_course_ID             course_id  rating\n",
       "1096441   88280               603  writing-for-business       5\n",
       "1095384  169886               603  writing-for-business       5\n",
       "1095368  162028               603  writing-for-business       5\n",
       "1095369  196237               603  writing-for-business       5\n",
       "1095370   29233               603  writing-for-business       5\n",
       "...         ...               ...                   ...     ...\n",
       "1095277   19812               603  writing-for-business       5\n",
       "1095278   81820               603  writing-for-business       5\n",
       "1095279  132169               603  writing-for-business       5\n",
       "1095280  182766               603  writing-for-business       5\n",
       "1095281   47736               603  writing-for-business       5\n",
       "\n",
       "[100 rows x 4 columns]"
      ]
     },
     "execution_count": 37,
     "metadata": {},
     "output_type": "execute_result"
    }
   ],
   "source": [
    "df_sorted = df_ratings.sort_values(by='number_course_ID', ascending=False)\n",
    "df_sorted.head(100)"
   ]
  },
  {
   "cell_type": "code",
   "execution_count": 38,
   "id": "dbc544dc-9879-4d5d-b9e0-29ebbd1d0398",
   "metadata": {
    "tags": []
   },
   "outputs": [],
   "source": [
    "df_coursera_courses= pd.read_csv(\"Coursera_courses.csv\")"
   ]
  },
  {
   "cell_type": "code",
   "execution_count": 39,
   "id": "4a895f3d-4c0e-4e3b-b005-4ec89217c483",
   "metadata": {
    "tags": []
   },
   "outputs": [
    {
     "data": {
      "text/plain": [
       "course_id\n",
       "python                                        45218\n",
       "machine-learning                              35895\n",
       "neural-networks-deep-learning                 35750\n",
       "technical-support-fundamentals                35319\n",
       "python-data                                   33546\n",
       "                                              ...  \n",
       "social-economic-networks                          6\n",
       "intro-to-healthcare                               6\n",
       "entrepreneurship-strategy                         6\n",
       "epigenetics                                       6\n",
       "building-modern-python-applications-on-aws        3\n",
       "Name: count, Length: 604, dtype: int64"
      ]
     },
     "execution_count": 39,
     "metadata": {},
     "output_type": "execute_result"
    }
   ],
   "source": [
    "df_ratings.course_id.value_counts() # top 5 & last 5 courses in terms of number of reviews. "
   ]
  },
  {
   "cell_type": "markdown",
   "id": "ae2c92c5-5b78-4637-9a21-e99ae337f906",
   "metadata": {},
   "source": [
    "## SVD"
   ]
  },
  {
   "cell_type": "code",
   "execution_count": 6,
   "id": "76823b76-fa56-40f4-8efa-ab926dca153e",
   "metadata": {
    "tags": []
   },
   "outputs": [],
   "source": [
    "from scipy.sparse.linalg import svds\n",
    "import pickle"
   ]
  },
  {
   "cell_type": "code",
   "execution_count": 10,
   "id": "e3332e55-eaa3-41a6-b709-6d764bb1706d",
   "metadata": {
    "tags": []
   },
   "outputs": [
    {
     "data": {
      "text/html": [
       "<div>\n",
       "<style scoped>\n",
       "    .dataframe tbody tr th:only-of-type {\n",
       "        vertical-align: middle;\n",
       "    }\n",
       "\n",
       "    .dataframe tbody tr th {\n",
       "        vertical-align: top;\n",
       "    }\n",
       "\n",
       "    .dataframe thead th {\n",
       "        text-align: right;\n",
       "    }\n",
       "</style>\n",
       "<table border=\"1\" class=\"dataframe\">\n",
       "  <thead>\n",
       "    <tr style=\"text-align: right;\">\n",
       "      <th>number_course_ID</th>\n",
       "      <th>0</th>\n",
       "      <th>1</th>\n",
       "      <th>2</th>\n",
       "      <th>3</th>\n",
       "      <th>4</th>\n",
       "      <th>5</th>\n",
       "      <th>6</th>\n",
       "      <th>7</th>\n",
       "      <th>8</th>\n",
       "      <th>9</th>\n",
       "      <th>...</th>\n",
       "      <th>594</th>\n",
       "      <th>595</th>\n",
       "      <th>596</th>\n",
       "      <th>597</th>\n",
       "      <th>598</th>\n",
       "      <th>599</th>\n",
       "      <th>600</th>\n",
       "      <th>601</th>\n",
       "      <th>602</th>\n",
       "      <th>603</th>\n",
       "    </tr>\n",
       "    <tr>\n",
       "      <th>userID</th>\n",
       "      <th></th>\n",
       "      <th></th>\n",
       "      <th></th>\n",
       "      <th></th>\n",
       "      <th></th>\n",
       "      <th></th>\n",
       "      <th></th>\n",
       "      <th></th>\n",
       "      <th></th>\n",
       "      <th></th>\n",
       "      <th></th>\n",
       "      <th></th>\n",
       "      <th></th>\n",
       "      <th></th>\n",
       "      <th></th>\n",
       "      <th></th>\n",
       "      <th></th>\n",
       "      <th></th>\n",
       "      <th></th>\n",
       "      <th></th>\n",
       "      <th></th>\n",
       "    </tr>\n",
       "  </thead>\n",
       "  <tbody>\n",
       "    <tr>\n",
       "      <th>0</th>\n",
       "      <td>0.0</td>\n",
       "      <td>0.0</td>\n",
       "      <td>0.0</td>\n",
       "      <td>0.0</td>\n",
       "      <td>0.0</td>\n",
       "      <td>0.0</td>\n",
       "      <td>0.0</td>\n",
       "      <td>0.0</td>\n",
       "      <td>0.0</td>\n",
       "      <td>0.0</td>\n",
       "      <td>...</td>\n",
       "      <td>0.0</td>\n",
       "      <td>0.0</td>\n",
       "      <td>0.0</td>\n",
       "      <td>0.0</td>\n",
       "      <td>0.0</td>\n",
       "      <td>0.0</td>\n",
       "      <td>0.0</td>\n",
       "      <td>0.0</td>\n",
       "      <td>0.0</td>\n",
       "      <td>0.0</td>\n",
       "    </tr>\n",
       "    <tr>\n",
       "      <th>1</th>\n",
       "      <td>0.0</td>\n",
       "      <td>0.0</td>\n",
       "      <td>0.0</td>\n",
       "      <td>0.0</td>\n",
       "      <td>0.0</td>\n",
       "      <td>0.0</td>\n",
       "      <td>0.0</td>\n",
       "      <td>0.0</td>\n",
       "      <td>0.0</td>\n",
       "      <td>0.0</td>\n",
       "      <td>...</td>\n",
       "      <td>0.0</td>\n",
       "      <td>0.0</td>\n",
       "      <td>0.0</td>\n",
       "      <td>0.0</td>\n",
       "      <td>0.0</td>\n",
       "      <td>0.0</td>\n",
       "      <td>0.0</td>\n",
       "      <td>0.0</td>\n",
       "      <td>0.0</td>\n",
       "      <td>0.0</td>\n",
       "    </tr>\n",
       "    <tr>\n",
       "      <th>2</th>\n",
       "      <td>0.0</td>\n",
       "      <td>0.0</td>\n",
       "      <td>0.0</td>\n",
       "      <td>0.0</td>\n",
       "      <td>0.0</td>\n",
       "      <td>0.0</td>\n",
       "      <td>0.0</td>\n",
       "      <td>0.0</td>\n",
       "      <td>0.0</td>\n",
       "      <td>0.0</td>\n",
       "      <td>...</td>\n",
       "      <td>0.0</td>\n",
       "      <td>0.0</td>\n",
       "      <td>0.0</td>\n",
       "      <td>0.0</td>\n",
       "      <td>0.0</td>\n",
       "      <td>0.0</td>\n",
       "      <td>0.0</td>\n",
       "      <td>0.0</td>\n",
       "      <td>0.0</td>\n",
       "      <td>0.0</td>\n",
       "    </tr>\n",
       "    <tr>\n",
       "      <th>3</th>\n",
       "      <td>0.0</td>\n",
       "      <td>0.0</td>\n",
       "      <td>0.0</td>\n",
       "      <td>0.0</td>\n",
       "      <td>0.0</td>\n",
       "      <td>0.0</td>\n",
       "      <td>0.0</td>\n",
       "      <td>0.0</td>\n",
       "      <td>0.0</td>\n",
       "      <td>0.0</td>\n",
       "      <td>...</td>\n",
       "      <td>0.0</td>\n",
       "      <td>0.0</td>\n",
       "      <td>0.0</td>\n",
       "      <td>0.0</td>\n",
       "      <td>0.0</td>\n",
       "      <td>0.0</td>\n",
       "      <td>0.0</td>\n",
       "      <td>0.0</td>\n",
       "      <td>0.0</td>\n",
       "      <td>0.0</td>\n",
       "    </tr>\n",
       "    <tr>\n",
       "      <th>4</th>\n",
       "      <td>0.0</td>\n",
       "      <td>0.0</td>\n",
       "      <td>0.0</td>\n",
       "      <td>0.0</td>\n",
       "      <td>0.0</td>\n",
       "      <td>0.0</td>\n",
       "      <td>0.0</td>\n",
       "      <td>0.0</td>\n",
       "      <td>0.0</td>\n",
       "      <td>0.0</td>\n",
       "      <td>...</td>\n",
       "      <td>0.0</td>\n",
       "      <td>0.0</td>\n",
       "      <td>0.0</td>\n",
       "      <td>0.0</td>\n",
       "      <td>0.0</td>\n",
       "      <td>0.0</td>\n",
       "      <td>0.0</td>\n",
       "      <td>0.0</td>\n",
       "      <td>0.0</td>\n",
       "      <td>0.0</td>\n",
       "    </tr>\n",
       "    <tr>\n",
       "      <th>...</th>\n",
       "      <td>...</td>\n",
       "      <td>...</td>\n",
       "      <td>...</td>\n",
       "      <td>...</td>\n",
       "      <td>...</td>\n",
       "      <td>...</td>\n",
       "      <td>...</td>\n",
       "      <td>...</td>\n",
       "      <td>...</td>\n",
       "      <td>...</td>\n",
       "      <td>...</td>\n",
       "      <td>...</td>\n",
       "      <td>...</td>\n",
       "      <td>...</td>\n",
       "      <td>...</td>\n",
       "      <td>...</td>\n",
       "      <td>...</td>\n",
       "      <td>...</td>\n",
       "      <td>...</td>\n",
       "      <td>...</td>\n",
       "      <td>...</td>\n",
       "    </tr>\n",
       "    <tr>\n",
       "      <th>287803</th>\n",
       "      <td>0.0</td>\n",
       "      <td>0.0</td>\n",
       "      <td>0.0</td>\n",
       "      <td>0.0</td>\n",
       "      <td>0.0</td>\n",
       "      <td>0.0</td>\n",
       "      <td>0.0</td>\n",
       "      <td>0.0</td>\n",
       "      <td>0.0</td>\n",
       "      <td>0.0</td>\n",
       "      <td>...</td>\n",
       "      <td>0.0</td>\n",
       "      <td>0.0</td>\n",
       "      <td>0.0</td>\n",
       "      <td>0.0</td>\n",
       "      <td>0.0</td>\n",
       "      <td>0.0</td>\n",
       "      <td>0.0</td>\n",
       "      <td>0.0</td>\n",
       "      <td>0.0</td>\n",
       "      <td>0.0</td>\n",
       "    </tr>\n",
       "    <tr>\n",
       "      <th>287804</th>\n",
       "      <td>0.0</td>\n",
       "      <td>0.0</td>\n",
       "      <td>0.0</td>\n",
       "      <td>0.0</td>\n",
       "      <td>0.0</td>\n",
       "      <td>0.0</td>\n",
       "      <td>0.0</td>\n",
       "      <td>0.0</td>\n",
       "      <td>0.0</td>\n",
       "      <td>0.0</td>\n",
       "      <td>...</td>\n",
       "      <td>0.0</td>\n",
       "      <td>0.0</td>\n",
       "      <td>0.0</td>\n",
       "      <td>0.0</td>\n",
       "      <td>0.0</td>\n",
       "      <td>0.0</td>\n",
       "      <td>0.0</td>\n",
       "      <td>0.0</td>\n",
       "      <td>0.0</td>\n",
       "      <td>0.0</td>\n",
       "    </tr>\n",
       "    <tr>\n",
       "      <th>287805</th>\n",
       "      <td>0.0</td>\n",
       "      <td>0.0</td>\n",
       "      <td>0.0</td>\n",
       "      <td>0.0</td>\n",
       "      <td>0.0</td>\n",
       "      <td>0.0</td>\n",
       "      <td>0.0</td>\n",
       "      <td>0.0</td>\n",
       "      <td>0.0</td>\n",
       "      <td>0.0</td>\n",
       "      <td>...</td>\n",
       "      <td>0.0</td>\n",
       "      <td>0.0</td>\n",
       "      <td>0.0</td>\n",
       "      <td>0.0</td>\n",
       "      <td>0.0</td>\n",
       "      <td>0.0</td>\n",
       "      <td>0.0</td>\n",
       "      <td>0.0</td>\n",
       "      <td>0.0</td>\n",
       "      <td>0.0</td>\n",
       "    </tr>\n",
       "    <tr>\n",
       "      <th>287806</th>\n",
       "      <td>0.0</td>\n",
       "      <td>0.0</td>\n",
       "      <td>0.0</td>\n",
       "      <td>0.0</td>\n",
       "      <td>0.0</td>\n",
       "      <td>0.0</td>\n",
       "      <td>0.0</td>\n",
       "      <td>0.0</td>\n",
       "      <td>0.0</td>\n",
       "      <td>0.0</td>\n",
       "      <td>...</td>\n",
       "      <td>0.0</td>\n",
       "      <td>0.0</td>\n",
       "      <td>0.0</td>\n",
       "      <td>0.0</td>\n",
       "      <td>0.0</td>\n",
       "      <td>0.0</td>\n",
       "      <td>0.0</td>\n",
       "      <td>0.0</td>\n",
       "      <td>0.0</td>\n",
       "      <td>0.0</td>\n",
       "    </tr>\n",
       "    <tr>\n",
       "      <th>287807</th>\n",
       "      <td>0.0</td>\n",
       "      <td>0.0</td>\n",
       "      <td>0.0</td>\n",
       "      <td>0.0</td>\n",
       "      <td>0.0</td>\n",
       "      <td>0.0</td>\n",
       "      <td>0.0</td>\n",
       "      <td>0.0</td>\n",
       "      <td>0.0</td>\n",
       "      <td>0.0</td>\n",
       "      <td>...</td>\n",
       "      <td>0.0</td>\n",
       "      <td>0.0</td>\n",
       "      <td>0.0</td>\n",
       "      <td>0.0</td>\n",
       "      <td>0.0</td>\n",
       "      <td>0.0</td>\n",
       "      <td>0.0</td>\n",
       "      <td>0.0</td>\n",
       "      <td>0.0</td>\n",
       "      <td>0.0</td>\n",
       "    </tr>\n",
       "  </tbody>\n",
       "</table>\n",
       "<p>287808 rows × 604 columns</p>\n",
       "</div>"
      ],
      "text/plain": [
       "number_course_ID  0    1    2    3    4    5    6    7    8    9    ...  594  \\\n",
       "userID                                                              ...        \n",
       "0                 0.0  0.0  0.0  0.0  0.0  0.0  0.0  0.0  0.0  0.0  ...  0.0   \n",
       "1                 0.0  0.0  0.0  0.0  0.0  0.0  0.0  0.0  0.0  0.0  ...  0.0   \n",
       "2                 0.0  0.0  0.0  0.0  0.0  0.0  0.0  0.0  0.0  0.0  ...  0.0   \n",
       "3                 0.0  0.0  0.0  0.0  0.0  0.0  0.0  0.0  0.0  0.0  ...  0.0   \n",
       "4                 0.0  0.0  0.0  0.0  0.0  0.0  0.0  0.0  0.0  0.0  ...  0.0   \n",
       "...               ...  ...  ...  ...  ...  ...  ...  ...  ...  ...  ...  ...   \n",
       "287803            0.0  0.0  0.0  0.0  0.0  0.0  0.0  0.0  0.0  0.0  ...  0.0   \n",
       "287804            0.0  0.0  0.0  0.0  0.0  0.0  0.0  0.0  0.0  0.0  ...  0.0   \n",
       "287805            0.0  0.0  0.0  0.0  0.0  0.0  0.0  0.0  0.0  0.0  ...  0.0   \n",
       "287806            0.0  0.0  0.0  0.0  0.0  0.0  0.0  0.0  0.0  0.0  ...  0.0   \n",
       "287807            0.0  0.0  0.0  0.0  0.0  0.0  0.0  0.0  0.0  0.0  ...  0.0   \n",
       "\n",
       "number_course_ID  595  596  597  598  599  600  601  602  603  \n",
       "userID                                                         \n",
       "0                 0.0  0.0  0.0  0.0  0.0  0.0  0.0  0.0  0.0  \n",
       "1                 0.0  0.0  0.0  0.0  0.0  0.0  0.0  0.0  0.0  \n",
       "2                 0.0  0.0  0.0  0.0  0.0  0.0  0.0  0.0  0.0  \n",
       "3                 0.0  0.0  0.0  0.0  0.0  0.0  0.0  0.0  0.0  \n",
       "4                 0.0  0.0  0.0  0.0  0.0  0.0  0.0  0.0  0.0  \n",
       "...               ...  ...  ...  ...  ...  ...  ...  ...  ...  \n",
       "287803            0.0  0.0  0.0  0.0  0.0  0.0  0.0  0.0  0.0  \n",
       "287804            0.0  0.0  0.0  0.0  0.0  0.0  0.0  0.0  0.0  \n",
       "287805            0.0  0.0  0.0  0.0  0.0  0.0  0.0  0.0  0.0  \n",
       "287806            0.0  0.0  0.0  0.0  0.0  0.0  0.0  0.0  0.0  \n",
       "287807            0.0  0.0  0.0  0.0  0.0  0.0  0.0  0.0  0.0  \n",
       "\n",
       "[287808 rows x 604 columns]"
      ]
     },
     "execution_count": 10,
     "metadata": {},
     "output_type": "execute_result"
    }
   ],
   "source": [
    "# Assuming df_ratings is your DataFrame with columns: UserID, CourseID, Rating, Timestamp\n",
    "# You can preprocess the data to create a user-item matrix\n",
    "user_item_matrix = df_ratings.pivot_table(values='rating', index='userID', columns='number_course_ID').fillna(0)\n",
    "user_item_matrix.to_pickle('user_item_matrix.pkl')\n",
    "user_item_matrix"
   ]
  },
  {
   "cell_type": "code",
   "execution_count": 11,
   "id": "6140b515-79d1-45a2-b74f-dbf3bc54c750",
   "metadata": {
    "tags": []
   },
   "outputs": [],
   "source": [
    "# Function for Singular Value Decomposition (SVD)\n",
    "def matrix_factorization_svd(R, k):\n",
    "    U, sigma, Vt = np.linalg.svd(R, full_matrices=False)\n",
    "    sigma_matrix = np.diag(sigma[:k])\n",
    "    U_k = U[:, :k]\n",
    "    Vt_k = Vt[:k, :]\n",
    "    R_approx = np.dot(np.dot(U_k, sigma_matrix), Vt_k)\n",
    "    return R_approx"
   ]
  },
  {
   "cell_type": "markdown",
   "id": "3efc7e82-8251-4689-a1b4-ac4f2d833688",
   "metadata": {},
   "source": [
    "### Find the MSE for different values of k"
   ]
  },
  {
   "cell_type": "code",
   "execution_count": 13,
   "id": "db5ff65d-3986-42bd-8556-a3a05fa228b6",
   "metadata": {
    "tags": []
   },
   "outputs": [
    {
     "name": "stderr",
     "output_type": "stream",
     "text": [
      "Processing k values: 100%|██████████████████████████████████████████████████████████████████████████| 7/7 [03:28<00:00, 29.84s/it]"
     ]
    },
    {
     "name": "stdout",
     "output_type": "stream",
     "text": [
      "MSE for k=5: 18.667744856072822\n",
      "MSE for k=10: 17.02295289540812\n",
      "MSE for k=30: 13.290215524805499\n",
      "MSE for k=50: 11.213085711674267\n",
      "MSE for k=70: 9.606706043819685\n",
      "MSE for k=90: 8.366769790706718\n",
      "MSE for k=100: 7.831588201394494\n"
     ]
    },
    {
     "name": "stderr",
     "output_type": "stream",
     "text": [
      "\n"
     ]
    }
   ],
   "source": [
    "from sklearn.metrics import mean_squared_error\n",
    "from tqdm import tqdm\n",
    "\n",
    "# Assume user_item_matrix and matrix_factorization_svd are defined as in your code\n",
    "# Convert the user-item matrix to a NumPy array\n",
    "R_svd = user_item_matrix.values\n",
    "# Get the shape of the user-item matrix\n",
    "m_svd, n_svd = R_svd.shape\n",
    "\n",
    "# Create a list of values for k that you want to evaluate\n",
    "k_values = [5, 10, 30, 50, 70, 90, 100]\n",
    "\n",
    "# Dictionary to store MSE values for each k\n",
    "mse_values = {}\n",
    "\n",
    "# Iterate over different values of k\n",
    "for k in tqdm(k_values, desc='Processing k values'):\n",
    "    # Perform matrix factorization with SVD\n",
    "    R_approx_svd = matrix_factorization_svd(R_svd, k)\n",
    "    \n",
    "    # Extract the observed values (non-zero entries) from the original matrix\n",
    "    observed_values = R_svd[R_svd != 0]\n",
    "    \n",
    "    # Extract the corresponding approximated values from the factorized matrix\n",
    "    predicted_values = R_approx_svd[R_svd != 0]\n",
    "    \n",
    "    # Calculate Mean Squared Error (MSE)\n",
    "    mse = mean_squared_error(observed_values, predicted_values)\n",
    "    \n",
    "    # Store the MSE value for the current k\n",
    "    mse_values[k] = mse\n",
    "\n",
    "# Print the MSE values for each k\n",
    "for k, mse in mse_values.items():\n",
    "    print(f'MSE for k={k}: {mse}')"
   ]
  },
  {
   "cell_type": "code",
   "execution_count": 14,
   "id": "1c0dbf06-a0b9-4a35-be1a-7ab3b611a0a8",
   "metadata": {
    "tags": []
   },
   "outputs": [
    {
     "data": {
      "image/png": "[encoded data removed]",
      "text/plain": [
       "<Figure size 640x480 with 1 Axes>"
      ]
     },
     "metadata": {},
     "output_type": "display_data"
    }
   ],
   "source": [
    "import matplotlib.pyplot as plt\n",
    "\n",
    "# Extract k values and corresponding MSE values from the dictionary\n",
    "k_values = list(mse_values.keys())\n",
    "mse_list = list(mse_values.values())\n",
    "\n",
    "# Create a plot\n",
    "plt.plot(k_values, mse_list, marker='o')\n",
    "plt.title('MSE for Different Values of k')\n",
    "plt.xlabel('Number of Latent Factors (k)')\n",
    "plt.ylabel('Mean Squared Error (MSE)')\n",
    "plt.grid(True)\n",
    "plt.show()"
   ]
  },
  {
   "cell_type": "markdown",
   "id": "ce0bb137-58ad-43a2-95ab-bb3029108dd3",
   "metadata": {
    "tags": []
   },
   "source": [
    "### For k = 100"
   ]
  },
  {
   "cell_type": "code",
   "execution_count": 16,
   "id": "3f534970-acf3-4dfd-b30b-e44d60bd1ef4",
   "metadata": {
    "tags": []
   },
   "outputs": [],
   "source": [
    "# Convert the user-item matrix to a NumPy array\n",
    "R_svd = user_item_matrix.values\n",
    "# Get the shape of the user-item matrix\n",
    "m_svd, n_svd = R_svd.shape\n",
    "\n",
    "# Set the number of latent factors for matrix factorization\n",
    "k = 100"
   ]
  },
  {
   "cell_type": "code",
   "execution_count": 17,
   "id": "b2ff1ea9-4881-434b-a4aa-b00802e5e1a1",
   "metadata": {
    "tags": []
   },
   "outputs": [],
   "source": [
    "# Apply SGD\n",
    "R_approx_svd = matrix_factorization_svd(R_svd, k)\n",
    "# Assuming R_approx_svd is your NumPy array obtained from matrix factorization\n",
    "np.save('R_approx_svd.npy', R_approx_svd)"
   ]
  },
  {
   "cell_type": "markdown",
   "id": "189c477a-8235-480d-ba00-e57ce545a4a5",
   "metadata": {},
   "source": [
    "#### Recommend courses for a random user index"
   ]
  },
  {
   "cell_type": "code",
   "execution_count": 18,
   "id": "2103644d-14dc-4b72-9229-e810ec7d28e7",
   "metadata": {
    "tags": []
   },
   "outputs": [
    {
     "data": {
      "text/plain": [
       "28747"
      ]
     },
     "execution_count": 18,
     "metadata": {},
     "output_type": "execute_result"
    }
   ],
   "source": [
    "random_user_index = np.random.randint(0, m_svd)\n",
    "random_user_index"
   ]
  },
  {
   "cell_type": "code",
   "execution_count": 19,
   "id": "5d2377d6-ab3d-431a-81b6-5a0f8b7bc6d1",
   "metadata": {
    "tags": []
   },
   "outputs": [],
   "source": [
    "user_ratings = R_approx_svd[random_user_index, :]\n",
    "sorted_course_indices = np.argsort(user_ratings)[::-1]"
   ]
  },
  {
   "cell_type": "code",
   "execution_count": 20,
   "id": "781d404d-6db7-403b-8418-173cf6ec508f",
   "metadata": {
    "tags": []
   },
   "outputs": [
    {
     "data": {
      "text/plain": [
       "array([449, 360, 595,  84, 223, 122, 347, 187, 225, 127], dtype=int64)"
      ]
     },
     "execution_count": 20,
     "metadata": {},
     "output_type": "execute_result"
    }
   ],
   "source": [
    "# Get the top 10 recommended courses\n",
    "top_10_courses = sorted_course_indices[:10]\n",
    "top_10_courses"
   ]
  },
  {
   "cell_type": "code",
   "execution_count": 21,
   "id": "5b640d18-e773-44ed-8585-2de57ec30823",
   "metadata": {
    "tags": []
   },
   "outputs": [
    {
     "name": "stdout",
     "output_type": "stream",
     "text": [
      "Recommended courses for User 28747: Index([449, 360, 595, 84, 223, 122, 347, 187, 225, 127], dtype='int64', name='number_course_ID')\n"
     ]
    }
   ],
   "source": [
    "# Extract corresponding course_ids\n",
    "recommended_course_ids = user_item_matrix.columns[top_10_courses]\n",
    "\n",
    "# Print the course_ids\n",
    "print(f\"Recommended courses for User {random_user_index}: {recommended_course_ids}\")"
   ]
  },
  {
   "cell_type": "code",
   "execution_count": 22,
   "id": "710faa9b-70af-45bf-85d7-f3ed00ced2c0",
   "metadata": {
    "tags": []
   },
   "outputs": [
    {
     "name": "stdout",
     "output_type": "stream",
     "text": [
      "Corresponding course_ids: ['computer-networking', 'what-is-datascience', 'excel-essentials', 'gcp-fundamentals', 'python-data', 'deep-neural-network', 'machine-learning-projects', 'data-scientists-tools', 'gcp-big-data-ml-fundamentals', 'matlab']\n"
     ]
    }
   ],
   "source": [
    "# Print corresponding course_ids from df_ratings\n",
    "corresponding_course_ids = df_ratings.loc[df_ratings['number_course_ID'].isin(recommended_course_ids), 'course_id'].unique()\n",
    "print(f\"Corresponding course_ids: {corresponding_course_ids.tolist()}\")\n"
   ]
  },
  {
   "cell_type": "code",
   "execution_count": 25,
   "id": "c7eea3c9-1e8f-43dd-b85d-8e06c8945d23",
   "metadata": {
    "tags": []
   },
   "outputs": [
    {
     "name": "stdout",
     "output_type": "stream",
     "text": [
      "Corresponding courses:\n",
      "8              The Bits and Bytes of Computer Networking\n",
      "13                                 What is Data Science?\n",
      "21                 Excel Skills for Business: Essentials\n",
      "25     Google Cloud Platform Fundamentals: Core Infra...\n",
      "27                                Python Data Structures\n",
      "33     Improving Deep Neural Networks: Hyperparameter...\n",
      "71                 Structuring Machine Learning Projects\n",
      "75                          The Data Scientist’s Toolbox\n",
      "113    Google Cloud Platform Big Data and Machine Lea...\n",
      "206              Introduction to Programming with MATLAB\n",
      "Name: Course Name, dtype: object\n"
     ]
    }
   ],
   "source": [
    "# Filter df_coursera_courses based on corresponding_course_ids\n",
    "corresponding_courses_info = df_coursera_courses[df_coursera_courses['course_id'].isin(corresponding_course_ids)]\n",
    "\n",
    "# Print the correspond to course_id, \"Course Name\" for each course\n",
    "print(\"Corresponding courses:\")\n",
    "print(corresponding_courses_info['Course Name'])"
   ]
  },
  {
   "cell_type": "markdown",
   "id": "fd6bee39-c4fe-4500-acb1-04bfcd8b7b14",
   "metadata": {},
   "source": [
    "## NMF"
   ]
  },
  {
   "cell_type": "code",
   "execution_count": 40,
   "id": "041894b1-b4fb-4ef7-9c6e-33282ebf1588",
   "metadata": {
    "tags": []
   },
   "outputs": [],
   "source": [
    "from sklearn.decomposition import NMF\n",
    "import numpy as np\n",
    "import pandas as pd\n",
    "\n",
    "# Assuming df_ratings is your DataFrame with columns: UserID, CourseID, Rating, Timestamp\n",
    "# You can preprocess the data to create a user-item matrix\n",
    "user_item_matrix = df_ratings.pivot_table(values='rating', index='userID', columns='number_course_ID').fillna(0)\n",
    "\n",
    "# Convert the user-item matrix to a NumPy array\n",
    "R_sgd = user_item_matrix.values\n",
    "\n",
    "# Set the number of latent factors for matrix factorization\n",
    "k = 100"
   ]
  },
  {
   "cell_type": "code",
   "execution_count": null,
   "id": "dd666f4e-bc5f-43ca-9bda-d66e4c29fae0",
   "metadata": {
    "tags": []
   },
   "outputs": [],
   "source": [
    "# Create an NMF (Non-Negative Matrix Factorization) model using SGD\n",
    "# using of sklearn.decomposition NMF\n",
    "model = NMF(n_components=k, init='random', random_state=42)\n",
    "\n",
    "# Fit the model to your data\n",
    "W = model.fit_transform(R_sgd)\n",
    "H = model.components_"
   ]
  },
  {
   "cell_type": "code",
   "execution_count": null,
   "id": "7716756a-67b9-4daf-891a-a93f03eae2a0",
   "metadata": {
    "tags": []
   },
   "outputs": [],
   "source": [
    "# Reconstruct the original matrix\n",
    "R_approx_sgd = np.dot(W, H)\n",
    "np.save('R_approx_sgd.npy', R_approx_sgd)\n",
    "# Recommend courses for a random user index\n"
   ]
  },
  {
   "cell_type": "markdown",
   "id": "a0d7fb76-79ad-4bfa-ad21-bd20ad47c688",
   "metadata": {},
   "source": [
    "#### Recommend courses for a random user index"
   ]
  },
  {
   "cell_type": "code",
   "execution_count": null,
   "id": "775f31bf-8abc-4834-b981-bd1d2d5b212c",
   "metadata": {
    "tags": []
   },
   "outputs": [],
   "source": [
    "random_user_index = np.random.randint(0, R_sgd.shape[0])\n",
    "random_user_index"
   ]
  },
  {
   "cell_type": "code",
   "execution_count": null,
   "id": "af7a17ed-f0f0-4326-b682-e8d5f05dd568",
   "metadata": {
    "tags": []
   },
   "outputs": [],
   "source": [
    "user_ratings = R_approx_sgd[random_user_index, :]\n",
    "sorted_course_indices = np.argsort(user_ratings)[::-1]"
   ]
  },
  {
   "cell_type": "code",
   "execution_count": null,
   "id": "ec8f65ed-cd5b-4cd4-b60d-63d20cb35afc",
   "metadata": {
    "tags": []
   },
   "outputs": [],
   "source": [
    "# Get the top 10 recommended courses\n",
    "top_10_courses = sorted_course_indices[:20]"
   ]
  },
  {
   "cell_type": "code",
   "execution_count": null,
   "id": "d54a0885-582a-41c7-93ca-4d67b26be880",
   "metadata": {
    "tags": []
   },
   "outputs": [],
   "source": [
    "# Extract corresponding course_ids\n",
    "recommended_course_ids = user_item_matrix.columns[top_10_courses]\n",
    "\n",
    "# Print the course_ids\n",
    "print(f\"Recommended courses for User {random_user_index}: {recommended_course_ids}\")"
   ]
  },
  {
   "cell_type": "code",
   "execution_count": null,
   "id": "e91c6c17-08fb-43dd-a303-1aad288bd794",
   "metadata": {
    "tags": []
   },
   "outputs": [],
   "source": [
    "# Print corresponding course_ids from df_ratings\n",
    "corresponding_course_ids = df_ratings.loc[df_ratings['number_course_ID'].isin(recommended_course_ids), 'course_id'].unique()\n",
    "print(f\"Corresponding course_ids: {corresponding_course_ids.tolist()}\")\n"
   ]
  },
  {
   "cell_type": "code",
   "execution_count": null,
   "id": "7e0f5547-160a-40de-9d2e-61629f253dcb",
   "metadata": {
    "tags": []
   },
   "outputs": [],
   "source": [
    "# Filter df_coursera_courses based on corresponding_course_ids\n",
    "corresponding_courses_info = df_coursera_courses[df_coursera_courses['course_id'].isin(corresponding_course_ids)]\n",
    "\n",
    "# Print the correspond to course_id, \"Course Name\" for each course\n",
    "print(\"Corresponding courses:\")\n",
    "print(corresponding_courses_info['Course Name'])"
   ]
  },
  {
   "cell_type": "code",
   "execution_count": null,
   "id": "35a736ee-8db6-4673-a49a-3496cf9265ec",
   "metadata": {},
   "outputs": [],
   "source": []
  },
  {
   "cell_type": "code",
   "execution_count": null,
   "id": "39f60f03-512f-4fab-b879-c5cd98676cfa",
   "metadata": {},
   "outputs": [],
   "source": []
  }
 ],
 "metadata": {
  "kernelspec": {
   "display_name": "Python 3 (ipykernel)",
   "language": "python",
   "name": "python3"
  },
  "language_info": {
   "codemirror_mode": {
    "name": "ipython",
    "version": 3
   },
   "file_extension": ".py",
   "mimetype": "text/x-python",
   "name": "python",
   "nbconvert_exporter": "python",
   "pygments_lexer": "ipython3",
   "version": "3.11.5"
  }
 },
 "nbformat": 4,
 "nbformat_minor": 5
}
