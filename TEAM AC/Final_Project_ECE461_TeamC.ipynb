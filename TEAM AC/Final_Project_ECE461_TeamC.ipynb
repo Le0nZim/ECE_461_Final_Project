{
 "cells": [
  {
   "cell_type": "code",
   "execution_count": 1,
   "id": "b274e81a",
   "metadata": {},
   "outputs": [],
   "source": [
    "#DATA IMPORT\n",
    "import pandas as pd\n",
    "import numpy as np\n",
    "names=[]\n",
    "listicle=list(range(1,101))\n",
    "for i in listicle:\n",
    "    j=\"Joke\"+str(i)\n",
    "    names.append(j)\n",
    "index1=pd.DataFrame(list(range(0,24983)), columns=[\"Users\"])\n",
    "index2=pd.DataFrame(list(range(24983,48483)), columns=[\"Users\"])\n",
    "jokes1=pd.read_excel(\"jester-data-1.xls\", header=None, names=names)\n",
    "jokes2=pd.read_excel(\"jester-data-2.xls\", header=None, names=names)\n",
    "jokes=pd.concat((jokes1,jokes2))"
   ]
  },
  {
   "cell_type": "code",
   "execution_count": 2,
   "id": "7b6eee7b",
   "metadata": {},
   "outputs": [],
   "source": [
    "#DATA INSPECTION\n",
    "jokes.head(5)\n",
    "jokes.describe()\n",
    "jokes.shape\n",
    "num_user=jokes.shape[0]\n",
    "num_jokes=jokes.shape[1]"
   ]
  },
  {
   "cell_type": "code",
   "execution_count": 3,
   "id": "4d8b7cf6",
   "metadata": {},
   "outputs": [],
   "source": [
    "#DATA PREPROCESSING\n",
    "jokes.replace(99, 0, inplace=True) #NA value is 99 in this dataset\n",
    "#Standardization is not necessary, features on same scale\n",
    "sample_jokes=jokes.sample(100)"
   ]
  },
  {
   "cell_type": "code",
   "execution_count": 4,
   "id": "aeaaa7e9",
   "metadata": {},
   "outputs": [
    {
     "name": "stdout",
     "output_type": "stream",
     "text": [
      "(24983, 100)\n",
      "(23500, 100)\n"
     ]
    },
    {
     "data": {
      "text/plain": [
       "48483"
      ]
     },
     "execution_count": 4,
     "metadata": {},
     "output_type": "execute_result"
    }
   ],
   "source": [
    "\n",
    "print(jokes1.shape)\n",
    "print(jokes2.shape)\n",
    "num_user"
   ]
  },
  {
   "cell_type": "code",
   "execution_count": 5,
   "id": "b3c84971",
   "metadata": {},
   "outputs": [],
   "source": [
    "#SVD\n",
    "from scipy.linalg import svd\n",
    "def reconstruct(original_df, k):\n",
    "    U, sigma, VT = svd(original_df)\n",
    "    sigma_reduced = np.zeros((k, k))\n",
    "    np.fill_diagonal(sigma_reduced, sigma[:k])\n",
    "    U_reduced = U[:, :k]\n",
    "    VT_reduced = VT[:k, :]\n",
    "# Reconstruct the Matrix with reduced singular values\n",
    "    jokes_rec = np.dot(U_reduced, np.dot(sigma_reduced, VT_reduced))\n",
    "    df_jokes_rec = pd.DataFrame(jokes_rec, columns=names)\n",
    "    return df_jokes_rec\n"
   ]
  },
  {
   "cell_type": "code",
   "execution_count": 6,
   "id": "9a4b466d",
   "metadata": {},
   "outputs": [],
   "source": [
    "# Generate Recommendations using SVD\n",
    "def recommend_items_svd(user_id, original_df,k, num_recommendations=5):\n",
    "    reconstructed_df=reconstruct(original_df, k)\n",
    "# Identify items not rated by the user\n",
    "    unrated_items = original_df.columns[original_df.iloc[user_id] == 0]\n",
    "# Predict ratings for unrated items\n",
    "    predicted_ratings = reconstructed_df.loc[user_id, unrated_items]\n",
    "# Recommend items with highest predicted ratings\n",
    "    recommended_items = predicted_ratings.nlargest(num_recommendations).index.tolist()\n",
    "    return recommended_items"
   ]
  },
  {
   "cell_type": "code",
   "execution_count": 7,
   "id": "d4f7eae3",
   "metadata": {},
   "outputs": [
    {
     "name": "stdout",
     "output_type": "stream",
     "text": [
      "['Joke71', 'Joke86', 'Joke75', 'Joke76', 'Joke90']\n"
     ]
    }
   ],
   "source": [
    "recommendations_svd = recommend_items_svd(0, sample_jokes, 10)\n",
    "print(recommendations_svd)"
   ]
  },
  {
   "cell_type": "code",
   "execution_count": 8,
   "id": "38d23a32",
   "metadata": {},
   "outputs": [],
   "source": [
    "def compare(original_df, k, way='eucl'):\n",
    "    #This primitive functions gives mean squared error on positions that we have ratings\n",
    "    reconstructed_df=reconstruct(original_df,k)\n",
    "    x=original_df.shape\n",
    "    mean_squared_sum=0\n",
    "    count_ratings=0\n",
    "    if way=='eucl':\n",
    "        for i in range(x[0]):\n",
    "            for j in range(x[1]):\n",
    "                if original_df.iat[i,j]!=0:\n",
    "                    mean_squared_sum+=(original_df.iat[i,j]-reconstructed_df.iat[i,j])*(original_df.iat[i,j]-reconstructed_df.iat[i,j])\n",
    "                    count_ratings+=1\n",
    "    if way=='manh':\n",
    "        for i in range(x[0]):\n",
    "            for j in range(x[1]):\n",
    "                if original_df.iat[i,j]!=0:\n",
    "                    mean_squared_sum+=abs(original_df.iat[i,j]-reconstructed_df.iat[i,j])\n",
    "                    count_ratings+=1\n",
    "    return round(mean_squared_sum/count_ratings,2)"
   ]
  },
  {
   "cell_type": "code",
   "execution_count": 9,
   "id": "4f03720d",
   "metadata": {},
   "outputs": [],
   "source": [
    "def find_k(n, users_sampled, repetitions, way='eucl'):\n",
    "    listicle=[]\n",
    "    for i in range(repetitions):\n",
    "        k=n\n",
    "        sample_jokes=jokes.sample(users_sampled)\n",
    "        df_jokes_rec = reconstruct(sample_jokes,k)\n",
    "        listicle.append(compare(sample_jokes, k, way))\n",
    "    evaluation=np.mean(listicle)\n",
    "    return(np.sqrt(evaluation))"
   ]
  },
  {
   "cell_type": "code",
   "execution_count": 10,
   "id": "79590116",
   "metadata": {},
   "outputs": [
    {
     "data": {
      "text/plain": [
       "1.5878706916286771"
      ]
     },
     "execution_count": 10,
     "metadata": {},
     "output_type": "execute_result"
    }
   ],
   "source": [
    "find_k(10, 100, 30, 'manh')"
   ]
  },
  {
   "cell_type": "code",
   "execution_count": 11,
   "id": "bf84daa5",
   "metadata": {},
   "outputs": [],
   "source": [
    "values_MSE=[]\n",
    "for i in range(12):\n",
    "    values_MSE.append(find_k(i+1,100,30))"
   ]
  },
  {
   "cell_type": "markdown",
   "id": "93c5533b",
   "metadata": {},
   "source": [
    "K-nearest Neighbour Implementation"
   ]
  },
  {
   "cell_type": "code",
   "execution_count": 12,
   "id": "38349c7c",
   "metadata": {},
   "outputs": [],
   "source": [
    "names=[]\n",
    "listicle=list(range(1,101))\n",
    "for i in listicle:\n",
    "    j=\"Joke\"+str(i)\n",
    "    names.append(j)\n",
    "jokes1=pd.read_excel(\"jester-data-1.xls\", header=None, names=names)\n",
    "jokes2=pd.read_excel(\"jester-data-2.xls\", header=None, names=names)\n",
    "jokes=pd.concat((jokes1,jokes2))"
   ]
  },
  {
   "cell_type": "code",
   "execution_count": 13,
   "id": "1d4a332f",
   "metadata": {},
   "outputs": [],
   "source": [
    "jokes_nan=jokes.replace(99,np.nan, inplace=False) #NA value is 99 in this dataset"
   ]
  },
  {
   "cell_type": "code",
   "execution_count": 14,
   "id": "223149c6",
   "metadata": {},
   "outputs": [],
   "source": [
    "\n",
    "def nearest_neighbour(frame, distance=\"eucl\"):\n",
    "    no_users=frame.shape[0]\n",
    "    distance_array=np.zeros((no_users,no_users))\n",
    "    if distance==\"manh\":\n",
    "        for i in range(frame.shape[0]):\n",
    "            for j in range(frame.shape[0]):\n",
    "                diff=frame.iloc[i]-frame.iloc[j]\n",
    "                dist=np.nansum(abs(diff))\n",
    "                count=np.sum(~np.isnan(diff))\n",
    "                if count==0:\n",
    "                    distance_array[i,j]=20\n",
    "                else:\n",
    "                    distance_array[i,j]=dist/(count)\n",
    "    if distance==\"eucl\":\n",
    "        for i in range(frame.shape[0]):\n",
    "            for j in range(frame.shape[0]):\n",
    "                diff=frame.iloc[i,:]-frame.iloc[j,:]\n",
    "                dist=np.nansum((diff)**2)\n",
    "                count=np.sum(~np.isnan(diff))\n",
    "                if count==0:\n",
    "                    distance_array[i,j]=20\n",
    "                else:\n",
    "                    distance_array[i,j]=dist/(count)\n",
    "    index_nearest_all={}\n",
    "    k=0\n",
    "    for j in distance_array:\n",
    "        minim=400\n",
    "        index=-1\n",
    "        for i in range(len(j)):\n",
    "            if j[i]<minim and j[i]!=0:\n",
    "                minim=j[i]\n",
    "                index=i\n",
    "        index_nearest_all[k]=index\n",
    "        k=k+1\n",
    "                \n",
    "    return index_nearest_all\n",
    "            \n",
    "    "
   ]
  },
  {
   "cell_type": "code",
   "execution_count": 15,
   "id": "4ed590c5",
   "metadata": {},
   "outputs": [],
   "source": [
    "def return_suggestion(dataframe,ind):\n",
    "    dictionary=nearest_neighbour(dataframe)\n",
    "    nearest=dictionary[ind]\n",
    "    set_user_allowable=set()\n",
    "    TF_dataframe=dataframe.isna()\n",
    "    for i in range(dataframe.shape[1]):\n",
    "        if (TF_dataframe.iat[ind,i]):\n",
    "            set_user_allowable.add(i)\n",
    "        set_user_allowable.add(i)\n",
    "    candidate_joke_index=-1\n",
    "    n=0\n",
    "    d=dataframe.iloc[nearest]\n",
    "    d=d.tolist()\n",
    "    while candidate_joke_index==-1 and n<101:\n",
    "        maxim=0\n",
    "        index=-1\n",
    "        for i in range(len(d)):\n",
    "            if d[i]>maxim:\n",
    "                maxim=d[i]\n",
    "                index=i\n",
    "        potential_index=index\n",
    "        if potential_index in set_user_allowable:\n",
    "            candidate_joke_index =potential_index\n",
    "        else:    \n",
    "            d[potential_index]=0\n",
    "            n=n+1\n",
    "    if candidate_joke_index==-1:\n",
    "        return f\"No available jokes from nearest neighbour\"\n",
    "    else:\n",
    "        return f\"Joke{str(candidate_joke_index)}\"\n",
    "    "
   ]
  },
  {
   "cell_type": "code",
   "execution_count": 16,
   "id": "25cf16d1",
   "metadata": {},
   "outputs": [
    {
     "data": {
      "text/plain": [
       "'Joke65'"
      ]
     },
     "execution_count": 16,
     "metadata": {},
     "output_type": "execute_result"
    }
   ],
   "source": [
    "sample_jokes_nan=jokes_nan.sample(200)\n",
    "return_suggestion(sample_jokes_nan,23)"
   ]
  },
  {
   "cell_type": "code",
   "execution_count": 17,
   "id": "ba1f3f82",
   "metadata": {},
   "outputs": [
    {
     "name": "stdout",
     "output_type": "stream",
     "text": [
      "WARNING:tensorflow:From C:\\Users\\Preyps\\anaconda3\\Lib\\site-packages\\keras\\src\\losses.py:2976: The name tf.losses.sparse_softmax_cross_entropy is deprecated. Please use tf.compat.v1.losses.sparse_softmax_cross_entropy instead.\n",
      "\n"
     ]
    }
   ],
   "source": [
    "import os\n",
    "import numpy as np\n",
    "import pandas as pd\n",
    "import matplotlib.pyplot as plt\n",
    "from sklearn.model_selection import train_test_split\n",
    "from keras.layers import Input, Embedding, Flatten, Dot, Dense\n",
    "from keras.models import Model\n",
    "from sklearn.decomposition import PCA\n",
    "import seaborn as sns\n",
    "from sklearn.manifold import TSNE\n",
    "from sklearn.metrics import mean_squared_error\n",
    "from math import sqrt\n",
    "from keras.models import load_model"
   ]
  },
  {
   "cell_type": "code",
   "execution_count": 18,
   "id": "558407ea",
   "metadata": {},
   "outputs": [],
   "source": [
    "sample_jokes_99=jokes.sample(1000)\n",
    "x=sample_jokes_99.shape\n",
    "data_list=[]\n",
    "for i in range(x[0]):\n",
    "    for j in range(x[1]):\n",
    "        if sample_jokes_99.iat[i,j]!=99:\n",
    "            listicle=[i,j,sample_jokes_99.iat[i,j]]\n",
    "            data_list.append(listicle)\n",
    "data_list=pd.DataFrame(data_list, columns=[\"user_id\", \"joke_id\", \"rating\"])\n",
    "\n",
    "n_users = len(data_list.user_id.unique())\n",
    "n_jokes = len(data_list.joke_id.unique())"
   ]
  },
  {
   "cell_type": "code",
   "execution_count": 19,
   "id": "a742ee7a",
   "metadata": {},
   "outputs": [
    {
     "name": "stdout",
     "output_type": "stream",
     "text": [
      "WARNING:tensorflow:From C:\\Users\\Preyps\\anaconda3\\Lib\\site-packages\\keras\\src\\backend.py:1398: The name tf.executing_eagerly_outside_functions is deprecated. Please use tf.compat.v1.executing_eagerly_outside_functions instead.\n",
      "\n",
      "WARNING:tensorflow:From C:\\Users\\Preyps\\anaconda3\\Lib\\site-packages\\keras\\src\\optimizers\\__init__.py:309: The name tf.train.Optimizer is deprecated. Please use tf.compat.v1.train.Optimizer instead.\n",
      "\n"
     ]
    }
   ],
   "source": [
    "joke_input = Input(shape=[1], name=\"Joke-Input\")\n",
    "joke_embedding = Embedding(n_jokes+1, 5, name=\"Joke-Embedding\")(joke_input)\n",
    "joke_vec = Flatten(name=\"Flatten-Books\")(joke_embedding)\n",
    "\n",
    "user_input = Input(shape=[1], name=\"User-Input\")\n",
    "user_embedding = Embedding(n_users+1, 5, name=\"User-Embedding\")(user_input)\n",
    "user_vec = Flatten(name=\"Flatten-Users\")(user_embedding)\n",
    "\n",
    "prod = Dot(name=\"Dot-Product\", axes=1)([joke_vec, user_vec])\n",
    "model = Model([user_input, joke_input], prod)\n",
    "model.compile('adam', 'mean_squared_error')"
   ]
  },
  {
   "cell_type": "code",
   "execution_count": null,
   "id": "5447f0a5",
   "metadata": {},
   "outputs": [],
   "source": []
  },
  {
   "cell_type": "code",
   "execution_count": 20,
   "id": "dfda1d6b",
   "metadata": {},
   "outputs": [
    {
     "data": {
      "text/html": [
       "<div>\n",
       "<style scoped>\n",
       "    .dataframe tbody tr th:only-of-type {\n",
       "        vertical-align: middle;\n",
       "    }\n",
       "\n",
       "    .dataframe tbody tr th {\n",
       "        vertical-align: top;\n",
       "    }\n",
       "\n",
       "    .dataframe thead th {\n",
       "        text-align: right;\n",
       "    }\n",
       "</style>\n",
       "<table border=\"1\" class=\"dataframe\">\n",
       "  <thead>\n",
       "    <tr style=\"text-align: right;\">\n",
       "      <th></th>\n",
       "      <th>user_id</th>\n",
       "      <th>joke_id</th>\n",
       "      <th>rating</th>\n",
       "    </tr>\n",
       "  </thead>\n",
       "  <tbody>\n",
       "    <tr>\n",
       "      <th>0</th>\n",
       "      <td>0</td>\n",
       "      <td>0</td>\n",
       "      <td>-3.69</td>\n",
       "    </tr>\n",
       "    <tr>\n",
       "      <th>1</th>\n",
       "      <td>0</td>\n",
       "      <td>1</td>\n",
       "      <td>-9.32</td>\n",
       "    </tr>\n",
       "    <tr>\n",
       "      <th>2</th>\n",
       "      <td>0</td>\n",
       "      <td>2</td>\n",
       "      <td>-3.50</td>\n",
       "    </tr>\n",
       "    <tr>\n",
       "      <th>3</th>\n",
       "      <td>0</td>\n",
       "      <td>3</td>\n",
       "      <td>-9.61</td>\n",
       "    </tr>\n",
       "    <tr>\n",
       "      <th>4</th>\n",
       "      <td>0</td>\n",
       "      <td>4</td>\n",
       "      <td>-0.68</td>\n",
       "    </tr>\n",
       "  </tbody>\n",
       "</table>\n",
       "</div>"
      ],
      "text/plain": [
       "   user_id  joke_id  rating\n",
       "0        0        0   -3.69\n",
       "1        0        1   -9.32\n",
       "2        0        2   -3.50\n",
       "3        0        3   -9.61\n",
       "4        0        4   -0.68"
      ]
     },
     "execution_count": 20,
     "metadata": {},
     "output_type": "execute_result"
    }
   ],
   "source": [
    "data_list.head(5)"
   ]
  },
  {
   "cell_type": "code",
   "execution_count": 21,
   "id": "3c757356",
   "metadata": {},
   "outputs": [
    {
     "name": "stdout",
     "output_type": "stream",
     "text": [
      "Epoch 1/20\n",
      "WARNING:tensorflow:From C:\\Users\\Preyps\\anaconda3\\Lib\\site-packages\\keras\\src\\utils\\tf_utils.py:492: The name tf.ragged.RaggedTensorValue is deprecated. Please use tf.compat.v1.ragged.RaggedTensorValue instead.\n",
      "\n",
      "1815/1815 [==============================] - 2s 774us/step - loss: 28.0462\n",
      "Epoch 2/20\n",
      "1815/1815 [==============================] - 1s 762us/step - loss: 23.9429\n",
      "Epoch 3/20\n",
      "1815/1815 [==============================] - 1s 763us/step - loss: 20.8032\n",
      "Epoch 4/20\n",
      "1815/1815 [==============================] - 1s 774us/step - loss: 19.8159\n",
      "Epoch 5/20\n",
      "1815/1815 [==============================] - 1s 771us/step - loss: 19.3762\n",
      "Epoch 6/20\n",
      "1815/1815 [==============================] - 1s 774us/step - loss: 18.9697\n",
      "Epoch 7/20\n",
      "1815/1815 [==============================] - 1s 779us/step - loss: 18.5266\n",
      "Epoch 8/20\n",
      "1815/1815 [==============================] - 1s 808us/step - loss: 18.0882\n",
      "Epoch 9/20\n",
      "1815/1815 [==============================] - 1s 789us/step - loss: 17.7055\n",
      "Epoch 10/20\n",
      "1815/1815 [==============================] - 1s 782us/step - loss: 17.4145\n",
      "Epoch 11/20\n",
      "1815/1815 [==============================] - 1s 776us/step - loss: 17.2057\n",
      "Epoch 12/20\n",
      "1815/1815 [==============================] - 1s 770us/step - loss: 17.0622\n",
      "Epoch 13/20\n",
      "1815/1815 [==============================] - 1s 770us/step - loss: 16.9571\n",
      "Epoch 14/20\n",
      "1815/1815 [==============================] - 1s 773us/step - loss: 16.8690\n",
      "Epoch 15/20\n",
      "1815/1815 [==============================] - 1s 767us/step - loss: 16.7911\n",
      "Epoch 16/20\n",
      "1815/1815 [==============================] - 1s 769us/step - loss: 16.7151\n",
      "Epoch 17/20\n",
      "1815/1815 [==============================] - 1s 765us/step - loss: 16.6329\n",
      "Epoch 18/20\n",
      "1815/1815 [==============================] - 1s 769us/step - loss: 16.5455\n",
      "Epoch 19/20\n",
      "1815/1815 [==============================] - 1s 787us/step - loss: 16.4540\n",
      "Epoch 20/20\n",
      "1815/1815 [==============================] - 1s 795us/step - loss: 16.3572\n"
     ]
    },
    {
     "name": "stderr",
     "output_type": "stream",
     "text": [
      "C:\\Users\\Preyps\\anaconda3\\Lib\\site-packages\\keras\\src\\engine\\training.py:3103: UserWarning: You are saving your model as an HDF5 file via `model.save()`. This file format is considered legacy. We recommend using instead the native Keras format, e.g. `model.save('my_model.keras')`.\n",
      "  saving_api.save_model(\n"
     ]
    }
   ],
   "source": [
    "train, test = train_test_split(data_list, test_size=0.2, random_state=42)\n",
    "history = model.fit([train[\"user_id\"], train[\"joke_id\"]], train[\"rating\"], epochs=20, verbose=1)\n",
    "model.save('regression_model.h5')"
   ]
  },
  {
   "cell_type": "code",
   "execution_count": 22,
   "id": "b82701a3",
   "metadata": {},
   "outputs": [
    {
     "name": "stdout",
     "output_type": "stream",
     "text": [
      "454/454 [==============================] - 0s 650us/step\n",
      "17.827714203548318\n"
     ]
    }
   ],
   "source": [
    "test_predict = model.predict([test.user_id,test.joke_id])\n",
    "test['predicted_rating'] = test_predict\n",
    "MSE=sum((test['rating']-test['predicted_rating'])**2)/len(test['rating'])\n",
    "print(MSE)"
   ]
  },
  {
   "cell_type": "code",
   "execution_count": 23,
   "id": "ec0be3f0",
   "metadata": {},
   "outputs": [
    {
     "data": {
      "text/plain": [
       "Text(0.5, 1.0, 'Training Error vs. Epochs in Keras Embedding')"
      ]
     },
     "execution_count": 23,
     "metadata": {},
     "output_type": "execute_result"
    },
    {
     "data": {
      "image/png": "[encoded data removed]",
      "text/plain": [
       "<Figure size 640x480 with 1 Axes>"
      ]
     },
     "metadata": {},
     "output_type": "display_data"
    }
   ],
   "source": [
    "plt.plot(history.history['loss'])\n",
    "plt.xlabel(\"Epochs\")\n",
    "plt.ylabel(\"Training Error\")\n",
    "plt.title(\"Training Error vs. Epochs in Keras Embedding\")"
   ]
  },
  {
   "cell_type": "code",
   "execution_count": 24,
   "id": "be2e6209",
   "metadata": {},
   "outputs": [
    {
     "data": {
      "text/plain": [
       "Text(0.5, 1.0, 'MSE vs number of latent factors in collaborative filtering')"
      ]
     },
     "execution_count": 24,
     "metadata": {},
     "output_type": "execute_result"
    },
    {
     "data": {
      "image/png": "[encoded data removed]",
      "text/plain": [
       "<Figure size 640x480 with 1 Axes>"
      ]
     },
     "metadata": {},
     "output_type": "display_data"
    }
   ],
   "source": [
    "for i in range(len(values_MSE)):\n",
    "    values_MSE[i]=values_MSE[i]\n",
    "plt.plot(values_MSE)\n",
    "plt.xlabel(\"Latent Factors\")\n",
    "plt.ylabel(\"MSE\")\n",
    "plt.title(\"MSE vs number of latent factors in collaborative filtering\")"
   ]
  },
  {
   "cell_type": "code",
   "execution_count": null,
   "id": "ff718ca7",
   "metadata": {},
   "outputs": [],
   "source": []
  }
 ],
 "metadata": {
  "kernelspec": {
   "display_name": "Python 3 (ipykernel)",
   "language": "python",
   "name": "python3"
  },
  "language_info": {
   "codemirror_mode": {
    "name": "ipython",
    "version": 3
   },
   "file_extension": ".py",
   "mimetype": "text/x-python",
   "name": "python",
   "nbconvert_exporter": "python",
   "pygments_lexer": "ipython3",
   "version": "3.11.4"
  }
 },
 "nbformat": 4,
 "nbformat_minor": 5
}
