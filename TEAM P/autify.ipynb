{
 "cells": [
  {
   "attachments": {},
   "cell_type": "markdown",
   "metadata": {},
   "source": [
    "## Autify: Automatic Playlist Continuation for Spotify"
   ]
  },
  {
   "attachments": {},
   "cell_type": "markdown",
   "metadata": {},
   "source": [
    "### Import necessary libraries"
   ]
  },
  {
   "cell_type": "code",
   "execution_count": 1,
   "metadata": {},
   "outputs": [
    {
     "name": "stderr",
     "output_type": "stream",
     "text": [
      "/srv/homes/ipanagou/miniconda3/envs/autify/lib/python3.11/site-packages/tqdm/auto.py:21: TqdmWarning: IProgress not found. Please update jupyter and ipywidgets. See https://ipywidgets.readthedocs.io/en/stable/user_install.html\n",
      "  from .autonotebook import tqdm as notebook_tqdm\n"
     ]
    }
   ],
   "source": [
    "import math\n",
    "import pandas as pd\n",
    "import numpy as np\n",
    "import seaborn as sns\n",
    "from scipy.sparse import csr_matrix\n",
    "from implicit.gpu.als import AlternatingLeastSquares\n",
    "from sklearn.model_selection import train_test_split\n",
    "from sklearn.preprocessing import StandardScaler"
   ]
  },
  {
   "attachments": {},
   "cell_type": "markdown",
   "metadata": {},
   "source": [
    "### Load datasets"
   ]
  },
  {
   "cell_type": "code",
   "execution_count": 2,
   "metadata": {},
   "outputs": [
    {
     "data": {
      "text/html": [
       "<div>\n",
       "<style scoped>\n",
       "    .dataframe tbody tr th:only-of-type {\n",
       "        vertical-align: middle;\n",
       "    }\n",
       "\n",
       "    .dataframe tbody tr th {\n",
       "        vertical-align: top;\n",
       "    }\n",
       "\n",
       "    .dataframe thead th {\n",
       "        text-align: right;\n",
       "    }\n",
       "</style>\n",
       "<table border=\"1\" class=\"dataframe\">\n",
       "  <thead>\n",
       "    <tr style=\"text-align: right;\">\n",
       "      <th></th>\n",
       "      <th>playlist_id</th>\n",
       "      <th>track_id</th>\n",
       "      <th>artist_id</th>\n",
       "      <th>pos</th>\n",
       "      <th>val</th>\n",
       "      <th>val_normalized</th>\n",
       "      <th>popularity</th>\n",
       "    </tr>\n",
       "  </thead>\n",
       "  <tbody>\n",
       "    <tr>\n",
       "      <th>0</th>\n",
       "      <td>101000</td>\n",
       "      <td>0</td>\n",
       "      <td>1</td>\n",
       "      <td>0</td>\n",
       "      <td>1.0</td>\n",
       "      <td>0.107833</td>\n",
       "      <td>1400</td>\n",
       "    </tr>\n",
       "    <tr>\n",
       "      <th>1</th>\n",
       "      <td>101000</td>\n",
       "      <td>1</td>\n",
       "      <td>2</td>\n",
       "      <td>1</td>\n",
       "      <td>1.0</td>\n",
       "      <td>0.107833</td>\n",
       "      <td>343</td>\n",
       "    </tr>\n",
       "    <tr>\n",
       "      <th>2</th>\n",
       "      <td>101000</td>\n",
       "      <td>2</td>\n",
       "      <td>3</td>\n",
       "      <td>2</td>\n",
       "      <td>1.0</td>\n",
       "      <td>0.107833</td>\n",
       "      <td>164</td>\n",
       "    </tr>\n",
       "    <tr>\n",
       "      <th>3</th>\n",
       "      <td>101000</td>\n",
       "      <td>3</td>\n",
       "      <td>4</td>\n",
       "      <td>3</td>\n",
       "      <td>1.0</td>\n",
       "      <td>0.107833</td>\n",
       "      <td>2376</td>\n",
       "    </tr>\n",
       "    <tr>\n",
       "      <th>4</th>\n",
       "      <td>101000</td>\n",
       "      <td>4</td>\n",
       "      <td>5</td>\n",
       "      <td>4</td>\n",
       "      <td>1.0</td>\n",
       "      <td>0.107833</td>\n",
       "      <td>8595</td>\n",
       "    </tr>\n",
       "    <tr>\n",
       "      <th>5</th>\n",
       "      <td>101000</td>\n",
       "      <td>5</td>\n",
       "      <td>6</td>\n",
       "      <td>5</td>\n",
       "      <td>1.0</td>\n",
       "      <td>0.107833</td>\n",
       "      <td>1167</td>\n",
       "    </tr>\n",
       "    <tr>\n",
       "      <th>6</th>\n",
       "      <td>101000</td>\n",
       "      <td>6</td>\n",
       "      <td>7</td>\n",
       "      <td>6</td>\n",
       "      <td>1.0</td>\n",
       "      <td>0.107833</td>\n",
       "      <td>1411</td>\n",
       "    </tr>\n",
       "    <tr>\n",
       "      <th>7</th>\n",
       "      <td>101000</td>\n",
       "      <td>7</td>\n",
       "      <td>8</td>\n",
       "      <td>7</td>\n",
       "      <td>1.0</td>\n",
       "      <td>0.107833</td>\n",
       "      <td>860</td>\n",
       "    </tr>\n",
       "    <tr>\n",
       "      <th>8</th>\n",
       "      <td>101000</td>\n",
       "      <td>8</td>\n",
       "      <td>3</td>\n",
       "      <td>8</td>\n",
       "      <td>1.0</td>\n",
       "      <td>0.107833</td>\n",
       "      <td>76</td>\n",
       "    </tr>\n",
       "    <tr>\n",
       "      <th>9</th>\n",
       "      <td>101000</td>\n",
       "      <td>9</td>\n",
       "      <td>9</td>\n",
       "      <td>9</td>\n",
       "      <td>1.0</td>\n",
       "      <td>0.107833</td>\n",
       "      <td>4523</td>\n",
       "    </tr>\n",
       "  </tbody>\n",
       "</table>\n",
       "</div>"
      ],
      "text/plain": [
       "   playlist_id  track_id  artist_id  pos  val  val_normalized  popularity\n",
       "0       101000         0          1    0  1.0        0.107833        1400\n",
       "1       101000         1          2    1  1.0        0.107833         343\n",
       "2       101000         2          3    2  1.0        0.107833         164\n",
       "3       101000         3          4    3  1.0        0.107833        2376\n",
       "4       101000         4          5    4  1.0        0.107833        8595\n",
       "5       101000         5          6    5  1.0        0.107833        1167\n",
       "6       101000         6          7    6  1.0        0.107833        1411\n",
       "7       101000         7          8    7  1.0        0.107833         860\n",
       "8       101000         8          3    8  1.0        0.107833          76\n",
       "9       101000         9          9    9  1.0        0.107833        4523"
      ]
     },
     "execution_count": 2,
     "metadata": {},
     "output_type": "execute_result"
    }
   ],
   "source": [
    "# groundtruth contains all the playlist_id interactions\n",
    "groundtruth = pd.read_csv('./data/million_playlist_dataset/playlists_tracks.csv')\n",
    "# for each entry add a column with a value of 1 (indicating that there is an interaction)\n",
    "groundtruth['val'] = 1.0\n",
    "# normalize val by the count of songs in each playlist\n",
    "groundtruth['val_normalized'] = groundtruth.groupby('playlist_id').val.transform(lambda x: x / np.linalg.norm(x))\n",
    "# add the popularity of each song (how many it appears in total in the dataset)\n",
    "groundtruth = groundtruth.join(groundtruth.track_id.value_counts().rename('popularity'), on = 'track_id')\n",
    "groundtruth.head(n = 10)"
   ]
  },
  {
   "cell_type": "code",
   "execution_count": 3,
   "metadata": {},
   "outputs": [
    {
     "data": {
      "text/html": [
       "<div>\n",
       "<style scoped>\n",
       "    .dataframe tbody tr th:only-of-type {\n",
       "        vertical-align: middle;\n",
       "    }\n",
       "\n",
       "    .dataframe tbody tr th {\n",
       "        vertical-align: top;\n",
       "    }\n",
       "\n",
       "    .dataframe thead th {\n",
       "        text-align: right;\n",
       "    }\n",
       "</style>\n",
       "<table border=\"1\" class=\"dataframe\">\n",
       "  <thead>\n",
       "    <tr style=\"text-align: right;\">\n",
       "      <th></th>\n",
       "      <th>track_id</th>\n",
       "      <th>track_uri</th>\n",
       "      <th>track_name</th>\n",
       "      <th>artist_id</th>\n",
       "      <th>album_uri</th>\n",
       "      <th>duration_ms</th>\n",
       "      <th>album_name</th>\n",
       "      <th>acousticness</th>\n",
       "      <th>danceability</th>\n",
       "      <th>energy</th>\n",
       "      <th>instrumentalness</th>\n",
       "      <th>mode</th>\n",
       "      <th>loudness</th>\n",
       "      <th>speechiness</th>\n",
       "      <th>tempo</th>\n",
       "      <th>time_signature</th>\n",
       "      <th>valence</th>\n",
       "    </tr>\n",
       "  </thead>\n",
       "  <tbody>\n",
       "    <tr>\n",
       "      <th>0</th>\n",
       "      <td>0</td>\n",
       "      <td>spotify:track:4NaPX1b3NsQqJrrAwkkvVc</td>\n",
       "      <td>The Mixed Tape - 2015 Remastered</td>\n",
       "      <td>1</td>\n",
       "      <td>spotify:album:7gfFEfHxjkmy6sP1fhLaJM</td>\n",
       "      <td>194440</td>\n",
       "      <td>Everything In Transit</td>\n",
       "      <td>0.568000</td>\n",
       "      <td>0.458</td>\n",
       "      <td>0.591</td>\n",
       "      <td>0.000015</td>\n",
       "      <td>1.0</td>\n",
       "      <td>-5.621</td>\n",
       "      <td>0.0326</td>\n",
       "      <td>184.913</td>\n",
       "      <td>3.0</td>\n",
       "      <td>0.6540</td>\n",
       "    </tr>\n",
       "    <tr>\n",
       "      <th>1</th>\n",
       "      <td>1</td>\n",
       "      <td>spotify:track:3oorif6IxWNSNSGNPE7Oi8</td>\n",
       "      <td>City</td>\n",
       "      <td>2</td>\n",
       "      <td>spotify:album:5UDclAH0fCsoxelbtsoT0y</td>\n",
       "      <td>235072</td>\n",
       "      <td>ADHDS</td>\n",
       "      <td>0.797000</td>\n",
       "      <td>0.455</td>\n",
       "      <td>0.623</td>\n",
       "      <td>0.903000</td>\n",
       "      <td>1.0</td>\n",
       "      <td>-11.572</td>\n",
       "      <td>0.0523</td>\n",
       "      <td>182.345</td>\n",
       "      <td>4.0</td>\n",
       "      <td>0.9510</td>\n",
       "    </tr>\n",
       "    <tr>\n",
       "      <th>2</th>\n",
       "      <td>2</td>\n",
       "      <td>spotify:track:70E2GMpGxqyuLbFi2yh1Dv</td>\n",
       "      <td>2faded</td>\n",
       "      <td>3</td>\n",
       "      <td>spotify:album:5KqinqqigtIgPbuxVB34zA</td>\n",
       "      <td>245973</td>\n",
       "      <td>Faded - EP</td>\n",
       "      <td>0.017800</td>\n",
       "      <td>0.742</td>\n",
       "      <td>0.753</td>\n",
       "      <td>0.000000</td>\n",
       "      <td>1.0</td>\n",
       "      <td>-5.632</td>\n",
       "      <td>0.0364</td>\n",
       "      <td>132.064</td>\n",
       "      <td>4.0</td>\n",
       "      <td>0.2630</td>\n",
       "    </tr>\n",
       "    <tr>\n",
       "      <th>3</th>\n",
       "      <td>3</td>\n",
       "      <td>spotify:track:06b3VaFsqYqbvQj1zFV5KM</td>\n",
       "      <td>Drive</td>\n",
       "      <td>4</td>\n",
       "      <td>spotify:album:7IbXPN9iNFIBMutzPj6NaZ</td>\n",
       "      <td>187915</td>\n",
       "      <td>This Is What It’s Like</td>\n",
       "      <td>0.086000</td>\n",
       "      <td>0.733</td>\n",
       "      <td>0.711</td>\n",
       "      <td>0.000000</td>\n",
       "      <td>1.0</td>\n",
       "      <td>-5.408</td>\n",
       "      <td>0.1580</td>\n",
       "      <td>138.076</td>\n",
       "      <td>4.0</td>\n",
       "      <td>0.3460</td>\n",
       "    </tr>\n",
       "    <tr>\n",
       "      <th>4</th>\n",
       "      <td>4</td>\n",
       "      <td>spotify:track:3e0yTP5trHBBVvV32jwXqF</td>\n",
       "      <td>Anna Sun</td>\n",
       "      <td>5</td>\n",
       "      <td>spotify:album:1QhonXpNQq8wrGEKX0ofbk</td>\n",
       "      <td>321280</td>\n",
       "      <td>Walk The Moon</td>\n",
       "      <td>0.014500</td>\n",
       "      <td>0.584</td>\n",
       "      <td>0.947</td>\n",
       "      <td>0.000039</td>\n",
       "      <td>1.0</td>\n",
       "      <td>-3.702</td>\n",
       "      <td>0.0748</td>\n",
       "      <td>100.874</td>\n",
       "      <td>4.0</td>\n",
       "      <td>0.4600</td>\n",
       "    </tr>\n",
       "    <tr>\n",
       "      <th>5</th>\n",
       "      <td>5</td>\n",
       "      <td>spotify:track:7j5DNclXXrNL4LPw59qcUK</td>\n",
       "      <td>End Credits</td>\n",
       "      <td>6</td>\n",
       "      <td>spotify:album:5bbk7Mo2OiD6q5Bb52DIkC</td>\n",
       "      <td>240389</td>\n",
       "      <td>End Credits</td>\n",
       "      <td>0.799000</td>\n",
       "      <td>0.507</td>\n",
       "      <td>0.446</td>\n",
       "      <td>0.000000</td>\n",
       "      <td>0.0</td>\n",
       "      <td>-6.141</td>\n",
       "      <td>0.0276</td>\n",
       "      <td>133.158</td>\n",
       "      <td>4.0</td>\n",
       "      <td>0.4180</td>\n",
       "    </tr>\n",
       "    <tr>\n",
       "      <th>6</th>\n",
       "      <td>6</td>\n",
       "      <td>spotify:track:3a2MbZSw3NGRWHqsCJ4iQj</td>\n",
       "      <td>I Was Wrong</td>\n",
       "      <td>7</td>\n",
       "      <td>spotify:album:2FNk380jCQyICbwtkOdEHE</td>\n",
       "      <td>217293</td>\n",
       "      <td>GALLERY</td>\n",
       "      <td>0.883000</td>\n",
       "      <td>0.253</td>\n",
       "      <td>0.197</td>\n",
       "      <td>0.005620</td>\n",
       "      <td>1.0</td>\n",
       "      <td>-17.695</td>\n",
       "      <td>0.0461</td>\n",
       "      <td>61.556</td>\n",
       "      <td>4.0</td>\n",
       "      <td>0.3770</td>\n",
       "    </tr>\n",
       "    <tr>\n",
       "      <th>7</th>\n",
       "      <td>7</td>\n",
       "      <td>spotify:track:0ytCr0BRergKfjMYayYycg</td>\n",
       "      <td>Shine A Light</td>\n",
       "      <td>8</td>\n",
       "      <td>spotify:album:2ztnrpo6EzarVTkkRk3EcD</td>\n",
       "      <td>225120</td>\n",
       "      <td>Shine A Light</td>\n",
       "      <td>0.795000</td>\n",
       "      <td>0.295</td>\n",
       "      <td>0.498</td>\n",
       "      <td>0.944000</td>\n",
       "      <td>0.0</td>\n",
       "      <td>-9.190</td>\n",
       "      <td>0.0301</td>\n",
       "      <td>89.048</td>\n",
       "      <td>3.0</td>\n",
       "      <td>0.0445</td>\n",
       "    </tr>\n",
       "    <tr>\n",
       "      <th>8</th>\n",
       "      <td>8</td>\n",
       "      <td>spotify:track:4WYIDSi83k64BH3k5DmKl9</td>\n",
       "      <td>Lost In The Wild</td>\n",
       "      <td>3</td>\n",
       "      <td>spotify:album:12NHVD38cSO5IuLzEr5yma</td>\n",
       "      <td>282882</td>\n",
       "      <td>Lost In The Wild</td>\n",
       "      <td>0.164000</td>\n",
       "      <td>0.648</td>\n",
       "      <td>0.598</td>\n",
       "      <td>0.000046</td>\n",
       "      <td>1.0</td>\n",
       "      <td>-11.845</td>\n",
       "      <td>0.3260</td>\n",
       "      <td>138.883</td>\n",
       "      <td>4.0</td>\n",
       "      <td>0.4000</td>\n",
       "    </tr>\n",
       "    <tr>\n",
       "      <th>9</th>\n",
       "      <td>9</td>\n",
       "      <td>spotify:track:5EQ9yEra0SzVd673ZfKT4C</td>\n",
       "      <td>Brand New</td>\n",
       "      <td>9</td>\n",
       "      <td>spotify:album:4E2YvGzYMgr4DizJJ0PQoo</td>\n",
       "      <td>243933</td>\n",
       "      <td>Brand New</td>\n",
       "      <td>0.000007</td>\n",
       "      <td>0.695</td>\n",
       "      <td>0.828</td>\n",
       "      <td>0.851000</td>\n",
       "      <td>1.0</td>\n",
       "      <td>-6.818</td>\n",
       "      <td>0.0457</td>\n",
       "      <td>126.014</td>\n",
       "      <td>4.0</td>\n",
       "      <td>0.0372</td>\n",
       "    </tr>\n",
       "  </tbody>\n",
       "</table>\n",
       "</div>"
      ],
      "text/plain": [
       "   track_id                             track_uri  \\\n",
       "0         0  spotify:track:4NaPX1b3NsQqJrrAwkkvVc   \n",
       "1         1  spotify:track:3oorif6IxWNSNSGNPE7Oi8   \n",
       "2         2  spotify:track:70E2GMpGxqyuLbFi2yh1Dv   \n",
       "3         3  spotify:track:06b3VaFsqYqbvQj1zFV5KM   \n",
       "4         4  spotify:track:3e0yTP5trHBBVvV32jwXqF   \n",
       "5         5  spotify:track:7j5DNclXXrNL4LPw59qcUK   \n",
       "6         6  spotify:track:3a2MbZSw3NGRWHqsCJ4iQj   \n",
       "7         7  spotify:track:0ytCr0BRergKfjMYayYycg   \n",
       "8         8  spotify:track:4WYIDSi83k64BH3k5DmKl9   \n",
       "9         9  spotify:track:5EQ9yEra0SzVd673ZfKT4C   \n",
       "\n",
       "                         track_name  artist_id  \\\n",
       "0  The Mixed Tape - 2015 Remastered          1   \n",
       "1                              City          2   \n",
       "2                            2faded          3   \n",
       "3                             Drive          4   \n",
       "4                          Anna Sun          5   \n",
       "5                       End Credits          6   \n",
       "6                       I Was Wrong          7   \n",
       "7                     Shine A Light          8   \n",
       "8                  Lost In The Wild          3   \n",
       "9                         Brand New          9   \n",
       "\n",
       "                              album_uri  duration_ms              album_name  \\\n",
       "0  spotify:album:7gfFEfHxjkmy6sP1fhLaJM       194440   Everything In Transit   \n",
       "1  spotify:album:5UDclAH0fCsoxelbtsoT0y       235072                   ADHDS   \n",
       "2  spotify:album:5KqinqqigtIgPbuxVB34zA       245973              Faded - EP   \n",
       "3  spotify:album:7IbXPN9iNFIBMutzPj6NaZ       187915  This Is What It’s Like   \n",
       "4  spotify:album:1QhonXpNQq8wrGEKX0ofbk       321280           Walk The Moon   \n",
       "5  spotify:album:5bbk7Mo2OiD6q5Bb52DIkC       240389             End Credits   \n",
       "6  spotify:album:2FNk380jCQyICbwtkOdEHE       217293                 GALLERY   \n",
       "7  spotify:album:2ztnrpo6EzarVTkkRk3EcD       225120           Shine A Light   \n",
       "8  spotify:album:12NHVD38cSO5IuLzEr5yma       282882        Lost In The Wild   \n",
       "9  spotify:album:4E2YvGzYMgr4DizJJ0PQoo       243933               Brand New   \n",
       "\n",
       "   acousticness  danceability  energy  instrumentalness  mode  loudness  \\\n",
       "0      0.568000         0.458   0.591          0.000015   1.0    -5.621   \n",
       "1      0.797000         0.455   0.623          0.903000   1.0   -11.572   \n",
       "2      0.017800         0.742   0.753          0.000000   1.0    -5.632   \n",
       "3      0.086000         0.733   0.711          0.000000   1.0    -5.408   \n",
       "4      0.014500         0.584   0.947          0.000039   1.0    -3.702   \n",
       "5      0.799000         0.507   0.446          0.000000   0.0    -6.141   \n",
       "6      0.883000         0.253   0.197          0.005620   1.0   -17.695   \n",
       "7      0.795000         0.295   0.498          0.944000   0.0    -9.190   \n",
       "8      0.164000         0.648   0.598          0.000046   1.0   -11.845   \n",
       "9      0.000007         0.695   0.828          0.851000   1.0    -6.818   \n",
       "\n",
       "   speechiness    tempo  time_signature  valence  \n",
       "0       0.0326  184.913             3.0   0.6540  \n",
       "1       0.0523  182.345             4.0   0.9510  \n",
       "2       0.0364  132.064             4.0   0.2630  \n",
       "3       0.1580  138.076             4.0   0.3460  \n",
       "4       0.0748  100.874             4.0   0.4600  \n",
       "5       0.0276  133.158             4.0   0.4180  \n",
       "6       0.0461   61.556             4.0   0.3770  \n",
       "7       0.0301   89.048             3.0   0.0445  \n",
       "8       0.3260  138.883             4.0   0.4000  \n",
       "9       0.0457  126.014             4.0   0.0372  "
      ]
     },
     "execution_count": 3,
     "metadata": {},
     "output_type": "execute_result"
    }
   ],
   "source": [
    "tracks = pd.read_csv('./data/million_playlist_dataset/tracks.csv')\n",
    "tracks.head(n = 10)"
   ]
  },
  {
   "cell_type": "code",
   "execution_count": 4,
   "metadata": {},
   "outputs": [
    {
     "data": {
      "text/html": [
       "<div>\n",
       "<style scoped>\n",
       "    .dataframe tbody tr th:only-of-type {\n",
       "        vertical-align: middle;\n",
       "    }\n",
       "\n",
       "    .dataframe tbody tr th {\n",
       "        vertical-align: top;\n",
       "    }\n",
       "\n",
       "    .dataframe thead th {\n",
       "        text-align: right;\n",
       "    }\n",
       "</style>\n",
       "<table border=\"1\" class=\"dataframe\">\n",
       "  <thead>\n",
       "    <tr style=\"text-align: right;\">\n",
       "      <th></th>\n",
       "      <th>playlist_id</th>\n",
       "      <th>name</th>\n",
       "      <th>num_tracks</th>\n",
       "      <th>num_artists</th>\n",
       "      <th>num_albums</th>\n",
       "      <th>num_followers</th>\n",
       "      <th>num_edits</th>\n",
       "      <th>duration_ms</th>\n",
       "      <th>modified_at</th>\n",
       "      <th>collaborative</th>\n",
       "      <th>description</th>\n",
       "    </tr>\n",
       "  </thead>\n",
       "  <tbody>\n",
       "    <tr>\n",
       "      <th>0</th>\n",
       "      <td>101000</td>\n",
       "      <td>bands</td>\n",
       "      <td>86</td>\n",
       "      <td>66</td>\n",
       "      <td>73</td>\n",
       "      <td>1</td>\n",
       "      <td>15</td>\n",
       "      <td>18966630</td>\n",
       "      <td>1490659200</td>\n",
       "      <td>False</td>\n",
       "      <td>NaN</td>\n",
       "    </tr>\n",
       "    <tr>\n",
       "      <th>1</th>\n",
       "      <td>101001</td>\n",
       "      <td>Chill</td>\n",
       "      <td>31</td>\n",
       "      <td>17</td>\n",
       "      <td>23</td>\n",
       "      <td>1</td>\n",
       "      <td>14</td>\n",
       "      <td>7176914</td>\n",
       "      <td>1495238400</td>\n",
       "      <td>False</td>\n",
       "      <td>NaN</td>\n",
       "    </tr>\n",
       "    <tr>\n",
       "      <th>2</th>\n",
       "      <td>101002</td>\n",
       "      <td>hip hop/rap</td>\n",
       "      <td>53</td>\n",
       "      <td>34</td>\n",
       "      <td>46</td>\n",
       "      <td>3</td>\n",
       "      <td>4</td>\n",
       "      <td>12199191</td>\n",
       "      <td>1434067200</td>\n",
       "      <td>False</td>\n",
       "      <td>NaN</td>\n",
       "    </tr>\n",
       "    <tr>\n",
       "      <th>3</th>\n",
       "      <td>101003</td>\n",
       "      <td>melT</td>\n",
       "      <td>29</td>\n",
       "      <td>15</td>\n",
       "      <td>23</td>\n",
       "      <td>1</td>\n",
       "      <td>6</td>\n",
       "      <td>3260443</td>\n",
       "      <td>1509235200</td>\n",
       "      <td>False</td>\n",
       "      <td>NaN</td>\n",
       "    </tr>\n",
       "    <tr>\n",
       "      <th>4</th>\n",
       "      <td>101004</td>\n",
       "      <td>Bangers</td>\n",
       "      <td>17</td>\n",
       "      <td>13</td>\n",
       "      <td>16</td>\n",
       "      <td>1</td>\n",
       "      <td>14</td>\n",
       "      <td>4073917</td>\n",
       "      <td>1497571200</td>\n",
       "      <td>False</td>\n",
       "      <td>NaN</td>\n",
       "    </tr>\n",
       "    <tr>\n",
       "      <th>5</th>\n",
       "      <td>101005</td>\n",
       "      <td>Tvd</td>\n",
       "      <td>13</td>\n",
       "      <td>12</td>\n",
       "      <td>12</td>\n",
       "      <td>1</td>\n",
       "      <td>6</td>\n",
       "      <td>3520732</td>\n",
       "      <td>1489104000</td>\n",
       "      <td>False</td>\n",
       "      <td>NaN</td>\n",
       "    </tr>\n",
       "    <tr>\n",
       "      <th>6</th>\n",
       "      <td>101006</td>\n",
       "      <td>Best of 2014</td>\n",
       "      <td>33</td>\n",
       "      <td>31</td>\n",
       "      <td>31</td>\n",
       "      <td>1</td>\n",
       "      <td>2</td>\n",
       "      <td>7955493</td>\n",
       "      <td>1450137600</td>\n",
       "      <td>False</td>\n",
       "      <td>NaN</td>\n",
       "    </tr>\n",
       "    <tr>\n",
       "      <th>7</th>\n",
       "      <td>101007</td>\n",
       "      <td>Baby Shower</td>\n",
       "      <td>20</td>\n",
       "      <td>15</td>\n",
       "      <td>19</td>\n",
       "      <td>1</td>\n",
       "      <td>4</td>\n",
       "      <td>4668169</td>\n",
       "      <td>1506729600</td>\n",
       "      <td>False</td>\n",
       "      <td>NaN</td>\n",
       "    </tr>\n",
       "    <tr>\n",
       "      <th>8</th>\n",
       "      <td>101008</td>\n",
       "      <td>Throwback</td>\n",
       "      <td>234</td>\n",
       "      <td>122</td>\n",
       "      <td>189</td>\n",
       "      <td>3</td>\n",
       "      <td>3</td>\n",
       "      <td>55438417</td>\n",
       "      <td>1500336000</td>\n",
       "      <td>False</td>\n",
       "      <td>NaN</td>\n",
       "    </tr>\n",
       "    <tr>\n",
       "      <th>9</th>\n",
       "      <td>101009</td>\n",
       "      <td>mmm</td>\n",
       "      <td>7</td>\n",
       "      <td>4</td>\n",
       "      <td>4</td>\n",
       "      <td>1</td>\n",
       "      <td>4</td>\n",
       "      <td>4075424</td>\n",
       "      <td>1465948800</td>\n",
       "      <td>False</td>\n",
       "      <td>NaN</td>\n",
       "    </tr>\n",
       "  </tbody>\n",
       "</table>\n",
       "</div>"
      ],
      "text/plain": [
       "   playlist_id          name  num_tracks  num_artists  num_albums  \\\n",
       "0       101000         bands          86           66          73   \n",
       "1       101001        Chill           31           17          23   \n",
       "2       101002   hip hop/rap          53           34          46   \n",
       "3       101003          melT          29           15          23   \n",
       "4       101004       Bangers          17           13          16   \n",
       "5       101005           Tvd          13           12          12   \n",
       "6       101006  Best of 2014          33           31          31   \n",
       "7       101007   Baby Shower          20           15          19   \n",
       "8       101008     Throwback         234          122         189   \n",
       "9       101009           mmm           7            4           4   \n",
       "\n",
       "   num_followers  num_edits  duration_ms  modified_at  collaborative  \\\n",
       "0              1         15     18966630   1490659200          False   \n",
       "1              1         14      7176914   1495238400          False   \n",
       "2              3          4     12199191   1434067200          False   \n",
       "3              1          6      3260443   1509235200          False   \n",
       "4              1         14      4073917   1497571200          False   \n",
       "5              1          6      3520732   1489104000          False   \n",
       "6              1          2      7955493   1450137600          False   \n",
       "7              1          4      4668169   1506729600          False   \n",
       "8              3          3     55438417   1500336000          False   \n",
       "9              1          4      4075424   1465948800          False   \n",
       "\n",
       "  description  \n",
       "0         NaN  \n",
       "1         NaN  \n",
       "2         NaN  \n",
       "3         NaN  \n",
       "4         NaN  \n",
       "5         NaN  \n",
       "6         NaN  \n",
       "7         NaN  \n",
       "8         NaN  \n",
       "9         NaN  "
      ]
     },
     "execution_count": 4,
     "metadata": {},
     "output_type": "execute_result"
    }
   ],
   "source": [
    "playlists = pd.read_csv('./data/million_playlist_dataset/playlists.csv')\n",
    "playlists.head(n = 10)"
   ]
  },
  {
   "attachments": {},
   "cell_type": "markdown",
   "metadata": {},
   "source": [
    "### Explore Datasets"
   ]
  },
  {
   "cell_type": "code",
   "execution_count": 5,
   "metadata": {},
   "outputs": [
    {
     "name": "stdout",
     "output_type": "stream",
     "text": [
      "The dataset contains 1000000 playlists with a total of 2262292 tracks\n"
     ]
    }
   ],
   "source": [
    "num_playlists = np.unique(groundtruth['playlist_id']).shape[0]\n",
    "num_tracks = np.unique(groundtruth['track_id']).shape[0]\n",
    "\n",
    "print(f'The dataset contains {num_playlists} playlists with a total of {num_tracks} tracks')"
   ]
  },
  {
   "cell_type": "code",
   "execution_count": 6,
   "metadata": {},
   "outputs": [
    {
     "data": {
      "image/png": "[encoded data removed]",
      "text/plain": [
       "<Figure size 640x480 with 1 Axes>"
      ]
     },
     "metadata": {},
     "output_type": "display_data"
    }
   ],
   "source": [
    "g = sns.histplot(data = playlists, x = 'num_tracks', binwidth=10)\n",
    "g.set_title('Histogram of number of tracks contained in each playlist');\n",
    "g.set_xlabel('Number of tracks');"
   ]
  },
  {
   "attachments": {},
   "cell_type": "markdown",
   "metadata": {},
   "source": [
    "### Split into train, val and test dataset"
   ]
  },
  {
   "cell_type": "code",
   "execution_count": 7,
   "metadata": {},
   "outputs": [],
   "source": [
    "groundtruth = groundtruth.sort_values(by = 'playlist_id')\n",
    "ids = np.unique(groundtruth['playlist_id'])\n",
    "train_ids, val_ids = train_test_split(ids, test_size = 0.2, shuffle = False)\n",
    "val_ids, test_ids = train_test_split(val_ids, test_size = 0.5, shuffle = False)\n",
    "\n",
    "train_df = groundtruth[groundtruth['playlist_id'].isin(train_ids)]\n",
    "val_df = groundtruth[groundtruth['playlist_id'].isin(val_ids)]\n",
    "test_df = groundtruth[groundtruth['playlist_id'].isin(test_ids)]"
   ]
  },
  {
   "cell_type": "code",
   "execution_count": 8,
   "metadata": {},
   "outputs": [
    {
     "name": "stdout",
     "output_type": "stream",
     "text": [
      "Number of playlists in training dataset: 800000\n",
      "Number of playlists in validation dataset: 100000\n",
      "Number of playlists in testing dataset: 100000\n"
     ]
    }
   ],
   "source": [
    "num_train_playlists = np.unique(train_df['playlist_id']).shape[0]\n",
    "num_val_playlists = np.unique(val_df['playlist_id']).shape[0]\n",
    "num_test_playlists = np.unique(test_df['playlist_id']).shape[0]\n",
    "\n",
    "print(f'Number of playlists in training dataset: {num_train_playlists}')\n",
    "print(f'Number of playlists in validation dataset: {num_val_playlists}')\n",
    "print(f'Number of playlists in testing dataset: {num_test_playlists}')"
   ]
  },
  {
   "cell_type": "code",
   "execution_count": 9,
   "metadata": {},
   "outputs": [],
   "source": [
    "# keep only the playlists with more than 25 songs in validation and testing set\n",
    "mask = groundtruth['playlist_id'].isin(val_ids)\n",
    "val_ids = np.unique(groundtruth[mask].groupby('playlist_id').filter(lambda x: x['track_id'].count() > 25 )['playlist_id'].to_numpy())\n",
    "\n",
    "mask = groundtruth['playlist_id'].isin(test_ids)\n",
    "test_ids = np.unique(groundtruth[mask].groupby('playlist_id').filter(lambda x: x['track_id'].count() > 25 )['playlist_id'].to_numpy())\n",
    "\n",
    "train_df = groundtruth[groundtruth['playlist_id'].isin(train_ids)]\n",
    "val_df = groundtruth[groundtruth['playlist_id'].isin(val_ids)]\n",
    "test_df = groundtruth[groundtruth['playlist_id'].isin(test_ids)]"
   ]
  },
  {
   "cell_type": "code",
   "execution_count": 10,
   "metadata": {},
   "outputs": [
    {
     "name": "stdout",
     "output_type": "stream",
     "text": [
      "Number of playlists in training dataset: 800000\n",
      "Number of playlists in validation dataset: 75549\n",
      "Number of playlists in testing dataset: 75313\n"
     ]
    }
   ],
   "source": [
    "print('Number of playlists in training dataset: {}'.format(np.unique(train_df['playlist_id']).shape[0]))\n",
    "print('Number of playlists in validation dataset: {}'.format(np.unique(val_df['playlist_id']).shape[0]))\n",
    "print('Number of playlists in testing dataset: {}'.format(np.unique(test_df['playlist_id']).shape[0]))"
   ]
  },
  {
   "cell_type": "code",
   "execution_count": 11,
   "metadata": {},
   "outputs": [
    {
     "data": {
      "text/html": [
       "<div>\n",
       "<style scoped>\n",
       "    .dataframe tbody tr th:only-of-type {\n",
       "        vertical-align: middle;\n",
       "    }\n",
       "\n",
       "    .dataframe tbody tr th {\n",
       "        vertical-align: top;\n",
       "    }\n",
       "\n",
       "    .dataframe thead th {\n",
       "        text-align: right;\n",
       "    }\n",
       "</style>\n",
       "<table border=\"1\" class=\"dataframe\">\n",
       "  <thead>\n",
       "    <tr style=\"text-align: right;\">\n",
       "      <th></th>\n",
       "      <th>playlist_id</th>\n",
       "      <th>track_id</th>\n",
       "      <th>artist_id</th>\n",
       "      <th>pos</th>\n",
       "      <th>val</th>\n",
       "      <th>val_normalized</th>\n",
       "      <th>popularity</th>\n",
       "    </tr>\n",
       "  </thead>\n",
       "  <tbody>\n",
       "    <tr>\n",
       "      <th>0</th>\n",
       "      <td>900000</td>\n",
       "      <td>6440</td>\n",
       "      <td>74</td>\n",
       "      <td>1</td>\n",
       "      <td>1.0</td>\n",
       "      <td>0.166667</td>\n",
       "      <td>5019</td>\n",
       "    </tr>\n",
       "    <tr>\n",
       "      <th>1</th>\n",
       "      <td>900000</td>\n",
       "      <td>4844</td>\n",
       "      <td>1309</td>\n",
       "      <td>21</td>\n",
       "      <td>1.0</td>\n",
       "      <td>0.166667</td>\n",
       "      <td>14444</td>\n",
       "    </tr>\n",
       "    <tr>\n",
       "      <th>2</th>\n",
       "      <td>900000</td>\n",
       "      <td>10238</td>\n",
       "      <td>101</td>\n",
       "      <td>22</td>\n",
       "      <td>1.0</td>\n",
       "      <td>0.166667</td>\n",
       "      <td>14881</td>\n",
       "    </tr>\n",
       "    <tr>\n",
       "      <th>3</th>\n",
       "      <td>900000</td>\n",
       "      <td>4880</td>\n",
       "      <td>1048</td>\n",
       "      <td>23</td>\n",
       "      <td>1.0</td>\n",
       "      <td>0.166667</td>\n",
       "      <td>23633</td>\n",
       "    </tr>\n",
       "    <tr>\n",
       "      <th>4</th>\n",
       "      <td>900000</td>\n",
       "      <td>6460</td>\n",
       "      <td>1038</td>\n",
       "      <td>24</td>\n",
       "      <td>1.0</td>\n",
       "      <td>0.166667</td>\n",
       "      <td>12919</td>\n",
       "    </tr>\n",
       "    <tr>\n",
       "      <th>...</th>\n",
       "      <td>...</td>\n",
       "      <td>...</td>\n",
       "      <td>...</td>\n",
       "      <td>...</td>\n",
       "      <td>...</td>\n",
       "      <td>...</td>\n",
       "      <td>...</td>\n",
       "    </tr>\n",
       "    <tr>\n",
       "      <th>2283382</th>\n",
       "      <td>999999</td>\n",
       "      <td>618235</td>\n",
       "      <td>3615</td>\n",
       "      <td>79</td>\n",
       "      <td>1.0</td>\n",
       "      <td>0.095346</td>\n",
       "      <td>22</td>\n",
       "    </tr>\n",
       "    <tr>\n",
       "      <th>2283383</th>\n",
       "      <td>999999</td>\n",
       "      <td>260004</td>\n",
       "      <td>3867</td>\n",
       "      <td>57</td>\n",
       "      <td>1.0</td>\n",
       "      <td>0.095346</td>\n",
       "      <td>154</td>\n",
       "    </tr>\n",
       "    <tr>\n",
       "      <th>2283384</th>\n",
       "      <td>999999</td>\n",
       "      <td>162212</td>\n",
       "      <td>3865</td>\n",
       "      <td>56</td>\n",
       "      <td>1.0</td>\n",
       "      <td>0.095346</td>\n",
       "      <td>65</td>\n",
       "    </tr>\n",
       "    <tr>\n",
       "      <th>2283385</th>\n",
       "      <td>999999</td>\n",
       "      <td>227938</td>\n",
       "      <td>3865</td>\n",
       "      <td>67</td>\n",
       "      <td>1.0</td>\n",
       "      <td>0.095346</td>\n",
       "      <td>33</td>\n",
       "    </tr>\n",
       "    <tr>\n",
       "      <th>2283386</th>\n",
       "      <td>999999</td>\n",
       "      <td>40414</td>\n",
       "      <td>2214</td>\n",
       "      <td>80</td>\n",
       "      <td>1.0</td>\n",
       "      <td>0.095346</td>\n",
       "      <td>317</td>\n",
       "    </tr>\n",
       "  </tbody>\n",
       "</table>\n",
       "<p>2283387 rows × 7 columns</p>\n",
       "</div>"
      ],
      "text/plain": [
       "         playlist_id  track_id  artist_id  pos  val  val_normalized  \\\n",
       "0             900000      6440         74    1  1.0        0.166667   \n",
       "1             900000      4844       1309   21  1.0        0.166667   \n",
       "2             900000     10238        101   22  1.0        0.166667   \n",
       "3             900000      4880       1048   23  1.0        0.166667   \n",
       "4             900000      6460       1038   24  1.0        0.166667   \n",
       "...              ...       ...        ...  ...  ...             ...   \n",
       "2283382       999999    618235       3615   79  1.0        0.095346   \n",
       "2283383       999999    260004       3867   57  1.0        0.095346   \n",
       "2283384       999999    162212       3865   56  1.0        0.095346   \n",
       "2283385       999999    227938       3865   67  1.0        0.095346   \n",
       "2283386       999999     40414       2214   80  1.0        0.095346   \n",
       "\n",
       "         popularity  \n",
       "0              5019  \n",
       "1             14444  \n",
       "2             14881  \n",
       "3             23633  \n",
       "4             12919  \n",
       "...             ...  \n",
       "2283382          22  \n",
       "2283383         154  \n",
       "2283384          65  \n",
       "2283385          33  \n",
       "2283386         317  \n",
       "\n",
       "[2283387 rows x 7 columns]"
      ]
     },
     "execution_count": 11,
     "metadata": {},
     "output_type": "execute_result"
    }
   ],
   "source": [
    "groundtruth[mask].groupby('playlist_id').apply(lambda group: group.head(25)).reset_index(drop = True)"
   ]
  },
  {
   "cell_type": "code",
   "execution_count": 12,
   "metadata": {},
   "outputs": [],
   "source": [
    "# Simulate missing entries in validation and testing dataset (keep only the 25 first tracks)\n",
    "mask = groundtruth['playlist_id'].isin(train_ids)\n",
    "train_df = groundtruth[mask]\n",
    "\n",
    "mask = groundtruth['playlist_id'].isin(val_ids)\n",
    "val_df = groundtruth[mask].groupby('playlist_id').apply(lambda group: group.head(25)).reset_index(drop = True)\n",
    "\n",
    "mask = groundtruth['playlist_id'].isin(test_ids)\n",
    "test_df = groundtruth[mask].groupby('playlist_id').apply(lambda group: group.head(25)).reset_index(drop = True)"
   ]
  },
  {
   "cell_type": "code",
   "execution_count": 13,
   "metadata": {},
   "outputs": [],
   "source": [
    "df = pd.concat([train_df, val_df, test_df], axis = 0)"
   ]
  },
  {
   "attachments": {},
   "cell_type": "markdown",
   "metadata": {},
   "source": [
    "### Alternating Least Squares (ALS) for Matrix Factorization"
   ]
  },
  {
   "cell_type": "code",
   "execution_count": 14,
   "metadata": {},
   "outputs": [],
   "source": [
    "# create sparse matrix from playlist and tracks\n",
    "playlist_tracks = csr_matrix((df['val'], (df['playlist_id'].astype(int), df['track_id'].astype(int))), shape = (num_playlists, num_tracks))"
   ]
  },
  {
   "attachments": {},
   "cell_type": "markdown",
   "metadata": {},
   "source": [
    "#### Hyperparameter tuning (training)"
   ]
  },
  {
   "cell_type": "code",
   "execution_count": 15,
   "metadata": {},
   "outputs": [
    {
     "name": "stdout",
     "output_type": "stream",
     "text": [
      "Training for factors = 50, regularization = 0 and alpha = 1\n"
     ]
    },
    {
     "name": "stderr",
     "output_type": "stream",
     "text": [
      "100%|██████████| 15/15 [00:01<00:00,  7.63it/s]\n"
     ]
    },
    {
     "name": "stdout",
     "output_type": "stream",
     "text": [
      "R_precision for factors = 50, regularization = 0 and alpha = 1: 0.11814887574650325\n",
      "Training for factors = 50, regularization = 0 and alpha = 10\n"
     ]
    },
    {
     "name": "stderr",
     "output_type": "stream",
     "text": [
      "100%|██████████| 15/15 [00:01<00:00,  7.72it/s]\n"
     ]
    },
    {
     "name": "stdout",
     "output_type": "stream",
     "text": [
      "R_precision for factors = 50, regularization = 0 and alpha = 10: 0.11792508665121983\n",
      "Training for factors = 50, regularization = 0 and alpha = 20\n"
     ]
    },
    {
     "name": "stderr",
     "output_type": "stream",
     "text": [
      "100%|██████████| 15/15 [00:01<00:00,  7.71it/s]\n"
     ]
    },
    {
     "name": "stdout",
     "output_type": "stream",
     "text": [
      "R_precision for factors = 50, regularization = 0 and alpha = 20: 0.11853194107852673\n",
      "Training for factors = 50, regularization = 0 and alpha = 40\n"
     ]
    },
    {
     "name": "stderr",
     "output_type": "stream",
     "text": [
      "100%|██████████| 15/15 [00:01<00:00,  7.71it/s]\n"
     ]
    },
    {
     "name": "stdout",
     "output_type": "stream",
     "text": [
      "R_precision for factors = 50, regularization = 0 and alpha = 40: 0.11936228329541479\n",
      "Training for factors = 50, regularization = 0 and alpha = 100\n"
     ]
    },
    {
     "name": "stderr",
     "output_type": "stream",
     "text": [
      "100%|██████████| 15/15 [00:01<00:00,  7.72it/s]\n"
     ]
    },
    {
     "name": "stdout",
     "output_type": "stream",
     "text": [
      "R_precision for factors = 50, regularization = 0 and alpha = 100: 0.11818703347693324\n",
      "Training for factors = 50, regularization = 0.1 and alpha = 1\n"
     ]
    },
    {
     "name": "stderr",
     "output_type": "stream",
     "text": [
      "100%|██████████| 15/15 [00:01<00:00,  7.71it/s]\n"
     ]
    },
    {
     "name": "stdout",
     "output_type": "stream",
     "text": [
      "R_precision for factors = 50, regularization = 0.1 and alpha = 1: 0.11951899383678173\n",
      "Training for factors = 50, regularization = 0.1 and alpha = 10\n"
     ]
    },
    {
     "name": "stderr",
     "output_type": "stream",
     "text": [
      "100%|██████████| 15/15 [00:01<00:00,  7.71it/s]\n"
     ]
    },
    {
     "name": "stdout",
     "output_type": "stream",
     "text": [
      "R_precision for factors = 50, regularization = 0.1 and alpha = 10: 0.11842315381092859\n",
      "Training for factors = 50, regularization = 0.1 and alpha = 20\n"
     ]
    },
    {
     "name": "stderr",
     "output_type": "stream",
     "text": [
      "100%|██████████| 15/15 [00:01<00:00,  7.72it/s]\n"
     ]
    },
    {
     "name": "stdout",
     "output_type": "stream",
     "text": [
      "R_precision for factors = 50, regularization = 0.1 and alpha = 20: 0.1184816625931729\n",
      "Training for factors = 50, regularization = 0.1 and alpha = 40\n"
     ]
    },
    {
     "name": "stderr",
     "output_type": "stream",
     "text": [
      "100%|██████████| 15/15 [00:01<00:00,  7.71it/s]\n"
     ]
    },
    {
     "name": "stdout",
     "output_type": "stream",
     "text": [
      "R_precision for factors = 50, regularization = 0.1 and alpha = 40: 0.1183322469376061\n",
      "Training for factors = 50, regularization = 0.1 and alpha = 100\n"
     ]
    },
    {
     "name": "stderr",
     "output_type": "stream",
     "text": [
      "100%|██████████| 15/15 [00:01<00:00,  7.71it/s]\n"
     ]
    },
    {
     "name": "stdout",
     "output_type": "stream",
     "text": [
      "R_precision for factors = 50, regularization = 0.1 and alpha = 100: 0.118221349333241\n",
      "Training for factors = 50, regularization = 1 and alpha = 1\n"
     ]
    },
    {
     "name": "stderr",
     "output_type": "stream",
     "text": [
      "100%|██████████| 15/15 [00:01<00:00,  7.72it/s]\n"
     ]
    },
    {
     "name": "stdout",
     "output_type": "stream",
     "text": [
      "R_precision for factors = 50, regularization = 1 and alpha = 1: 0.1191040101438039\n",
      "Training for factors = 50, regularization = 1 and alpha = 10\n"
     ]
    },
    {
     "name": "stderr",
     "output_type": "stream",
     "text": [
      "100%|██████████| 15/15 [00:01<00:00,  7.71it/s]\n"
     ]
    },
    {
     "name": "stdout",
     "output_type": "stream",
     "text": [
      "R_precision for factors = 50, regularization = 1 and alpha = 10: 0.11886605793672357\n",
      "Training for factors = 50, regularization = 1 and alpha = 20\n"
     ]
    },
    {
     "name": "stderr",
     "output_type": "stream",
     "text": [
      "100%|██████████| 15/15 [00:01<00:00,  7.71it/s]\n"
     ]
    },
    {
     "name": "stdout",
     "output_type": "stream",
     "text": [
      "R_precision for factors = 50, regularization = 1 and alpha = 20: 0.11906160761717803\n",
      "Training for factors = 50, regularization = 1 and alpha = 40\n"
     ]
    },
    {
     "name": "stderr",
     "output_type": "stream",
     "text": [
      "100%|██████████| 15/15 [00:01<00:00,  7.71it/s]\n"
     ]
    },
    {
     "name": "stdout",
     "output_type": "stream",
     "text": [
      "R_precision for factors = 50, regularization = 1 and alpha = 40: 0.11949881605755405\n",
      "Training for factors = 50, regularization = 1 and alpha = 100\n"
     ]
    },
    {
     "name": "stderr",
     "output_type": "stream",
     "text": [
      "100%|██████████| 15/15 [00:01<00:00,  7.71it/s]\n"
     ]
    },
    {
     "name": "stdout",
     "output_type": "stream",
     "text": [
      "R_precision for factors = 50, regularization = 1 and alpha = 100: 0.11880727680741532\n",
      "Training for factors = 50, regularization = 10 and alpha = 1\n"
     ]
    },
    {
     "name": "stderr",
     "output_type": "stream",
     "text": [
      "100%|██████████| 15/15 [00:01<00:00,  7.69it/s]\n"
     ]
    },
    {
     "name": "stdout",
     "output_type": "stream",
     "text": [
      "R_precision for factors = 50, regularization = 10 and alpha = 1: 0.1186627552788645\n",
      "Training for factors = 50, regularization = 10 and alpha = 10\n"
     ]
    },
    {
     "name": "stderr",
     "output_type": "stream",
     "text": [
      "100%|██████████| 15/15 [00:01<00:00,  7.70it/s]\n"
     ]
    },
    {
     "name": "stdout",
     "output_type": "stream",
     "text": [
      "R_precision for factors = 50, regularization = 10 and alpha = 10: 0.11882113379608146\n",
      "Training for factors = 50, regularization = 10 and alpha = 20\n"
     ]
    },
    {
     "name": "stderr",
     "output_type": "stream",
     "text": [
      "100%|██████████| 15/15 [00:01<00:00,  7.69it/s]\n"
     ]
    },
    {
     "name": "stdout",
     "output_type": "stream",
     "text": [
      "R_precision for factors = 50, regularization = 10 and alpha = 20: 0.11930285967329846\n",
      "Training for factors = 50, regularization = 10 and alpha = 40\n"
     ]
    },
    {
     "name": "stderr",
     "output_type": "stream",
     "text": [
      "100%|██████████| 15/15 [00:01<00:00,  7.70it/s]\n"
     ]
    },
    {
     "name": "stdout",
     "output_type": "stream",
     "text": [
      "R_precision for factors = 50, regularization = 10 and alpha = 40: 0.11865476283951185\n",
      "Training for factors = 50, regularization = 10 and alpha = 100\n"
     ]
    },
    {
     "name": "stderr",
     "output_type": "stream",
     "text": [
      "100%|██████████| 15/15 [00:01<00:00,  7.70it/s]\n"
     ]
    },
    {
     "name": "stdout",
     "output_type": "stream",
     "text": [
      "R_precision for factors = 50, regularization = 10 and alpha = 100: 0.11888508743249682\n",
      "Training for factors = 50, regularization = 100 and alpha = 1\n"
     ]
    },
    {
     "name": "stderr",
     "output_type": "stream",
     "text": [
      "100%|██████████| 15/15 [00:01<00:00,  7.69it/s]\n"
     ]
    },
    {
     "name": "stdout",
     "output_type": "stream",
     "text": [
      "R_precision for factors = 50, regularization = 100 and alpha = 1: 0.11902286077821854\n",
      "Training for factors = 50, regularization = 100 and alpha = 10\n"
     ]
    },
    {
     "name": "stderr",
     "output_type": "stream",
     "text": [
      "100%|██████████| 15/15 [00:01<00:00,  7.70it/s]\n"
     ]
    },
    {
     "name": "stdout",
     "output_type": "stream",
     "text": [
      "R_precision for factors = 50, regularization = 100 and alpha = 10: 0.11864007045401524\n",
      "Training for factors = 50, regularization = 100 and alpha = 20\n"
     ]
    },
    {
     "name": "stderr",
     "output_type": "stream",
     "text": [
      "100%|██████████| 15/15 [00:01<00:00,  7.69it/s]\n"
     ]
    },
    {
     "name": "stdout",
     "output_type": "stream",
     "text": [
      "R_precision for factors = 50, regularization = 100 and alpha = 20: 0.11923553290376201\n",
      "Training for factors = 50, regularization = 100 and alpha = 40\n"
     ]
    },
    {
     "name": "stderr",
     "output_type": "stream",
     "text": [
      "100%|██████████| 15/15 [00:01<00:00,  7.70it/s]\n"
     ]
    },
    {
     "name": "stdout",
     "output_type": "stream",
     "text": [
      "R_precision for factors = 50, regularization = 100 and alpha = 40: 0.11931842567768584\n",
      "Training for factors = 50, regularization = 100 and alpha = 100\n"
     ]
    },
    {
     "name": "stderr",
     "output_type": "stream",
     "text": [
      "100%|██████████| 15/15 [00:01<00:00,  7.69it/s]\n"
     ]
    },
    {
     "name": "stdout",
     "output_type": "stream",
     "text": [
      "R_precision for factors = 50, regularization = 100 and alpha = 100: 0.11958652635940178\n",
      "Training for factors = 50, regularization = 500 and alpha = 1\n"
     ]
    },
    {
     "name": "stderr",
     "output_type": "stream",
     "text": [
      "100%|██████████| 15/15 [00:01<00:00,  7.97it/s]\n"
     ]
    },
    {
     "name": "stdout",
     "output_type": "stream",
     "text": [
      "R_precision for factors = 50, regularization = 500 and alpha = 1: 0.035012806204749405\n",
      "Training for factors = 50, regularization = 500 and alpha = 10\n"
     ]
    },
    {
     "name": "stderr",
     "output_type": "stream",
     "text": [
      "100%|██████████| 15/15 [00:01<00:00,  7.90it/s]\n"
     ]
    },
    {
     "name": "stdout",
     "output_type": "stream",
     "text": [
      "R_precision for factors = 50, regularization = 500 and alpha = 10: 0.035194843743685\n",
      "Training for factors = 50, regularization = 500 and alpha = 20\n"
     ]
    },
    {
     "name": "stderr",
     "output_type": "stream",
     "text": [
      "100%|██████████| 15/15 [00:01<00:00,  7.90it/s]\n"
     ]
    },
    {
     "name": "stdout",
     "output_type": "stream",
     "text": [
      "R_precision for factors = 50, regularization = 500 and alpha = 20: 0.035012806204749405\n",
      "Training for factors = 50, regularization = 500 and alpha = 40\n"
     ]
    },
    {
     "name": "stderr",
     "output_type": "stream",
     "text": [
      "100%|██████████| 15/15 [00:01<00:00,  7.96it/s]\n"
     ]
    },
    {
     "name": "stdout",
     "output_type": "stream",
     "text": [
      "R_precision for factors = 50, regularization = 500 and alpha = 40: 0.034905542950188835\n",
      "Training for factors = 50, regularization = 500 and alpha = 100\n"
     ]
    },
    {
     "name": "stderr",
     "output_type": "stream",
     "text": [
      "100%|██████████| 15/15 [00:01<00:00,  7.91it/s]\n"
     ]
    },
    {
     "name": "stdout",
     "output_type": "stream",
     "text": [
      "R_precision for factors = 50, regularization = 500 and alpha = 100: 0.03476544336924134\n",
      "Training for factors = 100, regularization = 0 and alpha = 1\n"
     ]
    },
    {
     "name": "stderr",
     "output_type": "stream",
     "text": [
      "100%|██████████| 15/15 [00:03<00:00,  4.31it/s]\n"
     ]
    },
    {
     "name": "stdout",
     "output_type": "stream",
     "text": [
      "R_precision for factors = 100, regularization = 0 and alpha = 1: 0.12493663203823743\n",
      "Training for factors = 100, regularization = 0 and alpha = 10\n"
     ]
    },
    {
     "name": "stderr",
     "output_type": "stream",
     "text": [
      "100%|██████████| 15/15 [00:03<00:00,  4.31it/s]\n"
     ]
    },
    {
     "name": "stdout",
     "output_type": "stream",
     "text": [
      "R_precision for factors = 100, regularization = 0 and alpha = 10: 0.12390682418543965\n",
      "Training for factors = 100, regularization = 0 and alpha = 20\n"
     ]
    },
    {
     "name": "stderr",
     "output_type": "stream",
     "text": [
      "100%|██████████| 15/15 [00:03<00:00,  4.31it/s]\n"
     ]
    },
    {
     "name": "stdout",
     "output_type": "stream",
     "text": [
      "R_precision for factors = 100, regularization = 0 and alpha = 20: 0.12420170159541141\n",
      "Training for factors = 100, regularization = 0 and alpha = 40\n"
     ]
    },
    {
     "name": "stderr",
     "output_type": "stream",
     "text": [
      "100%|██████████| 15/15 [00:03<00:00,  4.31it/s]\n"
     ]
    },
    {
     "name": "stdout",
     "output_type": "stream",
     "text": [
      "R_precision for factors = 100, regularization = 0 and alpha = 40: 0.12477121296307571\n",
      "Training for factors = 100, regularization = 0 and alpha = 100\n"
     ]
    },
    {
     "name": "stderr",
     "output_type": "stream",
     "text": [
      "100%|██████████| 15/15 [00:03<00:00,  4.31it/s]\n"
     ]
    },
    {
     "name": "stdout",
     "output_type": "stream",
     "text": [
      "R_precision for factors = 100, regularization = 0 and alpha = 100: 0.1247629018420565\n",
      "Training for factors = 100, regularization = 0.1 and alpha = 1\n"
     ]
    },
    {
     "name": "stderr",
     "output_type": "stream",
     "text": [
      "100%|██████████| 15/15 [00:03<00:00,  4.31it/s]\n"
     ]
    },
    {
     "name": "stdout",
     "output_type": "stream",
     "text": [
      "R_precision for factors = 100, regularization = 0.1 and alpha = 1: 0.12526075988753077\n",
      "Training for factors = 100, regularization = 0.1 and alpha = 10\n"
     ]
    },
    {
     "name": "stderr",
     "output_type": "stream",
     "text": [
      "100%|██████████| 15/15 [00:03<00:00,  4.31it/s]\n"
     ]
    },
    {
     "name": "stdout",
     "output_type": "stream",
     "text": [
      "R_precision for factors = 100, regularization = 0.1 and alpha = 10: 0.1238874774284358\n",
      "Training for factors = 100, regularization = 0.1 and alpha = 20\n"
     ]
    },
    {
     "name": "stderr",
     "output_type": "stream",
     "text": [
      "100%|██████████| 15/15 [00:03<00:00,  4.30it/s]\n"
     ]
    },
    {
     "name": "stdout",
     "output_type": "stream",
     "text": [
      "R_precision for factors = 100, regularization = 0.1 and alpha = 20: 0.12465968160298563\n",
      "Training for factors = 100, regularization = 0.1 and alpha = 40\n"
     ]
    },
    {
     "name": "stderr",
     "output_type": "stream",
     "text": [
      "100%|██████████| 15/15 [00:03<00:00,  4.30it/s]\n"
     ]
    },
    {
     "name": "stdout",
     "output_type": "stream",
     "text": [
      "R_precision for factors = 100, regularization = 0.1 and alpha = 40: 0.12387507314521949\n",
      "Training for factors = 100, regularization = 0.1 and alpha = 100\n"
     ]
    },
    {
     "name": "stderr",
     "output_type": "stream",
     "text": [
      "100%|██████████| 15/15 [00:03<00:00,  4.30it/s]\n"
     ]
    },
    {
     "name": "stdout",
     "output_type": "stream",
     "text": [
      "R_precision for factors = 100, regularization = 0.1 and alpha = 100: 0.12441082102767263\n",
      "Training for factors = 100, regularization = 1 and alpha = 1\n"
     ]
    },
    {
     "name": "stderr",
     "output_type": "stream",
     "text": [
      "100%|██████████| 15/15 [00:03<00:00,  4.30it/s]\n"
     ]
    },
    {
     "name": "stdout",
     "output_type": "stream",
     "text": [
      "R_precision for factors = 100, regularization = 1 and alpha = 1: 0.12450186128305629\n",
      "Training for factors = 100, regularization = 1 and alpha = 10\n"
     ]
    },
    {
     "name": "stderr",
     "output_type": "stream",
     "text": [
      "100%|██████████| 15/15 [00:03<00:00,  4.30it/s]\n"
     ]
    },
    {
     "name": "stdout",
     "output_type": "stream",
     "text": [
      "R_precision for factors = 100, regularization = 1 and alpha = 10: 0.12429798743090593\n",
      "Training for factors = 100, regularization = 1 and alpha = 20\n"
     ]
    },
    {
     "name": "stderr",
     "output_type": "stream",
     "text": [
      "100%|██████████| 15/15 [00:03<00:00,  4.30it/s]\n"
     ]
    },
    {
     "name": "stdout",
     "output_type": "stream",
     "text": [
      "R_precision for factors = 100, regularization = 1 and alpha = 20: 0.12497627872820193\n",
      "Training for factors = 100, regularization = 1 and alpha = 40\n"
     ]
    },
    {
     "name": "stderr",
     "output_type": "stream",
     "text": [
      "100%|██████████| 15/15 [00:03<00:00,  4.30it/s]\n"
     ]
    },
    {
     "name": "stdout",
     "output_type": "stream",
     "text": [
      "R_precision for factors = 100, regularization = 1 and alpha = 40: 0.12530186865041898\n",
      "Training for factors = 100, regularization = 1 and alpha = 100\n"
     ]
    },
    {
     "name": "stderr",
     "output_type": "stream",
     "text": [
      "100%|██████████| 15/15 [00:03<00:00,  4.30it/s]\n"
     ]
    },
    {
     "name": "stdout",
     "output_type": "stream",
     "text": [
      "R_precision for factors = 100, regularization = 1 and alpha = 100: 0.12498836881510651\n",
      "Training for factors = 100, regularization = 10 and alpha = 1\n"
     ]
    },
    {
     "name": "stderr",
     "output_type": "stream",
     "text": [
      "100%|██████████| 15/15 [00:03<00:00,  4.30it/s]\n"
     ]
    },
    {
     "name": "stdout",
     "output_type": "stream",
     "text": [
      "R_precision for factors = 100, regularization = 10 and alpha = 1: 0.12513241508467113\n",
      "Training for factors = 100, regularization = 10 and alpha = 10\n"
     ]
    },
    {
     "name": "stderr",
     "output_type": "stream",
     "text": [
      "100%|██████████| 15/15 [00:03<00:00,  4.30it/s]\n"
     ]
    },
    {
     "name": "stdout",
     "output_type": "stream",
     "text": [
      "R_precision for factors = 100, regularization = 10 and alpha = 10: 0.12439552598792528\n",
      "Training for factors = 100, regularization = 10 and alpha = 20\n"
     ]
    },
    {
     "name": "stderr",
     "output_type": "stream",
     "text": [
      "100%|██████████| 15/15 [00:03<00:00,  4.30it/s]\n"
     ]
    },
    {
     "name": "stdout",
     "output_type": "stream",
     "text": [
      "R_precision for factors = 100, regularization = 10 and alpha = 20: 0.12449207725968714\n",
      "Training for factors = 100, regularization = 10 and alpha = 40\n"
     ]
    },
    {
     "name": "stderr",
     "output_type": "stream",
     "text": [
      "100%|██████████| 15/15 [00:03<00:00,  4.30it/s]\n"
     ]
    },
    {
     "name": "stdout",
     "output_type": "stream",
     "text": [
      "R_precision for factors = 100, regularization = 10 and alpha = 40: 0.12440647196385117\n",
      "Training for factors = 100, regularization = 10 and alpha = 100\n"
     ]
    },
    {
     "name": "stderr",
     "output_type": "stream",
     "text": [
      "100%|██████████| 15/15 [00:03<00:00,  4.30it/s]\n"
     ]
    },
    {
     "name": "stdout",
     "output_type": "stream",
     "text": [
      "R_precision for factors = 100, regularization = 10 and alpha = 100: 0.12432929843550708\n",
      "Training for factors = 100, regularization = 100 and alpha = 1\n"
     ]
    },
    {
     "name": "stderr",
     "output_type": "stream",
     "text": [
      "100%|██████████| 15/15 [00:03<00:00,  4.30it/s]\n"
     ]
    },
    {
     "name": "stdout",
     "output_type": "stream",
     "text": [
      "R_precision for factors = 100, regularization = 100 and alpha = 1: 0.1267372151689811\n",
      "Training for factors = 100, regularization = 100 and alpha = 10\n"
     ]
    },
    {
     "name": "stderr",
     "output_type": "stream",
     "text": [
      "100%|██████████| 15/15 [00:03<00:00,  4.30it/s]\n"
     ]
    },
    {
     "name": "stdout",
     "output_type": "stream",
     "text": [
      "R_precision for factors = 100, regularization = 100 and alpha = 10: 0.12637646530861\n",
      "Training for factors = 100, regularization = 100 and alpha = 20\n"
     ]
    },
    {
     "name": "stderr",
     "output_type": "stream",
     "text": [
      "100%|██████████| 15/15 [00:03<00:00,  4.30it/s]\n"
     ]
    },
    {
     "name": "stdout",
     "output_type": "stream",
     "text": [
      "R_precision for factors = 100, regularization = 100 and alpha = 20: 0.1268102080589993\n",
      "Training for factors = 100, regularization = 100 and alpha = 40\n"
     ]
    },
    {
     "name": "stderr",
     "output_type": "stream",
     "text": [
      "100%|██████████| 15/15 [00:03<00:00,  4.29it/s]\n"
     ]
    },
    {
     "name": "stdout",
     "output_type": "stream",
     "text": [
      "R_precision for factors = 100, regularization = 100 and alpha = 40: 0.1267037203546748\n",
      "Training for factors = 100, regularization = 100 and alpha = 100\n"
     ]
    },
    {
     "name": "stderr",
     "output_type": "stream",
     "text": [
      "100%|██████████| 15/15 [00:03<00:00,  4.30it/s]\n"
     ]
    },
    {
     "name": "stdout",
     "output_type": "stream",
     "text": [
      "R_precision for factors = 100, regularization = 100 and alpha = 100: 0.1261083875730125\n",
      "Training for factors = 100, regularization = 500 and alpha = 1\n"
     ]
    },
    {
     "name": "stderr",
     "output_type": "stream",
     "text": [
      "100%|██████████| 15/15 [00:03<00:00,  4.58it/s]\n"
     ]
    },
    {
     "name": "stdout",
     "output_type": "stream",
     "text": [
      "R_precision for factors = 100, regularization = 500 and alpha = 1: 0.03473095650564897\n",
      "Training for factors = 100, regularization = 500 and alpha = 10\n"
     ]
    },
    {
     "name": "stderr",
     "output_type": "stream",
     "text": [
      "100%|██████████| 15/15 [00:03<00:00,  4.59it/s]\n"
     ]
    },
    {
     "name": "stdout",
     "output_type": "stream",
     "text": [
      "R_precision for factors = 100, regularization = 500 and alpha = 10: 0.03437711032582875\n",
      "Training for factors = 100, regularization = 500 and alpha = 20\n"
     ]
    },
    {
     "name": "stderr",
     "output_type": "stream",
     "text": [
      "100%|██████████| 15/15 [00:03<00:00,  4.59it/s]\n"
     ]
    },
    {
     "name": "stdout",
     "output_type": "stream",
     "text": [
      "R_precision for factors = 100, regularization = 500 and alpha = 20: 0.034581604025923134\n",
      "Training for factors = 100, regularization = 500 and alpha = 40\n"
     ]
    },
    {
     "name": "stderr",
     "output_type": "stream",
     "text": [
      "100%|██████████| 15/15 [00:03<00:00,  4.60it/s]\n"
     ]
    },
    {
     "name": "stdout",
     "output_type": "stream",
     "text": [
      "R_precision for factors = 100, regularization = 500 and alpha = 40: 0.033892467214251515\n",
      "Training for factors = 100, regularization = 500 and alpha = 100\n"
     ]
    },
    {
     "name": "stderr",
     "output_type": "stream",
     "text": [
      "100%|██████████| 15/15 [00:03<00:00,  4.60it/s]\n"
     ]
    },
    {
     "name": "stdout",
     "output_type": "stream",
     "text": [
      "R_precision for factors = 100, regularization = 500 and alpha = 100: 0.034266119534555814\n",
      "Training for factors = 150, regularization = 0 and alpha = 1\n"
     ]
    },
    {
     "name": "stderr",
     "output_type": "stream",
     "text": [
      "100%|██████████| 15/15 [00:05<00:00,  2.79it/s]\n"
     ]
    },
    {
     "name": "stdout",
     "output_type": "stream",
     "text": [
      "R_precision for factors = 150, regularization = 0 and alpha = 1: 0.12429802850615644\n",
      "Training for factors = 150, regularization = 0 and alpha = 10\n"
     ]
    },
    {
     "name": "stderr",
     "output_type": "stream",
     "text": [
      "100%|██████████| 15/15 [00:05<00:00,  2.79it/s]\n"
     ]
    },
    {
     "name": "stdout",
     "output_type": "stream",
     "text": [
      "R_precision for factors = 150, regularization = 0 and alpha = 10: 0.12510359384254766\n",
      "Training for factors = 150, regularization = 0 and alpha = 20\n"
     ]
    },
    {
     "name": "stderr",
     "output_type": "stream",
     "text": [
      "100%|██████████| 15/15 [00:05<00:00,  2.79it/s]\n"
     ]
    },
    {
     "name": "stdout",
     "output_type": "stream",
     "text": [
      "R_precision for factors = 150, regularization = 0 and alpha = 20: 0.12564413027394095\n",
      "Training for factors = 150, regularization = 0 and alpha = 40\n"
     ]
    },
    {
     "name": "stderr",
     "output_type": "stream",
     "text": [
      "100%|██████████| 15/15 [00:05<00:00,  2.79it/s]\n"
     ]
    },
    {
     "name": "stdout",
     "output_type": "stream",
     "text": [
      "R_precision for factors = 150, regularization = 0 and alpha = 40: 0.12546481831599318\n",
      "Training for factors = 150, regularization = 0 and alpha = 100\n"
     ]
    },
    {
     "name": "stderr",
     "output_type": "stream",
     "text": [
      "100%|██████████| 15/15 [00:05<00:00,  2.79it/s]\n"
     ]
    },
    {
     "name": "stdout",
     "output_type": "stream",
     "text": [
      "R_precision for factors = 150, regularization = 0 and alpha = 100: 0.12411915156891302\n",
      "Training for factors = 150, regularization = 0.1 and alpha = 1\n"
     ]
    },
    {
     "name": "stderr",
     "output_type": "stream",
     "text": [
      "100%|██████████| 15/15 [00:05<00:00,  2.79it/s]\n"
     ]
    },
    {
     "name": "stdout",
     "output_type": "stream",
     "text": [
      "R_precision for factors = 150, regularization = 0.1 and alpha = 1: 0.12600419977204783\n",
      "Training for factors = 150, regularization = 0.1 and alpha = 10\n"
     ]
    },
    {
     "name": "stderr",
     "output_type": "stream",
     "text": [
      "100%|██████████| 15/15 [00:05<00:00,  2.79it/s]\n"
     ]
    },
    {
     "name": "stdout",
     "output_type": "stream",
     "text": [
      "R_precision for factors = 150, regularization = 0.1 and alpha = 10: 0.12603173930233572\n",
      "Training for factors = 150, regularization = 0.1 and alpha = 20\n"
     ]
    },
    {
     "name": "stderr",
     "output_type": "stream",
     "text": [
      "100%|██████████| 15/15 [00:05<00:00,  2.79it/s]\n"
     ]
    },
    {
     "name": "stdout",
     "output_type": "stream",
     "text": [
      "R_precision for factors = 150, regularization = 0.1 and alpha = 20: 0.12457561127217949\n",
      "Training for factors = 150, regularization = 0.1 and alpha = 40\n"
     ]
    },
    {
     "name": "stderr",
     "output_type": "stream",
     "text": [
      "100%|██████████| 15/15 [00:05<00:00,  2.79it/s]\n"
     ]
    },
    {
     "name": "stdout",
     "output_type": "stream",
     "text": [
      "R_precision for factors = 150, regularization = 0.1 and alpha = 40: 0.12587280332026599\n",
      "Training for factors = 150, regularization = 0.1 and alpha = 100\n"
     ]
    },
    {
     "name": "stderr",
     "output_type": "stream",
     "text": [
      "100%|██████████| 15/15 [00:05<00:00,  2.79it/s]\n"
     ]
    },
    {
     "name": "stdout",
     "output_type": "stream",
     "text": [
      "R_precision for factors = 150, regularization = 0.1 and alpha = 100: 0.1248284769789989\n",
      "Training for factors = 150, regularization = 1 and alpha = 1\n"
     ]
    },
    {
     "name": "stderr",
     "output_type": "stream",
     "text": [
      "100%|██████████| 15/15 [00:05<00:00,  2.79it/s]\n"
     ]
    },
    {
     "name": "stdout",
     "output_type": "stream",
     "text": [
      "R_precision for factors = 150, regularization = 1 and alpha = 1: 0.12490845441922992\n",
      "Training for factors = 150, regularization = 1 and alpha = 10\n"
     ]
    },
    {
     "name": "stderr",
     "output_type": "stream",
     "text": [
      "100%|██████████| 15/15 [00:05<00:00,  2.79it/s]\n"
     ]
    },
    {
     "name": "stdout",
     "output_type": "stream",
     "text": [
      "R_precision for factors = 150, regularization = 1 and alpha = 10: 0.125343935316136\n",
      "Training for factors = 150, regularization = 1 and alpha = 20\n"
     ]
    },
    {
     "name": "stderr",
     "output_type": "stream",
     "text": [
      "100%|██████████| 15/15 [00:05<00:00,  2.79it/s]\n"
     ]
    },
    {
     "name": "stdout",
     "output_type": "stream",
     "text": [
      "R_precision for factors = 150, regularization = 1 and alpha = 20: 0.12450137220151923\n",
      "Training for factors = 150, regularization = 1 and alpha = 40\n"
     ]
    },
    {
     "name": "stderr",
     "output_type": "stream",
     "text": [
      "100%|██████████| 15/15 [00:05<00:00,  2.79it/s]\n"
     ]
    },
    {
     "name": "stdout",
     "output_type": "stream",
     "text": [
      "R_precision for factors = 150, regularization = 1 and alpha = 40: 0.12452621341013066\n",
      "Training for factors = 150, regularization = 1 and alpha = 100\n"
     ]
    },
    {
     "name": "stderr",
     "output_type": "stream",
     "text": [
      "100%|██████████| 15/15 [00:05<00:00,  2.79it/s]\n"
     ]
    },
    {
     "name": "stdout",
     "output_type": "stream",
     "text": [
      "R_precision for factors = 150, regularization = 1 and alpha = 100: 0.12540714985978513\n",
      "Training for factors = 150, regularization = 10 and alpha = 1\n"
     ]
    },
    {
     "name": "stderr",
     "output_type": "stream",
     "text": [
      "100%|██████████| 15/15 [00:05<00:00,  2.79it/s]\n"
     ]
    },
    {
     "name": "stdout",
     "output_type": "stream",
     "text": [
      "R_precision for factors = 150, regularization = 10 and alpha = 1: 0.12652781209471975\n",
      "Training for factors = 150, regularization = 10 and alpha = 10\n"
     ]
    },
    {
     "name": "stderr",
     "output_type": "stream",
     "text": [
      "100%|██████████| 15/15 [00:05<00:00,  2.79it/s]\n"
     ]
    },
    {
     "name": "stdout",
     "output_type": "stream",
     "text": [
      "R_precision for factors = 150, regularization = 10 and alpha = 10: 0.1257025789069395\n",
      "Training for factors = 150, regularization = 10 and alpha = 20\n"
     ]
    },
    {
     "name": "stderr",
     "output_type": "stream",
     "text": [
      "100%|██████████| 15/15 [00:05<00:00,  2.79it/s]\n"
     ]
    },
    {
     "name": "stdout",
     "output_type": "stream",
     "text": [
      "R_precision for factors = 150, regularization = 10 and alpha = 20: 0.1256297166244937\n",
      "Training for factors = 150, regularization = 10 and alpha = 40\n"
     ]
    },
    {
     "name": "stderr",
     "output_type": "stream",
     "text": [
      "100%|██████████| 15/15 [00:05<00:00,  2.78it/s]\n"
     ]
    },
    {
     "name": "stdout",
     "output_type": "stream",
     "text": [
      "R_precision for factors = 150, regularization = 10 and alpha = 40: 0.12519781101113833\n",
      "Training for factors = 150, regularization = 10 and alpha = 100\n"
     ]
    },
    {
     "name": "stderr",
     "output_type": "stream",
     "text": [
      "100%|██████████| 15/15 [00:05<00:00,  2.79it/s]\n"
     ]
    },
    {
     "name": "stdout",
     "output_type": "stream",
     "text": [
      "R_precision for factors = 150, regularization = 10 and alpha = 100: 0.1262461226845993\n",
      "Training for factors = 150, regularization = 100 and alpha = 1\n"
     ]
    },
    {
     "name": "stderr",
     "output_type": "stream",
     "text": [
      "100%|██████████| 15/15 [00:05<00:00,  2.79it/s]\n"
     ]
    },
    {
     "name": "stdout",
     "output_type": "stream",
     "text": [
      "R_precision for factors = 150, regularization = 100 and alpha = 1: 0.12945407739518675\n",
      "Training for factors = 150, regularization = 100 and alpha = 10\n"
     ]
    },
    {
     "name": "stderr",
     "output_type": "stream",
     "text": [
      "100%|██████████| 15/15 [00:05<00:00,  2.79it/s]\n"
     ]
    },
    {
     "name": "stdout",
     "output_type": "stream",
     "text": [
      "R_precision for factors = 150, regularization = 100 and alpha = 10: 0.12988474527129756\n",
      "Training for factors = 150, regularization = 100 and alpha = 20\n"
     ]
    },
    {
     "name": "stderr",
     "output_type": "stream",
     "text": [
      "100%|██████████| 15/15 [00:05<00:00,  2.79it/s]\n"
     ]
    },
    {
     "name": "stdout",
     "output_type": "stream",
     "text": [
      "R_precision for factors = 150, regularization = 100 and alpha = 20: 0.1303611705939406\n",
      "Training for factors = 150, regularization = 100 and alpha = 40\n"
     ]
    },
    {
     "name": "stderr",
     "output_type": "stream",
     "text": [
      "100%|██████████| 15/15 [00:05<00:00,  2.78it/s]\n"
     ]
    },
    {
     "name": "stdout",
     "output_type": "stream",
     "text": [
      "R_precision for factors = 150, regularization = 100 and alpha = 40: 0.1297536018884596\n",
      "Training for factors = 150, regularization = 100 and alpha = 100\n"
     ]
    },
    {
     "name": "stderr",
     "output_type": "stream",
     "text": [
      "100%|██████████| 15/15 [00:05<00:00,  2.79it/s]\n"
     ]
    },
    {
     "name": "stdout",
     "output_type": "stream",
     "text": [
      "R_precision for factors = 150, regularization = 100 and alpha = 100: 0.12990661191194983\n",
      "Training for factors = 150, regularization = 500 and alpha = 1\n"
     ]
    },
    {
     "name": "stderr",
     "output_type": "stream",
     "text": [
      "100%|██████████| 15/15 [00:04<00:00,  3.02it/s]\n"
     ]
    },
    {
     "name": "stdout",
     "output_type": "stream",
     "text": [
      "R_precision for factors = 150, regularization = 500 and alpha = 1: 0.03391112252801319\n",
      "Training for factors = 150, regularization = 500 and alpha = 10\n"
     ]
    },
    {
     "name": "stderr",
     "output_type": "stream",
     "text": [
      "100%|██████████| 15/15 [00:04<00:00,  3.02it/s]\n"
     ]
    },
    {
     "name": "stdout",
     "output_type": "stream",
     "text": [
      "R_precision for factors = 150, regularization = 500 and alpha = 10: 0.033378391810332995\n",
      "Training for factors = 150, regularization = 500 and alpha = 20\n"
     ]
    },
    {
     "name": "stderr",
     "output_type": "stream",
     "text": [
      "100%|██████████| 15/15 [00:04<00:00,  3.01it/s]\n"
     ]
    },
    {
     "name": "stdout",
     "output_type": "stream",
     "text": [
      "R_precision for factors = 150, regularization = 500 and alpha = 20: 0.034133190311468484\n",
      "Training for factors = 150, regularization = 500 and alpha = 40\n"
     ]
    },
    {
     "name": "stderr",
     "output_type": "stream",
     "text": [
      "100%|██████████| 15/15 [00:04<00:00,  3.01it/s]\n"
     ]
    },
    {
     "name": "stdout",
     "output_type": "stream",
     "text": [
      "R_precision for factors = 150, regularization = 500 and alpha = 40: 0.03410376010594104\n",
      "Training for factors = 150, regularization = 500 and alpha = 100\n"
     ]
    },
    {
     "name": "stderr",
     "output_type": "stream",
     "text": [
      "100%|██████████| 15/15 [00:04<00:00,  3.02it/s]\n"
     ]
    },
    {
     "name": "stdout",
     "output_type": "stream",
     "text": [
      "R_precision for factors = 150, regularization = 500 and alpha = 100: 0.03311579597764958\n",
      "Training for factors = 200, regularization = 0 and alpha = 1\n"
     ]
    },
    {
     "name": "stderr",
     "output_type": "stream",
     "text": [
      "100%|██████████| 15/15 [00:08<00:00,  1.74it/s]\n"
     ]
    },
    {
     "name": "stdout",
     "output_type": "stream",
     "text": [
      "R_precision for factors = 200, regularization = 0 and alpha = 1: 0.12489815653837792\n",
      "Training for factors = 200, regularization = 0 and alpha = 10\n"
     ]
    },
    {
     "name": "stderr",
     "output_type": "stream",
     "text": [
      "100%|██████████| 15/15 [00:08<00:00,  1.74it/s]\n"
     ]
    },
    {
     "name": "stdout",
     "output_type": "stream",
     "text": [
      "R_precision for factors = 200, regularization = 0 and alpha = 10: 0.12516429435820603\n",
      "Training for factors = 200, regularization = 0 and alpha = 20\n"
     ]
    },
    {
     "name": "stderr",
     "output_type": "stream",
     "text": [
      "100%|██████████| 15/15 [00:08<00:00,  1.74it/s]\n"
     ]
    },
    {
     "name": "stdout",
     "output_type": "stream",
     "text": [
      "R_precision for factors = 200, regularization = 0 and alpha = 20: 0.12471102087678776\n",
      "Training for factors = 200, regularization = 0 and alpha = 40\n"
     ]
    },
    {
     "name": "stderr",
     "output_type": "stream",
     "text": [
      "100%|██████████| 15/15 [00:08<00:00,  1.74it/s]\n"
     ]
    },
    {
     "name": "stdout",
     "output_type": "stream",
     "text": [
      "R_precision for factors = 200, regularization = 0 and alpha = 40: 0.1259521877890109\n",
      "Training for factors = 200, regularization = 0 and alpha = 100\n"
     ]
    },
    {
     "name": "stderr",
     "output_type": "stream",
     "text": [
      "100%|██████████| 15/15 [00:08<00:00,  1.74it/s]\n"
     ]
    },
    {
     "name": "stdout",
     "output_type": "stream",
     "text": [
      "R_precision for factors = 200, regularization = 0 and alpha = 100: 0.12457455727426073\n",
      "Training for factors = 200, regularization = 0.1 and alpha = 1\n"
     ]
    },
    {
     "name": "stderr",
     "output_type": "stream",
     "text": [
      "100%|██████████| 15/15 [00:08<00:00,  1.74it/s]\n"
     ]
    },
    {
     "name": "stdout",
     "output_type": "stream",
     "text": [
      "R_precision for factors = 200, regularization = 0.1 and alpha = 1: 0.12459241523733167\n",
      "Training for factors = 200, regularization = 0.1 and alpha = 10\n"
     ]
    },
    {
     "name": "stderr",
     "output_type": "stream",
     "text": [
      "100%|██████████| 15/15 [00:08<00:00,  1.74it/s]\n"
     ]
    },
    {
     "name": "stdout",
     "output_type": "stream",
     "text": [
      "R_precision for factors = 200, regularization = 0.1 and alpha = 10: 0.12465946485337884\n",
      "Training for factors = 200, regularization = 0.1 and alpha = 20\n"
     ]
    },
    {
     "name": "stderr",
     "output_type": "stream",
     "text": [
      "100%|██████████| 15/15 [00:08<00:00,  1.74it/s]\n"
     ]
    },
    {
     "name": "stdout",
     "output_type": "stream",
     "text": [
      "R_precision for factors = 200, regularization = 0.1 and alpha = 20: 0.12531142528854697\n",
      "Training for factors = 200, regularization = 0.1 and alpha = 40\n"
     ]
    },
    {
     "name": "stderr",
     "output_type": "stream",
     "text": [
      "100%|██████████| 15/15 [00:08<00:00,  1.74it/s]\n"
     ]
    },
    {
     "name": "stdout",
     "output_type": "stream",
     "text": [
      "R_precision for factors = 200, regularization = 0.1 and alpha = 40: 0.12524174782700548\n",
      "Training for factors = 200, regularization = 0.1 and alpha = 100\n"
     ]
    },
    {
     "name": "stderr",
     "output_type": "stream",
     "text": [
      "100%|██████████| 15/15 [00:08<00:00,  1.74it/s]\n"
     ]
    },
    {
     "name": "stdout",
     "output_type": "stream",
     "text": [
      "R_precision for factors = 200, regularization = 0.1 and alpha = 100: 0.12476267875392799\n",
      "Training for factors = 200, regularization = 1 and alpha = 1\n"
     ]
    },
    {
     "name": "stderr",
     "output_type": "stream",
     "text": [
      "100%|██████████| 15/15 [00:08<00:00,  1.74it/s]\n"
     ]
    },
    {
     "name": "stdout",
     "output_type": "stream",
     "text": [
      "R_precision for factors = 200, regularization = 1 and alpha = 1: 0.12551792256309674\n",
      "Training for factors = 200, regularization = 1 and alpha = 10\n"
     ]
    },
    {
     "name": "stderr",
     "output_type": "stream",
     "text": [
      "100%|██████████| 15/15 [00:08<00:00,  1.74it/s]\n"
     ]
    },
    {
     "name": "stdout",
     "output_type": "stream",
     "text": [
      "R_precision for factors = 200, regularization = 1 and alpha = 10: 0.12541317494671142\n",
      "Training for factors = 200, regularization = 1 and alpha = 20\n"
     ]
    },
    {
     "name": "stderr",
     "output_type": "stream",
     "text": [
      "100%|██████████| 15/15 [00:08<00:00,  1.74it/s]\n"
     ]
    },
    {
     "name": "stdout",
     "output_type": "stream",
     "text": [
      "R_precision for factors = 200, regularization = 1 and alpha = 20: 0.12562139448986212\n",
      "Training for factors = 200, regularization = 1 and alpha = 40\n"
     ]
    },
    {
     "name": "stderr",
     "output_type": "stream",
     "text": [
      "100%|██████████| 15/15 [00:08<00:00,  1.74it/s]\n"
     ]
    },
    {
     "name": "stdout",
     "output_type": "stream",
     "text": [
      "R_precision for factors = 200, regularization = 1 and alpha = 40: 0.12497792475630602\n",
      "Training for factors = 200, regularization = 1 and alpha = 100\n"
     ]
    },
    {
     "name": "stderr",
     "output_type": "stream",
     "text": [
      "100%|██████████| 15/15 [00:08<00:00,  1.74it/s]\n"
     ]
    },
    {
     "name": "stdout",
     "output_type": "stream",
     "text": [
      "R_precision for factors = 200, regularization = 1 and alpha = 100: 0.12564132621061364\n",
      "Training for factors = 200, regularization = 10 and alpha = 1\n"
     ]
    },
    {
     "name": "stderr",
     "output_type": "stream",
     "text": [
      "100%|██████████| 15/15 [00:08<00:00,  1.73it/s]\n"
     ]
    },
    {
     "name": "stdout",
     "output_type": "stream",
     "text": [
      "R_precision for factors = 200, regularization = 10 and alpha = 1: 0.1260726323478206\n",
      "Training for factors = 200, regularization = 10 and alpha = 10\n"
     ]
    },
    {
     "name": "stderr",
     "output_type": "stream",
     "text": [
      "100%|██████████| 15/15 [00:08<00:00,  1.73it/s]\n"
     ]
    },
    {
     "name": "stdout",
     "output_type": "stream",
     "text": [
      "R_precision for factors = 200, regularization = 10 and alpha = 10: 0.1255263853302874\n",
      "Training for factors = 200, regularization = 10 and alpha = 20\n"
     ]
    },
    {
     "name": "stderr",
     "output_type": "stream",
     "text": [
      "100%|██████████| 15/15 [00:08<00:00,  1.74it/s]\n"
     ]
    },
    {
     "name": "stdout",
     "output_type": "stream",
     "text": [
      "R_precision for factors = 200, regularization = 10 and alpha = 20: 0.12561114938557877\n",
      "Training for factors = 200, regularization = 10 and alpha = 40\n"
     ]
    },
    {
     "name": "stderr",
     "output_type": "stream",
     "text": [
      "100%|██████████| 15/15 [00:08<00:00,  1.74it/s]\n"
     ]
    },
    {
     "name": "stdout",
     "output_type": "stream",
     "text": [
      "R_precision for factors = 200, regularization = 10 and alpha = 40: 0.12568257589895204\n",
      "Training for factors = 200, regularization = 10 and alpha = 100\n"
     ]
    },
    {
     "name": "stderr",
     "output_type": "stream",
     "text": [
      "100%|██████████| 15/15 [00:08<00:00,  1.74it/s]\n"
     ]
    },
    {
     "name": "stdout",
     "output_type": "stream",
     "text": [
      "R_precision for factors = 200, regularization = 10 and alpha = 100: 0.1253785074981652\n",
      "Training for factors = 200, regularization = 100 and alpha = 1\n"
     ]
    },
    {
     "name": "stderr",
     "output_type": "stream",
     "text": [
      "100%|██████████| 15/15 [00:08<00:00,  1.74it/s]\n"
     ]
    },
    {
     "name": "stdout",
     "output_type": "stream",
     "text": [
      "R_precision for factors = 200, regularization = 100 and alpha = 1: 0.13159431315890663\n",
      "Training for factors = 200, regularization = 100 and alpha = 10\n"
     ]
    },
    {
     "name": "stderr",
     "output_type": "stream",
     "text": [
      "100%|██████████| 15/15 [00:08<00:00,  1.74it/s]\n"
     ]
    },
    {
     "name": "stdout",
     "output_type": "stream",
     "text": [
      "R_precision for factors = 200, regularization = 100 and alpha = 10: 0.1313584433750787\n",
      "Training for factors = 200, regularization = 100 and alpha = 20\n"
     ]
    },
    {
     "name": "stderr",
     "output_type": "stream",
     "text": [
      "100%|██████████| 15/15 [00:08<00:00,  1.74it/s]\n"
     ]
    },
    {
     "name": "stdout",
     "output_type": "stream",
     "text": [
      "R_precision for factors = 200, regularization = 100 and alpha = 20: 0.13136522574342246\n",
      "Training for factors = 200, regularization = 100 and alpha = 40\n"
     ]
    },
    {
     "name": "stderr",
     "output_type": "stream",
     "text": [
      "100%|██████████| 15/15 [00:08<00:00,  1.74it/s]\n"
     ]
    },
    {
     "name": "stdout",
     "output_type": "stream",
     "text": [
      "R_precision for factors = 200, regularization = 100 and alpha = 40: 0.13120289626696763\n",
      "Training for factors = 200, regularization = 100 and alpha = 100\n"
     ]
    },
    {
     "name": "stderr",
     "output_type": "stream",
     "text": [
      "100%|██████████| 15/15 [00:08<00:00,  1.74it/s]\n"
     ]
    },
    {
     "name": "stdout",
     "output_type": "stream",
     "text": [
      "R_precision for factors = 200, regularization = 100 and alpha = 100: 0.13054886395190798\n",
      "Training for factors = 200, regularization = 500 and alpha = 1\n"
     ]
    },
    {
     "name": "stderr",
     "output_type": "stream",
     "text": [
      "100%|██████████| 15/15 [00:07<00:00,  1.90it/s]\n"
     ]
    },
    {
     "name": "stdout",
     "output_type": "stream",
     "text": [
      "R_precision for factors = 200, regularization = 500 and alpha = 1: 0.03312799689656836\n",
      "Training for factors = 200, regularization = 500 and alpha = 10\n"
     ]
    },
    {
     "name": "stderr",
     "output_type": "stream",
     "text": [
      "100%|██████████| 15/15 [00:07<00:00,  1.90it/s]\n"
     ]
    },
    {
     "name": "stdout",
     "output_type": "stream",
     "text": [
      "R_precision for factors = 200, regularization = 500 and alpha = 10: 0.03238795325772489\n",
      "Training for factors = 200, regularization = 500 and alpha = 20\n"
     ]
    },
    {
     "name": "stderr",
     "output_type": "stream",
     "text": [
      "100%|██████████| 15/15 [00:07<00:00,  1.90it/s]\n"
     ]
    },
    {
     "name": "stdout",
     "output_type": "stream",
     "text": [
      "R_precision for factors = 200, regularization = 500 and alpha = 20: 0.03273516036139294\n",
      "Training for factors = 200, regularization = 500 and alpha = 40\n"
     ]
    },
    {
     "name": "stderr",
     "output_type": "stream",
     "text": [
      "100%|██████████| 15/15 [00:07<00:00,  1.90it/s]\n"
     ]
    },
    {
     "name": "stdout",
     "output_type": "stream",
     "text": [
      "R_precision for factors = 200, regularization = 500 and alpha = 40: 0.032619387640808656\n",
      "Training for factors = 200, regularization = 500 and alpha = 100\n"
     ]
    },
    {
     "name": "stderr",
     "output_type": "stream",
     "text": [
      "100%|██████████| 15/15 [00:07<00:00,  1.90it/s]\n"
     ]
    },
    {
     "name": "stdout",
     "output_type": "stream",
     "text": [
      "R_precision for factors = 200, regularization = 500 and alpha = 100: 0.03280859393416905\n",
      "Training for factors = 500, regularization = 0 and alpha = 1\n"
     ]
    },
    {
     "name": "stderr",
     "output_type": "stream",
     "text": [
      "100%|██████████| 15/15 [00:41<00:00,  2.74s/it]\n"
     ]
    },
    {
     "name": "stdout",
     "output_type": "stream",
     "text": [
      "R_precision for factors = 500, regularization = 0 and alpha = 1: 0.12140230394935332\n",
      "Training for factors = 500, regularization = 0 and alpha = 10\n"
     ]
    },
    {
     "name": "stderr",
     "output_type": "stream",
     "text": [
      "100%|██████████| 15/15 [00:41<00:00,  2.75s/it]\n"
     ]
    },
    {
     "name": "stdout",
     "output_type": "stream",
     "text": [
      "R_precision for factors = 500, regularization = 0 and alpha = 10: 0.12210907435416149\n",
      "Training for factors = 500, regularization = 0 and alpha = 20\n"
     ]
    },
    {
     "name": "stderr",
     "output_type": "stream",
     "text": [
      "100%|██████████| 15/15 [00:41<00:00,  2.75s/it]\n"
     ]
    },
    {
     "name": "stdout",
     "output_type": "stream",
     "text": [
      "R_precision for factors = 500, regularization = 0 and alpha = 20: 0.12230923479746549\n",
      "Training for factors = 500, regularization = 0 and alpha = 40\n"
     ]
    },
    {
     "name": "stderr",
     "output_type": "stream",
     "text": [
      "100%|██████████| 15/15 [00:41<00:00,  2.74s/it]\n"
     ]
    },
    {
     "name": "stdout",
     "output_type": "stream",
     "text": [
      "R_precision for factors = 500, regularization = 0 and alpha = 40: 0.12182452064789885\n",
      "Training for factors = 500, regularization = 0 and alpha = 100\n"
     ]
    },
    {
     "name": "stderr",
     "output_type": "stream",
     "text": [
      "100%|██████████| 15/15 [00:41<00:00,  2.74s/it]\n"
     ]
    },
    {
     "name": "stdout",
     "output_type": "stream",
     "text": [
      "R_precision for factors = 500, regularization = 0 and alpha = 100: 0.12239607318613697\n",
      "Training for factors = 500, regularization = 0.1 and alpha = 1\n"
     ]
    },
    {
     "name": "stderr",
     "output_type": "stream",
     "text": [
      "100%|██████████| 15/15 [00:41<00:00,  2.75s/it]\n"
     ]
    },
    {
     "name": "stdout",
     "output_type": "stream",
     "text": [
      "R_precision for factors = 500, regularization = 0.1 and alpha = 1: 0.12169612657876062\n",
      "Training for factors = 500, regularization = 0.1 and alpha = 10\n"
     ]
    },
    {
     "name": "stderr",
     "output_type": "stream",
     "text": [
      "100%|██████████| 15/15 [00:41<00:00,  2.75s/it]\n"
     ]
    },
    {
     "name": "stdout",
     "output_type": "stream",
     "text": [
      "R_precision for factors = 500, regularization = 0.1 and alpha = 10: 0.12225154428455053\n",
      "Training for factors = 500, regularization = 0.1 and alpha = 20\n"
     ]
    },
    {
     "name": "stderr",
     "output_type": "stream",
     "text": [
      "100%|██████████| 15/15 [00:41<00:00,  2.75s/it]\n"
     ]
    },
    {
     "name": "stdout",
     "output_type": "stream",
     "text": [
      "R_precision for factors = 500, regularization = 0.1 and alpha = 20: 0.12092297833714966\n",
      "Training for factors = 500, regularization = 0.1 and alpha = 40\n"
     ]
    },
    {
     "name": "stderr",
     "output_type": "stream",
     "text": [
      "100%|██████████| 15/15 [00:41<00:00,  2.74s/it]\n"
     ]
    },
    {
     "name": "stdout",
     "output_type": "stream",
     "text": [
      "R_precision for factors = 500, regularization = 0.1 and alpha = 40: 0.12177395110110313\n",
      "Training for factors = 500, regularization = 0.1 and alpha = 100\n"
     ]
    },
    {
     "name": "stderr",
     "output_type": "stream",
     "text": [
      "100%|██████████| 15/15 [00:41<00:00,  2.74s/it]\n"
     ]
    },
    {
     "name": "stdout",
     "output_type": "stream",
     "text": [
      "R_precision for factors = 500, regularization = 0.1 and alpha = 100: 0.12218512209068083\n",
      "Training for factors = 500, regularization = 1 and alpha = 1\n"
     ]
    },
    {
     "name": "stderr",
     "output_type": "stream",
     "text": [
      "100%|██████████| 15/15 [00:41<00:00,  2.75s/it]\n"
     ]
    },
    {
     "name": "stdout",
     "output_type": "stream",
     "text": [
      "R_precision for factors = 500, regularization = 1 and alpha = 1: 0.12183300634009157\n",
      "Training for factors = 500, regularization = 1 and alpha = 10\n"
     ]
    },
    {
     "name": "stderr",
     "output_type": "stream",
     "text": [
      "100%|██████████| 15/15 [00:41<00:00,  2.74s/it]\n"
     ]
    },
    {
     "name": "stdout",
     "output_type": "stream",
     "text": [
      "R_precision for factors = 500, regularization = 1 and alpha = 10: 0.12151358504043097\n",
      "Training for factors = 500, regularization = 1 and alpha = 20\n"
     ]
    },
    {
     "name": "stderr",
     "output_type": "stream",
     "text": [
      "100%|██████████| 15/15 [00:41<00:00,  2.75s/it]\n"
     ]
    },
    {
     "name": "stdout",
     "output_type": "stream",
     "text": [
      "R_precision for factors = 500, regularization = 1 and alpha = 20: 0.12190368191524573\n",
      "Training for factors = 500, regularization = 1 and alpha = 40\n"
     ]
    },
    {
     "name": "stderr",
     "output_type": "stream",
     "text": [
      "100%|██████████| 15/15 [00:41<00:00,  2.75s/it]\n"
     ]
    },
    {
     "name": "stdout",
     "output_type": "stream",
     "text": [
      "R_precision for factors = 500, regularization = 1 and alpha = 40: 0.12213375951091311\n",
      "Training for factors = 500, regularization = 1 and alpha = 100\n"
     ]
    },
    {
     "name": "stderr",
     "output_type": "stream",
     "text": [
      "100%|██████████| 15/15 [00:41<00:00,  2.74s/it]\n"
     ]
    },
    {
     "name": "stdout",
     "output_type": "stream",
     "text": [
      "R_precision for factors = 500, regularization = 1 and alpha = 100: 0.12290605817778694\n",
      "Training for factors = 500, regularization = 10 and alpha = 1\n"
     ]
    },
    {
     "name": "stderr",
     "output_type": "stream",
     "text": [
      "100%|██████████| 15/15 [00:41<00:00,  2.75s/it]\n"
     ]
    },
    {
     "name": "stdout",
     "output_type": "stream",
     "text": [
      "R_precision for factors = 500, regularization = 10 and alpha = 1: 0.12391511346794658\n",
      "Training for factors = 500, regularization = 10 and alpha = 10\n"
     ]
    },
    {
     "name": "stderr",
     "output_type": "stream",
     "text": [
      "100%|██████████| 15/15 [00:41<00:00,  2.75s/it]\n"
     ]
    },
    {
     "name": "stdout",
     "output_type": "stream",
     "text": [
      "R_precision for factors = 500, regularization = 10 and alpha = 10: 0.12342139669718184\n",
      "Training for factors = 500, regularization = 10 and alpha = 20\n"
     ]
    },
    {
     "name": "stderr",
     "output_type": "stream",
     "text": [
      "100%|██████████| 15/15 [00:41<00:00,  2.75s/it]\n"
     ]
    },
    {
     "name": "stdout",
     "output_type": "stream",
     "text": [
      "R_precision for factors = 500, regularization = 10 and alpha = 20: 0.1238601639599498\n",
      "Training for factors = 500, regularization = 10 and alpha = 40\n"
     ]
    },
    {
     "name": "stderr",
     "output_type": "stream",
     "text": [
      "100%|██████████| 15/15 [00:41<00:00,  2.75s/it]\n"
     ]
    },
    {
     "name": "stdout",
     "output_type": "stream",
     "text": [
      "R_precision for factors = 500, regularization = 10 and alpha = 40: 0.12369604499681938\n",
      "Training for factors = 500, regularization = 10 and alpha = 100\n"
     ]
    },
    {
     "name": "stderr",
     "output_type": "stream",
     "text": [
      "100%|██████████| 15/15 [00:41<00:00,  2.75s/it]\n"
     ]
    },
    {
     "name": "stdout",
     "output_type": "stream",
     "text": [
      "R_precision for factors = 500, regularization = 10 and alpha = 100: 0.12382426812996786\n",
      "Training for factors = 500, regularization = 100 and alpha = 1\n"
     ]
    },
    {
     "name": "stderr",
     "output_type": "stream",
     "text": [
      "100%|██████████| 15/15 [00:41<00:00,  2.74s/it]\n"
     ]
    },
    {
     "name": "stdout",
     "output_type": "stream",
     "text": [
      "R_precision for factors = 500, regularization = 100 and alpha = 1: 0.13152992914324008\n",
      "Training for factors = 500, regularization = 100 and alpha = 10\n"
     ]
    },
    {
     "name": "stderr",
     "output_type": "stream",
     "text": [
      "100%|██████████| 15/15 [00:41<00:00,  2.75s/it]\n"
     ]
    },
    {
     "name": "stdout",
     "output_type": "stream",
     "text": [
      "R_precision for factors = 500, regularization = 100 and alpha = 10: 0.13135503969355608\n",
      "Training for factors = 500, regularization = 100 and alpha = 20\n"
     ]
    },
    {
     "name": "stderr",
     "output_type": "stream",
     "text": [
      "100%|██████████| 15/15 [00:41<00:00,  2.75s/it]\n"
     ]
    },
    {
     "name": "stdout",
     "output_type": "stream",
     "text": [
      "R_precision for factors = 500, regularization = 100 and alpha = 20: 0.1314242621319291\n",
      "Training for factors = 500, regularization = 100 and alpha = 40\n"
     ]
    },
    {
     "name": "stderr",
     "output_type": "stream",
     "text": [
      "100%|██████████| 15/15 [00:41<00:00,  2.75s/it]\n"
     ]
    },
    {
     "name": "stdout",
     "output_type": "stream",
     "text": [
      "R_precision for factors = 500, regularization = 100 and alpha = 40: 0.13152762138659055\n",
      "Training for factors = 500, regularization = 100 and alpha = 100\n"
     ]
    },
    {
     "name": "stderr",
     "output_type": "stream",
     "text": [
      "100%|██████████| 15/15 [00:41<00:00,  2.75s/it]\n"
     ]
    },
    {
     "name": "stdout",
     "output_type": "stream",
     "text": [
      "R_precision for factors = 500, regularization = 100 and alpha = 100: 0.1313886183560495\n",
      "Training for factors = 500, regularization = 500 and alpha = 1\n"
     ]
    },
    {
     "name": "stderr",
     "output_type": "stream",
     "text": [
      "100%|██████████| 15/15 [00:35<00:00,  2.38s/it]\n"
     ]
    },
    {
     "name": "stdout",
     "output_type": "stream",
     "text": [
      "R_precision for factors = 500, regularization = 500 and alpha = 1: 0.029280793640721194\n",
      "Training for factors = 500, regularization = 500 and alpha = 10\n"
     ]
    },
    {
     "name": "stderr",
     "output_type": "stream",
     "text": [
      "100%|██████████| 15/15 [00:35<00:00,  2.38s/it]\n"
     ]
    },
    {
     "name": "stdout",
     "output_type": "stream",
     "text": [
      "R_precision for factors = 500, regularization = 500 and alpha = 10: 0.029105165616960534\n",
      "Training for factors = 500, regularization = 500 and alpha = 20\n"
     ]
    },
    {
     "name": "stderr",
     "output_type": "stream",
     "text": [
      "100%|██████████| 15/15 [00:35<00:00,  2.37s/it]\n"
     ]
    },
    {
     "name": "stdout",
     "output_type": "stream",
     "text": [
      "R_precision for factors = 500, regularization = 500 and alpha = 20: 0.02937586009308104\n",
      "Training for factors = 500, regularization = 500 and alpha = 40\n"
     ]
    },
    {
     "name": "stderr",
     "output_type": "stream",
     "text": [
      "100%|██████████| 15/15 [00:35<00:00,  2.38s/it]\n"
     ]
    },
    {
     "name": "stdout",
     "output_type": "stream",
     "text": [
      "R_precision for factors = 500, regularization = 500 and alpha = 40: 0.02922864429119355\n",
      "Training for factors = 500, regularization = 500 and alpha = 100\n"
     ]
    },
    {
     "name": "stderr",
     "output_type": "stream",
     "text": [
      "100%|██████████| 15/15 [00:35<00:00,  2.39s/it]\n"
     ]
    },
    {
     "name": "stdout",
     "output_type": "stream",
     "text": [
      "R_precision for factors = 500, regularization = 500 and alpha = 100: 0.02936054666761867\n"
     ]
    }
   ],
   "source": [
    "# grid search using the validation dataset\n",
    "ids = np.unique(val_ids).tolist()\n",
    "\n",
    "best_r_precision_als = -np.Inf\n",
    "best_params_als = {}\n",
    "\n",
    "factors = [50, 100, 150, 200, 500]\n",
    "regularization = [0, 0.1, 1, 10, 100, 500]\n",
    "alpha = [1, 10, 20, 40, 100]\n",
    "\n",
    "results = {}\n",
    "results['factors'] = []\n",
    "results['regularization'] = []\n",
    "results['alpha'] = []\n",
    "results['r_precision'] = []\n",
    "\n",
    "for f in factors:\n",
    "    for r in regularization:\n",
    "        for a in alpha:\n",
    "            print(f'Training for factors = {f}, regularization = {r} and alpha = {a}')\n",
    "            model = AlternatingLeastSquares(factors = f, regularization = r, alpha = a)\n",
    "            model.fit(playlist_tracks)\n",
    "\n",
    "            # compute r precision\n",
    "            r_precision = 0.0\n",
    "\n",
    "            # get 500 predictions (that are not already in the playlist)\n",
    "            predicted_relevant_ids, scores = model.recommend(ids, playlist_tracks[ids], N = 500)\n",
    "            \n",
    "            # get the groundtruth values for those playlist ids \n",
    "            groundtruth_tracks = groundtruth[groundtruth['playlist_id'].isin(ids)]\n",
    "            groundtruth_tracks = groundtruth_tracks.groupby('playlist_id')['track_id'].agg(list).reset_index()['track_id'].tolist()\n",
    "            groundtruth_sets = [set(groundtruth_tracks[pid]) for pid in range(len(groundtruth_tracks))]\n",
    "\n",
    "            # divide the number of num_correct by the number of the ones missing\n",
    "            num_to_predict = np.array(groundtruth[groundtruth['playlist_id'].isin(ids)].groupby('playlist_id').count()['track_id'].tolist()) - 25\n",
    "            \n",
    "            # transform them into a list of sets\n",
    "            predicted_relevant_ids_sets = [set(predicted_relevant_ids[pid, :num_to_predict[pid]]) for pid in range(predicted_relevant_ids.shape[0])]\n",
    "            \n",
    "            # get the number of common tracks in predicted and groundtruth sets\n",
    "            num_correct = [len(groundtruth_sets[i] & predicted_relevant_ids_sets[i]) for i in range(len(predicted_relevant_ids))]\n",
    "            r_precision = np.sum(num_correct / num_to_predict) / len(ids)\n",
    "\n",
    "            print(f'R_precision for factors = {f}, regularization = {r} and alpha = {a}: {r_precision}')\n",
    "            \n",
    "            if r_precision > best_r_precision_als:\n",
    "                best_params_als['factors'] = f\n",
    "                best_params_als['regularization'] = r\n",
    "                best_params_als['alpha'] = a\n",
    "                best_r_precision_als = r_precision\n",
    "            \n",
    "            results['factors'].append(f)\n",
    "            results['regularization'].append(r)\n",
    "            results['alpha'].append(a)\n",
    "            results['r_precision'].append(r_precision)\n",
    "            \n",
    "            del model"
   ]
  },
  {
   "attachments": {},
   "cell_type": "markdown",
   "metadata": {},
   "source": [
    "#### Evaluation on testing dataset"
   ]
  },
  {
   "cell_type": "code",
   "execution_count": 16,
   "metadata": {},
   "outputs": [
    {
     "name": "stderr",
     "output_type": "stream",
     "text": [
      "100%|██████████| 15/15 [00:08<00:00,  1.73it/s]\n"
     ]
    },
    {
     "name": "stdout",
     "output_type": "stream",
     "text": [
      "R_precision for factors = 200, regularization = 100 and alpha = 1 on testing dataset: 0.1304337139161289\n"
     ]
    }
   ],
   "source": [
    "# get r_precision for testing dataset\n",
    "ids = np.unique(test_ids).tolist()\n",
    "\n",
    "model = AlternatingLeastSquares(**best_params_als)\n",
    "model.fit(playlist_tracks)\n",
    "\n",
    "# compute r precision\n",
    "r_precision = 0.0\n",
    "\n",
    "# get 500 predictions (that are not already in the playlist)\n",
    "predicted_relevant_ids, scores = model.recommend(ids, playlist_tracks[ids], N = 500)\n",
    "\n",
    "# get the groundtruth values for those playlist ids \n",
    "groundtruth_tracks = groundtruth[groundtruth['playlist_id'].isin(ids)]\n",
    "groundtruth_tracks = groundtruth_tracks.groupby('playlist_id')['track_id'].agg(list).reset_index()['track_id'].tolist()\n",
    "groundtruth_sets = [set(groundtruth_tracks[pid]) for pid in range(len(groundtruth_tracks))]\n",
    "\n",
    "# divide the number of num_correct by the number of the ones missing\n",
    "num_to_predict = np.array(groundtruth[groundtruth['playlist_id'].isin(ids)].groupby('playlist_id').count()['track_id'].tolist()) - 25\n",
    "\n",
    "# transform them into a list of sets\n",
    "predicted_relevant_ids_sets = [set(predicted_relevant_ids[pid, :num_to_predict[pid]]) for pid in range(predicted_relevant_ids.shape[0])]\n",
    "\n",
    "# get the number of common tracks in predicted and groundtruth sets\n",
    "num_correct = [len(groundtruth_sets[i] & predicted_relevant_ids_sets[i]) for i in range(len(predicted_relevant_ids))]\n",
    "r_precision += np.sum(num_correct / num_to_predict) / len(ids)\n",
    "\n",
    "print('R_precision for factors = {}, regularization = {} and alpha = {} on testing dataset: {}'.format(best_params_als['factors'], \n",
    "                                                                                                       best_params_als['regularization'],\n",
    "                                                                                                       best_params_als['alpha'],\n",
    "                                                                                                       r_precision))"
   ]
  },
  {
   "cell_type": "code",
   "execution_count": 17,
   "metadata": {},
   "outputs": [
    {
     "data": {
      "text/html": [
       "<div>\n",
       "<style scoped>\n",
       "    .dataframe tbody tr th:only-of-type {\n",
       "        vertical-align: middle;\n",
       "    }\n",
       "\n",
       "    .dataframe tbody tr th {\n",
       "        vertical-align: top;\n",
       "    }\n",
       "\n",
       "    .dataframe thead th {\n",
       "        text-align: right;\n",
       "    }\n",
       "</style>\n",
       "<table border=\"1\" class=\"dataframe\">\n",
       "  <thead>\n",
       "    <tr style=\"text-align: right;\">\n",
       "      <th></th>\n",
       "      <th>factors</th>\n",
       "      <th>regularization</th>\n",
       "      <th>alpha</th>\n",
       "      <th>r_precision</th>\n",
       "    </tr>\n",
       "  </thead>\n",
       "  <tbody>\n",
       "    <tr>\n",
       "      <th>0</th>\n",
       "      <td>50</td>\n",
       "      <td>0.0</td>\n",
       "      <td>1</td>\n",
       "      <td>0.118149</td>\n",
       "    </tr>\n",
       "    <tr>\n",
       "      <th>1</th>\n",
       "      <td>50</td>\n",
       "      <td>0.0</td>\n",
       "      <td>10</td>\n",
       "      <td>0.117925</td>\n",
       "    </tr>\n",
       "    <tr>\n",
       "      <th>2</th>\n",
       "      <td>50</td>\n",
       "      <td>0.0</td>\n",
       "      <td>20</td>\n",
       "      <td>0.118532</td>\n",
       "    </tr>\n",
       "    <tr>\n",
       "      <th>3</th>\n",
       "      <td>50</td>\n",
       "      <td>0.0</td>\n",
       "      <td>40</td>\n",
       "      <td>0.119362</td>\n",
       "    </tr>\n",
       "    <tr>\n",
       "      <th>4</th>\n",
       "      <td>50</td>\n",
       "      <td>0.0</td>\n",
       "      <td>100</td>\n",
       "      <td>0.118187</td>\n",
       "    </tr>\n",
       "    <tr>\n",
       "      <th>5</th>\n",
       "      <td>50</td>\n",
       "      <td>0.1</td>\n",
       "      <td>1</td>\n",
       "      <td>0.119519</td>\n",
       "    </tr>\n",
       "    <tr>\n",
       "      <th>6</th>\n",
       "      <td>50</td>\n",
       "      <td>0.1</td>\n",
       "      <td>10</td>\n",
       "      <td>0.118423</td>\n",
       "    </tr>\n",
       "    <tr>\n",
       "      <th>7</th>\n",
       "      <td>50</td>\n",
       "      <td>0.1</td>\n",
       "      <td>20</td>\n",
       "      <td>0.118482</td>\n",
       "    </tr>\n",
       "    <tr>\n",
       "      <th>8</th>\n",
       "      <td>50</td>\n",
       "      <td>0.1</td>\n",
       "      <td>40</td>\n",
       "      <td>0.118332</td>\n",
       "    </tr>\n",
       "    <tr>\n",
       "      <th>9</th>\n",
       "      <td>50</td>\n",
       "      <td>0.1</td>\n",
       "      <td>100</td>\n",
       "      <td>0.118221</td>\n",
       "    </tr>\n",
       "  </tbody>\n",
       "</table>\n",
       "</div>"
      ],
      "text/plain": [
       "   factors  regularization  alpha  r_precision\n",
       "0       50             0.0      1     0.118149\n",
       "1       50             0.0     10     0.117925\n",
       "2       50             0.0     20     0.118532\n",
       "3       50             0.0     40     0.119362\n",
       "4       50             0.0    100     0.118187\n",
       "5       50             0.1      1     0.119519\n",
       "6       50             0.1     10     0.118423\n",
       "7       50             0.1     20     0.118482\n",
       "8       50             0.1     40     0.118332\n",
       "9       50             0.1    100     0.118221"
      ]
     },
     "execution_count": 17,
     "metadata": {},
     "output_type": "execute_result"
    }
   ],
   "source": [
    "results_als = results\n",
    "results_als_df = pd.DataFrame(results_als)\n",
    "results_als_df.head(n = 10)"
   ]
  },
  {
   "cell_type": "code",
   "execution_count": 62,
   "metadata": {},
   "outputs": [
    {
     "data": {
      "text/plain": [
       "<Figure size 1000x1000 with 0 Axes>"
      ]
     },
     "metadata": {},
     "output_type": "display_data"
    },
    {
     "data": {
      "image/png": "[encoded data removed]",
      "text/plain": [
       "<Figure size 2591.33x400 with 5 Axes>"
      ]
     },
     "metadata": {},
     "output_type": "display_data"
    }
   ],
   "source": [
    "import matplotlib.pyplot as plt\n",
    "sns.set(font_scale=1.5)\n",
    "\n",
    "plt.figure(figsize=(10, 10))\n",
    "g = sns.catplot(\n",
    "    data=results_als_df, y=\"r_precision\", x = \"factors\", col=\"alpha\", hue=\"regularization\", palette=sns.color_palette(\"husl\", 6),\n",
    "    kind=\"point\", height=4, aspect=1.2, errorbar=None,\n",
    ")\n",
    "\n",
    "g.set_xlabels('Factors')\n",
    "g.set_titles(r'$\\alpha$ = {col_name}')\n",
    "g._legend.set_title(title = r'$\\lambda$')\n",
    "g.set_ylabels('R precision');"
   ]
  },
  {
   "attachments": {},
   "cell_type": "markdown",
   "metadata": {},
   "source": [
    "## K-Nearest Neighbor for Collaborative Filtering"
   ]
  },
  {
   "cell_type": "code",
   "execution_count": 19,
   "metadata": {},
   "outputs": [],
   "source": [
    "# create sparse training matrices\n",
    "train_sparse_matrix = csr_matrix((train_df['val'].values.T, train_df[['playlist_id', 'track_id']].values.T), shape = (num_train_playlists, num_tracks))\n",
    "train_sparse_matrix = train_sparse_matrix.T\n",
    "train_sparse_matrix_normalized = csr_matrix((train_df['val_normalized'].values.T, train_df[['playlist_id', 'track_id']].values.T), shape = (num_train_playlists, num_tracks))"
   ]
  },
  {
   "cell_type": "code",
   "execution_count": 20,
   "metadata": {},
   "outputs": [],
   "source": [
    "# for each playlist_id, get 500 track recommendations (that are not already in the dataset)\n",
    "def get_recommendations_knn(pids, train_matrix, test_df, rho = 0.3, knn_K = 1000):\n",
    "    recommendations = []\n",
    "    for i, pid in enumerate(pids):\n",
    "        # form the playlist vector\n",
    "        playlist_tracks = test_df[(test_df.playlist_id == pid)]\n",
    "        playlist_vec = np.zeros([num_tracks, 1])\n",
    "        playlist_vec[playlist_tracks.track_id.values] = playlist_tracks[['val_normalized']].values / ((playlist_tracks[['popularity']].values - 1)**(rho) + 1)\n",
    "\n",
    "        # get the similarities between playlist pid and every other playlist\n",
    "        similarities = train_matrix.dot(playlist_vec)\n",
    "\n",
    "        # get knn_K most similar playlists\n",
    "        k_similar_playlists = similarities.reshape(-1).argsort()[-knn_K:][::-1]\n",
    "        \n",
    "        # get the similarity values\n",
    "        similarity_values = similarities[k_similar_playlists]\n",
    "\n",
    "        # get the predicted relevance of each song for the particular playlist\n",
    "        predicted_relevance = train_matrix[k_similar_playlists, :].T.dot(similarity_values)\n",
    "\n",
    "        # get the top 500 tracks that are not already in the playlist\n",
    "        predicted_relevant_song_ids = predicted_relevance.reshape(-1).argsort()[-(500  + 25):][::-1]\n",
    "        predicted_relevant_song_ids = predicted_relevant_song_ids[np.isin(predicted_relevant_song_ids, playlist_tracks.track_id) == False][:500]\n",
    "\n",
    "        # append the recommendations to a dataframe\n",
    "        recommendations.append(pd.DataFrame(\n",
    "            {'playlist_id': np.repeat(pid, 500),\n",
    "             'track_id': predicted_relevant_song_ids}\n",
    "        ))\n",
    "\n",
    "    # return the recommendations\n",
    "    rcmds = pd.concat(recommendations, axis = 0)\n",
    "    return rcmds"
   ]
  },
  {
   "cell_type": "code",
   "execution_count": 21,
   "metadata": {},
   "outputs": [],
   "source": [
    "# compute r_precision\n",
    "def r_prec(pids, df, groundtruth, recs):\n",
    "    r_precision = 0\n",
    "    for pid in pids:\n",
    "        # get the ids of the songs that we know exist\n",
    "        known_songs_ids = df[(df.playlist_id == pid)].track_id\n",
    "        predicted_relevant_songs_ids = recs[recs['playlist_id'] == pid].track_id\n",
    "        groundtruth_ids = groundtruth[groundtruth.playlist_id == pid].track_id\n",
    "\n",
    "        hidden_relevant_song_ids = set(groundtruth_ids) - set(known_songs_ids)\n",
    "        num_playlist_tracks = len(groundtruth[groundtruth['playlist_id'] == pid]['track_id'])\n",
    "        num_hidden_tracks = num_playlist_tracks - 25\n",
    "        top_k_predicted_relevant_songs = set(predicted_relevant_songs_ids[:num_hidden_tracks])\n",
    "        r_precision += len(top_k_predicted_relevant_songs & hidden_relevant_song_ids) / num_hidden_tracks\n",
    "\n",
    "    return r_precision"
   ]
  },
  {
   "attachments": {},
   "cell_type": "markdown",
   "metadata": {},
   "source": [
    "#### Hyperparameter tuning (training)"
   ]
  },
  {
   "cell_type": "code",
   "execution_count": 22,
   "metadata": {},
   "outputs": [
    {
     "name": "stdout",
     "output_type": "stream",
     "text": [
      "Training for knn_K = 100 and rho = 0\n",
      "R_precision for knn_K = 100 and rho = 0: 0.1565680427598487\n",
      "Training for knn_K = 100 and rho = 0.1\n",
      "R_precision for knn_K = 100 and rho = 0.1: 0.15913320436534797\n",
      "Training for knn_K = 100 and rho = 0.3\n",
      "R_precision for knn_K = 100 and rho = 0.3: 0.16348909672961823\n",
      "Training for knn_K = 100 and rho = 1.0\n",
      "R_precision for knn_K = 100 and rho = 1.0: 0.12553711253910985\n",
      "Training for knn_K = 500 and rho = 0\n",
      "R_precision for knn_K = 500 and rho = 0: 0.15958189761913405\n",
      "Training for knn_K = 500 and rho = 0.1\n",
      "R_precision for knn_K = 500 and rho = 0.1: 0.1638234939579543\n",
      "Training for knn_K = 500 and rho = 0.3\n",
      "R_precision for knn_K = 500 and rho = 0.3: 0.17065032917363812\n",
      "Training for knn_K = 500 and rho = 1.0\n",
      "R_precision for knn_K = 500 and rho = 1.0: 0.15351039494554508\n",
      "Training for knn_K = 1000 and rho = 0\n",
      "R_precision for knn_K = 1000 and rho = 0: 0.1590435338807164\n",
      "Training for knn_K = 1000 and rho = 0.1\n",
      "R_precision for knn_K = 1000 and rho = 0.1: 0.16151153763393913\n",
      "Training for knn_K = 1000 and rho = 0.3\n",
      "R_precision for knn_K = 1000 and rho = 0.3: 0.16936580159322995\n",
      "Training for knn_K = 1000 and rho = 1.0\n",
      "R_precision for knn_K = 1000 and rho = 1.0: 0.16149043060404286\n",
      "Training for knn_K = 2000 and rho = 0\n",
      "R_precision for knn_K = 2000 and rho = 0: 0.15492257981969382\n",
      "Training for knn_K = 2000 and rho = 0.1\n",
      "R_precision for knn_K = 2000 and rho = 0.1: 0.15779468883804046\n",
      "Training for knn_K = 2000 and rho = 0.3\n",
      "R_precision for knn_K = 2000 and rho = 0.3: 0.1658242303817787\n",
      "Training for knn_K = 2000 and rho = 1.0\n",
      "R_precision for knn_K = 2000 and rho = 1.0: 0.16823286465191825\n"
     ]
    }
   ],
   "source": [
    "import multiprocessing\n",
    "from functools import partial\n",
    "\n",
    "NUM_THREADS = 32\n",
    "\n",
    "ids = val_df['playlist_id'].unique()\n",
    "\n",
    "knn_k = [100, 500, 1000, 2000]\n",
    "rho = [0, 0.1, 0.3, 1.0]\n",
    "\n",
    "best_r_precision_knn = -np.Inf\n",
    "best_params_knn = {}\n",
    "\n",
    "results = {}\n",
    "results['knn_k'] = []\n",
    "results['rho'] = []\n",
    "results['r_precision'] = []\n",
    "\n",
    "pool = multiprocessing.Pool(processes = NUM_THREADS)\n",
    "\n",
    "for k in knn_k:\n",
    "    for r in rho:\n",
    "        print(f'Training for knn_K = {k} and rho = {r}')\n",
    "        func = partial(get_recommendations_knn, train_matrix = train_sparse_matrix_normalized, test_df = val_df, rho = r, knn_K = k)\n",
    "        recs_cf = list(pool.map(func, np.array_split(ids, NUM_THREADS)))\n",
    "        recs_cf = pd.concat([r for r in recs_cf], axis = 0);\n",
    "\n",
    "        func = partial(r_prec, df = val_df, groundtruth = groundtruth, recs = recs_cf)\n",
    "        r_precision = sum(list(pool.map(func, np.array_split(ids, NUM_THREADS)))) / len(ids)\n",
    "        print(f'R_precision for knn_K = {k} and rho = {r}: {r_precision}')\n",
    "\n",
    "        if r_precision > best_r_precision_knn:\n",
    "            best_r_precision_knn = r_precision\n",
    "            best_params_knn['knn_k'] = k\n",
    "            best_params_knn['rho'] = r\n",
    "\n",
    "        results['knn_k'].append(k)\n",
    "        results['rho'].append(r)\n",
    "        results['r_precision'].append(r_precision)\n",
    "\n",
    "pool.close()\n"
   ]
  },
  {
   "cell_type": "code",
   "execution_count": 25,
   "metadata": {},
   "outputs": [
    {
     "data": {
      "text/html": [
       "<div>\n",
       "<style scoped>\n",
       "    .dataframe tbody tr th:only-of-type {\n",
       "        vertical-align: middle;\n",
       "    }\n",
       "\n",
       "    .dataframe tbody tr th {\n",
       "        vertical-align: top;\n",
       "    }\n",
       "\n",
       "    .dataframe thead th {\n",
       "        text-align: right;\n",
       "    }\n",
       "</style>\n",
       "<table border=\"1\" class=\"dataframe\">\n",
       "  <thead>\n",
       "    <tr style=\"text-align: right;\">\n",
       "      <th></th>\n",
       "      <th>knn_k</th>\n",
       "      <th>rho</th>\n",
       "      <th>r_precision</th>\n",
       "    </tr>\n",
       "  </thead>\n",
       "  <tbody>\n",
       "    <tr>\n",
       "      <th>0</th>\n",
       "      <td>100</td>\n",
       "      <td>0.0</td>\n",
       "      <td>0.156568</td>\n",
       "    </tr>\n",
       "    <tr>\n",
       "      <th>1</th>\n",
       "      <td>100</td>\n",
       "      <td>0.1</td>\n",
       "      <td>0.159133</td>\n",
       "    </tr>\n",
       "    <tr>\n",
       "      <th>2</th>\n",
       "      <td>100</td>\n",
       "      <td>0.3</td>\n",
       "      <td>0.163489</td>\n",
       "    </tr>\n",
       "    <tr>\n",
       "      <th>3</th>\n",
       "      <td>100</td>\n",
       "      <td>1.0</td>\n",
       "      <td>0.125537</td>\n",
       "    </tr>\n",
       "    <tr>\n",
       "      <th>4</th>\n",
       "      <td>500</td>\n",
       "      <td>0.0</td>\n",
       "      <td>0.159582</td>\n",
       "    </tr>\n",
       "  </tbody>\n",
       "</table>\n",
       "</div>"
      ],
      "text/plain": [
       "   knn_k  rho  r_precision\n",
       "0    100  0.0     0.156568\n",
       "1    100  0.1     0.159133\n",
       "2    100  0.3     0.163489\n",
       "3    100  1.0     0.125537\n",
       "4    500  0.0     0.159582"
      ]
     },
     "execution_count": 25,
     "metadata": {},
     "output_type": "execute_result"
    }
   ],
   "source": [
    "results_knn = results\n",
    "results_knn_df = pd.DataFrame(results_knn)\n",
    "results_knn_df.head()"
   ]
  },
  {
   "cell_type": "code",
   "execution_count": 69,
   "metadata": {},
   "outputs": [
    {
     "data": {
      "image/png": "[encoded data removed]",
      "text/plain": [
       "<Figure size 559.25x400 with 1 Axes>"
      ]
     },
     "metadata": {},
     "output_type": "display_data"
    }
   ],
   "source": [
    "import matplotlib.pyplot as plt\n",
    "sns.set(font_scale=1)\n",
    "\n",
    "g = sns.catplot(\n",
    "    data=results_knn_df, y=\"r_precision\", x = \"knn_k\", hue=\"rho\", palette=sns.color_palette(\"husl\", 4),\n",
    "    kind=\"point\", height=4, aspect=1.2, errorbar=None,\n",
    ")\n",
    "\n",
    "g._legend.set_title(title = r'$\\rho$')\n",
    "g.set_xlabels(r'$K$')\n",
    "g.set_ylabels('R precision');\n",
    "plt.title(r'R Precision vs $\\rho$ and $K$');"
   ]
  },
  {
   "attachments": {},
   "cell_type": "markdown",
   "metadata": {},
   "source": [
    "#### Evaluation on the testing dataset"
   ]
  },
  {
   "cell_type": "code",
   "execution_count": 27,
   "metadata": {},
   "outputs": [
    {
     "name": "stdout",
     "output_type": "stream",
     "text": [
      "R_precision on testing set for knn_K = 500 and rho = 0.3: 0.16304109859204638\n"
     ]
    }
   ],
   "source": [
    "ids = test_df['playlist_id'].unique()\n",
    "\n",
    "pool = multiprocessing.Pool(processes = NUM_THREADS)\n",
    "func = partial(get_recommendations_knn, train_matrix = train_sparse_matrix_normalized, test_df = test_df, rho = best_params_knn['rho'], knn_K = best_params_knn['knn_k'])\n",
    "recs_cf = list(pool.map(func, np.array_split(ids, NUM_THREADS)))\n",
    "recs_cf = pd.concat([r for r in recs_cf], axis = 0);\n",
    "\n",
    "func = partial(r_prec, df = test_df, groundtruth = groundtruth, recs = recs_cf)\n",
    "r_precision = sum(list(pool.map(func, np.array_split(ids, NUM_THREADS)))) / len(ids)\n",
    "pool.close()\n",
    "print('R_precision on testing set for knn_K = {} and rho = {}: {}'.format(best_params_knn['knn_k'], best_params_knn['rho'], r_precision))"
   ]
  },
  {
   "attachments": {},
   "cell_type": "markdown",
   "metadata": {},
   "source": [
    "## Hybrid recommendations: Collaborative + Content Based Filtering"
   ]
  },
  {
   "cell_type": "code",
   "execution_count": 28,
   "metadata": {},
   "outputs": [
    {
     "data": {
      "text/html": [
       "<div>\n",
       "<style scoped>\n",
       "    .dataframe tbody tr th:only-of-type {\n",
       "        vertical-align: middle;\n",
       "    }\n",
       "\n",
       "    .dataframe tbody tr th {\n",
       "        vertical-align: top;\n",
       "    }\n",
       "\n",
       "    .dataframe thead th {\n",
       "        text-align: right;\n",
       "    }\n",
       "</style>\n",
       "<table border=\"1\" class=\"dataframe\">\n",
       "  <thead>\n",
       "    <tr style=\"text-align: right;\">\n",
       "      <th></th>\n",
       "      <th>track_id</th>\n",
       "      <th>acousticness</th>\n",
       "      <th>danceability</th>\n",
       "      <th>energy</th>\n",
       "      <th>instrumentalness</th>\n",
       "      <th>mode</th>\n",
       "      <th>loudness</th>\n",
       "      <th>speechiness</th>\n",
       "      <th>tempo</th>\n",
       "      <th>time_signature</th>\n",
       "      <th>valence</th>\n",
       "    </tr>\n",
       "  </thead>\n",
       "  <tbody>\n",
       "    <tr>\n",
       "      <th>0</th>\n",
       "      <td>0</td>\n",
       "      <td>0.5680</td>\n",
       "      <td>0.458</td>\n",
       "      <td>0.591</td>\n",
       "      <td>0.000015</td>\n",
       "      <td>1.0</td>\n",
       "      <td>-5.621</td>\n",
       "      <td>0.0326</td>\n",
       "      <td>184.913</td>\n",
       "      <td>3.0</td>\n",
       "      <td>0.654</td>\n",
       "    </tr>\n",
       "    <tr>\n",
       "      <th>1</th>\n",
       "      <td>1</td>\n",
       "      <td>0.7970</td>\n",
       "      <td>0.455</td>\n",
       "      <td>0.623</td>\n",
       "      <td>0.903000</td>\n",
       "      <td>1.0</td>\n",
       "      <td>-11.572</td>\n",
       "      <td>0.0523</td>\n",
       "      <td>182.345</td>\n",
       "      <td>4.0</td>\n",
       "      <td>0.951</td>\n",
       "    </tr>\n",
       "    <tr>\n",
       "      <th>2</th>\n",
       "      <td>2</td>\n",
       "      <td>0.0178</td>\n",
       "      <td>0.742</td>\n",
       "      <td>0.753</td>\n",
       "      <td>0.000000</td>\n",
       "      <td>1.0</td>\n",
       "      <td>-5.632</td>\n",
       "      <td>0.0364</td>\n",
       "      <td>132.064</td>\n",
       "      <td>4.0</td>\n",
       "      <td>0.263</td>\n",
       "    </tr>\n",
       "    <tr>\n",
       "      <th>3</th>\n",
       "      <td>3</td>\n",
       "      <td>0.0860</td>\n",
       "      <td>0.733</td>\n",
       "      <td>0.711</td>\n",
       "      <td>0.000000</td>\n",
       "      <td>1.0</td>\n",
       "      <td>-5.408</td>\n",
       "      <td>0.1580</td>\n",
       "      <td>138.076</td>\n",
       "      <td>4.0</td>\n",
       "      <td>0.346</td>\n",
       "    </tr>\n",
       "    <tr>\n",
       "      <th>4</th>\n",
       "      <td>4</td>\n",
       "      <td>0.0145</td>\n",
       "      <td>0.584</td>\n",
       "      <td>0.947</td>\n",
       "      <td>0.000039</td>\n",
       "      <td>1.0</td>\n",
       "      <td>-3.702</td>\n",
       "      <td>0.0748</td>\n",
       "      <td>100.874</td>\n",
       "      <td>4.0</td>\n",
       "      <td>0.460</td>\n",
       "    </tr>\n",
       "  </tbody>\n",
       "</table>\n",
       "</div>"
      ],
      "text/plain": [
       "   track_id  acousticness  danceability  energy  instrumentalness  mode  \\\n",
       "0         0        0.5680         0.458   0.591          0.000015   1.0   \n",
       "1         1        0.7970         0.455   0.623          0.903000   1.0   \n",
       "2         2        0.0178         0.742   0.753          0.000000   1.0   \n",
       "3         3        0.0860         0.733   0.711          0.000000   1.0   \n",
       "4         4        0.0145         0.584   0.947          0.000039   1.0   \n",
       "\n",
       "   loudness  speechiness    tempo  time_signature  valence  \n",
       "0    -5.621       0.0326  184.913             3.0    0.654  \n",
       "1   -11.572       0.0523  182.345             4.0    0.951  \n",
       "2    -5.632       0.0364  132.064             4.0    0.263  \n",
       "3    -5.408       0.1580  138.076             4.0    0.346  \n",
       "4    -3.702       0.0748  100.874             4.0    0.460  "
      ]
     },
     "execution_count": 28,
     "metadata": {},
     "output_type": "execute_result"
    }
   ],
   "source": [
    "# Construct a profile for each playlist\n",
    "tracks.drop(columns = ['track_uri', 'track_name', 'artist_id', 'album_uri', 'duration_ms', 'album_name'], inplace=True)\n",
    "tracks.fillna(value = 0.0, inplace=True)\n",
    "tracks.head()"
   ]
  },
  {
   "cell_type": "code",
   "execution_count": 29,
   "metadata": {},
   "outputs": [],
   "source": [
    "# exclude track id columns\n",
    "cols = tracks.columns[tracks.columns != 'track_id']\n",
    "\n",
    "# scale features\n",
    "scaler = StandardScaler()\n",
    "features_scaled = scaler.fit_transform(tracks[cols])\n",
    "tracks[cols] = features_scaled"
   ]
  },
  {
   "cell_type": "code",
   "execution_count": 30,
   "metadata": {},
   "outputs": [
    {
     "data": {
      "text/html": [
       "<div>\n",
       "<style scoped>\n",
       "    .dataframe tbody tr th:only-of-type {\n",
       "        vertical-align: middle;\n",
       "    }\n",
       "\n",
       "    .dataframe tbody tr th {\n",
       "        vertical-align: top;\n",
       "    }\n",
       "\n",
       "    .dataframe thead th {\n",
       "        text-align: right;\n",
       "    }\n",
       "</style>\n",
       "<table border=\"1\" class=\"dataframe\">\n",
       "  <thead>\n",
       "    <tr style=\"text-align: right;\">\n",
       "      <th></th>\n",
       "      <th>track_id</th>\n",
       "      <th>acousticness</th>\n",
       "      <th>danceability</th>\n",
       "      <th>energy</th>\n",
       "      <th>instrumentalness</th>\n",
       "      <th>mode</th>\n",
       "      <th>loudness</th>\n",
       "      <th>speechiness</th>\n",
       "      <th>tempo</th>\n",
       "      <th>time_signature</th>\n",
       "      <th>valence</th>\n",
       "    </tr>\n",
       "  </thead>\n",
       "  <tbody>\n",
       "    <tr>\n",
       "      <th>0</th>\n",
       "      <td>0</td>\n",
       "      <td>0.601704</td>\n",
       "      <td>-0.500671</td>\n",
       "      <td>0.023118</td>\n",
       "      <td>-0.631930</td>\n",
       "      <td>0.725836</td>\n",
       "      <td>0.717893</td>\n",
       "      <td>-0.491544</td>\n",
       "      <td>2.169227</td>\n",
       "      <td>-1.860936</td>\n",
       "      <td>0.660453</td>\n",
       "    </tr>\n",
       "    <tr>\n",
       "      <th>1</th>\n",
       "      <td>1</td>\n",
       "      <td>1.247874</td>\n",
       "      <td>-0.516925</td>\n",
       "      <td>0.143401</td>\n",
       "      <td>1.952452</td>\n",
       "      <td>0.725836</td>\n",
       "      <td>-0.339814</td>\n",
       "      <td>-0.320548</td>\n",
       "      <td>2.083432</td>\n",
       "      <td>0.254379</td>\n",
       "      <td>1.760497</td>\n",
       "    </tr>\n",
       "    <tr>\n",
       "      <th>2</th>\n",
       "      <td>2</td>\n",
       "      <td>-0.950795</td>\n",
       "      <td>1.038104</td>\n",
       "      <td>0.632050</td>\n",
       "      <td>-0.631974</td>\n",
       "      <td>0.725836</td>\n",
       "      <td>0.715938</td>\n",
       "      <td>-0.458560</td>\n",
       "      <td>0.403583</td>\n",
       "      <td>0.254379</td>\n",
       "      <td>-0.787753</td>\n",
       "    </tr>\n",
       "    <tr>\n",
       "      <th>3</th>\n",
       "      <td>3</td>\n",
       "      <td>-0.758355</td>\n",
       "      <td>0.989340</td>\n",
       "      <td>0.474179</td>\n",
       "      <td>-0.631974</td>\n",
       "      <td>0.725836</td>\n",
       "      <td>0.755751</td>\n",
       "      <td>0.596927</td>\n",
       "      <td>0.604439</td>\n",
       "      <td>0.254379</td>\n",
       "      <td>-0.480333</td>\n",
       "    </tr>\n",
       "    <tr>\n",
       "      <th>4</th>\n",
       "      <td>4</td>\n",
       "      <td>-0.960106</td>\n",
       "      <td>0.182025</td>\n",
       "      <td>1.361265</td>\n",
       "      <td>-0.631863</td>\n",
       "      <td>0.725836</td>\n",
       "      <td>1.058969</td>\n",
       "      <td>-0.125248</td>\n",
       "      <td>-0.638451</td>\n",
       "      <td>0.254379</td>\n",
       "      <td>-0.058094</td>\n",
       "    </tr>\n",
       "    <tr>\n",
       "      <th>5</th>\n",
       "      <td>5</td>\n",
       "      <td>1.253517</td>\n",
       "      <td>-0.235178</td>\n",
       "      <td>-0.521914</td>\n",
       "      <td>-0.631974</td>\n",
       "      <td>-1.377722</td>\n",
       "      <td>0.625470</td>\n",
       "      <td>-0.534943</td>\n",
       "      <td>0.440133</td>\n",
       "      <td>0.254379</td>\n",
       "      <td>-0.213656</td>\n",
       "    </tr>\n",
       "    <tr>\n",
       "      <th>6</th>\n",
       "      <td>6</td>\n",
       "      <td>1.490540</td>\n",
       "      <td>-1.611406</td>\n",
       "      <td>-1.457866</td>\n",
       "      <td>-0.615889</td>\n",
       "      <td>0.725836</td>\n",
       "      <td>-1.428092</td>\n",
       "      <td>-0.374364</td>\n",
       "      <td>-1.952034</td>\n",
       "      <td>0.254379</td>\n",
       "      <td>-0.365514</td>\n",
       "    </tr>\n",
       "    <tr>\n",
       "      <th>7</th>\n",
       "      <td>7</td>\n",
       "      <td>1.242230</td>\n",
       "      <td>-1.383840</td>\n",
       "      <td>-0.326455</td>\n",
       "      <td>2.069796</td>\n",
       "      <td>-1.377722</td>\n",
       "      <td>0.083553</td>\n",
       "      <td>-0.513244</td>\n",
       "      <td>-1.033548</td>\n",
       "      <td>-1.860936</td>\n",
       "      <td>-1.597044</td>\n",
       "    </tr>\n",
       "    <tr>\n",
       "      <th>8</th>\n",
       "      <td>8</td>\n",
       "      <td>-0.538262</td>\n",
       "      <td>0.528791</td>\n",
       "      <td>0.049430</td>\n",
       "      <td>-0.631842</td>\n",
       "      <td>0.725836</td>\n",
       "      <td>-0.388336</td>\n",
       "      <td>2.055164</td>\n",
       "      <td>0.631401</td>\n",
       "      <td>0.254379</td>\n",
       "      <td>-0.280325</td>\n",
       "    </tr>\n",
       "    <tr>\n",
       "      <th>9</th>\n",
       "      <td>9</td>\n",
       "      <td>-1.001001</td>\n",
       "      <td>0.783448</td>\n",
       "      <td>0.913963</td>\n",
       "      <td>1.803626</td>\n",
       "      <td>0.725836</td>\n",
       "      <td>0.505143</td>\n",
       "      <td>-0.377836</td>\n",
       "      <td>0.201457</td>\n",
       "      <td>0.254379</td>\n",
       "      <td>-1.624082</td>\n",
       "    </tr>\n",
       "  </tbody>\n",
       "</table>\n",
       "</div>"
      ],
      "text/plain": [
       "   track_id  acousticness  danceability    energy  instrumentalness      mode  \\\n",
       "0         0      0.601704     -0.500671  0.023118         -0.631930  0.725836   \n",
       "1         1      1.247874     -0.516925  0.143401          1.952452  0.725836   \n",
       "2         2     -0.950795      1.038104  0.632050         -0.631974  0.725836   \n",
       "3         3     -0.758355      0.989340  0.474179         -0.631974  0.725836   \n",
       "4         4     -0.960106      0.182025  1.361265         -0.631863  0.725836   \n",
       "5         5      1.253517     -0.235178 -0.521914         -0.631974 -1.377722   \n",
       "6         6      1.490540     -1.611406 -1.457866         -0.615889  0.725836   \n",
       "7         7      1.242230     -1.383840 -0.326455          2.069796 -1.377722   \n",
       "8         8     -0.538262      0.528791  0.049430         -0.631842  0.725836   \n",
       "9         9     -1.001001      0.783448  0.913963          1.803626  0.725836   \n",
       "\n",
       "   loudness  speechiness     tempo  time_signature   valence  \n",
       "0  0.717893    -0.491544  2.169227       -1.860936  0.660453  \n",
       "1 -0.339814    -0.320548  2.083432        0.254379  1.760497  \n",
       "2  0.715938    -0.458560  0.403583        0.254379 -0.787753  \n",
       "3  0.755751     0.596927  0.604439        0.254379 -0.480333  \n",
       "4  1.058969    -0.125248 -0.638451        0.254379 -0.058094  \n",
       "5  0.625470    -0.534943  0.440133        0.254379 -0.213656  \n",
       "6 -1.428092    -0.374364 -1.952034        0.254379 -0.365514  \n",
       "7  0.083553    -0.513244 -1.033548       -1.860936 -1.597044  \n",
       "8 -0.388336     2.055164  0.631401        0.254379 -0.280325  \n",
       "9  0.505143    -0.377836  0.201457        0.254379 -1.624082  "
      ]
     },
     "execution_count": 30,
     "metadata": {},
     "output_type": "execute_result"
    }
   ],
   "source": [
    "tracks.head(n = 10)"
   ]
  },
  {
   "cell_type": "code",
   "execution_count": 31,
   "metadata": {},
   "outputs": [
    {
     "data": {
      "text/html": [
       "<div>\n",
       "<style scoped>\n",
       "    .dataframe tbody tr th:only-of-type {\n",
       "        vertical-align: middle;\n",
       "    }\n",
       "\n",
       "    .dataframe tbody tr th {\n",
       "        vertical-align: top;\n",
       "    }\n",
       "\n",
       "    .dataframe thead th {\n",
       "        text-align: right;\n",
       "    }\n",
       "</style>\n",
       "<table border=\"1\" class=\"dataframe\">\n",
       "  <thead>\n",
       "    <tr style=\"text-align: right;\">\n",
       "      <th></th>\n",
       "      <th>playlist_id</th>\n",
       "      <th>track_id</th>\n",
       "      <th>artist_id</th>\n",
       "      <th>pos</th>\n",
       "      <th>val</th>\n",
       "      <th>val_normalized</th>\n",
       "      <th>popularity</th>\n",
       "      <th>acousticness</th>\n",
       "      <th>danceability</th>\n",
       "      <th>energy</th>\n",
       "      <th>instrumentalness</th>\n",
       "      <th>mode</th>\n",
       "      <th>loudness</th>\n",
       "      <th>speechiness</th>\n",
       "      <th>tempo</th>\n",
       "      <th>time_signature</th>\n",
       "      <th>valence</th>\n",
       "    </tr>\n",
       "  </thead>\n",
       "  <tbody>\n",
       "    <tr>\n",
       "      <th>0</th>\n",
       "      <td>0</td>\n",
       "      <td>476</td>\n",
       "      <td>254</td>\n",
       "      <td>7</td>\n",
       "      <td>1.0</td>\n",
       "      <td>0.138675</td>\n",
       "      <td>6293</td>\n",
       "      <td>-0.847803</td>\n",
       "      <td>1.081450</td>\n",
       "      <td>0.838786</td>\n",
       "      <td>-0.631345</td>\n",
       "      <td>-1.377722</td>\n",
       "      <td>1.355788</td>\n",
       "      <td>-0.045392</td>\n",
       "      <td>0.674064</td>\n",
       "      <td>0.254379</td>\n",
       "      <td>-0.787753</td>\n",
       "    </tr>\n",
       "    <tr>\n",
       "      <th>1</th>\n",
       "      <td>0</td>\n",
       "      <td>370</td>\n",
       "      <td>109</td>\n",
       "      <td>24</td>\n",
       "      <td>1.0</td>\n",
       "      <td>0.138675</td>\n",
       "      <td>5043</td>\n",
       "      <td>-0.998002</td>\n",
       "      <td>1.444471</td>\n",
       "      <td>-0.612127</td>\n",
       "      <td>1.903797</td>\n",
       "      <td>-1.377722</td>\n",
       "      <td>-0.422284</td>\n",
       "      <td>-0.242428</td>\n",
       "      <td>0.000668</td>\n",
       "      <td>0.254379</td>\n",
       "      <td>-1.191473</td>\n",
       "    </tr>\n",
       "    <tr>\n",
       "      <th>2</th>\n",
       "      <td>0</td>\n",
       "      <td>961</td>\n",
       "      <td>295</td>\n",
       "      <td>25</td>\n",
       "      <td>1.0</td>\n",
       "      <td>0.138675</td>\n",
       "      <td>8147</td>\n",
       "      <td>-0.442324</td>\n",
       "      <td>-0.050958</td>\n",
       "      <td>0.327584</td>\n",
       "      <td>-0.631974</td>\n",
       "      <td>0.725836</td>\n",
       "      <td>0.836088</td>\n",
       "      <td>0.206327</td>\n",
       "      <td>0.002572</td>\n",
       "      <td>2.369695</td>\n",
       "      <td>-1.221103</td>\n",
       "    </tr>\n",
       "    <tr>\n",
       "      <th>3</th>\n",
       "      <td>0</td>\n",
       "      <td>1831</td>\n",
       "      <td>838</td>\n",
       "      <td>26</td>\n",
       "      <td>1.0</td>\n",
       "      <td>0.138675</td>\n",
       "      <td>5704</td>\n",
       "      <td>-0.998637</td>\n",
       "      <td>-0.782418</td>\n",
       "      <td>1.391336</td>\n",
       "      <td>-0.234150</td>\n",
       "      <td>-1.377722</td>\n",
       "      <td>0.305723</td>\n",
       "      <td>-0.254580</td>\n",
       "      <td>0.818292</td>\n",
       "      <td>0.254379</td>\n",
       "      <td>-0.324772</td>\n",
       "    </tr>\n",
       "    <tr>\n",
       "      <th>4</th>\n",
       "      <td>0</td>\n",
       "      <td>454</td>\n",
       "      <td>276</td>\n",
       "      <td>27</td>\n",
       "      <td>1.0</td>\n",
       "      <td>0.138675</td>\n",
       "      <td>8822</td>\n",
       "      <td>-0.921449</td>\n",
       "      <td>0.555882</td>\n",
       "      <td>1.233465</td>\n",
       "      <td>-0.631970</td>\n",
       "      <td>-1.377722</td>\n",
       "      <td>1.225507</td>\n",
       "      <td>0.093488</td>\n",
       "      <td>0.267641</td>\n",
       "      <td>0.254379</td>\n",
       "      <td>0.012279</td>\n",
       "    </tr>\n",
       "    <tr>\n",
       "      <th>5</th>\n",
       "      <td>0</td>\n",
       "      <td>1816</td>\n",
       "      <td>836</td>\n",
       "      <td>28</td>\n",
       "      <td>1.0</td>\n",
       "      <td>0.138675</td>\n",
       "      <td>12380</td>\n",
       "      <td>-0.504402</td>\n",
       "      <td>1.216905</td>\n",
       "      <td>0.417796</td>\n",
       "      <td>-0.627080</td>\n",
       "      <td>0.725836</td>\n",
       "      <td>0.533936</td>\n",
       "      <td>-0.479392</td>\n",
       "      <td>-0.659498</td>\n",
       "      <td>0.254379</td>\n",
       "      <td>1.741977</td>\n",
       "    </tr>\n",
       "    <tr>\n",
       "      <th>6</th>\n",
       "      <td>0</td>\n",
       "      <td>376</td>\n",
       "      <td>210</td>\n",
       "      <td>29</td>\n",
       "      <td>1.0</td>\n",
       "      <td>0.138675</td>\n",
       "      <td>9763</td>\n",
       "      <td>-0.999133</td>\n",
       "      <td>0.100752</td>\n",
       "      <td>1.552966</td>\n",
       "      <td>1.594696</td>\n",
       "      <td>0.725836</td>\n",
       "      <td>1.178763</td>\n",
       "      <td>0.060504</td>\n",
       "      <td>-0.166278</td>\n",
       "      <td>0.254379</td>\n",
       "      <td>-1.017392</td>\n",
       "    </tr>\n",
       "    <tr>\n",
       "      <th>7</th>\n",
       "      <td>0</td>\n",
       "      <td>465</td>\n",
       "      <td>282</td>\n",
       "      <td>30</td>\n",
       "      <td>1.0</td>\n",
       "      <td>0.138675</td>\n",
       "      <td>20590</td>\n",
       "      <td>-0.944869</td>\n",
       "      <td>1.195232</td>\n",
       "      <td>0.782404</td>\n",
       "      <td>-0.621957</td>\n",
       "      <td>0.725836</td>\n",
       "      <td>-0.970066</td>\n",
       "      <td>-0.392592</td>\n",
       "      <td>0.214053</td>\n",
       "      <td>0.254379</td>\n",
       "      <td>1.838278</td>\n",
       "    </tr>\n",
       "    <tr>\n",
       "      <th>8</th>\n",
       "      <td>0</td>\n",
       "      <td>9815</td>\n",
       "      <td>3424</td>\n",
       "      <td>31</td>\n",
       "      <td>1.0</td>\n",
       "      <td>0.138675</td>\n",
       "      <td>5546</td>\n",
       "      <td>-1.000910</td>\n",
       "      <td>-0.787836</td>\n",
       "      <td>1.477789</td>\n",
       "      <td>-0.631920</td>\n",
       "      <td>0.725836</td>\n",
       "      <td>1.241681</td>\n",
       "      <td>-0.200764</td>\n",
       "      <td>-0.513266</td>\n",
       "      <td>0.254379</td>\n",
       "      <td>0.382664</td>\n",
       "    </tr>\n",
       "    <tr>\n",
       "      <th>9</th>\n",
       "      <td>0</td>\n",
       "      <td>395</td>\n",
       "      <td>257</td>\n",
       "      <td>32</td>\n",
       "      <td>1.0</td>\n",
       "      <td>0.138675</td>\n",
       "      <td>12997</td>\n",
       "      <td>0.533984</td>\n",
       "      <td>0.198280</td>\n",
       "      <td>-0.484326</td>\n",
       "      <td>-0.605615</td>\n",
       "      <td>0.725836</td>\n",
       "      <td>0.492346</td>\n",
       "      <td>-0.360476</td>\n",
       "      <td>0.731929</td>\n",
       "      <td>0.254379</td>\n",
       "      <td>-0.135875</td>\n",
       "    </tr>\n",
       "  </tbody>\n",
       "</table>\n",
       "</div>"
      ],
      "text/plain": [
       "   playlist_id  track_id  artist_id  pos  val  val_normalized  popularity  \\\n",
       "0            0       476        254    7  1.0        0.138675        6293   \n",
       "1            0       370        109   24  1.0        0.138675        5043   \n",
       "2            0       961        295   25  1.0        0.138675        8147   \n",
       "3            0      1831        838   26  1.0        0.138675        5704   \n",
       "4            0       454        276   27  1.0        0.138675        8822   \n",
       "5            0      1816        836   28  1.0        0.138675       12380   \n",
       "6            0       376        210   29  1.0        0.138675        9763   \n",
       "7            0       465        282   30  1.0        0.138675       20590   \n",
       "8            0      9815       3424   31  1.0        0.138675        5546   \n",
       "9            0       395        257   32  1.0        0.138675       12997   \n",
       "\n",
       "   acousticness  danceability    energy  instrumentalness      mode  loudness  \\\n",
       "0     -0.847803      1.081450  0.838786         -0.631345 -1.377722  1.355788   \n",
       "1     -0.998002      1.444471 -0.612127          1.903797 -1.377722 -0.422284   \n",
       "2     -0.442324     -0.050958  0.327584         -0.631974  0.725836  0.836088   \n",
       "3     -0.998637     -0.782418  1.391336         -0.234150 -1.377722  0.305723   \n",
       "4     -0.921449      0.555882  1.233465         -0.631970 -1.377722  1.225507   \n",
       "5     -0.504402      1.216905  0.417796         -0.627080  0.725836  0.533936   \n",
       "6     -0.999133      0.100752  1.552966          1.594696  0.725836  1.178763   \n",
       "7     -0.944869      1.195232  0.782404         -0.621957  0.725836 -0.970066   \n",
       "8     -1.000910     -0.787836  1.477789         -0.631920  0.725836  1.241681   \n",
       "9      0.533984      0.198280 -0.484326         -0.605615  0.725836  0.492346   \n",
       "\n",
       "   speechiness     tempo  time_signature   valence  \n",
       "0    -0.045392  0.674064        0.254379 -0.787753  \n",
       "1    -0.242428  0.000668        0.254379 -1.191473  \n",
       "2     0.206327  0.002572        2.369695 -1.221103  \n",
       "3    -0.254580  0.818292        0.254379 -0.324772  \n",
       "4     0.093488  0.267641        0.254379  0.012279  \n",
       "5    -0.479392 -0.659498        0.254379  1.741977  \n",
       "6     0.060504 -0.166278        0.254379 -1.017392  \n",
       "7    -0.392592  0.214053        0.254379  1.838278  \n",
       "8    -0.200764 -0.513266        0.254379  0.382664  \n",
       "9    -0.360476  0.731929        0.254379 -0.135875  "
      ]
     },
     "execution_count": 31,
     "metadata": {},
     "output_type": "execute_result"
    }
   ],
   "source": [
    "# compute the profile of each playlist\n",
    "groundtruth_features = pd.merge(groundtruth, tracks, how = 'left', on = 'track_id')\n",
    "groundtruth_features.head(n = 10)"
   ]
  },
  {
   "cell_type": "code",
   "execution_count": 32,
   "metadata": {},
   "outputs": [
    {
     "data": {
      "text/html": [
       "<div>\n",
       "<style scoped>\n",
       "    .dataframe tbody tr th:only-of-type {\n",
       "        vertical-align: middle;\n",
       "    }\n",
       "\n",
       "    .dataframe tbody tr th {\n",
       "        vertical-align: top;\n",
       "    }\n",
       "\n",
       "    .dataframe thead th {\n",
       "        text-align: right;\n",
       "    }\n",
       "</style>\n",
       "<table border=\"1\" class=\"dataframe\">\n",
       "  <thead>\n",
       "    <tr style=\"text-align: right;\">\n",
       "      <th></th>\n",
       "      <th>acousticness</th>\n",
       "      <th>danceability</th>\n",
       "      <th>energy</th>\n",
       "      <th>instrumentalness</th>\n",
       "      <th>mode</th>\n",
       "      <th>loudness</th>\n",
       "      <th>speechiness</th>\n",
       "      <th>tempo</th>\n",
       "      <th>time_signature</th>\n",
       "      <th>valence</th>\n",
       "    </tr>\n",
       "    <tr>\n",
       "      <th>playlist_id</th>\n",
       "      <th></th>\n",
       "      <th></th>\n",
       "      <th></th>\n",
       "      <th></th>\n",
       "      <th></th>\n",
       "      <th></th>\n",
       "      <th></th>\n",
       "      <th></th>\n",
       "      <th></th>\n",
       "      <th></th>\n",
       "    </tr>\n",
       "  </thead>\n",
       "  <tbody>\n",
       "    <tr>\n",
       "      <th>0</th>\n",
       "      <td>0.003124</td>\n",
       "      <td>-0.169951</td>\n",
       "      <td>0.133396</td>\n",
       "      <td>-0.105709</td>\n",
       "      <td>-0.123678</td>\n",
       "      <td>0.114633</td>\n",
       "      <td>0.038019</td>\n",
       "      <td>-0.035124</td>\n",
       "      <td>0.091663</td>\n",
       "      <td>-0.176133</td>\n",
       "    </tr>\n",
       "    <tr>\n",
       "      <th>1</th>\n",
       "      <td>-0.171023</td>\n",
       "      <td>-0.302975</td>\n",
       "      <td>0.302650</td>\n",
       "      <td>-0.010814</td>\n",
       "      <td>-0.083225</td>\n",
       "      <td>0.098173</td>\n",
       "      <td>-0.054250</td>\n",
       "      <td>0.249510</td>\n",
       "      <td>-0.125293</td>\n",
       "      <td>-0.000874</td>\n",
       "    </tr>\n",
       "    <tr>\n",
       "      <th>2</th>\n",
       "      <td>-0.000776</td>\n",
       "      <td>0.218260</td>\n",
       "      <td>0.036556</td>\n",
       "      <td>-0.023574</td>\n",
       "      <td>-0.062999</td>\n",
       "      <td>0.039819</td>\n",
       "      <td>0.169912</td>\n",
       "      <td>-0.180629</td>\n",
       "      <td>-0.010035</td>\n",
       "      <td>0.105448</td>\n",
       "    </tr>\n",
       "    <tr>\n",
       "      <th>3</th>\n",
       "      <td>-0.041617</td>\n",
       "      <td>-0.130331</td>\n",
       "      <td>0.087979</td>\n",
       "      <td>0.001746</td>\n",
       "      <td>-0.042130</td>\n",
       "      <td>0.041428</td>\n",
       "      <td>-0.129285</td>\n",
       "      <td>0.050481</td>\n",
       "      <td>0.052921</td>\n",
       "      <td>0.078978</td>\n",
       "    </tr>\n",
       "    <tr>\n",
       "      <th>4</th>\n",
       "      <td>-0.309401</td>\n",
       "      <td>-0.315654</td>\n",
       "      <td>0.080805</td>\n",
       "      <td>0.186647</td>\n",
       "      <td>-0.387813</td>\n",
       "      <td>-0.240387</td>\n",
       "      <td>-0.066633</td>\n",
       "      <td>-0.047720</td>\n",
       "      <td>0.005519</td>\n",
       "      <td>0.007856</td>\n",
       "    </tr>\n",
       "  </tbody>\n",
       "</table>\n",
       "</div>"
      ],
      "text/plain": [
       "             acousticness  danceability    energy  instrumentalness      mode  \\\n",
       "playlist_id                                                                     \n",
       "0                0.003124     -0.169951  0.133396         -0.105709 -0.123678   \n",
       "1               -0.171023     -0.302975  0.302650         -0.010814 -0.083225   \n",
       "2               -0.000776      0.218260  0.036556         -0.023574 -0.062999   \n",
       "3               -0.041617     -0.130331  0.087979          0.001746 -0.042130   \n",
       "4               -0.309401     -0.315654  0.080805          0.186647 -0.387813   \n",
       "\n",
       "             loudness  speechiness     tempo  time_signature   valence  \n",
       "playlist_id                                                             \n",
       "0            0.114633     0.038019 -0.035124        0.091663 -0.176133  \n",
       "1            0.098173    -0.054250  0.249510       -0.125293 -0.000874  \n",
       "2            0.039819     0.169912 -0.180629       -0.010035  0.105448  \n",
       "3            0.041428    -0.129285  0.050481        0.052921  0.078978  \n",
       "4           -0.240387    -0.066633 -0.047720        0.005519  0.007856  "
      ]
     },
     "execution_count": 32,
     "metadata": {},
     "output_type": "execute_result"
    }
   ],
   "source": [
    "groundtruth_features.drop(columns=['track_id', 'artist_id', 'pos', 'val', 'val_normalized', 'popularity'], inplace=True)\n",
    "\n",
    "# compute the mean of each feature\n",
    "playlist_profiles = groundtruth_features[groundtruth_features['playlist_id'].isin(train_ids)].groupby('playlist_id').mean() \n",
    "playlist_profiles.head()"
   ]
  },
  {
   "cell_type": "code",
   "execution_count": 33,
   "metadata": {},
   "outputs": [
    {
     "data": {
      "text/html": [
       "<div>\n",
       "<style scoped>\n",
       "    .dataframe tbody tr th:only-of-type {\n",
       "        vertical-align: middle;\n",
       "    }\n",
       "\n",
       "    .dataframe tbody tr th {\n",
       "        vertical-align: top;\n",
       "    }\n",
       "\n",
       "    .dataframe thead th {\n",
       "        text-align: right;\n",
       "    }\n",
       "</style>\n",
       "<table border=\"1\" class=\"dataframe\">\n",
       "  <thead>\n",
       "    <tr style=\"text-align: right;\">\n",
       "      <th></th>\n",
       "      <th>acousticness</th>\n",
       "      <th>danceability</th>\n",
       "      <th>energy</th>\n",
       "      <th>instrumentalness</th>\n",
       "      <th>mode</th>\n",
       "      <th>loudness</th>\n",
       "      <th>speechiness</th>\n",
       "      <th>tempo</th>\n",
       "      <th>time_signature</th>\n",
       "      <th>valence</th>\n",
       "    </tr>\n",
       "    <tr>\n",
       "      <th>playlist_id</th>\n",
       "      <th></th>\n",
       "      <th></th>\n",
       "      <th></th>\n",
       "      <th></th>\n",
       "      <th></th>\n",
       "      <th></th>\n",
       "      <th></th>\n",
       "      <th></th>\n",
       "      <th></th>\n",
       "      <th></th>\n",
       "    </tr>\n",
       "  </thead>\n",
       "  <tbody>\n",
       "    <tr>\n",
       "      <th>0</th>\n",
       "      <td>0.008719</td>\n",
       "      <td>-0.474281</td>\n",
       "      <td>0.372269</td>\n",
       "      <td>-0.295001</td>\n",
       "      <td>-0.345148</td>\n",
       "      <td>0.319906</td>\n",
       "      <td>0.106100</td>\n",
       "      <td>-0.098020</td>\n",
       "      <td>0.255802</td>\n",
       "      <td>-0.491534</td>\n",
       "    </tr>\n",
       "    <tr>\n",
       "      <th>1</th>\n",
       "      <td>-0.307058</td>\n",
       "      <td>-0.543967</td>\n",
       "      <td>0.543384</td>\n",
       "      <td>-0.019415</td>\n",
       "      <td>-0.149424</td>\n",
       "      <td>0.176262</td>\n",
       "      <td>-0.097402</td>\n",
       "      <td>0.447975</td>\n",
       "      <td>-0.224953</td>\n",
       "      <td>-0.001570</td>\n",
       "    </tr>\n",
       "    <tr>\n",
       "      <th>2</th>\n",
       "      <td>-0.002171</td>\n",
       "      <td>0.610528</td>\n",
       "      <td>0.102255</td>\n",
       "      <td>-0.065942</td>\n",
       "      <td>-0.176223</td>\n",
       "      <td>0.111384</td>\n",
       "      <td>0.475288</td>\n",
       "      <td>-0.505266</td>\n",
       "      <td>-0.028071</td>\n",
       "      <td>0.294966</td>\n",
       "    </tr>\n",
       "    <tr>\n",
       "      <th>3</th>\n",
       "      <td>-0.172430</td>\n",
       "      <td>-0.539990</td>\n",
       "      <td>0.364515</td>\n",
       "      <td>0.007233</td>\n",
       "      <td>-0.174554</td>\n",
       "      <td>0.171646</td>\n",
       "      <td>-0.535657</td>\n",
       "      <td>0.209155</td>\n",
       "      <td>0.219262</td>\n",
       "      <td>0.327222</td>\n",
       "    </tr>\n",
       "    <tr>\n",
       "      <th>4</th>\n",
       "      <td>-0.460345</td>\n",
       "      <td>-0.469649</td>\n",
       "      <td>0.120226</td>\n",
       "      <td>0.277705</td>\n",
       "      <td>-0.577011</td>\n",
       "      <td>-0.357662</td>\n",
       "      <td>-0.099140</td>\n",
       "      <td>-0.071001</td>\n",
       "      <td>0.008211</td>\n",
       "      <td>0.011689</td>\n",
       "    </tr>\n",
       "  </tbody>\n",
       "</table>\n",
       "</div>"
      ],
      "text/plain": [
       "             acousticness  danceability    energy  instrumentalness      mode  \\\n",
       "playlist_id                                                                     \n",
       "0                0.008719     -0.474281  0.372269         -0.295001 -0.345148   \n",
       "1               -0.307058     -0.543967  0.543384         -0.019415 -0.149424   \n",
       "2               -0.002171      0.610528  0.102255         -0.065942 -0.176223   \n",
       "3               -0.172430     -0.539990  0.364515          0.007233 -0.174554   \n",
       "4               -0.460345     -0.469649  0.120226          0.277705 -0.577011   \n",
       "\n",
       "             loudness  speechiness     tempo  time_signature   valence  \n",
       "playlist_id                                                             \n",
       "0            0.319906     0.106100 -0.098020        0.255802 -0.491534  \n",
       "1            0.176262    -0.097402  0.447975       -0.224953 -0.001570  \n",
       "2            0.111384     0.475288 -0.505266       -0.028071  0.294966  \n",
       "3            0.171646    -0.535657  0.209155        0.219262  0.327222  \n",
       "4           -0.357662    -0.099140 -0.071001        0.008211  0.011689  "
      ]
     },
     "execution_count": 33,
     "metadata": {},
     "output_type": "execute_result"
    }
   ],
   "source": [
    "# normalize each entry by its norm-2\n",
    "playlist_profiles = playlist_profiles.div(np.linalg.norm(playlist_profiles, axis = 1), axis = 0)\n",
    "playlist_profiles.head()"
   ]
  },
  {
   "cell_type": "code",
   "execution_count": 34,
   "metadata": {},
   "outputs": [],
   "source": [
    "# for each playlist_id, get 500 track recommendations (that are not already in the dataset)\n",
    "def get_recommendations_hybrid(pids, playlist_profiles, train_matrix, test_df, rho, knn_K, w1, w2):\n",
    "    recommendations = []\n",
    "    for i, pid in enumerate(pids):\n",
    "        # form the playlist vector\n",
    "        playlist_tracks = test_df[(test_df.playlist_id == pid)]\n",
    "        playlist_vec = np.zeros([num_tracks, 1])\n",
    "        playlist_vec[playlist_tracks.track_id.values] = playlist_tracks[['val_normalized']].values / ((playlist_tracks[['popularity']].values - 1)**(rho) + 1)\n",
    "\n",
    "        # compute the playlist profile and normalize\n",
    "        tracks_ids = test_df[test_df['playlist_id'] == pid].track_id.values\n",
    "        playlist_profile = tracks[tracks['track_id'].isin(tracks_ids)].drop(columns='track_id').mean()\n",
    "        playlist_profile = playlist_profile / np.linalg.norm(playlist_profile)\n",
    "\n",
    "        # get the similarities between playlist pid and every other playlist\n",
    "        similarities = w1 * train_matrix.dot(playlist_vec) + w2 * playlist_profiles.dot(playlist_profile).to_numpy().reshape(-1, 1)\n",
    "\n",
    "        # get knn_K most similar playlists\n",
    "        k_similar_playlists = similarities.reshape(-1).argsort()[-knn_K:][::-1]\n",
    "        \n",
    "        # get the similarity values\n",
    "        similarity_values = similarities[k_similar_playlists]\n",
    "        \n",
    "        # get the predicted relevance of each song for the particular playlist\n",
    "        predicted_relevance = train_matrix[k_similar_playlists, :].T.dot(similarity_values)\n",
    "\n",
    "        # get the top 500 tracks that are not already in the playlist\n",
    "        predicted_relevant_song_ids = predicted_relevance.reshape(-1).argsort()[-(500  + 25):][::-1]\n",
    "        predicted_relevant_song_ids = predicted_relevant_song_ids[np.isin(predicted_relevant_song_ids, playlist_tracks.track_id) == False][:500]\n",
    "\n",
    "        # append the recommendations to a dataframe\n",
    "        recommendations.append(pd.DataFrame(\n",
    "            {'playlist_id': np.repeat(pid, 500),\n",
    "             'track_id': predicted_relevant_song_ids}\n",
    "        ))\n",
    "\n",
    "    # return the recommendations\n",
    "    rcmds = pd.concat(recommendations, axis = 0)\n",
    "    return rcmds"
   ]
  },
  {
   "attachments": {},
   "cell_type": "markdown",
   "metadata": {},
   "source": [
    "#### Hyperparameter tuning (training)"
   ]
  },
  {
   "cell_type": "code",
   "execution_count": 36,
   "metadata": {},
   "outputs": [
    {
     "name": "stdout",
     "output_type": "stream",
     "text": [
      "R_precision for knn_K = 500, rho = 0.3, w1 = 0.0, w2 = 1.0: 0.021449264681776718\n",
      "R_precision for knn_K = 500, rho = 0.3, w1 = 1.0, w2 = 0.0: 0.17065032917363812\n",
      "R_precision for knn_K = 500, rho = 0.3, w1 = 1.0, w2 = 0.5: 0.025522869836119667\n",
      "R_precision for knn_K = 500, rho = 0.3, w1 = 1.0, w2 = 1.0: 0.02295708978558107\n",
      "R_precision for knn_K = 500, rho = 0.3, w1 = 1.0, w2 = 2.0: 0.02234637595900555\n"
     ]
    }
   ],
   "source": [
    "import multiprocessing\n",
    "from functools import partial\n",
    "\n",
    "NUM_THREADS = 32\n",
    "\n",
    "ids = val_df['playlist_id'].unique()\n",
    "\n",
    "best_params_knn = {}\n",
    "best_params_knn['knn_k'] = 500\n",
    "best_params_knn['rho'] = 0.3\n",
    "\n",
    "best_w1 = None\n",
    "best_w2 = None\n",
    "best_r_precision_hybrid = -np.Inf\n",
    "w1 = [0.0, 1.0]\n",
    "w2 = [0.0, 0.5, 1.0, 2.0]\n",
    "\n",
    "results = {}\n",
    "results['w1'] = []\n",
    "results['w2'] = []\n",
    "results['r_precision'] = []\n",
    "\n",
    "pool = multiprocessing.Pool(processes = NUM_THREADS)\n",
    "\n",
    "for weight1 in w1:\n",
    "    for weight2 in w2:\n",
    "        if weight1 == 0 and weight2 != 1.0:\n",
    "            continue\n",
    "\n",
    "        func = partial(get_recommendations_hybrid, playlist_profiles = playlist_profiles, train_matrix = train_sparse_matrix_normalized, \n",
    "                    test_df = val_df, rho = best_params_knn['rho'], knn_K = best_params_knn['knn_k'], w1 = weight1, w2 = weight2)\n",
    "        recs_hybrid = list(pool.map(func, np.array_split(ids, NUM_THREADS)))\n",
    "        recs_hybrid = pd.concat([r for r in recs_hybrid], axis = 0);\n",
    "        func = partial(r_prec, df = val_df, groundtruth = groundtruth, recs = recs_hybrid)\n",
    "        r_precision = sum(list(pool.map(func, np.array_split(ids, NUM_THREADS)))) / len(ids)\n",
    "        \n",
    "        print('R_precision for knn_K = {}, rho = {}, w1 = {}, w2 = {}: {}'.format(best_params_knn['knn_k'], best_params_knn['rho'], weight1, weight2, r_precision))\n",
    "\n",
    "        if r_precision > best_r_precision_hybrid:\n",
    "            best_w1 = weight1\n",
    "            best_w2 = weight2\n",
    "            best_r_precision_hybrid = r_precision\n",
    "\n",
    "        results['w1'].append(weight1)\n",
    "        results['w2'].append(weight2)\n",
    "        results['r_precision'].append(r_precision)\n",
    "\n",
    "pool.close()"
   ]
  },
  {
   "attachments": {},
   "cell_type": "markdown",
   "metadata": {},
   "source": [
    "#### Evaluation on the testing dataset"
   ]
  },
  {
   "cell_type": "code",
   "execution_count": 37,
   "metadata": {},
   "outputs": [
    {
     "name": "stdout",
     "output_type": "stream",
     "text": [
      "R_precision on testing set for knn_K = 500, rho = 0.3, w1 = 1.0, w2 = 0.0: 0.16304109859204638\n"
     ]
    }
   ],
   "source": [
    "ids = test_df['playlist_id'].unique()\n",
    "\n",
    "pool = multiprocessing.Pool(processes = NUM_THREADS)\n",
    "func = partial(get_recommendations_hybrid, playlist_profiles = playlist_profiles, train_matrix = train_sparse_matrix_normalized, test_df = test_df, \n",
    "               rho = best_params_knn['rho'], knn_K = best_params_knn['knn_k'], w1 = best_w1, w2 = best_w2)\n",
    "recs_hybrid = list(pool.map(func, np.array_split(ids, NUM_THREADS)))\n",
    "recs_hybrid = pd.concat([r for r in recs_hybrid], axis = 0);\n",
    "\n",
    "func = partial(r_prec, df = test_df, groundtruth = groundtruth, recs = recs_hybrid)\n",
    "r_precision = sum(list(pool.map(func, np.array_split(ids, NUM_THREADS)))) / len(ids)\n",
    "pool.close()\n",
    "print('R_precision on testing set for knn_K = {}, rho = {}, w1 = {}, w2 = {}: {}'.format(best_params_knn['knn_k'], best_params_knn['rho'], best_w1, best_w2, r_precision))"
   ]
  },
  {
   "cell_type": "code",
   "execution_count": 39,
   "metadata": {},
   "outputs": [
    {
     "data": {
      "text/html": [
       "<div>\n",
       "<style scoped>\n",
       "    .dataframe tbody tr th:only-of-type {\n",
       "        vertical-align: middle;\n",
       "    }\n",
       "\n",
       "    .dataframe tbody tr th {\n",
       "        vertical-align: top;\n",
       "    }\n",
       "\n",
       "    .dataframe thead th {\n",
       "        text-align: right;\n",
       "    }\n",
       "</style>\n",
       "<table border=\"1\" class=\"dataframe\">\n",
       "  <thead>\n",
       "    <tr style=\"text-align: right;\">\n",
       "      <th></th>\n",
       "      <th>w1</th>\n",
       "      <th>w2</th>\n",
       "      <th>r_precision</th>\n",
       "    </tr>\n",
       "  </thead>\n",
       "  <tbody>\n",
       "    <tr>\n",
       "      <th>0</th>\n",
       "      <td>0.0</td>\n",
       "      <td>1.0</td>\n",
       "      <td>0.021449</td>\n",
       "    </tr>\n",
       "    <tr>\n",
       "      <th>1</th>\n",
       "      <td>1.0</td>\n",
       "      <td>0.0</td>\n",
       "      <td>0.170650</td>\n",
       "    </tr>\n",
       "    <tr>\n",
       "      <th>2</th>\n",
       "      <td>1.0</td>\n",
       "      <td>0.5</td>\n",
       "      <td>0.025523</td>\n",
       "    </tr>\n",
       "    <tr>\n",
       "      <th>3</th>\n",
       "      <td>1.0</td>\n",
       "      <td>1.0</td>\n",
       "      <td>0.022957</td>\n",
       "    </tr>\n",
       "    <tr>\n",
       "      <th>4</th>\n",
       "      <td>1.0</td>\n",
       "      <td>2.0</td>\n",
       "      <td>0.022346</td>\n",
       "    </tr>\n",
       "  </tbody>\n",
       "</table>\n",
       "</div>"
      ],
      "text/plain": [
       "    w1   w2  r_precision\n",
       "0  0.0  1.0     0.021449\n",
       "1  1.0  0.0     0.170650\n",
       "2  1.0  0.5     0.025523\n",
       "3  1.0  1.0     0.022957\n",
       "4  1.0  2.0     0.022346"
      ]
     },
     "execution_count": 39,
     "metadata": {},
     "output_type": "execute_result"
    }
   ],
   "source": [
    "results_hybrid = results\n",
    "results_hybrid_df = pd.DataFrame(results_hybrid)\n",
    "results_hybrid_df.head()"
   ]
  },
  {
   "cell_type": "code",
   "execution_count": 71,
   "metadata": {},
   "outputs": [
    {
     "data": {
      "image/png": "[encoded data removed]",
      "text/plain": [
       "<Figure size 559.125x400 with 1 Axes>"
      ]
     },
     "metadata": {},
     "output_type": "display_data"
    }
   ],
   "source": [
    "import matplotlib.pyplot as plt\n",
    "\n",
    "g = sns.catplot(\n",
    "    data=results_hybrid_df, y=\"r_precision\", hue=\"w2\", x = \"w1\", palette=sns.color_palette(\"husl\", 4),\n",
    "    kind=\"bar\", height=4, aspect=1.2, errorbar=None,\n",
    ")\n",
    "\n",
    "g.set_xlabels(r'$w_1$')\n",
    "g._legend.set_title(r'$w_2$')\n",
    "g.set_ylabels('R precision');\n",
    "plt.title(r'R Precision vs $w_1$ and $w_2$');"
   ]
  }
 ],
 "metadata": {
  "kernelspec": {
   "display_name": "autify",
   "language": "python",
   "name": "python3"
  },
  "language_info": {
   "codemirror_mode": {
    "name": "ipython",
    "version": 3
   },
   "file_extension": ".py",
   "mimetype": "text/x-python",
   "name": "python",
   "nbconvert_exporter": "python",
   "pygments_lexer": "ipython3",
   "version": "3.11.5"
  },
  "orig_nbformat": 4
 },
 "nbformat": 4,
 "nbformat_minor": 2
}
